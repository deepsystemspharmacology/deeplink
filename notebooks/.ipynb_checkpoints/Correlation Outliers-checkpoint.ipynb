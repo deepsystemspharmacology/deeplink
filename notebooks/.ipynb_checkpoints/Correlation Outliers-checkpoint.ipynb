{
 "cells": [
  {
   "cell_type": "code",
   "execution_count": 53,
   "metadata": {},
   "outputs": [],
   "source": [
    "import os\n",
    "import sys\n",
    "import csv\n",
    "import gzip\n",
    "import tqdm\n",
    "\n",
    "import scipy.stats as stats\n",
    "\n",
    "import seaborn as sns\n",
    "import matplotlib.pyplot as plt\n",
    "\n",
    "from collections import defaultdict\n",
    "\n",
    "%matplotlib inline"
   ]
  },
  {
   "cell_type": "markdown",
   "metadata": {},
   "source": [
    "Run Correlations\n",
    "==\n",
    "\n",
    "The correlations should be run using a multiprocessing server. There are scripts in src to run that analysis. After that is complete then this script will load and analyze those results"
   ]
  },
  {
   "cell_type": "code",
   "execution_count": 36,
   "metadata": {},
   "outputs": [
    {
     "name": "stdout",
     "output_type": "stream",
     "text": [
      "event_means_correlations_0_10.txt.gz\r\n"
     ]
    }
   ],
   "source": [
    "ls ../results/"
   ]
  },
  {
   "cell_type": "code",
   "execution_count": 38,
   "metadata": {},
   "outputs": [
    {
     "name": "stderr",
     "output_type": "stream",
     "text": [
      " 39%|███▉      | 717297/1823955 [00:07<00:11, 97879.01it/s]Exception KeyError: KeyError(<weakref at 0x11a31f310; to 'tqdm' at 0x234c3cf90>,) in <object repr() failed> ignored\n",
      "100%|█████████▉| 1823954/1823955 [00:18<00:00, 98707.70it/s]\n"
     ]
    },
    {
     "data": {
      "text/plain": [
       "(10437, 1332)"
      ]
     },
     "execution_count": 38,
     "metadata": {},
     "output_type": "execute_result"
    }
   ],
   "source": [
    "fn = '../data/project_aers_10q4.pred_drug_events_e5.txt.gz'\n",
    "wcres = !gzcat $fn | wc -l\n",
    "nlines = int(wcres[0])\n",
    "reader = csv.reader(gzip.open(fn), delimiter='\\t')\n",
    "header = reader.next()\n",
    "#print header\n",
    "\n",
    "drugs = set()\n",
    "events = set()\n",
    "\n",
    "means = defaultdict(dict)\n",
    "\n",
    "for row in tqdm.tqdm(reader, total=nlines):\n",
    "    data = dict(zip(header, row))\n",
    "    drugs.add(data['stitch_id'])\n",
    "    events.add(data['umls_id'])\n",
    "    means[data['umls_id']][data['stitch_id']]= float(data['drug_mean'])\n",
    "\n",
    "events = sorted(events)\n",
    "drugs = sorted(drugs)\n",
    "\n",
    "len(events), len(drugs)"
   ]
  },
  {
   "cell_type": "code",
   "execution_count": 43,
   "metadata": {},
   "outputs": [
    {
     "name": "stderr",
     "output_type": "stream",
     "text": [
      "2633379it [00:13, 189207.73it/s]\n"
     ]
    }
   ],
   "source": [
    "# Load the correlations from file\n",
    "fn = '../results/event_means_correlations_0_347.txt.gz'\n",
    "reader = csv.reader(gzip.open(fn), delimiter='\\t')\n",
    "\n",
    "correlations = dict()\n",
    "\n",
    "for e1, e2, r, p, n in tqdm.tqdm(reader):\n",
    "    if e1 == 'umls_id1':\n",
    "        # header row\n",
    "        continue\n",
    "    correlations[(e1,e2)] = (float(r), float(p), int(n))"
   ]
  },
  {
   "cell_type": "code",
   "execution_count": 60,
   "metadata": {},
   "outputs": [
    {
     "data": {
      "image/png": "[encoded data removed]",
      "text/plain": [
       "<Figure size 432x288 with 1 Axes>"
      ]
     },
     "metadata": {},
     "output_type": "display_data"
    }
   ],
   "source": [
    "rs, ps, ns = zip(*correlations.values())\n",
    "sns.set(style='ticks', font_scale=1.2)\n",
    "plt.hist(rs, bins=50, color='k')\n",
    "sns.despine()"
   ]
  },
  {
   "cell_type": "code",
   "execution_count": 62,
   "metadata": {},
   "outputs": [
    {
     "data": {
      "image/png": "[encoded data removed]",
      "text/plain": [
       "<Figure size 432x288 with 1 Axes>"
      ]
     },
     "metadata": {},
     "output_type": "display_data"
    }
   ],
   "source": [
    "rs, ps, ns = zip(*[(r, p, n) for r, p, n in correlations.values() if n >= 10])\n",
    "sns.set(style='ticks', font_scale=1.2)\n",
    "plt.hist(rs, bins=50, color='k')\n",
    "sns.despine()"
   ]
  },
  {
   "cell_type": "code",
   "execution_count": null,
   "metadata": {},
   "outputs": [],
   "source": []
  }
 ],
 "metadata": {
  "kernelspec": {
   "display_name": "Python 2",
   "language": "python",
   "name": "python2"
  },
  "language_info": {
   "codemirror_mode": {
    "name": "ipython",
    "version": 2
   },
   "file_extension": ".py",
   "mimetype": "text/x-python",
   "name": "python",
   "nbconvert_exporter": "python",
   "pygments_lexer": "ipython2",
   "version": "2.7.14"
  }
 },
 "nbformat": 4,
 "nbformat_minor": 2
}
