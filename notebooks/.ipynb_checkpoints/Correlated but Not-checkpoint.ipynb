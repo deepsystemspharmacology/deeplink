{
 "cells": [
  {
   "cell_type": "code",
   "execution_count": 9,
   "metadata": {},
   "outputs": [],
   "source": [
    "import os\n",
    "import sys\n",
    "import csv\n",
    "import gzip\n",
    "import tqdm\n",
    "\n",
    "import scipy.stats as stats\n",
    "\n",
    "from collections import defaultdict"
   ]
  },
  {
   "cell_type": "code",
   "execution_count": 2,
   "metadata": {},
   "outputs": [
    {
     "name": "stdout",
     "output_type": "stream",
     "text": [
      "drugReactionCounts.csv.gz\r\n",
      "drugpairList.csv\r\n",
      "drugpairReactionCounts.csv.gz\r\n",
      "drugpairs.csv.gz\r\n",
      "effect_sider.txt.gz\r\n",
      "ingredientList.csv\r\n",
      "omop_reference_effects.csv\r\n",
      "project_aers_10q4.pred_drug_events_e5.txt.gz\r\n",
      "reactionList.csv\r\n",
      "stitch_to_rxnorm.csv\r\n"
     ]
    }
   ],
   "source": [
    "ls ../data/"
   ]
  },
  {
   "cell_type": "code",
   "execution_count": null,
   "metadata": {},
   "outputs": [
    {
     "name": "stderr",
     "output_type": "stream",
     "text": [
      " 14%|█▍        | 252442/1823955 [00:02<00:15, 99821.86it/s] "
     ]
    }
   ],
   "source": [
    "fh = '../data/project_aers_10q4.pred_drug_events_e5.txt.gz'\n",
    "wcres = !gzcat $fh | wc -l\n",
    "nlines = int(wcres[0])\n",
    "reader = csv.reader(gzip.open(fh), delimiter='\\t')\n",
    "header = reader.next()\n",
    "#print header\n",
    "\n",
    "drugs = set()\n",
    "events = set()\n",
    "\n",
    "means = defaultdict(dict)\n",
    "\n",
    "for row in tqdm.tqdm(reader, total=nlines):\n",
    "    data = dict(zip(header, row))\n",
    "    drugs.add(data['stitch_id'])\n",
    "    events.add(data['umls_id'])\n",
    "    means[data['umls_id']][data['stitch_id']]= float(data['drug_mean'])"
   ]
  },
  {
   "cell_type": "code",
   "execution_count": null,
   "metadata": {},
   "outputs": [],
   "source": []
  },
  {
   "cell_type": "code",
   "execution_count": null,
   "metadata": {},
   "outputs": [],
   "source": []
  }
 ],
 "metadata": {
  "kernelspec": {
   "display_name": "Python 2",
   "language": "python",
   "name": "python2"
  },
  "language_info": {
   "codemirror_mode": {
    "name": "ipython",
    "version": 2
   },
   "file_extension": ".py",
   "mimetype": "text/x-python",
   "name": "python",
   "nbconvert_exporter": "python",
   "pygments_lexer": "ipython2",
   "version": "2.7.14"
  }
 },
 "nbformat": 4,
 "nbformat_minor": 2
}
