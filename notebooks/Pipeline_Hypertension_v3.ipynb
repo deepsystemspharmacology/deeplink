{
 "cells": [
  {
   "cell_type": "markdown",
   "metadata": {
    "collapsed": true
   },
   "source": [
    "# Adverse Events DDIs discovery pipeline\n",
    "\n",
    "Steps to build the pipeline:\n",
    "1. Useful functions for the pipeline (mapping, retrieving data from web apis...)\n",
    "2. Find positive and negative controls for the AE of interest\n",
    "3. Retrieve adverse event report data for these and a set of control drugs\n",
    "4. Build the training and testing frequency tables\n",
    "5. Features reduction to avoid overfitting\n",
    "6. Drugpair predictions\n",
    "7. Corroboration using OHDSI data"
   ]
  },
  {
   "cell_type": "code",
   "execution_count": 1,
   "metadata": {
    "collapsed": true
   },
   "outputs": [],
   "source": [
    "import csv\n",
    "import gzip\n",
    "import tqdm\n",
    "import json\n",
    "import heapq\n",
    "import random\n",
    "import urllib2\n",
    "\n",
    "import requests\n",
    "import itertools\n",
    "\n",
    "import numpy as np\n",
    "import seaborn as sns\n",
    "import matplotlib.pyplot as plt\n",
    "\n",
    "from tqdm import tqdm\n",
    "from scipy import stats\n",
    "from collections import defaultdict\n",
    "from biothings_client import get_client\n",
    "\n",
    "from sklearn.linear_model import Lasso\n",
    "from sklearn.model_selection import cross_val_score\n",
    "from sklearn.model_selection import ShuffleSplit\n",
    "from sklearn import svm\n",
    "\n",
    "from sklearn.ensemble import RandomForestClassifier\n",
    "from sklearn.metrics import roc_auc_score, roc_curve, auc\n",
    "from urllib2 import Request, urlopen, URLError, build_opener\n",
    "from json import JSONEncoder\n",
    "\n",
    "%matplotlib inline"
   ]
  },
  {
   "cell_type": "code",
   "execution_count": 2,
   "metadata": {
    "collapsed": true
   },
   "outputs": [],
   "source": [
    "#from import_notebook import *\n",
    "#sys.meta_path.append(NotebookFinder())\n",
    "#import OHDSI_API_data_ as ohdsi"
   ]
  },
  {
   "cell_type": "markdown",
   "metadata": {},
   "source": [
    "## Needed functions"
   ]
  },
  {
   "cell_type": "code",
   "execution_count": 3,
   "metadata": {
    "collapsed": true
   },
   "outputs": [],
   "source": [
    "ADVERSE_EVENT_OF_INTEREST = 'hypertension'\n",
    "\n",
    "# Soon to be replaced by a nsides API call\n",
    "AE_LIST = ['hypertension', 'hypoglycemia']"
   ]
  },
  {
   "cell_type": "code",
   "execution_count": 4,
   "metadata": {
    "collapsed": true
   },
   "outputs": [],
   "source": [
    "# Authentication module\n",
    "# Instructions at https://documentation.uts.nlm.nih.gov/rest/home.html\n",
    "\n",
    "def get_tgt(apikey):\n",
    "    \"\"\"\n",
    "    get the tgt corresponding to the apikey\n",
    "    \"\"\"\n",
    "    tgt = requests.post(\"https://utslogin.nlm.nih.gov/cas/v1/api-key\", data = {'apikey':apikey})\n",
    "    TGT = tgt.content.split()[20]\n",
    "    TGT = TGT[52:+len(TGT)-1]\n",
    "    return TGT\n",
    "\n",
    "def get_ticket(tgt):\n",
    "    \"\"\"\n",
    "    get a ticket corresponding to the tgt\n",
    "    \"\"\"\n",
    "    uri_login = \"https://utslogin.nlm.nih.gov/cas/v1/tickets/\" + tgt\n",
    "    ticket = requests.post(uri_login, data = {'service':'http://umlsks.nlm.nih.gov'})\n",
    "    return ticket.content\n"
   ]
  },
  {
   "cell_type": "code",
   "execution_count": 5,
   "metadata": {
    "collapsed": true
   },
   "outputs": [],
   "source": [
    "def AEtoCUI(aeName):\n",
    "    \"Converts AE name to UMLS CUIs\"\n",
    "    cuis = []\n",
    "    apikey = \"6fd08e99-cb99-48be-937c-bbaa5205fd44\"\n",
    "    \n",
    "    tgt = get_tgt(apikey)\n",
    "    ticket = get_ticket(tgt)\n",
    "    \n",
    "    query = {'ticket':ticket}\n",
    "    uri = \"https://uts-ws.nlm.nih.gov/rest/search/current?string=\" + aeName\n",
    "    r = requests.get(uri, params = query)\n",
    "    r.encoding = 'utf-8'\n",
    "    items  = json.loads(r.text)\n",
    "    \n",
    "    jsonData = items[\"result\"]\n",
    "    for s in jsonData['results']:\n",
    "        cuis.append(s['ui'])\n",
    "    return cuis"
   ]
  },
  {
   "cell_type": "code",
   "execution_count": 6,
   "metadata": {
    "collapsed": true
   },
   "outputs": [],
   "source": [
    "def nsides_api(service, method, args = None):\n",
    "    \"\"\"\n",
    "    Simple python API to access the NSIDES services and data.\n",
    "    \n",
    "    service   string, that can be one of three values: aeolus, sider, or omop\n",
    "    method    string, for a list of methods see http://nsideseb-env.us-east-1.elasticbeanstalk.com\n",
    "    args      dictionary, method parameters see http://nsideseb-env.us-east-1.elasticbeanstalk.com\n",
    "    \"\"\"\n",
    "    NSIDES_API_URL = 'http://nsideseb-env.us-east-1.elasticbeanstalk.com/api/v1/'\n",
    "    \n",
    "    base_url = NSIDES_API_URL + 'query?service=%s&meta=%s' % (service, method)\n",
    "    url = base_url\n",
    "    if not args is None:\n",
    "        url = base_url + '&' + '&'.join(['%s=%s' % (k,v) for k,v in args.items()])\n",
    "    print url\n",
    "    \n",
    "    response = urllib2.urlopen(url).read()\n",
    "    data = json.loads(response)\n",
    "    \n",
    "    return data"
   ]
  },
  {
   "cell_type": "code",
   "execution_count": 7,
   "metadata": {},
   "outputs": [
    {
     "name": "stdout",
     "output_type": "stream",
     "text": [
      "acarbose\n"
     ]
    }
   ],
   "source": [
    "def stitch_api(id):\n",
    "    \"\"\"\n",
    "    Function to access STITCH data\n",
    "    id : stitch id (string)\n",
    "    returns drug rxnorm\n",
    "    \"\"\"\n",
    "    STITCH_API_URL = 'http://stitch.embl.de/api/json/'\n",
    "    request = 'resolve?identifier=%s' %(id)\n",
    "    \n",
    "    url = STITCH_API_URL + request\n",
    "    \n",
    "    response = urllib2.urlopen(url).read()\n",
    "    data = json.loads(response)\n",
    "    \n",
    "    return data\n",
    "    \n",
    "data = stitch_api('CID000041774')\n",
    "print data[0]['preferredName']"
   ]
  },
  {
   "cell_type": "code",
   "execution_count": 8,
   "metadata": {},
   "outputs": [
    {
     "name": "stdout",
     "output_type": "stream",
     "text": [
      "[u'14845']\n"
     ]
    }
   ],
   "source": [
    "def annotator(text, ontologies):\n",
    "    REST_URL = \"http://data.bioontology.org\"\n",
    "    API_KEY = 'b55cf758-dbd3-4959-a9c0-2e6bba5b5d8b'\n",
    "    url = REST_URL + \"/annotator?text=\" + urllib2.quote(text) + \"&ontologies=\" + ','.join(ontologies)\n",
    "    opener = urllib2.build_opener()\n",
    "    opener.addheaders = [('Authorization', 'apikey token=' + API_KEY)]\n",
    "    \n",
    "    annotations = json.loads(opener.open(url).read())\n",
    "\n",
    "    return annotations\n",
    "\n",
    "def name2rxnorm(drugname):\n",
    "    \"\"\"\n",
    "    map the name of a drug to its rxnorm notation\n",
    "    \"\"\"\n",
    "    annotations = annotator(drugname, ['RXNORM'])\n",
    "    \n",
    "    rxnorms = list()\n",
    "    for annotation in annotations:\n",
    "        rxnorms.append(annotations[0]['annotatedClass']['@id'].split('/')[-1])\n",
    "    \n",
    "    return rxnorms\n",
    "\n",
    "print name2rxnorm('apraclonidine')"
   ]
  },
  {
   "cell_type": "markdown",
   "metadata": {},
   "source": [
    "## Find positive and negative controls"
   ]
  },
  {
   "cell_type": "code",
   "execution_count": 9,
   "metadata": {
    "collapsed": true
   },
   "outputs": [],
   "source": [
    "invalid_drugnames = list()\n",
    "invalid_drugnames.append(\"human brain natriuretic peptide-32\")\n",
    "invalid_drugnames.append(\"human glucagon\")\n",
    "invalid_drugnames.append(\"human insulin\")\n",
    "invalid_drugnames.append(\"vitamin D2\")"
   ]
  },
  {
   "cell_type": "code",
   "execution_count": 114,
   "metadata": {
    "collapsed": true
   },
   "outputs": [],
   "source": [
    "def get_controls(AE):\n",
    "    \"\"\"\n",
    "    Get lists of positive and negative controls for a given adverse event.\n",
    "    AE: string, adverse event of interest\n",
    "    \"\"\"\n",
    "    \n",
    "    # Get a list of drugs (name) known to have the AE as a side effect using SIDER\n",
    "    reference_byname_bound = list()\n",
    "    for cui in AEtoCUI(AE):\n",
    "        #print cui\n",
    "        data_bound = nsides_api('sider', 'drugForEffectFreq', {'q': \"%s\" %cui})\n",
    "        reference_byname_bound.extend([(r['drug_name'], r['upper_bound']) for r in data_bound['results']])\n",
    "\n",
    "    reference_byname_bound = sorted(set(reference_byname_bound))\n",
    "    \n",
    "    high_freq_drugs = list()\n",
    "    low_freq_drugs = list()\n",
    "    \n",
    "    # To remove noise, we only use drugs with high reporting frequencies\n",
    "    for (drug, freq) in reference_byname_bound:\n",
    "        #print drug, freq\n",
    "        if float(freq) > 0.001:\n",
    "            high_freq_drugs.append(drug)\n",
    "        else:\n",
    "            low_freq_drugs.append(drug)\n",
    "            \n",
    "    high_freq_drugs = sorted(set(high_freq_drugs))\n",
    "    low_freq_drugs = sorted(set(low_freq_drugs))\n",
    "    #print len(high_freq_drugs)\n",
    "    \n",
    "    if len(high_freq_drugs) == 0:\n",
    "        raise Exception(\"No available reference standard for cui: %s\" % cui)\n",
    "        return 0\n",
    "    \n",
    "    # We map those drugs to their rxnorm\n",
    "    positives = list()\n",
    "    negatives = list()\n",
    "    \n",
    "    for drugname in tqdm(high_freq_drugs):\n",
    "        if drugname not in invalid_drugnames:\n",
    "            rxnorms = name2rxnorm(drugname)\n",
    "            for rxnorm in rxnorms:\n",
    "                positives.append(int(rxnorm))\n",
    "\n",
    "    print \"Produced reference with %d positive examples and %d negative examples.\" % (len(positives), len(negatives))\n",
    "    \n",
    "    # We randomly pick 2*len(positives) negative controls from what's available in AEOLUS\n",
    "    if len(negatives) == 0:\n",
    "        data = nsides_api('aeolus', 'ingredientList')\n",
    "    \n",
    "        all_rxnorms = [r['concept_code'] for r in data['results']]\n",
    "        available_negatives = (set(all_rxnorms) - set(positives))\n",
    "    \n",
    "        negatives = random.sample(available_negatives, 2*len(positives))\n",
    "\n",
    "    print \"Randomly selected %d negative examples from available drugs.\" % len(negatives)\n",
    "    \n",
    "    return positives, negatives"
   ]
  },
  {
   "cell_type": "code",
   "execution_count": 115,
   "metadata": {
    "scrolled": true
   },
   "outputs": [
    {
     "name": "stdout",
     "output_type": "stream",
     "text": [
      "http://nsideseb-env.us-east-1.elasticbeanstalk.com/api/v1/query?service=sider&meta=drugForEffect&q=C0011849\n",
      "http://nsideseb-env.us-east-1.elasticbeanstalk.com/api/v1/query?service=sider&meta=drugForEffectFreq&q=C0011849\n",
      "http://nsideseb-env.us-east-1.elasticbeanstalk.com/api/v1/query?service=sider&meta=drugForEffect&q=C0011848\n",
      "http://nsideseb-env.us-east-1.elasticbeanstalk.com/api/v1/query?service=sider&meta=drugForEffectFreq&q=C0011848\n",
      "http://nsideseb-env.us-east-1.elasticbeanstalk.com/api/v1/query?service=sider&meta=drugForEffect&q=C0011854\n",
      "http://nsideseb-env.us-east-1.elasticbeanstalk.com/api/v1/query?service=sider&meta=drugForEffectFreq&q=C0011854\n",
      "http://nsideseb-env.us-east-1.elasticbeanstalk.com/api/v1/query?service=sider&meta=drugForEffect&q=C0011859\n",
      "http://nsideseb-env.us-east-1.elasticbeanstalk.com/api/v1/query?service=sider&meta=drugForEffectFreq&q=C0011859\n",
      "http://nsideseb-env.us-east-1.elasticbeanstalk.com/api/v1/query?service=sider&meta=drugForEffect&q=C0011860\n",
      "http://nsideseb-env.us-east-1.elasticbeanstalk.com/api/v1/query?service=sider&meta=drugForEffectFreq&q=C0011860\n",
      "http://nsideseb-env.us-east-1.elasticbeanstalk.com/api/v1/query?service=sider&meta=drugForEffect&q=C0018995\n",
      "http://nsideseb-env.us-east-1.elasticbeanstalk.com/api/v1/query?service=sider&meta=drugForEffectFreq&q=C0018995\n",
      "http://nsideseb-env.us-east-1.elasticbeanstalk.com/api/v1/query?service=sider&meta=drugForEffect&q=C0032969\n",
      "http://nsideseb-env.us-east-1.elasticbeanstalk.com/api/v1/query?service=sider&meta=drugForEffectFreq&q=C0032969\n",
      "http://nsideseb-env.us-east-1.elasticbeanstalk.com/api/v1/query?service=sider&meta=drugForEffect&q=C0038433\n",
      "http://nsideseb-env.us-east-1.elasticbeanstalk.com/api/v1/query?service=sider&meta=drugForEffectFreq&q=C0038433\n",
      "http://nsideseb-env.us-east-1.elasticbeanstalk.com/api/v1/query?service=sider&meta=drugForEffect&q=C0085207\n",
      "http://nsideseb-env.us-east-1.elasticbeanstalk.com/api/v1/query?service=sider&meta=drugForEffectFreq&q=C0085207\n",
      "http://nsideseb-env.us-east-1.elasticbeanstalk.com/api/v1/query?service=sider&meta=drugForEffect&q=C0205734\n",
      "http://nsideseb-env.us-east-1.elasticbeanstalk.com/api/v1/query?service=sider&meta=drugForEffectFreq&q=C0205734\n",
      "http://nsideseb-env.us-east-1.elasticbeanstalk.com/api/v1/query?service=sider&meta=drugForEffect&q=C0271650\n",
      "http://nsideseb-env.us-east-1.elasticbeanstalk.com/api/v1/query?service=sider&meta=drugForEffectFreq&q=C0271650\n",
      "http://nsideseb-env.us-east-1.elasticbeanstalk.com/api/v1/query?service=sider&meta=drugForEffect&q=C0271680\n",
      "http://nsideseb-env.us-east-1.elasticbeanstalk.com/api/v1/query?service=sider&meta=drugForEffectFreq&q=C0271680\n",
      "http://nsideseb-env.us-east-1.elasticbeanstalk.com/api/v1/query?service=sider&meta=drugForEffect&q=C0342302\n",
      "http://nsideseb-env.us-east-1.elasticbeanstalk.com/api/v1/query?service=sider&meta=drugForEffectFreq&q=C0342302\n",
      "http://nsideseb-env.us-east-1.elasticbeanstalk.com/api/v1/query?service=sider&meta=drugForEffect&q=C0362046\n",
      "http://nsideseb-env.us-east-1.elasticbeanstalk.com/api/v1/query?service=sider&meta=drugForEffectFreq&q=C0362046\n",
      "http://nsideseb-env.us-east-1.elasticbeanstalk.com/api/v1/query?service=sider&meta=drugForEffect&q=C0422587\n",
      "http://nsideseb-env.us-east-1.elasticbeanstalk.com/api/v1/query?service=sider&meta=drugForEffectFreq&q=C0422587\n",
      "http://nsideseb-env.us-east-1.elasticbeanstalk.com/api/v1/query?service=sider&meta=drugForEffect&q=C0856874\n",
      "http://nsideseb-env.us-east-1.elasticbeanstalk.com/api/v1/query?service=sider&meta=drugForEffectFreq&q=C0856874\n",
      "http://nsideseb-env.us-east-1.elasticbeanstalk.com/api/v1/query?service=sider&meta=drugForEffect&q=C0856885\n",
      "http://nsideseb-env.us-east-1.elasticbeanstalk.com/api/v1/query?service=sider&meta=drugForEffectFreq&q=C0856885\n",
      "http://nsideseb-env.us-east-1.elasticbeanstalk.com/api/v1/query?service=sider&meta=drugForEffect&q=C0857483\n",
      "http://nsideseb-env.us-east-1.elasticbeanstalk.com/api/v1/query?service=sider&meta=drugForEffectFreq&q=C0857483\n",
      "http://nsideseb-env.us-east-1.elasticbeanstalk.com/api/v1/query?service=sider&meta=drugForEffect&q=C0860262\n",
      "http://nsideseb-env.us-east-1.elasticbeanstalk.com/api/v1/query?service=sider&meta=drugForEffectFreq&q=C0860262\n",
      "http://nsideseb-env.us-east-1.elasticbeanstalk.com/api/v1/query?service=sider&meta=drugForEffect&q=C0920015\n",
      "http://nsideseb-env.us-east-1.elasticbeanstalk.com/api/v1/query?service=sider&meta=drugForEffectFreq&q=C0920015\n",
      "http://nsideseb-env.us-east-1.elasticbeanstalk.com/api/v1/query?service=sider&meta=drugForEffect&q=C1320657\n",
      "http://nsideseb-env.us-east-1.elasticbeanstalk.com/api/v1/query?service=sider&meta=drugForEffectFreq&q=C1320657\n",
      "http://nsideseb-env.us-east-1.elasticbeanstalk.com/api/v1/query?service=sider&meta=drugForEffect&q=C2945676\n",
      "http://nsideseb-env.us-east-1.elasticbeanstalk.com/api/v1/query?service=sider&meta=drugForEffectFreq&q=C2945676\n",
      "http://nsideseb-env.us-east-1.elasticbeanstalk.com/api/v1/query?service=sider&meta=drugForEffect&q=C2945747\n",
      "http://nsideseb-env.us-east-1.elasticbeanstalk.com/api/v1/query?service=sider&meta=drugForEffectFreq&q=C2945747\n",
      "http://nsideseb-env.us-east-1.elasticbeanstalk.com/api/v1/query?service=sider&meta=drugForEffect&q=C3888631\n",
      "http://nsideseb-env.us-east-1.elasticbeanstalk.com/api/v1/query?service=sider&meta=drugForEffectFreq&q=C3888631\n",
      "http://nsideseb-env.us-east-1.elasticbeanstalk.com/api/v1/query?service=sider&meta=drugForEffect&q=C0002152\n",
      "http://nsideseb-env.us-east-1.elasticbeanstalk.com/api/v1/query?service=sider&meta=drugForEffectFreq&q=C0002152\n"
     ]
    },
    {
     "name": "stderr",
     "output_type": "stream",
     "text": [
      "\r",
      "  0%|          | 0/17 [00:00<?, ?it/s]"
     ]
    },
    {
     "name": "stdout",
     "output_type": "stream",
     "text": [
      "17\n"
     ]
    },
    {
     "name": "stderr",
     "output_type": "stream",
     "text": [
      "100%|██████████| 17/17 [00:15<00:00,  1.22s/it]\n"
     ]
    },
    {
     "name": "stdout",
     "output_type": "stream",
     "text": [
      "Produced reference with 17 positive examples and 0 negative examples.\n",
      "http://nsideseb-env.us-east-1.elasticbeanstalk.com/api/v1/query?service=aeolus&meta=ingredientList\n",
      "Randomly selected 34 negative examples from available drugs.\n"
     ]
    }
   ],
   "source": [
    "positives, negatives = get_controls('diabete')"
   ]
  },
  {
   "cell_type": "markdown",
   "metadata": {},
   "source": [
    "##  Retrieve adverse event report data for these and a set of control drugs."
   ]
  },
  {
   "cell_type": "code",
   "execution_count": 14,
   "metadata": {},
   "outputs": [
    {
     "name": "stdout",
     "output_type": "stream",
     "text": [
      "http://nsideseb-env.us-east-1.elasticbeanstalk.com/api/v1/query?service=aeolus&meta=ingredientList\n",
      "{u'valid_end_date': u'2099-12-31', u'concept_class_id': u'Ingredient', u'valid_start_date': u'1970-01-01', u'vocabulary_id': u'RxNorm', u'concept_name': u'hepatitis B immune globulin', u'invalid_reason': u'', u'standard_concept_id': 501343, u'standard_concept': u'S', u'concept_code': 26744, u'domain_id': u'Drug', u'concept_id': 501343}\n",
      "3526\n",
      "1177480\n"
     ]
    }
   ],
   "source": [
    "# concept = OMOP concept id\n",
    "data = nsides_api('aeolus', 'ingredientList')\n",
    "\n",
    "concept2name = dict()\n",
    "all_drugs = list()\n",
    "drug_mapping = dict()\n",
    "concept2rxnorm = dict()\n",
    "rxnorm2concept = dict()\n",
    "\n",
    "for r in data['results']:\n",
    "    concept2name[r['concept_id']] = r['concept_name']\n",
    "    all_drugs.append(r['concept_id'])\n",
    "    drug_mapping[r['concept_code']] = r['concept_id']\n",
    "    concept2rxnorm[r['concept_id']] = r['concept_code']\n",
    "    rxnorm2concept[r['concept_code']] = r['concept_id']\n",
    "\n",
    "#print drug_mapping.items()\n",
    "#print concept2name\n",
    "print data['results'][0]\n",
    "print len(all_drugs)\n",
    "#print concept2rxnorm[501343]\n",
    "print rxnorm2concept[5640]"
   ]
  },
  {
   "cell_type": "code",
   "execution_count": 15,
   "metadata": {},
   "outputs": [
    {
     "name": "stdout",
     "output_type": "stream",
     "text": [
      "http://nsideseb-env.us-east-1.elasticbeanstalk.com/api/v1/query?service=aeolus&meta=reactionListMedDRA\n",
      "7540\n",
      "{u'valid_end_date': u'2099-12-31', u'concept_class_id': u'LLT', u'outcome_concept_id': 36718526, u'valid_start_date': u'1970-01-01', u'vocabulary_id': u'MedDRA', u'concept_name': u'Convulsion', u'invalid_reason': u'', u'snomed_outcome_concept_id': 377091, u'standard_concept': u'C', u'concept_code': 10010904, u'domain_id': u'Condition', u'concept_id': 36718526}\n",
      "36718526\n"
     ]
    }
   ],
   "source": [
    "#query?service=aeolus&meta=reactionListMedDRA\n",
    "data = nsides_api('aeolus', 'reactionListMedDRA')\n",
    "\n",
    "# List of all AEs reported in FAERS\n",
    "all_outcomes = list() \n",
    "\n",
    "for r in data['results']:\n",
    "    all_outcomes.append(r['outcome_concept_id'])\n",
    "\n",
    "print len(all_outcomes)\n",
    "print data['results'][0]\n",
    "print all_outcomes[0]"
   ]
  },
  {
   "cell_type": "code",
   "execution_count": 16,
   "metadata": {},
   "outputs": [
    {
     "name": "stdout",
     "output_type": "stream",
     "text": [
      "http://nsideseb-env.us-east-1.elasticbeanstalk.com/api/v1/query?service=aeolus&meta=drugpairReactionListMedDRA\n",
      "199\n",
      "37622529\n",
      "{u'valid_end_date': u'2099-12-31', u'concept_class_id': u'PT', u'outcome_concept_id': 37622529, u'valid_start_date': u'1970-01-01', u'vocabulary_id': u'MedDRA', u'concept_name': u'Hypertension', u'invalid_reason': u'', u'standard_concept': u'C', u'concept_code': 10020772, u'domain_id': u'Condition', u'concept_id': 37622529}\n"
     ]
    }
   ],
   "source": [
    "#query?service=aeolus&meta=drugpairReactionListMedDRA\n",
    "data = nsides_api('aeolus', 'drugpairReactionListMedDRA')\n",
    "#List of all AEs reported as drugpairs outcome in FAERS\n",
    "all_pairoutcomes = list()\n",
    "all_conceptnames = list()\n",
    "for r in data['results']:\n",
    "    all_pairoutcomes.append(r['outcome_concept_id'])\n",
    "    all_conceptnames.append(r['concept_name'])\n",
    "\n",
    "print len(all_pairoutcomes)\n",
    "print all_pairoutcomes[0]\n",
    "print data['results'][0]"
   ]
  },
  {
   "cell_type": "code",
   "execution_count": 17,
   "metadata": {},
   "outputs": [
    {
     "name": "stdout",
     "output_type": "stream",
     "text": [
      "http://nsideseb-env.us-east-1.elasticbeanstalk.com/api/v1/query?service=aeolus&meta=drugpairList\n",
      "39800\n",
      "(19111620, 19122121)\n"
     ]
    }
   ],
   "source": [
    "#query?service=aeolus&meta=drugpairList\n",
    "data = nsides_api('aeolus', 'drugpairList')\n",
    "\n",
    "all_drugpairs = list()\n",
    "\n",
    "for r in data['results']:\n",
    "    all_drugpairs.append((r['drug1_concept_id'], r['drug2_concept_id']))\n",
    "\n",
    "print len(all_drugpairs)\n",
    "print all_drugpairs[0]"
   ]
  },
  {
   "cell_type": "code",
   "execution_count": 18,
   "metadata": {},
   "outputs": [
    {
     "name": "stdout",
     "output_type": "stream",
     "text": [
      "http://nsideseb-env.us-east-1.elasticbeanstalk.com/api/v1/query?service=aeolus&meta=drugReactionCounts&q=0\n"
     ]
    },
    {
     "name": "stderr",
     "output_type": "stream",
     "text": [
      "\r",
      "  0%|          | 0/64 [00:00<?, ?it/s]"
     ]
    },
    {
     "name": "stdout",
     "output_type": "stream",
     "text": [
      "http://nsideseb-env.us-east-1.elasticbeanstalk.com/api/v1/query?service=aeolus&meta=drugReactionCounts&q=10000\n"
     ]
    },
    {
     "name": "stderr",
     "output_type": "stream",
     "text": [
      "\r",
      "  2%|▏         | 1/64 [00:02<02:49,  2.69s/it]"
     ]
    },
    {
     "name": "stdout",
     "output_type": "stream",
     "text": [
      "http://nsideseb-env.us-east-1.elasticbeanstalk.com/api/v1/query?service=aeolus&meta=drugReactionCounts&q=20000\n"
     ]
    },
    {
     "name": "stderr",
     "output_type": "stream",
     "text": [
      "\r",
      "  3%|▎         | 2/64 [00:05<02:46,  2.69s/it]"
     ]
    },
    {
     "name": "stdout",
     "output_type": "stream",
     "text": [
      "http://nsideseb-env.us-east-1.elasticbeanstalk.com/api/v1/query?service=aeolus&meta=drugReactionCounts&q=30000\n"
     ]
    },
    {
     "name": "stderr",
     "output_type": "stream",
     "text": [
      "\r",
      "  5%|▍         | 3/64 [00:11<03:46,  3.71s/it]"
     ]
    },
    {
     "name": "stdout",
     "output_type": "stream",
     "text": [
      "http://nsideseb-env.us-east-1.elasticbeanstalk.com/api/v1/query?service=aeolus&meta=drugReactionCounts&q=40000\n"
     ]
    },
    {
     "name": "stderr",
     "output_type": "stream",
     "text": [
      "\r",
      "  6%|▋         | 4/64 [00:14<03:22,  3.37s/it]"
     ]
    },
    {
     "name": "stdout",
     "output_type": "stream",
     "text": [
      "http://nsideseb-env.us-east-1.elasticbeanstalk.com/api/v1/query?service=aeolus&meta=drugReactionCounts&q=50000\n"
     ]
    },
    {
     "name": "stderr",
     "output_type": "stream",
     "text": [
      "\r",
      "  8%|▊         | 5/64 [00:16<03:05,  3.14s/it]"
     ]
    },
    {
     "name": "stdout",
     "output_type": "stream",
     "text": [
      "http://nsideseb-env.us-east-1.elasticbeanstalk.com/api/v1/query?service=aeolus&meta=drugReactionCounts&q=60000\n"
     ]
    },
    {
     "name": "stderr",
     "output_type": "stream",
     "text": [
      "\r",
      "  9%|▉         | 6/64 [00:19<02:52,  2.97s/it]"
     ]
    },
    {
     "name": "stdout",
     "output_type": "stream",
     "text": [
      "http://nsideseb-env.us-east-1.elasticbeanstalk.com/api/v1/query?service=aeolus&meta=drugReactionCounts&q=70000\n"
     ]
    },
    {
     "name": "stderr",
     "output_type": "stream",
     "text": [
      "\r",
      " 11%|█         | 7/64 [00:21<02:43,  2.86s/it]"
     ]
    },
    {
     "name": "stdout",
     "output_type": "stream",
     "text": [
      "http://nsideseb-env.us-east-1.elasticbeanstalk.com/api/v1/query?service=aeolus&meta=drugReactionCounts&q=80000\n"
     ]
    },
    {
     "name": "stderr",
     "output_type": "stream",
     "text": [
      "\r",
      " 12%|█▎        | 8/64 [00:24<02:36,  2.80s/it]"
     ]
    },
    {
     "name": "stdout",
     "output_type": "stream",
     "text": [
      "http://nsideseb-env.us-east-1.elasticbeanstalk.com/api/v1/query?service=aeolus&meta=drugReactionCounts&q=90000\n"
     ]
    },
    {
     "name": "stderr",
     "output_type": "stream",
     "text": [
      "\r",
      " 14%|█▍        | 9/64 [00:27<02:31,  2.75s/it]"
     ]
    },
    {
     "name": "stdout",
     "output_type": "stream",
     "text": [
      "http://nsideseb-env.us-east-1.elasticbeanstalk.com/api/v1/query?service=aeolus&meta=drugReactionCounts&q=100000\n"
     ]
    },
    {
     "name": "stderr",
     "output_type": "stream",
     "text": [
      "\r",
      " 16%|█▌        | 10/64 [00:29<02:26,  2.71s/it]"
     ]
    },
    {
     "name": "stdout",
     "output_type": "stream",
     "text": [
      "http://nsideseb-env.us-east-1.elasticbeanstalk.com/api/v1/query?service=aeolus&meta=drugReactionCounts&q=110000\n"
     ]
    },
    {
     "name": "stderr",
     "output_type": "stream",
     "text": [
      "\r",
      " 17%|█▋        | 11/64 [00:32<02:24,  2.72s/it]"
     ]
    },
    {
     "name": "stdout",
     "output_type": "stream",
     "text": [
      "http://nsideseb-env.us-east-1.elasticbeanstalk.com/api/v1/query?service=aeolus&meta=drugReactionCounts&q=120000\n"
     ]
    },
    {
     "name": "stderr",
     "output_type": "stream",
     "text": [
      "\r",
      " 19%|█▉        | 12/64 [00:35<02:21,  2.72s/it]"
     ]
    },
    {
     "name": "stdout",
     "output_type": "stream",
     "text": [
      "http://nsideseb-env.us-east-1.elasticbeanstalk.com/api/v1/query?service=aeolus&meta=drugReactionCounts&q=130000\n"
     ]
    },
    {
     "name": "stderr",
     "output_type": "stream",
     "text": [
      "\r",
      " 20%|██        | 13/64 [00:37<02:18,  2.71s/it]"
     ]
    },
    {
     "name": "stdout",
     "output_type": "stream",
     "text": [
      "http://nsideseb-env.us-east-1.elasticbeanstalk.com/api/v1/query?service=aeolus&meta=drugReactionCounts&q=140000\n"
     ]
    },
    {
     "name": "stderr",
     "output_type": "stream",
     "text": [
      "\r",
      " 22%|██▏       | 14/64 [00:40<02:17,  2.75s/it]"
     ]
    },
    {
     "name": "stdout",
     "output_type": "stream",
     "text": [
      "http://nsideseb-env.us-east-1.elasticbeanstalk.com/api/v1/query?service=aeolus&meta=drugReactionCounts&q=150000\n"
     ]
    },
    {
     "name": "stderr",
     "output_type": "stream",
     "text": [
      "\r",
      " 23%|██▎       | 15/64 [00:43<02:14,  2.74s/it]"
     ]
    },
    {
     "name": "stdout",
     "output_type": "stream",
     "text": [
      "http://nsideseb-env.us-east-1.elasticbeanstalk.com/api/v1/query?service=aeolus&meta=drugReactionCounts&q=160000\n"
     ]
    },
    {
     "name": "stderr",
     "output_type": "stream",
     "text": [
      "\r",
      " 25%|██▌       | 16/64 [00:46<02:11,  2.73s/it]"
     ]
    },
    {
     "name": "stdout",
     "output_type": "stream",
     "text": [
      "http://nsideseb-env.us-east-1.elasticbeanstalk.com/api/v1/query?service=aeolus&meta=drugReactionCounts&q=170000\n"
     ]
    },
    {
     "name": "stderr",
     "output_type": "stream",
     "text": [
      "\r",
      " 27%|██▋       | 17/64 [00:49<02:15,  2.87s/it]"
     ]
    },
    {
     "name": "stdout",
     "output_type": "stream",
     "text": [
      "http://nsideseb-env.us-east-1.elasticbeanstalk.com/api/v1/query?service=aeolus&meta=drugReactionCounts&q=180000\n"
     ]
    },
    {
     "name": "stderr",
     "output_type": "stream",
     "text": [
      "\r",
      " 28%|██▊       | 18/64 [00:55<02:59,  3.90s/it]"
     ]
    },
    {
     "name": "stdout",
     "output_type": "stream",
     "text": [
      "http://nsideseb-env.us-east-1.elasticbeanstalk.com/api/v1/query?service=aeolus&meta=drugReactionCounts&q=190000\n"
     ]
    },
    {
     "name": "stderr",
     "output_type": "stream",
     "text": [
      "\r",
      " 30%|██▉       | 19/64 [00:58<02:41,  3.58s/it]"
     ]
    },
    {
     "name": "stdout",
     "output_type": "stream",
     "text": [
      "http://nsideseb-env.us-east-1.elasticbeanstalk.com/api/v1/query?service=aeolus&meta=drugReactionCounts&q=200000\n"
     ]
    },
    {
     "name": "stderr",
     "output_type": "stream",
     "text": [
      "\r",
      " 31%|███▏      | 20/64 [01:01<02:27,  3.36s/it]"
     ]
    },
    {
     "name": "stdout",
     "output_type": "stream",
     "text": [
      "http://nsideseb-env.us-east-1.elasticbeanstalk.com/api/v1/query?service=aeolus&meta=drugReactionCounts&q=210000\n"
     ]
    },
    {
     "name": "stderr",
     "output_type": "stream",
     "text": [
      "\r",
      " 33%|███▎      | 21/64 [01:04<02:18,  3.23s/it]"
     ]
    },
    {
     "name": "stdout",
     "output_type": "stream",
     "text": [
      "http://nsideseb-env.us-east-1.elasticbeanstalk.com/api/v1/query?service=aeolus&meta=drugReactionCounts&q=220000\n"
     ]
    },
    {
     "name": "stderr",
     "output_type": "stream",
     "text": [
      "\r",
      " 34%|███▍      | 22/64 [01:07<02:11,  3.14s/it]"
     ]
    },
    {
     "name": "stdout",
     "output_type": "stream",
     "text": [
      "http://nsideseb-env.us-east-1.elasticbeanstalk.com/api/v1/query?service=aeolus&meta=drugReactionCounts&q=230000\n"
     ]
    },
    {
     "name": "stderr",
     "output_type": "stream",
     "text": [
      "\r",
      " 36%|███▌      | 23/64 [01:10<02:05,  3.06s/it]"
     ]
    },
    {
     "name": "stdout",
     "output_type": "stream",
     "text": [
      "http://nsideseb-env.us-east-1.elasticbeanstalk.com/api/v1/query?service=aeolus&meta=drugReactionCounts&q=240000\n"
     ]
    },
    {
     "name": "stderr",
     "output_type": "stream",
     "text": [
      "\r",
      " 38%|███▊      | 24/64 [01:12<02:00,  3.01s/it]"
     ]
    },
    {
     "name": "stdout",
     "output_type": "stream",
     "text": [
      "http://nsideseb-env.us-east-1.elasticbeanstalk.com/api/v1/query?service=aeolus&meta=drugReactionCounts&q=250000\n"
     ]
    },
    {
     "name": "stderr",
     "output_type": "stream",
     "text": [
      "\r",
      " 39%|███▉      | 25/64 [01:15<01:56,  2.98s/it]"
     ]
    },
    {
     "name": "stdout",
     "output_type": "stream",
     "text": [
      "http://nsideseb-env.us-east-1.elasticbeanstalk.com/api/v1/query?service=aeolus&meta=drugReactionCounts&q=260000\n"
     ]
    },
    {
     "name": "stderr",
     "output_type": "stream",
     "text": [
      "\r",
      " 41%|████      | 26/64 [01:18<01:54,  3.00s/it]"
     ]
    },
    {
     "name": "stdout",
     "output_type": "stream",
     "text": [
      "http://nsideseb-env.us-east-1.elasticbeanstalk.com/api/v1/query?service=aeolus&meta=drugReactionCounts&q=270000\n"
     ]
    },
    {
     "name": "stderr",
     "output_type": "stream",
     "text": [
      "\r",
      " 42%|████▏     | 27/64 [01:21<01:51,  3.01s/it]"
     ]
    },
    {
     "name": "stdout",
     "output_type": "stream",
     "text": [
      "http://nsideseb-env.us-east-1.elasticbeanstalk.com/api/v1/query?service=aeolus&meta=drugReactionCounts&q=280000\n"
     ]
    },
    {
     "name": "stderr",
     "output_type": "stream",
     "text": [
      "\r",
      " 44%|████▍     | 28/64 [01:25<01:49,  3.03s/it]"
     ]
    },
    {
     "name": "stdout",
     "output_type": "stream",
     "text": [
      "http://nsideseb-env.us-east-1.elasticbeanstalk.com/api/v1/query?service=aeolus&meta=drugReactionCounts&q=290000\n"
     ]
    },
    {
     "name": "stderr",
     "output_type": "stream",
     "text": [
      "\r",
      " 45%|████▌     | 29/64 [01:28<01:45,  3.03s/it]"
     ]
    },
    {
     "name": "stdout",
     "output_type": "stream",
     "text": [
      "http://nsideseb-env.us-east-1.elasticbeanstalk.com/api/v1/query?service=aeolus&meta=drugReactionCounts&q=300000\n"
     ]
    },
    {
     "name": "stderr",
     "output_type": "stream",
     "text": [
      "\r",
      " 47%|████▋     | 30/64 [01:31<01:43,  3.04s/it]"
     ]
    },
    {
     "name": "stdout",
     "output_type": "stream",
     "text": [
      "http://nsideseb-env.us-east-1.elasticbeanstalk.com/api/v1/query?service=aeolus&meta=drugReactionCounts&q=310000\n"
     ]
    },
    {
     "name": "stderr",
     "output_type": "stream",
     "text": [
      "\r",
      " 48%|████▊     | 31/64 [01:34<01:41,  3.09s/it]"
     ]
    },
    {
     "name": "stdout",
     "output_type": "stream",
     "text": [
      "http://nsideseb-env.us-east-1.elasticbeanstalk.com/api/v1/query?service=aeolus&meta=drugReactionCounts&q=320000\n"
     ]
    },
    {
     "name": "stderr",
     "output_type": "stream",
     "text": [
      "\r",
      " 50%|█████     | 32/64 [01:37<01:37,  3.06s/it]"
     ]
    },
    {
     "name": "stdout",
     "output_type": "stream",
     "text": [
      "http://nsideseb-env.us-east-1.elasticbeanstalk.com/api/v1/query?service=aeolus&meta=drugReactionCounts&q=330000\n"
     ]
    },
    {
     "name": "stderr",
     "output_type": "stream",
     "text": [
      "\r",
      " 52%|█████▏    | 33/64 [01:40<01:35,  3.08s/it]"
     ]
    },
    {
     "name": "stdout",
     "output_type": "stream",
     "text": [
      "http://nsideseb-env.us-east-1.elasticbeanstalk.com/api/v1/query?service=aeolus&meta=drugReactionCounts&q=340000\n"
     ]
    },
    {
     "name": "stderr",
     "output_type": "stream",
     "text": [
      "\r",
      " 53%|█████▎    | 34/64 [01:43<01:32,  3.08s/it]"
     ]
    },
    {
     "name": "stdout",
     "output_type": "stream",
     "text": [
      "http://nsideseb-env.us-east-1.elasticbeanstalk.com/api/v1/query?service=aeolus&meta=drugReactionCounts&q=350000\n"
     ]
    },
    {
     "name": "stderr",
     "output_type": "stream",
     "text": [
      "\r",
      " 55%|█████▍    | 35/64 [01:46<01:29,  3.10s/it]"
     ]
    },
    {
     "name": "stdout",
     "output_type": "stream",
     "text": [
      "http://nsideseb-env.us-east-1.elasticbeanstalk.com/api/v1/query?service=aeolus&meta=drugReactionCounts&q=360000\n"
     ]
    },
    {
     "name": "stderr",
     "output_type": "stream",
     "text": [
      "\r",
      " 56%|█████▋    | 36/64 [01:49<01:27,  3.13s/it]"
     ]
    },
    {
     "name": "stdout",
     "output_type": "stream",
     "text": [
      "http://nsideseb-env.us-east-1.elasticbeanstalk.com/api/v1/query?service=aeolus&meta=drugReactionCounts&q=370000\n"
     ]
    },
    {
     "name": "stderr",
     "output_type": "stream",
     "text": [
      "\r",
      " 58%|█████▊    | 37/64 [01:53<01:26,  3.21s/it]"
     ]
    },
    {
     "name": "stdout",
     "output_type": "stream",
     "text": [
      "http://nsideseb-env.us-east-1.elasticbeanstalk.com/api/v1/query?service=aeolus&meta=drugReactionCounts&q=380000\n"
     ]
    },
    {
     "name": "stderr",
     "output_type": "stream",
     "text": [
      "\r",
      " 59%|█████▉    | 38/64 [01:56<01:23,  3.22s/it]"
     ]
    },
    {
     "name": "stdout",
     "output_type": "stream",
     "text": [
      "http://nsideseb-env.us-east-1.elasticbeanstalk.com/api/v1/query?service=aeolus&meta=drugReactionCounts&q=390000\n"
     ]
    },
    {
     "name": "stderr",
     "output_type": "stream",
     "text": [
      "\r",
      " 61%|██████    | 39/64 [01:59<01:20,  3.23s/it]"
     ]
    },
    {
     "name": "stdout",
     "output_type": "stream",
     "text": [
      "http://nsideseb-env.us-east-1.elasticbeanstalk.com/api/v1/query?service=aeolus&meta=drugReactionCounts&q=400000\n"
     ]
    },
    {
     "name": "stderr",
     "output_type": "stream",
     "text": [
      "\r",
      " 62%|██████▎   | 40/64 [02:03<01:18,  3.26s/it]"
     ]
    },
    {
     "name": "stdout",
     "output_type": "stream",
     "text": [
      "http://nsideseb-env.us-east-1.elasticbeanstalk.com/api/v1/query?service=aeolus&meta=drugReactionCounts&q=410000\n"
     ]
    },
    {
     "name": "stderr",
     "output_type": "stream",
     "text": [
      "\r",
      " 64%|██████▍   | 41/64 [02:06<01:15,  3.27s/it]"
     ]
    },
    {
     "name": "stdout",
     "output_type": "stream",
     "text": [
      "http://nsideseb-env.us-east-1.elasticbeanstalk.com/api/v1/query?service=aeolus&meta=drugReactionCounts&q=420000\n"
     ]
    },
    {
     "name": "stderr",
     "output_type": "stream",
     "text": [
      "\r",
      " 66%|██████▌   | 42/64 [02:09<01:11,  3.25s/it]"
     ]
    },
    {
     "name": "stdout",
     "output_type": "stream",
     "text": [
      "http://nsideseb-env.us-east-1.elasticbeanstalk.com/api/v1/query?service=aeolus&meta=drugReactionCounts&q=430000\n"
     ]
    },
    {
     "name": "stderr",
     "output_type": "stream",
     "text": [
      "\r",
      " 67%|██████▋   | 43/64 [02:13<01:09,  3.33s/it]"
     ]
    },
    {
     "name": "stdout",
     "output_type": "stream",
     "text": [
      "http://nsideseb-env.us-east-1.elasticbeanstalk.com/api/v1/query?service=aeolus&meta=drugReactionCounts&q=440000\n"
     ]
    },
    {
     "name": "stderr",
     "output_type": "stream",
     "text": [
      "\r",
      " 69%|██████▉   | 44/64 [02:16<01:06,  3.32s/it]"
     ]
    },
    {
     "name": "stdout",
     "output_type": "stream",
     "text": [
      "http://nsideseb-env.us-east-1.elasticbeanstalk.com/api/v1/query?service=aeolus&meta=drugReactionCounts&q=450000\n"
     ]
    },
    {
     "name": "stderr",
     "output_type": "stream",
     "text": [
      "\r",
      " 70%|███████   | 45/64 [02:19<01:03,  3.32s/it]"
     ]
    },
    {
     "name": "stdout",
     "output_type": "stream",
     "text": [
      "http://nsideseb-env.us-east-1.elasticbeanstalk.com/api/v1/query?service=aeolus&meta=drugReactionCounts&q=460000\n"
     ]
    },
    {
     "name": "stderr",
     "output_type": "stream",
     "text": [
      "\r",
      " 72%|███████▏  | 46/64 [02:23<01:00,  3.35s/it]"
     ]
    },
    {
     "name": "stdout",
     "output_type": "stream",
     "text": [
      "http://nsideseb-env.us-east-1.elasticbeanstalk.com/api/v1/query?service=aeolus&meta=drugReactionCounts&q=470000\n"
     ]
    },
    {
     "name": "stderr",
     "output_type": "stream",
     "text": [
      "\r",
      " 73%|███████▎  | 47/64 [02:26<00:57,  3.36s/it]"
     ]
    },
    {
     "name": "stdout",
     "output_type": "stream",
     "text": [
      "http://nsideseb-env.us-east-1.elasticbeanstalk.com/api/v1/query?service=aeolus&meta=drugReactionCounts&q=480000\n"
     ]
    },
    {
     "name": "stderr",
     "output_type": "stream",
     "text": [
      "\r",
      " 75%|███████▌  | 48/64 [02:29<00:53,  3.34s/it]"
     ]
    },
    {
     "name": "stdout",
     "output_type": "stream",
     "text": [
      "http://nsideseb-env.us-east-1.elasticbeanstalk.com/api/v1/query?service=aeolus&meta=drugReactionCounts&q=490000\n"
     ]
    },
    {
     "name": "stderr",
     "output_type": "stream",
     "text": [
      "\r",
      " 77%|███████▋  | 49/64 [02:33<00:50,  3.40s/it]"
     ]
    },
    {
     "name": "stdout",
     "output_type": "stream",
     "text": [
      "http://nsideseb-env.us-east-1.elasticbeanstalk.com/api/v1/query?service=aeolus&meta=drugReactionCounts&q=500000\n"
     ]
    },
    {
     "name": "stderr",
     "output_type": "stream",
     "text": [
      "\r",
      " 78%|███████▊  | 50/64 [02:36<00:47,  3.37s/it]"
     ]
    },
    {
     "name": "stdout",
     "output_type": "stream",
     "text": [
      "http://nsideseb-env.us-east-1.elasticbeanstalk.com/api/v1/query?service=aeolus&meta=drugReactionCounts&q=510000\n"
     ]
    },
    {
     "name": "stderr",
     "output_type": "stream",
     "text": [
      "\r",
      " 80%|███████▉  | 51/64 [02:40<00:44,  3.39s/it]"
     ]
    },
    {
     "name": "stdout",
     "output_type": "stream",
     "text": [
      "http://nsideseb-env.us-east-1.elasticbeanstalk.com/api/v1/query?service=aeolus&meta=drugReactionCounts&q=520000\n"
     ]
    },
    {
     "name": "stderr",
     "output_type": "stream",
     "text": [
      "\r",
      " 81%|████████▏ | 52/64 [02:43<00:40,  3.41s/it]"
     ]
    },
    {
     "name": "stdout",
     "output_type": "stream",
     "text": [
      "http://nsideseb-env.us-east-1.elasticbeanstalk.com/api/v1/query?service=aeolus&meta=drugReactionCounts&q=530000\n"
     ]
    },
    {
     "name": "stderr",
     "output_type": "stream",
     "text": [
      "\r",
      " 83%|████████▎ | 53/64 [02:47<00:37,  3.45s/it]"
     ]
    },
    {
     "name": "stdout",
     "output_type": "stream",
     "text": [
      "http://nsideseb-env.us-east-1.elasticbeanstalk.com/api/v1/query?service=aeolus&meta=drugReactionCounts&q=540000\n"
     ]
    },
    {
     "name": "stderr",
     "output_type": "stream",
     "text": [
      "\r",
      " 84%|████████▍ | 54/64 [02:50<00:35,  3.51s/it]"
     ]
    },
    {
     "name": "stdout",
     "output_type": "stream",
     "text": [
      "http://nsideseb-env.us-east-1.elasticbeanstalk.com/api/v1/query?service=aeolus&meta=drugReactionCounts&q=550000\n"
     ]
    },
    {
     "name": "stderr",
     "output_type": "stream",
     "text": [
      "\r",
      " 86%|████████▌ | 55/64 [02:54<00:31,  3.55s/it]"
     ]
    },
    {
     "name": "stdout",
     "output_type": "stream",
     "text": [
      "http://nsideseb-env.us-east-1.elasticbeanstalk.com/api/v1/query?service=aeolus&meta=drugReactionCounts&q=560000\n"
     ]
    },
    {
     "name": "stderr",
     "output_type": "stream",
     "text": [
      "\r",
      " 88%|████████▊ | 56/64 [02:57<00:28,  3.53s/it]"
     ]
    },
    {
     "name": "stdout",
     "output_type": "stream",
     "text": [
      "http://nsideseb-env.us-east-1.elasticbeanstalk.com/api/v1/query?service=aeolus&meta=drugReactionCounts&q=570000\n"
     ]
    },
    {
     "name": "stderr",
     "output_type": "stream",
     "text": [
      "\r",
      " 89%|████████▉ | 57/64 [03:01<00:24,  3.57s/it]"
     ]
    },
    {
     "name": "stdout",
     "output_type": "stream",
     "text": [
      "http://nsideseb-env.us-east-1.elasticbeanstalk.com/api/v1/query?service=aeolus&meta=drugReactionCounts&q=580000\n"
     ]
    },
    {
     "name": "stderr",
     "output_type": "stream",
     "text": [
      "\r",
      " 91%|█████████ | 58/64 [03:05<00:22,  3.70s/it]"
     ]
    },
    {
     "name": "stdout",
     "output_type": "stream",
     "text": [
      "http://nsideseb-env.us-east-1.elasticbeanstalk.com/api/v1/query?service=aeolus&meta=drugReactionCounts&q=590000\n"
     ]
    },
    {
     "name": "stderr",
     "output_type": "stream",
     "text": [
      "\r",
      " 92%|█████████▏| 59/64 [03:09<00:18,  3.72s/it]"
     ]
    },
    {
     "name": "stdout",
     "output_type": "stream",
     "text": [
      "http://nsideseb-env.us-east-1.elasticbeanstalk.com/api/v1/query?service=aeolus&meta=drugReactionCounts&q=600000\n"
     ]
    },
    {
     "name": "stderr",
     "output_type": "stream",
     "text": [
      "\r",
      " 94%|█████████▍| 60/64 [03:12<00:14,  3.71s/it]"
     ]
    },
    {
     "name": "stdout",
     "output_type": "stream",
     "text": [
      "http://nsideseb-env.us-east-1.elasticbeanstalk.com/api/v1/query?service=aeolus&meta=drugReactionCounts&q=610000\n"
     ]
    },
    {
     "name": "stderr",
     "output_type": "stream",
     "text": [
      "\r",
      " 95%|█████████▌| 61/64 [03:16<00:11,  3.71s/it]"
     ]
    },
    {
     "name": "stdout",
     "output_type": "stream",
     "text": [
      "http://nsideseb-env.us-east-1.elasticbeanstalk.com/api/v1/query?service=aeolus&meta=drugReactionCounts&q=620000\n"
     ]
    },
    {
     "name": "stderr",
     "output_type": "stream",
     "text": [
      "\r",
      " 97%|█████████▋| 62/64 [03:20<00:07,  3.71s/it]"
     ]
    },
    {
     "name": "stdout",
     "output_type": "stream",
     "text": [
      "http://nsideseb-env.us-east-1.elasticbeanstalk.com/api/v1/query?service=aeolus&meta=drugReactionCounts&q=630000\n"
     ]
    },
    {
     "name": "stderr",
     "output_type": "stream",
     "text": [
      "\r",
      " 98%|█████████▊| 63/64 [03:22<00:03,  3.37s/it]"
     ]
    },
    {
     "name": "stdout",
     "output_type": "stream",
     "text": [
      "http://nsideseb-env.us-east-1.elasticbeanstalk.com/api/v1/query?service=aeolus&meta=drugReactionCounts&q=631743\n"
     ]
    },
    {
     "name": "stderr",
     "output_type": "stream",
     "text": [
      "\r",
      "100%|██████████| 64/64 [03:25<00:00,  3.06s/it]"
     ]
    },
    {
     "name": "stdout",
     "output_type": "stream",
     "text": [
      "631743\n",
      "{u'nreports': 11, u'outcome_concept_id': 35104067, u'drug_concept_id': 904453, u'ndrugreports': 448710}\n"
     ]
    },
    {
     "name": "stderr",
     "output_type": "stream",
     "text": [
      "\n"
     ]
    }
   ],
   "source": [
    "#query?service=aeolus&meta=drugReactionCounts&q=0\n",
    "data = nsides_api('aeolus', 'drugReactionCounts', {'q':0})\n",
    "\n",
    "aeolus_drugReactionCounts = dict()\n",
    "aeolus_drugReactionCounts['results'] = list()\n",
    "\n",
    "for start in tqdm(range(0, data[0]['nrows'][0], 10000)):    \n",
    "    aeolus_drugReactionCounts['results'].extend(data[0]['result'])    \n",
    "    start = len(aeolus_drugReactionCounts['results'])\n",
    "    data = nsides_api('aeolus', 'drugReactionCounts', {'q': start})\n",
    "\n",
    "print len(aeolus_drugReactionCounts['results'])\n",
    "print aeolus_drugReactionCounts['results'][0]"
   ]
  },
  {
   "cell_type": "code",
   "execution_count": 19,
   "metadata": {},
   "outputs": [
    {
     "name": "stdout",
     "output_type": "stream",
     "text": [
      "39\n"
     ]
    }
   ],
   "source": [
    "unrecognized_id = list()\n",
    "unrecognized_id.append('CID011953896')\n",
    "unrecognized_id.append('CID000003706')\n",
    "unrecognized_id.append('CID000002550')\n",
    "unrecognized_id.append('CID000031371')\n",
    "unrecognized_id.append('CID000054688')\n",
    "unrecognized_id.append('CID000000653')\n",
    "unrecognized_id.append('CID000009908')\n",
    "unrecognized_id.append('CID000005257')\n",
    "unrecognized_id.append('CID000006691')\n",
    "unrecognized_id.append('CID000002177')\n",
    "unrecognized_id.append('CID000002949')\n",
    "unrecognized_id.append('CID000002909')\n",
    "unrecognized_id.append('CID000005267')\n",
    "unrecognized_id.append('CID000028112')\n",
    "unrecognized_id.append('CID000001451')\n",
    "unrecognized_id.append('CID000016213')\n",
    "unrecognized_id.append('CID000003075')\n",
    "unrecognized_id.append('CID005311048')\n",
    "unrecognized_id.append('CID000003929')\n",
    "unrecognized_id.append('CID000004691')\n",
    "unrecognized_id.append('CID000003962')\n",
    "unrecognized_id.append('CID005361912')\n",
    "unrecognized_id.append('CID000005064')\n",
    "unrecognized_id.append('CID006420046')\n",
    "unrecognized_id.append('CID000003143')\n",
    "unrecognized_id.append('CID000004048')\n",
    "unrecognized_id.append('CID000003222')\n",
    "unrecognized_id.append('CID000150310')\n",
    "unrecognized_id.append('CID000005372')\n",
    "unrecognized_id.append('CID000062924')\n",
    "unrecognized_id.append('CID000443871')\n",
    "unrecognized_id.append('CID006419754')\n",
    "unrecognized_id.append('CID000004547')\n",
    "unrecognized_id.append('CID000065027')\n",
    "unrecognized_id.append('CID000004259')\n",
    "unrecognized_id.append('CID011953892')\n",
    "unrecognized_id.append('CID000004724')\n",
    "unrecognized_id.append('CID000002769')\n",
    "unrecognized_id.append('CID000005412')\n",
    "\n",
    "print len(unrecognized_id)"
   ]
  },
  {
   "cell_type": "code",
   "execution_count": 20,
   "metadata": {
    "scrolled": true
   },
   "outputs": [
    {
     "name": "stdout",
     "output_type": "stream",
     "text": [
      "http://nsideseb-env.us-east-1.elasticbeanstalk.com/api/v1/query?service=va&meta=get_ddi_alerts\n",
      "{u'': u''}\n"
     ]
    },
    {
     "ename": "KeyError",
     "evalue": "'results'",
     "output_type": "error",
     "traceback": [
      "\u001b[0;31m---------------------------------------------------------------------------\u001b[0m",
      "\u001b[0;31mKeyError\u001b[0m                                  Traceback (most recent call last)",
      "\u001b[0;32m<ipython-input-20-8457fe634861>\u001b[0m in \u001b[0;36m<module>\u001b[0;34m()\u001b[0m\n\u001b[1;32m     10\u001b[0m \u001b[0mva_ddi_alerts\u001b[0m \u001b[0;34m=\u001b[0m \u001b[0mlist\u001b[0m\u001b[0;34m(\u001b[0m\u001b[0;34m)\u001b[0m\u001b[0;34m\u001b[0m\u001b[0m\n\u001b[1;32m     11\u001b[0m \u001b[0;34m\u001b[0m\u001b[0m\n\u001b[0;32m---> 12\u001b[0;31m \u001b[0;32mfor\u001b[0m \u001b[0mr\u001b[0m \u001b[0;32min\u001b[0m \u001b[0mtqdm\u001b[0m\u001b[0;34m(\u001b[0m\u001b[0mdata\u001b[0m\u001b[0;34m[\u001b[0m\u001b[0;34m'results'\u001b[0m\u001b[0;34m]\u001b[0m\u001b[0;34m)\u001b[0m\u001b[0;34m:\u001b[0m\u001b[0;34m\u001b[0m\u001b[0m\n\u001b[0m\u001b[1;32m     13\u001b[0m \u001b[0;34m\u001b[0m\u001b[0m\n\u001b[1;32m     14\u001b[0m     \u001b[0;31m#print r\u001b[0m\u001b[0;34m\u001b[0m\u001b[0;34m\u001b[0m\u001b[0m\n",
      "\u001b[0;31mKeyError\u001b[0m: 'results'"
     ]
    }
   ],
   "source": [
    "#query?service=va&meta=get_ddi_alerts\n",
    "\n",
    "# Retrieve data from the Veteran Affairs Hospital (Stitch ids)\n",
    "# We map those drugs to their rxnorm\n",
    "\n",
    "data = nsides_api('va', 'get_ddi_alerts')\n",
    "print data\n",
    "#print len(data['results'])\n",
    "\n",
    "va_ddi_alerts = list()\n",
    "\n",
    "for r in tqdm(data['results']):\n",
    "    \n",
    "    #print r\n",
    "    \n",
    "    if (r['drug_1'] in unrecognized_id) or (r['drug_2'] in unrecognized_id):\n",
    "        continue\n",
    "    \n",
    "    stitch_data1 = stitch_api(r['drug_1'])\n",
    "    stitch_data2 = stitch_api(r['drug_2'])\n",
    "\n",
    "    drugs1 = name2rxnorm(stitch_data1[0]['preferredName'])\n",
    "    drugs2 = name2rxnorm(stitch_data2[0]['preferredName'])\n",
    "    \n",
    "    for drug1 in drugs1:\n",
    "        drug1 = (int(drug1))\n",
    "    for drug2 in drugs2:\n",
    "        drug2 = (int(drug2))\n",
    "        \n",
    "    va_ddi_alerts.append((drug1, drug2))\n",
    "\n",
    "print len(va_ddi_alerts)\n",
    "print va_ddi_alerts[0]"
   ]
  },
  {
   "cell_type": "code",
   "execution_count": 43,
   "metadata": {
    "collapsed": true
   },
   "outputs": [],
   "source": [
    "key_errors = list()\n",
    "key_errors.append(17941)\n",
    "key_errors.append(7930)\n",
    "key_errors.append(357280)\n",
    "key_errors.append(218863)\n",
    "key_errors.append(353062)"
   ]
  },
  {
   "cell_type": "code",
   "execution_count": 20,
   "metadata": {},
   "outputs": [
    {
     "name": "stdout",
     "output_type": "stream",
     "text": [
      "641\n",
      "574\n",
      "(1529331, 1789276)\n"
     ]
    }
   ],
   "source": [
    "# We map drugpairs from rxnorm to their OMOP id\n",
    "va_omop_ddi = list()\n",
    "\n",
    "for drugpair in va_ddi_alerts:\n",
    "    #print drugpair\n",
    "    if drugpair[0] in key_errors:\n",
    "        continue\n",
    "    if drugpair[1] in key_errors:\n",
    "        continue\n",
    "    va_omop_ddi.append((rxnorm2concept[drugpair[0]],rxnorm2concept[drugpair[1]]))\n",
    "\n",
    "print len(va_ddi_alerts)\n",
    "print len(va_omop_ddi)\n",
    "print va_omop_ddi[0]"
   ]
  },
  {
   "cell_type": "code",
   "execution_count": 21,
   "metadata": {},
   "outputs": [
    {
     "name": "stdout",
     "output_type": "stream",
     "text": [
      "1\n",
      "{u'results': [{u'concept_id': u'3000000'}]}\n"
     ]
    }
   ],
   "source": [
    "#LOINC to OMOP\n",
    "#/api/v1/query?service=omop&meta=get_omop_from_loinc&q=28377-0\n",
    "data = nsides_api('omop', 'get_omop_from_loinc', {'q':'28377-0'})\n",
    "print len(data)\n",
    "print data"
   ]
  },
  {
   "cell_type": "markdown",
   "metadata": {},
   "source": [
    "## Build the training table for single drugs"
   ]
  },
  {
   "cell_type": "code",
   "execution_count": 40,
   "metadata": {
    "collapsed": true
   },
   "outputs": [],
   "source": [
    "def make_lsd_training_table(pos_drugs = None, neg_drugs = None):\n",
    "\n",
    "    # we map positive and negative drugs from their concept_code to their concept_id\n",
    "    pos_drugs_mapped = list()\n",
    "    for pos_drug in pos_drugs:\n",
    "        pos_drugs_mapped.append(drug_mapping[pos_drug])\n",
    "        \n",
    "    neg_drugs_mapped = list()\n",
    "    for neg_drug in neg_drugs:\n",
    "        neg_drugs_mapped.append(drug_mapping[neg_drug])\n",
    "        \n",
    "    outcomes = np.concatenate((np.ones(len(pos_drugs),np.bool), np.zeros(len(neg_drugs),np.bool)))\n",
    "    \n",
    "    training_drugs = pos_drugs_mapped + neg_drugs_mapped\n",
    "    \n",
    "    # build the adverse events frequency table\n",
    "    ae_frequencies_training = np.zeros((len(pos_drugs)+len(neg_drugs),len(all_pairoutcomes)))\n",
    "    \n",
    "    for r in aeolus_drugReactionCounts['results']:\n",
    "        if not r['drug_concept_id'] in training_drugs:\n",
    "            continue\n",
    "        if not r['outcome_concept_id'] in all_pairoutcomes:\n",
    "            continue\n",
    "        \n",
    "        \n",
    "        i = training_drugs.index(r['drug_concept_id'])\n",
    "        j = all_pairoutcomes.index(r['outcome_concept_id'])\n",
    "        \n",
    "        frequency = float(r['nreports'])/float(r['ndrugreports'])\n",
    "        \n",
    "        ae_frequencies_training[i,j] = frequency\n",
    "                    \n",
    "    return ae_frequencies_training, outcomes"
   ]
  },
  {
   "cell_type": "code",
   "execution_count": 116,
   "metadata": {},
   "outputs": [
    {
     "name": "stdout",
     "output_type": "stream",
     "text": [
      "17\n",
      "34\n"
     ]
    }
   ],
   "source": [
    "# we only keep drugs that can be mapped\n",
    "pos_controls = [p for p in positives if p in drug_mapping]\n",
    "neg_controls = [n for n in negatives if n in drug_mapping]\n",
    "\n",
    "print len(pos_controls)\n",
    "print len(neg_controls)"
   ]
  },
  {
   "cell_type": "code",
   "execution_count": 117,
   "metadata": {},
   "outputs": [
    {
     "name": "stdout",
     "output_type": "stream",
     "text": [
      "(51, 199)\n",
      "(51,)\n",
      "17\n"
     ]
    }
   ],
   "source": [
    "X,y = make_lsd_training_table(pos_controls, neg_controls)\n",
    "\n",
    "print X.shape\n",
    "print y.shape\n",
    "\n",
    "print y.sum()"
   ]
  },
  {
   "cell_type": "markdown",
   "metadata": {},
   "source": [
    "### Same process for drugpairs"
   ]
  },
  {
   "cell_type": "code",
   "execution_count": 43,
   "metadata": {},
   "outputs": [
    {
     "name": "stdout",
     "output_type": "stream",
     "text": [
      "http://nsideseb-env.us-east-1.elasticbeanstalk.com/api/v1/query?service=aeolus&meta=drugpairReactionCounts&q=0\n"
     ]
    },
    {
     "name": "stderr",
     "output_type": "stream",
     "text": [
      "\r",
      "  0%|          | 0/793 [00:00<?, ?it/s]"
     ]
    },
    {
     "name": "stdout",
     "output_type": "stream",
     "text": [
      "http://nsideseb-env.us-east-1.elasticbeanstalk.com/api/v1/query?service=aeolus&meta=drugpairReactionCounts&q=10000\n"
     ]
    },
    {
     "name": "stderr",
     "output_type": "stream",
     "text": [
      "\r",
      "  0%|          | 1/793 [00:01<19:16,  1.46s/it]"
     ]
    },
    {
     "name": "stdout",
     "output_type": "stream",
     "text": [
      "http://nsideseb-env.us-east-1.elasticbeanstalk.com/api/v1/query?service=aeolus&meta=drugpairReactionCounts&q=20000\n"
     ]
    },
    {
     "name": "stderr",
     "output_type": "stream",
     "text": [
      "\r",
      "  0%|          | 2/793 [00:02<19:31,  1.48s/it]"
     ]
    },
    {
     "name": "stdout",
     "output_type": "stream",
     "text": [
      "http://nsideseb-env.us-east-1.elasticbeanstalk.com/api/v1/query?service=aeolus&meta=drugpairReactionCounts&q=30000\n"
     ]
    },
    {
     "name": "stderr",
     "output_type": "stream",
     "text": [
      "\r",
      "  0%|          | 3/793 [00:04<19:42,  1.50s/it]"
     ]
    },
    {
     "name": "stdout",
     "output_type": "stream",
     "text": [
      "http://nsideseb-env.us-east-1.elasticbeanstalk.com/api/v1/query?service=aeolus&meta=drugpairReactionCounts&q=40000\n"
     ]
    },
    {
     "name": "stderr",
     "output_type": "stream",
     "text": [
      "\r",
      "  1%|          | 4/793 [00:06<20:22,  1.55s/it]"
     ]
    },
    {
     "name": "stdout",
     "output_type": "stream",
     "text": [
      "http://nsideseb-env.us-east-1.elasticbeanstalk.com/api/v1/query?service=aeolus&meta=drugpairReactionCounts&q=50000\n"
     ]
    },
    {
     "name": "stderr",
     "output_type": "stream",
     "text": [
      "\r",
      "  1%|          | 5/793 [00:07<20:38,  1.57s/it]"
     ]
    },
    {
     "name": "stdout",
     "output_type": "stream",
     "text": [
      "http://nsideseb-env.us-east-1.elasticbeanstalk.com/api/v1/query?service=aeolus&meta=drugpairReactionCounts&q=60000\n"
     ]
    },
    {
     "name": "stderr",
     "output_type": "stream",
     "text": [
      "\r",
      "  1%|          | 6/793 [00:09<20:12,  1.54s/it]"
     ]
    },
    {
     "name": "stdout",
     "output_type": "stream",
     "text": [
      "http://nsideseb-env.us-east-1.elasticbeanstalk.com/api/v1/query?service=aeolus&meta=drugpairReactionCounts&q=70000\n"
     ]
    },
    {
     "name": "stderr",
     "output_type": "stream",
     "text": [
      "\r",
      "  1%|          | 7/793 [00:10<19:42,  1.50s/it]"
     ]
    },
    {
     "name": "stdout",
     "output_type": "stream",
     "text": [
      "http://nsideseb-env.us-east-1.elasticbeanstalk.com/api/v1/query?service=aeolus&meta=drugpairReactionCounts&q=80000\n"
     ]
    },
    {
     "name": "stderr",
     "output_type": "stream",
     "text": [
      "\r",
      "  1%|          | 8/793 [00:12<18:58,  1.45s/it]"
     ]
    },
    {
     "name": "stdout",
     "output_type": "stream",
     "text": [
      "http://nsideseb-env.us-east-1.elasticbeanstalk.com/api/v1/query?service=aeolus&meta=drugpairReactionCounts&q=90000\n"
     ]
    },
    {
     "name": "stderr",
     "output_type": "stream",
     "text": [
      "\r",
      "  1%|          | 9/793 [00:13<19:52,  1.52s/it]"
     ]
    },
    {
     "name": "stdout",
     "output_type": "stream",
     "text": [
      "http://nsideseb-env.us-east-1.elasticbeanstalk.com/api/v1/query?service=aeolus&meta=drugpairReactionCounts&q=100000\n"
     ]
    },
    {
     "name": "stderr",
     "output_type": "stream",
     "text": [
      "\r",
      "  1%|▏         | 10/793 [00:15<19:35,  1.50s/it]"
     ]
    },
    {
     "name": "stdout",
     "output_type": "stream",
     "text": [
      "http://nsideseb-env.us-east-1.elasticbeanstalk.com/api/v1/query?service=aeolus&meta=drugpairReactionCounts&q=110000\n"
     ]
    },
    {
     "name": "stderr",
     "output_type": "stream",
     "text": [
      "\r",
      "  1%|▏         | 11/793 [00:16<19:42,  1.51s/it]"
     ]
    },
    {
     "name": "stdout",
     "output_type": "stream",
     "text": [
      "http://nsideseb-env.us-east-1.elasticbeanstalk.com/api/v1/query?service=aeolus&meta=drugpairReactionCounts&q=120000\n"
     ]
    },
    {
     "name": "stderr",
     "output_type": "stream",
     "text": [
      "\r",
      "  2%|▏         | 12/793 [00:18<19:16,  1.48s/it]"
     ]
    },
    {
     "name": "stdout",
     "output_type": "stream",
     "text": [
      "http://nsideseb-env.us-east-1.elasticbeanstalk.com/api/v1/query?service=aeolus&meta=drugpairReactionCounts&q=130000\n"
     ]
    },
    {
     "name": "stderr",
     "output_type": "stream",
     "text": [
      "\r",
      "  2%|▏         | 13/793 [00:19<19:27,  1.50s/it]"
     ]
    },
    {
     "name": "stdout",
     "output_type": "stream",
     "text": [
      "http://nsideseb-env.us-east-1.elasticbeanstalk.com/api/v1/query?service=aeolus&meta=drugpairReactionCounts&q=140000\n"
     ]
    },
    {
     "name": "stderr",
     "output_type": "stream",
     "text": [
      "\r",
      "  2%|▏         | 14/793 [00:21<20:22,  1.57s/it]"
     ]
    },
    {
     "name": "stdout",
     "output_type": "stream",
     "text": [
      "http://nsideseb-env.us-east-1.elasticbeanstalk.com/api/v1/query?service=aeolus&meta=drugpairReactionCounts&q=150000\n"
     ]
    },
    {
     "name": "stderr",
     "output_type": "stream",
     "text": [
      "\r",
      "  2%|▏         | 15/793 [00:22<20:11,  1.56s/it]"
     ]
    },
    {
     "name": "stdout",
     "output_type": "stream",
     "text": [
      "http://nsideseb-env.us-east-1.elasticbeanstalk.com/api/v1/query?service=aeolus&meta=drugpairReactionCounts&q=160000\n"
     ]
    },
    {
     "name": "stderr",
     "output_type": "stream",
     "text": [
      "\r",
      "  2%|▏         | 16/793 [00:24<19:48,  1.53s/it]"
     ]
    },
    {
     "name": "stdout",
     "output_type": "stream",
     "text": [
      "http://nsideseb-env.us-east-1.elasticbeanstalk.com/api/v1/query?service=aeolus&meta=drugpairReactionCounts&q=170000\n"
     ]
    },
    {
     "name": "stderr",
     "output_type": "stream",
     "text": [
      "\r",
      "  2%|▏         | 17/793 [00:26<20:07,  1.56s/it]"
     ]
    },
    {
     "name": "stdout",
     "output_type": "stream",
     "text": [
      "http://nsideseb-env.us-east-1.elasticbeanstalk.com/api/v1/query?service=aeolus&meta=drugpairReactionCounts&q=180000\n"
     ]
    },
    {
     "name": "stderr",
     "output_type": "stream",
     "text": [
      "\r",
      "  2%|▏         | 18/793 [00:27<19:49,  1.53s/it]"
     ]
    },
    {
     "name": "stdout",
     "output_type": "stream",
     "text": [
      "http://nsideseb-env.us-east-1.elasticbeanstalk.com/api/v1/query?service=aeolus&meta=drugpairReactionCounts&q=190000\n"
     ]
    },
    {
     "name": "stderr",
     "output_type": "stream",
     "text": [
      "\r",
      "  2%|▏         | 19/793 [00:29<20:36,  1.60s/it]"
     ]
    },
    {
     "name": "stdout",
     "output_type": "stream",
     "text": [
      "http://nsideseb-env.us-east-1.elasticbeanstalk.com/api/v1/query?service=aeolus&meta=drugpairReactionCounts&q=200000\n"
     ]
    },
    {
     "name": "stderr",
     "output_type": "stream",
     "text": [
      "\r",
      "  3%|▎         | 20/793 [00:30<19:51,  1.54s/it]"
     ]
    },
    {
     "name": "stdout",
     "output_type": "stream",
     "text": [
      "http://nsideseb-env.us-east-1.elasticbeanstalk.com/api/v1/query?service=aeolus&meta=drugpairReactionCounts&q=210000\n"
     ]
    },
    {
     "name": "stderr",
     "output_type": "stream",
     "text": [
      "\r",
      "  3%|▎         | 21/793 [00:32<21:03,  1.64s/it]"
     ]
    },
    {
     "name": "stdout",
     "output_type": "stream",
     "text": [
      "http://nsideseb-env.us-east-1.elasticbeanstalk.com/api/v1/query?service=aeolus&meta=drugpairReactionCounts&q=220000\n"
     ]
    },
    {
     "name": "stderr",
     "output_type": "stream",
     "text": [
      "\r",
      "  3%|▎         | 22/793 [00:34<20:54,  1.63s/it]"
     ]
    },
    {
     "name": "stdout",
     "output_type": "stream",
     "text": [
      "http://nsideseb-env.us-east-1.elasticbeanstalk.com/api/v1/query?service=aeolus&meta=drugpairReactionCounts&q=230000\n"
     ]
    },
    {
     "name": "stderr",
     "output_type": "stream",
     "text": [
      "\r",
      "  3%|▎         | 23/793 [00:35<21:21,  1.66s/it]"
     ]
    },
    {
     "name": "stdout",
     "output_type": "stream",
     "text": [
      "http://nsideseb-env.us-east-1.elasticbeanstalk.com/api/v1/query?service=aeolus&meta=drugpairReactionCounts&q=240000\n"
     ]
    },
    {
     "name": "stderr",
     "output_type": "stream",
     "text": [
      "\r",
      "  3%|▎         | 24/793 [00:37<21:32,  1.68s/it]"
     ]
    },
    {
     "name": "stdout",
     "output_type": "stream",
     "text": [
      "http://nsideseb-env.us-east-1.elasticbeanstalk.com/api/v1/query?service=aeolus&meta=drugpairReactionCounts&q=250000\n"
     ]
    },
    {
     "name": "stderr",
     "output_type": "stream",
     "text": [
      "\r",
      "  3%|▎         | 25/793 [00:39<21:23,  1.67s/it]"
     ]
    },
    {
     "name": "stdout",
     "output_type": "stream",
     "text": [
      "http://nsideseb-env.us-east-1.elasticbeanstalk.com/api/v1/query?service=aeolus&meta=drugpairReactionCounts&q=260000\n"
     ]
    },
    {
     "name": "stderr",
     "output_type": "stream",
     "text": [
      "\r",
      "  3%|▎         | 26/793 [00:40<21:01,  1.64s/it]"
     ]
    },
    {
     "name": "stdout",
     "output_type": "stream",
     "text": [
      "http://nsideseb-env.us-east-1.elasticbeanstalk.com/api/v1/query?service=aeolus&meta=drugpairReactionCounts&q=270000\n"
     ]
    },
    {
     "name": "stderr",
     "output_type": "stream",
     "text": [
      "\r",
      "  3%|▎         | 27/793 [00:42<20:53,  1.64s/it]"
     ]
    },
    {
     "name": "stdout",
     "output_type": "stream",
     "text": [
      "http://nsideseb-env.us-east-1.elasticbeanstalk.com/api/v1/query?service=aeolus&meta=drugpairReactionCounts&q=280000\n"
     ]
    },
    {
     "name": "stderr",
     "output_type": "stream",
     "text": [
      "\r",
      "  4%|▎         | 28/793 [00:44<21:03,  1.65s/it]"
     ]
    },
    {
     "name": "stdout",
     "output_type": "stream",
     "text": [
      "http://nsideseb-env.us-east-1.elasticbeanstalk.com/api/v1/query?service=aeolus&meta=drugpairReactionCounts&q=290000\n"
     ]
    },
    {
     "name": "stderr",
     "output_type": "stream",
     "text": [
      "\r",
      "  4%|▎         | 29/793 [00:45<20:48,  1.63s/it]"
     ]
    },
    {
     "name": "stdout",
     "output_type": "stream",
     "text": [
      "http://nsideseb-env.us-east-1.elasticbeanstalk.com/api/v1/query?service=aeolus&meta=drugpairReactionCounts&q=300000\n"
     ]
    },
    {
     "name": "stderr",
     "output_type": "stream",
     "text": [
      "\r",
      "  4%|▍         | 30/793 [00:47<21:03,  1.66s/it]"
     ]
    },
    {
     "name": "stdout",
     "output_type": "stream",
     "text": [
      "http://nsideseb-env.us-east-1.elasticbeanstalk.com/api/v1/query?service=aeolus&meta=drugpairReactionCounts&q=310000\n"
     ]
    },
    {
     "name": "stderr",
     "output_type": "stream",
     "text": [
      "\r",
      "  4%|▍         | 31/793 [00:49<22:20,  1.76s/it]"
     ]
    },
    {
     "name": "stdout",
     "output_type": "stream",
     "text": [
      "http://nsideseb-env.us-east-1.elasticbeanstalk.com/api/v1/query?service=aeolus&meta=drugpairReactionCounts&q=320000\n"
     ]
    },
    {
     "name": "stderr",
     "output_type": "stream",
     "text": [
      "\r",
      "  4%|▍         | 32/793 [00:50<21:01,  1.66s/it]"
     ]
    },
    {
     "name": "stdout",
     "output_type": "stream",
     "text": [
      "http://nsideseb-env.us-east-1.elasticbeanstalk.com/api/v1/query?service=aeolus&meta=drugpairReactionCounts&q=330000\n"
     ]
    },
    {
     "name": "stderr",
     "output_type": "stream",
     "text": [
      "\r",
      "  4%|▍         | 33/793 [00:52<20:48,  1.64s/it]"
     ]
    },
    {
     "name": "stdout",
     "output_type": "stream",
     "text": [
      "http://nsideseb-env.us-east-1.elasticbeanstalk.com/api/v1/query?service=aeolus&meta=drugpairReactionCounts&q=340000\n"
     ]
    },
    {
     "name": "stderr",
     "output_type": "stream",
     "text": [
      "\r",
      "  4%|▍         | 34/793 [00:54<21:20,  1.69s/it]"
     ]
    },
    {
     "name": "stdout",
     "output_type": "stream",
     "text": [
      "http://nsideseb-env.us-east-1.elasticbeanstalk.com/api/v1/query?service=aeolus&meta=drugpairReactionCounts&q=350000\n"
     ]
    },
    {
     "name": "stderr",
     "output_type": "stream",
     "text": [
      "\r",
      "  4%|▍         | 35/793 [00:56<23:00,  1.82s/it]"
     ]
    },
    {
     "name": "stdout",
     "output_type": "stream",
     "text": [
      "http://nsideseb-env.us-east-1.elasticbeanstalk.com/api/v1/query?service=aeolus&meta=drugpairReactionCounts&q=360000\n"
     ]
    },
    {
     "name": "stderr",
     "output_type": "stream",
     "text": [
      "\r",
      "  5%|▍         | 36/793 [00:58<22:54,  1.82s/it]"
     ]
    },
    {
     "name": "stdout",
     "output_type": "stream",
     "text": [
      "http://nsideseb-env.us-east-1.elasticbeanstalk.com/api/v1/query?service=aeolus&meta=drugpairReactionCounts&q=370000\n"
     ]
    },
    {
     "name": "stderr",
     "output_type": "stream",
     "text": [
      "\r",
      "  5%|▍         | 37/793 [00:59<21:49,  1.73s/it]"
     ]
    },
    {
     "name": "stdout",
     "output_type": "stream",
     "text": [
      "http://nsideseb-env.us-east-1.elasticbeanstalk.com/api/v1/query?service=aeolus&meta=drugpairReactionCounts&q=380000\n"
     ]
    },
    {
     "name": "stderr",
     "output_type": "stream",
     "text": [
      "\r",
      "  5%|▍         | 38/793 [01:01<21:02,  1.67s/it]"
     ]
    },
    {
     "name": "stdout",
     "output_type": "stream",
     "text": [
      "http://nsideseb-env.us-east-1.elasticbeanstalk.com/api/v1/query?service=aeolus&meta=drugpairReactionCounts&q=390000\n"
     ]
    },
    {
     "name": "stderr",
     "output_type": "stream",
     "text": [
      "\r",
      "  5%|▍         | 39/793 [01:02<20:51,  1.66s/it]"
     ]
    },
    {
     "name": "stdout",
     "output_type": "stream",
     "text": [
      "http://nsideseb-env.us-east-1.elasticbeanstalk.com/api/v1/query?service=aeolus&meta=drugpairReactionCounts&q=400000\n"
     ]
    },
    {
     "name": "stderr",
     "output_type": "stream",
     "text": [
      "\r",
      "  5%|▌         | 40/793 [01:04<20:14,  1.61s/it]"
     ]
    },
    {
     "name": "stdout",
     "output_type": "stream",
     "text": [
      "http://nsideseb-env.us-east-1.elasticbeanstalk.com/api/v1/query?service=aeolus&meta=drugpairReactionCounts&q=410000\n"
     ]
    },
    {
     "name": "stderr",
     "output_type": "stream",
     "text": [
      "\r",
      "  5%|▌         | 41/793 [01:06<21:01,  1.68s/it]"
     ]
    },
    {
     "name": "stdout",
     "output_type": "stream",
     "text": [
      "http://nsideseb-env.us-east-1.elasticbeanstalk.com/api/v1/query?service=aeolus&meta=drugpairReactionCounts&q=420000\n"
     ]
    },
    {
     "name": "stderr",
     "output_type": "stream",
     "text": [
      "\r",
      "  5%|▌         | 42/793 [01:07<20:34,  1.64s/it]"
     ]
    },
    {
     "name": "stdout",
     "output_type": "stream",
     "text": [
      "http://nsideseb-env.us-east-1.elasticbeanstalk.com/api/v1/query?service=aeolus&meta=drugpairReactionCounts&q=430000\n"
     ]
    },
    {
     "name": "stderr",
     "output_type": "stream",
     "text": [
      "\r",
      "  5%|▌         | 43/793 [01:09<20:20,  1.63s/it]"
     ]
    },
    {
     "name": "stdout",
     "output_type": "stream",
     "text": [
      "http://nsideseb-env.us-east-1.elasticbeanstalk.com/api/v1/query?service=aeolus&meta=drugpairReactionCounts&q=440000\n"
     ]
    },
    {
     "name": "stderr",
     "output_type": "stream",
     "text": [
      "\r",
      "  6%|▌         | 44/793 [01:11<20:29,  1.64s/it]"
     ]
    },
    {
     "name": "stdout",
     "output_type": "stream",
     "text": [
      "http://nsideseb-env.us-east-1.elasticbeanstalk.com/api/v1/query?service=aeolus&meta=drugpairReactionCounts&q=450000\n"
     ]
    },
    {
     "name": "stderr",
     "output_type": "stream",
     "text": [
      "\r",
      "  6%|▌         | 45/793 [01:12<20:21,  1.63s/it]"
     ]
    },
    {
     "name": "stdout",
     "output_type": "stream",
     "text": [
      "http://nsideseb-env.us-east-1.elasticbeanstalk.com/api/v1/query?service=aeolus&meta=drugpairReactionCounts&q=460000\n"
     ]
    },
    {
     "name": "stderr",
     "output_type": "stream",
     "text": [
      "\r",
      "  6%|▌         | 46/793 [01:14<20:34,  1.65s/it]"
     ]
    },
    {
     "name": "stdout",
     "output_type": "stream",
     "text": [
      "http://nsideseb-env.us-east-1.elasticbeanstalk.com/api/v1/query?service=aeolus&meta=drugpairReactionCounts&q=470000\n"
     ]
    },
    {
     "name": "stderr",
     "output_type": "stream",
     "text": [
      "\r",
      "  6%|▌         | 47/793 [01:16<20:51,  1.68s/it]"
     ]
    },
    {
     "name": "stdout",
     "output_type": "stream",
     "text": [
      "http://nsideseb-env.us-east-1.elasticbeanstalk.com/api/v1/query?service=aeolus&meta=drugpairReactionCounts&q=480000\n"
     ]
    },
    {
     "name": "stderr",
     "output_type": "stream",
     "text": [
      "\r",
      "  6%|▌         | 48/793 [01:17<21:11,  1.71s/it]"
     ]
    },
    {
     "name": "stdout",
     "output_type": "stream",
     "text": [
      "http://nsideseb-env.us-east-1.elasticbeanstalk.com/api/v1/query?service=aeolus&meta=drugpairReactionCounts&q=490000\n"
     ]
    },
    {
     "name": "stderr",
     "output_type": "stream",
     "text": [
      "\r",
      "  6%|▌         | 49/793 [01:19<21:16,  1.72s/it]"
     ]
    },
    {
     "name": "stdout",
     "output_type": "stream",
     "text": [
      "http://nsideseb-env.us-east-1.elasticbeanstalk.com/api/v1/query?service=aeolus&meta=drugpairReactionCounts&q=500000\n"
     ]
    },
    {
     "name": "stderr",
     "output_type": "stream",
     "text": [
      "\r",
      "  6%|▋         | 50/793 [01:21<21:13,  1.71s/it]"
     ]
    },
    {
     "name": "stdout",
     "output_type": "stream",
     "text": [
      "http://nsideseb-env.us-east-1.elasticbeanstalk.com/api/v1/query?service=aeolus&meta=drugpairReactionCounts&q=510000\n"
     ]
    },
    {
     "name": "stderr",
     "output_type": "stream",
     "text": [
      "\r",
      "  6%|▋         | 51/793 [01:22<20:54,  1.69s/it]"
     ]
    },
    {
     "name": "stdout",
     "output_type": "stream",
     "text": [
      "http://nsideseb-env.us-east-1.elasticbeanstalk.com/api/v1/query?service=aeolus&meta=drugpairReactionCounts&q=520000\n"
     ]
    },
    {
     "name": "stderr",
     "output_type": "stream",
     "text": [
      "\r",
      "  7%|▋         | 52/793 [01:24<20:43,  1.68s/it]"
     ]
    },
    {
     "name": "stdout",
     "output_type": "stream",
     "text": [
      "http://nsideseb-env.us-east-1.elasticbeanstalk.com/api/v1/query?service=aeolus&meta=drugpairReactionCounts&q=530000\n"
     ]
    },
    {
     "name": "stderr",
     "output_type": "stream",
     "text": [
      "\r",
      "  7%|▋         | 53/793 [01:26<20:12,  1.64s/it]"
     ]
    },
    {
     "name": "stdout",
     "output_type": "stream",
     "text": [
      "http://nsideseb-env.us-east-1.elasticbeanstalk.com/api/v1/query?service=aeolus&meta=drugpairReactionCounts&q=540000\n"
     ]
    },
    {
     "name": "stderr",
     "output_type": "stream",
     "text": [
      "\r",
      "  7%|▋         | 54/793 [01:27<20:08,  1.64s/it]"
     ]
    },
    {
     "name": "stdout",
     "output_type": "stream",
     "text": [
      "http://nsideseb-env.us-east-1.elasticbeanstalk.com/api/v1/query?service=aeolus&meta=drugpairReactionCounts&q=550000\n"
     ]
    },
    {
     "name": "stderr",
     "output_type": "stream",
     "text": [
      "\r",
      "  7%|▋         | 55/793 [01:29<20:36,  1.67s/it]"
     ]
    },
    {
     "name": "stdout",
     "output_type": "stream",
     "text": [
      "http://nsideseb-env.us-east-1.elasticbeanstalk.com/api/v1/query?service=aeolus&meta=drugpairReactionCounts&q=560000\n"
     ]
    },
    {
     "name": "stderr",
     "output_type": "stream",
     "text": [
      "\r",
      "  7%|▋         | 56/793 [01:31<20:06,  1.64s/it]"
     ]
    },
    {
     "name": "stdout",
     "output_type": "stream",
     "text": [
      "http://nsideseb-env.us-east-1.elasticbeanstalk.com/api/v1/query?service=aeolus&meta=drugpairReactionCounts&q=570000\n"
     ]
    },
    {
     "name": "stderr",
     "output_type": "stream",
     "text": [
      "\r",
      "  7%|▋         | 57/793 [01:32<19:59,  1.63s/it]"
     ]
    },
    {
     "name": "stdout",
     "output_type": "stream",
     "text": [
      "http://nsideseb-env.us-east-1.elasticbeanstalk.com/api/v1/query?service=aeolus&meta=drugpairReactionCounts&q=580000\n"
     ]
    },
    {
     "name": "stderr",
     "output_type": "stream",
     "text": [
      "\r",
      "  7%|▋         | 58/793 [01:34<19:46,  1.61s/it]"
     ]
    },
    {
     "name": "stdout",
     "output_type": "stream",
     "text": [
      "http://nsideseb-env.us-east-1.elasticbeanstalk.com/api/v1/query?service=aeolus&meta=drugpairReactionCounts&q=590000\n"
     ]
    },
    {
     "name": "stderr",
     "output_type": "stream",
     "text": [
      "\r",
      "  7%|▋         | 59/793 [01:35<19:57,  1.63s/it]"
     ]
    },
    {
     "name": "stdout",
     "output_type": "stream",
     "text": [
      "http://nsideseb-env.us-east-1.elasticbeanstalk.com/api/v1/query?service=aeolus&meta=drugpairReactionCounts&q=600000\n"
     ]
    },
    {
     "name": "stderr",
     "output_type": "stream",
     "text": [
      "\r",
      "  8%|▊         | 60/793 [01:37<20:18,  1.66s/it]"
     ]
    },
    {
     "name": "stdout",
     "output_type": "stream",
     "text": [
      "http://nsideseb-env.us-east-1.elasticbeanstalk.com/api/v1/query?service=aeolus&meta=drugpairReactionCounts&q=610000\n"
     ]
    },
    {
     "name": "stderr",
     "output_type": "stream",
     "text": [
      "\r",
      "  8%|▊         | 61/793 [01:39<20:01,  1.64s/it]"
     ]
    },
    {
     "name": "stdout",
     "output_type": "stream",
     "text": [
      "http://nsideseb-env.us-east-1.elasticbeanstalk.com/api/v1/query?service=aeolus&meta=drugpairReactionCounts&q=620000\n"
     ]
    },
    {
     "name": "stderr",
     "output_type": "stream",
     "text": [
      "\r",
      "  8%|▊         | 62/793 [01:40<19:46,  1.62s/it]"
     ]
    },
    {
     "name": "stdout",
     "output_type": "stream",
     "text": [
      "http://nsideseb-env.us-east-1.elasticbeanstalk.com/api/v1/query?service=aeolus&meta=drugpairReactionCounts&q=630000\n"
     ]
    },
    {
     "name": "stderr",
     "output_type": "stream",
     "text": [
      "\r",
      "  8%|▊         | 63/793 [01:42<19:53,  1.63s/it]"
     ]
    },
    {
     "name": "stdout",
     "output_type": "stream",
     "text": [
      "http://nsideseb-env.us-east-1.elasticbeanstalk.com/api/v1/query?service=aeolus&meta=drugpairReactionCounts&q=640000\n"
     ]
    },
    {
     "name": "stderr",
     "output_type": "stream",
     "text": [
      "\r",
      "  8%|▊         | 64/793 [01:43<19:20,  1.59s/it]"
     ]
    },
    {
     "name": "stdout",
     "output_type": "stream",
     "text": [
      "http://nsideseb-env.us-east-1.elasticbeanstalk.com/api/v1/query?service=aeolus&meta=drugpairReactionCounts&q=650000\n"
     ]
    },
    {
     "name": "stderr",
     "output_type": "stream",
     "text": [
      "\r",
      "  8%|▊         | 65/793 [01:45<19:28,  1.60s/it]"
     ]
    },
    {
     "name": "stdout",
     "output_type": "stream",
     "text": [
      "http://nsideseb-env.us-east-1.elasticbeanstalk.com/api/v1/query?service=aeolus&meta=drugpairReactionCounts&q=660000\n"
     ]
    },
    {
     "name": "stderr",
     "output_type": "stream",
     "text": [
      "\r",
      "  8%|▊         | 66/793 [01:47<19:08,  1.58s/it]"
     ]
    },
    {
     "name": "stdout",
     "output_type": "stream",
     "text": [
      "http://nsideseb-env.us-east-1.elasticbeanstalk.com/api/v1/query?service=aeolus&meta=drugpairReactionCounts&q=670000\n"
     ]
    },
    {
     "name": "stderr",
     "output_type": "stream",
     "text": [
      "\r",
      "  8%|▊         | 67/793 [01:48<20:04,  1.66s/it]"
     ]
    },
    {
     "name": "stdout",
     "output_type": "stream",
     "text": [
      "http://nsideseb-env.us-east-1.elasticbeanstalk.com/api/v1/query?service=aeolus&meta=drugpairReactionCounts&q=680000\n"
     ]
    },
    {
     "name": "stderr",
     "output_type": "stream",
     "text": [
      "\r",
      "  9%|▊         | 68/793 [01:50<19:26,  1.61s/it]"
     ]
    },
    {
     "name": "stdout",
     "output_type": "stream",
     "text": [
      "http://nsideseb-env.us-east-1.elasticbeanstalk.com/api/v1/query?service=aeolus&meta=drugpairReactionCounts&q=690000\n"
     ]
    },
    {
     "name": "stderr",
     "output_type": "stream",
     "text": [
      "\r",
      "  9%|▊         | 69/793 [01:52<19:19,  1.60s/it]"
     ]
    },
    {
     "name": "stdout",
     "output_type": "stream",
     "text": [
      "http://nsideseb-env.us-east-1.elasticbeanstalk.com/api/v1/query?service=aeolus&meta=drugpairReactionCounts&q=700000\n"
     ]
    },
    {
     "name": "stderr",
     "output_type": "stream",
     "text": [
      "\r",
      "  9%|▉         | 70/793 [01:53<19:15,  1.60s/it]"
     ]
    },
    {
     "name": "stdout",
     "output_type": "stream",
     "text": [
      "http://nsideseb-env.us-east-1.elasticbeanstalk.com/api/v1/query?service=aeolus&meta=drugpairReactionCounts&q=710000\n"
     ]
    },
    {
     "name": "stderr",
     "output_type": "stream",
     "text": [
      "\r",
      "  9%|▉         | 71/793 [01:55<19:08,  1.59s/it]"
     ]
    },
    {
     "name": "stdout",
     "output_type": "stream",
     "text": [
      "http://nsideseb-env.us-east-1.elasticbeanstalk.com/api/v1/query?service=aeolus&meta=drugpairReactionCounts&q=720000\n"
     ]
    },
    {
     "name": "stderr",
     "output_type": "stream",
     "text": [
      "\r",
      "  9%|▉         | 72/793 [01:56<19:19,  1.61s/it]"
     ]
    },
    {
     "name": "stdout",
     "output_type": "stream",
     "text": [
      "http://nsideseb-env.us-east-1.elasticbeanstalk.com/api/v1/query?service=aeolus&meta=drugpairReactionCounts&q=730000\n"
     ]
    },
    {
     "name": "stderr",
     "output_type": "stream",
     "text": [
      "\r",
      "  9%|▉         | 73/793 [01:58<19:19,  1.61s/it]"
     ]
    },
    {
     "name": "stdout",
     "output_type": "stream",
     "text": [
      "http://nsideseb-env.us-east-1.elasticbeanstalk.com/api/v1/query?service=aeolus&meta=drugpairReactionCounts&q=740000\n"
     ]
    },
    {
     "name": "stderr",
     "output_type": "stream",
     "text": [
      "\r",
      "  9%|▉         | 74/793 [02:00<19:15,  1.61s/it]"
     ]
    },
    {
     "name": "stdout",
     "output_type": "stream",
     "text": [
      "http://nsideseb-env.us-east-1.elasticbeanstalk.com/api/v1/query?service=aeolus&meta=drugpairReactionCounts&q=750000\n"
     ]
    },
    {
     "name": "stderr",
     "output_type": "stream",
     "text": [
      "\r",
      "  9%|▉         | 75/793 [02:01<19:22,  1.62s/it]"
     ]
    },
    {
     "name": "stdout",
     "output_type": "stream",
     "text": [
      "http://nsideseb-env.us-east-1.elasticbeanstalk.com/api/v1/query?service=aeolus&meta=drugpairReactionCounts&q=760000\n"
     ]
    },
    {
     "name": "stderr",
     "output_type": "stream",
     "text": [
      "\r",
      " 10%|▉         | 76/793 [02:03<19:04,  1.60s/it]"
     ]
    },
    {
     "name": "stdout",
     "output_type": "stream",
     "text": [
      "http://nsideseb-env.us-east-1.elasticbeanstalk.com/api/v1/query?service=aeolus&meta=drugpairReactionCounts&q=770000\n"
     ]
    },
    {
     "name": "stderr",
     "output_type": "stream",
     "text": [
      "\r",
      " 10%|▉         | 77/793 [02:05<20:11,  1.69s/it]"
     ]
    },
    {
     "name": "stdout",
     "output_type": "stream",
     "text": [
      "http://nsideseb-env.us-east-1.elasticbeanstalk.com/api/v1/query?service=aeolus&meta=drugpairReactionCounts&q=780000\n"
     ]
    },
    {
     "name": "stderr",
     "output_type": "stream",
     "text": [
      "\r",
      " 10%|▉         | 78/793 [02:06<20:15,  1.70s/it]"
     ]
    },
    {
     "name": "stdout",
     "output_type": "stream",
     "text": [
      "http://nsideseb-env.us-east-1.elasticbeanstalk.com/api/v1/query?service=aeolus&meta=drugpairReactionCounts&q=790000\n"
     ]
    },
    {
     "name": "stderr",
     "output_type": "stream",
     "text": [
      "\r",
      " 10%|▉         | 79/793 [02:08<20:02,  1.68s/it]"
     ]
    },
    {
     "name": "stdout",
     "output_type": "stream",
     "text": [
      "http://nsideseb-env.us-east-1.elasticbeanstalk.com/api/v1/query?service=aeolus&meta=drugpairReactionCounts&q=800000\n"
     ]
    },
    {
     "name": "stderr",
     "output_type": "stream",
     "text": [
      "\r",
      " 10%|█         | 80/793 [02:10<19:34,  1.65s/it]"
     ]
    },
    {
     "name": "stdout",
     "output_type": "stream",
     "text": [
      "http://nsideseb-env.us-east-1.elasticbeanstalk.com/api/v1/query?service=aeolus&meta=drugpairReactionCounts&q=810000\n"
     ]
    },
    {
     "name": "stderr",
     "output_type": "stream",
     "text": [
      "\r",
      " 10%|█         | 81/793 [02:11<19:31,  1.65s/it]"
     ]
    },
    {
     "name": "stdout",
     "output_type": "stream",
     "text": [
      "http://nsideseb-env.us-east-1.elasticbeanstalk.com/api/v1/query?service=aeolus&meta=drugpairReactionCounts&q=820000\n"
     ]
    },
    {
     "name": "stderr",
     "output_type": "stream",
     "text": [
      "\r",
      " 10%|█         | 82/793 [02:13<19:50,  1.67s/it]"
     ]
    },
    {
     "name": "stdout",
     "output_type": "stream",
     "text": [
      "http://nsideseb-env.us-east-1.elasticbeanstalk.com/api/v1/query?service=aeolus&meta=drugpairReactionCounts&q=830000\n"
     ]
    },
    {
     "name": "stderr",
     "output_type": "stream",
     "text": [
      "\r",
      " 10%|█         | 83/793 [02:15<19:32,  1.65s/it]"
     ]
    },
    {
     "name": "stdout",
     "output_type": "stream",
     "text": [
      "http://nsideseb-env.us-east-1.elasticbeanstalk.com/api/v1/query?service=aeolus&meta=drugpairReactionCounts&q=840000\n"
     ]
    },
    {
     "name": "stderr",
     "output_type": "stream",
     "text": [
      "\r",
      " 11%|█         | 84/793 [02:16<20:06,  1.70s/it]"
     ]
    },
    {
     "name": "stdout",
     "output_type": "stream",
     "text": [
      "http://nsideseb-env.us-east-1.elasticbeanstalk.com/api/v1/query?service=aeolus&meta=drugpairReactionCounts&q=850000\n"
     ]
    },
    {
     "name": "stderr",
     "output_type": "stream",
     "text": [
      "\r",
      " 11%|█         | 85/793 [02:18<19:48,  1.68s/it]"
     ]
    },
    {
     "name": "stdout",
     "output_type": "stream",
     "text": [
      "http://nsideseb-env.us-east-1.elasticbeanstalk.com/api/v1/query?service=aeolus&meta=drugpairReactionCounts&q=860000\n"
     ]
    },
    {
     "name": "stderr",
     "output_type": "stream",
     "text": [
      "\r",
      " 11%|█         | 86/793 [02:20<19:35,  1.66s/it]"
     ]
    },
    {
     "name": "stdout",
     "output_type": "stream",
     "text": [
      "http://nsideseb-env.us-east-1.elasticbeanstalk.com/api/v1/query?service=aeolus&meta=drugpairReactionCounts&q=870000\n"
     ]
    },
    {
     "name": "stderr",
     "output_type": "stream",
     "text": [
      "\r",
      " 11%|█         | 87/793 [02:21<19:48,  1.68s/it]"
     ]
    },
    {
     "name": "stdout",
     "output_type": "stream",
     "text": [
      "http://nsideseb-env.us-east-1.elasticbeanstalk.com/api/v1/query?service=aeolus&meta=drugpairReactionCounts&q=880000\n"
     ]
    },
    {
     "name": "stderr",
     "output_type": "stream",
     "text": [
      "\r",
      " 11%|█         | 88/793 [02:23<20:23,  1.73s/it]"
     ]
    },
    {
     "name": "stdout",
     "output_type": "stream",
     "text": [
      "http://nsideseb-env.us-east-1.elasticbeanstalk.com/api/v1/query?service=aeolus&meta=drugpairReactionCounts&q=890000\n"
     ]
    },
    {
     "name": "stderr",
     "output_type": "stream",
     "text": [
      "\r",
      " 11%|█         | 89/793 [02:25<19:52,  1.69s/it]"
     ]
    },
    {
     "name": "stdout",
     "output_type": "stream",
     "text": [
      "http://nsideseb-env.us-east-1.elasticbeanstalk.com/api/v1/query?service=aeolus&meta=drugpairReactionCounts&q=900000\n"
     ]
    },
    {
     "name": "stderr",
     "output_type": "stream",
     "text": [
      "\r",
      " 11%|█▏        | 90/793 [02:27<21:19,  1.82s/it]"
     ]
    },
    {
     "name": "stdout",
     "output_type": "stream",
     "text": [
      "http://nsideseb-env.us-east-1.elasticbeanstalk.com/api/v1/query?service=aeolus&meta=drugpairReactionCounts&q=910000\n"
     ]
    },
    {
     "name": "stderr",
     "output_type": "stream",
     "text": [
      "\r",
      " 11%|█▏        | 91/793 [02:29<21:50,  1.87s/it]"
     ]
    },
    {
     "name": "stdout",
     "output_type": "stream",
     "text": [
      "http://nsideseb-env.us-east-1.elasticbeanstalk.com/api/v1/query?service=aeolus&meta=drugpairReactionCounts&q=920000\n"
     ]
    },
    {
     "name": "stderr",
     "output_type": "stream",
     "text": [
      "\r",
      " 12%|█▏        | 92/793 [02:31<21:28,  1.84s/it]"
     ]
    },
    {
     "name": "stdout",
     "output_type": "stream",
     "text": [
      "http://nsideseb-env.us-east-1.elasticbeanstalk.com/api/v1/query?service=aeolus&meta=drugpairReactionCounts&q=930000\n"
     ]
    },
    {
     "name": "stderr",
     "output_type": "stream",
     "text": [
      "\r",
      " 12%|█▏        | 93/793 [02:33<22:30,  1.93s/it]"
     ]
    },
    {
     "name": "stdout",
     "output_type": "stream",
     "text": [
      "http://nsideseb-env.us-east-1.elasticbeanstalk.com/api/v1/query?service=aeolus&meta=drugpairReactionCounts&q=940000\n"
     ]
    },
    {
     "name": "stderr",
     "output_type": "stream",
     "text": [
      "\r",
      " 12%|█▏        | 94/793 [02:35<22:04,  1.89s/it]"
     ]
    },
    {
     "name": "stdout",
     "output_type": "stream",
     "text": [
      "http://nsideseb-env.us-east-1.elasticbeanstalk.com/api/v1/query?service=aeolus&meta=drugpairReactionCounts&q=950000\n"
     ]
    },
    {
     "name": "stderr",
     "output_type": "stream",
     "text": [
      "\r",
      " 12%|█▏        | 95/793 [02:37<21:50,  1.88s/it]"
     ]
    },
    {
     "name": "stdout",
     "output_type": "stream",
     "text": [
      "http://nsideseb-env.us-east-1.elasticbeanstalk.com/api/v1/query?service=aeolus&meta=drugpairReactionCounts&q=960000\n"
     ]
    },
    {
     "name": "stderr",
     "output_type": "stream",
     "text": [
      "\r",
      " 12%|█▏        | 96/793 [02:38<21:53,  1.88s/it]"
     ]
    },
    {
     "name": "stdout",
     "output_type": "stream",
     "text": [
      "http://nsideseb-env.us-east-1.elasticbeanstalk.com/api/v1/query?service=aeolus&meta=drugpairReactionCounts&q=970000\n"
     ]
    },
    {
     "name": "stderr",
     "output_type": "stream",
     "text": [
      "\r",
      " 12%|█▏        | 97/793 [02:40<22:03,  1.90s/it]"
     ]
    },
    {
     "name": "stdout",
     "output_type": "stream",
     "text": [
      "http://nsideseb-env.us-east-1.elasticbeanstalk.com/api/v1/query?service=aeolus&meta=drugpairReactionCounts&q=980000\n"
     ]
    },
    {
     "name": "stderr",
     "output_type": "stream",
     "text": [
      "\r",
      " 12%|█▏        | 98/793 [02:42<21:20,  1.84s/it]"
     ]
    },
    {
     "name": "stdout",
     "output_type": "stream",
     "text": [
      "http://nsideseb-env.us-east-1.elasticbeanstalk.com/api/v1/query?service=aeolus&meta=drugpairReactionCounts&q=990000\n"
     ]
    },
    {
     "name": "stderr",
     "output_type": "stream",
     "text": [
      "\r",
      " 12%|█▏        | 99/793 [02:44<21:09,  1.83s/it]"
     ]
    },
    {
     "name": "stdout",
     "output_type": "stream",
     "text": [
      "http://nsideseb-env.us-east-1.elasticbeanstalk.com/api/v1/query?service=aeolus&meta=drugpairReactionCounts&q=1000000\n"
     ]
    },
    {
     "name": "stderr",
     "output_type": "stream",
     "text": [
      "\r",
      " 13%|█▎        | 100/793 [02:46<21:38,  1.87s/it]"
     ]
    },
    {
     "name": "stdout",
     "output_type": "stream",
     "text": [
      "http://nsideseb-env.us-east-1.elasticbeanstalk.com/api/v1/query?service=aeolus&meta=drugpairReactionCounts&q=1010000\n"
     ]
    },
    {
     "name": "stderr",
     "output_type": "stream",
     "text": [
      "\r",
      " 13%|█▎        | 101/793 [02:49<24:39,  2.14s/it]"
     ]
    },
    {
     "name": "stdout",
     "output_type": "stream",
     "text": [
      "http://nsideseb-env.us-east-1.elasticbeanstalk.com/api/v1/query?service=aeolus&meta=drugpairReactionCounts&q=1020000\n"
     ]
    },
    {
     "name": "stderr",
     "output_type": "stream",
     "text": [
      "\r",
      " 13%|█▎        | 102/793 [02:50<22:59,  2.00s/it]"
     ]
    },
    {
     "name": "stdout",
     "output_type": "stream",
     "text": [
      "http://nsideseb-env.us-east-1.elasticbeanstalk.com/api/v1/query?service=aeolus&meta=drugpairReactionCounts&q=1030000\n"
     ]
    },
    {
     "name": "stderr",
     "output_type": "stream",
     "text": [
      "\r",
      " 13%|█▎        | 103/793 [02:52<23:16,  2.02s/it]"
     ]
    },
    {
     "name": "stdout",
     "output_type": "stream",
     "text": [
      "http://nsideseb-env.us-east-1.elasticbeanstalk.com/api/v1/query?service=aeolus&meta=drugpairReactionCounts&q=1040000\n"
     ]
    },
    {
     "name": "stderr",
     "output_type": "stream",
     "text": [
      "\r",
      " 13%|█▎        | 104/793 [02:55<23:51,  2.08s/it]"
     ]
    },
    {
     "name": "stdout",
     "output_type": "stream",
     "text": [
      "http://nsideseb-env.us-east-1.elasticbeanstalk.com/api/v1/query?service=aeolus&meta=drugpairReactionCounts&q=1050000\n"
     ]
    },
    {
     "name": "stderr",
     "output_type": "stream",
     "text": [
      "\r",
      " 13%|█▎        | 105/793 [02:56<22:53,  2.00s/it]"
     ]
    },
    {
     "name": "stdout",
     "output_type": "stream",
     "text": [
      "http://nsideseb-env.us-east-1.elasticbeanstalk.com/api/v1/query?service=aeolus&meta=drugpairReactionCounts&q=1060000\n"
     ]
    },
    {
     "name": "stderr",
     "output_type": "stream",
     "text": [
      "\r",
      " 13%|█▎        | 106/793 [02:58<21:45,  1.90s/it]"
     ]
    },
    {
     "name": "stdout",
     "output_type": "stream",
     "text": [
      "http://nsideseb-env.us-east-1.elasticbeanstalk.com/api/v1/query?service=aeolus&meta=drugpairReactionCounts&q=1070000\n"
     ]
    },
    {
     "name": "stderr",
     "output_type": "stream",
     "text": [
      "\r",
      " 13%|█▎        | 107/793 [03:00<20:59,  1.84s/it]"
     ]
    },
    {
     "name": "stdout",
     "output_type": "stream",
     "text": [
      "http://nsideseb-env.us-east-1.elasticbeanstalk.com/api/v1/query?service=aeolus&meta=drugpairReactionCounts&q=1080000\n"
     ]
    },
    {
     "name": "stderr",
     "output_type": "stream",
     "text": [
      "\r",
      " 14%|█▎        | 108/793 [03:01<20:24,  1.79s/it]"
     ]
    },
    {
     "name": "stdout",
     "output_type": "stream",
     "text": [
      "http://nsideseb-env.us-east-1.elasticbeanstalk.com/api/v1/query?service=aeolus&meta=drugpairReactionCounts&q=1090000\n"
     ]
    },
    {
     "name": "stderr",
     "output_type": "stream",
     "text": [
      "\r",
      " 14%|█▎        | 109/793 [03:03<20:36,  1.81s/it]"
     ]
    },
    {
     "name": "stdout",
     "output_type": "stream",
     "text": [
      "http://nsideseb-env.us-east-1.elasticbeanstalk.com/api/v1/query?service=aeolus&meta=drugpairReactionCounts&q=1100000\n"
     ]
    },
    {
     "name": "stderr",
     "output_type": "stream",
     "text": [
      "\r",
      " 14%|█▍        | 110/793 [03:05<20:34,  1.81s/it]"
     ]
    },
    {
     "name": "stdout",
     "output_type": "stream",
     "text": [
      "http://nsideseb-env.us-east-1.elasticbeanstalk.com/api/v1/query?service=aeolus&meta=drugpairReactionCounts&q=1110000\n"
     ]
    },
    {
     "name": "stderr",
     "output_type": "stream",
     "text": [
      "\r",
      " 14%|█▍        | 111/793 [03:07<20:55,  1.84s/it]"
     ]
    },
    {
     "name": "stdout",
     "output_type": "stream",
     "text": [
      "http://nsideseb-env.us-east-1.elasticbeanstalk.com/api/v1/query?service=aeolus&meta=drugpairReactionCounts&q=1120000\n"
     ]
    },
    {
     "name": "stderr",
     "output_type": "stream",
     "text": [
      "\r",
      " 14%|█▍        | 112/793 [03:09<21:43,  1.91s/it]"
     ]
    },
    {
     "name": "stdout",
     "output_type": "stream",
     "text": [
      "http://nsideseb-env.us-east-1.elasticbeanstalk.com/api/v1/query?service=aeolus&meta=drugpairReactionCounts&q=1130000\n"
     ]
    },
    {
     "name": "stderr",
     "output_type": "stream",
     "text": [
      "\r",
      " 14%|█▍        | 113/793 [03:11<21:01,  1.86s/it]"
     ]
    },
    {
     "name": "stdout",
     "output_type": "stream",
     "text": [
      "http://nsideseb-env.us-east-1.elasticbeanstalk.com/api/v1/query?service=aeolus&meta=drugpairReactionCounts&q=1140000\n"
     ]
    },
    {
     "name": "stderr",
     "output_type": "stream",
     "text": [
      "\r",
      " 14%|█▍        | 114/793 [03:13<20:33,  1.82s/it]"
     ]
    },
    {
     "name": "stdout",
     "output_type": "stream",
     "text": [
      "http://nsideseb-env.us-east-1.elasticbeanstalk.com/api/v1/query?service=aeolus&meta=drugpairReactionCounts&q=1150000\n"
     ]
    },
    {
     "name": "stderr",
     "output_type": "stream",
     "text": [
      "\r",
      " 15%|█▍        | 115/793 [03:14<21:00,  1.86s/it]"
     ]
    },
    {
     "name": "stdout",
     "output_type": "stream",
     "text": [
      "http://nsideseb-env.us-east-1.elasticbeanstalk.com/api/v1/query?service=aeolus&meta=drugpairReactionCounts&q=1160000\n"
     ]
    },
    {
     "name": "stderr",
     "output_type": "stream",
     "text": [
      "\r",
      " 15%|█▍        | 116/793 [03:16<20:29,  1.82s/it]"
     ]
    },
    {
     "name": "stdout",
     "output_type": "stream",
     "text": [
      "http://nsideseb-env.us-east-1.elasticbeanstalk.com/api/v1/query?service=aeolus&meta=drugpairReactionCounts&q=1170000\n"
     ]
    },
    {
     "name": "stderr",
     "output_type": "stream",
     "text": [
      "\r",
      " 15%|█▍        | 117/793 [03:18<20:36,  1.83s/it]"
     ]
    },
    {
     "name": "stdout",
     "output_type": "stream",
     "text": [
      "http://nsideseb-env.us-east-1.elasticbeanstalk.com/api/v1/query?service=aeolus&meta=drugpairReactionCounts&q=1180000\n"
     ]
    },
    {
     "name": "stderr",
     "output_type": "stream",
     "text": [
      "\r",
      " 15%|█▍        | 118/793 [03:20<20:10,  1.79s/it]"
     ]
    },
    {
     "name": "stdout",
     "output_type": "stream",
     "text": [
      "http://nsideseb-env.us-east-1.elasticbeanstalk.com/api/v1/query?service=aeolus&meta=drugpairReactionCounts&q=1190000\n"
     ]
    },
    {
     "name": "stderr",
     "output_type": "stream",
     "text": [
      "\r",
      " 15%|█▌        | 119/793 [03:22<20:22,  1.81s/it]"
     ]
    },
    {
     "name": "stdout",
     "output_type": "stream",
     "text": [
      "http://nsideseb-env.us-east-1.elasticbeanstalk.com/api/v1/query?service=aeolus&meta=drugpairReactionCounts&q=1200000\n"
     ]
    },
    {
     "name": "stderr",
     "output_type": "stream",
     "text": [
      "\r",
      " 15%|█▌        | 120/793 [03:24<20:43,  1.85s/it]"
     ]
    },
    {
     "name": "stdout",
     "output_type": "stream",
     "text": [
      "http://nsideseb-env.us-east-1.elasticbeanstalk.com/api/v1/query?service=aeolus&meta=drugpairReactionCounts&q=1210000\n"
     ]
    },
    {
     "name": "stderr",
     "output_type": "stream",
     "text": [
      "\r",
      " 15%|█▌        | 121/793 [03:25<20:34,  1.84s/it]"
     ]
    },
    {
     "name": "stdout",
     "output_type": "stream",
     "text": [
      "http://nsideseb-env.us-east-1.elasticbeanstalk.com/api/v1/query?service=aeolus&meta=drugpairReactionCounts&q=1220000\n"
     ]
    },
    {
     "name": "stderr",
     "output_type": "stream",
     "text": [
      "\r",
      " 15%|█▌        | 122/793 [03:27<20:31,  1.84s/it]"
     ]
    },
    {
     "name": "stdout",
     "output_type": "stream",
     "text": [
      "http://nsideseb-env.us-east-1.elasticbeanstalk.com/api/v1/query?service=aeolus&meta=drugpairReactionCounts&q=1230000\n"
     ]
    },
    {
     "name": "stderr",
     "output_type": "stream",
     "text": [
      "\r",
      " 16%|█▌        | 123/793 [03:29<20:33,  1.84s/it]"
     ]
    },
    {
     "name": "stdout",
     "output_type": "stream",
     "text": [
      "http://nsideseb-env.us-east-1.elasticbeanstalk.com/api/v1/query?service=aeolus&meta=drugpairReactionCounts&q=1240000\n"
     ]
    },
    {
     "name": "stderr",
     "output_type": "stream",
     "text": [
      "\r",
      " 16%|█▌        | 124/793 [03:31<20:42,  1.86s/it]"
     ]
    },
    {
     "name": "stdout",
     "output_type": "stream",
     "text": [
      "http://nsideseb-env.us-east-1.elasticbeanstalk.com/api/v1/query?service=aeolus&meta=drugpairReactionCounts&q=1250000\n"
     ]
    },
    {
     "name": "stderr",
     "output_type": "stream",
     "text": [
      "\r",
      " 16%|█▌        | 125/793 [03:33<20:44,  1.86s/it]"
     ]
    },
    {
     "name": "stdout",
     "output_type": "stream",
     "text": [
      "http://nsideseb-env.us-east-1.elasticbeanstalk.com/api/v1/query?service=aeolus&meta=drugpairReactionCounts&q=1260000\n"
     ]
    },
    {
     "name": "stderr",
     "output_type": "stream",
     "text": [
      "\r",
      " 16%|█▌        | 126/793 [03:35<21:15,  1.91s/it]"
     ]
    },
    {
     "name": "stdout",
     "output_type": "stream",
     "text": [
      "http://nsideseb-env.us-east-1.elasticbeanstalk.com/api/v1/query?service=aeolus&meta=drugpairReactionCounts&q=1270000\n"
     ]
    },
    {
     "name": "stderr",
     "output_type": "stream",
     "text": [
      "\r",
      " 16%|█▌        | 127/793 [03:37<22:00,  1.98s/it]"
     ]
    },
    {
     "name": "stdout",
     "output_type": "stream",
     "text": [
      "http://nsideseb-env.us-east-1.elasticbeanstalk.com/api/v1/query?service=aeolus&meta=drugpairReactionCounts&q=1280000\n"
     ]
    },
    {
     "name": "stderr",
     "output_type": "stream",
     "text": [
      "\r",
      " 16%|█▌        | 128/793 [03:39<21:38,  1.95s/it]"
     ]
    },
    {
     "name": "stdout",
     "output_type": "stream",
     "text": [
      "http://nsideseb-env.us-east-1.elasticbeanstalk.com/api/v1/query?service=aeolus&meta=drugpairReactionCounts&q=1290000\n"
     ]
    },
    {
     "name": "stderr",
     "output_type": "stream",
     "text": [
      "\r",
      " 16%|█▋        | 129/793 [03:41<21:24,  1.93s/it]"
     ]
    },
    {
     "name": "stdout",
     "output_type": "stream",
     "text": [
      "http://nsideseb-env.us-east-1.elasticbeanstalk.com/api/v1/query?service=aeolus&meta=drugpairReactionCounts&q=1300000\n"
     ]
    },
    {
     "name": "stderr",
     "output_type": "stream",
     "text": [
      "\r",
      " 16%|█▋        | 130/793 [03:43<21:09,  1.91s/it]"
     ]
    },
    {
     "name": "stdout",
     "output_type": "stream",
     "text": [
      "http://nsideseb-env.us-east-1.elasticbeanstalk.com/api/v1/query?service=aeolus&meta=drugpairReactionCounts&q=1310000\n"
     ]
    },
    {
     "name": "stderr",
     "output_type": "stream",
     "text": [
      "\r",
      " 17%|█▋        | 131/793 [03:44<17:56,  1.63s/it]"
     ]
    },
    {
     "name": "stdout",
     "output_type": "stream",
     "text": [
      "http://nsideseb-env.us-east-1.elasticbeanstalk.com/api/v1/query?service=aeolus&meta=drugpairReactionCounts&q=1313184\n"
     ]
    },
    {
     "name": "stderr",
     "output_type": "stream",
     "text": [
      "\r",
      " 17%|█▋        | 132/793 [03:44<14:16,  1.30s/it]"
     ]
    },
    {
     "name": "stdout",
     "output_type": "stream",
     "text": [
      "http://nsideseb-env.us-east-1.elasticbeanstalk.com/api/v1/query?service=aeolus&meta=drugpairReactionCounts&q=1313184\n"
     ]
    },
    {
     "name": "stderr",
     "output_type": "stream",
     "text": [
      "\r",
      " 17%|█▋        | 133/793 [03:45<11:42,  1.06s/it]"
     ]
    },
    {
     "name": "stdout",
     "output_type": "stream",
     "text": [
      "http://nsideseb-env.us-east-1.elasticbeanstalk.com/api/v1/query?service=aeolus&meta=drugpairReactionCounts&q=1313184\n"
     ]
    },
    {
     "name": "stderr",
     "output_type": "stream",
     "text": [
      "\r",
      " 17%|█▋        | 134/793 [03:45<09:51,  1.11it/s]"
     ]
    },
    {
     "name": "stdout",
     "output_type": "stream",
     "text": [
      "http://nsideseb-env.us-east-1.elasticbeanstalk.com/api/v1/query?service=aeolus&meta=drugpairReactionCounts&q=1313184\n"
     ]
    },
    {
     "name": "stderr",
     "output_type": "stream",
     "text": [
      "\r",
      " 17%|█▋        | 135/793 [03:46<08:42,  1.26it/s]"
     ]
    },
    {
     "name": "stdout",
     "output_type": "stream",
     "text": [
      "http://nsideseb-env.us-east-1.elasticbeanstalk.com/api/v1/query?service=aeolus&meta=drugpairReactionCounts&q=1313184\n"
     ]
    },
    {
     "name": "stderr",
     "output_type": "stream",
     "text": [
      "\r",
      " 17%|█▋        | 136/793 [03:46<07:43,  1.42it/s]"
     ]
    },
    {
     "name": "stdout",
     "output_type": "stream",
     "text": [
      "http://nsideseb-env.us-east-1.elasticbeanstalk.com/api/v1/query?service=aeolus&meta=drugpairReactionCounts&q=1313184\n"
     ]
    },
    {
     "name": "stderr",
     "output_type": "stream",
     "text": [
      "\r",
      " 17%|█▋        | 137/793 [03:47<07:12,  1.52it/s]"
     ]
    },
    {
     "name": "stdout",
     "output_type": "stream",
     "text": [
      "http://nsideseb-env.us-east-1.elasticbeanstalk.com/api/v1/query?service=aeolus&meta=drugpairReactionCounts&q=1313184\n"
     ]
    },
    {
     "name": "stderr",
     "output_type": "stream",
     "text": [
      "\r",
      " 17%|█▋        | 138/793 [03:47<06:58,  1.57it/s]"
     ]
    },
    {
     "name": "stdout",
     "output_type": "stream",
     "text": [
      "http://nsideseb-env.us-east-1.elasticbeanstalk.com/api/v1/query?service=aeolus&meta=drugpairReactionCounts&q=1313184\n"
     ]
    },
    {
     "name": "stderr",
     "output_type": "stream",
     "text": [
      "\r",
      " 18%|█▊        | 139/793 [03:48<06:30,  1.67it/s]"
     ]
    },
    {
     "name": "stdout",
     "output_type": "stream",
     "text": [
      "http://nsideseb-env.us-east-1.elasticbeanstalk.com/api/v1/query?service=aeolus&meta=drugpairReactionCounts&q=1313184\n"
     ]
    },
    {
     "name": "stderr",
     "output_type": "stream",
     "text": [
      "\r",
      " 18%|█▊        | 140/793 [03:48<06:14,  1.74it/s]"
     ]
    },
    {
     "name": "stdout",
     "output_type": "stream",
     "text": [
      "http://nsideseb-env.us-east-1.elasticbeanstalk.com/api/v1/query?service=aeolus&meta=drugpairReactionCounts&q=1313184\n"
     ]
    },
    {
     "name": "stderr",
     "output_type": "stream",
     "text": [
      "\r",
      " 18%|█▊        | 141/793 [03:49<06:06,  1.78it/s]"
     ]
    },
    {
     "name": "stdout",
     "output_type": "stream",
     "text": [
      "http://nsideseb-env.us-east-1.elasticbeanstalk.com/api/v1/query?service=aeolus&meta=drugpairReactionCounts&q=1313184\n"
     ]
    },
    {
     "name": "stderr",
     "output_type": "stream",
     "text": [
      "\r",
      " 18%|█▊        | 142/793 [03:49<06:03,  1.79it/s]"
     ]
    },
    {
     "name": "stdout",
     "output_type": "stream",
     "text": [
      "http://nsideseb-env.us-east-1.elasticbeanstalk.com/api/v1/query?service=aeolus&meta=drugpairReactionCounts&q=1313184\n"
     ]
    },
    {
     "name": "stderr",
     "output_type": "stream",
     "text": [
      "\r",
      " 18%|█▊        | 143/793 [03:50<05:56,  1.82it/s]"
     ]
    },
    {
     "name": "stdout",
     "output_type": "stream",
     "text": [
      "http://nsideseb-env.us-east-1.elasticbeanstalk.com/api/v1/query?service=aeolus&meta=drugpairReactionCounts&q=1313184\n"
     ]
    },
    {
     "name": "stderr",
     "output_type": "stream",
     "text": [
      "\r",
      " 18%|█▊        | 144/793 [03:50<05:50,  1.85it/s]"
     ]
    },
    {
     "name": "stdout",
     "output_type": "stream",
     "text": [
      "http://nsideseb-env.us-east-1.elasticbeanstalk.com/api/v1/query?service=aeolus&meta=drugpairReactionCounts&q=1313184\n"
     ]
    },
    {
     "name": "stderr",
     "output_type": "stream",
     "text": [
      "\r",
      " 18%|█▊        | 145/793 [03:51<05:48,  1.86it/s]"
     ]
    },
    {
     "name": "stdout",
     "output_type": "stream",
     "text": [
      "http://nsideseb-env.us-east-1.elasticbeanstalk.com/api/v1/query?service=aeolus&meta=drugpairReactionCounts&q=1313184\n"
     ]
    },
    {
     "name": "stderr",
     "output_type": "stream",
     "text": [
      "\r",
      " 18%|█▊        | 146/793 [03:52<05:42,  1.89it/s]"
     ]
    },
    {
     "name": "stdout",
     "output_type": "stream",
     "text": [
      "http://nsideseb-env.us-east-1.elasticbeanstalk.com/api/v1/query?service=aeolus&meta=drugpairReactionCounts&q=1313184\n"
     ]
    },
    {
     "name": "stderr",
     "output_type": "stream",
     "text": [
      "\r",
      " 19%|█▊        | 147/793 [03:52<05:34,  1.93it/s]"
     ]
    },
    {
     "name": "stdout",
     "output_type": "stream",
     "text": [
      "http://nsideseb-env.us-east-1.elasticbeanstalk.com/api/v1/query?service=aeolus&meta=drugpairReactionCounts&q=1313184\n"
     ]
    },
    {
     "name": "stderr",
     "output_type": "stream",
     "text": [
      "\r",
      " 19%|█▊        | 148/793 [03:53<05:33,  1.94it/s]"
     ]
    },
    {
     "name": "stdout",
     "output_type": "stream",
     "text": [
      "http://nsideseb-env.us-east-1.elasticbeanstalk.com/api/v1/query?service=aeolus&meta=drugpairReactionCounts&q=1313184\n"
     ]
    },
    {
     "name": "stderr",
     "output_type": "stream",
     "text": [
      "\r",
      " 19%|█▉        | 149/793 [03:53<05:30,  1.95it/s]"
     ]
    },
    {
     "name": "stdout",
     "output_type": "stream",
     "text": [
      "http://nsideseb-env.us-east-1.elasticbeanstalk.com/api/v1/query?service=aeolus&meta=drugpairReactionCounts&q=1313184\n"
     ]
    },
    {
     "name": "stderr",
     "output_type": "stream",
     "text": [
      "\r",
      " 19%|█▉        | 150/793 [03:54<05:27,  1.96it/s]"
     ]
    },
    {
     "name": "stdout",
     "output_type": "stream",
     "text": [
      "http://nsideseb-env.us-east-1.elasticbeanstalk.com/api/v1/query?service=aeolus&meta=drugpairReactionCounts&q=1313184\n"
     ]
    },
    {
     "name": "stderr",
     "output_type": "stream",
     "text": [
      "\r",
      " 19%|█▉        | 151/793 [03:54<05:30,  1.94it/s]"
     ]
    },
    {
     "name": "stdout",
     "output_type": "stream",
     "text": [
      "http://nsideseb-env.us-east-1.elasticbeanstalk.com/api/v1/query?service=aeolus&meta=drugpairReactionCounts&q=1313184\n"
     ]
    },
    {
     "name": "stderr",
     "output_type": "stream",
     "text": [
      "\r",
      " 19%|█▉        | 152/793 [03:55<05:30,  1.94it/s]"
     ]
    },
    {
     "name": "stdout",
     "output_type": "stream",
     "text": [
      "http://nsideseb-env.us-east-1.elasticbeanstalk.com/api/v1/query?service=aeolus&meta=drugpairReactionCounts&q=1313184\n"
     ]
    },
    {
     "name": "stderr",
     "output_type": "stream",
     "text": [
      "\r",
      " 19%|█▉        | 153/793 [03:55<05:27,  1.96it/s]"
     ]
    },
    {
     "name": "stdout",
     "output_type": "stream",
     "text": [
      "http://nsideseb-env.us-east-1.elasticbeanstalk.com/api/v1/query?service=aeolus&meta=drugpairReactionCounts&q=1313184\n"
     ]
    },
    {
     "name": "stderr",
     "output_type": "stream",
     "text": [
      "\r",
      " 19%|█▉        | 154/793 [03:56<05:25,  1.96it/s]"
     ]
    },
    {
     "name": "stdout",
     "output_type": "stream",
     "text": [
      "http://nsideseb-env.us-east-1.elasticbeanstalk.com/api/v1/query?service=aeolus&meta=drugpairReactionCounts&q=1313184\n"
     ]
    },
    {
     "name": "stderr",
     "output_type": "stream",
     "text": [
      "\r",
      " 20%|█▉        | 155/793 [03:56<05:24,  1.96it/s]"
     ]
    },
    {
     "name": "stdout",
     "output_type": "stream",
     "text": [
      "http://nsideseb-env.us-east-1.elasticbeanstalk.com/api/v1/query?service=aeolus&meta=drugpairReactionCounts&q=1313184\n"
     ]
    },
    {
     "name": "stderr",
     "output_type": "stream",
     "text": [
      "\r",
      " 20%|█▉        | 156/793 [03:57<05:26,  1.95it/s]"
     ]
    },
    {
     "name": "stdout",
     "output_type": "stream",
     "text": [
      "http://nsideseb-env.us-east-1.elasticbeanstalk.com/api/v1/query?service=aeolus&meta=drugpairReactionCounts&q=1313184\n"
     ]
    },
    {
     "name": "stderr",
     "output_type": "stream",
     "text": [
      "\r",
      " 20%|█▉        | 157/793 [03:57<05:27,  1.94it/s]"
     ]
    },
    {
     "name": "stdout",
     "output_type": "stream",
     "text": [
      "http://nsideseb-env.us-east-1.elasticbeanstalk.com/api/v1/query?service=aeolus&meta=drugpairReactionCounts&q=1313184\n"
     ]
    },
    {
     "name": "stderr",
     "output_type": "stream",
     "text": [
      "\r",
      " 20%|█▉        | 158/793 [03:58<05:27,  1.94it/s]"
     ]
    },
    {
     "name": "stdout",
     "output_type": "stream",
     "text": [
      "http://nsideseb-env.us-east-1.elasticbeanstalk.com/api/v1/query?service=aeolus&meta=drugpairReactionCounts&q=1313184\n"
     ]
    },
    {
     "name": "stderr",
     "output_type": "stream",
     "text": [
      "\r",
      " 20%|██        | 159/793 [03:58<05:30,  1.92it/s]"
     ]
    },
    {
     "name": "stdout",
     "output_type": "stream",
     "text": [
      "http://nsideseb-env.us-east-1.elasticbeanstalk.com/api/v1/query?service=aeolus&meta=drugpairReactionCounts&q=1313184\n"
     ]
    },
    {
     "name": "stderr",
     "output_type": "stream",
     "text": [
      "\r",
      " 20%|██        | 160/793 [03:59<05:31,  1.91it/s]"
     ]
    },
    {
     "name": "stdout",
     "output_type": "stream",
     "text": [
      "http://nsideseb-env.us-east-1.elasticbeanstalk.com/api/v1/query?service=aeolus&meta=drugpairReactionCounts&q=1313184\n"
     ]
    },
    {
     "name": "stderr",
     "output_type": "stream",
     "text": [
      "\r",
      " 20%|██        | 161/793 [03:59<05:35,  1.89it/s]"
     ]
    },
    {
     "name": "stdout",
     "output_type": "stream",
     "text": [
      "http://nsideseb-env.us-east-1.elasticbeanstalk.com/api/v1/query?service=aeolus&meta=drugpairReactionCounts&q=1313184\n"
     ]
    },
    {
     "name": "stderr",
     "output_type": "stream",
     "text": [
      "\r",
      " 20%|██        | 162/793 [04:00<05:31,  1.91it/s]"
     ]
    },
    {
     "name": "stdout",
     "output_type": "stream",
     "text": [
      "http://nsideseb-env.us-east-1.elasticbeanstalk.com/api/v1/query?service=aeolus&meta=drugpairReactionCounts&q=1313184\n"
     ]
    },
    {
     "name": "stderr",
     "output_type": "stream",
     "text": [
      "\r",
      " 21%|██        | 163/793 [04:00<05:28,  1.92it/s]"
     ]
    },
    {
     "name": "stdout",
     "output_type": "stream",
     "text": [
      "http://nsideseb-env.us-east-1.elasticbeanstalk.com/api/v1/query?service=aeolus&meta=drugpairReactionCounts&q=1313184\n"
     ]
    },
    {
     "name": "stderr",
     "output_type": "stream",
     "text": [
      "\r",
      " 21%|██        | 164/793 [04:01<05:25,  1.93it/s]"
     ]
    },
    {
     "name": "stdout",
     "output_type": "stream",
     "text": [
      "http://nsideseb-env.us-east-1.elasticbeanstalk.com/api/v1/query?service=aeolus&meta=drugpairReactionCounts&q=1313184\n"
     ]
    },
    {
     "name": "stderr",
     "output_type": "stream",
     "text": [
      "\r",
      " 21%|██        | 165/793 [04:01<05:23,  1.94it/s]"
     ]
    },
    {
     "name": "stdout",
     "output_type": "stream",
     "text": [
      "http://nsideseb-env.us-east-1.elasticbeanstalk.com/api/v1/query?service=aeolus&meta=drugpairReactionCounts&q=1313184\n"
     ]
    },
    {
     "name": "stderr",
     "output_type": "stream",
     "text": [
      "\r",
      " 21%|██        | 166/793 [04:02<05:24,  1.93it/s]"
     ]
    },
    {
     "name": "stdout",
     "output_type": "stream",
     "text": [
      "http://nsideseb-env.us-east-1.elasticbeanstalk.com/api/v1/query?service=aeolus&meta=drugpairReactionCounts&q=1313184\n"
     ]
    },
    {
     "name": "stderr",
     "output_type": "stream",
     "text": [
      "\r",
      " 21%|██        | 167/793 [04:02<05:23,  1.93it/s]"
     ]
    },
    {
     "name": "stdout",
     "output_type": "stream",
     "text": [
      "http://nsideseb-env.us-east-1.elasticbeanstalk.com/api/v1/query?service=aeolus&meta=drugpairReactionCounts&q=1313184\n"
     ]
    },
    {
     "name": "stderr",
     "output_type": "stream",
     "text": [
      "\r",
      " 21%|██        | 168/793 [04:03<05:30,  1.89it/s]"
     ]
    },
    {
     "name": "stdout",
     "output_type": "stream",
     "text": [
      "http://nsideseb-env.us-east-1.elasticbeanstalk.com/api/v1/query?service=aeolus&meta=drugpairReactionCounts&q=1313184\n"
     ]
    },
    {
     "name": "stderr",
     "output_type": "stream",
     "text": [
      "\r",
      " 21%|██▏       | 169/793 [04:03<05:28,  1.90it/s]"
     ]
    },
    {
     "name": "stdout",
     "output_type": "stream",
     "text": [
      "http://nsideseb-env.us-east-1.elasticbeanstalk.com/api/v1/query?service=aeolus&meta=drugpairReactionCounts&q=1313184\n"
     ]
    },
    {
     "name": "stderr",
     "output_type": "stream",
     "text": [
      "\r",
      " 21%|██▏       | 170/793 [04:04<05:26,  1.91it/s]"
     ]
    },
    {
     "name": "stdout",
     "output_type": "stream",
     "text": [
      "http://nsideseb-env.us-east-1.elasticbeanstalk.com/api/v1/query?service=aeolus&meta=drugpairReactionCounts&q=1313184\n"
     ]
    },
    {
     "name": "stderr",
     "output_type": "stream",
     "text": [
      "\r",
      " 22%|██▏       | 171/793 [04:04<05:33,  1.86it/s]"
     ]
    },
    {
     "name": "stdout",
     "output_type": "stream",
     "text": [
      "http://nsideseb-env.us-east-1.elasticbeanstalk.com/api/v1/query?service=aeolus&meta=drugpairReactionCounts&q=1313184\n"
     ]
    },
    {
     "name": "stderr",
     "output_type": "stream",
     "text": [
      "\r",
      " 22%|██▏       | 172/793 [04:05<05:28,  1.89it/s]"
     ]
    },
    {
     "name": "stdout",
     "output_type": "stream",
     "text": [
      "http://nsideseb-env.us-east-1.elasticbeanstalk.com/api/v1/query?service=aeolus&meta=drugpairReactionCounts&q=1313184\n"
     ]
    },
    {
     "name": "stderr",
     "output_type": "stream",
     "text": [
      "\r",
      " 22%|██▏       | 173/793 [04:06<05:26,  1.90it/s]"
     ]
    },
    {
     "name": "stdout",
     "output_type": "stream",
     "text": [
      "http://nsideseb-env.us-east-1.elasticbeanstalk.com/api/v1/query?service=aeolus&meta=drugpairReactionCounts&q=1313184\n"
     ]
    },
    {
     "name": "stderr",
     "output_type": "stream",
     "text": [
      "\r",
      " 22%|██▏       | 174/793 [04:06<05:23,  1.92it/s]"
     ]
    },
    {
     "name": "stdout",
     "output_type": "stream",
     "text": [
      "http://nsideseb-env.us-east-1.elasticbeanstalk.com/api/v1/query?service=aeolus&meta=drugpairReactionCounts&q=1313184\n"
     ]
    },
    {
     "name": "stderr",
     "output_type": "stream",
     "text": [
      "\r",
      " 22%|██▏       | 175/793 [04:07<05:21,  1.92it/s]"
     ]
    },
    {
     "name": "stdout",
     "output_type": "stream",
     "text": [
      "http://nsideseb-env.us-east-1.elasticbeanstalk.com/api/v1/query?service=aeolus&meta=drugpairReactionCounts&q=1313184\n"
     ]
    },
    {
     "name": "stderr",
     "output_type": "stream",
     "text": [
      "\r",
      " 22%|██▏       | 176/793 [04:07<05:22,  1.92it/s]"
     ]
    },
    {
     "name": "stdout",
     "output_type": "stream",
     "text": [
      "http://nsideseb-env.us-east-1.elasticbeanstalk.com/api/v1/query?service=aeolus&meta=drugpairReactionCounts&q=1313184\n"
     ]
    },
    {
     "name": "stderr",
     "output_type": "stream",
     "text": [
      "\r",
      " 22%|██▏       | 177/793 [04:08<05:20,  1.92it/s]"
     ]
    },
    {
     "name": "stdout",
     "output_type": "stream",
     "text": [
      "http://nsideseb-env.us-east-1.elasticbeanstalk.com/api/v1/query?service=aeolus&meta=drugpairReactionCounts&q=1313184\n"
     ]
    },
    {
     "name": "stderr",
     "output_type": "stream",
     "text": [
      "\r",
      " 22%|██▏       | 178/793 [04:08<05:23,  1.90it/s]"
     ]
    },
    {
     "name": "stdout",
     "output_type": "stream",
     "text": [
      "http://nsideseb-env.us-east-1.elasticbeanstalk.com/api/v1/query?service=aeolus&meta=drugpairReactionCounts&q=1313184\n"
     ]
    },
    {
     "name": "stderr",
     "output_type": "stream",
     "text": [
      "\r",
      " 23%|██▎       | 179/793 [04:09<05:19,  1.92it/s]"
     ]
    },
    {
     "name": "stdout",
     "output_type": "stream",
     "text": [
      "http://nsideseb-env.us-east-1.elasticbeanstalk.com/api/v1/query?service=aeolus&meta=drugpairReactionCounts&q=1313184\n"
     ]
    },
    {
     "name": "stderr",
     "output_type": "stream",
     "text": [
      "\r",
      " 23%|██▎       | 180/793 [04:09<05:18,  1.93it/s]"
     ]
    },
    {
     "name": "stdout",
     "output_type": "stream",
     "text": [
      "http://nsideseb-env.us-east-1.elasticbeanstalk.com/api/v1/query?service=aeolus&meta=drugpairReactionCounts&q=1313184\n"
     ]
    },
    {
     "name": "stderr",
     "output_type": "stream",
     "text": [
      "\r",
      " 23%|██▎       | 181/793 [04:10<05:14,  1.95it/s]"
     ]
    },
    {
     "name": "stdout",
     "output_type": "stream",
     "text": [
      "http://nsideseb-env.us-east-1.elasticbeanstalk.com/api/v1/query?service=aeolus&meta=drugpairReactionCounts&q=1313184\n"
     ]
    },
    {
     "name": "stderr",
     "output_type": "stream",
     "text": [
      "\r",
      " 23%|██▎       | 182/793 [04:10<05:12,  1.95it/s]"
     ]
    },
    {
     "name": "stdout",
     "output_type": "stream",
     "text": [
      "http://nsideseb-env.us-east-1.elasticbeanstalk.com/api/v1/query?service=aeolus&meta=drugpairReactionCounts&q=1313184\n"
     ]
    },
    {
     "name": "stderr",
     "output_type": "stream",
     "text": [
      "\r",
      " 23%|██▎       | 183/793 [04:11<05:13,  1.94it/s]"
     ]
    },
    {
     "name": "stdout",
     "output_type": "stream",
     "text": [
      "http://nsideseb-env.us-east-1.elasticbeanstalk.com/api/v1/query?service=aeolus&meta=drugpairReactionCounts&q=1313184\n"
     ]
    },
    {
     "name": "stderr",
     "output_type": "stream",
     "text": [
      "\r",
      " 23%|██▎       | 184/793 [04:11<05:11,  1.96it/s]"
     ]
    },
    {
     "name": "stdout",
     "output_type": "stream",
     "text": [
      "http://nsideseb-env.us-east-1.elasticbeanstalk.com/api/v1/query?service=aeolus&meta=drugpairReactionCounts&q=1313184\n"
     ]
    },
    {
     "name": "stderr",
     "output_type": "stream",
     "text": [
      "\r",
      " 23%|██▎       | 185/793 [04:12<05:12,  1.94it/s]"
     ]
    },
    {
     "name": "stdout",
     "output_type": "stream",
     "text": [
      "http://nsideseb-env.us-east-1.elasticbeanstalk.com/api/v1/query?service=aeolus&meta=drugpairReactionCounts&q=1313184\n"
     ]
    },
    {
     "name": "stderr",
     "output_type": "stream",
     "text": [
      "\r",
      " 23%|██▎       | 186/793 [04:12<05:11,  1.95it/s]"
     ]
    },
    {
     "name": "stdout",
     "output_type": "stream",
     "text": [
      "http://nsideseb-env.us-east-1.elasticbeanstalk.com/api/v1/query?service=aeolus&meta=drugpairReactionCounts&q=1313184\n"
     ]
    },
    {
     "name": "stderr",
     "output_type": "stream",
     "text": [
      "\r",
      " 24%|██▎       | 187/793 [04:13<05:09,  1.96it/s]"
     ]
    },
    {
     "name": "stdout",
     "output_type": "stream",
     "text": [
      "http://nsideseb-env.us-east-1.elasticbeanstalk.com/api/v1/query?service=aeolus&meta=drugpairReactionCounts&q=1313184\n"
     ]
    },
    {
     "name": "stderr",
     "output_type": "stream",
     "text": [
      "\r",
      " 24%|██▎       | 188/793 [04:13<05:07,  1.97it/s]"
     ]
    },
    {
     "name": "stdout",
     "output_type": "stream",
     "text": [
      "http://nsideseb-env.us-east-1.elasticbeanstalk.com/api/v1/query?service=aeolus&meta=drugpairReactionCounts&q=1313184\n"
     ]
    },
    {
     "name": "stderr",
     "output_type": "stream",
     "text": [
      "\r",
      " 24%|██▍       | 189/793 [04:14<05:05,  1.98it/s]"
     ]
    },
    {
     "name": "stdout",
     "output_type": "stream",
     "text": [
      "http://nsideseb-env.us-east-1.elasticbeanstalk.com/api/v1/query?service=aeolus&meta=drugpairReactionCounts&q=1313184\n"
     ]
    },
    {
     "name": "stderr",
     "output_type": "stream",
     "text": [
      "\r",
      " 24%|██▍       | 190/793 [04:14<05:12,  1.93it/s]"
     ]
    },
    {
     "name": "stdout",
     "output_type": "stream",
     "text": [
      "http://nsideseb-env.us-east-1.elasticbeanstalk.com/api/v1/query?service=aeolus&meta=drugpairReactionCounts&q=1313184\n"
     ]
    },
    {
     "name": "stderr",
     "output_type": "stream",
     "text": [
      "\r",
      " 24%|██▍       | 191/793 [04:15<05:11,  1.93it/s]"
     ]
    },
    {
     "name": "stdout",
     "output_type": "stream",
     "text": [
      "http://nsideseb-env.us-east-1.elasticbeanstalk.com/api/v1/query?service=aeolus&meta=drugpairReactionCounts&q=1313184\n"
     ]
    },
    {
     "name": "stderr",
     "output_type": "stream",
     "text": [
      "\r",
      " 24%|██▍       | 192/793 [04:15<05:13,  1.91it/s]"
     ]
    },
    {
     "name": "stdout",
     "output_type": "stream",
     "text": [
      "http://nsideseb-env.us-east-1.elasticbeanstalk.com/api/v1/query?service=aeolus&meta=drugpairReactionCounts&q=1313184\n"
     ]
    },
    {
     "name": "stderr",
     "output_type": "stream",
     "text": [
      "\r",
      " 24%|██▍       | 193/793 [04:16<05:12,  1.92it/s]"
     ]
    },
    {
     "name": "stdout",
     "output_type": "stream",
     "text": [
      "http://nsideseb-env.us-east-1.elasticbeanstalk.com/api/v1/query?service=aeolus&meta=drugpairReactionCounts&q=1313184\n"
     ]
    },
    {
     "name": "stderr",
     "output_type": "stream",
     "text": [
      "\r",
      " 24%|██▍       | 194/793 [04:16<05:07,  1.94it/s]"
     ]
    },
    {
     "name": "stdout",
     "output_type": "stream",
     "text": [
      "http://nsideseb-env.us-east-1.elasticbeanstalk.com/api/v1/query?service=aeolus&meta=drugpairReactionCounts&q=1313184\n"
     ]
    },
    {
     "name": "stderr",
     "output_type": "stream",
     "text": [
      "\r",
      " 25%|██▍       | 195/793 [04:17<05:09,  1.93it/s]"
     ]
    },
    {
     "name": "stdout",
     "output_type": "stream",
     "text": [
      "http://nsideseb-env.us-east-1.elasticbeanstalk.com/api/v1/query?service=aeolus&meta=drugpairReactionCounts&q=1313184\n"
     ]
    },
    {
     "name": "stderr",
     "output_type": "stream",
     "text": [
      "\r",
      " 25%|██▍       | 196/793 [04:17<05:22,  1.85it/s]"
     ]
    },
    {
     "name": "stdout",
     "output_type": "stream",
     "text": [
      "http://nsideseb-env.us-east-1.elasticbeanstalk.com/api/v1/query?service=aeolus&meta=drugpairReactionCounts&q=1313184\n"
     ]
    },
    {
     "name": "stderr",
     "output_type": "stream",
     "text": [
      "\r",
      " 25%|██▍       | 197/793 [04:18<05:17,  1.88it/s]"
     ]
    },
    {
     "name": "stdout",
     "output_type": "stream",
     "text": [
      "http://nsideseb-env.us-east-1.elasticbeanstalk.com/api/v1/query?service=aeolus&meta=drugpairReactionCounts&q=1313184\n"
     ]
    },
    {
     "name": "stderr",
     "output_type": "stream",
     "text": [
      "\r",
      " 25%|██▍       | 198/793 [04:19<05:15,  1.88it/s]"
     ]
    },
    {
     "name": "stdout",
     "output_type": "stream",
     "text": [
      "http://nsideseb-env.us-east-1.elasticbeanstalk.com/api/v1/query?service=aeolus&meta=drugpairReactionCounts&q=1313184\n"
     ]
    },
    {
     "name": "stderr",
     "output_type": "stream",
     "text": [
      "\r",
      " 25%|██▌       | 199/793 [04:19<05:13,  1.90it/s]"
     ]
    },
    {
     "name": "stdout",
     "output_type": "stream",
     "text": [
      "http://nsideseb-env.us-east-1.elasticbeanstalk.com/api/v1/query?service=aeolus&meta=drugpairReactionCounts&q=1313184\n"
     ]
    },
    {
     "name": "stderr",
     "output_type": "stream",
     "text": [
      "\r",
      " 25%|██▌       | 200/793 [04:20<05:11,  1.91it/s]"
     ]
    },
    {
     "name": "stdout",
     "output_type": "stream",
     "text": [
      "http://nsideseb-env.us-east-1.elasticbeanstalk.com/api/v1/query?service=aeolus&meta=drugpairReactionCounts&q=1313184\n"
     ]
    },
    {
     "name": "stderr",
     "output_type": "stream",
     "text": [
      "\r",
      " 25%|██▌       | 201/793 [04:20<05:06,  1.93it/s]"
     ]
    },
    {
     "name": "stdout",
     "output_type": "stream",
     "text": [
      "http://nsideseb-env.us-east-1.elasticbeanstalk.com/api/v1/query?service=aeolus&meta=drugpairReactionCounts&q=1313184\n"
     ]
    },
    {
     "name": "stderr",
     "output_type": "stream",
     "text": [
      "\r",
      " 25%|██▌       | 202/793 [04:21<05:02,  1.95it/s]"
     ]
    },
    {
     "name": "stdout",
     "output_type": "stream",
     "text": [
      "http://nsideseb-env.us-east-1.elasticbeanstalk.com/api/v1/query?service=aeolus&meta=drugpairReactionCounts&q=1313184\n"
     ]
    },
    {
     "name": "stderr",
     "output_type": "stream",
     "text": [
      "\r",
      " 26%|██▌       | 203/793 [04:21<05:01,  1.96it/s]"
     ]
    },
    {
     "name": "stdout",
     "output_type": "stream",
     "text": [
      "http://nsideseb-env.us-east-1.elasticbeanstalk.com/api/v1/query?service=aeolus&meta=drugpairReactionCounts&q=1313184\n"
     ]
    },
    {
     "name": "stderr",
     "output_type": "stream",
     "text": [
      "\r",
      " 26%|██▌       | 204/793 [04:22<04:58,  1.97it/s]"
     ]
    },
    {
     "name": "stdout",
     "output_type": "stream",
     "text": [
      "http://nsideseb-env.us-east-1.elasticbeanstalk.com/api/v1/query?service=aeolus&meta=drugpairReactionCounts&q=1313184\n"
     ]
    },
    {
     "name": "stderr",
     "output_type": "stream",
     "text": [
      "\r",
      " 26%|██▌       | 205/793 [04:22<04:57,  1.98it/s]"
     ]
    },
    {
     "name": "stdout",
     "output_type": "stream",
     "text": [
      "http://nsideseb-env.us-east-1.elasticbeanstalk.com/api/v1/query?service=aeolus&meta=drugpairReactionCounts&q=1313184\n"
     ]
    },
    {
     "name": "stderr",
     "output_type": "stream",
     "text": [
      "\r",
      " 26%|██▌       | 206/793 [04:23<04:56,  1.98it/s]"
     ]
    },
    {
     "name": "stdout",
     "output_type": "stream",
     "text": [
      "http://nsideseb-env.us-east-1.elasticbeanstalk.com/api/v1/query?service=aeolus&meta=drugpairReactionCounts&q=1313184\n"
     ]
    },
    {
     "name": "stderr",
     "output_type": "stream",
     "text": [
      "\r",
      " 26%|██▌       | 207/793 [04:23<04:57,  1.97it/s]"
     ]
    },
    {
     "name": "stdout",
     "output_type": "stream",
     "text": [
      "http://nsideseb-env.us-east-1.elasticbeanstalk.com/api/v1/query?service=aeolus&meta=drugpairReactionCounts&q=1313184\n"
     ]
    },
    {
     "name": "stderr",
     "output_type": "stream",
     "text": [
      "\r",
      " 26%|██▌       | 208/793 [04:24<05:03,  1.93it/s]"
     ]
    },
    {
     "name": "stdout",
     "output_type": "stream",
     "text": [
      "http://nsideseb-env.us-east-1.elasticbeanstalk.com/api/v1/query?service=aeolus&meta=drugpairReactionCounts&q=1313184\n"
     ]
    },
    {
     "name": "stderr",
     "output_type": "stream",
     "text": [
      "\r",
      " 26%|██▋       | 209/793 [04:24<05:04,  1.92it/s]"
     ]
    },
    {
     "name": "stdout",
     "output_type": "stream",
     "text": [
      "http://nsideseb-env.us-east-1.elasticbeanstalk.com/api/v1/query?service=aeolus&meta=drugpairReactionCounts&q=1313184\n"
     ]
    },
    {
     "name": "stderr",
     "output_type": "stream",
     "text": [
      "\r",
      " 26%|██▋       | 210/793 [04:25<04:59,  1.95it/s]"
     ]
    },
    {
     "name": "stdout",
     "output_type": "stream",
     "text": [
      "http://nsideseb-env.us-east-1.elasticbeanstalk.com/api/v1/query?service=aeolus&meta=drugpairReactionCounts&q=1313184\n"
     ]
    },
    {
     "name": "stderr",
     "output_type": "stream",
     "text": [
      "\r",
      " 27%|██▋       | 211/793 [04:25<04:55,  1.97it/s]"
     ]
    },
    {
     "name": "stdout",
     "output_type": "stream",
     "text": [
      "http://nsideseb-env.us-east-1.elasticbeanstalk.com/api/v1/query?service=aeolus&meta=drugpairReactionCounts&q=1313184\n"
     ]
    },
    {
     "name": "stderr",
     "output_type": "stream",
     "text": [
      "\r",
      " 27%|██▋       | 212/793 [04:26<04:52,  1.98it/s]"
     ]
    },
    {
     "name": "stdout",
     "output_type": "stream",
     "text": [
      "http://nsideseb-env.us-east-1.elasticbeanstalk.com/api/v1/query?service=aeolus&meta=drugpairReactionCounts&q=1313184\n"
     ]
    },
    {
     "name": "stderr",
     "output_type": "stream",
     "text": [
      "\r",
      " 27%|██▋       | 213/793 [04:26<04:52,  1.98it/s]"
     ]
    },
    {
     "name": "stdout",
     "output_type": "stream",
     "text": [
      "http://nsideseb-env.us-east-1.elasticbeanstalk.com/api/v1/query?service=aeolus&meta=drugpairReactionCounts&q=1313184\n"
     ]
    },
    {
     "name": "stderr",
     "output_type": "stream",
     "text": [
      "\r",
      " 27%|██▋       | 214/793 [04:27<04:50,  1.99it/s]"
     ]
    },
    {
     "name": "stdout",
     "output_type": "stream",
     "text": [
      "http://nsideseb-env.us-east-1.elasticbeanstalk.com/api/v1/query?service=aeolus&meta=drugpairReactionCounts&q=1313184\n"
     ]
    },
    {
     "name": "stderr",
     "output_type": "stream",
     "text": [
      "\r",
      " 27%|██▋       | 215/793 [04:27<04:53,  1.97it/s]"
     ]
    },
    {
     "name": "stdout",
     "output_type": "stream",
     "text": [
      "http://nsideseb-env.us-east-1.elasticbeanstalk.com/api/v1/query?service=aeolus&meta=drugpairReactionCounts&q=1313184\n"
     ]
    },
    {
     "name": "stderr",
     "output_type": "stream",
     "text": [
      "\r",
      " 27%|██▋       | 216/793 [04:28<04:51,  1.98it/s]"
     ]
    },
    {
     "name": "stdout",
     "output_type": "stream",
     "text": [
      "http://nsideseb-env.us-east-1.elasticbeanstalk.com/api/v1/query?service=aeolus&meta=drugpairReactionCounts&q=1313184\n"
     ]
    },
    {
     "name": "stderr",
     "output_type": "stream",
     "text": [
      "\r",
      " 27%|██▋       | 217/793 [04:28<04:50,  1.98it/s]"
     ]
    },
    {
     "name": "stdout",
     "output_type": "stream",
     "text": [
      "http://nsideseb-env.us-east-1.elasticbeanstalk.com/api/v1/query?service=aeolus&meta=drugpairReactionCounts&q=1313184\n"
     ]
    },
    {
     "name": "stderr",
     "output_type": "stream",
     "text": [
      "\r",
      " 27%|██▋       | 218/793 [04:29<04:49,  1.99it/s]"
     ]
    },
    {
     "name": "stdout",
     "output_type": "stream",
     "text": [
      "http://nsideseb-env.us-east-1.elasticbeanstalk.com/api/v1/query?service=aeolus&meta=drugpairReactionCounts&q=1313184\n"
     ]
    },
    {
     "name": "stderr",
     "output_type": "stream",
     "text": [
      "\r",
      " 28%|██▊       | 219/793 [04:29<04:50,  1.98it/s]"
     ]
    },
    {
     "name": "stdout",
     "output_type": "stream",
     "text": [
      "http://nsideseb-env.us-east-1.elasticbeanstalk.com/api/v1/query?service=aeolus&meta=drugpairReactionCounts&q=1313184\n"
     ]
    },
    {
     "name": "stderr",
     "output_type": "stream",
     "text": [
      "\r",
      " 28%|██▊       | 220/793 [04:30<04:48,  1.98it/s]"
     ]
    },
    {
     "name": "stdout",
     "output_type": "stream",
     "text": [
      "http://nsideseb-env.us-east-1.elasticbeanstalk.com/api/v1/query?service=aeolus&meta=drugpairReactionCounts&q=1313184\n"
     ]
    },
    {
     "name": "stderr",
     "output_type": "stream",
     "text": [
      "\r",
      " 28%|██▊       | 221/793 [04:30<04:47,  1.99it/s]"
     ]
    },
    {
     "name": "stdout",
     "output_type": "stream",
     "text": [
      "http://nsideseb-env.us-east-1.elasticbeanstalk.com/api/v1/query?service=aeolus&meta=drugpairReactionCounts&q=1313184\n"
     ]
    },
    {
     "name": "stderr",
     "output_type": "stream",
     "text": [
      "\r",
      " 28%|██▊       | 222/793 [04:31<04:48,  1.98it/s]"
     ]
    },
    {
     "name": "stdout",
     "output_type": "stream",
     "text": [
      "http://nsideseb-env.us-east-1.elasticbeanstalk.com/api/v1/query?service=aeolus&meta=drugpairReactionCounts&q=1313184\n"
     ]
    },
    {
     "name": "stderr",
     "output_type": "stream",
     "text": [
      "\r",
      " 28%|██▊       | 223/793 [04:31<04:53,  1.94it/s]"
     ]
    },
    {
     "name": "stdout",
     "output_type": "stream",
     "text": [
      "http://nsideseb-env.us-east-1.elasticbeanstalk.com/api/v1/query?service=aeolus&meta=drugpairReactionCounts&q=1313184\n"
     ]
    },
    {
     "name": "stderr",
     "output_type": "stream",
     "text": [
      "\r",
      " 28%|██▊       | 224/793 [04:32<04:54,  1.93it/s]"
     ]
    },
    {
     "name": "stdout",
     "output_type": "stream",
     "text": [
      "http://nsideseb-env.us-east-1.elasticbeanstalk.com/api/v1/query?service=aeolus&meta=drugpairReactionCounts&q=1313184\n"
     ]
    },
    {
     "name": "stderr",
     "output_type": "stream",
     "text": [
      "\r",
      " 28%|██▊       | 225/793 [04:32<04:52,  1.94it/s]"
     ]
    },
    {
     "name": "stdout",
     "output_type": "stream",
     "text": [
      "http://nsideseb-env.us-east-1.elasticbeanstalk.com/api/v1/query?service=aeolus&meta=drugpairReactionCounts&q=1313184\n"
     ]
    },
    {
     "name": "stderr",
     "output_type": "stream",
     "text": [
      "\r",
      " 28%|██▊       | 226/793 [04:33<04:54,  1.93it/s]"
     ]
    },
    {
     "name": "stdout",
     "output_type": "stream",
     "text": [
      "http://nsideseb-env.us-east-1.elasticbeanstalk.com/api/v1/query?service=aeolus&meta=drugpairReactionCounts&q=1313184\n"
     ]
    },
    {
     "name": "stderr",
     "output_type": "stream",
     "text": [
      "\r",
      " 29%|██▊       | 227/793 [04:33<04:52,  1.94it/s]"
     ]
    },
    {
     "name": "stdout",
     "output_type": "stream",
     "text": [
      "http://nsideseb-env.us-east-1.elasticbeanstalk.com/api/v1/query?service=aeolus&meta=drugpairReactionCounts&q=1313184\n"
     ]
    },
    {
     "name": "stderr",
     "output_type": "stream",
     "text": [
      "\r",
      " 29%|██▉       | 228/793 [04:34<04:48,  1.96it/s]"
     ]
    },
    {
     "name": "stdout",
     "output_type": "stream",
     "text": [
      "http://nsideseb-env.us-east-1.elasticbeanstalk.com/api/v1/query?service=aeolus&meta=drugpairReactionCounts&q=1313184\n"
     ]
    },
    {
     "name": "stderr",
     "output_type": "stream",
     "text": [
      "\r",
      " 29%|██▉       | 229/793 [04:34<04:51,  1.94it/s]"
     ]
    },
    {
     "name": "stdout",
     "output_type": "stream",
     "text": [
      "http://nsideseb-env.us-east-1.elasticbeanstalk.com/api/v1/query?service=aeolus&meta=drugpairReactionCounts&q=1313184\n"
     ]
    },
    {
     "name": "stderr",
     "output_type": "stream",
     "text": [
      "\r",
      " 29%|██▉       | 230/793 [04:35<04:47,  1.96it/s]"
     ]
    },
    {
     "name": "stdout",
     "output_type": "stream",
     "text": [
      "http://nsideseb-env.us-east-1.elasticbeanstalk.com/api/v1/query?service=aeolus&meta=drugpairReactionCounts&q=1313184\n"
     ]
    },
    {
     "name": "stderr",
     "output_type": "stream",
     "text": [
      "\r",
      " 29%|██▉       | 231/793 [04:35<04:47,  1.95it/s]"
     ]
    },
    {
     "name": "stdout",
     "output_type": "stream",
     "text": [
      "http://nsideseb-env.us-east-1.elasticbeanstalk.com/api/v1/query?service=aeolus&meta=drugpairReactionCounts&q=1313184\n"
     ]
    },
    {
     "name": "stderr",
     "output_type": "stream",
     "text": [
      "\r",
      " 29%|██▉       | 232/793 [04:36<04:44,  1.97it/s]"
     ]
    },
    {
     "name": "stdout",
     "output_type": "stream",
     "text": [
      "http://nsideseb-env.us-east-1.elasticbeanstalk.com/api/v1/query?service=aeolus&meta=drugpairReactionCounts&q=1313184\n"
     ]
    },
    {
     "name": "stderr",
     "output_type": "stream",
     "text": [
      "\r",
      " 29%|██▉       | 233/793 [04:36<04:44,  1.97it/s]"
     ]
    },
    {
     "name": "stdout",
     "output_type": "stream",
     "text": [
      "http://nsideseb-env.us-east-1.elasticbeanstalk.com/api/v1/query?service=aeolus&meta=drugpairReactionCounts&q=1313184\n"
     ]
    },
    {
     "name": "stderr",
     "output_type": "stream",
     "text": [
      "\r",
      " 30%|██▉       | 234/793 [04:37<04:53,  1.90it/s]"
     ]
    },
    {
     "name": "stdout",
     "output_type": "stream",
     "text": [
      "http://nsideseb-env.us-east-1.elasticbeanstalk.com/api/v1/query?service=aeolus&meta=drugpairReactionCounts&q=1313184\n"
     ]
    },
    {
     "name": "stderr",
     "output_type": "stream",
     "text": [
      "\r",
      " 30%|██▉       | 235/793 [04:37<04:53,  1.90it/s]"
     ]
    },
    {
     "name": "stdout",
     "output_type": "stream",
     "text": [
      "http://nsideseb-env.us-east-1.elasticbeanstalk.com/api/v1/query?service=aeolus&meta=drugpairReactionCounts&q=1313184\n"
     ]
    },
    {
     "name": "stderr",
     "output_type": "stream",
     "text": [
      "\r",
      " 30%|██▉       | 236/793 [04:38<04:47,  1.93it/s]"
     ]
    },
    {
     "name": "stdout",
     "output_type": "stream",
     "text": [
      "http://nsideseb-env.us-east-1.elasticbeanstalk.com/api/v1/query?service=aeolus&meta=drugpairReactionCounts&q=1313184\n"
     ]
    },
    {
     "name": "stderr",
     "output_type": "stream",
     "text": [
      "\r",
      " 30%|██▉       | 237/793 [04:38<04:44,  1.95it/s]"
     ]
    },
    {
     "name": "stdout",
     "output_type": "stream",
     "text": [
      "http://nsideseb-env.us-east-1.elasticbeanstalk.com/api/v1/query?service=aeolus&meta=drugpairReactionCounts&q=1313184\n"
     ]
    },
    {
     "name": "stderr",
     "output_type": "stream",
     "text": [
      "\r",
      " 30%|███       | 238/793 [04:39<04:42,  1.96it/s]"
     ]
    },
    {
     "name": "stdout",
     "output_type": "stream",
     "text": [
      "http://nsideseb-env.us-east-1.elasticbeanstalk.com/api/v1/query?service=aeolus&meta=drugpairReactionCounts&q=1313184\n"
     ]
    },
    {
     "name": "stderr",
     "output_type": "stream",
     "text": [
      "\r",
      " 30%|███       | 239/793 [04:39<04:45,  1.94it/s]"
     ]
    },
    {
     "name": "stdout",
     "output_type": "stream",
     "text": [
      "http://nsideseb-env.us-east-1.elasticbeanstalk.com/api/v1/query?service=aeolus&meta=drugpairReactionCounts&q=1313184\n"
     ]
    },
    {
     "name": "stderr",
     "output_type": "stream",
     "text": [
      "\r",
      " 30%|███       | 240/793 [04:40<04:45,  1.94it/s]"
     ]
    },
    {
     "name": "stdout",
     "output_type": "stream",
     "text": [
      "http://nsideseb-env.us-east-1.elasticbeanstalk.com/api/v1/query?service=aeolus&meta=drugpairReactionCounts&q=1313184\n"
     ]
    },
    {
     "name": "stderr",
     "output_type": "stream",
     "text": [
      "\r",
      " 30%|███       | 241/793 [04:40<04:43,  1.95it/s]"
     ]
    },
    {
     "name": "stdout",
     "output_type": "stream",
     "text": [
      "http://nsideseb-env.us-east-1.elasticbeanstalk.com/api/v1/query?service=aeolus&meta=drugpairReactionCounts&q=1313184\n"
     ]
    },
    {
     "name": "stderr",
     "output_type": "stream",
     "text": [
      "\r",
      " 31%|███       | 242/793 [04:41<04:40,  1.96it/s]"
     ]
    },
    {
     "name": "stdout",
     "output_type": "stream",
     "text": [
      "http://nsideseb-env.us-east-1.elasticbeanstalk.com/api/v1/query?service=aeolus&meta=drugpairReactionCounts&q=1313184\n"
     ]
    },
    {
     "name": "stderr",
     "output_type": "stream",
     "text": [
      "\r",
      " 31%|███       | 243/793 [04:41<04:38,  1.98it/s]"
     ]
    },
    {
     "name": "stdout",
     "output_type": "stream",
     "text": [
      "http://nsideseb-env.us-east-1.elasticbeanstalk.com/api/v1/query?service=aeolus&meta=drugpairReactionCounts&q=1313184\n"
     ]
    },
    {
     "name": "stderr",
     "output_type": "stream",
     "text": [
      "\r",
      " 31%|███       | 244/793 [04:42<04:36,  1.99it/s]"
     ]
    },
    {
     "name": "stdout",
     "output_type": "stream",
     "text": [
      "http://nsideseb-env.us-east-1.elasticbeanstalk.com/api/v1/query?service=aeolus&meta=drugpairReactionCounts&q=1313184\n"
     ]
    },
    {
     "name": "stderr",
     "output_type": "stream",
     "text": [
      "\r",
      " 31%|███       | 245/793 [04:42<04:34,  1.99it/s]"
     ]
    },
    {
     "name": "stdout",
     "output_type": "stream",
     "text": [
      "http://nsideseb-env.us-east-1.elasticbeanstalk.com/api/v1/query?service=aeolus&meta=drugpairReactionCounts&q=1313184\n"
     ]
    },
    {
     "name": "stderr",
     "output_type": "stream",
     "text": [
      "\r",
      " 31%|███       | 246/793 [04:43<04:33,  2.00it/s]"
     ]
    },
    {
     "name": "stdout",
     "output_type": "stream",
     "text": [
      "http://nsideseb-env.us-east-1.elasticbeanstalk.com/api/v1/query?service=aeolus&meta=drugpairReactionCounts&q=1313184\n"
     ]
    },
    {
     "name": "stderr",
     "output_type": "stream",
     "text": [
      "\r",
      " 31%|███       | 247/793 [04:43<04:34,  1.99it/s]"
     ]
    },
    {
     "name": "stdout",
     "output_type": "stream",
     "text": [
      "http://nsideseb-env.us-east-1.elasticbeanstalk.com/api/v1/query?service=aeolus&meta=drugpairReactionCounts&q=1313184\n"
     ]
    },
    {
     "name": "stderr",
     "output_type": "stream",
     "text": [
      "\r",
      " 31%|███▏      | 248/793 [04:44<04:32,  2.00it/s]"
     ]
    },
    {
     "name": "stdout",
     "output_type": "stream",
     "text": [
      "http://nsideseb-env.us-east-1.elasticbeanstalk.com/api/v1/query?service=aeolus&meta=drugpairReactionCounts&q=1313184\n"
     ]
    },
    {
     "name": "stderr",
     "output_type": "stream",
     "text": [
      "\r",
      " 31%|███▏      | 249/793 [04:45<04:40,  1.94it/s]"
     ]
    },
    {
     "name": "stdout",
     "output_type": "stream",
     "text": [
      "http://nsideseb-env.us-east-1.elasticbeanstalk.com/api/v1/query?service=aeolus&meta=drugpairReactionCounts&q=1313184\n"
     ]
    },
    {
     "name": "stderr",
     "output_type": "stream",
     "text": [
      "\r",
      " 32%|███▏      | 250/793 [04:45<04:36,  1.96it/s]"
     ]
    },
    {
     "name": "stdout",
     "output_type": "stream",
     "text": [
      "http://nsideseb-env.us-east-1.elasticbeanstalk.com/api/v1/query?service=aeolus&meta=drugpairReactionCounts&q=1313184\n"
     ]
    },
    {
     "name": "stderr",
     "output_type": "stream",
     "text": [
      "\r",
      " 32%|███▏      | 251/793 [04:46<04:35,  1.97it/s]"
     ]
    },
    {
     "name": "stdout",
     "output_type": "stream",
     "text": [
      "http://nsideseb-env.us-east-1.elasticbeanstalk.com/api/v1/query?service=aeolus&meta=drugpairReactionCounts&q=1313184\n"
     ]
    },
    {
     "name": "stderr",
     "output_type": "stream",
     "text": [
      "\r",
      " 32%|███▏      | 252/793 [04:46<04:39,  1.93it/s]"
     ]
    },
    {
     "name": "stdout",
     "output_type": "stream",
     "text": [
      "http://nsideseb-env.us-east-1.elasticbeanstalk.com/api/v1/query?service=aeolus&meta=drugpairReactionCounts&q=1313184\n"
     ]
    },
    {
     "name": "stderr",
     "output_type": "stream",
     "text": [
      "\r",
      " 32%|███▏      | 253/793 [04:47<04:38,  1.94it/s]"
     ]
    },
    {
     "name": "stdout",
     "output_type": "stream",
     "text": [
      "http://nsideseb-env.us-east-1.elasticbeanstalk.com/api/v1/query?service=aeolus&meta=drugpairReactionCounts&q=1313184\n"
     ]
    },
    {
     "name": "stderr",
     "output_type": "stream",
     "text": [
      "\r",
      " 32%|███▏      | 254/793 [04:47<04:37,  1.94it/s]"
     ]
    },
    {
     "name": "stdout",
     "output_type": "stream",
     "text": [
      "http://nsideseb-env.us-east-1.elasticbeanstalk.com/api/v1/query?service=aeolus&meta=drugpairReactionCounts&q=1313184\n"
     ]
    },
    {
     "name": "stderr",
     "output_type": "stream",
     "text": [
      "\r",
      " 32%|███▏      | 255/793 [04:48<05:32,  1.62it/s]"
     ]
    },
    {
     "name": "stdout",
     "output_type": "stream",
     "text": [
      "http://nsideseb-env.us-east-1.elasticbeanstalk.com/api/v1/query?service=aeolus&meta=drugpairReactionCounts&q=1313184\n"
     ]
    },
    {
     "name": "stderr",
     "output_type": "stream",
     "text": [
      "\r",
      " 32%|███▏      | 256/793 [04:48<05:15,  1.70it/s]"
     ]
    },
    {
     "name": "stdout",
     "output_type": "stream",
     "text": [
      "http://nsideseb-env.us-east-1.elasticbeanstalk.com/api/v1/query?service=aeolus&meta=drugpairReactionCounts&q=1313184\n"
     ]
    },
    {
     "name": "stderr",
     "output_type": "stream",
     "text": [
      "\r",
      " 32%|███▏      | 257/793 [04:49<05:00,  1.78it/s]"
     ]
    },
    {
     "name": "stdout",
     "output_type": "stream",
     "text": [
      "http://nsideseb-env.us-east-1.elasticbeanstalk.com/api/v1/query?service=aeolus&meta=drugpairReactionCounts&q=1313184\n"
     ]
    },
    {
     "name": "stderr",
     "output_type": "stream",
     "text": [
      "\r",
      " 33%|███▎      | 258/793 [04:49<04:53,  1.82it/s]"
     ]
    },
    {
     "name": "stdout",
     "output_type": "stream",
     "text": [
      "http://nsideseb-env.us-east-1.elasticbeanstalk.com/api/v1/query?service=aeolus&meta=drugpairReactionCounts&q=1313184\n"
     ]
    },
    {
     "name": "stderr",
     "output_type": "stream",
     "text": [
      "\r",
      " 33%|███▎      | 259/793 [04:50<04:44,  1.88it/s]"
     ]
    },
    {
     "name": "stdout",
     "output_type": "stream",
     "text": [
      "http://nsideseb-env.us-east-1.elasticbeanstalk.com/api/v1/query?service=aeolus&meta=drugpairReactionCounts&q=1313184\n"
     ]
    },
    {
     "name": "stderr",
     "output_type": "stream",
     "text": [
      "\r",
      " 33%|███▎      | 260/793 [04:50<04:37,  1.92it/s]"
     ]
    },
    {
     "name": "stdout",
     "output_type": "stream",
     "text": [
      "http://nsideseb-env.us-east-1.elasticbeanstalk.com/api/v1/query?service=aeolus&meta=drugpairReactionCounts&q=1313184\n"
     ]
    },
    {
     "name": "stderr",
     "output_type": "stream",
     "text": [
      "\r",
      " 33%|███▎      | 261/793 [04:51<04:34,  1.94it/s]"
     ]
    },
    {
     "name": "stdout",
     "output_type": "stream",
     "text": [
      "http://nsideseb-env.us-east-1.elasticbeanstalk.com/api/v1/query?service=aeolus&meta=drugpairReactionCounts&q=1313184\n"
     ]
    },
    {
     "name": "stderr",
     "output_type": "stream",
     "text": [
      "\r",
      " 33%|███▎      | 262/793 [04:51<04:32,  1.95it/s]"
     ]
    },
    {
     "name": "stdout",
     "output_type": "stream",
     "text": [
      "http://nsideseb-env.us-east-1.elasticbeanstalk.com/api/v1/query?service=aeolus&meta=drugpairReactionCounts&q=1313184\n"
     ]
    },
    {
     "name": "stderr",
     "output_type": "stream",
     "text": [
      "\r",
      " 33%|███▎      | 263/793 [04:52<04:31,  1.95it/s]"
     ]
    },
    {
     "name": "stdout",
     "output_type": "stream",
     "text": [
      "http://nsideseb-env.us-east-1.elasticbeanstalk.com/api/v1/query?service=aeolus&meta=drugpairReactionCounts&q=1313184\n"
     ]
    },
    {
     "name": "stderr",
     "output_type": "stream",
     "text": [
      "\r",
      " 33%|███▎      | 264/793 [04:52<04:29,  1.96it/s]"
     ]
    },
    {
     "name": "stdout",
     "output_type": "stream",
     "text": [
      "http://nsideseb-env.us-east-1.elasticbeanstalk.com/api/v1/query?service=aeolus&meta=drugpairReactionCounts&q=1313184\n"
     ]
    },
    {
     "name": "stderr",
     "output_type": "stream",
     "text": [
      "\r",
      " 33%|███▎      | 265/793 [04:53<04:29,  1.96it/s]"
     ]
    },
    {
     "name": "stdout",
     "output_type": "stream",
     "text": [
      "http://nsideseb-env.us-east-1.elasticbeanstalk.com/api/v1/query?service=aeolus&meta=drugpairReactionCounts&q=1313184\n"
     ]
    },
    {
     "name": "stderr",
     "output_type": "stream",
     "text": [
      "\r",
      " 34%|███▎      | 266/793 [04:54<04:28,  1.96it/s]"
     ]
    },
    {
     "name": "stdout",
     "output_type": "stream",
     "text": [
      "http://nsideseb-env.us-east-1.elasticbeanstalk.com/api/v1/query?service=aeolus&meta=drugpairReactionCounts&q=1313184\n"
     ]
    },
    {
     "name": "stderr",
     "output_type": "stream",
     "text": [
      "\r",
      " 34%|███▎      | 267/793 [04:54<04:26,  1.97it/s]"
     ]
    },
    {
     "name": "stdout",
     "output_type": "stream",
     "text": [
      "http://nsideseb-env.us-east-1.elasticbeanstalk.com/api/v1/query?service=aeolus&meta=drugpairReactionCounts&q=1313184\n"
     ]
    },
    {
     "name": "stderr",
     "output_type": "stream",
     "text": [
      "\r",
      " 34%|███▍      | 268/793 [04:55<04:31,  1.93it/s]"
     ]
    },
    {
     "name": "stdout",
     "output_type": "stream",
     "text": [
      "http://nsideseb-env.us-east-1.elasticbeanstalk.com/api/v1/query?service=aeolus&meta=drugpairReactionCounts&q=1313184\n"
     ]
    },
    {
     "name": "stderr",
     "output_type": "stream",
     "text": [
      "\r",
      " 34%|███▍      | 269/793 [04:55<04:28,  1.95it/s]"
     ]
    },
    {
     "name": "stdout",
     "output_type": "stream",
     "text": [
      "http://nsideseb-env.us-east-1.elasticbeanstalk.com/api/v1/query?service=aeolus&meta=drugpairReactionCounts&q=1313184\n"
     ]
    },
    {
     "name": "stderr",
     "output_type": "stream",
     "text": [
      "\r",
      " 34%|███▍      | 270/793 [04:56<04:26,  1.96it/s]"
     ]
    },
    {
     "name": "stdout",
     "output_type": "stream",
     "text": [
      "http://nsideseb-env.us-east-1.elasticbeanstalk.com/api/v1/query?service=aeolus&meta=drugpairReactionCounts&q=1313184\n"
     ]
    },
    {
     "name": "stderr",
     "output_type": "stream",
     "text": [
      "\r",
      " 34%|███▍      | 271/793 [04:56<04:26,  1.96it/s]"
     ]
    },
    {
     "name": "stdout",
     "output_type": "stream",
     "text": [
      "http://nsideseb-env.us-east-1.elasticbeanstalk.com/api/v1/query?service=aeolus&meta=drugpairReactionCounts&q=1313184\n"
     ]
    },
    {
     "name": "stderr",
     "output_type": "stream",
     "text": [
      "\r",
      " 34%|███▍      | 272/793 [04:57<04:31,  1.92it/s]"
     ]
    },
    {
     "name": "stdout",
     "output_type": "stream",
     "text": [
      "http://nsideseb-env.us-east-1.elasticbeanstalk.com/api/v1/query?service=aeolus&meta=drugpairReactionCounts&q=1313184\n"
     ]
    },
    {
     "name": "stderr",
     "output_type": "stream",
     "text": [
      "\r",
      " 34%|███▍      | 273/793 [04:57<04:29,  1.93it/s]"
     ]
    },
    {
     "name": "stdout",
     "output_type": "stream",
     "text": [
      "http://nsideseb-env.us-east-1.elasticbeanstalk.com/api/v1/query?service=aeolus&meta=drugpairReactionCounts&q=1313184\n"
     ]
    },
    {
     "name": "stderr",
     "output_type": "stream",
     "text": [
      "\r",
      " 35%|███▍      | 274/793 [04:58<04:27,  1.94it/s]"
     ]
    },
    {
     "name": "stdout",
     "output_type": "stream",
     "text": [
      "http://nsideseb-env.us-east-1.elasticbeanstalk.com/api/v1/query?service=aeolus&meta=drugpairReactionCounts&q=1313184\n"
     ]
    },
    {
     "name": "stderr",
     "output_type": "stream",
     "text": [
      "\r",
      " 35%|███▍      | 275/793 [04:58<04:24,  1.96it/s]"
     ]
    },
    {
     "name": "stdout",
     "output_type": "stream",
     "text": [
      "http://nsideseb-env.us-east-1.elasticbeanstalk.com/api/v1/query?service=aeolus&meta=drugpairReactionCounts&q=1313184\n"
     ]
    },
    {
     "name": "stderr",
     "output_type": "stream",
     "text": [
      "\r",
      " 35%|███▍      | 276/793 [04:59<04:23,  1.96it/s]"
     ]
    },
    {
     "name": "stdout",
     "output_type": "stream",
     "text": [
      "http://nsideseb-env.us-east-1.elasticbeanstalk.com/api/v1/query?service=aeolus&meta=drugpairReactionCounts&q=1313184\n"
     ]
    },
    {
     "name": "stderr",
     "output_type": "stream",
     "text": [
      "\r",
      " 35%|███▍      | 277/793 [04:59<04:24,  1.95it/s]"
     ]
    },
    {
     "name": "stdout",
     "output_type": "stream",
     "text": [
      "http://nsideseb-env.us-east-1.elasticbeanstalk.com/api/v1/query?service=aeolus&meta=drugpairReactionCounts&q=1313184\n"
     ]
    },
    {
     "name": "stderr",
     "output_type": "stream",
     "text": [
      "\r",
      " 35%|███▌      | 278/793 [05:00<04:21,  1.97it/s]"
     ]
    },
    {
     "name": "stdout",
     "output_type": "stream",
     "text": [
      "http://nsideseb-env.us-east-1.elasticbeanstalk.com/api/v1/query?service=aeolus&meta=drugpairReactionCounts&q=1313184\n"
     ]
    },
    {
     "name": "stderr",
     "output_type": "stream",
     "text": [
      "\r",
      " 35%|███▌      | 279/793 [05:00<04:28,  1.91it/s]"
     ]
    },
    {
     "name": "stdout",
     "output_type": "stream",
     "text": [
      "http://nsideseb-env.us-east-1.elasticbeanstalk.com/api/v1/query?service=aeolus&meta=drugpairReactionCounts&q=1313184\n"
     ]
    },
    {
     "name": "stderr",
     "output_type": "stream",
     "text": [
      "\r",
      " 35%|███▌      | 280/793 [05:01<04:25,  1.93it/s]"
     ]
    },
    {
     "name": "stdout",
     "output_type": "stream",
     "text": [
      "http://nsideseb-env.us-east-1.elasticbeanstalk.com/api/v1/query?service=aeolus&meta=drugpairReactionCounts&q=1313184\n"
     ]
    },
    {
     "name": "stderr",
     "output_type": "stream",
     "text": [
      "\r",
      " 35%|███▌      | 281/793 [05:01<04:23,  1.95it/s]"
     ]
    },
    {
     "name": "stdout",
     "output_type": "stream",
     "text": [
      "http://nsideseb-env.us-east-1.elasticbeanstalk.com/api/v1/query?service=aeolus&meta=drugpairReactionCounts&q=1313184\n"
     ]
    },
    {
     "name": "stderr",
     "output_type": "stream",
     "text": [
      "\r",
      " 36%|███▌      | 282/793 [05:02<04:19,  1.97it/s]"
     ]
    },
    {
     "name": "stdout",
     "output_type": "stream",
     "text": [
      "http://nsideseb-env.us-east-1.elasticbeanstalk.com/api/v1/query?service=aeolus&meta=drugpairReactionCounts&q=1313184\n"
     ]
    },
    {
     "name": "stderr",
     "output_type": "stream",
     "text": [
      "\r",
      " 36%|███▌      | 283/793 [05:02<04:18,  1.98it/s]"
     ]
    },
    {
     "name": "stdout",
     "output_type": "stream",
     "text": [
      "http://nsideseb-env.us-east-1.elasticbeanstalk.com/api/v1/query?service=aeolus&meta=drugpairReactionCounts&q=1313184\n"
     ]
    },
    {
     "name": "stderr",
     "output_type": "stream",
     "text": [
      "\r",
      " 36%|███▌      | 284/793 [05:03<04:18,  1.97it/s]"
     ]
    },
    {
     "name": "stdout",
     "output_type": "stream",
     "text": [
      "http://nsideseb-env.us-east-1.elasticbeanstalk.com/api/v1/query?service=aeolus&meta=drugpairReactionCounts&q=1313184\n"
     ]
    },
    {
     "name": "stderr",
     "output_type": "stream",
     "text": [
      "\r",
      " 36%|███▌      | 285/793 [05:03<04:18,  1.97it/s]"
     ]
    },
    {
     "name": "stdout",
     "output_type": "stream",
     "text": [
      "http://nsideseb-env.us-east-1.elasticbeanstalk.com/api/v1/query?service=aeolus&meta=drugpairReactionCounts&q=1313184\n"
     ]
    },
    {
     "name": "stderr",
     "output_type": "stream",
     "text": [
      "\r",
      " 36%|███▌      | 286/793 [05:04<04:17,  1.97it/s]"
     ]
    },
    {
     "name": "stdout",
     "output_type": "stream",
     "text": [
      "http://nsideseb-env.us-east-1.elasticbeanstalk.com/api/v1/query?service=aeolus&meta=drugpairReactionCounts&q=1313184\n"
     ]
    },
    {
     "name": "stderr",
     "output_type": "stream",
     "text": [
      "\r",
      " 36%|███▌      | 287/793 [05:04<04:26,  1.90it/s]"
     ]
    },
    {
     "name": "stdout",
     "output_type": "stream",
     "text": [
      "http://nsideseb-env.us-east-1.elasticbeanstalk.com/api/v1/query?service=aeolus&meta=drugpairReactionCounts&q=1313184\n"
     ]
    },
    {
     "name": "stderr",
     "output_type": "stream",
     "text": [
      "\r",
      " 36%|███▋      | 288/793 [05:05<04:27,  1.89it/s]"
     ]
    },
    {
     "name": "stdout",
     "output_type": "stream",
     "text": [
      "http://nsideseb-env.us-east-1.elasticbeanstalk.com/api/v1/query?service=aeolus&meta=drugpairReactionCounts&q=1313184\n"
     ]
    },
    {
     "name": "stderr",
     "output_type": "stream",
     "text": [
      "\r",
      " 36%|███▋      | 289/793 [05:05<04:25,  1.90it/s]"
     ]
    },
    {
     "name": "stdout",
     "output_type": "stream",
     "text": [
      "http://nsideseb-env.us-east-1.elasticbeanstalk.com/api/v1/query?service=aeolus&meta=drugpairReactionCounts&q=1313184\n"
     ]
    },
    {
     "name": "stderr",
     "output_type": "stream",
     "text": [
      "\r",
      " 37%|███▋      | 290/793 [05:06<04:20,  1.93it/s]"
     ]
    },
    {
     "name": "stdout",
     "output_type": "stream",
     "text": [
      "http://nsideseb-env.us-east-1.elasticbeanstalk.com/api/v1/query?service=aeolus&meta=drugpairReactionCounts&q=1313184\n"
     ]
    },
    {
     "name": "stderr",
     "output_type": "stream",
     "text": [
      "\r",
      " 37%|███▋      | 291/793 [05:06<04:16,  1.96it/s]"
     ]
    },
    {
     "name": "stdout",
     "output_type": "stream",
     "text": [
      "http://nsideseb-env.us-east-1.elasticbeanstalk.com/api/v1/query?service=aeolus&meta=drugpairReactionCounts&q=1313184\n"
     ]
    },
    {
     "name": "stderr",
     "output_type": "stream",
     "text": [
      "\r",
      " 37%|███▋      | 292/793 [05:07<04:13,  1.97it/s]"
     ]
    },
    {
     "name": "stdout",
     "output_type": "stream",
     "text": [
      "http://nsideseb-env.us-east-1.elasticbeanstalk.com/api/v1/query?service=aeolus&meta=drugpairReactionCounts&q=1313184\n"
     ]
    },
    {
     "name": "stderr",
     "output_type": "stream",
     "text": [
      "\r",
      " 37%|███▋      | 293/793 [05:07<04:13,  1.98it/s]"
     ]
    },
    {
     "name": "stdout",
     "output_type": "stream",
     "text": [
      "http://nsideseb-env.us-east-1.elasticbeanstalk.com/api/v1/query?service=aeolus&meta=drugpairReactionCounts&q=1313184\n"
     ]
    },
    {
     "name": "stderr",
     "output_type": "stream",
     "text": [
      "\r",
      " 37%|███▋      | 294/793 [05:08<04:16,  1.94it/s]"
     ]
    },
    {
     "name": "stdout",
     "output_type": "stream",
     "text": [
      "http://nsideseb-env.us-east-1.elasticbeanstalk.com/api/v1/query?service=aeolus&meta=drugpairReactionCounts&q=1313184\n"
     ]
    },
    {
     "name": "stderr",
     "output_type": "stream",
     "text": [
      "\r",
      " 37%|███▋      | 295/793 [05:08<04:20,  1.91it/s]"
     ]
    },
    {
     "name": "stdout",
     "output_type": "stream",
     "text": [
      "http://nsideseb-env.us-east-1.elasticbeanstalk.com/api/v1/query?service=aeolus&meta=drugpairReactionCounts&q=1313184\n"
     ]
    },
    {
     "name": "stderr",
     "output_type": "stream",
     "text": [
      "\r",
      " 37%|███▋      | 296/793 [05:09<04:17,  1.93it/s]"
     ]
    },
    {
     "name": "stdout",
     "output_type": "stream",
     "text": [
      "http://nsideseb-env.us-east-1.elasticbeanstalk.com/api/v1/query?service=aeolus&meta=drugpairReactionCounts&q=1313184\n"
     ]
    },
    {
     "name": "stderr",
     "output_type": "stream",
     "text": [
      "\r",
      " 37%|███▋      | 297/793 [05:09<04:18,  1.92it/s]"
     ]
    },
    {
     "name": "stdout",
     "output_type": "stream",
     "text": [
      "http://nsideseb-env.us-east-1.elasticbeanstalk.com/api/v1/query?service=aeolus&meta=drugpairReactionCounts&q=1313184\n"
     ]
    },
    {
     "name": "stderr",
     "output_type": "stream",
     "text": [
      "\r",
      " 38%|███▊      | 298/793 [05:10<04:19,  1.91it/s]"
     ]
    },
    {
     "name": "stdout",
     "output_type": "stream",
     "text": [
      "http://nsideseb-env.us-east-1.elasticbeanstalk.com/api/v1/query?service=aeolus&meta=drugpairReactionCounts&q=1313184\n"
     ]
    },
    {
     "name": "stderr",
     "output_type": "stream",
     "text": [
      "\r",
      " 38%|███▊      | 299/793 [05:11<04:15,  1.93it/s]"
     ]
    },
    {
     "name": "stdout",
     "output_type": "stream",
     "text": [
      "http://nsideseb-env.us-east-1.elasticbeanstalk.com/api/v1/query?service=aeolus&meta=drugpairReactionCounts&q=1313184\n"
     ]
    },
    {
     "name": "stderr",
     "output_type": "stream",
     "text": [
      "\r",
      " 38%|███▊      | 300/793 [05:11<04:14,  1.94it/s]"
     ]
    },
    {
     "name": "stdout",
     "output_type": "stream",
     "text": [
      "http://nsideseb-env.us-east-1.elasticbeanstalk.com/api/v1/query?service=aeolus&meta=drugpairReactionCounts&q=1313184\n"
     ]
    },
    {
     "name": "stderr",
     "output_type": "stream",
     "text": [
      "\r",
      " 38%|███▊      | 301/793 [05:12<04:12,  1.95it/s]"
     ]
    },
    {
     "name": "stdout",
     "output_type": "stream",
     "text": [
      "http://nsideseb-env.us-east-1.elasticbeanstalk.com/api/v1/query?service=aeolus&meta=drugpairReactionCounts&q=1313184\n"
     ]
    },
    {
     "name": "stderr",
     "output_type": "stream",
     "text": [
      "\r",
      " 38%|███▊      | 302/793 [05:12<04:12,  1.94it/s]"
     ]
    },
    {
     "name": "stdout",
     "output_type": "stream",
     "text": [
      "http://nsideseb-env.us-east-1.elasticbeanstalk.com/api/v1/query?service=aeolus&meta=drugpairReactionCounts&q=1313184\n"
     ]
    },
    {
     "name": "stderr",
     "output_type": "stream",
     "text": [
      "\r",
      " 38%|███▊      | 303/793 [05:13<04:13,  1.93it/s]"
     ]
    },
    {
     "name": "stdout",
     "output_type": "stream",
     "text": [
      "http://nsideseb-env.us-east-1.elasticbeanstalk.com/api/v1/query?service=aeolus&meta=drugpairReactionCounts&q=1313184\n"
     ]
    },
    {
     "name": "stderr",
     "output_type": "stream",
     "text": [
      "\r",
      " 38%|███▊      | 304/793 [05:13<04:13,  1.93it/s]"
     ]
    },
    {
     "name": "stdout",
     "output_type": "stream",
     "text": [
      "http://nsideseb-env.us-east-1.elasticbeanstalk.com/api/v1/query?service=aeolus&meta=drugpairReactionCounts&q=1313184\n"
     ]
    },
    {
     "name": "stderr",
     "output_type": "stream",
     "text": [
      "\r",
      " 38%|███▊      | 305/793 [05:14<04:11,  1.94it/s]"
     ]
    },
    {
     "name": "stdout",
     "output_type": "stream",
     "text": [
      "http://nsideseb-env.us-east-1.elasticbeanstalk.com/api/v1/query?service=aeolus&meta=drugpairReactionCounts&q=1313184\n"
     ]
    },
    {
     "name": "stderr",
     "output_type": "stream",
     "text": [
      "\r",
      " 39%|███▊      | 306/793 [05:14<04:12,  1.93it/s]"
     ]
    },
    {
     "name": "stdout",
     "output_type": "stream",
     "text": [
      "http://nsideseb-env.us-east-1.elasticbeanstalk.com/api/v1/query?service=aeolus&meta=drugpairReactionCounts&q=1313184\n"
     ]
    },
    {
     "name": "stderr",
     "output_type": "stream",
     "text": [
      "\r",
      " 39%|███▊      | 307/793 [05:15<04:08,  1.96it/s]"
     ]
    },
    {
     "name": "stdout",
     "output_type": "stream",
     "text": [
      "http://nsideseb-env.us-east-1.elasticbeanstalk.com/api/v1/query?service=aeolus&meta=drugpairReactionCounts&q=1313184\n"
     ]
    },
    {
     "name": "stderr",
     "output_type": "stream",
     "text": [
      "\r",
      " 39%|███▉      | 308/793 [05:15<04:07,  1.96it/s]"
     ]
    },
    {
     "name": "stdout",
     "output_type": "stream",
     "text": [
      "http://nsideseb-env.us-east-1.elasticbeanstalk.com/api/v1/query?service=aeolus&meta=drugpairReactionCounts&q=1313184\n"
     ]
    },
    {
     "name": "stderr",
     "output_type": "stream",
     "text": [
      "\r",
      " 39%|███▉      | 309/793 [05:16<04:11,  1.93it/s]"
     ]
    },
    {
     "name": "stdout",
     "output_type": "stream",
     "text": [
      "http://nsideseb-env.us-east-1.elasticbeanstalk.com/api/v1/query?service=aeolus&meta=drugpairReactionCounts&q=1313184\n"
     ]
    },
    {
     "name": "stderr",
     "output_type": "stream",
     "text": [
      "\r",
      " 39%|███▉      | 310/793 [05:16<04:09,  1.93it/s]"
     ]
    },
    {
     "name": "stdout",
     "output_type": "stream",
     "text": [
      "http://nsideseb-env.us-east-1.elasticbeanstalk.com/api/v1/query?service=aeolus&meta=drugpairReactionCounts&q=1313184\n"
     ]
    },
    {
     "name": "stderr",
     "output_type": "stream",
     "text": [
      "\r",
      " 39%|███▉      | 311/793 [05:17<04:10,  1.92it/s]"
     ]
    },
    {
     "name": "stdout",
     "output_type": "stream",
     "text": [
      "http://nsideseb-env.us-east-1.elasticbeanstalk.com/api/v1/query?service=aeolus&meta=drugpairReactionCounts&q=1313184\n"
     ]
    },
    {
     "name": "stderr",
     "output_type": "stream",
     "text": [
      "\r",
      " 39%|███▉      | 312/793 [05:17<04:09,  1.93it/s]"
     ]
    },
    {
     "name": "stdout",
     "output_type": "stream",
     "text": [
      "http://nsideseb-env.us-east-1.elasticbeanstalk.com/api/v1/query?service=aeolus&meta=drugpairReactionCounts&q=1313184\n"
     ]
    },
    {
     "name": "stderr",
     "output_type": "stream",
     "text": [
      "\r",
      " 39%|███▉      | 313/793 [05:18<04:06,  1.95it/s]"
     ]
    },
    {
     "name": "stdout",
     "output_type": "stream",
     "text": [
      "http://nsideseb-env.us-east-1.elasticbeanstalk.com/api/v1/query?service=aeolus&meta=drugpairReactionCounts&q=1313184\n"
     ]
    },
    {
     "name": "stderr",
     "output_type": "stream",
     "text": [
      "\r",
      " 40%|███▉      | 314/793 [05:18<04:04,  1.96it/s]"
     ]
    },
    {
     "name": "stdout",
     "output_type": "stream",
     "text": [
      "http://nsideseb-env.us-east-1.elasticbeanstalk.com/api/v1/query?service=aeolus&meta=drugpairReactionCounts&q=1313184\n"
     ]
    },
    {
     "name": "stderr",
     "output_type": "stream",
     "text": [
      "\r",
      " 40%|███▉      | 315/793 [05:19<04:02,  1.97it/s]"
     ]
    },
    {
     "name": "stdout",
     "output_type": "stream",
     "text": [
      "http://nsideseb-env.us-east-1.elasticbeanstalk.com/api/v1/query?service=aeolus&meta=drugpairReactionCounts&q=1313184\n"
     ]
    },
    {
     "name": "stderr",
     "output_type": "stream",
     "text": [
      "\r",
      " 40%|███▉      | 316/793 [05:19<04:05,  1.94it/s]"
     ]
    },
    {
     "name": "stdout",
     "output_type": "stream",
     "text": [
      "http://nsideseb-env.us-east-1.elasticbeanstalk.com/api/v1/query?service=aeolus&meta=drugpairReactionCounts&q=1313184\n"
     ]
    },
    {
     "name": "stderr",
     "output_type": "stream",
     "text": [
      "\r",
      " 40%|███▉      | 317/793 [05:20<04:03,  1.95it/s]"
     ]
    },
    {
     "name": "stdout",
     "output_type": "stream",
     "text": [
      "http://nsideseb-env.us-east-1.elasticbeanstalk.com/api/v1/query?service=aeolus&meta=drugpairReactionCounts&q=1313184\n"
     ]
    },
    {
     "name": "stderr",
     "output_type": "stream",
     "text": [
      "\r",
      " 40%|████      | 318/793 [05:20<04:02,  1.96it/s]"
     ]
    },
    {
     "name": "stdout",
     "output_type": "stream",
     "text": [
      "http://nsideseb-env.us-east-1.elasticbeanstalk.com/api/v1/query?service=aeolus&meta=drugpairReactionCounts&q=1313184\n"
     ]
    },
    {
     "name": "stderr",
     "output_type": "stream",
     "text": [
      "\r",
      " 40%|████      | 319/793 [05:21<04:02,  1.96it/s]"
     ]
    },
    {
     "name": "stdout",
     "output_type": "stream",
     "text": [
      "http://nsideseb-env.us-east-1.elasticbeanstalk.com/api/v1/query?service=aeolus&meta=drugpairReactionCounts&q=1313184\n"
     ]
    },
    {
     "name": "stderr",
     "output_type": "stream",
     "text": [
      "\r",
      " 40%|████      | 320/793 [05:21<04:03,  1.94it/s]"
     ]
    },
    {
     "name": "stdout",
     "output_type": "stream",
     "text": [
      "http://nsideseb-env.us-east-1.elasticbeanstalk.com/api/v1/query?service=aeolus&meta=drugpairReactionCounts&q=1313184\n"
     ]
    },
    {
     "name": "stderr",
     "output_type": "stream",
     "text": [
      "\r",
      " 40%|████      | 321/793 [05:22<04:01,  1.96it/s]"
     ]
    },
    {
     "name": "stdout",
     "output_type": "stream",
     "text": [
      "http://nsideseb-env.us-east-1.elasticbeanstalk.com/api/v1/query?service=aeolus&meta=drugpairReactionCounts&q=1313184\n"
     ]
    },
    {
     "name": "stderr",
     "output_type": "stream",
     "text": [
      "\r",
      " 41%|████      | 322/793 [05:22<03:58,  1.97it/s]"
     ]
    },
    {
     "name": "stdout",
     "output_type": "stream",
     "text": [
      "http://nsideseb-env.us-east-1.elasticbeanstalk.com/api/v1/query?service=aeolus&meta=drugpairReactionCounts&q=1313184\n"
     ]
    },
    {
     "name": "stderr",
     "output_type": "stream",
     "text": [
      "\r",
      " 41%|████      | 323/793 [05:23<03:57,  1.98it/s]"
     ]
    },
    {
     "name": "stdout",
     "output_type": "stream",
     "text": [
      "http://nsideseb-env.us-east-1.elasticbeanstalk.com/api/v1/query?service=aeolus&meta=drugpairReactionCounts&q=1313184\n"
     ]
    },
    {
     "name": "stderr",
     "output_type": "stream",
     "text": [
      "\r",
      " 41%|████      | 324/793 [05:23<04:00,  1.95it/s]"
     ]
    },
    {
     "name": "stdout",
     "output_type": "stream",
     "text": [
      "http://nsideseb-env.us-east-1.elasticbeanstalk.com/api/v1/query?service=aeolus&meta=drugpairReactionCounts&q=1313184\n"
     ]
    },
    {
     "name": "stderr",
     "output_type": "stream",
     "text": [
      "\r",
      " 41%|████      | 325/793 [05:24<03:57,  1.97it/s]"
     ]
    },
    {
     "name": "stdout",
     "output_type": "stream",
     "text": [
      "http://nsideseb-env.us-east-1.elasticbeanstalk.com/api/v1/query?service=aeolus&meta=drugpairReactionCounts&q=1313184\n"
     ]
    },
    {
     "name": "stderr",
     "output_type": "stream",
     "text": [
      "\r",
      " 41%|████      | 326/793 [05:24<03:58,  1.96it/s]"
     ]
    },
    {
     "name": "stdout",
     "output_type": "stream",
     "text": [
      "http://nsideseb-env.us-east-1.elasticbeanstalk.com/api/v1/query?service=aeolus&meta=drugpairReactionCounts&q=1313184\n"
     ]
    },
    {
     "name": "stderr",
     "output_type": "stream",
     "text": [
      "\r",
      " 41%|████      | 327/793 [05:25<03:57,  1.96it/s]"
     ]
    },
    {
     "name": "stdout",
     "output_type": "stream",
     "text": [
      "http://nsideseb-env.us-east-1.elasticbeanstalk.com/api/v1/query?service=aeolus&meta=drugpairReactionCounts&q=1313184\n"
     ]
    },
    {
     "name": "stderr",
     "output_type": "stream",
     "text": [
      "\r",
      " 41%|████▏     | 328/793 [05:25<04:02,  1.92it/s]"
     ]
    },
    {
     "name": "stdout",
     "output_type": "stream",
     "text": [
      "http://nsideseb-env.us-east-1.elasticbeanstalk.com/api/v1/query?service=aeolus&meta=drugpairReactionCounts&q=1313184\n"
     ]
    },
    {
     "name": "stderr",
     "output_type": "stream",
     "text": [
      "\r",
      " 41%|████▏     | 329/793 [05:26<04:09,  1.86it/s]"
     ]
    },
    {
     "name": "stdout",
     "output_type": "stream",
     "text": [
      "http://nsideseb-env.us-east-1.elasticbeanstalk.com/api/v1/query?service=aeolus&meta=drugpairReactionCounts&q=1313184\n"
     ]
    },
    {
     "name": "stderr",
     "output_type": "stream",
     "text": [
      "\r",
      " 42%|████▏     | 330/793 [05:27<04:05,  1.88it/s]"
     ]
    },
    {
     "name": "stdout",
     "output_type": "stream",
     "text": [
      "http://nsideseb-env.us-east-1.elasticbeanstalk.com/api/v1/query?service=aeolus&meta=drugpairReactionCounts&q=1313184\n"
     ]
    },
    {
     "name": "stderr",
     "output_type": "stream",
     "text": [
      "\r",
      " 42%|████▏     | 331/793 [05:27<04:02,  1.91it/s]"
     ]
    },
    {
     "name": "stdout",
     "output_type": "stream",
     "text": [
      "http://nsideseb-env.us-east-1.elasticbeanstalk.com/api/v1/query?service=aeolus&meta=drugpairReactionCounts&q=1313184\n"
     ]
    },
    {
     "name": "stderr",
     "output_type": "stream",
     "text": [
      "\r",
      " 42%|████▏     | 332/793 [05:28<03:58,  1.93it/s]"
     ]
    },
    {
     "name": "stdout",
     "output_type": "stream",
     "text": [
      "http://nsideseb-env.us-east-1.elasticbeanstalk.com/api/v1/query?service=aeolus&meta=drugpairReactionCounts&q=1313184\n"
     ]
    },
    {
     "name": "stderr",
     "output_type": "stream",
     "text": [
      "\r",
      " 42%|████▏     | 333/793 [05:28<03:57,  1.94it/s]"
     ]
    },
    {
     "name": "stdout",
     "output_type": "stream",
     "text": [
      "http://nsideseb-env.us-east-1.elasticbeanstalk.com/api/v1/query?service=aeolus&meta=drugpairReactionCounts&q=1313184\n"
     ]
    },
    {
     "name": "stderr",
     "output_type": "stream",
     "text": [
      "\r",
      " 42%|████▏     | 334/793 [05:29<03:56,  1.94it/s]"
     ]
    },
    {
     "name": "stdout",
     "output_type": "stream",
     "text": [
      "http://nsideseb-env.us-east-1.elasticbeanstalk.com/api/v1/query?service=aeolus&meta=drugpairReactionCounts&q=1313184\n"
     ]
    },
    {
     "name": "stderr",
     "output_type": "stream",
     "text": [
      "\r",
      " 42%|████▏     | 335/793 [05:29<03:56,  1.94it/s]"
     ]
    },
    {
     "name": "stdout",
     "output_type": "stream",
     "text": [
      "http://nsideseb-env.us-east-1.elasticbeanstalk.com/api/v1/query?service=aeolus&meta=drugpairReactionCounts&q=1313184\n"
     ]
    },
    {
     "name": "stderr",
     "output_type": "stream",
     "text": [
      "\r",
      " 42%|████▏     | 336/793 [05:30<03:57,  1.92it/s]"
     ]
    },
    {
     "name": "stdout",
     "output_type": "stream",
     "text": [
      "http://nsideseb-env.us-east-1.elasticbeanstalk.com/api/v1/query?service=aeolus&meta=drugpairReactionCounts&q=1313184\n"
     ]
    },
    {
     "name": "stderr",
     "output_type": "stream",
     "text": [
      "\r",
      " 42%|████▏     | 337/793 [05:30<03:54,  1.95it/s]"
     ]
    },
    {
     "name": "stdout",
     "output_type": "stream",
     "text": [
      "http://nsideseb-env.us-east-1.elasticbeanstalk.com/api/v1/query?service=aeolus&meta=drugpairReactionCounts&q=1313184\n"
     ]
    },
    {
     "name": "stderr",
     "output_type": "stream",
     "text": [
      "\r",
      " 43%|████▎     | 338/793 [05:31<03:52,  1.96it/s]"
     ]
    },
    {
     "name": "stdout",
     "output_type": "stream",
     "text": [
      "http://nsideseb-env.us-east-1.elasticbeanstalk.com/api/v1/query?service=aeolus&meta=drugpairReactionCounts&q=1313184\n"
     ]
    },
    {
     "name": "stderr",
     "output_type": "stream",
     "text": [
      "\r",
      " 43%|████▎     | 339/793 [05:31<03:50,  1.97it/s]"
     ]
    },
    {
     "name": "stdout",
     "output_type": "stream",
     "text": [
      "http://nsideseb-env.us-east-1.elasticbeanstalk.com/api/v1/query?service=aeolus&meta=drugpairReactionCounts&q=1313184\n"
     ]
    },
    {
     "name": "stderr",
     "output_type": "stream",
     "text": [
      "\r",
      " 43%|████▎     | 340/793 [05:32<03:49,  1.97it/s]"
     ]
    },
    {
     "name": "stdout",
     "output_type": "stream",
     "text": [
      "http://nsideseb-env.us-east-1.elasticbeanstalk.com/api/v1/query?service=aeolus&meta=drugpairReactionCounts&q=1313184\n"
     ]
    },
    {
     "name": "stderr",
     "output_type": "stream",
     "text": [
      "\r",
      " 43%|████▎     | 341/793 [05:32<03:48,  1.98it/s]"
     ]
    },
    {
     "name": "stdout",
     "output_type": "stream",
     "text": [
      "http://nsideseb-env.us-east-1.elasticbeanstalk.com/api/v1/query?service=aeolus&meta=drugpairReactionCounts&q=1313184\n"
     ]
    },
    {
     "name": "stderr",
     "output_type": "stream",
     "text": [
      "\r",
      " 43%|████▎     | 342/793 [05:33<03:57,  1.90it/s]"
     ]
    },
    {
     "name": "stdout",
     "output_type": "stream",
     "text": [
      "http://nsideseb-env.us-east-1.elasticbeanstalk.com/api/v1/query?service=aeolus&meta=drugpairReactionCounts&q=1313184\n"
     ]
    },
    {
     "name": "stderr",
     "output_type": "stream",
     "text": [
      "\r",
      " 43%|████▎     | 343/793 [05:33<04:04,  1.84it/s]"
     ]
    },
    {
     "name": "stdout",
     "output_type": "stream",
     "text": [
      "http://nsideseb-env.us-east-1.elasticbeanstalk.com/api/v1/query?service=aeolus&meta=drugpairReactionCounts&q=1313184\n"
     ]
    },
    {
     "name": "stderr",
     "output_type": "stream",
     "text": [
      "\r",
      " 43%|████▎     | 344/793 [05:34<03:58,  1.88it/s]"
     ]
    },
    {
     "name": "stdout",
     "output_type": "stream",
     "text": [
      "http://nsideseb-env.us-east-1.elasticbeanstalk.com/api/v1/query?service=aeolus&meta=drugpairReactionCounts&q=1313184\n"
     ]
    },
    {
     "name": "stderr",
     "output_type": "stream",
     "text": [
      "\r",
      " 44%|████▎     | 345/793 [05:34<03:58,  1.88it/s]"
     ]
    },
    {
     "name": "stdout",
     "output_type": "stream",
     "text": [
      "http://nsideseb-env.us-east-1.elasticbeanstalk.com/api/v1/query?service=aeolus&meta=drugpairReactionCounts&q=1313184\n"
     ]
    },
    {
     "name": "stderr",
     "output_type": "stream",
     "text": [
      "\r",
      " 44%|████▎     | 346/793 [05:35<03:52,  1.92it/s]"
     ]
    },
    {
     "name": "stdout",
     "output_type": "stream",
     "text": [
      "http://nsideseb-env.us-east-1.elasticbeanstalk.com/api/v1/query?service=aeolus&meta=drugpairReactionCounts&q=1313184\n"
     ]
    },
    {
     "name": "stderr",
     "output_type": "stream",
     "text": [
      "\r",
      " 44%|████▍     | 347/793 [05:35<03:48,  1.95it/s]"
     ]
    },
    {
     "name": "stdout",
     "output_type": "stream",
     "text": [
      "http://nsideseb-env.us-east-1.elasticbeanstalk.com/api/v1/query?service=aeolus&meta=drugpairReactionCounts&q=1313184\n"
     ]
    },
    {
     "name": "stderr",
     "output_type": "stream",
     "text": [
      "\r",
      " 44%|████▍     | 348/793 [05:36<03:46,  1.96it/s]"
     ]
    },
    {
     "name": "stdout",
     "output_type": "stream",
     "text": [
      "http://nsideseb-env.us-east-1.elasticbeanstalk.com/api/v1/query?service=aeolus&meta=drugpairReactionCounts&q=1313184\n"
     ]
    },
    {
     "name": "stderr",
     "output_type": "stream",
     "text": [
      "\r",
      " 44%|████▍     | 349/793 [05:36<03:46,  1.96it/s]"
     ]
    },
    {
     "name": "stdout",
     "output_type": "stream",
     "text": [
      "http://nsideseb-env.us-east-1.elasticbeanstalk.com/api/v1/query?service=aeolus&meta=drugpairReactionCounts&q=1313184\n"
     ]
    },
    {
     "name": "stderr",
     "output_type": "stream",
     "text": [
      "\r",
      " 44%|████▍     | 350/793 [05:37<03:49,  1.93it/s]"
     ]
    },
    {
     "name": "stdout",
     "output_type": "stream",
     "text": [
      "http://nsideseb-env.us-east-1.elasticbeanstalk.com/api/v1/query?service=aeolus&meta=drugpairReactionCounts&q=1313184\n"
     ]
    },
    {
     "name": "stderr",
     "output_type": "stream",
     "text": [
      "\r",
      " 44%|████▍     | 351/793 [05:37<03:48,  1.93it/s]"
     ]
    },
    {
     "name": "stdout",
     "output_type": "stream",
     "text": [
      "http://nsideseb-env.us-east-1.elasticbeanstalk.com/api/v1/query?service=aeolus&meta=drugpairReactionCounts&q=1313184\n"
     ]
    },
    {
     "name": "stderr",
     "output_type": "stream",
     "text": [
      "\r",
      " 44%|████▍     | 352/793 [05:38<03:49,  1.92it/s]"
     ]
    },
    {
     "name": "stdout",
     "output_type": "stream",
     "text": [
      "http://nsideseb-env.us-east-1.elasticbeanstalk.com/api/v1/query?service=aeolus&meta=drugpairReactionCounts&q=1313184\n"
     ]
    },
    {
     "name": "stderr",
     "output_type": "stream",
     "text": [
      "\r",
      " 45%|████▍     | 353/793 [05:38<03:47,  1.93it/s]"
     ]
    },
    {
     "name": "stdout",
     "output_type": "stream",
     "text": [
      "http://nsideseb-env.us-east-1.elasticbeanstalk.com/api/v1/query?service=aeolus&meta=drugpairReactionCounts&q=1313184\n"
     ]
    },
    {
     "name": "stderr",
     "output_type": "stream",
     "text": [
      "\r",
      " 45%|████▍     | 354/793 [05:39<03:46,  1.94it/s]"
     ]
    },
    {
     "name": "stdout",
     "output_type": "stream",
     "text": [
      "http://nsideseb-env.us-east-1.elasticbeanstalk.com/api/v1/query?service=aeolus&meta=drugpairReactionCounts&q=1313184\n"
     ]
    },
    {
     "name": "stderr",
     "output_type": "stream",
     "text": [
      "\r",
      " 45%|████▍     | 355/793 [05:39<03:46,  1.94it/s]"
     ]
    },
    {
     "name": "stdout",
     "output_type": "stream",
     "text": [
      "http://nsideseb-env.us-east-1.elasticbeanstalk.com/api/v1/query?service=aeolus&meta=drugpairReactionCounts&q=1313184\n"
     ]
    },
    {
     "name": "stderr",
     "output_type": "stream",
     "text": [
      "\r",
      " 45%|████▍     | 356/793 [05:40<03:46,  1.93it/s]"
     ]
    },
    {
     "name": "stdout",
     "output_type": "stream",
     "text": [
      "http://nsideseb-env.us-east-1.elasticbeanstalk.com/api/v1/query?service=aeolus&meta=drugpairReactionCounts&q=1313184\n"
     ]
    },
    {
     "name": "stderr",
     "output_type": "stream",
     "text": [
      "\r",
      " 45%|████▌     | 357/793 [05:40<03:42,  1.96it/s]"
     ]
    },
    {
     "name": "stdout",
     "output_type": "stream",
     "text": [
      "http://nsideseb-env.us-east-1.elasticbeanstalk.com/api/v1/query?service=aeolus&meta=drugpairReactionCounts&q=1313184\n"
     ]
    },
    {
     "name": "stderr",
     "output_type": "stream",
     "text": [
      "\r",
      " 45%|████▌     | 358/793 [05:41<03:39,  1.98it/s]"
     ]
    },
    {
     "name": "stdout",
     "output_type": "stream",
     "text": [
      "http://nsideseb-env.us-east-1.elasticbeanstalk.com/api/v1/query?service=aeolus&meta=drugpairReactionCounts&q=1313184\n"
     ]
    },
    {
     "name": "stderr",
     "output_type": "stream",
     "text": [
      "\r",
      " 45%|████▌     | 359/793 [05:41<03:39,  1.97it/s]"
     ]
    },
    {
     "name": "stdout",
     "output_type": "stream",
     "text": [
      "http://nsideseb-env.us-east-1.elasticbeanstalk.com/api/v1/query?service=aeolus&meta=drugpairReactionCounts&q=1313184\n"
     ]
    },
    {
     "name": "stderr",
     "output_type": "stream",
     "text": [
      "\r",
      " 45%|████▌     | 360/793 [05:42<03:38,  1.98it/s]"
     ]
    },
    {
     "name": "stdout",
     "output_type": "stream",
     "text": [
      "http://nsideseb-env.us-east-1.elasticbeanstalk.com/api/v1/query?service=aeolus&meta=drugpairReactionCounts&q=1313184\n"
     ]
    },
    {
     "name": "stderr",
     "output_type": "stream",
     "text": [
      "\r",
      " 46%|████▌     | 361/793 [05:42<03:38,  1.98it/s]"
     ]
    },
    {
     "name": "stdout",
     "output_type": "stream",
     "text": [
      "http://nsideseb-env.us-east-1.elasticbeanstalk.com/api/v1/query?service=aeolus&meta=drugpairReactionCounts&q=1313184\n"
     ]
    },
    {
     "name": "stderr",
     "output_type": "stream",
     "text": [
      "\r",
      " 46%|████▌     | 362/793 [05:43<03:37,  1.98it/s]"
     ]
    },
    {
     "name": "stdout",
     "output_type": "stream",
     "text": [
      "http://nsideseb-env.us-east-1.elasticbeanstalk.com/api/v1/query?service=aeolus&meta=drugpairReactionCounts&q=1313184\n"
     ]
    },
    {
     "name": "stderr",
     "output_type": "stream",
     "text": [
      "\r",
      " 46%|████▌     | 363/793 [05:43<03:36,  1.99it/s]"
     ]
    },
    {
     "name": "stdout",
     "output_type": "stream",
     "text": [
      "http://nsideseb-env.us-east-1.elasticbeanstalk.com/api/v1/query?service=aeolus&meta=drugpairReactionCounts&q=1313184\n"
     ]
    },
    {
     "name": "stderr",
     "output_type": "stream",
     "text": [
      "\r",
      " 46%|████▌     | 364/793 [05:44<03:34,  2.00it/s]"
     ]
    },
    {
     "name": "stdout",
     "output_type": "stream",
     "text": [
      "http://nsideseb-env.us-east-1.elasticbeanstalk.com/api/v1/query?service=aeolus&meta=drugpairReactionCounts&q=1313184\n"
     ]
    },
    {
     "name": "stderr",
     "output_type": "stream",
     "text": [
      "\r",
      " 46%|████▌     | 365/793 [05:44<03:37,  1.97it/s]"
     ]
    },
    {
     "name": "stdout",
     "output_type": "stream",
     "text": [
      "http://nsideseb-env.us-east-1.elasticbeanstalk.com/api/v1/query?service=aeolus&meta=drugpairReactionCounts&q=1313184\n"
     ]
    },
    {
     "name": "stderr",
     "output_type": "stream",
     "text": [
      "\r",
      " 46%|████▌     | 366/793 [05:45<03:42,  1.92it/s]"
     ]
    },
    {
     "name": "stdout",
     "output_type": "stream",
     "text": [
      "http://nsideseb-env.us-east-1.elasticbeanstalk.com/api/v1/query?service=aeolus&meta=drugpairReactionCounts&q=1313184\n"
     ]
    },
    {
     "name": "stderr",
     "output_type": "stream",
     "text": [
      "\r",
      " 46%|████▋     | 367/793 [05:46<03:43,  1.91it/s]"
     ]
    },
    {
     "name": "stdout",
     "output_type": "stream",
     "text": [
      "http://nsideseb-env.us-east-1.elasticbeanstalk.com/api/v1/query?service=aeolus&meta=drugpairReactionCounts&q=1313184\n"
     ]
    },
    {
     "name": "stderr",
     "output_type": "stream",
     "text": [
      "\r",
      " 46%|████▋     | 368/793 [05:46<03:48,  1.86it/s]"
     ]
    },
    {
     "name": "stdout",
     "output_type": "stream",
     "text": [
      "http://nsideseb-env.us-east-1.elasticbeanstalk.com/api/v1/query?service=aeolus&meta=drugpairReactionCounts&q=1313184\n"
     ]
    },
    {
     "name": "stderr",
     "output_type": "stream",
     "text": [
      "\r",
      " 47%|████▋     | 369/793 [05:47<03:43,  1.90it/s]"
     ]
    },
    {
     "name": "stdout",
     "output_type": "stream",
     "text": [
      "http://nsideseb-env.us-east-1.elasticbeanstalk.com/api/v1/query?service=aeolus&meta=drugpairReactionCounts&q=1313184\n"
     ]
    },
    {
     "name": "stderr",
     "output_type": "stream",
     "text": [
      "\r",
      " 47%|████▋     | 370/793 [05:47<03:40,  1.92it/s]"
     ]
    },
    {
     "name": "stdout",
     "output_type": "stream",
     "text": [
      "http://nsideseb-env.us-east-1.elasticbeanstalk.com/api/v1/query?service=aeolus&meta=drugpairReactionCounts&q=1313184\n"
     ]
    },
    {
     "name": "stderr",
     "output_type": "stream",
     "text": [
      "\r",
      " 47%|████▋     | 371/793 [05:48<03:36,  1.95it/s]"
     ]
    },
    {
     "name": "stdout",
     "output_type": "stream",
     "text": [
      "http://nsideseb-env.us-east-1.elasticbeanstalk.com/api/v1/query?service=aeolus&meta=drugpairReactionCounts&q=1313184\n"
     ]
    },
    {
     "name": "stderr",
     "output_type": "stream",
     "text": [
      "\r",
      " 47%|████▋     | 372/793 [05:48<03:35,  1.95it/s]"
     ]
    },
    {
     "name": "stdout",
     "output_type": "stream",
     "text": [
      "http://nsideseb-env.us-east-1.elasticbeanstalk.com/api/v1/query?service=aeolus&meta=drugpairReactionCounts&q=1313184\n"
     ]
    },
    {
     "name": "stderr",
     "output_type": "stream",
     "text": [
      "\r",
      " 47%|████▋     | 373/793 [05:49<03:33,  1.97it/s]"
     ]
    },
    {
     "name": "stdout",
     "output_type": "stream",
     "text": [
      "http://nsideseb-env.us-east-1.elasticbeanstalk.com/api/v1/query?service=aeolus&meta=drugpairReactionCounts&q=1313184\n"
     ]
    },
    {
     "name": "stderr",
     "output_type": "stream",
     "text": [
      "\r",
      " 47%|████▋     | 374/793 [05:49<03:34,  1.95it/s]"
     ]
    },
    {
     "name": "stdout",
     "output_type": "stream",
     "text": [
      "http://nsideseb-env.us-east-1.elasticbeanstalk.com/api/v1/query?service=aeolus&meta=drugpairReactionCounts&q=1313184\n"
     ]
    },
    {
     "name": "stderr",
     "output_type": "stream",
     "text": [
      "\r",
      " 47%|████▋     | 375/793 [05:50<03:34,  1.95it/s]"
     ]
    },
    {
     "name": "stdout",
     "output_type": "stream",
     "text": [
      "http://nsideseb-env.us-east-1.elasticbeanstalk.com/api/v1/query?service=aeolus&meta=drugpairReactionCounts&q=1313184\n"
     ]
    },
    {
     "name": "stderr",
     "output_type": "stream",
     "text": [
      "\r",
      " 47%|████▋     | 376/793 [05:50<03:31,  1.97it/s]"
     ]
    },
    {
     "name": "stdout",
     "output_type": "stream",
     "text": [
      "http://nsideseb-env.us-east-1.elasticbeanstalk.com/api/v1/query?service=aeolus&meta=drugpairReactionCounts&q=1313184\n"
     ]
    },
    {
     "name": "stderr",
     "output_type": "stream",
     "text": [
      "\r",
      " 48%|████▊     | 377/793 [05:51<03:30,  1.97it/s]"
     ]
    },
    {
     "name": "stdout",
     "output_type": "stream",
     "text": [
      "http://nsideseb-env.us-east-1.elasticbeanstalk.com/api/v1/query?service=aeolus&meta=drugpairReactionCounts&q=1313184\n"
     ]
    },
    {
     "name": "stderr",
     "output_type": "stream",
     "text": [
      "\r",
      " 48%|████▊     | 378/793 [05:51<03:30,  1.98it/s]"
     ]
    },
    {
     "name": "stdout",
     "output_type": "stream",
     "text": [
      "http://nsideseb-env.us-east-1.elasticbeanstalk.com/api/v1/query?service=aeolus&meta=drugpairReactionCounts&q=1313184\n"
     ]
    },
    {
     "name": "stderr",
     "output_type": "stream",
     "text": [
      "\r",
      " 48%|████▊     | 379/793 [05:52<03:31,  1.96it/s]"
     ]
    },
    {
     "name": "stdout",
     "output_type": "stream",
     "text": [
      "http://nsideseb-env.us-east-1.elasticbeanstalk.com/api/v1/query?service=aeolus&meta=drugpairReactionCounts&q=1313184\n"
     ]
    },
    {
     "name": "stderr",
     "output_type": "stream",
     "text": [
      "\r",
      " 48%|████▊     | 380/793 [05:52<03:29,  1.97it/s]"
     ]
    },
    {
     "name": "stdout",
     "output_type": "stream",
     "text": [
      "http://nsideseb-env.us-east-1.elasticbeanstalk.com/api/v1/query?service=aeolus&meta=drugpairReactionCounts&q=1313184\n"
     ]
    },
    {
     "name": "stderr",
     "output_type": "stream",
     "text": [
      "\r",
      " 48%|████▊     | 381/793 [05:53<03:28,  1.98it/s]"
     ]
    },
    {
     "name": "stdout",
     "output_type": "stream",
     "text": [
      "http://nsideseb-env.us-east-1.elasticbeanstalk.com/api/v1/query?service=aeolus&meta=drugpairReactionCounts&q=1313184\n"
     ]
    },
    {
     "name": "stderr",
     "output_type": "stream",
     "text": [
      "\r",
      " 48%|████▊     | 382/793 [05:53<03:31,  1.94it/s]"
     ]
    },
    {
     "name": "stdout",
     "output_type": "stream",
     "text": [
      "http://nsideseb-env.us-east-1.elasticbeanstalk.com/api/v1/query?service=aeolus&meta=drugpairReactionCounts&q=1313184\n"
     ]
    },
    {
     "name": "stderr",
     "output_type": "stream",
     "text": [
      "\r",
      " 48%|████▊     | 383/793 [05:54<03:31,  1.94it/s]"
     ]
    },
    {
     "name": "stdout",
     "output_type": "stream",
     "text": [
      "http://nsideseb-env.us-east-1.elasticbeanstalk.com/api/v1/query?service=aeolus&meta=drugpairReactionCounts&q=1313184\n"
     ]
    },
    {
     "name": "stderr",
     "output_type": "stream",
     "text": [
      "\r",
      " 48%|████▊     | 384/793 [05:54<03:31,  1.93it/s]"
     ]
    },
    {
     "name": "stdout",
     "output_type": "stream",
     "text": [
      "http://nsideseb-env.us-east-1.elasticbeanstalk.com/api/v1/query?service=aeolus&meta=drugpairReactionCounts&q=1313184\n"
     ]
    },
    {
     "name": "stderr",
     "output_type": "stream",
     "text": [
      "\r",
      " 49%|████▊     | 385/793 [05:55<03:29,  1.95it/s]"
     ]
    },
    {
     "name": "stdout",
     "output_type": "stream",
     "text": [
      "http://nsideseb-env.us-east-1.elasticbeanstalk.com/api/v1/query?service=aeolus&meta=drugpairReactionCounts&q=1313184\n"
     ]
    },
    {
     "name": "stderr",
     "output_type": "stream",
     "text": [
      "\r",
      " 49%|████▊     | 386/793 [05:55<03:26,  1.97it/s]"
     ]
    },
    {
     "name": "stdout",
     "output_type": "stream",
     "text": [
      "http://nsideseb-env.us-east-1.elasticbeanstalk.com/api/v1/query?service=aeolus&meta=drugpairReactionCounts&q=1313184\n"
     ]
    },
    {
     "name": "stderr",
     "output_type": "stream",
     "text": [
      "\r",
      " 49%|████▉     | 387/793 [05:56<03:27,  1.96it/s]"
     ]
    },
    {
     "name": "stdout",
     "output_type": "stream",
     "text": [
      "http://nsideseb-env.us-east-1.elasticbeanstalk.com/api/v1/query?service=aeolus&meta=drugpairReactionCounts&q=1313184\n"
     ]
    },
    {
     "name": "stderr",
     "output_type": "stream",
     "text": [
      "\r",
      " 49%|████▉     | 388/793 [05:56<03:26,  1.96it/s]"
     ]
    },
    {
     "name": "stdout",
     "output_type": "stream",
     "text": [
      "http://nsideseb-env.us-east-1.elasticbeanstalk.com/api/v1/query?service=aeolus&meta=drugpairReactionCounts&q=1313184\n"
     ]
    },
    {
     "name": "stderr",
     "output_type": "stream",
     "text": [
      "\r",
      " 49%|████▉     | 389/793 [05:57<03:25,  1.97it/s]"
     ]
    },
    {
     "name": "stdout",
     "output_type": "stream",
     "text": [
      "http://nsideseb-env.us-east-1.elasticbeanstalk.com/api/v1/query?service=aeolus&meta=drugpairReactionCounts&q=1313184\n"
     ]
    },
    {
     "name": "stderr",
     "output_type": "stream",
     "text": [
      "\r",
      " 49%|████▉     | 390/793 [05:57<03:26,  1.95it/s]"
     ]
    },
    {
     "name": "stdout",
     "output_type": "stream",
     "text": [
      "http://nsideseb-env.us-east-1.elasticbeanstalk.com/api/v1/query?service=aeolus&meta=drugpairReactionCounts&q=1313184\n"
     ]
    },
    {
     "name": "stderr",
     "output_type": "stream",
     "text": [
      "\r",
      " 49%|████▉     | 391/793 [05:58<03:26,  1.95it/s]"
     ]
    },
    {
     "name": "stdout",
     "output_type": "stream",
     "text": [
      "http://nsideseb-env.us-east-1.elasticbeanstalk.com/api/v1/query?service=aeolus&meta=drugpairReactionCounts&q=1313184\n"
     ]
    },
    {
     "name": "stderr",
     "output_type": "stream",
     "text": [
      "\r",
      " 49%|████▉     | 392/793 [05:58<03:25,  1.95it/s]"
     ]
    },
    {
     "name": "stdout",
     "output_type": "stream",
     "text": [
      "http://nsideseb-env.us-east-1.elasticbeanstalk.com/api/v1/query?service=aeolus&meta=drugpairReactionCounts&q=1313184\n"
     ]
    },
    {
     "name": "stderr",
     "output_type": "stream",
     "text": [
      "\r",
      " 50%|████▉     | 393/793 [05:59<03:24,  1.95it/s]"
     ]
    },
    {
     "name": "stdout",
     "output_type": "stream",
     "text": [
      "http://nsideseb-env.us-east-1.elasticbeanstalk.com/api/v1/query?service=aeolus&meta=drugpairReactionCounts&q=1313184\n"
     ]
    },
    {
     "name": "stderr",
     "output_type": "stream",
     "text": [
      "\r",
      " 50%|████▉     | 394/793 [05:59<03:22,  1.97it/s]"
     ]
    },
    {
     "name": "stdout",
     "output_type": "stream",
     "text": [
      "http://nsideseb-env.us-east-1.elasticbeanstalk.com/api/v1/query?service=aeolus&meta=drugpairReactionCounts&q=1313184\n"
     ]
    },
    {
     "name": "stderr",
     "output_type": "stream",
     "text": [
      "\r",
      " 50%|████▉     | 395/793 [06:00<03:20,  1.98it/s]"
     ]
    },
    {
     "name": "stdout",
     "output_type": "stream",
     "text": [
      "http://nsideseb-env.us-east-1.elasticbeanstalk.com/api/v1/query?service=aeolus&meta=drugpairReactionCounts&q=1313184\n"
     ]
    },
    {
     "name": "stderr",
     "output_type": "stream",
     "text": [
      "\r",
      " 50%|████▉     | 396/793 [06:00<03:21,  1.97it/s]"
     ]
    },
    {
     "name": "stdout",
     "output_type": "stream",
     "text": [
      "http://nsideseb-env.us-east-1.elasticbeanstalk.com/api/v1/query?service=aeolus&meta=drugpairReactionCounts&q=1313184\n"
     ]
    },
    {
     "name": "stderr",
     "output_type": "stream",
     "text": [
      "\r",
      " 50%|█████     | 397/793 [06:01<03:24,  1.93it/s]"
     ]
    },
    {
     "name": "stdout",
     "output_type": "stream",
     "text": [
      "http://nsideseb-env.us-east-1.elasticbeanstalk.com/api/v1/query?service=aeolus&meta=drugpairReactionCounts&q=1313184\n"
     ]
    },
    {
     "name": "stderr",
     "output_type": "stream",
     "text": [
      "\r",
      " 50%|█████     | 398/793 [06:01<03:23,  1.94it/s]"
     ]
    },
    {
     "name": "stdout",
     "output_type": "stream",
     "text": [
      "http://nsideseb-env.us-east-1.elasticbeanstalk.com/api/v1/query?service=aeolus&meta=drugpairReactionCounts&q=1313184\n"
     ]
    },
    {
     "name": "stderr",
     "output_type": "stream",
     "text": [
      "\r",
      " 50%|█████     | 399/793 [06:02<03:25,  1.92it/s]"
     ]
    },
    {
     "name": "stdout",
     "output_type": "stream",
     "text": [
      "http://nsideseb-env.us-east-1.elasticbeanstalk.com/api/v1/query?service=aeolus&meta=drugpairReactionCounts&q=1313184\n"
     ]
    },
    {
     "name": "stderr",
     "output_type": "stream",
     "text": [
      "\r",
      " 50%|█████     | 400/793 [06:02<03:25,  1.91it/s]"
     ]
    },
    {
     "name": "stdout",
     "output_type": "stream",
     "text": [
      "http://nsideseb-env.us-east-1.elasticbeanstalk.com/api/v1/query?service=aeolus&meta=drugpairReactionCounts&q=1313184\n"
     ]
    },
    {
     "name": "stderr",
     "output_type": "stream",
     "text": [
      "\r",
      " 51%|█████     | 401/793 [06:03<03:24,  1.91it/s]"
     ]
    },
    {
     "name": "stdout",
     "output_type": "stream",
     "text": [
      "http://nsideseb-env.us-east-1.elasticbeanstalk.com/api/v1/query?service=aeolus&meta=drugpairReactionCounts&q=1313184\n"
     ]
    },
    {
     "name": "stderr",
     "output_type": "stream",
     "text": [
      "\r",
      " 51%|█████     | 402/793 [06:03<03:21,  1.94it/s]"
     ]
    },
    {
     "name": "stdout",
     "output_type": "stream",
     "text": [
      "http://nsideseb-env.us-east-1.elasticbeanstalk.com/api/v1/query?service=aeolus&meta=drugpairReactionCounts&q=1313184\n"
     ]
    },
    {
     "name": "stderr",
     "output_type": "stream",
     "text": [
      "\r",
      " 51%|█████     | 403/793 [06:04<03:18,  1.96it/s]"
     ]
    },
    {
     "name": "stdout",
     "output_type": "stream",
     "text": [
      "http://nsideseb-env.us-east-1.elasticbeanstalk.com/api/v1/query?service=aeolus&meta=drugpairReactionCounts&q=1313184\n"
     ]
    },
    {
     "name": "stderr",
     "output_type": "stream",
     "text": [
      "\r",
      " 51%|█████     | 404/793 [06:05<03:23,  1.91it/s]"
     ]
    },
    {
     "name": "stdout",
     "output_type": "stream",
     "text": [
      "http://nsideseb-env.us-east-1.elasticbeanstalk.com/api/v1/query?service=aeolus&meta=drugpairReactionCounts&q=1313184\n"
     ]
    },
    {
     "name": "stderr",
     "output_type": "stream",
     "text": [
      "\r",
      " 51%|█████     | 405/793 [06:05<03:27,  1.87it/s]"
     ]
    },
    {
     "name": "stdout",
     "output_type": "stream",
     "text": [
      "http://nsideseb-env.us-east-1.elasticbeanstalk.com/api/v1/query?service=aeolus&meta=drugpairReactionCounts&q=1313184\n"
     ]
    },
    {
     "name": "stderr",
     "output_type": "stream",
     "text": [
      "\r",
      " 51%|█████     | 406/793 [06:06<03:22,  1.91it/s]"
     ]
    },
    {
     "name": "stdout",
     "output_type": "stream",
     "text": [
      "http://nsideseb-env.us-east-1.elasticbeanstalk.com/api/v1/query?service=aeolus&meta=drugpairReactionCounts&q=1313184\n"
     ]
    },
    {
     "name": "stderr",
     "output_type": "stream",
     "text": [
      "\r",
      " 51%|█████▏    | 407/793 [06:06<03:23,  1.90it/s]"
     ]
    },
    {
     "name": "stdout",
     "output_type": "stream",
     "text": [
      "http://nsideseb-env.us-east-1.elasticbeanstalk.com/api/v1/query?service=aeolus&meta=drugpairReactionCounts&q=1313184\n"
     ]
    },
    {
     "name": "stderr",
     "output_type": "stream",
     "text": [
      "\r",
      " 51%|█████▏    | 408/793 [06:07<03:21,  1.91it/s]"
     ]
    },
    {
     "name": "stdout",
     "output_type": "stream",
     "text": [
      "http://nsideseb-env.us-east-1.elasticbeanstalk.com/api/v1/query?service=aeolus&meta=drugpairReactionCounts&q=1313184\n"
     ]
    },
    {
     "name": "stderr",
     "output_type": "stream",
     "text": [
      "\r",
      " 52%|█████▏    | 409/793 [06:07<03:22,  1.89it/s]"
     ]
    },
    {
     "name": "stdout",
     "output_type": "stream",
     "text": [
      "http://nsideseb-env.us-east-1.elasticbeanstalk.com/api/v1/query?service=aeolus&meta=drugpairReactionCounts&q=1313184\n"
     ]
    },
    {
     "name": "stderr",
     "output_type": "stream",
     "text": [
      "\r",
      " 52%|█████▏    | 410/793 [06:08<03:19,  1.92it/s]"
     ]
    },
    {
     "name": "stdout",
     "output_type": "stream",
     "text": [
      "http://nsideseb-env.us-east-1.elasticbeanstalk.com/api/v1/query?service=aeolus&meta=drugpairReactionCounts&q=1313184\n"
     ]
    },
    {
     "name": "stderr",
     "output_type": "stream",
     "text": [
      "\r",
      " 52%|█████▏    | 411/793 [06:08<03:24,  1.87it/s]"
     ]
    },
    {
     "name": "stdout",
     "output_type": "stream",
     "text": [
      "http://nsideseb-env.us-east-1.elasticbeanstalk.com/api/v1/query?service=aeolus&meta=drugpairReactionCounts&q=1313184\n"
     ]
    },
    {
     "name": "stderr",
     "output_type": "stream",
     "text": [
      "\r",
      " 52%|█████▏    | 412/793 [06:09<03:20,  1.90it/s]"
     ]
    },
    {
     "name": "stdout",
     "output_type": "stream",
     "text": [
      "http://nsideseb-env.us-east-1.elasticbeanstalk.com/api/v1/query?service=aeolus&meta=drugpairReactionCounts&q=1313184\n"
     ]
    },
    {
     "name": "stderr",
     "output_type": "stream",
     "text": [
      "\r",
      " 52%|█████▏    | 413/793 [06:09<03:17,  1.93it/s]"
     ]
    },
    {
     "name": "stdout",
     "output_type": "stream",
     "text": [
      "http://nsideseb-env.us-east-1.elasticbeanstalk.com/api/v1/query?service=aeolus&meta=drugpairReactionCounts&q=1313184\n"
     ]
    },
    {
     "name": "stderr",
     "output_type": "stream",
     "text": [
      "\r",
      " 52%|█████▏    | 414/793 [06:10<03:16,  1.93it/s]"
     ]
    },
    {
     "name": "stdout",
     "output_type": "stream",
     "text": [
      "http://nsideseb-env.us-east-1.elasticbeanstalk.com/api/v1/query?service=aeolus&meta=drugpairReactionCounts&q=1313184\n"
     ]
    },
    {
     "name": "stderr",
     "output_type": "stream",
     "text": [
      "\r",
      " 52%|█████▏    | 415/793 [06:10<03:23,  1.86it/s]"
     ]
    },
    {
     "name": "stdout",
     "output_type": "stream",
     "text": [
      "http://nsideseb-env.us-east-1.elasticbeanstalk.com/api/v1/query?service=aeolus&meta=drugpairReactionCounts&q=1313184\n"
     ]
    },
    {
     "name": "stderr",
     "output_type": "stream",
     "text": [
      "\r",
      " 52%|█████▏    | 416/793 [06:11<03:20,  1.88it/s]"
     ]
    },
    {
     "name": "stdout",
     "output_type": "stream",
     "text": [
      "http://nsideseb-env.us-east-1.elasticbeanstalk.com/api/v1/query?service=aeolus&meta=drugpairReactionCounts&q=1313184\n"
     ]
    },
    {
     "name": "stderr",
     "output_type": "stream",
     "text": [
      "\r",
      " 53%|█████▎    | 417/793 [06:11<03:18,  1.90it/s]"
     ]
    },
    {
     "name": "stdout",
     "output_type": "stream",
     "text": [
      "http://nsideseb-env.us-east-1.elasticbeanstalk.com/api/v1/query?service=aeolus&meta=drugpairReactionCounts&q=1313184\n"
     ]
    },
    {
     "name": "stderr",
     "output_type": "stream",
     "text": [
      "\r",
      " 53%|█████▎    | 418/793 [06:12<03:16,  1.91it/s]"
     ]
    },
    {
     "name": "stdout",
     "output_type": "stream",
     "text": [
      "http://nsideseb-env.us-east-1.elasticbeanstalk.com/api/v1/query?service=aeolus&meta=drugpairReactionCounts&q=1313184\n"
     ]
    },
    {
     "name": "stderr",
     "output_type": "stream",
     "text": [
      "\r",
      " 53%|█████▎    | 419/793 [06:12<03:14,  1.93it/s]"
     ]
    },
    {
     "name": "stdout",
     "output_type": "stream",
     "text": [
      "http://nsideseb-env.us-east-1.elasticbeanstalk.com/api/v1/query?service=aeolus&meta=drugpairReactionCounts&q=1313184\n"
     ]
    },
    {
     "name": "stderr",
     "output_type": "stream",
     "text": [
      "\r",
      " 53%|█████▎    | 420/793 [06:13<03:13,  1.93it/s]"
     ]
    },
    {
     "name": "stdout",
     "output_type": "stream",
     "text": [
      "http://nsideseb-env.us-east-1.elasticbeanstalk.com/api/v1/query?service=aeolus&meta=drugpairReactionCounts&q=1313184\n"
     ]
    },
    {
     "name": "stderr",
     "output_type": "stream",
     "text": [
      "\r",
      " 53%|█████▎    | 421/793 [06:13<03:12,  1.94it/s]"
     ]
    },
    {
     "name": "stdout",
     "output_type": "stream",
     "text": [
      "http://nsideseb-env.us-east-1.elasticbeanstalk.com/api/v1/query?service=aeolus&meta=drugpairReactionCounts&q=1313184\n"
     ]
    },
    {
     "name": "stderr",
     "output_type": "stream",
     "text": [
      "\r",
      " 53%|█████▎    | 422/793 [06:14<03:09,  1.96it/s]"
     ]
    },
    {
     "name": "stdout",
     "output_type": "stream",
     "text": [
      "http://nsideseb-env.us-east-1.elasticbeanstalk.com/api/v1/query?service=aeolus&meta=drugpairReactionCounts&q=1313184\n"
     ]
    },
    {
     "name": "stderr",
     "output_type": "stream",
     "text": [
      "\r",
      " 53%|█████▎    | 423/793 [06:14<03:09,  1.95it/s]"
     ]
    },
    {
     "name": "stdout",
     "output_type": "stream",
     "text": [
      "http://nsideseb-env.us-east-1.elasticbeanstalk.com/api/v1/query?service=aeolus&meta=drugpairReactionCounts&q=1313184\n"
     ]
    },
    {
     "name": "stderr",
     "output_type": "stream",
     "text": [
      "\r",
      " 53%|█████▎    | 424/793 [06:15<03:14,  1.89it/s]"
     ]
    },
    {
     "name": "stdout",
     "output_type": "stream",
     "text": [
      "http://nsideseb-env.us-east-1.elasticbeanstalk.com/api/v1/query?service=aeolus&meta=drugpairReactionCounts&q=1313184\n"
     ]
    },
    {
     "name": "stderr",
     "output_type": "stream",
     "text": [
      "\r",
      " 54%|█████▎    | 425/793 [06:16<03:12,  1.91it/s]"
     ]
    },
    {
     "name": "stdout",
     "output_type": "stream",
     "text": [
      "http://nsideseb-env.us-east-1.elasticbeanstalk.com/api/v1/query?service=aeolus&meta=drugpairReactionCounts&q=1313184\n"
     ]
    },
    {
     "name": "stderr",
     "output_type": "stream",
     "text": [
      "\r",
      " 54%|█████▎    | 426/793 [06:16<03:10,  1.92it/s]"
     ]
    },
    {
     "name": "stdout",
     "output_type": "stream",
     "text": [
      "http://nsideseb-env.us-east-1.elasticbeanstalk.com/api/v1/query?service=aeolus&meta=drugpairReactionCounts&q=1313184\n"
     ]
    },
    {
     "name": "stderr",
     "output_type": "stream",
     "text": [
      "\r",
      " 54%|█████▍    | 427/793 [06:17<03:11,  1.91it/s]"
     ]
    },
    {
     "name": "stdout",
     "output_type": "stream",
     "text": [
      "http://nsideseb-env.us-east-1.elasticbeanstalk.com/api/v1/query?service=aeolus&meta=drugpairReactionCounts&q=1313184\n"
     ]
    },
    {
     "name": "stderr",
     "output_type": "stream",
     "text": [
      "\r",
      " 54%|█████▍    | 428/793 [06:17<03:09,  1.92it/s]"
     ]
    },
    {
     "name": "stdout",
     "output_type": "stream",
     "text": [
      "http://nsideseb-env.us-east-1.elasticbeanstalk.com/api/v1/query?service=aeolus&meta=drugpairReactionCounts&q=1313184\n"
     ]
    },
    {
     "name": "stderr",
     "output_type": "stream",
     "text": [
      "\r",
      " 54%|█████▍    | 429/793 [06:18<03:07,  1.94it/s]"
     ]
    },
    {
     "name": "stdout",
     "output_type": "stream",
     "text": [
      "http://nsideseb-env.us-east-1.elasticbeanstalk.com/api/v1/query?service=aeolus&meta=drugpairReactionCounts&q=1313184\n"
     ]
    },
    {
     "name": "stderr",
     "output_type": "stream",
     "text": [
      "\r",
      " 54%|█████▍    | 430/793 [06:18<03:08,  1.93it/s]"
     ]
    },
    {
     "name": "stdout",
     "output_type": "stream",
     "text": [
      "http://nsideseb-env.us-east-1.elasticbeanstalk.com/api/v1/query?service=aeolus&meta=drugpairReactionCounts&q=1313184\n"
     ]
    },
    {
     "name": "stderr",
     "output_type": "stream",
     "text": [
      "\r",
      " 54%|█████▍    | 431/793 [06:19<03:06,  1.94it/s]"
     ]
    },
    {
     "name": "stdout",
     "output_type": "stream",
     "text": [
      "http://nsideseb-env.us-east-1.elasticbeanstalk.com/api/v1/query?service=aeolus&meta=drugpairReactionCounts&q=1313184\n"
     ]
    },
    {
     "name": "stderr",
     "output_type": "stream",
     "text": [
      "\r",
      " 54%|█████▍    | 432/793 [06:19<03:06,  1.93it/s]"
     ]
    },
    {
     "name": "stdout",
     "output_type": "stream",
     "text": [
      "http://nsideseb-env.us-east-1.elasticbeanstalk.com/api/v1/query?service=aeolus&meta=drugpairReactionCounts&q=1313184\n"
     ]
    },
    {
     "name": "stderr",
     "output_type": "stream",
     "text": [
      "\r",
      " 55%|█████▍    | 433/793 [06:20<03:05,  1.94it/s]"
     ]
    },
    {
     "name": "stdout",
     "output_type": "stream",
     "text": [
      "http://nsideseb-env.us-east-1.elasticbeanstalk.com/api/v1/query?service=aeolus&meta=drugpairReactionCounts&q=1313184\n"
     ]
    },
    {
     "name": "stderr",
     "output_type": "stream",
     "text": [
      "\r",
      " 55%|█████▍    | 434/793 [06:20<03:03,  1.96it/s]"
     ]
    },
    {
     "name": "stdout",
     "output_type": "stream",
     "text": [
      "http://nsideseb-env.us-east-1.elasticbeanstalk.com/api/v1/query?service=aeolus&meta=drugpairReactionCounts&q=1313184\n"
     ]
    },
    {
     "name": "stderr",
     "output_type": "stream",
     "text": [
      "\r",
      " 55%|█████▍    | 435/793 [06:21<03:02,  1.96it/s]"
     ]
    },
    {
     "name": "stdout",
     "output_type": "stream",
     "text": [
      "http://nsideseb-env.us-east-1.elasticbeanstalk.com/api/v1/query?service=aeolus&meta=drugpairReactionCounts&q=1313184\n"
     ]
    },
    {
     "name": "stderr",
     "output_type": "stream",
     "text": [
      "\r",
      " 55%|█████▍    | 436/793 [06:21<03:03,  1.94it/s]"
     ]
    },
    {
     "name": "stdout",
     "output_type": "stream",
     "text": [
      "http://nsideseb-env.us-east-1.elasticbeanstalk.com/api/v1/query?service=aeolus&meta=drugpairReactionCounts&q=1313184\n"
     ]
    },
    {
     "name": "stderr",
     "output_type": "stream",
     "text": [
      "\r",
      " 55%|█████▌    | 437/793 [06:22<03:02,  1.95it/s]"
     ]
    },
    {
     "name": "stdout",
     "output_type": "stream",
     "text": [
      "http://nsideseb-env.us-east-1.elasticbeanstalk.com/api/v1/query?service=aeolus&meta=drugpairReactionCounts&q=1313184\n"
     ]
    },
    {
     "name": "stderr",
     "output_type": "stream",
     "text": [
      "\r",
      " 55%|█████▌    | 438/793 [06:22<03:00,  1.97it/s]"
     ]
    },
    {
     "name": "stdout",
     "output_type": "stream",
     "text": [
      "http://nsideseb-env.us-east-1.elasticbeanstalk.com/api/v1/query?service=aeolus&meta=drugpairReactionCounts&q=1313184\n"
     ]
    },
    {
     "name": "stderr",
     "output_type": "stream",
     "text": [
      "\r",
      " 55%|█████▌    | 439/793 [06:23<03:00,  1.96it/s]"
     ]
    },
    {
     "name": "stdout",
     "output_type": "stream",
     "text": [
      "http://nsideseb-env.us-east-1.elasticbeanstalk.com/api/v1/query?service=aeolus&meta=drugpairReactionCounts&q=1313184\n"
     ]
    },
    {
     "name": "stderr",
     "output_type": "stream",
     "text": [
      "\r",
      " 55%|█████▌    | 440/793 [06:23<03:00,  1.95it/s]"
     ]
    },
    {
     "name": "stdout",
     "output_type": "stream",
     "text": [
      "http://nsideseb-env.us-east-1.elasticbeanstalk.com/api/v1/query?service=aeolus&meta=drugpairReactionCounts&q=1313184\n"
     ]
    },
    {
     "name": "stderr",
     "output_type": "stream",
     "text": [
      "\r",
      " 56%|█████▌    | 441/793 [06:24<03:00,  1.95it/s]"
     ]
    },
    {
     "name": "stdout",
     "output_type": "stream",
     "text": [
      "http://nsideseb-env.us-east-1.elasticbeanstalk.com/api/v1/query?service=aeolus&meta=drugpairReactionCounts&q=1313184\n"
     ]
    },
    {
     "name": "stderr",
     "output_type": "stream",
     "text": [
      "\r",
      " 56%|█████▌    | 442/793 [06:24<03:02,  1.93it/s]"
     ]
    },
    {
     "name": "stdout",
     "output_type": "stream",
     "text": [
      "http://nsideseb-env.us-east-1.elasticbeanstalk.com/api/v1/query?service=aeolus&meta=drugpairReactionCounts&q=1313184\n"
     ]
    },
    {
     "name": "stderr",
     "output_type": "stream",
     "text": [
      "\r",
      " 56%|█████▌    | 443/793 [06:25<02:59,  1.95it/s]"
     ]
    },
    {
     "name": "stdout",
     "output_type": "stream",
     "text": [
      "http://nsideseb-env.us-east-1.elasticbeanstalk.com/api/v1/query?service=aeolus&meta=drugpairReactionCounts&q=1313184\n"
     ]
    },
    {
     "name": "stderr",
     "output_type": "stream",
     "text": [
      "\r",
      " 56%|█████▌    | 444/793 [06:25<02:58,  1.96it/s]"
     ]
    },
    {
     "name": "stdout",
     "output_type": "stream",
     "text": [
      "http://nsideseb-env.us-east-1.elasticbeanstalk.com/api/v1/query?service=aeolus&meta=drugpairReactionCounts&q=1313184\n"
     ]
    },
    {
     "name": "stderr",
     "output_type": "stream",
     "text": [
      "\r",
      " 56%|█████▌    | 445/793 [06:26<02:56,  1.97it/s]"
     ]
    },
    {
     "name": "stdout",
     "output_type": "stream",
     "text": [
      "http://nsideseb-env.us-east-1.elasticbeanstalk.com/api/v1/query?service=aeolus&meta=drugpairReactionCounts&q=1313184\n"
     ]
    },
    {
     "name": "stderr",
     "output_type": "stream",
     "text": [
      "\r",
      " 56%|█████▌    | 446/793 [06:26<02:57,  1.96it/s]"
     ]
    },
    {
     "name": "stdout",
     "output_type": "stream",
     "text": [
      "http://nsideseb-env.us-east-1.elasticbeanstalk.com/api/v1/query?service=aeolus&meta=drugpairReactionCounts&q=1313184\n"
     ]
    },
    {
     "name": "stderr",
     "output_type": "stream",
     "text": [
      "\r",
      " 56%|█████▋    | 447/793 [06:27<02:57,  1.95it/s]"
     ]
    },
    {
     "name": "stdout",
     "output_type": "stream",
     "text": [
      "http://nsideseb-env.us-east-1.elasticbeanstalk.com/api/v1/query?service=aeolus&meta=drugpairReactionCounts&q=1313184\n"
     ]
    },
    {
     "name": "stderr",
     "output_type": "stream",
     "text": [
      "\r",
      " 56%|█████▋    | 448/793 [06:27<03:00,  1.91it/s]"
     ]
    },
    {
     "name": "stdout",
     "output_type": "stream",
     "text": [
      "http://nsideseb-env.us-east-1.elasticbeanstalk.com/api/v1/query?service=aeolus&meta=drugpairReactionCounts&q=1313184\n"
     ]
    },
    {
     "name": "stderr",
     "output_type": "stream",
     "text": [
      "\r",
      " 57%|█████▋    | 449/793 [06:28<02:59,  1.91it/s]"
     ]
    },
    {
     "name": "stdout",
     "output_type": "stream",
     "text": [
      "http://nsideseb-env.us-east-1.elasticbeanstalk.com/api/v1/query?service=aeolus&meta=drugpairReactionCounts&q=1313184\n"
     ]
    },
    {
     "name": "stderr",
     "output_type": "stream",
     "text": [
      "\r",
      " 57%|█████▋    | 450/793 [06:28<02:58,  1.92it/s]"
     ]
    },
    {
     "name": "stdout",
     "output_type": "stream",
     "text": [
      "http://nsideseb-env.us-east-1.elasticbeanstalk.com/api/v1/query?service=aeolus&meta=drugpairReactionCounts&q=1313184\n"
     ]
    },
    {
     "name": "stderr",
     "output_type": "stream",
     "text": [
      "\r",
      " 57%|█████▋    | 451/793 [06:29<03:01,  1.88it/s]"
     ]
    },
    {
     "name": "stdout",
     "output_type": "stream",
     "text": [
      "http://nsideseb-env.us-east-1.elasticbeanstalk.com/api/v1/query?service=aeolus&meta=drugpairReactionCounts&q=1313184\n"
     ]
    },
    {
     "name": "stderr",
     "output_type": "stream",
     "text": [
      "\r",
      " 57%|█████▋    | 452/793 [06:29<02:57,  1.92it/s]"
     ]
    },
    {
     "name": "stdout",
     "output_type": "stream",
     "text": [
      "http://nsideseb-env.us-east-1.elasticbeanstalk.com/api/v1/query?service=aeolus&meta=drugpairReactionCounts&q=1313184\n"
     ]
    },
    {
     "name": "stderr",
     "output_type": "stream",
     "text": [
      "\r",
      " 57%|█████▋    | 453/793 [06:30<02:55,  1.94it/s]"
     ]
    },
    {
     "name": "stdout",
     "output_type": "stream",
     "text": [
      "http://nsideseb-env.us-east-1.elasticbeanstalk.com/api/v1/query?service=aeolus&meta=drugpairReactionCounts&q=1313184\n"
     ]
    },
    {
     "name": "stderr",
     "output_type": "stream",
     "text": [
      "\r",
      " 57%|█████▋    | 454/793 [06:30<02:54,  1.94it/s]"
     ]
    },
    {
     "name": "stdout",
     "output_type": "stream",
     "text": [
      "http://nsideseb-env.us-east-1.elasticbeanstalk.com/api/v1/query?service=aeolus&meta=drugpairReactionCounts&q=1313184\n"
     ]
    },
    {
     "name": "stderr",
     "output_type": "stream",
     "text": [
      "\r",
      " 57%|█████▋    | 455/793 [06:31<02:52,  1.96it/s]"
     ]
    },
    {
     "name": "stdout",
     "output_type": "stream",
     "text": [
      "http://nsideseb-env.us-east-1.elasticbeanstalk.com/api/v1/query?service=aeolus&meta=drugpairReactionCounts&q=1313184\n"
     ]
    },
    {
     "name": "stderr",
     "output_type": "stream",
     "text": [
      "\r",
      " 58%|█████▊    | 456/793 [06:31<02:51,  1.97it/s]"
     ]
    },
    {
     "name": "stdout",
     "output_type": "stream",
     "text": [
      "http://nsideseb-env.us-east-1.elasticbeanstalk.com/api/v1/query?service=aeolus&meta=drugpairReactionCounts&q=1313184\n"
     ]
    },
    {
     "name": "stderr",
     "output_type": "stream",
     "text": [
      "\r",
      " 58%|█████▊    | 457/793 [06:32<02:50,  1.97it/s]"
     ]
    },
    {
     "name": "stdout",
     "output_type": "stream",
     "text": [
      "http://nsideseb-env.us-east-1.elasticbeanstalk.com/api/v1/query?service=aeolus&meta=drugpairReactionCounts&q=1313184\n"
     ]
    },
    {
     "name": "stderr",
     "output_type": "stream",
     "text": [
      "\r",
      " 58%|█████▊    | 458/793 [06:32<02:48,  1.98it/s]"
     ]
    },
    {
     "name": "stdout",
     "output_type": "stream",
     "text": [
      "http://nsideseb-env.us-east-1.elasticbeanstalk.com/api/v1/query?service=aeolus&meta=drugpairReactionCounts&q=1313184\n"
     ]
    },
    {
     "name": "stderr",
     "output_type": "stream",
     "text": [
      "\r",
      " 58%|█████▊    | 459/793 [06:33<02:47,  1.99it/s]"
     ]
    },
    {
     "name": "stdout",
     "output_type": "stream",
     "text": [
      "http://nsideseb-env.us-east-1.elasticbeanstalk.com/api/v1/query?service=aeolus&meta=drugpairReactionCounts&q=1313184\n"
     ]
    },
    {
     "name": "stderr",
     "output_type": "stream",
     "text": [
      "\r",
      " 58%|█████▊    | 460/793 [06:34<02:48,  1.98it/s]"
     ]
    },
    {
     "name": "stdout",
     "output_type": "stream",
     "text": [
      "http://nsideseb-env.us-east-1.elasticbeanstalk.com/api/v1/query?service=aeolus&meta=drugpairReactionCounts&q=1313184\n"
     ]
    },
    {
     "name": "stderr",
     "output_type": "stream",
     "text": [
      "\r",
      " 58%|█████▊    | 461/793 [06:34<02:48,  1.97it/s]"
     ]
    },
    {
     "name": "stdout",
     "output_type": "stream",
     "text": [
      "http://nsideseb-env.us-east-1.elasticbeanstalk.com/api/v1/query?service=aeolus&meta=drugpairReactionCounts&q=1313184\n"
     ]
    },
    {
     "name": "stderr",
     "output_type": "stream",
     "text": [
      "\r",
      " 58%|█████▊    | 462/793 [06:35<02:52,  1.92it/s]"
     ]
    },
    {
     "name": "stdout",
     "output_type": "stream",
     "text": [
      "http://nsideseb-env.us-east-1.elasticbeanstalk.com/api/v1/query?service=aeolus&meta=drugpairReactionCounts&q=1313184\n"
     ]
    },
    {
     "name": "stderr",
     "output_type": "stream",
     "text": [
      "\r",
      " 58%|█████▊    | 463/793 [06:35<02:51,  1.92it/s]"
     ]
    },
    {
     "name": "stdout",
     "output_type": "stream",
     "text": [
      "http://nsideseb-env.us-east-1.elasticbeanstalk.com/api/v1/query?service=aeolus&meta=drugpairReactionCounts&q=1313184\n"
     ]
    },
    {
     "name": "stderr",
     "output_type": "stream",
     "text": [
      "\r",
      " 59%|█████▊    | 464/793 [06:36<02:51,  1.92it/s]"
     ]
    },
    {
     "name": "stdout",
     "output_type": "stream",
     "text": [
      "http://nsideseb-env.us-east-1.elasticbeanstalk.com/api/v1/query?service=aeolus&meta=drugpairReactionCounts&q=1313184\n"
     ]
    },
    {
     "name": "stderr",
     "output_type": "stream",
     "text": [
      "\r",
      " 59%|█████▊    | 465/793 [06:36<02:50,  1.92it/s]"
     ]
    },
    {
     "name": "stdout",
     "output_type": "stream",
     "text": [
      "http://nsideseb-env.us-east-1.elasticbeanstalk.com/api/v1/query?service=aeolus&meta=drugpairReactionCounts&q=1313184\n"
     ]
    },
    {
     "name": "stderr",
     "output_type": "stream",
     "text": [
      "\r",
      " 59%|█████▉    | 466/793 [06:37<02:48,  1.94it/s]"
     ]
    },
    {
     "name": "stdout",
     "output_type": "stream",
     "text": [
      "http://nsideseb-env.us-east-1.elasticbeanstalk.com/api/v1/query?service=aeolus&meta=drugpairReactionCounts&q=1313184\n"
     ]
    },
    {
     "name": "stderr",
     "output_type": "stream",
     "text": [
      "\r",
      " 59%|█████▉    | 467/793 [06:37<02:49,  1.92it/s]"
     ]
    },
    {
     "name": "stdout",
     "output_type": "stream",
     "text": [
      "http://nsideseb-env.us-east-1.elasticbeanstalk.com/api/v1/query?service=aeolus&meta=drugpairReactionCounts&q=1313184\n"
     ]
    },
    {
     "name": "stderr",
     "output_type": "stream",
     "text": [
      "\r",
      " 59%|█████▉    | 468/793 [06:38<02:54,  1.86it/s]"
     ]
    },
    {
     "name": "stdout",
     "output_type": "stream",
     "text": [
      "http://nsideseb-env.us-east-1.elasticbeanstalk.com/api/v1/query?service=aeolus&meta=drugpairReactionCounts&q=1313184\n"
     ]
    },
    {
     "name": "stderr",
     "output_type": "stream",
     "text": [
      "\r",
      " 59%|█████▉    | 469/793 [06:38<02:52,  1.88it/s]"
     ]
    },
    {
     "name": "stdout",
     "output_type": "stream",
     "text": [
      "http://nsideseb-env.us-east-1.elasticbeanstalk.com/api/v1/query?service=aeolus&meta=drugpairReactionCounts&q=1313184\n"
     ]
    },
    {
     "name": "stderr",
     "output_type": "stream",
     "text": [
      "\r",
      " 59%|█████▉    | 470/793 [06:39<02:50,  1.90it/s]"
     ]
    },
    {
     "name": "stdout",
     "output_type": "stream",
     "text": [
      "http://nsideseb-env.us-east-1.elasticbeanstalk.com/api/v1/query?service=aeolus&meta=drugpairReactionCounts&q=1313184\n"
     ]
    },
    {
     "name": "stderr",
     "output_type": "stream",
     "text": [
      "\r",
      " 59%|█████▉    | 471/793 [06:39<02:50,  1.89it/s]"
     ]
    },
    {
     "name": "stdout",
     "output_type": "stream",
     "text": [
      "http://nsideseb-env.us-east-1.elasticbeanstalk.com/api/v1/query?service=aeolus&meta=drugpairReactionCounts&q=1313184\n"
     ]
    },
    {
     "name": "stderr",
     "output_type": "stream",
     "text": [
      "\r",
      " 60%|█████▉    | 472/793 [06:40<02:47,  1.92it/s]"
     ]
    },
    {
     "name": "stdout",
     "output_type": "stream",
     "text": [
      "http://nsideseb-env.us-east-1.elasticbeanstalk.com/api/v1/query?service=aeolus&meta=drugpairReactionCounts&q=1313184\n"
     ]
    },
    {
     "name": "stderr",
     "output_type": "stream",
     "text": [
      "\r",
      " 60%|█████▉    | 473/793 [06:40<02:45,  1.94it/s]"
     ]
    },
    {
     "name": "stdout",
     "output_type": "stream",
     "text": [
      "http://nsideseb-env.us-east-1.elasticbeanstalk.com/api/v1/query?service=aeolus&meta=drugpairReactionCounts&q=1313184\n"
     ]
    },
    {
     "name": "stderr",
     "output_type": "stream",
     "text": [
      "\r",
      " 60%|█████▉    | 474/793 [06:41<02:42,  1.96it/s]"
     ]
    },
    {
     "name": "stdout",
     "output_type": "stream",
     "text": [
      "http://nsideseb-env.us-east-1.elasticbeanstalk.com/api/v1/query?service=aeolus&meta=drugpairReactionCounts&q=1313184\n"
     ]
    },
    {
     "name": "stderr",
     "output_type": "stream",
     "text": [
      "\r",
      " 60%|█████▉    | 475/793 [06:41<02:41,  1.97it/s]"
     ]
    },
    {
     "name": "stdout",
     "output_type": "stream",
     "text": [
      "http://nsideseb-env.us-east-1.elasticbeanstalk.com/api/v1/query?service=aeolus&meta=drugpairReactionCounts&q=1313184\n"
     ]
    },
    {
     "name": "stderr",
     "output_type": "stream",
     "text": [
      "\r",
      " 60%|██████    | 476/793 [06:42<02:41,  1.97it/s]"
     ]
    },
    {
     "name": "stdout",
     "output_type": "stream",
     "text": [
      "http://nsideseb-env.us-east-1.elasticbeanstalk.com/api/v1/query?service=aeolus&meta=drugpairReactionCounts&q=1313184\n"
     ]
    },
    {
     "name": "stderr",
     "output_type": "stream",
     "text": [
      "\r",
      " 60%|██████    | 477/793 [06:42<02:46,  1.90it/s]"
     ]
    },
    {
     "name": "stdout",
     "output_type": "stream",
     "text": [
      "http://nsideseb-env.us-east-1.elasticbeanstalk.com/api/v1/query?service=aeolus&meta=drugpairReactionCounts&q=1313184\n"
     ]
    },
    {
     "name": "stderr",
     "output_type": "stream",
     "text": [
      "\r",
      " 60%|██████    | 478/793 [06:43<02:45,  1.90it/s]"
     ]
    },
    {
     "name": "stdout",
     "output_type": "stream",
     "text": [
      "http://nsideseb-env.us-east-1.elasticbeanstalk.com/api/v1/query?service=aeolus&meta=drugpairReactionCounts&q=1313184\n"
     ]
    },
    {
     "name": "stderr",
     "output_type": "stream",
     "text": [
      "\r",
      " 60%|██████    | 479/793 [06:43<02:45,  1.89it/s]"
     ]
    },
    {
     "name": "stdout",
     "output_type": "stream",
     "text": [
      "http://nsideseb-env.us-east-1.elasticbeanstalk.com/api/v1/query?service=aeolus&meta=drugpairReactionCounts&q=1313184\n"
     ]
    },
    {
     "name": "stderr",
     "output_type": "stream",
     "text": [
      "\r",
      " 61%|██████    | 480/793 [06:44<02:49,  1.84it/s]"
     ]
    },
    {
     "name": "stdout",
     "output_type": "stream",
     "text": [
      "http://nsideseb-env.us-east-1.elasticbeanstalk.com/api/v1/query?service=aeolus&meta=drugpairReactionCounts&q=1313184\n"
     ]
    },
    {
     "name": "stderr",
     "output_type": "stream",
     "text": [
      "\r",
      " 61%|██████    | 481/793 [06:45<02:45,  1.89it/s]"
     ]
    },
    {
     "name": "stdout",
     "output_type": "stream",
     "text": [
      "http://nsideseb-env.us-east-1.elasticbeanstalk.com/api/v1/query?service=aeolus&meta=drugpairReactionCounts&q=1313184\n"
     ]
    },
    {
     "name": "stderr",
     "output_type": "stream",
     "text": [
      "\r",
      " 61%|██████    | 482/793 [06:45<02:43,  1.90it/s]"
     ]
    },
    {
     "name": "stdout",
     "output_type": "stream",
     "text": [
      "http://nsideseb-env.us-east-1.elasticbeanstalk.com/api/v1/query?service=aeolus&meta=drugpairReactionCounts&q=1313184\n"
     ]
    },
    {
     "name": "stderr",
     "output_type": "stream",
     "text": [
      "\r",
      " 61%|██████    | 483/793 [06:46<02:41,  1.92it/s]"
     ]
    },
    {
     "name": "stdout",
     "output_type": "stream",
     "text": [
      "http://nsideseb-env.us-east-1.elasticbeanstalk.com/api/v1/query?service=aeolus&meta=drugpairReactionCounts&q=1313184\n"
     ]
    },
    {
     "name": "stderr",
     "output_type": "stream",
     "text": [
      "\r",
      " 61%|██████    | 484/793 [06:46<02:45,  1.87it/s]"
     ]
    },
    {
     "name": "stdout",
     "output_type": "stream",
     "text": [
      "http://nsideseb-env.us-east-1.elasticbeanstalk.com/api/v1/query?service=aeolus&meta=drugpairReactionCounts&q=1313184\n"
     ]
    },
    {
     "name": "stderr",
     "output_type": "stream",
     "text": [
      "\r",
      " 61%|██████    | 485/793 [06:47<02:46,  1.85it/s]"
     ]
    },
    {
     "name": "stdout",
     "output_type": "stream",
     "text": [
      "http://nsideseb-env.us-east-1.elasticbeanstalk.com/api/v1/query?service=aeolus&meta=drugpairReactionCounts&q=1313184\n"
     ]
    },
    {
     "name": "stderr",
     "output_type": "stream",
     "text": [
      "\r",
      " 61%|██████▏   | 486/793 [06:47<02:46,  1.85it/s]"
     ]
    },
    {
     "name": "stdout",
     "output_type": "stream",
     "text": [
      "http://nsideseb-env.us-east-1.elasticbeanstalk.com/api/v1/query?service=aeolus&meta=drugpairReactionCounts&q=1313184\n"
     ]
    },
    {
     "name": "stderr",
     "output_type": "stream",
     "text": [
      "\r",
      " 61%|██████▏   | 487/793 [06:48<02:51,  1.78it/s]"
     ]
    },
    {
     "name": "stdout",
     "output_type": "stream",
     "text": [
      "http://nsideseb-env.us-east-1.elasticbeanstalk.com/api/v1/query?service=aeolus&meta=drugpairReactionCounts&q=1313184\n"
     ]
    },
    {
     "name": "stderr",
     "output_type": "stream",
     "text": [
      "\r",
      " 62%|██████▏   | 488/793 [06:48<02:48,  1.81it/s]"
     ]
    },
    {
     "name": "stdout",
     "output_type": "stream",
     "text": [
      "http://nsideseb-env.us-east-1.elasticbeanstalk.com/api/v1/query?service=aeolus&meta=drugpairReactionCounts&q=1313184\n"
     ]
    },
    {
     "name": "stderr",
     "output_type": "stream",
     "text": [
      "\r",
      " 62%|██████▏   | 489/793 [06:49<02:43,  1.86it/s]"
     ]
    },
    {
     "name": "stdout",
     "output_type": "stream",
     "text": [
      "http://nsideseb-env.us-east-1.elasticbeanstalk.com/api/v1/query?service=aeolus&meta=drugpairReactionCounts&q=1313184\n"
     ]
    },
    {
     "name": "stderr",
     "output_type": "stream",
     "text": [
      "\r",
      " 62%|██████▏   | 490/793 [06:49<02:41,  1.88it/s]"
     ]
    },
    {
     "name": "stdout",
     "output_type": "stream",
     "text": [
      "http://nsideseb-env.us-east-1.elasticbeanstalk.com/api/v1/query?service=aeolus&meta=drugpairReactionCounts&q=1313184\n"
     ]
    },
    {
     "name": "stderr",
     "output_type": "stream",
     "text": [
      "\r",
      " 62%|██████▏   | 491/793 [06:50<02:39,  1.90it/s]"
     ]
    },
    {
     "name": "stdout",
     "output_type": "stream",
     "text": [
      "http://nsideseb-env.us-east-1.elasticbeanstalk.com/api/v1/query?service=aeolus&meta=drugpairReactionCounts&q=1313184\n"
     ]
    },
    {
     "name": "stderr",
     "output_type": "stream",
     "text": [
      "\r",
      " 62%|██████▏   | 492/793 [06:50<02:38,  1.90it/s]"
     ]
    },
    {
     "name": "stdout",
     "output_type": "stream",
     "text": [
      "http://nsideseb-env.us-east-1.elasticbeanstalk.com/api/v1/query?service=aeolus&meta=drugpairReactionCounts&q=1313184\n"
     ]
    },
    {
     "name": "stderr",
     "output_type": "stream",
     "text": [
      "\r",
      " 62%|██████▏   | 493/793 [06:51<02:37,  1.90it/s]"
     ]
    },
    {
     "name": "stdout",
     "output_type": "stream",
     "text": [
      "http://nsideseb-env.us-east-1.elasticbeanstalk.com/api/v1/query?service=aeolus&meta=drugpairReactionCounts&q=1313184\n"
     ]
    },
    {
     "name": "stderr",
     "output_type": "stream",
     "text": [
      "\r",
      " 62%|██████▏   | 494/793 [06:52<02:39,  1.87it/s]"
     ]
    },
    {
     "name": "stdout",
     "output_type": "stream",
     "text": [
      "http://nsideseb-env.us-east-1.elasticbeanstalk.com/api/v1/query?service=aeolus&meta=drugpairReactionCounts&q=1313184\n"
     ]
    },
    {
     "name": "stderr",
     "output_type": "stream",
     "text": [
      "\r",
      " 62%|██████▏   | 495/793 [06:52<02:38,  1.88it/s]"
     ]
    },
    {
     "name": "stdout",
     "output_type": "stream",
     "text": [
      "http://nsideseb-env.us-east-1.elasticbeanstalk.com/api/v1/query?service=aeolus&meta=drugpairReactionCounts&q=1313184\n"
     ]
    },
    {
     "name": "stderr",
     "output_type": "stream",
     "text": [
      "\r",
      " 63%|██████▎   | 496/793 [06:53<02:36,  1.90it/s]"
     ]
    },
    {
     "name": "stdout",
     "output_type": "stream",
     "text": [
      "http://nsideseb-env.us-east-1.elasticbeanstalk.com/api/v1/query?service=aeolus&meta=drugpairReactionCounts&q=1313184\n"
     ]
    },
    {
     "name": "stderr",
     "output_type": "stream",
     "text": [
      "\r",
      " 63%|██████▎   | 497/793 [06:53<02:33,  1.93it/s]"
     ]
    },
    {
     "name": "stdout",
     "output_type": "stream",
     "text": [
      "http://nsideseb-env.us-east-1.elasticbeanstalk.com/api/v1/query?service=aeolus&meta=drugpairReactionCounts&q=1313184\n"
     ]
    },
    {
     "name": "stderr",
     "output_type": "stream",
     "text": [
      "\r",
      " 63%|██████▎   | 498/793 [06:54<02:32,  1.94it/s]"
     ]
    },
    {
     "name": "stdout",
     "output_type": "stream",
     "text": [
      "http://nsideseb-env.us-east-1.elasticbeanstalk.com/api/v1/query?service=aeolus&meta=drugpairReactionCounts&q=1313184\n"
     ]
    },
    {
     "name": "stderr",
     "output_type": "stream",
     "text": [
      "\r",
      " 63%|██████▎   | 499/793 [06:54<02:29,  1.96it/s]"
     ]
    },
    {
     "name": "stdout",
     "output_type": "stream",
     "text": [
      "http://nsideseb-env.us-east-1.elasticbeanstalk.com/api/v1/query?service=aeolus&meta=drugpairReactionCounts&q=1313184\n"
     ]
    },
    {
     "name": "stderr",
     "output_type": "stream",
     "text": [
      "\r",
      " 63%|██████▎   | 500/793 [06:55<02:32,  1.92it/s]"
     ]
    },
    {
     "name": "stdout",
     "output_type": "stream",
     "text": [
      "http://nsideseb-env.us-east-1.elasticbeanstalk.com/api/v1/query?service=aeolus&meta=drugpairReactionCounts&q=1313184\n"
     ]
    },
    {
     "name": "stderr",
     "output_type": "stream",
     "text": [
      "\r",
      " 63%|██████▎   | 501/793 [06:55<02:30,  1.94it/s]"
     ]
    },
    {
     "name": "stdout",
     "output_type": "stream",
     "text": [
      "http://nsideseb-env.us-east-1.elasticbeanstalk.com/api/v1/query?service=aeolus&meta=drugpairReactionCounts&q=1313184\n"
     ]
    },
    {
     "name": "stderr",
     "output_type": "stream",
     "text": [
      "\r",
      " 63%|██████▎   | 502/793 [06:56<02:32,  1.91it/s]"
     ]
    },
    {
     "name": "stdout",
     "output_type": "stream",
     "text": [
      "http://nsideseb-env.us-east-1.elasticbeanstalk.com/api/v1/query?service=aeolus&meta=drugpairReactionCounts&q=1313184\n"
     ]
    },
    {
     "name": "stderr",
     "output_type": "stream",
     "text": [
      "\r",
      " 63%|██████▎   | 503/793 [06:56<02:29,  1.94it/s]"
     ]
    },
    {
     "name": "stdout",
     "output_type": "stream",
     "text": [
      "http://nsideseb-env.us-east-1.elasticbeanstalk.com/api/v1/query?service=aeolus&meta=drugpairReactionCounts&q=1313184\n"
     ]
    },
    {
     "name": "stderr",
     "output_type": "stream",
     "text": [
      "\r",
      " 64%|██████▎   | 504/793 [06:57<02:29,  1.94it/s]"
     ]
    },
    {
     "name": "stdout",
     "output_type": "stream",
     "text": [
      "http://nsideseb-env.us-east-1.elasticbeanstalk.com/api/v1/query?service=aeolus&meta=drugpairReactionCounts&q=1313184\n"
     ]
    },
    {
     "name": "stderr",
     "output_type": "stream",
     "text": [
      "\r",
      " 64%|██████▎   | 505/793 [06:57<02:28,  1.94it/s]"
     ]
    },
    {
     "name": "stdout",
     "output_type": "stream",
     "text": [
      "http://nsideseb-env.us-east-1.elasticbeanstalk.com/api/v1/query?service=aeolus&meta=drugpairReactionCounts&q=1313184\n"
     ]
    },
    {
     "name": "stderr",
     "output_type": "stream",
     "text": [
      "\r",
      " 64%|██████▍   | 506/793 [06:58<02:27,  1.95it/s]"
     ]
    },
    {
     "name": "stdout",
     "output_type": "stream",
     "text": [
      "http://nsideseb-env.us-east-1.elasticbeanstalk.com/api/v1/query?service=aeolus&meta=drugpairReactionCounts&q=1313184\n"
     ]
    },
    {
     "name": "stderr",
     "output_type": "stream",
     "text": [
      "\r",
      " 64%|██████▍   | 507/793 [06:58<02:25,  1.96it/s]"
     ]
    },
    {
     "name": "stdout",
     "output_type": "stream",
     "text": [
      "http://nsideseb-env.us-east-1.elasticbeanstalk.com/api/v1/query?service=aeolus&meta=drugpairReactionCounts&q=1313184\n"
     ]
    },
    {
     "name": "stderr",
     "output_type": "stream",
     "text": [
      "\r",
      " 64%|██████▍   | 508/793 [06:59<02:24,  1.97it/s]"
     ]
    },
    {
     "name": "stdout",
     "output_type": "stream",
     "text": [
      "http://nsideseb-env.us-east-1.elasticbeanstalk.com/api/v1/query?service=aeolus&meta=drugpairReactionCounts&q=1313184\n"
     ]
    },
    {
     "name": "stderr",
     "output_type": "stream",
     "text": [
      "\r",
      " 64%|██████▍   | 509/793 [06:59<02:27,  1.93it/s]"
     ]
    },
    {
     "name": "stdout",
     "output_type": "stream",
     "text": [
      "http://nsideseb-env.us-east-1.elasticbeanstalk.com/api/v1/query?service=aeolus&meta=drugpairReactionCounts&q=1313184\n"
     ]
    },
    {
     "name": "stderr",
     "output_type": "stream",
     "text": [
      "\r",
      " 64%|██████▍   | 510/793 [07:00<02:38,  1.78it/s]"
     ]
    },
    {
     "name": "stdout",
     "output_type": "stream",
     "text": [
      "http://nsideseb-env.us-east-1.elasticbeanstalk.com/api/v1/query?service=aeolus&meta=drugpairReactionCounts&q=1313184\n"
     ]
    },
    {
     "name": "stderr",
     "output_type": "stream",
     "text": [
      "\r",
      " 64%|██████▍   | 511/793 [07:00<02:36,  1.81it/s]"
     ]
    },
    {
     "name": "stdout",
     "output_type": "stream",
     "text": [
      "http://nsideseb-env.us-east-1.elasticbeanstalk.com/api/v1/query?service=aeolus&meta=drugpairReactionCounts&q=1313184\n"
     ]
    },
    {
     "name": "stderr",
     "output_type": "stream",
     "text": [
      "\r",
      " 65%|██████▍   | 512/793 [07:01<02:32,  1.85it/s]"
     ]
    },
    {
     "name": "stdout",
     "output_type": "stream",
     "text": [
      "http://nsideseb-env.us-east-1.elasticbeanstalk.com/api/v1/query?service=aeolus&meta=drugpairReactionCounts&q=1313184\n"
     ]
    },
    {
     "name": "stderr",
     "output_type": "stream",
     "text": [
      "\r",
      " 65%|██████▍   | 513/793 [07:01<02:28,  1.88it/s]"
     ]
    },
    {
     "name": "stdout",
     "output_type": "stream",
     "text": [
      "http://nsideseb-env.us-east-1.elasticbeanstalk.com/api/v1/query?service=aeolus&meta=drugpairReactionCounts&q=1313184\n"
     ]
    },
    {
     "name": "stderr",
     "output_type": "stream",
     "text": [
      "\r",
      " 65%|██████▍   | 514/793 [07:02<02:24,  1.92it/s]"
     ]
    },
    {
     "name": "stdout",
     "output_type": "stream",
     "text": [
      "http://nsideseb-env.us-east-1.elasticbeanstalk.com/api/v1/query?service=aeolus&meta=drugpairReactionCounts&q=1313184\n"
     ]
    },
    {
     "name": "stderr",
     "output_type": "stream",
     "text": [
      "\r",
      " 65%|██████▍   | 515/793 [07:02<02:22,  1.95it/s]"
     ]
    },
    {
     "name": "stdout",
     "output_type": "stream",
     "text": [
      "http://nsideseb-env.us-east-1.elasticbeanstalk.com/api/v1/query?service=aeolus&meta=drugpairReactionCounts&q=1313184\n"
     ]
    },
    {
     "name": "stderr",
     "output_type": "stream",
     "text": [
      "\r",
      " 65%|██████▌   | 516/793 [07:03<02:24,  1.91it/s]"
     ]
    },
    {
     "name": "stdout",
     "output_type": "stream",
     "text": [
      "http://nsideseb-env.us-east-1.elasticbeanstalk.com/api/v1/query?service=aeolus&meta=drugpairReactionCounts&q=1313184\n"
     ]
    },
    {
     "name": "stderr",
     "output_type": "stream",
     "text": [
      "\r",
      " 65%|██████▌   | 517/793 [07:03<02:23,  1.92it/s]"
     ]
    },
    {
     "name": "stdout",
     "output_type": "stream",
     "text": [
      "http://nsideseb-env.us-east-1.elasticbeanstalk.com/api/v1/query?service=aeolus&meta=drugpairReactionCounts&q=1313184\n"
     ]
    },
    {
     "name": "stderr",
     "output_type": "stream",
     "text": [
      "\r",
      " 65%|██████▌   | 518/793 [07:04<02:22,  1.93it/s]"
     ]
    },
    {
     "name": "stdout",
     "output_type": "stream",
     "text": [
      "http://nsideseb-env.us-east-1.elasticbeanstalk.com/api/v1/query?service=aeolus&meta=drugpairReactionCounts&q=1313184\n"
     ]
    },
    {
     "name": "stderr",
     "output_type": "stream",
     "text": [
      "\r",
      " 65%|██████▌   | 519/793 [07:04<02:20,  1.95it/s]"
     ]
    },
    {
     "name": "stdout",
     "output_type": "stream",
     "text": [
      "http://nsideseb-env.us-east-1.elasticbeanstalk.com/api/v1/query?service=aeolus&meta=drugpairReactionCounts&q=1313184\n"
     ]
    },
    {
     "name": "stderr",
     "output_type": "stream",
     "text": [
      "\r",
      " 66%|██████▌   | 520/793 [07:05<02:21,  1.93it/s]"
     ]
    },
    {
     "name": "stdout",
     "output_type": "stream",
     "text": [
      "http://nsideseb-env.us-east-1.elasticbeanstalk.com/api/v1/query?service=aeolus&meta=drugpairReactionCounts&q=1313184\n"
     ]
    },
    {
     "name": "stderr",
     "output_type": "stream",
     "text": [
      "\r",
      " 66%|██████▌   | 521/793 [07:06<02:20,  1.94it/s]"
     ]
    },
    {
     "name": "stdout",
     "output_type": "stream",
     "text": [
      "http://nsideseb-env.us-east-1.elasticbeanstalk.com/api/v1/query?service=aeolus&meta=drugpairReactionCounts&q=1313184\n"
     ]
    },
    {
     "name": "stderr",
     "output_type": "stream",
     "text": [
      "\r",
      " 66%|██████▌   | 522/793 [07:06<02:22,  1.91it/s]"
     ]
    },
    {
     "name": "stdout",
     "output_type": "stream",
     "text": [
      "http://nsideseb-env.us-east-1.elasticbeanstalk.com/api/v1/query?service=aeolus&meta=drugpairReactionCounts&q=1313184\n"
     ]
    },
    {
     "name": "stderr",
     "output_type": "stream",
     "text": [
      "\r",
      " 66%|██████▌   | 523/793 [07:07<02:20,  1.93it/s]"
     ]
    },
    {
     "name": "stdout",
     "output_type": "stream",
     "text": [
      "http://nsideseb-env.us-east-1.elasticbeanstalk.com/api/v1/query?service=aeolus&meta=drugpairReactionCounts&q=1313184\n"
     ]
    },
    {
     "name": "stderr",
     "output_type": "stream",
     "text": [
      "\r",
      " 66%|██████▌   | 524/793 [07:07<02:18,  1.94it/s]"
     ]
    },
    {
     "name": "stdout",
     "output_type": "stream",
     "text": [
      "http://nsideseb-env.us-east-1.elasticbeanstalk.com/api/v1/query?service=aeolus&meta=drugpairReactionCounts&q=1313184\n"
     ]
    },
    {
     "name": "stderr",
     "output_type": "stream",
     "text": [
      "\r",
      " 66%|██████▌   | 525/793 [07:08<02:20,  1.91it/s]"
     ]
    },
    {
     "name": "stdout",
     "output_type": "stream",
     "text": [
      "http://nsideseb-env.us-east-1.elasticbeanstalk.com/api/v1/query?service=aeolus&meta=drugpairReactionCounts&q=1313184\n"
     ]
    },
    {
     "name": "stderr",
     "output_type": "stream",
     "text": [
      "\r",
      " 66%|██████▋   | 526/793 [07:08<02:20,  1.90it/s]"
     ]
    },
    {
     "name": "stdout",
     "output_type": "stream",
     "text": [
      "http://nsideseb-env.us-east-1.elasticbeanstalk.com/api/v1/query?service=aeolus&meta=drugpairReactionCounts&q=1313184\n"
     ]
    },
    {
     "name": "stderr",
     "output_type": "stream",
     "text": [
      "\r",
      " 66%|██████▋   | 527/793 [07:09<02:19,  1.90it/s]"
     ]
    },
    {
     "name": "stdout",
     "output_type": "stream",
     "text": [
      "http://nsideseb-env.us-east-1.elasticbeanstalk.com/api/v1/query?service=aeolus&meta=drugpairReactionCounts&q=1313184\n"
     ]
    },
    {
     "name": "stderr",
     "output_type": "stream",
     "text": [
      "\r",
      " 67%|██████▋   | 528/793 [07:09<02:18,  1.92it/s]"
     ]
    },
    {
     "name": "stdout",
     "output_type": "stream",
     "text": [
      "http://nsideseb-env.us-east-1.elasticbeanstalk.com/api/v1/query?service=aeolus&meta=drugpairReactionCounts&q=1313184\n"
     ]
    },
    {
     "name": "stderr",
     "output_type": "stream",
     "text": [
      "\r",
      " 67%|██████▋   | 529/793 [07:10<02:15,  1.95it/s]"
     ]
    },
    {
     "name": "stdout",
     "output_type": "stream",
     "text": [
      "http://nsideseb-env.us-east-1.elasticbeanstalk.com/api/v1/query?service=aeolus&meta=drugpairReactionCounts&q=1313184\n"
     ]
    },
    {
     "name": "stderr",
     "output_type": "stream",
     "text": [
      "\r",
      " 67%|██████▋   | 530/793 [07:10<02:13,  1.97it/s]"
     ]
    },
    {
     "name": "stdout",
     "output_type": "stream",
     "text": [
      "http://nsideseb-env.us-east-1.elasticbeanstalk.com/api/v1/query?service=aeolus&meta=drugpairReactionCounts&q=1313184\n"
     ]
    },
    {
     "name": "stderr",
     "output_type": "stream",
     "text": [
      "\r",
      " 67%|██████▋   | 531/793 [07:11<02:12,  1.97it/s]"
     ]
    },
    {
     "name": "stdout",
     "output_type": "stream",
     "text": [
      "http://nsideseb-env.us-east-1.elasticbeanstalk.com/api/v1/query?service=aeolus&meta=drugpairReactionCounts&q=1313184\n"
     ]
    },
    {
     "name": "stderr",
     "output_type": "stream",
     "text": [
      "\r",
      " 67%|██████▋   | 532/793 [07:11<02:13,  1.95it/s]"
     ]
    },
    {
     "name": "stdout",
     "output_type": "stream",
     "text": [
      "http://nsideseb-env.us-east-1.elasticbeanstalk.com/api/v1/query?service=aeolus&meta=drugpairReactionCounts&q=1313184\n"
     ]
    },
    {
     "name": "stderr",
     "output_type": "stream",
     "text": [
      "\r",
      " 67%|██████▋   | 533/793 [07:12<02:12,  1.96it/s]"
     ]
    },
    {
     "name": "stdout",
     "output_type": "stream",
     "text": [
      "http://nsideseb-env.us-east-1.elasticbeanstalk.com/api/v1/query?service=aeolus&meta=drugpairReactionCounts&q=1313184\n"
     ]
    },
    {
     "name": "stderr",
     "output_type": "stream",
     "text": [
      "\r",
      " 67%|██████▋   | 534/793 [07:12<02:13,  1.95it/s]"
     ]
    },
    {
     "name": "stdout",
     "output_type": "stream",
     "text": [
      "http://nsideseb-env.us-east-1.elasticbeanstalk.com/api/v1/query?service=aeolus&meta=drugpairReactionCounts&q=1313184\n"
     ]
    },
    {
     "name": "stderr",
     "output_type": "stream",
     "text": [
      "\r",
      " 67%|██████▋   | 535/793 [07:13<02:11,  1.96it/s]"
     ]
    },
    {
     "name": "stdout",
     "output_type": "stream",
     "text": [
      "http://nsideseb-env.us-east-1.elasticbeanstalk.com/api/v1/query?service=aeolus&meta=drugpairReactionCounts&q=1313184\n"
     ]
    },
    {
     "name": "stderr",
     "output_type": "stream",
     "text": [
      "\r",
      " 68%|██████▊   | 536/793 [07:13<02:11,  1.95it/s]"
     ]
    },
    {
     "name": "stdout",
     "output_type": "stream",
     "text": [
      "http://nsideseb-env.us-east-1.elasticbeanstalk.com/api/v1/query?service=aeolus&meta=drugpairReactionCounts&q=1313184\n"
     ]
    },
    {
     "name": "stderr",
     "output_type": "stream",
     "text": [
      "\r",
      " 68%|██████▊   | 537/793 [07:14<02:09,  1.97it/s]"
     ]
    },
    {
     "name": "stdout",
     "output_type": "stream",
     "text": [
      "http://nsideseb-env.us-east-1.elasticbeanstalk.com/api/v1/query?service=aeolus&meta=drugpairReactionCounts&q=1313184\n"
     ]
    },
    {
     "name": "stderr",
     "output_type": "stream",
     "text": [
      "\r",
      " 68%|██████▊   | 538/793 [07:14<02:13,  1.91it/s]"
     ]
    },
    {
     "name": "stdout",
     "output_type": "stream",
     "text": [
      "http://nsideseb-env.us-east-1.elasticbeanstalk.com/api/v1/query?service=aeolus&meta=drugpairReactionCounts&q=1313184\n"
     ]
    },
    {
     "name": "stderr",
     "output_type": "stream",
     "text": [
      "\r",
      " 68%|██████▊   | 539/793 [07:15<02:11,  1.93it/s]"
     ]
    },
    {
     "name": "stdout",
     "output_type": "stream",
     "text": [
      "http://nsideseb-env.us-east-1.elasticbeanstalk.com/api/v1/query?service=aeolus&meta=drugpairReactionCounts&q=1313184\n"
     ]
    },
    {
     "name": "stderr",
     "output_type": "stream",
     "text": [
      "\r",
      " 68%|██████▊   | 540/793 [07:15<02:09,  1.95it/s]"
     ]
    },
    {
     "name": "stdout",
     "output_type": "stream",
     "text": [
      "http://nsideseb-env.us-east-1.elasticbeanstalk.com/api/v1/query?service=aeolus&meta=drugpairReactionCounts&q=1313184\n"
     ]
    },
    {
     "name": "stderr",
     "output_type": "stream",
     "text": [
      "\r",
      " 68%|██████▊   | 541/793 [07:16<02:09,  1.95it/s]"
     ]
    },
    {
     "name": "stdout",
     "output_type": "stream",
     "text": [
      "http://nsideseb-env.us-east-1.elasticbeanstalk.com/api/v1/query?service=aeolus&meta=drugpairReactionCounts&q=1313184\n"
     ]
    },
    {
     "name": "stderr",
     "output_type": "stream",
     "text": [
      "\r",
      " 68%|██████▊   | 542/793 [07:16<02:08,  1.95it/s]"
     ]
    },
    {
     "name": "stdout",
     "output_type": "stream",
     "text": [
      "http://nsideseb-env.us-east-1.elasticbeanstalk.com/api/v1/query?service=aeolus&meta=drugpairReactionCounts&q=1313184\n"
     ]
    },
    {
     "name": "stderr",
     "output_type": "stream",
     "text": [
      "\r",
      " 68%|██████▊   | 543/793 [07:17<02:09,  1.94it/s]"
     ]
    },
    {
     "name": "stdout",
     "output_type": "stream",
     "text": [
      "http://nsideseb-env.us-east-1.elasticbeanstalk.com/api/v1/query?service=aeolus&meta=drugpairReactionCounts&q=1313184\n"
     ]
    },
    {
     "name": "stderr",
     "output_type": "stream",
     "text": [
      "\r",
      " 69%|██████▊   | 544/793 [07:17<02:09,  1.93it/s]"
     ]
    },
    {
     "name": "stdout",
     "output_type": "stream",
     "text": [
      "http://nsideseb-env.us-east-1.elasticbeanstalk.com/api/v1/query?service=aeolus&meta=drugpairReactionCounts&q=1313184\n"
     ]
    },
    {
     "name": "stderr",
     "output_type": "stream",
     "text": [
      "\r",
      " 69%|██████▊   | 545/793 [07:18<02:07,  1.95it/s]"
     ]
    },
    {
     "name": "stdout",
     "output_type": "stream",
     "text": [
      "http://nsideseb-env.us-east-1.elasticbeanstalk.com/api/v1/query?service=aeolus&meta=drugpairReactionCounts&q=1313184\n"
     ]
    },
    {
     "name": "stderr",
     "output_type": "stream",
     "text": [
      "\r",
      " 69%|██████▉   | 546/793 [07:18<02:05,  1.97it/s]"
     ]
    },
    {
     "name": "stdout",
     "output_type": "stream",
     "text": [
      "http://nsideseb-env.us-east-1.elasticbeanstalk.com/api/v1/query?service=aeolus&meta=drugpairReactionCounts&q=1313184\n"
     ]
    },
    {
     "name": "stderr",
     "output_type": "stream",
     "text": [
      "\r",
      " 69%|██████▉   | 547/793 [07:19<02:04,  1.98it/s]"
     ]
    },
    {
     "name": "stdout",
     "output_type": "stream",
     "text": [
      "http://nsideseb-env.us-east-1.elasticbeanstalk.com/api/v1/query?service=aeolus&meta=drugpairReactionCounts&q=1313184\n"
     ]
    },
    {
     "name": "stderr",
     "output_type": "stream",
     "text": [
      "\r",
      " 69%|██████▉   | 548/793 [07:19<02:06,  1.94it/s]"
     ]
    },
    {
     "name": "stdout",
     "output_type": "stream",
     "text": [
      "http://nsideseb-env.us-east-1.elasticbeanstalk.com/api/v1/query?service=aeolus&meta=drugpairReactionCounts&q=1313184\n"
     ]
    },
    {
     "name": "stderr",
     "output_type": "stream",
     "text": [
      "\r",
      " 69%|██████▉   | 549/793 [07:20<02:04,  1.97it/s]"
     ]
    },
    {
     "name": "stdout",
     "output_type": "stream",
     "text": [
      "http://nsideseb-env.us-east-1.elasticbeanstalk.com/api/v1/query?service=aeolus&meta=drugpairReactionCounts&q=1313184\n"
     ]
    },
    {
     "name": "stderr",
     "output_type": "stream",
     "text": [
      "\r",
      " 69%|██████▉   | 550/793 [07:20<02:05,  1.94it/s]"
     ]
    },
    {
     "name": "stdout",
     "output_type": "stream",
     "text": [
      "http://nsideseb-env.us-east-1.elasticbeanstalk.com/api/v1/query?service=aeolus&meta=drugpairReactionCounts&q=1313184\n"
     ]
    },
    {
     "name": "stderr",
     "output_type": "stream",
     "text": [
      "\r",
      " 69%|██████▉   | 551/793 [07:21<02:03,  1.96it/s]"
     ]
    },
    {
     "name": "stdout",
     "output_type": "stream",
     "text": [
      "http://nsideseb-env.us-east-1.elasticbeanstalk.com/api/v1/query?service=aeolus&meta=drugpairReactionCounts&q=1313184\n"
     ]
    },
    {
     "name": "stderr",
     "output_type": "stream",
     "text": [
      "\r",
      " 70%|██████▉   | 552/793 [07:21<02:03,  1.96it/s]"
     ]
    },
    {
     "name": "stdout",
     "output_type": "stream",
     "text": [
      "http://nsideseb-env.us-east-1.elasticbeanstalk.com/api/v1/query?service=aeolus&meta=drugpairReactionCounts&q=1313184\n"
     ]
    },
    {
     "name": "stderr",
     "output_type": "stream",
     "text": [
      "\r",
      " 70%|██████▉   | 553/793 [07:22<02:04,  1.93it/s]"
     ]
    },
    {
     "name": "stdout",
     "output_type": "stream",
     "text": [
      "http://nsideseb-env.us-east-1.elasticbeanstalk.com/api/v1/query?service=aeolus&meta=drugpairReactionCounts&q=1313184\n"
     ]
    },
    {
     "name": "stderr",
     "output_type": "stream",
     "text": [
      "\r",
      " 70%|██████▉   | 554/793 [07:23<02:02,  1.95it/s]"
     ]
    },
    {
     "name": "stdout",
     "output_type": "stream",
     "text": [
      "http://nsideseb-env.us-east-1.elasticbeanstalk.com/api/v1/query?service=aeolus&meta=drugpairReactionCounts&q=1313184\n"
     ]
    },
    {
     "name": "stderr",
     "output_type": "stream",
     "text": [
      "\r",
      " 70%|██████▉   | 555/793 [07:23<02:02,  1.94it/s]"
     ]
    },
    {
     "name": "stdout",
     "output_type": "stream",
     "text": [
      "http://nsideseb-env.us-east-1.elasticbeanstalk.com/api/v1/query?service=aeolus&meta=drugpairReactionCounts&q=1313184\n"
     ]
    },
    {
     "name": "stderr",
     "output_type": "stream",
     "text": [
      "\r",
      " 70%|███████   | 556/793 [07:24<02:05,  1.89it/s]"
     ]
    },
    {
     "name": "stdout",
     "output_type": "stream",
     "text": [
      "http://nsideseb-env.us-east-1.elasticbeanstalk.com/api/v1/query?service=aeolus&meta=drugpairReactionCounts&q=1313184\n"
     ]
    },
    {
     "name": "stderr",
     "output_type": "stream",
     "text": [
      "\r",
      " 70%|███████   | 557/793 [07:24<02:04,  1.90it/s]"
     ]
    },
    {
     "name": "stdout",
     "output_type": "stream",
     "text": [
      "http://nsideseb-env.us-east-1.elasticbeanstalk.com/api/v1/query?service=aeolus&meta=drugpairReactionCounts&q=1313184\n"
     ]
    },
    {
     "name": "stderr",
     "output_type": "stream",
     "text": [
      "\r",
      " 70%|███████   | 558/793 [07:25<02:07,  1.84it/s]"
     ]
    },
    {
     "name": "stdout",
     "output_type": "stream",
     "text": [
      "http://nsideseb-env.us-east-1.elasticbeanstalk.com/api/v1/query?service=aeolus&meta=drugpairReactionCounts&q=1313184\n"
     ]
    },
    {
     "name": "stderr",
     "output_type": "stream",
     "text": [
      "\r",
      " 70%|███████   | 559/793 [07:25<02:08,  1.83it/s]"
     ]
    },
    {
     "name": "stdout",
     "output_type": "stream",
     "text": [
      "http://nsideseb-env.us-east-1.elasticbeanstalk.com/api/v1/query?service=aeolus&meta=drugpairReactionCounts&q=1313184\n"
     ]
    },
    {
     "name": "stderr",
     "output_type": "stream",
     "text": [
      "\r",
      " 71%|███████   | 560/793 [07:26<02:05,  1.85it/s]"
     ]
    },
    {
     "name": "stdout",
     "output_type": "stream",
     "text": [
      "http://nsideseb-env.us-east-1.elasticbeanstalk.com/api/v1/query?service=aeolus&meta=drugpairReactionCounts&q=1313184\n"
     ]
    },
    {
     "name": "stderr",
     "output_type": "stream",
     "text": [
      "\r",
      " 71%|███████   | 561/793 [07:26<02:05,  1.85it/s]"
     ]
    },
    {
     "name": "stdout",
     "output_type": "stream",
     "text": [
      "http://nsideseb-env.us-east-1.elasticbeanstalk.com/api/v1/query?service=aeolus&meta=drugpairReactionCounts&q=1313184\n"
     ]
    },
    {
     "name": "stderr",
     "output_type": "stream",
     "text": [
      "\r",
      " 71%|███████   | 562/793 [07:27<02:01,  1.90it/s]"
     ]
    },
    {
     "name": "stdout",
     "output_type": "stream",
     "text": [
      "http://nsideseb-env.us-east-1.elasticbeanstalk.com/api/v1/query?service=aeolus&meta=drugpairReactionCounts&q=1313184\n"
     ]
    },
    {
     "name": "stderr",
     "output_type": "stream",
     "text": [
      "\r",
      " 71%|███████   | 563/793 [07:27<01:59,  1.93it/s]"
     ]
    },
    {
     "name": "stdout",
     "output_type": "stream",
     "text": [
      "http://nsideseb-env.us-east-1.elasticbeanstalk.com/api/v1/query?service=aeolus&meta=drugpairReactionCounts&q=1313184\n"
     ]
    },
    {
     "name": "stderr",
     "output_type": "stream",
     "text": [
      "\r",
      " 71%|███████   | 564/793 [07:28<01:58,  1.93it/s]"
     ]
    },
    {
     "name": "stdout",
     "output_type": "stream",
     "text": [
      "http://nsideseb-env.us-east-1.elasticbeanstalk.com/api/v1/query?service=aeolus&meta=drugpairReactionCounts&q=1313184\n"
     ]
    },
    {
     "name": "stderr",
     "output_type": "stream",
     "text": [
      "\r",
      " 71%|███████   | 565/793 [07:28<01:56,  1.95it/s]"
     ]
    },
    {
     "name": "stdout",
     "output_type": "stream",
     "text": [
      "http://nsideseb-env.us-east-1.elasticbeanstalk.com/api/v1/query?service=aeolus&meta=drugpairReactionCounts&q=1313184\n"
     ]
    },
    {
     "name": "stderr",
     "output_type": "stream",
     "text": [
      "\r",
      " 71%|███████▏  | 566/793 [07:29<01:57,  1.94it/s]"
     ]
    },
    {
     "name": "stdout",
     "output_type": "stream",
     "text": [
      "http://nsideseb-env.us-east-1.elasticbeanstalk.com/api/v1/query?service=aeolus&meta=drugpairReactionCounts&q=1313184\n"
     ]
    },
    {
     "name": "stderr",
     "output_type": "stream",
     "text": [
      "\r",
      " 72%|███████▏  | 567/793 [07:29<01:56,  1.94it/s]"
     ]
    },
    {
     "name": "stdout",
     "output_type": "stream",
     "text": [
      "http://nsideseb-env.us-east-1.elasticbeanstalk.com/api/v1/query?service=aeolus&meta=drugpairReactionCounts&q=1313184\n"
     ]
    },
    {
     "name": "stderr",
     "output_type": "stream",
     "text": [
      "\r",
      " 72%|███████▏  | 568/793 [07:30<01:57,  1.92it/s]"
     ]
    },
    {
     "name": "stdout",
     "output_type": "stream",
     "text": [
      "http://nsideseb-env.us-east-1.elasticbeanstalk.com/api/v1/query?service=aeolus&meta=drugpairReactionCounts&q=1313184\n"
     ]
    },
    {
     "name": "stderr",
     "output_type": "stream",
     "text": [
      "\r",
      " 72%|███████▏  | 569/793 [07:30<01:55,  1.94it/s]"
     ]
    },
    {
     "name": "stdout",
     "output_type": "stream",
     "text": [
      "http://nsideseb-env.us-east-1.elasticbeanstalk.com/api/v1/query?service=aeolus&meta=drugpairReactionCounts&q=1313184\n"
     ]
    },
    {
     "name": "stderr",
     "output_type": "stream",
     "text": [
      "\r",
      " 72%|███████▏  | 570/793 [07:31<01:55,  1.94it/s]"
     ]
    },
    {
     "name": "stdout",
     "output_type": "stream",
     "text": [
      "http://nsideseb-env.us-east-1.elasticbeanstalk.com/api/v1/query?service=aeolus&meta=drugpairReactionCounts&q=1313184\n"
     ]
    },
    {
     "name": "stderr",
     "output_type": "stream",
     "text": [
      "\r",
      " 72%|███████▏  | 571/793 [07:31<01:53,  1.95it/s]"
     ]
    },
    {
     "name": "stdout",
     "output_type": "stream",
     "text": [
      "http://nsideseb-env.us-east-1.elasticbeanstalk.com/api/v1/query?service=aeolus&meta=drugpairReactionCounts&q=1313184\n"
     ]
    },
    {
     "name": "stderr",
     "output_type": "stream",
     "text": [
      "\r",
      " 72%|███████▏  | 572/793 [07:32<01:54,  1.94it/s]"
     ]
    },
    {
     "name": "stdout",
     "output_type": "stream",
     "text": [
      "http://nsideseb-env.us-east-1.elasticbeanstalk.com/api/v1/query?service=aeolus&meta=drugpairReactionCounts&q=1313184\n"
     ]
    },
    {
     "name": "stderr",
     "output_type": "stream",
     "text": [
      "\r",
      " 72%|███████▏  | 573/793 [07:32<01:53,  1.94it/s]"
     ]
    },
    {
     "name": "stdout",
     "output_type": "stream",
     "text": [
      "http://nsideseb-env.us-east-1.elasticbeanstalk.com/api/v1/query?service=aeolus&meta=drugpairReactionCounts&q=1313184\n"
     ]
    },
    {
     "name": "stderr",
     "output_type": "stream",
     "text": [
      "\r",
      " 72%|███████▏  | 574/793 [07:33<01:53,  1.93it/s]"
     ]
    },
    {
     "name": "stdout",
     "output_type": "stream",
     "text": [
      "http://nsideseb-env.us-east-1.elasticbeanstalk.com/api/v1/query?service=aeolus&meta=drugpairReactionCounts&q=1313184\n"
     ]
    },
    {
     "name": "stderr",
     "output_type": "stream",
     "text": [
      "\r",
      " 73%|███████▎  | 575/793 [07:34<01:55,  1.88it/s]"
     ]
    },
    {
     "name": "stdout",
     "output_type": "stream",
     "text": [
      "http://nsideseb-env.us-east-1.elasticbeanstalk.com/api/v1/query?service=aeolus&meta=drugpairReactionCounts&q=1313184\n"
     ]
    },
    {
     "name": "stderr",
     "output_type": "stream",
     "text": [
      "\r",
      " 73%|███████▎  | 576/793 [07:34<01:54,  1.89it/s]"
     ]
    },
    {
     "name": "stdout",
     "output_type": "stream",
     "text": [
      "http://nsideseb-env.us-east-1.elasticbeanstalk.com/api/v1/query?service=aeolus&meta=drugpairReactionCounts&q=1313184\n"
     ]
    },
    {
     "name": "stderr",
     "output_type": "stream",
     "text": [
      "\r",
      " 73%|███████▎  | 577/793 [07:35<01:52,  1.92it/s]"
     ]
    },
    {
     "name": "stdout",
     "output_type": "stream",
     "text": [
      "http://nsideseb-env.us-east-1.elasticbeanstalk.com/api/v1/query?service=aeolus&meta=drugpairReactionCounts&q=1313184\n"
     ]
    },
    {
     "name": "stderr",
     "output_type": "stream",
     "text": [
      "\r",
      " 73%|███████▎  | 578/793 [07:35<01:53,  1.89it/s]"
     ]
    },
    {
     "name": "stdout",
     "output_type": "stream",
     "text": [
      "http://nsideseb-env.us-east-1.elasticbeanstalk.com/api/v1/query?service=aeolus&meta=drugpairReactionCounts&q=1313184\n"
     ]
    },
    {
     "name": "stderr",
     "output_type": "stream",
     "text": [
      "\r",
      " 73%|███████▎  | 579/793 [07:36<01:51,  1.92it/s]"
     ]
    },
    {
     "name": "stdout",
     "output_type": "stream",
     "text": [
      "http://nsideseb-env.us-east-1.elasticbeanstalk.com/api/v1/query?service=aeolus&meta=drugpairReactionCounts&q=1313184\n"
     ]
    },
    {
     "name": "stderr",
     "output_type": "stream",
     "text": [
      "\r",
      " 73%|███████▎  | 580/793 [07:36<01:49,  1.95it/s]"
     ]
    },
    {
     "name": "stdout",
     "output_type": "stream",
     "text": [
      "http://nsideseb-env.us-east-1.elasticbeanstalk.com/api/v1/query?service=aeolus&meta=drugpairReactionCounts&q=1313184\n"
     ]
    },
    {
     "name": "stderr",
     "output_type": "stream",
     "text": [
      "\r",
      " 73%|███████▎  | 581/793 [07:37<01:48,  1.95it/s]"
     ]
    },
    {
     "name": "stdout",
     "output_type": "stream",
     "text": [
      "http://nsideseb-env.us-east-1.elasticbeanstalk.com/api/v1/query?service=aeolus&meta=drugpairReactionCounts&q=1313184\n"
     ]
    },
    {
     "name": "stderr",
     "output_type": "stream",
     "text": [
      "\r",
      " 73%|███████▎  | 582/793 [07:37<01:48,  1.95it/s]"
     ]
    },
    {
     "name": "stdout",
     "output_type": "stream",
     "text": [
      "http://nsideseb-env.us-east-1.elasticbeanstalk.com/api/v1/query?service=aeolus&meta=drugpairReactionCounts&q=1313184\n"
     ]
    },
    {
     "name": "stderr",
     "output_type": "stream",
     "text": [
      "\r",
      " 74%|███████▎  | 583/793 [07:38<01:48,  1.94it/s]"
     ]
    },
    {
     "name": "stdout",
     "output_type": "stream",
     "text": [
      "http://nsideseb-env.us-east-1.elasticbeanstalk.com/api/v1/query?service=aeolus&meta=drugpairReactionCounts&q=1313184\n"
     ]
    },
    {
     "name": "stderr",
     "output_type": "stream",
     "text": [
      "\r",
      " 74%|███████▎  | 584/793 [07:38<01:50,  1.90it/s]"
     ]
    },
    {
     "name": "stdout",
     "output_type": "stream",
     "text": [
      "http://nsideseb-env.us-east-1.elasticbeanstalk.com/api/v1/query?service=aeolus&meta=drugpairReactionCounts&q=1313184\n"
     ]
    },
    {
     "name": "stderr",
     "output_type": "stream",
     "text": [
      "\r",
      " 74%|███████▍  | 585/793 [07:39<01:48,  1.92it/s]"
     ]
    },
    {
     "name": "stdout",
     "output_type": "stream",
     "text": [
      "http://nsideseb-env.us-east-1.elasticbeanstalk.com/api/v1/query?service=aeolus&meta=drugpairReactionCounts&q=1313184\n"
     ]
    },
    {
     "name": "stderr",
     "output_type": "stream",
     "text": [
      "\r",
      " 74%|███████▍  | 586/793 [07:39<01:46,  1.95it/s]"
     ]
    },
    {
     "name": "stdout",
     "output_type": "stream",
     "text": [
      "http://nsideseb-env.us-east-1.elasticbeanstalk.com/api/v1/query?service=aeolus&meta=drugpairReactionCounts&q=1313184\n"
     ]
    },
    {
     "name": "stderr",
     "output_type": "stream",
     "text": [
      "\r",
      " 74%|███████▍  | 587/793 [07:40<01:45,  1.96it/s]"
     ]
    },
    {
     "name": "stdout",
     "output_type": "stream",
     "text": [
      "http://nsideseb-env.us-east-1.elasticbeanstalk.com/api/v1/query?service=aeolus&meta=drugpairReactionCounts&q=1313184\n"
     ]
    },
    {
     "name": "stderr",
     "output_type": "stream",
     "text": [
      "\r",
      " 74%|███████▍  | 588/793 [07:40<01:44,  1.97it/s]"
     ]
    },
    {
     "name": "stdout",
     "output_type": "stream",
     "text": [
      "http://nsideseb-env.us-east-1.elasticbeanstalk.com/api/v1/query?service=aeolus&meta=drugpairReactionCounts&q=1313184\n"
     ]
    },
    {
     "name": "stderr",
     "output_type": "stream",
     "text": [
      "\r",
      " 74%|███████▍  | 589/793 [07:41<01:43,  1.96it/s]"
     ]
    },
    {
     "name": "stdout",
     "output_type": "stream",
     "text": [
      "http://nsideseb-env.us-east-1.elasticbeanstalk.com/api/v1/query?service=aeolus&meta=drugpairReactionCounts&q=1313184\n"
     ]
    },
    {
     "name": "stderr",
     "output_type": "stream",
     "text": [
      "\r",
      " 74%|███████▍  | 590/793 [07:41<01:44,  1.94it/s]"
     ]
    },
    {
     "name": "stdout",
     "output_type": "stream",
     "text": [
      "http://nsideseb-env.us-east-1.elasticbeanstalk.com/api/v1/query?service=aeolus&meta=drugpairReactionCounts&q=1313184\n"
     ]
    },
    {
     "name": "stderr",
     "output_type": "stream",
     "text": [
      "\r",
      " 75%|███████▍  | 591/793 [07:42<01:44,  1.94it/s]"
     ]
    },
    {
     "name": "stdout",
     "output_type": "stream",
     "text": [
      "http://nsideseb-env.us-east-1.elasticbeanstalk.com/api/v1/query?service=aeolus&meta=drugpairReactionCounts&q=1313184\n"
     ]
    },
    {
     "name": "stderr",
     "output_type": "stream",
     "text": [
      "\r",
      " 75%|███████▍  | 592/793 [07:42<01:43,  1.94it/s]"
     ]
    },
    {
     "name": "stdout",
     "output_type": "stream",
     "text": [
      "http://nsideseb-env.us-east-1.elasticbeanstalk.com/api/v1/query?service=aeolus&meta=drugpairReactionCounts&q=1313184\n"
     ]
    },
    {
     "name": "stderr",
     "output_type": "stream",
     "text": [
      "\r",
      " 75%|███████▍  | 593/793 [07:43<01:41,  1.96it/s]"
     ]
    },
    {
     "name": "stdout",
     "output_type": "stream",
     "text": [
      "http://nsideseb-env.us-east-1.elasticbeanstalk.com/api/v1/query?service=aeolus&meta=drugpairReactionCounts&q=1313184\n"
     ]
    },
    {
     "name": "stderr",
     "output_type": "stream",
     "text": [
      "\r",
      " 75%|███████▍  | 594/793 [07:43<01:40,  1.98it/s]"
     ]
    },
    {
     "name": "stdout",
     "output_type": "stream",
     "text": [
      "http://nsideseb-env.us-east-1.elasticbeanstalk.com/api/v1/query?service=aeolus&meta=drugpairReactionCounts&q=1313184\n"
     ]
    },
    {
     "name": "stderr",
     "output_type": "stream",
     "text": [
      "\r",
      " 75%|███████▌  | 595/793 [07:44<01:40,  1.98it/s]"
     ]
    },
    {
     "name": "stdout",
     "output_type": "stream",
     "text": [
      "http://nsideseb-env.us-east-1.elasticbeanstalk.com/api/v1/query?service=aeolus&meta=drugpairReactionCounts&q=1313184\n"
     ]
    },
    {
     "name": "stderr",
     "output_type": "stream",
     "text": [
      "\r",
      " 75%|███████▌  | 596/793 [07:44<01:40,  1.95it/s]"
     ]
    },
    {
     "name": "stdout",
     "output_type": "stream",
     "text": [
      "http://nsideseb-env.us-east-1.elasticbeanstalk.com/api/v1/query?service=aeolus&meta=drugpairReactionCounts&q=1313184\n"
     ]
    },
    {
     "name": "stderr",
     "output_type": "stream",
     "text": [
      "\r",
      " 75%|███████▌  | 597/793 [07:45<01:39,  1.97it/s]"
     ]
    },
    {
     "name": "stdout",
     "output_type": "stream",
     "text": [
      "http://nsideseb-env.us-east-1.elasticbeanstalk.com/api/v1/query?service=aeolus&meta=drugpairReactionCounts&q=1313184\n"
     ]
    },
    {
     "name": "stderr",
     "output_type": "stream",
     "text": [
      "\r",
      " 75%|███████▌  | 598/793 [07:45<01:43,  1.89it/s]"
     ]
    },
    {
     "name": "stdout",
     "output_type": "stream",
     "text": [
      "http://nsideseb-env.us-east-1.elasticbeanstalk.com/api/v1/query?service=aeolus&meta=drugpairReactionCounts&q=1313184\n"
     ]
    },
    {
     "name": "stderr",
     "output_type": "stream",
     "text": [
      "\r",
      " 76%|███████▌  | 599/793 [07:46<01:43,  1.88it/s]"
     ]
    },
    {
     "name": "stdout",
     "output_type": "stream",
     "text": [
      "http://nsideseb-env.us-east-1.elasticbeanstalk.com/api/v1/query?service=aeolus&meta=drugpairReactionCounts&q=1313184\n"
     ]
    },
    {
     "name": "stderr",
     "output_type": "stream",
     "text": [
      "\r",
      " 76%|███████▌  | 600/793 [07:46<01:40,  1.92it/s]"
     ]
    },
    {
     "name": "stdout",
     "output_type": "stream",
     "text": [
      "http://nsideseb-env.us-east-1.elasticbeanstalk.com/api/v1/query?service=aeolus&meta=drugpairReactionCounts&q=1313184\n"
     ]
    },
    {
     "name": "stderr",
     "output_type": "stream",
     "text": [
      "\r",
      " 76%|███████▌  | 601/793 [07:47<01:38,  1.95it/s]"
     ]
    },
    {
     "name": "stdout",
     "output_type": "stream",
     "text": [
      "http://nsideseb-env.us-east-1.elasticbeanstalk.com/api/v1/query?service=aeolus&meta=drugpairReactionCounts&q=1313184\n"
     ]
    },
    {
     "name": "stderr",
     "output_type": "stream",
     "text": [
      "\r",
      " 76%|███████▌  | 602/793 [07:48<01:43,  1.84it/s]"
     ]
    },
    {
     "name": "stdout",
     "output_type": "stream",
     "text": [
      "http://nsideseb-env.us-east-1.elasticbeanstalk.com/api/v1/query?service=aeolus&meta=drugpairReactionCounts&q=1313184\n"
     ]
    },
    {
     "name": "stderr",
     "output_type": "stream",
     "text": [
      "\r",
      " 76%|███████▌  | 603/793 [07:48<01:40,  1.88it/s]"
     ]
    },
    {
     "name": "stdout",
     "output_type": "stream",
     "text": [
      "http://nsideseb-env.us-east-1.elasticbeanstalk.com/api/v1/query?service=aeolus&meta=drugpairReactionCounts&q=1313184\n"
     ]
    },
    {
     "name": "stderr",
     "output_type": "stream",
     "text": [
      "\r",
      " 76%|███████▌  | 604/793 [07:49<01:38,  1.92it/s]"
     ]
    },
    {
     "name": "stdout",
     "output_type": "stream",
     "text": [
      "http://nsideseb-env.us-east-1.elasticbeanstalk.com/api/v1/query?service=aeolus&meta=drugpairReactionCounts&q=1313184\n"
     ]
    },
    {
     "name": "stderr",
     "output_type": "stream",
     "text": [
      "\r",
      " 76%|███████▋  | 605/793 [07:49<01:37,  1.93it/s]"
     ]
    },
    {
     "name": "stdout",
     "output_type": "stream",
     "text": [
      "http://nsideseb-env.us-east-1.elasticbeanstalk.com/api/v1/query?service=aeolus&meta=drugpairReactionCounts&q=1313184\n"
     ]
    },
    {
     "name": "stderr",
     "output_type": "stream",
     "text": [
      "\r",
      " 76%|███████▋  | 606/793 [07:50<01:37,  1.91it/s]"
     ]
    },
    {
     "name": "stdout",
     "output_type": "stream",
     "text": [
      "http://nsideseb-env.us-east-1.elasticbeanstalk.com/api/v1/query?service=aeolus&meta=drugpairReactionCounts&q=1313184\n"
     ]
    },
    {
     "name": "stderr",
     "output_type": "stream",
     "text": [
      "\r",
      " 77%|███████▋  | 607/793 [07:50<01:38,  1.89it/s]"
     ]
    },
    {
     "name": "stdout",
     "output_type": "stream",
     "text": [
      "http://nsideseb-env.us-east-1.elasticbeanstalk.com/api/v1/query?service=aeolus&meta=drugpairReactionCounts&q=1313184\n"
     ]
    },
    {
     "name": "stderr",
     "output_type": "stream",
     "text": [
      "\r",
      " 77%|███████▋  | 608/793 [07:51<01:36,  1.91it/s]"
     ]
    },
    {
     "name": "stdout",
     "output_type": "stream",
     "text": [
      "http://nsideseb-env.us-east-1.elasticbeanstalk.com/api/v1/query?service=aeolus&meta=drugpairReactionCounts&q=1313184\n"
     ]
    },
    {
     "name": "stderr",
     "output_type": "stream",
     "text": [
      "\r",
      " 77%|███████▋  | 609/793 [07:51<01:34,  1.94it/s]"
     ]
    },
    {
     "name": "stdout",
     "output_type": "stream",
     "text": [
      "http://nsideseb-env.us-east-1.elasticbeanstalk.com/api/v1/query?service=aeolus&meta=drugpairReactionCounts&q=1313184\n"
     ]
    },
    {
     "name": "stderr",
     "output_type": "stream",
     "text": [
      "\r",
      " 77%|███████▋  | 610/793 [07:52<01:32,  1.97it/s]"
     ]
    },
    {
     "name": "stdout",
     "output_type": "stream",
     "text": [
      "http://nsideseb-env.us-east-1.elasticbeanstalk.com/api/v1/query?service=aeolus&meta=drugpairReactionCounts&q=1313184\n"
     ]
    },
    {
     "name": "stderr",
     "output_type": "stream",
     "text": [
      "\r",
      " 77%|███████▋  | 611/793 [07:52<01:31,  1.99it/s]"
     ]
    },
    {
     "name": "stdout",
     "output_type": "stream",
     "text": [
      "http://nsideseb-env.us-east-1.elasticbeanstalk.com/api/v1/query?service=aeolus&meta=drugpairReactionCounts&q=1313184\n"
     ]
    },
    {
     "name": "stderr",
     "output_type": "stream",
     "text": [
      "\r",
      " 77%|███████▋  | 612/793 [07:53<01:35,  1.90it/s]"
     ]
    },
    {
     "name": "stdout",
     "output_type": "stream",
     "text": [
      "http://nsideseb-env.us-east-1.elasticbeanstalk.com/api/v1/query?service=aeolus&meta=drugpairReactionCounts&q=1313184\n"
     ]
    },
    {
     "name": "stderr",
     "output_type": "stream",
     "text": [
      "\r",
      " 77%|███████▋  | 613/793 [07:53<01:33,  1.92it/s]"
     ]
    },
    {
     "name": "stdout",
     "output_type": "stream",
     "text": [
      "http://nsideseb-env.us-east-1.elasticbeanstalk.com/api/v1/query?service=aeolus&meta=drugpairReactionCounts&q=1313184\n"
     ]
    },
    {
     "name": "stderr",
     "output_type": "stream",
     "text": [
      "\r",
      " 77%|███████▋  | 614/793 [07:54<01:32,  1.94it/s]"
     ]
    },
    {
     "name": "stdout",
     "output_type": "stream",
     "text": [
      "http://nsideseb-env.us-east-1.elasticbeanstalk.com/api/v1/query?service=aeolus&meta=drugpairReactionCounts&q=1313184\n"
     ]
    },
    {
     "name": "stderr",
     "output_type": "stream",
     "text": [
      "\r",
      " 78%|███████▊  | 615/793 [07:54<01:32,  1.93it/s]"
     ]
    },
    {
     "name": "stdout",
     "output_type": "stream",
     "text": [
      "http://nsideseb-env.us-east-1.elasticbeanstalk.com/api/v1/query?service=aeolus&meta=drugpairReactionCounts&q=1313184\n"
     ]
    },
    {
     "name": "stderr",
     "output_type": "stream",
     "text": [
      "\r",
      " 78%|███████▊  | 616/793 [07:55<01:31,  1.94it/s]"
     ]
    },
    {
     "name": "stdout",
     "output_type": "stream",
     "text": [
      "http://nsideseb-env.us-east-1.elasticbeanstalk.com/api/v1/query?service=aeolus&meta=drugpairReactionCounts&q=1313184\n"
     ]
    },
    {
     "name": "stderr",
     "output_type": "stream",
     "text": [
      "\r",
      " 78%|███████▊  | 617/793 [07:55<01:29,  1.96it/s]"
     ]
    },
    {
     "name": "stdout",
     "output_type": "stream",
     "text": [
      "http://nsideseb-env.us-east-1.elasticbeanstalk.com/api/v1/query?service=aeolus&meta=drugpairReactionCounts&q=1313184\n"
     ]
    },
    {
     "name": "stderr",
     "output_type": "stream",
     "text": [
      "\r",
      " 78%|███████▊  | 618/793 [07:56<01:29,  1.96it/s]"
     ]
    },
    {
     "name": "stdout",
     "output_type": "stream",
     "text": [
      "http://nsideseb-env.us-east-1.elasticbeanstalk.com/api/v1/query?service=aeolus&meta=drugpairReactionCounts&q=1313184\n"
     ]
    },
    {
     "name": "stderr",
     "output_type": "stream",
     "text": [
      "\r",
      " 78%|███████▊  | 619/793 [07:56<01:28,  1.96it/s]"
     ]
    },
    {
     "name": "stdout",
     "output_type": "stream",
     "text": [
      "http://nsideseb-env.us-east-1.elasticbeanstalk.com/api/v1/query?service=aeolus&meta=drugpairReactionCounts&q=1313184\n"
     ]
    },
    {
     "name": "stderr",
     "output_type": "stream",
     "text": [
      "\r",
      " 78%|███████▊  | 620/793 [07:57<01:29,  1.94it/s]"
     ]
    },
    {
     "name": "stdout",
     "output_type": "stream",
     "text": [
      "http://nsideseb-env.us-east-1.elasticbeanstalk.com/api/v1/query?service=aeolus&meta=drugpairReactionCounts&q=1313184\n"
     ]
    },
    {
     "name": "stderr",
     "output_type": "stream",
     "text": [
      "\r",
      " 78%|███████▊  | 621/793 [07:57<01:31,  1.89it/s]"
     ]
    },
    {
     "name": "stdout",
     "output_type": "stream",
     "text": [
      "http://nsideseb-env.us-east-1.elasticbeanstalk.com/api/v1/query?service=aeolus&meta=drugpairReactionCounts&q=1313184\n"
     ]
    },
    {
     "name": "stderr",
     "output_type": "stream",
     "text": [
      "\r",
      " 78%|███████▊  | 622/793 [07:58<01:29,  1.91it/s]"
     ]
    },
    {
     "name": "stdout",
     "output_type": "stream",
     "text": [
      "http://nsideseb-env.us-east-1.elasticbeanstalk.com/api/v1/query?service=aeolus&meta=drugpairReactionCounts&q=1313184\n"
     ]
    },
    {
     "name": "stderr",
     "output_type": "stream",
     "text": [
      "\r",
      " 79%|███████▊  | 623/793 [07:58<01:28,  1.91it/s]"
     ]
    },
    {
     "name": "stdout",
     "output_type": "stream",
     "text": [
      "http://nsideseb-env.us-east-1.elasticbeanstalk.com/api/v1/query?service=aeolus&meta=drugpairReactionCounts&q=1313184\n"
     ]
    },
    {
     "name": "stderr",
     "output_type": "stream",
     "text": [
      "\r",
      " 79%|███████▊  | 624/793 [07:59<01:27,  1.93it/s]"
     ]
    },
    {
     "name": "stdout",
     "output_type": "stream",
     "text": [
      "http://nsideseb-env.us-east-1.elasticbeanstalk.com/api/v1/query?service=aeolus&meta=drugpairReactionCounts&q=1313184\n"
     ]
    },
    {
     "name": "stderr",
     "output_type": "stream",
     "text": [
      "\r",
      " 79%|███████▉  | 625/793 [07:59<01:26,  1.95it/s]"
     ]
    },
    {
     "name": "stdout",
     "output_type": "stream",
     "text": [
      "http://nsideseb-env.us-east-1.elasticbeanstalk.com/api/v1/query?service=aeolus&meta=drugpairReactionCounts&q=1313184\n"
     ]
    },
    {
     "name": "stderr",
     "output_type": "stream",
     "text": [
      "\r",
      " 79%|███████▉  | 626/793 [08:00<01:25,  1.95it/s]"
     ]
    },
    {
     "name": "stdout",
     "output_type": "stream",
     "text": [
      "http://nsideseb-env.us-east-1.elasticbeanstalk.com/api/v1/query?service=aeolus&meta=drugpairReactionCounts&q=1313184\n"
     ]
    },
    {
     "name": "stderr",
     "output_type": "stream",
     "text": [
      "\r",
      " 79%|███████▉  | 627/793 [08:00<01:26,  1.93it/s]"
     ]
    },
    {
     "name": "stdout",
     "output_type": "stream",
     "text": [
      "http://nsideseb-env.us-east-1.elasticbeanstalk.com/api/v1/query?service=aeolus&meta=drugpairReactionCounts&q=1313184\n"
     ]
    },
    {
     "name": "stderr",
     "output_type": "stream",
     "text": [
      "\r",
      " 79%|███████▉  | 628/793 [08:01<01:25,  1.94it/s]"
     ]
    },
    {
     "name": "stdout",
     "output_type": "stream",
     "text": [
      "http://nsideseb-env.us-east-1.elasticbeanstalk.com/api/v1/query?service=aeolus&meta=drugpairReactionCounts&q=1313184\n"
     ]
    },
    {
     "name": "stderr",
     "output_type": "stream",
     "text": [
      "\r",
      " 79%|███████▉  | 629/793 [08:01<01:24,  1.95it/s]"
     ]
    },
    {
     "name": "stdout",
     "output_type": "stream",
     "text": [
      "http://nsideseb-env.us-east-1.elasticbeanstalk.com/api/v1/query?service=aeolus&meta=drugpairReactionCounts&q=1313184\n"
     ]
    },
    {
     "name": "stderr",
     "output_type": "stream",
     "text": [
      "\r",
      " 79%|███████▉  | 630/793 [08:02<01:23,  1.94it/s]"
     ]
    },
    {
     "name": "stdout",
     "output_type": "stream",
     "text": [
      "http://nsideseb-env.us-east-1.elasticbeanstalk.com/api/v1/query?service=aeolus&meta=drugpairReactionCounts&q=1313184\n"
     ]
    },
    {
     "name": "stderr",
     "output_type": "stream",
     "text": [
      "\r",
      " 80%|███████▉  | 631/793 [08:02<01:22,  1.96it/s]"
     ]
    },
    {
     "name": "stdout",
     "output_type": "stream",
     "text": [
      "http://nsideseb-env.us-east-1.elasticbeanstalk.com/api/v1/query?service=aeolus&meta=drugpairReactionCounts&q=1313184\n"
     ]
    },
    {
     "name": "stderr",
     "output_type": "stream",
     "text": [
      "\r",
      " 80%|███████▉  | 632/793 [08:03<01:24,  1.90it/s]"
     ]
    },
    {
     "name": "stdout",
     "output_type": "stream",
     "text": [
      "http://nsideseb-env.us-east-1.elasticbeanstalk.com/api/v1/query?service=aeolus&meta=drugpairReactionCounts&q=1313184\n"
     ]
    },
    {
     "name": "stderr",
     "output_type": "stream",
     "text": [
      "\r",
      " 80%|███████▉  | 633/793 [08:04<01:23,  1.92it/s]"
     ]
    },
    {
     "name": "stdout",
     "output_type": "stream",
     "text": [
      "http://nsideseb-env.us-east-1.elasticbeanstalk.com/api/v1/query?service=aeolus&meta=drugpairReactionCounts&q=1313184\n"
     ]
    },
    {
     "name": "stderr",
     "output_type": "stream",
     "text": [
      "\r",
      " 80%|███████▉  | 634/793 [08:04<01:22,  1.94it/s]"
     ]
    },
    {
     "name": "stdout",
     "output_type": "stream",
     "text": [
      "http://nsideseb-env.us-east-1.elasticbeanstalk.com/api/v1/query?service=aeolus&meta=drugpairReactionCounts&q=1313184\n"
     ]
    },
    {
     "name": "stderr",
     "output_type": "stream",
     "text": [
      "\r",
      " 80%|████████  | 635/793 [08:05<01:20,  1.95it/s]"
     ]
    },
    {
     "name": "stdout",
     "output_type": "stream",
     "text": [
      "http://nsideseb-env.us-east-1.elasticbeanstalk.com/api/v1/query?service=aeolus&meta=drugpairReactionCounts&q=1313184\n"
     ]
    },
    {
     "name": "stderr",
     "output_type": "stream",
     "text": [
      "\r",
      " 80%|████████  | 636/793 [08:05<01:21,  1.94it/s]"
     ]
    },
    {
     "name": "stdout",
     "output_type": "stream",
     "text": [
      "http://nsideseb-env.us-east-1.elasticbeanstalk.com/api/v1/query?service=aeolus&meta=drugpairReactionCounts&q=1313184\n"
     ]
    },
    {
     "name": "stderr",
     "output_type": "stream",
     "text": [
      "\r",
      " 80%|████████  | 637/793 [08:06<01:20,  1.93it/s]"
     ]
    },
    {
     "name": "stdout",
     "output_type": "stream",
     "text": [
      "http://nsideseb-env.us-east-1.elasticbeanstalk.com/api/v1/query?service=aeolus&meta=drugpairReactionCounts&q=1313184\n"
     ]
    },
    {
     "name": "stderr",
     "output_type": "stream",
     "text": [
      "\r",
      " 80%|████████  | 638/793 [08:06<01:21,  1.91it/s]"
     ]
    },
    {
     "name": "stdout",
     "output_type": "stream",
     "text": [
      "http://nsideseb-env.us-east-1.elasticbeanstalk.com/api/v1/query?service=aeolus&meta=drugpairReactionCounts&q=1313184\n"
     ]
    },
    {
     "name": "stderr",
     "output_type": "stream",
     "text": [
      "\r",
      " 81%|████████  | 639/793 [08:07<01:20,  1.92it/s]"
     ]
    },
    {
     "name": "stdout",
     "output_type": "stream",
     "text": [
      "http://nsideseb-env.us-east-1.elasticbeanstalk.com/api/v1/query?service=aeolus&meta=drugpairReactionCounts&q=1313184\n"
     ]
    },
    {
     "name": "stderr",
     "output_type": "stream",
     "text": [
      "\r",
      " 81%|████████  | 640/793 [08:07<01:19,  1.93it/s]"
     ]
    },
    {
     "name": "stdout",
     "output_type": "stream",
     "text": [
      "http://nsideseb-env.us-east-1.elasticbeanstalk.com/api/v1/query?service=aeolus&meta=drugpairReactionCounts&q=1313184\n"
     ]
    },
    {
     "name": "stderr",
     "output_type": "stream",
     "text": [
      "\r",
      " 81%|████████  | 641/793 [08:08<01:17,  1.96it/s]"
     ]
    },
    {
     "name": "stdout",
     "output_type": "stream",
     "text": [
      "http://nsideseb-env.us-east-1.elasticbeanstalk.com/api/v1/query?service=aeolus&meta=drugpairReactionCounts&q=1313184\n"
     ]
    },
    {
     "name": "stderr",
     "output_type": "stream",
     "text": [
      "\r",
      " 81%|████████  | 642/793 [08:08<01:17,  1.94it/s]"
     ]
    },
    {
     "name": "stdout",
     "output_type": "stream",
     "text": [
      "http://nsideseb-env.us-east-1.elasticbeanstalk.com/api/v1/query?service=aeolus&meta=drugpairReactionCounts&q=1313184\n"
     ]
    },
    {
     "name": "stderr",
     "output_type": "stream",
     "text": [
      "\r",
      " 81%|████████  | 643/793 [08:09<01:16,  1.96it/s]"
     ]
    },
    {
     "name": "stdout",
     "output_type": "stream",
     "text": [
      "http://nsideseb-env.us-east-1.elasticbeanstalk.com/api/v1/query?service=aeolus&meta=drugpairReactionCounts&q=1313184\n"
     ]
    },
    {
     "name": "stderr",
     "output_type": "stream",
     "text": [
      "\r",
      " 81%|████████  | 644/793 [08:09<01:16,  1.94it/s]"
     ]
    },
    {
     "name": "stdout",
     "output_type": "stream",
     "text": [
      "http://nsideseb-env.us-east-1.elasticbeanstalk.com/api/v1/query?service=aeolus&meta=drugpairReactionCounts&q=1313184\n"
     ]
    },
    {
     "name": "stderr",
     "output_type": "stream",
     "text": [
      "\r",
      " 81%|████████▏ | 645/793 [08:10<01:15,  1.95it/s]"
     ]
    },
    {
     "name": "stdout",
     "output_type": "stream",
     "text": [
      "http://nsideseb-env.us-east-1.elasticbeanstalk.com/api/v1/query?service=aeolus&meta=drugpairReactionCounts&q=1313184\n"
     ]
    },
    {
     "name": "stderr",
     "output_type": "stream",
     "text": [
      "\r",
      " 81%|████████▏ | 646/793 [08:10<01:15,  1.95it/s]"
     ]
    },
    {
     "name": "stdout",
     "output_type": "stream",
     "text": [
      "http://nsideseb-env.us-east-1.elasticbeanstalk.com/api/v1/query?service=aeolus&meta=drugpairReactionCounts&q=1313184\n"
     ]
    },
    {
     "name": "stderr",
     "output_type": "stream",
     "text": [
      "\r",
      " 82%|████████▏ | 647/793 [08:11<01:15,  1.92it/s]"
     ]
    },
    {
     "name": "stdout",
     "output_type": "stream",
     "text": [
      "http://nsideseb-env.us-east-1.elasticbeanstalk.com/api/v1/query?service=aeolus&meta=drugpairReactionCounts&q=1313184\n"
     ]
    },
    {
     "name": "stderr",
     "output_type": "stream",
     "text": [
      "\r",
      " 82%|████████▏ | 648/793 [08:11<01:15,  1.91it/s]"
     ]
    },
    {
     "name": "stdout",
     "output_type": "stream",
     "text": [
      "http://nsideseb-env.us-east-1.elasticbeanstalk.com/api/v1/query?service=aeolus&meta=drugpairReactionCounts&q=1313184\n"
     ]
    },
    {
     "name": "stderr",
     "output_type": "stream",
     "text": [
      "\r",
      " 82%|████████▏ | 649/793 [08:12<01:14,  1.93it/s]"
     ]
    },
    {
     "name": "stdout",
     "output_type": "stream",
     "text": [
      "http://nsideseb-env.us-east-1.elasticbeanstalk.com/api/v1/query?service=aeolus&meta=drugpairReactionCounts&q=1313184\n"
     ]
    },
    {
     "name": "stderr",
     "output_type": "stream",
     "text": [
      "\r",
      " 82%|████████▏ | 650/793 [08:12<01:13,  1.95it/s]"
     ]
    },
    {
     "name": "stdout",
     "output_type": "stream",
     "text": [
      "http://nsideseb-env.us-east-1.elasticbeanstalk.com/api/v1/query?service=aeolus&meta=drugpairReactionCounts&q=1313184\n"
     ]
    },
    {
     "name": "stderr",
     "output_type": "stream",
     "text": [
      "\r",
      " 82%|████████▏ | 651/793 [08:13<01:12,  1.96it/s]"
     ]
    },
    {
     "name": "stdout",
     "output_type": "stream",
     "text": [
      "http://nsideseb-env.us-east-1.elasticbeanstalk.com/api/v1/query?service=aeolus&meta=drugpairReactionCounts&q=1313184\n"
     ]
    },
    {
     "name": "stderr",
     "output_type": "stream",
     "text": [
      "\r",
      " 82%|████████▏ | 652/793 [08:13<01:11,  1.98it/s]"
     ]
    },
    {
     "name": "stdout",
     "output_type": "stream",
     "text": [
      "http://nsideseb-env.us-east-1.elasticbeanstalk.com/api/v1/query?service=aeolus&meta=drugpairReactionCounts&q=1313184\n"
     ]
    },
    {
     "name": "stderr",
     "output_type": "stream",
     "text": [
      "\r",
      " 82%|████████▏ | 653/793 [08:14<01:11,  1.97it/s]"
     ]
    },
    {
     "name": "stdout",
     "output_type": "stream",
     "text": [
      "http://nsideseb-env.us-east-1.elasticbeanstalk.com/api/v1/query?service=aeolus&meta=drugpairReactionCounts&q=1313184\n"
     ]
    },
    {
     "name": "stderr",
     "output_type": "stream",
     "text": [
      "\r",
      " 82%|████████▏ | 654/793 [08:14<01:11,  1.94it/s]"
     ]
    },
    {
     "name": "stdout",
     "output_type": "stream",
     "text": [
      "http://nsideseb-env.us-east-1.elasticbeanstalk.com/api/v1/query?service=aeolus&meta=drugpairReactionCounts&q=1313184\n"
     ]
    },
    {
     "name": "stderr",
     "output_type": "stream",
     "text": [
      "\r",
      " 83%|████████▎ | 655/793 [08:15<01:11,  1.94it/s]"
     ]
    },
    {
     "name": "stdout",
     "output_type": "stream",
     "text": [
      "http://nsideseb-env.us-east-1.elasticbeanstalk.com/api/v1/query?service=aeolus&meta=drugpairReactionCounts&q=1313184\n"
     ]
    },
    {
     "name": "stderr",
     "output_type": "stream",
     "text": [
      "\r",
      " 83%|████████▎ | 656/793 [08:15<01:10,  1.95it/s]"
     ]
    },
    {
     "name": "stdout",
     "output_type": "stream",
     "text": [
      "http://nsideseb-env.us-east-1.elasticbeanstalk.com/api/v1/query?service=aeolus&meta=drugpairReactionCounts&q=1313184\n"
     ]
    },
    {
     "name": "stderr",
     "output_type": "stream",
     "text": [
      "\r",
      " 83%|████████▎ | 657/793 [08:16<01:11,  1.90it/s]"
     ]
    },
    {
     "name": "stdout",
     "output_type": "stream",
     "text": [
      "http://nsideseb-env.us-east-1.elasticbeanstalk.com/api/v1/query?service=aeolus&meta=drugpairReactionCounts&q=1313184\n"
     ]
    },
    {
     "name": "stderr",
     "output_type": "stream",
     "text": [
      "\r",
      " 83%|████████▎ | 658/793 [08:16<01:10,  1.92it/s]"
     ]
    },
    {
     "name": "stdout",
     "output_type": "stream",
     "text": [
      "http://nsideseb-env.us-east-1.elasticbeanstalk.com/api/v1/query?service=aeolus&meta=drugpairReactionCounts&q=1313184\n"
     ]
    },
    {
     "name": "stderr",
     "output_type": "stream",
     "text": [
      "\r",
      " 83%|████████▎ | 659/793 [08:17<01:08,  1.94it/s]"
     ]
    },
    {
     "name": "stdout",
     "output_type": "stream",
     "text": [
      "http://nsideseb-env.us-east-1.elasticbeanstalk.com/api/v1/query?service=aeolus&meta=drugpairReactionCounts&q=1313184\n"
     ]
    },
    {
     "name": "stderr",
     "output_type": "stream",
     "text": [
      "\r",
      " 83%|████████▎ | 660/793 [08:17<01:07,  1.96it/s]"
     ]
    },
    {
     "name": "stdout",
     "output_type": "stream",
     "text": [
      "http://nsideseb-env.us-east-1.elasticbeanstalk.com/api/v1/query?service=aeolus&meta=drugpairReactionCounts&q=1313184\n"
     ]
    },
    {
     "name": "stderr",
     "output_type": "stream",
     "text": [
      "\r",
      " 83%|████████▎ | 661/793 [08:18<01:06,  1.98it/s]"
     ]
    },
    {
     "name": "stdout",
     "output_type": "stream",
     "text": [
      "http://nsideseb-env.us-east-1.elasticbeanstalk.com/api/v1/query?service=aeolus&meta=drugpairReactionCounts&q=1313184\n"
     ]
    },
    {
     "name": "stderr",
     "output_type": "stream",
     "text": [
      "\r",
      " 83%|████████▎ | 662/793 [08:18<01:06,  1.97it/s]"
     ]
    },
    {
     "name": "stdout",
     "output_type": "stream",
     "text": [
      "http://nsideseb-env.us-east-1.elasticbeanstalk.com/api/v1/query?service=aeolus&meta=drugpairReactionCounts&q=1313184\n"
     ]
    },
    {
     "name": "stderr",
     "output_type": "stream",
     "text": [
      "\r",
      " 84%|████████▎ | 663/793 [08:19<01:05,  1.97it/s]"
     ]
    },
    {
     "name": "stdout",
     "output_type": "stream",
     "text": [
      "http://nsideseb-env.us-east-1.elasticbeanstalk.com/api/v1/query?service=aeolus&meta=drugpairReactionCounts&q=1313184\n"
     ]
    },
    {
     "name": "stderr",
     "output_type": "stream",
     "text": [
      "\r",
      " 84%|████████▎ | 664/793 [08:19<01:05,  1.98it/s]"
     ]
    },
    {
     "name": "stdout",
     "output_type": "stream",
     "text": [
      "http://nsideseb-env.us-east-1.elasticbeanstalk.com/api/v1/query?service=aeolus&meta=drugpairReactionCounts&q=1313184\n"
     ]
    },
    {
     "name": "stderr",
     "output_type": "stream",
     "text": [
      "\r",
      " 84%|████████▍ | 665/793 [08:20<01:04,  2.00it/s]"
     ]
    },
    {
     "name": "stdout",
     "output_type": "stream",
     "text": [
      "http://nsideseb-env.us-east-1.elasticbeanstalk.com/api/v1/query?service=aeolus&meta=drugpairReactionCounts&q=1313184\n"
     ]
    },
    {
     "name": "stderr",
     "output_type": "stream",
     "text": [
      "\r",
      " 84%|████████▍ | 666/793 [08:20<01:04,  1.97it/s]"
     ]
    },
    {
     "name": "stdout",
     "output_type": "stream",
     "text": [
      "http://nsideseb-env.us-east-1.elasticbeanstalk.com/api/v1/query?service=aeolus&meta=drugpairReactionCounts&q=1313184\n"
     ]
    },
    {
     "name": "stderr",
     "output_type": "stream",
     "text": [
      "\r",
      " 84%|████████▍ | 667/793 [08:21<01:03,  1.98it/s]"
     ]
    },
    {
     "name": "stdout",
     "output_type": "stream",
     "text": [
      "http://nsideseb-env.us-east-1.elasticbeanstalk.com/api/v1/query?service=aeolus&meta=drugpairReactionCounts&q=1313184\n"
     ]
    },
    {
     "name": "stderr",
     "output_type": "stream",
     "text": [
      "\r",
      " 84%|████████▍ | 668/793 [08:21<01:03,  1.97it/s]"
     ]
    },
    {
     "name": "stdout",
     "output_type": "stream",
     "text": [
      "http://nsideseb-env.us-east-1.elasticbeanstalk.com/api/v1/query?service=aeolus&meta=drugpairReactionCounts&q=1313184\n"
     ]
    },
    {
     "name": "stderr",
     "output_type": "stream",
     "text": [
      "\r",
      " 84%|████████▍ | 669/793 [08:22<01:03,  1.96it/s]"
     ]
    },
    {
     "name": "stdout",
     "output_type": "stream",
     "text": [
      "http://nsideseb-env.us-east-1.elasticbeanstalk.com/api/v1/query?service=aeolus&meta=drugpairReactionCounts&q=1313184\n"
     ]
    },
    {
     "name": "stderr",
     "output_type": "stream",
     "text": [
      "\r",
      " 84%|████████▍ | 670/793 [08:23<01:02,  1.95it/s]"
     ]
    },
    {
     "name": "stdout",
     "output_type": "stream",
     "text": [
      "http://nsideseb-env.us-east-1.elasticbeanstalk.com/api/v1/query?service=aeolus&meta=drugpairReactionCounts&q=1313184\n"
     ]
    },
    {
     "name": "stderr",
     "output_type": "stream",
     "text": [
      "\r",
      " 85%|████████▍ | 671/793 [08:23<01:03,  1.92it/s]"
     ]
    },
    {
     "name": "stdout",
     "output_type": "stream",
     "text": [
      "http://nsideseb-env.us-east-1.elasticbeanstalk.com/api/v1/query?service=aeolus&meta=drugpairReactionCounts&q=1313184\n"
     ]
    },
    {
     "name": "stderr",
     "output_type": "stream",
     "text": [
      "\r",
      " 85%|████████▍ | 672/793 [08:24<01:02,  1.92it/s]"
     ]
    },
    {
     "name": "stdout",
     "output_type": "stream",
     "text": [
      "http://nsideseb-env.us-east-1.elasticbeanstalk.com/api/v1/query?service=aeolus&meta=drugpairReactionCounts&q=1313184\n"
     ]
    },
    {
     "name": "stderr",
     "output_type": "stream",
     "text": [
      "\r",
      " 85%|████████▍ | 673/793 [08:24<01:01,  1.95it/s]"
     ]
    },
    {
     "name": "stdout",
     "output_type": "stream",
     "text": [
      "http://nsideseb-env.us-east-1.elasticbeanstalk.com/api/v1/query?service=aeolus&meta=drugpairReactionCounts&q=1313184\n"
     ]
    },
    {
     "name": "stderr",
     "output_type": "stream",
     "text": [
      "\r",
      " 85%|████████▍ | 674/793 [08:25<01:00,  1.96it/s]"
     ]
    },
    {
     "name": "stdout",
     "output_type": "stream",
     "text": [
      "http://nsideseb-env.us-east-1.elasticbeanstalk.com/api/v1/query?service=aeolus&meta=drugpairReactionCounts&q=1313184\n"
     ]
    },
    {
     "name": "stderr",
     "output_type": "stream",
     "text": [
      "\r",
      " 85%|████████▌ | 675/793 [08:25<01:00,  1.95it/s]"
     ]
    },
    {
     "name": "stdout",
     "output_type": "stream",
     "text": [
      "http://nsideseb-env.us-east-1.elasticbeanstalk.com/api/v1/query?service=aeolus&meta=drugpairReactionCounts&q=1313184\n"
     ]
    },
    {
     "name": "stderr",
     "output_type": "stream",
     "text": [
      "\r",
      " 85%|████████▌ | 676/793 [08:26<00:59,  1.96it/s]"
     ]
    },
    {
     "name": "stdout",
     "output_type": "stream",
     "text": [
      "http://nsideseb-env.us-east-1.elasticbeanstalk.com/api/v1/query?service=aeolus&meta=drugpairReactionCounts&q=1313184\n"
     ]
    },
    {
     "name": "stderr",
     "output_type": "stream",
     "text": [
      "\r",
      " 85%|████████▌ | 677/793 [08:26<00:59,  1.95it/s]"
     ]
    },
    {
     "name": "stdout",
     "output_type": "stream",
     "text": [
      "http://nsideseb-env.us-east-1.elasticbeanstalk.com/api/v1/query?service=aeolus&meta=drugpairReactionCounts&q=1313184\n"
     ]
    },
    {
     "name": "stderr",
     "output_type": "stream",
     "text": [
      "\r",
      " 85%|████████▌ | 678/793 [08:27<00:59,  1.94it/s]"
     ]
    },
    {
     "name": "stdout",
     "output_type": "stream",
     "text": [
      "http://nsideseb-env.us-east-1.elasticbeanstalk.com/api/v1/query?service=aeolus&meta=drugpairReactionCounts&q=1313184\n"
     ]
    },
    {
     "name": "stderr",
     "output_type": "stream",
     "text": [
      "\r",
      " 86%|████████▌ | 679/793 [08:27<00:58,  1.96it/s]"
     ]
    },
    {
     "name": "stdout",
     "output_type": "stream",
     "text": [
      "http://nsideseb-env.us-east-1.elasticbeanstalk.com/api/v1/query?service=aeolus&meta=drugpairReactionCounts&q=1313184\n"
     ]
    },
    {
     "name": "stderr",
     "output_type": "stream",
     "text": [
      "\r",
      " 86%|████████▌ | 680/793 [08:28<00:57,  1.95it/s]"
     ]
    },
    {
     "name": "stdout",
     "output_type": "stream",
     "text": [
      "http://nsideseb-env.us-east-1.elasticbeanstalk.com/api/v1/query?service=aeolus&meta=drugpairReactionCounts&q=1313184\n"
     ]
    },
    {
     "name": "stderr",
     "output_type": "stream",
     "text": [
      "\r",
      " 86%|████████▌ | 681/793 [08:28<00:57,  1.96it/s]"
     ]
    },
    {
     "name": "stdout",
     "output_type": "stream",
     "text": [
      "http://nsideseb-env.us-east-1.elasticbeanstalk.com/api/v1/query?service=aeolus&meta=drugpairReactionCounts&q=1313184\n"
     ]
    },
    {
     "name": "stderr",
     "output_type": "stream",
     "text": [
      "\r",
      " 86%|████████▌ | 682/793 [08:29<00:56,  1.97it/s]"
     ]
    },
    {
     "name": "stdout",
     "output_type": "stream",
     "text": [
      "http://nsideseb-env.us-east-1.elasticbeanstalk.com/api/v1/query?service=aeolus&meta=drugpairReactionCounts&q=1313184\n"
     ]
    },
    {
     "name": "stderr",
     "output_type": "stream",
     "text": [
      "\r",
      " 86%|████████▌ | 683/793 [08:29<00:55,  1.97it/s]"
     ]
    },
    {
     "name": "stdout",
     "output_type": "stream",
     "text": [
      "http://nsideseb-env.us-east-1.elasticbeanstalk.com/api/v1/query?service=aeolus&meta=drugpairReactionCounts&q=1313184\n"
     ]
    },
    {
     "name": "stderr",
     "output_type": "stream",
     "text": [
      "\r",
      " 86%|████████▋ | 684/793 [08:30<00:54,  1.98it/s]"
     ]
    },
    {
     "name": "stdout",
     "output_type": "stream",
     "text": [
      "http://nsideseb-env.us-east-1.elasticbeanstalk.com/api/v1/query?service=aeolus&meta=drugpairReactionCounts&q=1313184\n"
     ]
    },
    {
     "name": "stderr",
     "output_type": "stream",
     "text": [
      "\r",
      " 86%|████████▋ | 685/793 [08:30<00:54,  1.99it/s]"
     ]
    },
    {
     "name": "stdout",
     "output_type": "stream",
     "text": [
      "http://nsideseb-env.us-east-1.elasticbeanstalk.com/api/v1/query?service=aeolus&meta=drugpairReactionCounts&q=1313184\n"
     ]
    },
    {
     "name": "stderr",
     "output_type": "stream",
     "text": [
      "\r",
      " 87%|████████▋ | 686/793 [08:31<00:55,  1.94it/s]"
     ]
    },
    {
     "name": "stdout",
     "output_type": "stream",
     "text": [
      "http://nsideseb-env.us-east-1.elasticbeanstalk.com/api/v1/query?service=aeolus&meta=drugpairReactionCounts&q=1313184\n"
     ]
    },
    {
     "name": "stderr",
     "output_type": "stream",
     "text": [
      "\r",
      " 87%|████████▋ | 687/793 [08:31<00:54,  1.93it/s]"
     ]
    },
    {
     "name": "stdout",
     "output_type": "stream",
     "text": [
      "http://nsideseb-env.us-east-1.elasticbeanstalk.com/api/v1/query?service=aeolus&meta=drugpairReactionCounts&q=1313184\n"
     ]
    },
    {
     "name": "stderr",
     "output_type": "stream",
     "text": [
      "\r",
      " 87%|████████▋ | 688/793 [08:32<00:54,  1.92it/s]"
     ]
    },
    {
     "name": "stdout",
     "output_type": "stream",
     "text": [
      "http://nsideseb-env.us-east-1.elasticbeanstalk.com/api/v1/query?service=aeolus&meta=drugpairReactionCounts&q=1313184\n"
     ]
    },
    {
     "name": "stderr",
     "output_type": "stream",
     "text": [
      "\r",
      " 87%|████████▋ | 689/793 [08:32<00:53,  1.95it/s]"
     ]
    },
    {
     "name": "stdout",
     "output_type": "stream",
     "text": [
      "http://nsideseb-env.us-east-1.elasticbeanstalk.com/api/v1/query?service=aeolus&meta=drugpairReactionCounts&q=1313184\n"
     ]
    },
    {
     "name": "stderr",
     "output_type": "stream",
     "text": [
      "\r",
      " 87%|████████▋ | 690/793 [08:33<00:53,  1.93it/s]"
     ]
    },
    {
     "name": "stdout",
     "output_type": "stream",
     "text": [
      "http://nsideseb-env.us-east-1.elasticbeanstalk.com/api/v1/query?service=aeolus&meta=drugpairReactionCounts&q=1313184\n"
     ]
    },
    {
     "name": "stderr",
     "output_type": "stream",
     "text": [
      "\r",
      " 87%|████████▋ | 691/793 [08:33<00:52,  1.94it/s]"
     ]
    },
    {
     "name": "stdout",
     "output_type": "stream",
     "text": [
      "http://nsideseb-env.us-east-1.elasticbeanstalk.com/api/v1/query?service=aeolus&meta=drugpairReactionCounts&q=1313184\n"
     ]
    },
    {
     "name": "stderr",
     "output_type": "stream",
     "text": [
      "\r",
      " 87%|████████▋ | 692/793 [08:34<00:51,  1.96it/s]"
     ]
    },
    {
     "name": "stdout",
     "output_type": "stream",
     "text": [
      "http://nsideseb-env.us-east-1.elasticbeanstalk.com/api/v1/query?service=aeolus&meta=drugpairReactionCounts&q=1313184\n"
     ]
    },
    {
     "name": "stderr",
     "output_type": "stream",
     "text": [
      "\r",
      " 87%|████████▋ | 693/793 [08:34<00:50,  1.98it/s]"
     ]
    },
    {
     "name": "stdout",
     "output_type": "stream",
     "text": [
      "http://nsideseb-env.us-east-1.elasticbeanstalk.com/api/v1/query?service=aeolus&meta=drugpairReactionCounts&q=1313184\n"
     ]
    },
    {
     "name": "stderr",
     "output_type": "stream",
     "text": [
      "\r",
      " 88%|████████▊ | 694/793 [08:35<00:50,  1.97it/s]"
     ]
    },
    {
     "name": "stdout",
     "output_type": "stream",
     "text": [
      "http://nsideseb-env.us-east-1.elasticbeanstalk.com/api/v1/query?service=aeolus&meta=drugpairReactionCounts&q=1313184\n"
     ]
    },
    {
     "name": "stderr",
     "output_type": "stream",
     "text": [
      "\r",
      " 88%|████████▊ | 695/793 [08:35<00:49,  1.96it/s]"
     ]
    },
    {
     "name": "stdout",
     "output_type": "stream",
     "text": [
      "http://nsideseb-env.us-east-1.elasticbeanstalk.com/api/v1/query?service=aeolus&meta=drugpairReactionCounts&q=1313184\n"
     ]
    },
    {
     "name": "stderr",
     "output_type": "stream",
     "text": [
      "\r",
      " 88%|████████▊ | 696/793 [08:36<00:49,  1.96it/s]"
     ]
    },
    {
     "name": "stdout",
     "output_type": "stream",
     "text": [
      "http://nsideseb-env.us-east-1.elasticbeanstalk.com/api/v1/query?service=aeolus&meta=drugpairReactionCounts&q=1313184\n"
     ]
    },
    {
     "name": "stderr",
     "output_type": "stream",
     "text": [
      "\r",
      " 88%|████████▊ | 697/793 [08:36<00:49,  1.95it/s]"
     ]
    },
    {
     "name": "stdout",
     "output_type": "stream",
     "text": [
      "http://nsideseb-env.us-east-1.elasticbeanstalk.com/api/v1/query?service=aeolus&meta=drugpairReactionCounts&q=1313184\n"
     ]
    },
    {
     "name": "stderr",
     "output_type": "stream",
     "text": [
      "\r",
      " 88%|████████▊ | 698/793 [08:37<00:48,  1.97it/s]"
     ]
    },
    {
     "name": "stdout",
     "output_type": "stream",
     "text": [
      "http://nsideseb-env.us-east-1.elasticbeanstalk.com/api/v1/query?service=aeolus&meta=drugpairReactionCounts&q=1313184\n"
     ]
    },
    {
     "name": "stderr",
     "output_type": "stream",
     "text": [
      "\r",
      " 88%|████████▊ | 699/793 [08:37<00:47,  1.97it/s]"
     ]
    },
    {
     "name": "stdout",
     "output_type": "stream",
     "text": [
      "http://nsideseb-env.us-east-1.elasticbeanstalk.com/api/v1/query?service=aeolus&meta=drugpairReactionCounts&q=1313184\n"
     ]
    },
    {
     "name": "stderr",
     "output_type": "stream",
     "text": [
      "\r",
      " 88%|████████▊ | 700/793 [08:38<00:47,  1.97it/s]"
     ]
    },
    {
     "name": "stdout",
     "output_type": "stream",
     "text": [
      "http://nsideseb-env.us-east-1.elasticbeanstalk.com/api/v1/query?service=aeolus&meta=drugpairReactionCounts&q=1313184\n"
     ]
    },
    {
     "name": "stderr",
     "output_type": "stream",
     "text": [
      "\r",
      " 88%|████████▊ | 701/793 [08:38<00:46,  1.97it/s]"
     ]
    },
    {
     "name": "stdout",
     "output_type": "stream",
     "text": [
      "http://nsideseb-env.us-east-1.elasticbeanstalk.com/api/v1/query?service=aeolus&meta=drugpairReactionCounts&q=1313184\n"
     ]
    },
    {
     "name": "stderr",
     "output_type": "stream",
     "text": [
      "\r",
      " 89%|████████▊ | 702/793 [08:39<00:46,  1.97it/s]"
     ]
    },
    {
     "name": "stdout",
     "output_type": "stream",
     "text": [
      "http://nsideseb-env.us-east-1.elasticbeanstalk.com/api/v1/query?service=aeolus&meta=drugpairReactionCounts&q=1313184\n"
     ]
    },
    {
     "name": "stderr",
     "output_type": "stream",
     "text": [
      "\r",
      " 89%|████████▊ | 703/793 [08:39<00:45,  1.96it/s]"
     ]
    },
    {
     "name": "stdout",
     "output_type": "stream",
     "text": [
      "http://nsideseb-env.us-east-1.elasticbeanstalk.com/api/v1/query?service=aeolus&meta=drugpairReactionCounts&q=1313184\n"
     ]
    },
    {
     "name": "stderr",
     "output_type": "stream",
     "text": [
      "\r",
      " 89%|████████▉ | 704/793 [08:40<00:45,  1.96it/s]"
     ]
    },
    {
     "name": "stdout",
     "output_type": "stream",
     "text": [
      "http://nsideseb-env.us-east-1.elasticbeanstalk.com/api/v1/query?service=aeolus&meta=drugpairReactionCounts&q=1313184\n"
     ]
    },
    {
     "name": "stderr",
     "output_type": "stream",
     "text": [
      "\r",
      " 89%|████████▉ | 705/793 [08:40<00:45,  1.93it/s]"
     ]
    },
    {
     "name": "stdout",
     "output_type": "stream",
     "text": [
      "http://nsideseb-env.us-east-1.elasticbeanstalk.com/api/v1/query?service=aeolus&meta=drugpairReactionCounts&q=1313184\n"
     ]
    },
    {
     "name": "stderr",
     "output_type": "stream",
     "text": [
      "\r",
      " 89%|████████▉ | 706/793 [08:41<00:45,  1.93it/s]"
     ]
    },
    {
     "name": "stdout",
     "output_type": "stream",
     "text": [
      "http://nsideseb-env.us-east-1.elasticbeanstalk.com/api/v1/query?service=aeolus&meta=drugpairReactionCounts&q=1313184\n"
     ]
    },
    {
     "name": "stderr",
     "output_type": "stream",
     "text": [
      "\r",
      " 89%|████████▉ | 707/793 [08:41<00:44,  1.92it/s]"
     ]
    },
    {
     "name": "stdout",
     "output_type": "stream",
     "text": [
      "http://nsideseb-env.us-east-1.elasticbeanstalk.com/api/v1/query?service=aeolus&meta=drugpairReactionCounts&q=1313184\n"
     ]
    },
    {
     "name": "stderr",
     "output_type": "stream",
     "text": [
      "\r",
      " 89%|████████▉ | 708/793 [08:42<00:44,  1.92it/s]"
     ]
    },
    {
     "name": "stdout",
     "output_type": "stream",
     "text": [
      "http://nsideseb-env.us-east-1.elasticbeanstalk.com/api/v1/query?service=aeolus&meta=drugpairReactionCounts&q=1313184\n"
     ]
    },
    {
     "name": "stderr",
     "output_type": "stream",
     "text": [
      "\r",
      " 89%|████████▉ | 709/793 [08:42<00:43,  1.95it/s]"
     ]
    },
    {
     "name": "stdout",
     "output_type": "stream",
     "text": [
      "http://nsideseb-env.us-east-1.elasticbeanstalk.com/api/v1/query?service=aeolus&meta=drugpairReactionCounts&q=1313184\n"
     ]
    },
    {
     "name": "stderr",
     "output_type": "stream",
     "text": [
      "\r",
      " 90%|████████▉ | 710/793 [08:43<00:42,  1.94it/s]"
     ]
    },
    {
     "name": "stdout",
     "output_type": "stream",
     "text": [
      "http://nsideseb-env.us-east-1.elasticbeanstalk.com/api/v1/query?service=aeolus&meta=drugpairReactionCounts&q=1313184\n"
     ]
    },
    {
     "name": "stderr",
     "output_type": "stream",
     "text": [
      "\r",
      " 90%|████████▉ | 711/793 [08:44<00:42,  1.95it/s]"
     ]
    },
    {
     "name": "stdout",
     "output_type": "stream",
     "text": [
      "http://nsideseb-env.us-east-1.elasticbeanstalk.com/api/v1/query?service=aeolus&meta=drugpairReactionCounts&q=1313184\n"
     ]
    },
    {
     "name": "stderr",
     "output_type": "stream",
     "text": [
      "\r",
      " 90%|████████▉ | 712/793 [08:44<00:41,  1.95it/s]"
     ]
    },
    {
     "name": "stdout",
     "output_type": "stream",
     "text": [
      "http://nsideseb-env.us-east-1.elasticbeanstalk.com/api/v1/query?service=aeolus&meta=drugpairReactionCounts&q=1313184\n"
     ]
    },
    {
     "name": "stderr",
     "output_type": "stream",
     "text": [
      "\r",
      " 90%|████████▉ | 713/793 [08:45<00:40,  1.97it/s]"
     ]
    },
    {
     "name": "stdout",
     "output_type": "stream",
     "text": [
      "http://nsideseb-env.us-east-1.elasticbeanstalk.com/api/v1/query?service=aeolus&meta=drugpairReactionCounts&q=1313184\n"
     ]
    },
    {
     "name": "stderr",
     "output_type": "stream",
     "text": [
      "\r",
      " 90%|█████████ | 714/793 [08:45<00:40,  1.97it/s]"
     ]
    },
    {
     "name": "stdout",
     "output_type": "stream",
     "text": [
      "http://nsideseb-env.us-east-1.elasticbeanstalk.com/api/v1/query?service=aeolus&meta=drugpairReactionCounts&q=1313184\n"
     ]
    },
    {
     "name": "stderr",
     "output_type": "stream",
     "text": [
      "\r",
      " 90%|█████████ | 715/793 [08:46<00:39,  1.96it/s]"
     ]
    },
    {
     "name": "stdout",
     "output_type": "stream",
     "text": [
      "http://nsideseb-env.us-east-1.elasticbeanstalk.com/api/v1/query?service=aeolus&meta=drugpairReactionCounts&q=1313184\n"
     ]
    },
    {
     "name": "stderr",
     "output_type": "stream",
     "text": [
      "\r",
      " 90%|█████████ | 716/793 [08:46<00:39,  1.95it/s]"
     ]
    },
    {
     "name": "stdout",
     "output_type": "stream",
     "text": [
      "http://nsideseb-env.us-east-1.elasticbeanstalk.com/api/v1/query?service=aeolus&meta=drugpairReactionCounts&q=1313184\n"
     ]
    },
    {
     "name": "stderr",
     "output_type": "stream",
     "text": [
      "\r",
      " 90%|█████████ | 717/793 [08:47<00:38,  1.95it/s]"
     ]
    },
    {
     "name": "stdout",
     "output_type": "stream",
     "text": [
      "http://nsideseb-env.us-east-1.elasticbeanstalk.com/api/v1/query?service=aeolus&meta=drugpairReactionCounts&q=1313184\n"
     ]
    },
    {
     "name": "stderr",
     "output_type": "stream",
     "text": [
      "\r",
      " 91%|█████████ | 718/793 [08:47<00:40,  1.83it/s]"
     ]
    },
    {
     "name": "stdout",
     "output_type": "stream",
     "text": [
      "http://nsideseb-env.us-east-1.elasticbeanstalk.com/api/v1/query?service=aeolus&meta=drugpairReactionCounts&q=1313184\n"
     ]
    },
    {
     "name": "stderr",
     "output_type": "stream",
     "text": [
      "\r",
      " 91%|█████████ | 719/793 [08:48<00:42,  1.73it/s]"
     ]
    },
    {
     "name": "stdout",
     "output_type": "stream",
     "text": [
      "http://nsideseb-env.us-east-1.elasticbeanstalk.com/api/v1/query?service=aeolus&meta=drugpairReactionCounts&q=1313184\n"
     ]
    },
    {
     "name": "stderr",
     "output_type": "stream",
     "text": [
      "\r",
      " 91%|█████████ | 720/793 [08:48<00:41,  1.78it/s]"
     ]
    },
    {
     "name": "stdout",
     "output_type": "stream",
     "text": [
      "http://nsideseb-env.us-east-1.elasticbeanstalk.com/api/v1/query?service=aeolus&meta=drugpairReactionCounts&q=1313184\n"
     ]
    },
    {
     "name": "stderr",
     "output_type": "stream",
     "text": [
      "\r",
      " 91%|█████████ | 721/793 [08:49<00:39,  1.84it/s]"
     ]
    },
    {
     "name": "stdout",
     "output_type": "stream",
     "text": [
      "http://nsideseb-env.us-east-1.elasticbeanstalk.com/api/v1/query?service=aeolus&meta=drugpairReactionCounts&q=1313184\n"
     ]
    },
    {
     "name": "stderr",
     "output_type": "stream",
     "text": [
      "\r",
      " 91%|█████████ | 722/793 [08:49<00:37,  1.90it/s]"
     ]
    },
    {
     "name": "stdout",
     "output_type": "stream",
     "text": [
      "http://nsideseb-env.us-east-1.elasticbeanstalk.com/api/v1/query?service=aeolus&meta=drugpairReactionCounts&q=1313184\n"
     ]
    },
    {
     "name": "stderr",
     "output_type": "stream",
     "text": [
      "\r",
      " 91%|█████████ | 723/793 [08:50<00:36,  1.93it/s]"
     ]
    },
    {
     "name": "stdout",
     "output_type": "stream",
     "text": [
      "http://nsideseb-env.us-east-1.elasticbeanstalk.com/api/v1/query?service=aeolus&meta=drugpairReactionCounts&q=1313184\n"
     ]
    },
    {
     "name": "stderr",
     "output_type": "stream",
     "text": [
      "\r",
      " 91%|█████████▏| 724/793 [08:50<00:35,  1.96it/s]"
     ]
    },
    {
     "name": "stdout",
     "output_type": "stream",
     "text": [
      "http://nsideseb-env.us-east-1.elasticbeanstalk.com/api/v1/query?service=aeolus&meta=drugpairReactionCounts&q=1313184\n"
     ]
    },
    {
     "name": "stderr",
     "output_type": "stream",
     "text": [
      "\r",
      " 91%|█████████▏| 725/793 [08:51<00:34,  1.99it/s]"
     ]
    },
    {
     "name": "stdout",
     "output_type": "stream",
     "text": [
      "http://nsideseb-env.us-east-1.elasticbeanstalk.com/api/v1/query?service=aeolus&meta=drugpairReactionCounts&q=1313184\n"
     ]
    },
    {
     "name": "stderr",
     "output_type": "stream",
     "text": [
      "\r",
      " 92%|█████████▏| 726/793 [08:51<00:34,  1.95it/s]"
     ]
    },
    {
     "name": "stdout",
     "output_type": "stream",
     "text": [
      "http://nsideseb-env.us-east-1.elasticbeanstalk.com/api/v1/query?service=aeolus&meta=drugpairReactionCounts&q=1313184\n"
     ]
    },
    {
     "name": "stderr",
     "output_type": "stream",
     "text": [
      "\r",
      " 92%|█████████▏| 727/793 [08:52<00:33,  1.97it/s]"
     ]
    },
    {
     "name": "stdout",
     "output_type": "stream",
     "text": [
      "http://nsideseb-env.us-east-1.elasticbeanstalk.com/api/v1/query?service=aeolus&meta=drugpairReactionCounts&q=1313184\n"
     ]
    },
    {
     "name": "stderr",
     "output_type": "stream",
     "text": [
      "\r",
      " 92%|█████████▏| 728/793 [08:52<00:32,  1.98it/s]"
     ]
    },
    {
     "name": "stdout",
     "output_type": "stream",
     "text": [
      "http://nsideseb-env.us-east-1.elasticbeanstalk.com/api/v1/query?service=aeolus&meta=drugpairReactionCounts&q=1313184\n"
     ]
    },
    {
     "name": "stderr",
     "output_type": "stream",
     "text": [
      "\r",
      " 92%|█████████▏| 729/793 [08:53<00:33,  1.94it/s]"
     ]
    },
    {
     "name": "stdout",
     "output_type": "stream",
     "text": [
      "http://nsideseb-env.us-east-1.elasticbeanstalk.com/api/v1/query?service=aeolus&meta=drugpairReactionCounts&q=1313184\n"
     ]
    },
    {
     "name": "stderr",
     "output_type": "stream",
     "text": [
      "\r",
      " 92%|█████████▏| 730/793 [08:53<00:32,  1.95it/s]"
     ]
    },
    {
     "name": "stdout",
     "output_type": "stream",
     "text": [
      "http://nsideseb-env.us-east-1.elasticbeanstalk.com/api/v1/query?service=aeolus&meta=drugpairReactionCounts&q=1313184\n"
     ]
    },
    {
     "name": "stderr",
     "output_type": "stream",
     "text": [
      "\r",
      " 92%|█████████▏| 731/793 [08:54<00:31,  1.96it/s]"
     ]
    },
    {
     "name": "stdout",
     "output_type": "stream",
     "text": [
      "http://nsideseb-env.us-east-1.elasticbeanstalk.com/api/v1/query?service=aeolus&meta=drugpairReactionCounts&q=1313184\n"
     ]
    },
    {
     "name": "stderr",
     "output_type": "stream",
     "text": [
      "\r",
      " 92%|█████████▏| 732/793 [08:54<00:31,  1.94it/s]"
     ]
    },
    {
     "name": "stdout",
     "output_type": "stream",
     "text": [
      "http://nsideseb-env.us-east-1.elasticbeanstalk.com/api/v1/query?service=aeolus&meta=drugpairReactionCounts&q=1313184\n"
     ]
    },
    {
     "name": "stderr",
     "output_type": "stream",
     "text": [
      "\r",
      " 92%|█████████▏| 733/793 [08:55<00:30,  1.95it/s]"
     ]
    },
    {
     "name": "stdout",
     "output_type": "stream",
     "text": [
      "http://nsideseb-env.us-east-1.elasticbeanstalk.com/api/v1/query?service=aeolus&meta=drugpairReactionCounts&q=1313184\n"
     ]
    },
    {
     "name": "stderr",
     "output_type": "stream",
     "text": [
      "\r",
      " 93%|█████████▎| 734/793 [08:55<00:30,  1.95it/s]"
     ]
    },
    {
     "name": "stdout",
     "output_type": "stream",
     "text": [
      "http://nsideseb-env.us-east-1.elasticbeanstalk.com/api/v1/query?service=aeolus&meta=drugpairReactionCounts&q=1313184\n"
     ]
    },
    {
     "name": "stderr",
     "output_type": "stream",
     "text": [
      "\r",
      " 93%|█████████▎| 735/793 [08:56<00:29,  1.94it/s]"
     ]
    },
    {
     "name": "stdout",
     "output_type": "stream",
     "text": [
      "http://nsideseb-env.us-east-1.elasticbeanstalk.com/api/v1/query?service=aeolus&meta=drugpairReactionCounts&q=1313184\n"
     ]
    },
    {
     "name": "stderr",
     "output_type": "stream",
     "text": [
      "\r",
      " 93%|█████████▎| 736/793 [08:57<00:29,  1.95it/s]"
     ]
    },
    {
     "name": "stdout",
     "output_type": "stream",
     "text": [
      "http://nsideseb-env.us-east-1.elasticbeanstalk.com/api/v1/query?service=aeolus&meta=drugpairReactionCounts&q=1313184\n"
     ]
    },
    {
     "name": "stderr",
     "output_type": "stream",
     "text": [
      "\r",
      " 93%|█████████▎| 737/793 [08:57<00:28,  1.97it/s]"
     ]
    },
    {
     "name": "stdout",
     "output_type": "stream",
     "text": [
      "http://nsideseb-env.us-east-1.elasticbeanstalk.com/api/v1/query?service=aeolus&meta=drugpairReactionCounts&q=1313184\n"
     ]
    },
    {
     "name": "stderr",
     "output_type": "stream",
     "text": [
      "\r",
      " 93%|█████████▎| 738/793 [08:58<00:28,  1.95it/s]"
     ]
    },
    {
     "name": "stdout",
     "output_type": "stream",
     "text": [
      "http://nsideseb-env.us-east-1.elasticbeanstalk.com/api/v1/query?service=aeolus&meta=drugpairReactionCounts&q=1313184\n"
     ]
    },
    {
     "name": "stderr",
     "output_type": "stream",
     "text": [
      "\r",
      " 93%|█████████▎| 739/793 [08:58<00:27,  1.97it/s]"
     ]
    },
    {
     "name": "stdout",
     "output_type": "stream",
     "text": [
      "http://nsideseb-env.us-east-1.elasticbeanstalk.com/api/v1/query?service=aeolus&meta=drugpairReactionCounts&q=1313184\n"
     ]
    },
    {
     "name": "stderr",
     "output_type": "stream",
     "text": [
      "\r",
      " 93%|█████████▎| 740/793 [08:59<00:27,  1.95it/s]"
     ]
    },
    {
     "name": "stdout",
     "output_type": "stream",
     "text": [
      "http://nsideseb-env.us-east-1.elasticbeanstalk.com/api/v1/query?service=aeolus&meta=drugpairReactionCounts&q=1313184\n"
     ]
    },
    {
     "name": "stderr",
     "output_type": "stream",
     "text": [
      "\r",
      " 93%|█████████▎| 741/793 [08:59<00:26,  1.97it/s]"
     ]
    },
    {
     "name": "stdout",
     "output_type": "stream",
     "text": [
      "http://nsideseb-env.us-east-1.elasticbeanstalk.com/api/v1/query?service=aeolus&meta=drugpairReactionCounts&q=1313184\n"
     ]
    },
    {
     "name": "stderr",
     "output_type": "stream",
     "text": [
      "\r",
      " 94%|█████████▎| 742/793 [09:00<00:26,  1.96it/s]"
     ]
    },
    {
     "name": "stdout",
     "output_type": "stream",
     "text": [
      "http://nsideseb-env.us-east-1.elasticbeanstalk.com/api/v1/query?service=aeolus&meta=drugpairReactionCounts&q=1313184\n"
     ]
    },
    {
     "name": "stderr",
     "output_type": "stream",
     "text": [
      "\r",
      " 94%|█████████▎| 743/793 [09:00<00:25,  1.98it/s]"
     ]
    },
    {
     "name": "stdout",
     "output_type": "stream",
     "text": [
      "http://nsideseb-env.us-east-1.elasticbeanstalk.com/api/v1/query?service=aeolus&meta=drugpairReactionCounts&q=1313184\n"
     ]
    },
    {
     "name": "stderr",
     "output_type": "stream",
     "text": [
      "\r",
      " 94%|█████████▍| 744/793 [09:01<00:24,  1.98it/s]"
     ]
    },
    {
     "name": "stdout",
     "output_type": "stream",
     "text": [
      "http://nsideseb-env.us-east-1.elasticbeanstalk.com/api/v1/query?service=aeolus&meta=drugpairReactionCounts&q=1313184\n"
     ]
    },
    {
     "name": "stderr",
     "output_type": "stream",
     "text": [
      "\r",
      " 94%|█████████▍| 745/793 [09:01<00:24,  1.99it/s]"
     ]
    },
    {
     "name": "stdout",
     "output_type": "stream",
     "text": [
      "http://nsideseb-env.us-east-1.elasticbeanstalk.com/api/v1/query?service=aeolus&meta=drugpairReactionCounts&q=1313184\n"
     ]
    },
    {
     "name": "stderr",
     "output_type": "stream",
     "text": [
      "\r",
      " 94%|█████████▍| 746/793 [09:02<00:23,  2.00it/s]"
     ]
    },
    {
     "name": "stdout",
     "output_type": "stream",
     "text": [
      "http://nsideseb-env.us-east-1.elasticbeanstalk.com/api/v1/query?service=aeolus&meta=drugpairReactionCounts&q=1313184\n"
     ]
    },
    {
     "name": "stderr",
     "output_type": "stream",
     "text": [
      "\r",
      " 94%|█████████▍| 747/793 [09:02<00:23,  2.00it/s]"
     ]
    },
    {
     "name": "stdout",
     "output_type": "stream",
     "text": [
      "http://nsideseb-env.us-east-1.elasticbeanstalk.com/api/v1/query?service=aeolus&meta=drugpairReactionCounts&q=1313184\n"
     ]
    },
    {
     "name": "stderr",
     "output_type": "stream",
     "text": [
      "\r",
      " 94%|█████████▍| 748/793 [09:03<00:22,  1.99it/s]"
     ]
    },
    {
     "name": "stdout",
     "output_type": "stream",
     "text": [
      "http://nsideseb-env.us-east-1.elasticbeanstalk.com/api/v1/query?service=aeolus&meta=drugpairReactionCounts&q=1313184\n"
     ]
    },
    {
     "name": "stderr",
     "output_type": "stream",
     "text": [
      "\r",
      " 94%|█████████▍| 749/793 [09:03<00:22,  1.95it/s]"
     ]
    },
    {
     "name": "stdout",
     "output_type": "stream",
     "text": [
      "http://nsideseb-env.us-east-1.elasticbeanstalk.com/api/v1/query?service=aeolus&meta=drugpairReactionCounts&q=1313184\n"
     ]
    },
    {
     "name": "stderr",
     "output_type": "stream",
     "text": [
      "\r",
      " 95%|█████████▍| 750/793 [09:04<00:22,  1.94it/s]"
     ]
    },
    {
     "name": "stdout",
     "output_type": "stream",
     "text": [
      "http://nsideseb-env.us-east-1.elasticbeanstalk.com/api/v1/query?service=aeolus&meta=drugpairReactionCounts&q=1313184\n"
     ]
    },
    {
     "name": "stderr",
     "output_type": "stream",
     "text": [
      "\r",
      " 95%|█████████▍| 751/793 [09:04<00:21,  1.93it/s]"
     ]
    },
    {
     "name": "stdout",
     "output_type": "stream",
     "text": [
      "http://nsideseb-env.us-east-1.elasticbeanstalk.com/api/v1/query?service=aeolus&meta=drugpairReactionCounts&q=1313184\n"
     ]
    },
    {
     "name": "stderr",
     "output_type": "stream",
     "text": [
      "\r",
      " 95%|█████████▍| 752/793 [09:05<00:21,  1.94it/s]"
     ]
    },
    {
     "name": "stdout",
     "output_type": "stream",
     "text": [
      "http://nsideseb-env.us-east-1.elasticbeanstalk.com/api/v1/query?service=aeolus&meta=drugpairReactionCounts&q=1313184\n"
     ]
    },
    {
     "name": "stderr",
     "output_type": "stream",
     "text": [
      "\r",
      " 95%|█████████▍| 753/793 [09:05<00:20,  1.96it/s]"
     ]
    },
    {
     "name": "stdout",
     "output_type": "stream",
     "text": [
      "http://nsideseb-env.us-east-1.elasticbeanstalk.com/api/v1/query?service=aeolus&meta=drugpairReactionCounts&q=1313184\n"
     ]
    },
    {
     "name": "stderr",
     "output_type": "stream",
     "text": [
      "\r",
      " 95%|█████████▌| 754/793 [09:06<00:19,  1.96it/s]"
     ]
    },
    {
     "name": "stdout",
     "output_type": "stream",
     "text": [
      "http://nsideseb-env.us-east-1.elasticbeanstalk.com/api/v1/query?service=aeolus&meta=drugpairReactionCounts&q=1313184\n"
     ]
    },
    {
     "name": "stderr",
     "output_type": "stream",
     "text": [
      "\r",
      " 95%|█████████▌| 755/793 [09:06<00:19,  1.92it/s]"
     ]
    },
    {
     "name": "stdout",
     "output_type": "stream",
     "text": [
      "http://nsideseb-env.us-east-1.elasticbeanstalk.com/api/v1/query?service=aeolus&meta=drugpairReactionCounts&q=1313184\n"
     ]
    },
    {
     "name": "stderr",
     "output_type": "stream",
     "text": [
      "\r",
      " 95%|█████████▌| 756/793 [09:07<00:19,  1.93it/s]"
     ]
    },
    {
     "name": "stdout",
     "output_type": "stream",
     "text": [
      "http://nsideseb-env.us-east-1.elasticbeanstalk.com/api/v1/query?service=aeolus&meta=drugpairReactionCounts&q=1313184\n"
     ]
    },
    {
     "name": "stderr",
     "output_type": "stream",
     "text": [
      "\r",
      " 95%|█████████▌| 757/793 [09:07<00:18,  1.92it/s]"
     ]
    },
    {
     "name": "stdout",
     "output_type": "stream",
     "text": [
      "http://nsideseb-env.us-east-1.elasticbeanstalk.com/api/v1/query?service=aeolus&meta=drugpairReactionCounts&q=1313184\n"
     ]
    },
    {
     "name": "stderr",
     "output_type": "stream",
     "text": [
      "\r",
      " 96%|█████████▌| 758/793 [09:08<00:18,  1.90it/s]"
     ]
    },
    {
     "name": "stdout",
     "output_type": "stream",
     "text": [
      "http://nsideseb-env.us-east-1.elasticbeanstalk.com/api/v1/query?service=aeolus&meta=drugpairReactionCounts&q=1313184\n"
     ]
    },
    {
     "name": "stderr",
     "output_type": "stream",
     "text": [
      "\r",
      " 96%|█████████▌| 759/793 [09:08<00:17,  1.90it/s]"
     ]
    },
    {
     "name": "stdout",
     "output_type": "stream",
     "text": [
      "http://nsideseb-env.us-east-1.elasticbeanstalk.com/api/v1/query?service=aeolus&meta=drugpairReactionCounts&q=1313184\n"
     ]
    },
    {
     "name": "stderr",
     "output_type": "stream",
     "text": [
      "\r",
      " 96%|█████████▌| 760/793 [09:09<00:17,  1.91it/s]"
     ]
    },
    {
     "name": "stdout",
     "output_type": "stream",
     "text": [
      "http://nsideseb-env.us-east-1.elasticbeanstalk.com/api/v1/query?service=aeolus&meta=drugpairReactionCounts&q=1313184\n"
     ]
    },
    {
     "name": "stderr",
     "output_type": "stream",
     "text": [
      "\r",
      " 96%|█████████▌| 761/793 [09:09<00:17,  1.87it/s]"
     ]
    },
    {
     "name": "stdout",
     "output_type": "stream",
     "text": [
      "http://nsideseb-env.us-east-1.elasticbeanstalk.com/api/v1/query?service=aeolus&meta=drugpairReactionCounts&q=1313184\n"
     ]
    },
    {
     "name": "stderr",
     "output_type": "stream",
     "text": [
      "\r",
      " 96%|█████████▌| 762/793 [09:10<00:16,  1.91it/s]"
     ]
    },
    {
     "name": "stdout",
     "output_type": "stream",
     "text": [
      "http://nsideseb-env.us-east-1.elasticbeanstalk.com/api/v1/query?service=aeolus&meta=drugpairReactionCounts&q=1313184\n"
     ]
    },
    {
     "name": "stderr",
     "output_type": "stream",
     "text": [
      "\r",
      " 96%|█████████▌| 763/793 [09:10<00:15,  1.94it/s]"
     ]
    },
    {
     "name": "stdout",
     "output_type": "stream",
     "text": [
      "http://nsideseb-env.us-east-1.elasticbeanstalk.com/api/v1/query?service=aeolus&meta=drugpairReactionCounts&q=1313184\n"
     ]
    },
    {
     "name": "stderr",
     "output_type": "stream",
     "text": [
      "\r",
      " 96%|█████████▋| 764/793 [09:11<00:14,  1.95it/s]"
     ]
    },
    {
     "name": "stdout",
     "output_type": "stream",
     "text": [
      "http://nsideseb-env.us-east-1.elasticbeanstalk.com/api/v1/query?service=aeolus&meta=drugpairReactionCounts&q=1313184\n"
     ]
    },
    {
     "name": "stderr",
     "output_type": "stream",
     "text": [
      "\r",
      " 96%|█████████▋| 765/793 [09:11<00:14,  1.95it/s]"
     ]
    },
    {
     "name": "stdout",
     "output_type": "stream",
     "text": [
      "http://nsideseb-env.us-east-1.elasticbeanstalk.com/api/v1/query?service=aeolus&meta=drugpairReactionCounts&q=1313184\n"
     ]
    },
    {
     "name": "stderr",
     "output_type": "stream",
     "text": [
      "\r",
      " 97%|█████████▋| 766/793 [09:12<00:13,  1.94it/s]"
     ]
    },
    {
     "name": "stdout",
     "output_type": "stream",
     "text": [
      "http://nsideseb-env.us-east-1.elasticbeanstalk.com/api/v1/query?service=aeolus&meta=drugpairReactionCounts&q=1313184\n"
     ]
    },
    {
     "name": "stderr",
     "output_type": "stream",
     "text": [
      "\r",
      " 97%|█████████▋| 767/793 [09:12<00:13,  1.94it/s]"
     ]
    },
    {
     "name": "stdout",
     "output_type": "stream",
     "text": [
      "http://nsideseb-env.us-east-1.elasticbeanstalk.com/api/v1/query?service=aeolus&meta=drugpairReactionCounts&q=1313184\n"
     ]
    },
    {
     "name": "stderr",
     "output_type": "stream",
     "text": [
      "\r",
      " 97%|█████████▋| 768/793 [09:13<00:12,  1.94it/s]"
     ]
    },
    {
     "name": "stdout",
     "output_type": "stream",
     "text": [
      "http://nsideseb-env.us-east-1.elasticbeanstalk.com/api/v1/query?service=aeolus&meta=drugpairReactionCounts&q=1313184\n"
     ]
    },
    {
     "name": "stderr",
     "output_type": "stream",
     "text": [
      "\r",
      " 97%|█████████▋| 769/793 [09:13<00:12,  1.93it/s]"
     ]
    },
    {
     "name": "stdout",
     "output_type": "stream",
     "text": [
      "http://nsideseb-env.us-east-1.elasticbeanstalk.com/api/v1/query?service=aeolus&meta=drugpairReactionCounts&q=1313184\n"
     ]
    },
    {
     "name": "stderr",
     "output_type": "stream",
     "text": [
      "\r",
      " 97%|█████████▋| 770/793 [09:14<00:11,  1.92it/s]"
     ]
    },
    {
     "name": "stdout",
     "output_type": "stream",
     "text": [
      "http://nsideseb-env.us-east-1.elasticbeanstalk.com/api/v1/query?service=aeolus&meta=drugpairReactionCounts&q=1313184\n"
     ]
    },
    {
     "name": "stderr",
     "output_type": "stream",
     "text": [
      "\r",
      " 97%|█████████▋| 771/793 [09:15<00:11,  1.94it/s]"
     ]
    },
    {
     "name": "stdout",
     "output_type": "stream",
     "text": [
      "http://nsideseb-env.us-east-1.elasticbeanstalk.com/api/v1/query?service=aeolus&meta=drugpairReactionCounts&q=1313184\n"
     ]
    },
    {
     "name": "stderr",
     "output_type": "stream",
     "text": [
      "\r",
      " 97%|█████████▋| 772/793 [09:15<00:10,  1.96it/s]"
     ]
    },
    {
     "name": "stdout",
     "output_type": "stream",
     "text": [
      "http://nsideseb-env.us-east-1.elasticbeanstalk.com/api/v1/query?service=aeolus&meta=drugpairReactionCounts&q=1313184\n"
     ]
    },
    {
     "name": "stderr",
     "output_type": "stream",
     "text": [
      "\r",
      " 97%|█████████▋| 773/793 [09:16<00:10,  1.96it/s]"
     ]
    },
    {
     "name": "stdout",
     "output_type": "stream",
     "text": [
      "http://nsideseb-env.us-east-1.elasticbeanstalk.com/api/v1/query?service=aeolus&meta=drugpairReactionCounts&q=1313184\n"
     ]
    },
    {
     "name": "stderr",
     "output_type": "stream",
     "text": [
      "\r",
      " 98%|█████████▊| 774/793 [09:16<00:09,  1.95it/s]"
     ]
    },
    {
     "name": "stdout",
     "output_type": "stream",
     "text": [
      "http://nsideseb-env.us-east-1.elasticbeanstalk.com/api/v1/query?service=aeolus&meta=drugpairReactionCounts&q=1313184\n"
     ]
    },
    {
     "name": "stderr",
     "output_type": "stream",
     "text": [
      "\r",
      " 98%|█████████▊| 775/793 [09:17<00:09,  1.94it/s]"
     ]
    },
    {
     "name": "stdout",
     "output_type": "stream",
     "text": [
      "http://nsideseb-env.us-east-1.elasticbeanstalk.com/api/v1/query?service=aeolus&meta=drugpairReactionCounts&q=1313184\n"
     ]
    },
    {
     "name": "stderr",
     "output_type": "stream",
     "text": [
      "\r",
      " 98%|█████████▊| 776/793 [09:17<00:08,  1.95it/s]"
     ]
    },
    {
     "name": "stdout",
     "output_type": "stream",
     "text": [
      "http://nsideseb-env.us-east-1.elasticbeanstalk.com/api/v1/query?service=aeolus&meta=drugpairReactionCounts&q=1313184\n"
     ]
    },
    {
     "name": "stderr",
     "output_type": "stream",
     "text": [
      "\r",
      " 98%|█████████▊| 777/793 [09:18<00:08,  1.96it/s]"
     ]
    },
    {
     "name": "stdout",
     "output_type": "stream",
     "text": [
      "http://nsideseb-env.us-east-1.elasticbeanstalk.com/api/v1/query?service=aeolus&meta=drugpairReactionCounts&q=1313184\n"
     ]
    },
    {
     "name": "stderr",
     "output_type": "stream",
     "text": [
      "\r",
      " 98%|█████████▊| 778/793 [09:18<00:07,  1.98it/s]"
     ]
    },
    {
     "name": "stdout",
     "output_type": "stream",
     "text": [
      "http://nsideseb-env.us-east-1.elasticbeanstalk.com/api/v1/query?service=aeolus&meta=drugpairReactionCounts&q=1313184\n"
     ]
    },
    {
     "name": "stderr",
     "output_type": "stream",
     "text": [
      "\r",
      " 98%|█████████▊| 779/793 [09:19<00:07,  1.99it/s]"
     ]
    },
    {
     "name": "stdout",
     "output_type": "stream",
     "text": [
      "http://nsideseb-env.us-east-1.elasticbeanstalk.com/api/v1/query?service=aeolus&meta=drugpairReactionCounts&q=1313184\n"
     ]
    },
    {
     "name": "stderr",
     "output_type": "stream",
     "text": [
      "\r",
      " 98%|█████████▊| 780/793 [09:19<00:06,  1.97it/s]"
     ]
    },
    {
     "name": "stdout",
     "output_type": "stream",
     "text": [
      "http://nsideseb-env.us-east-1.elasticbeanstalk.com/api/v1/query?service=aeolus&meta=drugpairReactionCounts&q=1313184\n"
     ]
    },
    {
     "name": "stderr",
     "output_type": "stream",
     "text": [
      "\r",
      " 98%|█████████▊| 781/793 [09:20<00:06,  1.97it/s]"
     ]
    },
    {
     "name": "stdout",
     "output_type": "stream",
     "text": [
      "http://nsideseb-env.us-east-1.elasticbeanstalk.com/api/v1/query?service=aeolus&meta=drugpairReactionCounts&q=1313184\n"
     ]
    },
    {
     "name": "stderr",
     "output_type": "stream",
     "text": [
      "\r",
      " 99%|█████████▊| 782/793 [09:20<00:05,  1.92it/s]"
     ]
    },
    {
     "name": "stdout",
     "output_type": "stream",
     "text": [
      "http://nsideseb-env.us-east-1.elasticbeanstalk.com/api/v1/query?service=aeolus&meta=drugpairReactionCounts&q=1313184\n"
     ]
    },
    {
     "name": "stderr",
     "output_type": "stream",
     "text": [
      "\r",
      " 99%|█████████▊| 783/793 [09:21<00:05,  1.93it/s]"
     ]
    },
    {
     "name": "stdout",
     "output_type": "stream",
     "text": [
      "http://nsideseb-env.us-east-1.elasticbeanstalk.com/api/v1/query?service=aeolus&meta=drugpairReactionCounts&q=1313184\n"
     ]
    },
    {
     "name": "stderr",
     "output_type": "stream",
     "text": [
      "\r",
      " 99%|█████████▉| 784/793 [09:21<00:04,  1.93it/s]"
     ]
    },
    {
     "name": "stdout",
     "output_type": "stream",
     "text": [
      "http://nsideseb-env.us-east-1.elasticbeanstalk.com/api/v1/query?service=aeolus&meta=drugpairReactionCounts&q=1313184\n"
     ]
    },
    {
     "name": "stderr",
     "output_type": "stream",
     "text": [
      "\r",
      " 99%|█████████▉| 785/793 [09:22<00:04,  1.91it/s]"
     ]
    },
    {
     "name": "stdout",
     "output_type": "stream",
     "text": [
      "http://nsideseb-env.us-east-1.elasticbeanstalk.com/api/v1/query?service=aeolus&meta=drugpairReactionCounts&q=1313184\n"
     ]
    },
    {
     "name": "stderr",
     "output_type": "stream",
     "text": [
      "\r",
      " 99%|█████████▉| 786/793 [09:22<00:03,  1.93it/s]"
     ]
    },
    {
     "name": "stdout",
     "output_type": "stream",
     "text": [
      "http://nsideseb-env.us-east-1.elasticbeanstalk.com/api/v1/query?service=aeolus&meta=drugpairReactionCounts&q=1313184\n"
     ]
    },
    {
     "name": "stderr",
     "output_type": "stream",
     "text": [
      "\r",
      " 99%|█████████▉| 787/793 [09:23<00:03,  1.94it/s]"
     ]
    },
    {
     "name": "stdout",
     "output_type": "stream",
     "text": [
      "http://nsideseb-env.us-east-1.elasticbeanstalk.com/api/v1/query?service=aeolus&meta=drugpairReactionCounts&q=1313184\n"
     ]
    },
    {
     "name": "stderr",
     "output_type": "stream",
     "text": [
      "\r",
      " 99%|█████████▉| 788/793 [09:23<00:02,  1.92it/s]"
     ]
    },
    {
     "name": "stdout",
     "output_type": "stream",
     "text": [
      "http://nsideseb-env.us-east-1.elasticbeanstalk.com/api/v1/query?service=aeolus&meta=drugpairReactionCounts&q=1313184\n"
     ]
    },
    {
     "name": "stderr",
     "output_type": "stream",
     "text": [
      "\r",
      " 99%|█████████▉| 789/793 [09:24<00:02,  1.93it/s]"
     ]
    },
    {
     "name": "stdout",
     "output_type": "stream",
     "text": [
      "http://nsideseb-env.us-east-1.elasticbeanstalk.com/api/v1/query?service=aeolus&meta=drugpairReactionCounts&q=1313184\n"
     ]
    },
    {
     "name": "stderr",
     "output_type": "stream",
     "text": [
      "\r",
      "100%|█████████▉| 790/793 [09:24<00:01,  1.93it/s]"
     ]
    },
    {
     "name": "stdout",
     "output_type": "stream",
     "text": [
      "http://nsideseb-env.us-east-1.elasticbeanstalk.com/api/v1/query?service=aeolus&meta=drugpairReactionCounts&q=1313184\n"
     ]
    },
    {
     "name": "stderr",
     "output_type": "stream",
     "text": [
      "\r",
      "100%|█████████▉| 791/793 [09:25<00:01,  1.96it/s]"
     ]
    },
    {
     "name": "stdout",
     "output_type": "stream",
     "text": [
      "http://nsideseb-env.us-east-1.elasticbeanstalk.com/api/v1/query?service=aeolus&meta=drugpairReactionCounts&q=1313184\n"
     ]
    },
    {
     "name": "stderr",
     "output_type": "stream",
     "text": [
      "\r",
      "100%|█████████▉| 792/793 [09:25<00:00,  1.95it/s]"
     ]
    },
    {
     "name": "stdout",
     "output_type": "stream",
     "text": [
      "http://nsideseb-env.us-east-1.elasticbeanstalk.com/api/v1/query?service=aeolus&meta=drugpairReactionCounts&q=1313184\n"
     ]
    },
    {
     "name": "stderr",
     "output_type": "stream",
     "text": [
      "100%|██████████| 793/793 [09:26<00:00,  1.95it/s]\n"
     ]
    },
    {
     "data": {
      "text/plain": [
       "1313184"
      ]
     },
     "execution_count": 43,
     "metadata": {},
     "output_type": "execute_result"
    }
   ],
   "source": [
    "#query?service=aeolus&meta=drugpairReactionCounts&q=0\n",
    "data = nsides_api('aeolus', 'drugpairReactionCounts', {'q':0})\n",
    "\n",
    "aeolus_drugpairReactionCounts = dict()\n",
    "aeolus_drugpairReactionCounts['results'] = list()\n",
    "\n",
    "for start in tqdm(range(0, data[0]['nrows'][0], 10000)):    \n",
    "    aeolus_drugpairReactionCounts['results'].extend(data[0]['results'])    \n",
    "    start = len(aeolus_drugpairReactionCounts['results'])\n",
    "    data = nsides_api('aeolus', 'drugpairReactionCounts', {'q': start})\n",
    "\n",
    "len(aeolus_drugpairReactionCounts['results'])"
   ]
  },
  {
   "cell_type": "code",
   "execution_count": 44,
   "metadata": {},
   "outputs": [
    {
     "data": {
      "text/plain": [
       "{u'drug1_concept_id': 19111620,\n",
       " u'drug2_concept_id': 19122121,\n",
       " u'n_d1d2': 722,\n",
       " u'n_d1d2ae': 38,\n",
       " u'outcome_concept_id': 37622529}"
      ]
     },
     "execution_count": 44,
     "metadata": {},
     "output_type": "execute_result"
    }
   ],
   "source": [
    "aeolus_drugpairReactionCounts['results'][0]"
   ]
  },
  {
   "cell_type": "code",
   "execution_count": 45,
   "metadata": {
    "collapsed": true
   },
   "outputs": [],
   "source": [
    "# build the frequency table for drugpairs\n",
    "def make_lsd_testing_table():\n",
    "    ae_frequencies_ddi_testing = np.zeros((len(all_drugpairs),len(all_pairoutcomes)))\n",
    "    \n",
    "    for r in tqdm(aeolus_drugpairReactionCounts['results']):\n",
    "        \n",
    "        drugpair = (r['drug1_concept_id'],r['drug2_concept_id'])\n",
    "        if r['outcome_concept_id'] in all_pairoutcomes:\n",
    "            x_index = all_drugpairs.index(drugpair)\n",
    "            y_index = all_pairoutcomes.index(r['outcome_concept_id'])\n",
    "            \n",
    "            frequency = float(r['n_d1d2ae'])/float(r['n_d1d2'])\n",
    "            \n",
    "            ae_frequencies_ddi_testing[x_index,y_index] = frequency    \n",
    "                \n",
    "    return ae_frequencies_ddi_testing"
   ]
  },
  {
   "cell_type": "code",
   "execution_count": 118,
   "metadata": {},
   "outputs": [
    {
     "name": "stderr",
     "output_type": "stream",
     "text": [
      "100%|██████████| 1313184/1313184 [18:54<00:00, 1158.01it/s]\n"
     ]
    }
   ],
   "source": [
    "X_test = make_lsd_testing_table()"
   ]
  },
  {
   "cell_type": "code",
   "execution_count": 122,
   "metadata": {},
   "outputs": [
    {
     "name": "stdout",
     "output_type": "stream",
     "text": [
      "(51, 199)\n",
      "(39800, 199)\n",
      "(51,)\n",
      "17\n"
     ]
    },
    {
     "data": {
      "text/plain": [
       "(72613.835694147696, 0.009168182077996476)"
      ]
     },
     "execution_count": 122,
     "metadata": {},
     "output_type": "execute_result"
    }
   ],
   "source": [
    "print X.shape #Dimension of the ae frequencies training table\n",
    "print X_test.shape #Dimension of the ae frequencies ddi testing table\n",
    "print y.shape #Number of outcomes (positive + negative controls)\n",
    "\n",
    "#print len(aeolus_drugpairReactionCounts['results'])\n",
    "\n",
    "print np.sum(y)\n",
    "\n",
    "X_test.sum(), X_test.mean()"
   ]
  },
  {
   "cell_type": "markdown",
   "metadata": {},
   "source": [
    "## Features reduction (to avoid overfitting)"
   ]
  },
  {
   "cell_type": "code",
   "execution_count": 48,
   "metadata": {
    "collapsed": true
   },
   "outputs": [],
   "source": [
    "#Need to reduce the number of features: 199 features is too much compared to 'only' 272 examples (i.e pos+neg controls)\n",
    "#Method: L1 (lasso) regularization + 10 fold cross-validation"
   ]
  },
  {
   "cell_type": "code",
   "execution_count": 83,
   "metadata": {
    "collapsed": true
   },
   "outputs": [],
   "source": [
    "# Features reduction using L1 regularization + 10-folds cross-validation\n",
    "\n",
    "def l1_regression(X, y, alpha, predictions):\n",
    "    l1 = Lasso(alpha=alpha,fit_intercept=True, max_iter=100000, tol=0.0001)\n",
    "    l1.fit(X,y)\n",
    "    y_pred = l1.predict(X)\n",
    "    coef = l1.coef_\n",
    "    \n",
    "    auc_score = roc_auc_score(y, y_pred)\n",
    "    print 'auc score: %f' %auc_score\n",
    "    predictions.append([(pred, label) for label,pred in zip(y, y_pred)])\n",
    "    \n",
    "    nb_coef = 0\n",
    "    for i in range (0, len(coef)):\n",
    "        if coef[i] != 0.:\n",
    "            nb_coef+=1\n",
    "    print \"Number of coef with alpha = %f: %d\" %(alpha,nb_coef)\n",
    "    #print \"l1 intercept: %f \" %l1.intercept_\n",
    "    return coef, auc_score   "
   ]
  },
  {
   "cell_type": "code",
   "execution_count": 120,
   "metadata": {},
   "outputs": [
    {
     "name": "stdout",
     "output_type": "stream",
     "text": [
      "auc score: 0.964533\n",
      "Number of coef with alpha = 0.000060: 17\n",
      "auc score: 0.966263\n",
      "Number of coef with alpha = 0.000070: 19\n",
      "auc score: 0.966263\n",
      "Number of coef with alpha = 0.000080: 16\n",
      "auc score: 0.966263\n",
      "Number of coef with alpha = 0.000090: 17\n",
      "auc score: 0.966263\n",
      "Number of coef with alpha = 0.000100: 18\n",
      "auc score: 0.959343\n",
      "Number of coef with alpha = 0.000200: 12\n",
      "auc score: 0.945502\n",
      "Number of coef with alpha = 0.000300: 10\n",
      "auc score: 0.949827\n",
      "Number of coef with alpha = 0.000400: 8\n",
      "auc score: 0.921280\n",
      "Number of coef with alpha = 0.000600: 5\n",
      "auc score: 0.917820\n",
      "Number of coef with alpha = 0.000700: 4\n"
     ]
    }
   ],
   "source": [
    "# We build 6 different potential fingerprint (with a different number of features each time)\n",
    "alphas = [0.00006, 0.00007, 0.00008, 0.00009, 1e-4, 0.0002, 0.0003, 0.0004, 0.0006, 0.0007]\n",
    "\n",
    "coef_lasso= np.zeros((len(alphas),len(all_pairoutcomes)))\n",
    "predictions = list()\n",
    "\n",
    "for i in range (0, len(alphas)):\n",
    "    coef, auc_score = l1_regression(X, y, alphas[i], predictions)\n",
    "    for j in range(0,len(all_pairoutcomes)):\n",
    "        coef_lasso[i][j] = coef[j] "
   ]
  },
  {
   "cell_type": "code",
   "execution_count": 125,
   "metadata": {},
   "outputs": [
    {
     "name": "stdout",
     "output_type": "stream",
     "text": [
      "17\n",
      "51\n"
     ]
    },
    {
     "ename": "ValueError",
     "evalue": "Only one class present in y_true. ROC AUC score is not defined in that case.",
     "output_type": "error",
     "traceback": [
      "\u001b[0;31m---------------------------------------------------------------------------\u001b[0m",
      "\u001b[0;31mValueError\u001b[0m                                Traceback (most recent call last)",
      "\u001b[0;32m<ipython-input-125-ffffcc5f667d>\u001b[0m in \u001b[0;36m<module>\u001b[0;34m()\u001b[0m\n\u001b[1;32m     11\u001b[0m     \u001b[0;32mprint\u001b[0m \u001b[0mlen\u001b[0m\u001b[0;34m(\u001b[0m\u001b[0my\u001b[0m\u001b[0;34m)\u001b[0m\u001b[0;34m\u001b[0m\u001b[0m\n\u001b[1;32m     12\u001b[0m     \u001b[0mcv\u001b[0m \u001b[0;34m=\u001b[0m \u001b[0mShuffleSplit\u001b[0m\u001b[0;34m(\u001b[0m\u001b[0mn_splits\u001b[0m\u001b[0;34m=\u001b[0m\u001b[0mn_folds\u001b[0m\u001b[0;34m)\u001b[0m\u001b[0;34m\u001b[0m\u001b[0m\n\u001b[0;32m---> 13\u001b[0;31m     \u001b[0mthis_scores\u001b[0m \u001b[0;34m=\u001b[0m \u001b[0mcross_val_score\u001b[0m\u001b[0;34m(\u001b[0m\u001b[0mlasso_fit\u001b[0m\u001b[0;34m,\u001b[0m \u001b[0mX\u001b[0m\u001b[0;34m,\u001b[0m \u001b[0my\u001b[0m\u001b[0;34m,\u001b[0m \u001b[0mscoring\u001b[0m\u001b[0;34m=\u001b[0m\u001b[0;34m'roc_auc'\u001b[0m\u001b[0;34m,\u001b[0m \u001b[0mcv\u001b[0m\u001b[0;34m=\u001b[0m\u001b[0mcv\u001b[0m\u001b[0;34m,\u001b[0m \u001b[0mn_jobs\u001b[0m\u001b[0;34m=\u001b[0m\u001b[0;36m1\u001b[0m\u001b[0;34m)\u001b[0m\u001b[0;34m\u001b[0m\u001b[0m\n\u001b[0m\u001b[1;32m     14\u001b[0m     \u001b[0;32mprint\u001b[0m \u001b[0mthis_scores\u001b[0m\u001b[0;34m\u001b[0m\u001b[0m\n\u001b[1;32m     15\u001b[0m     \u001b[0mscores\u001b[0m\u001b[0;34m.\u001b[0m\u001b[0mappend\u001b[0m\u001b[0;34m(\u001b[0m\u001b[0mnp\u001b[0m\u001b[0;34m.\u001b[0m\u001b[0mmean\u001b[0m\u001b[0;34m(\u001b[0m\u001b[0mthis_scores\u001b[0m\u001b[0;34m)\u001b[0m\u001b[0;34m)\u001b[0m\u001b[0;34m\u001b[0m\u001b[0m\n",
      "\u001b[0;32m/usr/local/lib/python2.7/dist-packages/sklearn/model_selection/_validation.pyc\u001b[0m in \u001b[0;36mcross_val_score\u001b[0;34m(estimator, X, y, groups, scoring, cv, n_jobs, verbose, fit_params, pre_dispatch)\u001b[0m\n\u001b[1;32m    138\u001b[0m                                               \u001b[0mtrain\u001b[0m\u001b[0;34m,\u001b[0m \u001b[0mtest\u001b[0m\u001b[0;34m,\u001b[0m \u001b[0mverbose\u001b[0m\u001b[0;34m,\u001b[0m \u001b[0mNone\u001b[0m\u001b[0;34m,\u001b[0m\u001b[0;34m\u001b[0m\u001b[0m\n\u001b[1;32m    139\u001b[0m                                               fit_params)\n\u001b[0;32m--> 140\u001b[0;31m                       for train, test in cv_iter)\n\u001b[0m\u001b[1;32m    141\u001b[0m     \u001b[0;32mreturn\u001b[0m \u001b[0mnp\u001b[0m\u001b[0;34m.\u001b[0m\u001b[0marray\u001b[0m\u001b[0;34m(\u001b[0m\u001b[0mscores\u001b[0m\u001b[0;34m)\u001b[0m\u001b[0;34m[\u001b[0m\u001b[0;34m:\u001b[0m\u001b[0;34m,\u001b[0m \u001b[0;36m0\u001b[0m\u001b[0;34m]\u001b[0m\u001b[0;34m\u001b[0m\u001b[0m\n\u001b[1;32m    142\u001b[0m \u001b[0;34m\u001b[0m\u001b[0m\n",
      "\u001b[0;32m/usr/local/lib/python2.7/dist-packages/sklearn/externals/joblib/parallel.pyc\u001b[0m in \u001b[0;36m__call__\u001b[0;34m(self, iterable)\u001b[0m\n\u001b[1;32m    756\u001b[0m             \u001b[0;31m# was dispatched. In particular this covers the edge\u001b[0m\u001b[0;34m\u001b[0m\u001b[0;34m\u001b[0m\u001b[0m\n\u001b[1;32m    757\u001b[0m             \u001b[0;31m# case of Parallel used with an exhausted iterator.\u001b[0m\u001b[0;34m\u001b[0m\u001b[0;34m\u001b[0m\u001b[0m\n\u001b[0;32m--> 758\u001b[0;31m             \u001b[0;32mwhile\u001b[0m \u001b[0mself\u001b[0m\u001b[0;34m.\u001b[0m\u001b[0mdispatch_one_batch\u001b[0m\u001b[0;34m(\u001b[0m\u001b[0miterator\u001b[0m\u001b[0;34m)\u001b[0m\u001b[0;34m:\u001b[0m\u001b[0;34m\u001b[0m\u001b[0m\n\u001b[0m\u001b[1;32m    759\u001b[0m                 \u001b[0mself\u001b[0m\u001b[0;34m.\u001b[0m\u001b[0m_iterating\u001b[0m \u001b[0;34m=\u001b[0m \u001b[0mTrue\u001b[0m\u001b[0;34m\u001b[0m\u001b[0m\n\u001b[1;32m    760\u001b[0m             \u001b[0;32melse\u001b[0m\u001b[0;34m:\u001b[0m\u001b[0;34m\u001b[0m\u001b[0m\n",
      "\u001b[0;32m/usr/local/lib/python2.7/dist-packages/sklearn/externals/joblib/parallel.pyc\u001b[0m in \u001b[0;36mdispatch_one_batch\u001b[0;34m(self, iterator)\u001b[0m\n\u001b[1;32m    606\u001b[0m                 \u001b[0;32mreturn\u001b[0m \u001b[0mFalse\u001b[0m\u001b[0;34m\u001b[0m\u001b[0m\n\u001b[1;32m    607\u001b[0m             \u001b[0;32melse\u001b[0m\u001b[0;34m:\u001b[0m\u001b[0;34m\u001b[0m\u001b[0m\n\u001b[0;32m--> 608\u001b[0;31m                 \u001b[0mself\u001b[0m\u001b[0;34m.\u001b[0m\u001b[0m_dispatch\u001b[0m\u001b[0;34m(\u001b[0m\u001b[0mtasks\u001b[0m\u001b[0;34m)\u001b[0m\u001b[0;34m\u001b[0m\u001b[0m\n\u001b[0m\u001b[1;32m    609\u001b[0m                 \u001b[0;32mreturn\u001b[0m \u001b[0mTrue\u001b[0m\u001b[0;34m\u001b[0m\u001b[0m\n\u001b[1;32m    610\u001b[0m \u001b[0;34m\u001b[0m\u001b[0m\n",
      "\u001b[0;32m/usr/local/lib/python2.7/dist-packages/sklearn/externals/joblib/parallel.pyc\u001b[0m in \u001b[0;36m_dispatch\u001b[0;34m(self, batch)\u001b[0m\n\u001b[1;32m    569\u001b[0m         \u001b[0mdispatch_timestamp\u001b[0m \u001b[0;34m=\u001b[0m \u001b[0mtime\u001b[0m\u001b[0;34m.\u001b[0m\u001b[0mtime\u001b[0m\u001b[0;34m(\u001b[0m\u001b[0;34m)\u001b[0m\u001b[0;34m\u001b[0m\u001b[0m\n\u001b[1;32m    570\u001b[0m         \u001b[0mcb\u001b[0m \u001b[0;34m=\u001b[0m \u001b[0mBatchCompletionCallBack\u001b[0m\u001b[0;34m(\u001b[0m\u001b[0mdispatch_timestamp\u001b[0m\u001b[0;34m,\u001b[0m \u001b[0mlen\u001b[0m\u001b[0;34m(\u001b[0m\u001b[0mbatch\u001b[0m\u001b[0;34m)\u001b[0m\u001b[0;34m,\u001b[0m \u001b[0mself\u001b[0m\u001b[0;34m)\u001b[0m\u001b[0;34m\u001b[0m\u001b[0m\n\u001b[0;32m--> 571\u001b[0;31m         \u001b[0mjob\u001b[0m \u001b[0;34m=\u001b[0m \u001b[0mself\u001b[0m\u001b[0;34m.\u001b[0m\u001b[0m_backend\u001b[0m\u001b[0;34m.\u001b[0m\u001b[0mapply_async\u001b[0m\u001b[0;34m(\u001b[0m\u001b[0mbatch\u001b[0m\u001b[0;34m,\u001b[0m \u001b[0mcallback\u001b[0m\u001b[0;34m=\u001b[0m\u001b[0mcb\u001b[0m\u001b[0;34m)\u001b[0m\u001b[0;34m\u001b[0m\u001b[0m\n\u001b[0m\u001b[1;32m    572\u001b[0m         \u001b[0mself\u001b[0m\u001b[0;34m.\u001b[0m\u001b[0m_jobs\u001b[0m\u001b[0;34m.\u001b[0m\u001b[0mappend\u001b[0m\u001b[0;34m(\u001b[0m\u001b[0mjob\u001b[0m\u001b[0;34m)\u001b[0m\u001b[0;34m\u001b[0m\u001b[0m\n\u001b[1;32m    573\u001b[0m \u001b[0;34m\u001b[0m\u001b[0m\n",
      "\u001b[0;32m/usr/local/lib/python2.7/dist-packages/sklearn/externals/joblib/_parallel_backends.pyc\u001b[0m in \u001b[0;36mapply_async\u001b[0;34m(self, func, callback)\u001b[0m\n\u001b[1;32m    107\u001b[0m     \u001b[0;32mdef\u001b[0m \u001b[0mapply_async\u001b[0m\u001b[0;34m(\u001b[0m\u001b[0mself\u001b[0m\u001b[0;34m,\u001b[0m \u001b[0mfunc\u001b[0m\u001b[0;34m,\u001b[0m \u001b[0mcallback\u001b[0m\u001b[0;34m=\u001b[0m\u001b[0mNone\u001b[0m\u001b[0;34m)\u001b[0m\u001b[0;34m:\u001b[0m\u001b[0;34m\u001b[0m\u001b[0m\n\u001b[1;32m    108\u001b[0m         \u001b[0;34m\"\"\"Schedule a func to be run\"\"\"\u001b[0m\u001b[0;34m\u001b[0m\u001b[0m\n\u001b[0;32m--> 109\u001b[0;31m         \u001b[0mresult\u001b[0m \u001b[0;34m=\u001b[0m \u001b[0mImmediateResult\u001b[0m\u001b[0;34m(\u001b[0m\u001b[0mfunc\u001b[0m\u001b[0;34m)\u001b[0m\u001b[0;34m\u001b[0m\u001b[0m\n\u001b[0m\u001b[1;32m    110\u001b[0m         \u001b[0;32mif\u001b[0m \u001b[0mcallback\u001b[0m\u001b[0;34m:\u001b[0m\u001b[0;34m\u001b[0m\u001b[0m\n\u001b[1;32m    111\u001b[0m             \u001b[0mcallback\u001b[0m\u001b[0;34m(\u001b[0m\u001b[0mresult\u001b[0m\u001b[0;34m)\u001b[0m\u001b[0;34m\u001b[0m\u001b[0m\n",
      "\u001b[0;32m/usr/local/lib/python2.7/dist-packages/sklearn/externals/joblib/_parallel_backends.pyc\u001b[0m in \u001b[0;36m__init__\u001b[0;34m(self, batch)\u001b[0m\n\u001b[1;32m    324\u001b[0m         \u001b[0;31m# Don't delay the application, to avoid keeping the input\u001b[0m\u001b[0;34m\u001b[0m\u001b[0;34m\u001b[0m\u001b[0m\n\u001b[1;32m    325\u001b[0m         \u001b[0;31m# arguments in memory\u001b[0m\u001b[0;34m\u001b[0m\u001b[0;34m\u001b[0m\u001b[0m\n\u001b[0;32m--> 326\u001b[0;31m         \u001b[0mself\u001b[0m\u001b[0;34m.\u001b[0m\u001b[0mresults\u001b[0m \u001b[0;34m=\u001b[0m \u001b[0mbatch\u001b[0m\u001b[0;34m(\u001b[0m\u001b[0;34m)\u001b[0m\u001b[0;34m\u001b[0m\u001b[0m\n\u001b[0m\u001b[1;32m    327\u001b[0m \u001b[0;34m\u001b[0m\u001b[0m\n\u001b[1;32m    328\u001b[0m     \u001b[0;32mdef\u001b[0m \u001b[0mget\u001b[0m\u001b[0;34m(\u001b[0m\u001b[0mself\u001b[0m\u001b[0;34m)\u001b[0m\u001b[0;34m:\u001b[0m\u001b[0;34m\u001b[0m\u001b[0m\n",
      "\u001b[0;32m/usr/local/lib/python2.7/dist-packages/sklearn/externals/joblib/parallel.pyc\u001b[0m in \u001b[0;36m__call__\u001b[0;34m(self)\u001b[0m\n\u001b[1;32m    129\u001b[0m \u001b[0;34m\u001b[0m\u001b[0m\n\u001b[1;32m    130\u001b[0m     \u001b[0;32mdef\u001b[0m \u001b[0m__call__\u001b[0m\u001b[0;34m(\u001b[0m\u001b[0mself\u001b[0m\u001b[0;34m)\u001b[0m\u001b[0;34m:\u001b[0m\u001b[0;34m\u001b[0m\u001b[0m\n\u001b[0;32m--> 131\u001b[0;31m         \u001b[0;32mreturn\u001b[0m \u001b[0;34m[\u001b[0m\u001b[0mfunc\u001b[0m\u001b[0;34m(\u001b[0m\u001b[0;34m*\u001b[0m\u001b[0margs\u001b[0m\u001b[0;34m,\u001b[0m \u001b[0;34m**\u001b[0m\u001b[0mkwargs\u001b[0m\u001b[0;34m)\u001b[0m \u001b[0;32mfor\u001b[0m \u001b[0mfunc\u001b[0m\u001b[0;34m,\u001b[0m \u001b[0margs\u001b[0m\u001b[0;34m,\u001b[0m \u001b[0mkwargs\u001b[0m \u001b[0;32min\u001b[0m \u001b[0mself\u001b[0m\u001b[0;34m.\u001b[0m\u001b[0mitems\u001b[0m\u001b[0;34m]\u001b[0m\u001b[0;34m\u001b[0m\u001b[0m\n\u001b[0m\u001b[1;32m    132\u001b[0m \u001b[0;34m\u001b[0m\u001b[0m\n\u001b[1;32m    133\u001b[0m     \u001b[0;32mdef\u001b[0m \u001b[0m__len__\u001b[0m\u001b[0;34m(\u001b[0m\u001b[0mself\u001b[0m\u001b[0;34m)\u001b[0m\u001b[0;34m:\u001b[0m\u001b[0;34m\u001b[0m\u001b[0m\n",
      "\u001b[0;32m/usr/local/lib/python2.7/dist-packages/sklearn/model_selection/_validation.pyc\u001b[0m in \u001b[0;36m_fit_and_score\u001b[0;34m(estimator, X, y, scorer, train, test, verbose, parameters, fit_params, return_train_score, return_parameters, return_n_test_samples, return_times, error_score)\u001b[0m\n\u001b[1;32m    258\u001b[0m     \u001b[0;32melse\u001b[0m\u001b[0;34m:\u001b[0m\u001b[0;34m\u001b[0m\u001b[0m\n\u001b[1;32m    259\u001b[0m         \u001b[0mfit_time\u001b[0m \u001b[0;34m=\u001b[0m \u001b[0mtime\u001b[0m\u001b[0;34m.\u001b[0m\u001b[0mtime\u001b[0m\u001b[0;34m(\u001b[0m\u001b[0;34m)\u001b[0m \u001b[0;34m-\u001b[0m \u001b[0mstart_time\u001b[0m\u001b[0;34m\u001b[0m\u001b[0m\n\u001b[0;32m--> 260\u001b[0;31m         \u001b[0mtest_score\u001b[0m \u001b[0;34m=\u001b[0m \u001b[0m_score\u001b[0m\u001b[0;34m(\u001b[0m\u001b[0mestimator\u001b[0m\u001b[0;34m,\u001b[0m \u001b[0mX_test\u001b[0m\u001b[0;34m,\u001b[0m \u001b[0my_test\u001b[0m\u001b[0;34m,\u001b[0m \u001b[0mscorer\u001b[0m\u001b[0;34m)\u001b[0m\u001b[0;34m\u001b[0m\u001b[0m\n\u001b[0m\u001b[1;32m    261\u001b[0m         \u001b[0mscore_time\u001b[0m \u001b[0;34m=\u001b[0m \u001b[0mtime\u001b[0m\u001b[0;34m.\u001b[0m\u001b[0mtime\u001b[0m\u001b[0;34m(\u001b[0m\u001b[0;34m)\u001b[0m \u001b[0;34m-\u001b[0m \u001b[0mstart_time\u001b[0m \u001b[0;34m-\u001b[0m \u001b[0mfit_time\u001b[0m\u001b[0;34m\u001b[0m\u001b[0m\n\u001b[1;32m    262\u001b[0m         \u001b[0;32mif\u001b[0m \u001b[0mreturn_train_score\u001b[0m\u001b[0;34m:\u001b[0m\u001b[0;34m\u001b[0m\u001b[0m\n",
      "\u001b[0;32m/usr/local/lib/python2.7/dist-packages/sklearn/model_selection/_validation.pyc\u001b[0m in \u001b[0;36m_score\u001b[0;34m(estimator, X_test, y_test, scorer)\u001b[0m\n\u001b[1;32m    286\u001b[0m         \u001b[0mscore\u001b[0m \u001b[0;34m=\u001b[0m \u001b[0mscorer\u001b[0m\u001b[0;34m(\u001b[0m\u001b[0mestimator\u001b[0m\u001b[0;34m,\u001b[0m \u001b[0mX_test\u001b[0m\u001b[0;34m)\u001b[0m\u001b[0;34m\u001b[0m\u001b[0m\n\u001b[1;32m    287\u001b[0m     \u001b[0;32melse\u001b[0m\u001b[0;34m:\u001b[0m\u001b[0;34m\u001b[0m\u001b[0m\n\u001b[0;32m--> 288\u001b[0;31m         \u001b[0mscore\u001b[0m \u001b[0;34m=\u001b[0m \u001b[0mscorer\u001b[0m\u001b[0;34m(\u001b[0m\u001b[0mestimator\u001b[0m\u001b[0;34m,\u001b[0m \u001b[0mX_test\u001b[0m\u001b[0;34m,\u001b[0m \u001b[0my_test\u001b[0m\u001b[0;34m)\u001b[0m\u001b[0;34m\u001b[0m\u001b[0m\n\u001b[0m\u001b[1;32m    289\u001b[0m     \u001b[0;32mif\u001b[0m \u001b[0mhasattr\u001b[0m\u001b[0;34m(\u001b[0m\u001b[0mscore\u001b[0m\u001b[0;34m,\u001b[0m \u001b[0;34m'item'\u001b[0m\u001b[0;34m)\u001b[0m\u001b[0;34m:\u001b[0m\u001b[0;34m\u001b[0m\u001b[0m\n\u001b[1;32m    290\u001b[0m         \u001b[0;32mtry\u001b[0m\u001b[0;34m:\u001b[0m\u001b[0;34m\u001b[0m\u001b[0m\n",
      "\u001b[0;32m/usr/local/lib/python2.7/dist-packages/sklearn/metrics/scorer.pyc\u001b[0m in \u001b[0;36m__call__\u001b[0;34m(self, clf, X, y, sample_weight)\u001b[0m\n\u001b[1;32m    194\u001b[0m                                                  **self._kwargs)\n\u001b[1;32m    195\u001b[0m         \u001b[0;32melse\u001b[0m\u001b[0;34m:\u001b[0m\u001b[0;34m\u001b[0m\u001b[0m\n\u001b[0;32m--> 196\u001b[0;31m             \u001b[0;32mreturn\u001b[0m \u001b[0mself\u001b[0m\u001b[0;34m.\u001b[0m\u001b[0m_sign\u001b[0m \u001b[0;34m*\u001b[0m \u001b[0mself\u001b[0m\u001b[0;34m.\u001b[0m\u001b[0m_score_func\u001b[0m\u001b[0;34m(\u001b[0m\u001b[0my\u001b[0m\u001b[0;34m,\u001b[0m \u001b[0my_pred\u001b[0m\u001b[0;34m,\u001b[0m \u001b[0;34m**\u001b[0m\u001b[0mself\u001b[0m\u001b[0;34m.\u001b[0m\u001b[0m_kwargs\u001b[0m\u001b[0;34m)\u001b[0m\u001b[0;34m\u001b[0m\u001b[0m\n\u001b[0m\u001b[1;32m    197\u001b[0m \u001b[0;34m\u001b[0m\u001b[0m\n\u001b[1;32m    198\u001b[0m     \u001b[0;32mdef\u001b[0m \u001b[0m_factory_args\u001b[0m\u001b[0;34m(\u001b[0m\u001b[0mself\u001b[0m\u001b[0;34m)\u001b[0m\u001b[0;34m:\u001b[0m\u001b[0;34m\u001b[0m\u001b[0m\n",
      "\u001b[0;32m/usr/local/lib/python2.7/dist-packages/sklearn/metrics/ranking.pyc\u001b[0m in \u001b[0;36mroc_auc_score\u001b[0;34m(y_true, y_score, average, sample_weight)\u001b[0m\n\u001b[1;32m    258\u001b[0m     return _average_binary_score(\n\u001b[1;32m    259\u001b[0m         \u001b[0m_binary_roc_auc_score\u001b[0m\u001b[0;34m,\u001b[0m \u001b[0my_true\u001b[0m\u001b[0;34m,\u001b[0m \u001b[0my_score\u001b[0m\u001b[0;34m,\u001b[0m \u001b[0maverage\u001b[0m\u001b[0;34m,\u001b[0m\u001b[0;34m\u001b[0m\u001b[0m\n\u001b[0;32m--> 260\u001b[0;31m         sample_weight=sample_weight)\n\u001b[0m\u001b[1;32m    261\u001b[0m \u001b[0;34m\u001b[0m\u001b[0m\n\u001b[1;32m    262\u001b[0m \u001b[0;34m\u001b[0m\u001b[0m\n",
      "\u001b[0;32m/usr/local/lib/python2.7/dist-packages/sklearn/metrics/base.pyc\u001b[0m in \u001b[0;36m_average_binary_score\u001b[0;34m(binary_metric, y_true, y_score, average, sample_weight)\u001b[0m\n\u001b[1;32m     82\u001b[0m \u001b[0;34m\u001b[0m\u001b[0m\n\u001b[1;32m     83\u001b[0m     \u001b[0;32mif\u001b[0m \u001b[0my_type\u001b[0m \u001b[0;34m==\u001b[0m \u001b[0;34m\"binary\"\u001b[0m\u001b[0;34m:\u001b[0m\u001b[0;34m\u001b[0m\u001b[0m\n\u001b[0;32m---> 84\u001b[0;31m         \u001b[0;32mreturn\u001b[0m \u001b[0mbinary_metric\u001b[0m\u001b[0;34m(\u001b[0m\u001b[0my_true\u001b[0m\u001b[0;34m,\u001b[0m \u001b[0my_score\u001b[0m\u001b[0;34m,\u001b[0m \u001b[0msample_weight\u001b[0m\u001b[0;34m=\u001b[0m\u001b[0msample_weight\u001b[0m\u001b[0;34m)\u001b[0m\u001b[0;34m\u001b[0m\u001b[0m\n\u001b[0m\u001b[1;32m     85\u001b[0m \u001b[0;34m\u001b[0m\u001b[0m\n\u001b[1;32m     86\u001b[0m     \u001b[0mcheck_consistent_length\u001b[0m\u001b[0;34m(\u001b[0m\u001b[0my_true\u001b[0m\u001b[0;34m,\u001b[0m \u001b[0my_score\u001b[0m\u001b[0;34m,\u001b[0m \u001b[0msample_weight\u001b[0m\u001b[0;34m)\u001b[0m\u001b[0;34m\u001b[0m\u001b[0m\n",
      "\u001b[0;32m/usr/local/lib/python2.7/dist-packages/sklearn/metrics/ranking.pyc\u001b[0m in \u001b[0;36m_binary_roc_auc_score\u001b[0;34m(y_true, y_score, sample_weight)\u001b[0m\n\u001b[1;32m    249\u001b[0m     \u001b[0;32mdef\u001b[0m \u001b[0m_binary_roc_auc_score\u001b[0m\u001b[0;34m(\u001b[0m\u001b[0my_true\u001b[0m\u001b[0;34m,\u001b[0m \u001b[0my_score\u001b[0m\u001b[0;34m,\u001b[0m \u001b[0msample_weight\u001b[0m\u001b[0;34m=\u001b[0m\u001b[0mNone\u001b[0m\u001b[0;34m)\u001b[0m\u001b[0;34m:\u001b[0m\u001b[0;34m\u001b[0m\u001b[0m\n\u001b[1;32m    250\u001b[0m         \u001b[0;32mif\u001b[0m \u001b[0mlen\u001b[0m\u001b[0;34m(\u001b[0m\u001b[0mnp\u001b[0m\u001b[0;34m.\u001b[0m\u001b[0munique\u001b[0m\u001b[0;34m(\u001b[0m\u001b[0my_true\u001b[0m\u001b[0;34m)\u001b[0m\u001b[0;34m)\u001b[0m \u001b[0;34m!=\u001b[0m \u001b[0;36m2\u001b[0m\u001b[0;34m:\u001b[0m\u001b[0;34m\u001b[0m\u001b[0m\n\u001b[0;32m--> 251\u001b[0;31m             raise ValueError(\"Only one class present in y_true. ROC AUC score \"\n\u001b[0m\u001b[1;32m    252\u001b[0m                              \"is not defined in that case.\")\n\u001b[1;32m    253\u001b[0m \u001b[0;34m\u001b[0m\u001b[0m\n",
      "\u001b[0;31mValueError\u001b[0m: Only one class present in y_true. ROC AUC score is not defined in that case."
     ]
    }
   ],
   "source": [
    "# We use 10-fold cross-validation to evaluate the models\n",
    "alphas = [0.00009, 1e-4, 0.0002, 0.0003, 0.0004, 0.0006, 0.0007] #we get between 5 and 19 features using these values of alpha\n",
    "n_folds = 5\n",
    "scores = list()\n",
    "scores_std = list()\n",
    "\n",
    "for alpha in alphas:\n",
    "    lasso = Lasso(alpha=alpha,fit_intercept=True, max_iter=100000, tol=0.0001)\n",
    "    lasso_fit = lasso.fit(X,y)\n",
    "    print y.sum()\n",
    "    print len(y)\n",
    "    cv = ShuffleSplit(n_splits=n_folds)\n",
    "    this_scores = cross_val_score(lasso_fit, X, y, scoring='roc_auc', cv=cv, n_jobs=1)\n",
    "    print this_scores\n",
    "    scores.append(np.mean(this_scores))\n",
    "    scores_std.append(np.std(this_scores))\n",
    "\n",
    "scores, scores_std = np.array(scores), np.array(scores_std)\n",
    "print scores\n",
    "\n",
    "plt.figure().set_size_inches(8, 6)\n",
    "plt.semilogx(alphas, scores)\n",
    "\n",
    "# plot error lines showing +/- std. errors of the scores\n",
    "std_error = scores_std / np.sqrt(n_folds)\n",
    "\n",
    "plt.semilogx(alphas, scores + std_error, 'b--')\n",
    "plt.semilogx(alphas, scores - std_error, 'b--')\n",
    "\n",
    "# alpha=0.2 controls the translucency of the fill color\n",
    "plt.fill_between(alphas, scores + std_error, scores - std_error, alpha=0.2)\n",
    "\n",
    "plt.ylabel('CV score +/- std error')\n",
    "plt.xlabel('alpha')\n",
    "plt.axhline(np.max(scores), linestyle='--', color='.5')\n",
    "plt.xlim([alphas[0], alphas[-1]])"
   ]
  },
  {
   "cell_type": "markdown",
   "metadata": {},
   "source": [
    "######  Selection of alpha depending on the validation score\n",
    "Depending on the way the test group is picked, we have different values of alpha. \n",
    "So we test the model with three different values of alpha: [0.0001, 0.0002, 0.0003]"
   ]
  },
  {
   "cell_type": "code",
   "execution_count": 126,
   "metadata": {},
   "outputs": [
    {
     "name": "stdout",
     "output_type": "stream",
     "text": [
      "18\n",
      "18\n",
      "18\n",
      "37622529\n"
     ]
    }
   ],
   "source": [
    "# Extract the set of relevant features and their weight, alpha = 0.0002\n",
    "features_indice = list()\n",
    "features_weight = list()\n",
    "features = list()\n",
    "\n",
    "for i in range (len(coef_lasso[4])):\n",
    "    if coef_lasso[4][i] != 0.:\n",
    "        features_indice.append(i)\n",
    "\n",
    "print len(features_indice)\n",
    "\n",
    "for i in range (len(all_pairoutcomes)):\n",
    "    if i in features_indice:\n",
    "        features.append(all_pairoutcomes[i])\n",
    "        features_weight.append((all_pairoutcomes[i], coef_lasso[4][i]))\n",
    "\n",
    "print len(features)\n",
    "print len(features_weight)\n",
    "print features[0]"
   ]
  },
  {
   "cell_type": "code",
   "execution_count": 127,
   "metadata": {
    "collapsed": true
   },
   "outputs": [],
   "source": [
    "# Build the new frequency tables\n",
    "def make_lsd_training_table_reduced(features, pos_drugs = None, neg_drugs = None):\n",
    "\n",
    "    # we map positive and negative drugs from their concept_code to their concept_id\n",
    "    pos_drugs_mapped = list()\n",
    "    for pos_drug in pos_drugs:\n",
    "        pos_drugs_mapped.append(drug_mapping[pos_drug])\n",
    "        \n",
    "    neg_drugs_mapped = list()\n",
    "    for neg_drug in neg_drugs:\n",
    "        neg_drugs_mapped.append(drug_mapping[neg_drug])\n",
    "        \n",
    "    outcomes = np.concatenate((np.ones(len(pos_drugs),np.bool), np.zeros(len(neg_drugs),np.bool)))\n",
    "    \n",
    "    training_drugs = pos_drugs_mapped + neg_drugs_mapped\n",
    "    \n",
    "    # build the adverse events frequency table\n",
    "    ae_frequencies_training = np.zeros((len(pos_drugs)+len(neg_drugs),len(features)))\n",
    "    \n",
    "    for r in aeolus_drugReactionCounts['results']:\n",
    "        if not r['drug_concept_id'] in training_drugs:\n",
    "            continue\n",
    "        if not r['outcome_concept_id'] in features:\n",
    "            continue\n",
    "        \n",
    "        \n",
    "        i = training_drugs.index(r['drug_concept_id'])\n",
    "        j = features.index(r['outcome_concept_id'])\n",
    "        \n",
    "        frequency = float(r['nreports'])/float(r['ndrugreports'])\n",
    "        \n",
    "        ae_frequencies_training[i,j] = frequency\n",
    "                    \n",
    "    return ae_frequencies_training, outcomes\n",
    "\n",
    "\n",
    "# Build the frequency table for drugpairs\n",
    "def make_lsd_testing_table_reduced(features):\n",
    "    ae_frequencies_ddi_testing = np.zeros((len(all_drugpairs),len(features)))\n",
    "    \n",
    "    for r in tqdm(aeolus_drugpairReactionCounts['results']):\n",
    "        \n",
    "        drugpair = (r['drug1_concept_id'],r['drug2_concept_id'])\n",
    "        if r['outcome_concept_id'] in features:\n",
    "            x_index = all_drugpairs.index(drugpair)\n",
    "            y_index = features.index(r['outcome_concept_id'])\n",
    "            \n",
    "            frequency = float(r['n_d1d2ae'])/float(r['n_d1d2'])\n",
    "            #print frequency\n",
    "            \n",
    "            ae_frequencies_ddi_testing[x_index,y_index] = frequency    \n",
    "                \n",
    "    return ae_frequencies_ddi_testing"
   ]
  },
  {
   "cell_type": "code",
   "execution_count": 128,
   "metadata": {},
   "outputs": [
    {
     "name": "stdout",
     "output_type": "stream",
     "text": [
      "(51, 18)\n",
      "(51,)\n"
     ]
    }
   ],
   "source": [
    "X_reduced, y_reduced = make_lsd_training_table_reduced(features, pos_controls, neg_controls)\n",
    "\n",
    "print X_reduced.shape\n",
    "print y_reduced.shape"
   ]
  },
  {
   "cell_type": "code",
   "execution_count": 129,
   "metadata": {},
   "outputs": [
    {
     "name": "stderr",
     "output_type": "stream",
     "text": [
      "100%|██████████| 1313184/1313184 [02:36<00:00, 8415.63it/s] \n"
     ]
    }
   ],
   "source": [
    "X_test_reduced = make_lsd_testing_table_reduced(features)"
   ]
  },
  {
   "cell_type": "code",
   "execution_count": 130,
   "metadata": {
    "scrolled": true
   },
   "outputs": [
    {
     "name": "stdout",
     "output_type": "stream",
     "text": [
      "37622529\n",
      "(39800, 18)\n"
     ]
    }
   ],
   "source": [
    "print features[0]\n",
    "print X_test_reduced.shape\n",
    "#print X_test_reduced[2]"
   ]
  },
  {
   "cell_type": "markdown",
   "metadata": {},
   "source": [
    "## Build the latent signal detection model (i.e hypertension's fingerprint)"
   ]
  },
  {
   "cell_type": "code",
   "execution_count": 59,
   "metadata": {
    "collapsed": true
   },
   "outputs": [],
   "source": [
    "# We use a Logistic Regression Binary classifier: each drug or drug pair is represented by a combination of AEs and their weight (beta coefficient)\n",
    "# If a drug is above a certain threshold, we classify it as causing hypertension\n",
    "\n",
    "def score(features_weight, X_test):\n",
    "    score = list()\n",
    "    \n",
    "    for drugpair in X_test:\n",
    "        #print drugpair\n",
    "        drugpair_score = 0\n",
    "        for i in range (0, len(features)):\n",
    "            drugpair_score += drugpair[i] * features_weight[i][1]\n",
    "        score.append(drugpair_score)\n",
    "    \n",
    "    return score\n",
    "\n",
    "def y_pred_FAERS(drug_mapping):\n",
    "    \n",
    "    y_pred = np.zeros((len(scores)))\n",
    "    pos_drugs_mapped = list()\n",
    "    \n",
    "    for pos_drug in pos_controls:\n",
    "        if pos_drug not in drug_mapping:\n",
    "            continue\n",
    "        \n",
    "        pos_drugs_mapped.append(drug_mapping[pos_drug])\n",
    "    \n",
    "    # if a drugpair has a drug known to be a positive control then we predict that the drugpair will lead to the AE\n",
    "    for drugpair in all_drugpairs:         \n",
    "        for drug in drugpair:\n",
    "            if drug in pos_drugs_mapped:\n",
    "                y_pred[all_drugpairs.index(drugpair)] = 1\n",
    "                \n",
    "    return y_pred\n",
    "\n",
    "def y_pred_va():\n",
    "    \n",
    "    y_pred = np.zeros((len(scores)))\n",
    "    \n",
    "    # if a drugpair has a drug known to be a positive control then we predict that the drugpair will lead to the AE\n",
    "    for drugpair in all_drugpairs:         \n",
    "        if drugpair in va_omop_ddi :\n",
    "            y_pred[all_drugpairs.index(drugpair)] = 1\n",
    "    \n",
    "    return y_pred\n",
    "\n",
    "def predict_ddi(scores, threshold):\n",
    "    \n",
    "    predictions = np.zeros((len(scores)))\n",
    "    for score in scores:\n",
    "        if (score > threshold):\n",
    "            predictions[scores.index(score)] = 1\n",
    "    print sum(predictions)\n",
    "    \n",
    "    y_pred_Faers = y_pred_FAERS(drug_mapping)\n",
    "    #y_pred_VA = y_pred_va()\n",
    "    \n",
    "    print \"Number of positive predictions from FAERS:\",np.sum(y_pred_Faers)\n",
    "    #print \"Number of positive predictions from the VA:\",np.sum(y_pred_VA)\n",
    "    \n",
    "    print \"FAERS drugpairs ROC:\",roc_auc_score(y_true=y_pred_Faers,y_score=scores)\n",
    "    fprFA, tprFA, _ = roc_curve(y_true=y_pred_Faers,y_score=scores)\n",
    "    \n",
    "    #print \"VA drugpairs ROC:\",roc_auc_score(y_true=y_pred_VA,y_score=scores)\n",
    "    #fprVA, tprVA, _ = roc_curve(y_true=y_pred_VA,y_score=scores)\n",
    "    \n",
    "    sns.set(style='ticks', font_scale=1.4)\n",
    "    \n",
    "    plt.figure(figsize=(6,6))\n",
    "    plt.plot(fprFA,tprFA,label='FAERS (area= %0.2f)' % auc(fprFA,tprFA))\n",
    "    #plt.plot(fprVA,tprVA,label='VA (area= %0.2f)' % auc(fprVA,tprVA))\n",
    "    \n",
    "    plt.xlabel('False Positive Rate')\n",
    "    plt.ylabel('True Positive Rate')\n",
    "    \n",
    "    plt.legend(loc=\"lower right\")\n",
    "    \n",
    "    sns.despine()\n",
    "    \n",
    "    return predictions\n",
    "            "
   ]
  },
  {
   "cell_type": "code",
   "execution_count": 131,
   "metadata": {},
   "outputs": [
    {
     "name": "stdout",
     "output_type": "stream",
     "text": [
      "39800\n",
      "0.792635382138\n",
      "449.0\n",
      "Number of positive predictions from FAERS: 2744.0\n",
      "FAERS drugpairs ROC: 0.710078387388\n"
     ]
    },
    {
     "data": {
      "image/png": "[encoded data removed]",
      "text/plain": [
       "<matplotlib.figure.Figure at 0x7f3c1ded2090>"
      ]
     },
     "metadata": {},
     "output_type": "display_data"
    }
   ],
   "source": [
    "scores = score(features_weight, X_test_reduced)\n",
    "print len(scores)\n",
    "print scores[0]\n",
    "\n",
    "threshold = 5\n",
    "predictions = predict_ddi(scores, threshold)"
   ]
  },
  {
   "cell_type": "code",
   "execution_count": 92,
   "metadata": {
    "scrolled": true
   },
   "outputs": [
    {
     "name": "stderr",
     "output_type": "stream",
     "text": [
      "  1%|          | 7768/1313184 [00:00<00:16, 77657.30it/s]"
     ]
    },
    {
     "name": "stdout",
     "output_type": "stream",
     "text": [
      "0.0001\n",
      "24\n"
     ]
    },
    {
     "name": "stderr",
     "output_type": "stream",
     "text": [
      "  7%|▋         | 88386/1313184 [00:08<03:02, 6719.57it/s] \n"
     ]
    },
    {
     "ename": "KeyboardInterrupt",
     "evalue": "",
     "output_type": "error",
     "traceback": [
      "\u001b[0;31m---------------------------------------------------------------------------\u001b[0m",
      "\u001b[0;31mKeyboardInterrupt\u001b[0m                         Traceback (most recent call last)",
      "\u001b[0;32m<ipython-input-92-57dedf00491e>\u001b[0m in \u001b[0;36m<module>\u001b[0;34m()\u001b[0m\n\u001b[1;32m     26\u001b[0m \u001b[0;34m\u001b[0m\u001b[0m\n\u001b[1;32m     27\u001b[0m     \u001b[0;31m#Construction of the new testing frequency table\u001b[0m\u001b[0;34m\u001b[0m\u001b[0;34m\u001b[0m\u001b[0m\n\u001b[0;32m---> 28\u001b[0;31m     \u001b[0mX_test_reduced\u001b[0m \u001b[0;34m=\u001b[0m \u001b[0mmake_lsd_testing_table_reduced\u001b[0m\u001b[0;34m(\u001b[0m\u001b[0mfeatures\u001b[0m\u001b[0;34m)\u001b[0m\u001b[0;34m\u001b[0m\u001b[0m\n\u001b[0m\u001b[1;32m     29\u001b[0m     \u001b[0;32mprint\u001b[0m \u001b[0mX_test_reduced\u001b[0m\u001b[0;34m.\u001b[0m\u001b[0mshape\u001b[0m\u001b[0;34m\u001b[0m\u001b[0m\n\u001b[1;32m     30\u001b[0m \u001b[0;34m\u001b[0m\u001b[0m\n",
      "\u001b[0;32m<ipython-input-87-80c7019aae66>\u001b[0m in \u001b[0;36mmake_lsd_testing_table_reduced\u001b[0;34m(features)\u001b[0m\n\u001b[1;32m     43\u001b[0m         \u001b[0mdrugpair\u001b[0m \u001b[0;34m=\u001b[0m \u001b[0;34m(\u001b[0m\u001b[0mr\u001b[0m\u001b[0;34m[\u001b[0m\u001b[0;34m'drug1_concept_id'\u001b[0m\u001b[0;34m]\u001b[0m\u001b[0;34m,\u001b[0m\u001b[0mr\u001b[0m\u001b[0;34m[\u001b[0m\u001b[0;34m'drug2_concept_id'\u001b[0m\u001b[0;34m]\u001b[0m\u001b[0;34m)\u001b[0m\u001b[0;34m\u001b[0m\u001b[0m\n\u001b[1;32m     44\u001b[0m         \u001b[0;32mif\u001b[0m \u001b[0mr\u001b[0m\u001b[0;34m[\u001b[0m\u001b[0;34m'outcome_concept_id'\u001b[0m\u001b[0;34m]\u001b[0m \u001b[0;32min\u001b[0m \u001b[0mfeatures\u001b[0m\u001b[0;34m:\u001b[0m\u001b[0;34m\u001b[0m\u001b[0m\n\u001b[0;32m---> 45\u001b[0;31m             \u001b[0mx_index\u001b[0m \u001b[0;34m=\u001b[0m \u001b[0mall_drugpairs\u001b[0m\u001b[0;34m.\u001b[0m\u001b[0mindex\u001b[0m\u001b[0;34m(\u001b[0m\u001b[0mdrugpair\u001b[0m\u001b[0;34m)\u001b[0m\u001b[0;34m\u001b[0m\u001b[0m\n\u001b[0m\u001b[1;32m     46\u001b[0m             \u001b[0my_index\u001b[0m \u001b[0;34m=\u001b[0m \u001b[0mfeatures\u001b[0m\u001b[0;34m.\u001b[0m\u001b[0mindex\u001b[0m\u001b[0;34m(\u001b[0m\u001b[0mr\u001b[0m\u001b[0;34m[\u001b[0m\u001b[0;34m'outcome_concept_id'\u001b[0m\u001b[0;34m]\u001b[0m\u001b[0;34m)\u001b[0m\u001b[0;34m\u001b[0m\u001b[0m\n\u001b[1;32m     47\u001b[0m \u001b[0;34m\u001b[0m\u001b[0m\n",
      "\u001b[0;31mKeyboardInterrupt\u001b[0m: "
     ]
    }
   ],
   "source": [
    "# Loop to test all three models\n",
    "# We use a Logistic Regression Binary classifier: each drug or drug pair is represented by a combination of AEs and their weight (beta coefficient)\n",
    "# If a drug is above a certain threshold, we classify it as causing hypertension\n",
    "\n",
    "alphas_selected = [0.0001, 0.0002, 0.0003]\n",
    "threshold = 4\n",
    "\n",
    "for alpha in alphas_selected:\n",
    "    print alpha\n",
    "    \n",
    "    #Extraction of features\n",
    "    features_indice = list()\n",
    "    features_weight = list()\n",
    "    features = list()\n",
    "\n",
    "    for i in range (len(coef_lasso[2+alphas_selected.index(alpha)])):\n",
    "        if coef_lasso[2+alphas_selected.index(alpha)][i] != 0.:\n",
    "            features_indice.append(i)\n",
    "\n",
    "    for i in range (len(all_pairoutcomes)):\n",
    "        if i in features_indice:\n",
    "            features.append(all_pairoutcomes[i])\n",
    "            features_weight.append((all_pairoutcomes[i], coef_lasso[2+alphas_selected.index(alpha)][i]))\n",
    "    \n",
    "    print len(features)\n",
    "    \n",
    "    #Construction of the new testing frequency table\n",
    "    X_test_reduced = make_lsd_testing_table_reduced(features)\n",
    "    print X_test_reduced.shape\n",
    "    \n",
    "    #Fingerprint construction\n",
    "    scores = score(features_weight, X_test_reduced)\n",
    "    predictions = predict_ddi(scores, threshold)\n"
   ]
  },
  {
   "cell_type": "code",
   "execution_count": 62,
   "metadata": {
    "collapsed": true
   },
   "outputs": [],
   "source": [
    "# Random Forest Classifier after the L1 reduction of features\n",
    "\n",
    "def drugpair_predictions_rf_reduced(X, y, X_test):\n",
    "    \n",
    "    # can't use oob after L1 regularization\n",
    "    rf = RandomForestClassifier(n_estimators = 100, oob_score=False, random_state=12)\n",
    "    rf.fit(X,y) #Build a forest of trees from the training set (X, y).\n",
    "    \n",
    "    predictions_proba = rf.predict_proba(X_test)[:,1]\n",
    "    predictions = rf.predict(X_test) #predict class for X_test\n",
    "    print \"Mean accuracy on the given test data and labels: \", rf.score(X,y)  \n",
    "    \n",
    "    y_pred_Faers = y_pred_FAERS(drug_mapping)\n",
    "    #y_pred_VA = y_pred_va()\n",
    "    \n",
    "    predicted_ddi = sorted(zip(predictions_proba, all_drugpairs))\n",
    "    predicted_ddi.reverse()\n",
    "    i=0\n",
    "    while predicted_ddi[i][0]>0.5:\n",
    "        i+=1\n",
    "    predicted_ddi = predicted_ddi[:i]\n",
    "            \n",
    "    #(i.e with at least one drug known to have hypertension as a side effect)\n",
    "    print \"Number of positive predictions:\",np.sum(y_pred_Faers)\n",
    "    \n",
    "    print \"FAERS drugpairs ROC:\",roc_auc_score(y_true=y_pred_Faers,y_score=predictions_proba)\n",
    "    fprFA, tprFA, _ = roc_curve(y_true=y_pred_Faers,y_score=predictions_proba)\n",
    "    \n",
    "    #print \"VA drugpairs ROC:\",roc_auc_score(y_true=y_pred_VA,y_score=predictions_proba)\n",
    "    #fprVA, tprVA, _ = roc_curve(y_true=y_pred_VA,y_score=predictions_proba)\n",
    "\n",
    "    sns.set(style='ticks', font_scale=1.4)\n",
    "    \n",
    "    plt.figure(figsize=(6,6))\n",
    "    plt.plot(fprFA,tprFA,label='FAERS (area= %0.2f)' % auc(fprFA,tprFA))\n",
    "    #plt.plot(fprVA,tprVA,label='VA (area= %0.2f)' % auc(fprVA,tprVA))\n",
    "    \n",
    "    plt.xlabel('False Positive Rate')\n",
    "    plt.ylabel('True Positive Rate')\n",
    "    \n",
    "    plt.legend(loc=\"lower right\")\n",
    "    \n",
    "    sns.despine()\n",
    "    \n",
    "    return predicted_ddi"
   ]
  },
  {
   "cell_type": "code",
   "execution_count": 132,
   "metadata": {},
   "outputs": [
    {
     "name": "stdout",
     "output_type": "stream",
     "text": [
      "Mean accuracy on the given test data and labels:  0.980392156863\n",
      "Number of positive predictions: 2744.0\n",
      "FAERS drugpairs ROC: 0.645712406909\n",
      "7488\n"
     ]
    },
    {
     "data": {
      "image/png": "[encoded data removed]",
      "text/plain": [
       "<matplotlib.figure.Figure at 0x7f3c8f2871d0>"
      ]
     },
     "metadata": {},
     "output_type": "display_data"
    }
   ],
   "source": [
    "predicted_ddi = drugpair_predictions_rf_reduced(X_reduced,y_reduced,X_test_reduced)\n",
    "print len(predicted_ddi)"
   ]
  },
  {
   "cell_type": "code",
   "execution_count": 66,
   "metadata": {
    "collapsed": true
   },
   "outputs": [],
   "source": [
    "# SVM method after L1 regularization of features\n",
    "def drugpair_predictions_svm(X,y,X_test):\n",
    "    \n",
    "    clf = svm.SVC(probability=True)\n",
    "    #clf = svm.SVC()\n",
    "    clf.fit(X,y)\n",
    "    \n",
    "    predictions_proba = clf.predict_proba(X_test)[:,1]\n",
    "    #predictions_proba = clf.decision_function(X_test)\n",
    "    predictions = clf.predict(X_test) #predict class for X_test\n",
    "    print \"Mean accuracy on the given test data and labels: \", clf.score(X,y)  \n",
    "    \n",
    "    y_pred_Faers = y_pred_FAERS(drug_mapping)\n",
    "    #y_pred_VA = y_pred_va()\n",
    "    \n",
    "    predicted_ddi = sorted(zip(predictions_proba, all_drugpairs))\n",
    "    predicted_ddi.reverse()\n",
    "    i=0\n",
    "    while predicted_ddi[i][0]>0.5:\n",
    "        i+=1\n",
    "    predicted_ddi = predicted_ddi[:i]\n",
    "            \n",
    "    #(i.e with at least one drug known to have hypertension as a side effect)\n",
    "    print \"Number of positive predictions:\",np.sum(y_pred_Faers)\n",
    "    \n",
    "    print \"FAERS drugpairs ROC:\",roc_auc_score(y_true=y_pred_Faers,y_score=predictions_proba)\n",
    "    fprFA, tprFA, _ = roc_curve(y_true=y_pred_Faers,y_score=predictions_proba)\n",
    "    \n",
    "    #print \"VA drugpairs ROC:\",roc_auc_score(y_true=y_pred_VA,y_score=predictions_proba)\n",
    "    #fprVA, tprVA, _ = roc_curve(y_true=y_pred_VA,y_score=predictions_proba)\n",
    "\n",
    "    sns.set(style='ticks', font_scale=1.4)\n",
    "    \n",
    "    plt.figure(figsize=(6,6))\n",
    "    plt.plot(fprFA,tprFA,label='FAERS (area= %0.2f)' % auc(fprFA,tprFA))\n",
    "    #plt.plot(fprVA,tprVA,label='VA (area= %0.2f)' % auc(fprVA,tprVA))\n",
    "    \n",
    "    plt.xlabel('False Positive Rate')\n",
    "    plt.ylabel('True Positive Rate')\n",
    "    \n",
    "    plt.legend(loc=\"lower right\")\n",
    "    \n",
    "    sns.despine()\n",
    "    \n",
    "    return predicted_ddi"
   ]
  },
  {
   "cell_type": "code",
   "execution_count": 133,
   "metadata": {},
   "outputs": [
    {
     "name": "stdout",
     "output_type": "stream",
     "text": [
      "Mean accuracy on the given test data and labels:  0.666666666667\n",
      "Number of positive predictions: 2744.0\n",
      "FAERS drugpairs ROC: 0.652858218371\n",
      "19848\n"
     ]
    },
    {
     "data": {
      "image/png": "[encoded data removed]",
      "text/plain": [
       "<matplotlib.figure.Figure at 0x7f3c1dd426d0>"
      ]
     },
     "metadata": {},
     "output_type": "display_data"
    }
   ],
   "source": [
    "predicted_ddi = drugpair_predictions_svm(X_reduced,y_reduced,X_test_reduced)\n",
    "print len(predicted_ddi)"
   ]
  },
  {
   "cell_type": "code",
   "execution_count": 68,
   "metadata": {
    "collapsed": true
   },
   "outputs": [],
   "source": [
    "# Prediction without features reduction\n",
    "def drugpair_predictions_rf(X,y,X_test):  \n",
    "    \n",
    "    rf = RandomForestClassifier(n_estimators = 100, oob_score=True, random_state=12)\n",
    "    rf.fit(X,y) #Build a forest of trees from the training set (X, y).\n",
    "    \n",
    "    print \"Number of estimators: \", len(rf.estimators_)\n",
    "    \n",
    "    predictions_proba = rf.predict_proba(X_test)[:,1]\n",
    "    predictions = rf.predict(X_test) #predict class for X_test\n",
    "    print \"Mean accuracy on the given test data and labels: \", rf.score(X,y)   \n",
    "\n",
    "    oob_predictions = rf.oob_decision_function_[:,1]\n",
    "    oob_predictions[ np.where( np.isnan(oob_predictions) == True)[0]] = 0\n",
    "    \n",
    "    #roc_auc_score computes the area under the ROC curve\n",
    "    print \"OOB ROC:\",roc_auc_score(y_true=y, y_score=oob_predictions)\n",
    "    fprOOB, tprOOB, _ = roc_curve(y_true=y,y_score=oob_predictions)\n",
    "    \n",
    "    y_pred_Faers = y_pred_FAERS(drug_mapping)\n",
    "    #y_pred_VA = y_pred_va()\n",
    "    \n",
    "    predicted_ddi = sorted(zip(predictions_proba, all_drugpairs))\n",
    "    predicted_ddi.reverse()\n",
    "    i=0\n",
    "    while predicted_ddi[i][0]>0.5:\n",
    "        i+=1\n",
    "    predicted_ddi = predicted_ddi[:i]\n",
    "            \n",
    "    #(i.e with at least one drug known to have hypertension as a side effect)\n",
    "    print \"Number of positive predictions FAERS:\",np.sum(y_pred_Faers)\n",
    "    print \"Number of ddi predictions (with a probability > 0,5): \", len(predicted_ddi)\n",
    "    \n",
    "    print \"FAERS drugpairs ROC:\",roc_auc_score(y_true=y_pred_Faers,y_score=predictions_proba)\n",
    "    fprFA, tprFA, _ = roc_curve(y_true=y_pred_Faers,y_score=predictions_proba)\n",
    "    \n",
    "    #print \"VA drugpairs ROC:\",roc_auc_score(y_true=y_pred_VA,y_score=predictions_proba)\n",
    "    #fprVA, tprVA, _ = roc_curve(y_true=y_pred_VA,y_score=predictions_proba)\n",
    "    \n",
    "    sns.set(style='ticks', font_scale=1.4)\n",
    "    \n",
    "    plt.figure(figsize=(6,6))\n",
    "    plt.plot(fprOOB,tprOOB,label='OOB (area= %0.2f)' % auc(fprOOB,tprOOB))\n",
    "    plt.plot(fprFA,tprFA,label='FAERS (area= %0.2f)' % auc(fprFA,tprFA))\n",
    "    #plt.plot(fprVA,tprVA,label='VA (area= %0.2f)' % auc(fprVA,tprVA))\n",
    "    \n",
    "    plt.xlabel('False Positive Rate')\n",
    "    plt.ylabel('True Positive Rate')\n",
    "    \n",
    "    plt.legend(loc=\"lower right\")\n",
    "    \n",
    "    sns.despine()\n",
    "    \n",
    "    return predicted_ddi"
   ]
  },
  {
   "cell_type": "code",
   "execution_count": 134,
   "metadata": {},
   "outputs": [
    {
     "name": "stdout",
     "output_type": "stream",
     "text": [
      "Number of estimators:  100\n",
      "Mean accuracy on the given test data and labels:  0.980392156863\n",
      "OOB ROC: 0.882352941176\n",
      "Number of positive predictions FAERS: 2744.0\n",
      "Number of ddi predictions (with a probability > 0,5):  6386\n",
      "FAERS drugpairs ROC: 0.59556076895\n"
     ]
    },
    {
     "data": {
      "image/png": "[encoded data removed]",
      "text/plain": [
       "<matplotlib.figure.Figure at 0x7f3cc89643d0>"
      ]
     },
     "metadata": {},
     "output_type": "display_data"
    }
   ],
   "source": [
    "pred_ddi = drugpair_predictions_rf(X,y,X_test)"
   ]
  },
  {
   "cell_type": "markdown",
   "metadata": {},
   "source": [
    "## DDI predictions"
   ]
  },
  {
   "cell_type": "code",
   "execution_count": 51,
   "metadata": {},
   "outputs": [
    {
     "name": "stdout",
     "output_type": "stream",
     "text": [
      "14008\n",
      "2239\n"
     ]
    }
   ],
   "source": [
    "#Treatment of the predictions\n",
    "final_predictions = list()\n",
    "\n",
    "pos_drugs_mapped = list()\n",
    "for pos_drug in pos_controls:\n",
    "    if pos_drug not in drug_mapping:\n",
    "        continue\n",
    "        \n",
    "    pos_drugs_mapped.append(drug_mapping[pos_drug])\n",
    "\n",
    "# Removing the pairs where at least one of the drugs is known to be responsible for hypertension alone\n",
    "for prob, drugpair in predicted_ddi:\n",
    "    if (drugpair[0] not in pos_drugs_mapped):\n",
    "        if (drugpair[1] not in pos_drugs_mapped):\n",
    "            # All drugpairs are twice in the list ((a,b) and (b,a)), we only keep one\n",
    "            if drugpair[0] > drugpair[1]:\n",
    "                final_predictions.append(drugpair)\n",
    "\n",
    "print len(predicted_ddi)\n",
    "print len(final_predictions)                \n",
    "top_ddi = final_predictions[:200]\n",
    "#print top_ddi"
   ]
  },
  {
   "cell_type": "code",
   "execution_count": 50,
   "metadata": {},
   "outputs": [
    {
     "name": "stdout",
     "output_type": "stream",
     "text": [
      "(19035704, 1341927)\n",
      "(19135832, 1551860)\n",
      "Calcium Carbonate Enalapril\n",
      "Multivitamin preparation Pravastatin\n"
     ]
    }
   ],
   "source": [
    "# Pull the top prediction\n",
    "pair = top_ddi[0]\n",
    "pair2 = top_ddi[1]\n",
    "#pair3 = top_ddi[2]\n",
    "#pair4 = top_ddi[3]\n",
    "print pair\n",
    "print pair2\n",
    "print concept2name[pair[0]], concept2name[pair[1]]\n",
    "print concept2name[pair2[0]], concept2name[pair2[1]]\n",
    "#print concept2name[pair3[0]], concept2name[pair3[1]]\n",
    "#print concept2name[pair4[0]], concept2name[pair4[1]]\n"
   ]
  },
  {
   "cell_type": "markdown",
   "metadata": {},
   "source": [
    "## Corroborate drugpair predictions using OHDSI data\n",
    "Analysis of the top predicted DDIs.\n",
    "Method: Creation of cohorts of patients using the OHDSI API.\n",
    "Criteria: Patients exposed to either drug of a predicted drugpair alone and patients exposed to both within a 7 days interval.\n",
    "All patients must have had their blood pressure measured within 30 days of their last drug intake (before and after). "
   ]
  },
  {
   "cell_type": "code",
   "execution_count": 68,
   "metadata": {
    "collapsed": true
   },
   "outputs": [],
   "source": [
    "map_id_name, map_name_id = ohdsi.mapping()"
   ]
  },
  {
   "cell_type": "code",
   "execution_count": 69,
   "metadata": {},
   "outputs": [
    {
     "name": "stderr",
     "output_type": "stream",
     "text": [
      "\r",
      "  0%|          | 0/200 [00:00<?, ?it/s]"
     ]
    },
    {
     "name": "stdout",
     "output_type": "stream",
     "text": [
      "A cohort with the same name already exists, please choose another name\n"
     ]
    },
    {
     "name": "stderr",
     "output_type": "stream",
     "text": [
      "\r",
      "  0%|          | 1/200 [00:03<10:10,  3.07s/it]"
     ]
    },
    {
     "name": "stdout",
     "output_type": "stream",
     "text": [
      "91\n",
      "Enough patients for cohort Calcium Carbonate_Enalapril\n",
      "A cohort with the same name already exists, please choose another name\n"
     ]
    },
    {
     "name": "stderr",
     "output_type": "stream",
     "text": [
      "\r",
      "  1%|          | 2/200 [00:06<10:52,  3.30s/it]"
     ]
    },
    {
     "name": "stdout",
     "output_type": "stream",
     "text": [
      "0\n",
      "Not enough patients for cohort Multivitamin preparation_Pravastatin\n",
      "Cohort was deleted with exit status 204 \n",
      "A cohort with the same name already exists, please choose another name\n"
     ]
    },
    {
     "name": "stderr",
     "output_type": "stream",
     "text": [
      "\r",
      "  2%|▏         | 3/200 [00:10<11:01,  3.36s/it]"
     ]
    },
    {
     "name": "stdout",
     "output_type": "stream",
     "text": [
      "0\n",
      "Not enough patients for cohort Multivitamin preparation_Estrogens, Conjugated (USP)\n",
      "Cohort was deleted with exit status 204 \n",
      "A cohort with the same name already exists, please choose another name\n"
     ]
    },
    {
     "name": "stderr",
     "output_type": "stream",
     "text": [
      "\r",
      "  2%|▏         | 4/200 [00:13<10:42,  3.28s/it]"
     ]
    },
    {
     "name": "stdout",
     "output_type": "stream",
     "text": [
      "6\n",
      "Not enough patients for cohort Vitamin D_Simvastatin\n",
      "Cohort was deleted with exit status 204 \n",
      "A cohort with the same name already exists, please choose another name\n"
     ]
    },
    {
     "name": "stderr",
     "output_type": "stream",
     "text": [
      "\r",
      "  2%|▎         | 5/200 [00:17<11:18,  3.48s/it]"
     ]
    },
    {
     "name": "stdout",
     "output_type": "stream",
     "text": [
      "5\n",
      "Not enough patients for cohort Vitamin D_Amlodipine\n",
      "Cohort was deleted with exit status 204 \n",
      "A cohort with the same name already exists, please choose another name\n"
     ]
    },
    {
     "name": "stderr",
     "output_type": "stream",
     "text": [
      "\r",
      "  3%|▎         | 6/200 [00:20<11:13,  3.47s/it]"
     ]
    },
    {
     "name": "stdout",
     "output_type": "stream",
     "text": [
      "4\n",
      "Not enough patients for cohort Vitamin D_Lisinopril\n",
      "Cohort was deleted with exit status 204 \n",
      "A cohort with the same name already exists, please choose another name\n"
     ]
    },
    {
     "name": "stderr",
     "output_type": "stream",
     "text": [
      "\r",
      "  4%|▎         | 7/200 [00:23<10:32,  3.28s/it]"
     ]
    },
    {
     "name": "stdout",
     "output_type": "stream",
     "text": [
      "3\n",
      "Not enough patients for cohort Vitamin D_Albuterol\n",
      "Cohort was deleted with exit status 204 \n",
      "A cohort with the same name already exists, please choose another name\n"
     ]
    },
    {
     "name": "stderr",
     "output_type": "stream",
     "text": [
      "\r",
      "  4%|▍         | 8/200 [00:26<10:02,  3.14s/it]"
     ]
    },
    {
     "name": "stdout",
     "output_type": "stream",
     "text": [
      "132\n",
      "Enough patients for cohort atorvastatin_Alprazolam\n",
      "A cohort with the same name already exists, please choose another name\n"
     ]
    },
    {
     "name": "stderr",
     "output_type": "stream",
     "text": [
      "\r",
      "  4%|▍         | 9/200 [00:30<10:25,  3.28s/it]"
     ]
    },
    {
     "name": "stdout",
     "output_type": "stream",
     "text": [
      "292\n",
      "Enough patients for cohort rosuvastatin_Lisinopril\n",
      "A cohort with the same name already exists, please choose another name\n"
     ]
    },
    {
     "name": "stderr",
     "output_type": "stream",
     "text": [
      "\r",
      "  5%|▌         | 10/200 [00:33<10:11,  3.22s/it]"
     ]
    },
    {
     "name": "stdout",
     "output_type": "stream",
     "text": [
      "1\n",
      "Not enough patients for cohort Folic Acid_infliximab\n",
      "Cohort was deleted with exit status 204 \n",
      "A cohort with the same name already exists, please choose another name\n"
     ]
    },
    {
     "name": "stderr",
     "output_type": "stream",
     "text": [
      "\r",
      "  6%|▌         | 11/200 [00:37<10:47,  3.43s/it]"
     ]
    },
    {
     "name": "stdout",
     "output_type": "stream",
     "text": [
      "0\n",
      "Not enough patients for cohort Calcium_Lisinopril\n",
      "Cohort was deleted with exit status 204 \n",
      "A cohort with the same name already exists, please choose another name\n"
     ]
    },
    {
     "name": "stderr",
     "output_type": "stream",
     "text": [
      "\r",
      "  6%|▌         | 12/200 [00:41<11:39,  3.72s/it]"
     ]
    },
    {
     "name": "stdout",
     "output_type": "stream",
     "text": [
      "13\n",
      "Not enough patients for cohort Ascorbic Acid_Enalapril\n",
      "Cohort was deleted with exit status 204 \n",
      "A cohort with the same name already exists, please choose another name\n"
     ]
    },
    {
     "name": "stderr",
     "output_type": "stream",
     "text": [
      "\r",
      "  6%|▋         | 13/200 [00:44<10:55,  3.51s/it]"
     ]
    },
    {
     "name": "stdout",
     "output_type": "stream",
     "text": [
      "7\n",
      "Not enough patients for cohort Vitamin A_levothyroxine\n",
      "Cohort was deleted with exit status 204 \n",
      "A cohort with the same name already exists, please choose another name\n"
     ]
    },
    {
     "name": "stderr",
     "output_type": "stream",
     "text": [
      "\r",
      "  7%|▋         | 14/200 [00:47<10:37,  3.43s/it]"
     ]
    },
    {
     "name": "stdout",
     "output_type": "stream",
     "text": [
      "2\n",
      "Not enough patients for cohort Vitamin A_Lisinopril\n",
      "Cohort was deleted with exit status 204 \n",
      "A cohort with the same name already exists, please choose another name\n"
     ]
    },
    {
     "name": "stderr",
     "output_type": "stream",
     "text": [
      "\r",
      "  8%|▊         | 15/200 [00:50<09:52,  3.20s/it]"
     ]
    },
    {
     "name": "stdout",
     "output_type": "stream",
     "text": [
      "111\n",
      "Enough patients for cohort Alendronate_Aspirin\n",
      "A cohort with the same name already exists, please choose another name\n"
     ]
    },
    {
     "name": "stderr",
     "output_type": "stream",
     "text": [
      "\r",
      "  8%|▊         | 16/200 [00:54<10:45,  3.51s/it]"
     ]
    },
    {
     "name": "stdout",
     "output_type": "stream",
     "text": [
      "1\n",
      "Not enough patients for cohort Alendronate_tiotropium\n",
      "Cohort was deleted with exit status 204 \n",
      "A cohort with the same name already exists, please choose another name\n"
     ]
    },
    {
     "name": "stderr",
     "output_type": "stream",
     "text": [
      "\r",
      "  8%|▊         | 17/200 [00:57<10:15,  3.36s/it]"
     ]
    },
    {
     "name": "stdout",
     "output_type": "stream",
     "text": [
      "363\n",
      "Enough patients for cohort Pravastatin_Aspirin\n",
      "A cohort with the same name already exists, please choose another name\n"
     ]
    },
    {
     "name": "stderr",
     "output_type": "stream",
     "text": [
      "\r",
      "  9%|▉         | 18/200 [01:01<10:13,  3.37s/it]"
     ]
    },
    {
     "name": "stdout",
     "output_type": "stream",
     "text": [
      "286\n",
      "Enough patients for cohort Estrogens, Conjugated (USP)_levothyroxine\n",
      "A cohort with the same name already exists, please choose another name\n"
     ]
    },
    {
     "name": "stderr",
     "output_type": "stream",
     "text": [
      "\r",
      " 10%|▉         | 19/200 [01:04<10:23,  3.45s/it]"
     ]
    },
    {
     "name": "stdout",
     "output_type": "stream",
     "text": [
      "1041\n",
      "Enough patients for cohort atorvastatin_Simvastatin\n",
      "A cohort with the same name already exists, please choose another name\n"
     ]
    },
    {
     "name": "stderr",
     "output_type": "stream",
     "text": [
      "\r",
      " 10%|█         | 20/200 [01:09<11:12,  3.73s/it]"
     ]
    },
    {
     "name": "stdout",
     "output_type": "stream",
     "text": [
      "392\n",
      "Enough patients for cohort Simvastatin_Digoxin\n",
      "A cohort with the same name already exists, please choose another name\n"
     ]
    },
    {
     "name": "stderr",
     "output_type": "stream",
     "text": [
      "\r",
      " 10%|█         | 21/200 [01:12<10:43,  3.59s/it]"
     ]
    },
    {
     "name": "stdout",
     "output_type": "stream",
     "text": [
      "726\n",
      "Enough patients for cohort Simvastatin_Hydrocodone\n",
      "A cohort with the same name already exists, please choose another name\n"
     ]
    },
    {
     "name": "stderr",
     "output_type": "stream",
     "text": [
      "\r",
      " 11%|█         | 22/200 [01:16<10:48,  3.64s/it]"
     ]
    },
    {
     "name": "stdout",
     "output_type": "stream",
     "text": [
      "171\n",
      "Enough patients for cohort Simvastatin_Esomeprazole\n",
      "A cohort with the same name already exists, please choose another name\n"
     ]
    },
    {
     "name": "stderr",
     "output_type": "stream",
     "text": [
      "\r",
      " 12%|█▏        | 23/200 [01:19<10:03,  3.41s/it]"
     ]
    },
    {
     "name": "stdout",
     "output_type": "stream",
     "text": [
      "152\n",
      "Enough patients for cohort Simvastatin_Diazepam\n",
      "A cohort with the same name already exists, please choose another name\n"
     ]
    },
    {
     "name": "stderr",
     "output_type": "stream",
     "text": [
      "\r",
      " 12%|█▏        | 24/200 [01:22<10:05,  3.44s/it]"
     ]
    },
    {
     "name": "stdout",
     "output_type": "stream",
     "text": [
      "183\n",
      "Enough patients for cohort ezetimibe_Metoprolol\n",
      "A cohort with the same name already exists, please choose another name\n"
     ]
    },
    {
     "name": "stderr",
     "output_type": "stream",
     "text": [
      "\r",
      " 12%|█▎        | 25/200 [01:25<09:49,  3.37s/it]"
     ]
    },
    {
     "name": "stdout",
     "output_type": "stream",
     "text": [
      "169\n",
      "Enough patients for cohort ezetimibe_Aspirin\n",
      "A cohort with the same name already exists, please choose another name\n"
     ]
    },
    {
     "name": "stderr",
     "output_type": "stream",
     "text": [
      "\r",
      " 13%|█▎        | 26/200 [01:29<09:57,  3.44s/it]"
     ]
    },
    {
     "name": "stdout",
     "output_type": "stream",
     "text": [
      "11\n",
      "Not enough patients for cohort Teriparatide_Ranitidine\n",
      "Cohort was deleted with exit status 204 \n",
      "A cohort with the same name already exists, please choose another name\n"
     ]
    },
    {
     "name": "stderr",
     "output_type": "stream",
     "text": [
      "\r",
      " 14%|█▎        | 27/200 [01:32<09:48,  3.40s/it]"
     ]
    },
    {
     "name": "stdout",
     "output_type": "stream",
     "text": [
      "233\n",
      "Enough patients for cohort levothyroxine_Ranitidine\n",
      "A cohort with the same name already exists, please choose another name\n"
     ]
    },
    {
     "name": "stderr",
     "output_type": "stream",
     "text": [
      "\r",
      " 14%|█▍        | 28/200 [01:36<10:11,  3.55s/it]"
     ]
    },
    {
     "name": "stdout",
     "output_type": "stream",
     "text": [
      "161\n",
      "Enough patients for cohort Clonidine_Aspirin\n",
      "A cohort with the same name already exists, please choose another name\n"
     ]
    },
    {
     "name": "stderr",
     "output_type": "stream",
     "text": [
      "\r",
      " 14%|█▍        | 29/200 [01:39<09:46,  3.43s/it]"
     ]
    },
    {
     "name": "stdout",
     "output_type": "stream",
     "text": [
      "176\n",
      "Enough patients for cohort Losartan_Aspirin\n",
      "A cohort with the same name already exists, please choose another name\n"
     ]
    },
    {
     "name": "stderr",
     "output_type": "stream",
     "text": [
      "\r",
      " 15%|█▌        | 30/200 [01:43<09:46,  3.45s/it]"
     ]
    },
    {
     "name": "stdout",
     "output_type": "stream",
     "text": [
      "185\n",
      "Enough patients for cohort Ramipril_Aspirin\n",
      "A cohort with the same name already exists, please choose another name\n"
     ]
    },
    {
     "name": "stderr",
     "output_type": "stream",
     "text": [
      "\r",
      " 16%|█▌        | 31/200 [01:46<09:43,  3.45s/it]"
     ]
    },
    {
     "name": "stdout",
     "output_type": "stream",
     "text": [
      "745\n",
      "Enough patients for cohort Amlodipine_Lisinopril\n",
      "A cohort with the same name already exists, please choose another name\n"
     ]
    },
    {
     "name": "stderr",
     "output_type": "stream",
     "text": [
      "\r",
      " 16%|█▌        | 32/200 [01:50<10:05,  3.60s/it]"
     ]
    },
    {
     "name": "stdout",
     "output_type": "stream",
     "text": [
      "114\n",
      "Enough patients for cohort Amlodipine_Esomeprazole\n",
      "A cohort with the same name already exists, please choose another name\n"
     ]
    },
    {
     "name": "stderr",
     "output_type": "stream",
     "text": [
      "\r",
      " 16%|█▋        | 33/200 [01:53<09:32,  3.43s/it]"
     ]
    },
    {
     "name": "stdout",
     "output_type": "stream",
     "text": [
      "144\n",
      "Enough patients for cohort Lisinopril_Clonazepam\n",
      "A cohort with the same name already exists, please choose another name\n"
     ]
    },
    {
     "name": "stderr",
     "output_type": "stream",
     "text": [
      "\r",
      " 17%|█▋        | 34/200 [01:57<09:36,  3.47s/it]"
     ]
    },
    {
     "name": "stdout",
     "output_type": "stream",
     "text": [
      "32\n",
      "Enough patients for cohort Lisinopril_Escitalopram\n",
      "A cohort with the same name already exists, please choose another name\n"
     ]
    },
    {
     "name": "stderr",
     "output_type": "stream",
     "text": [
      "\r",
      " 18%|█▊        | 35/200 [02:00<09:36,  3.50s/it]"
     ]
    },
    {
     "name": "stdout",
     "output_type": "stream",
     "text": [
      "89\n",
      "Enough patients for cohort Metoprolol_Clonazepam\n",
      "A cohort with the same name already exists, please choose another name\n"
     ]
    },
    {
     "name": "stderr",
     "output_type": "stream",
     "text": [
      "\r",
      " 18%|█▊        | 36/200 [02:04<09:27,  3.46s/it]"
     ]
    },
    {
     "name": "stdout",
     "output_type": "stream",
     "text": [
      "46\n",
      "Enough patients for cohort Metoprolol_duloxetine\n",
      "A cohort with the same name already exists, please choose another name\n"
     ]
    },
    {
     "name": "stderr",
     "output_type": "stream",
     "text": [
      "\r",
      " 18%|█▊        | 37/200 [02:08<09:55,  3.65s/it]"
     ]
    },
    {
     "name": "stdout",
     "output_type": "stream",
     "text": [
      "148\n",
      "Enough patients for cohort Hydrocodone_Clonazepam\n",
      "A cohort with the same name already exists, please choose another name\n"
     ]
    },
    {
     "name": "stderr",
     "output_type": "stream",
     "text": [
      "\r",
      " 19%|█▉        | 38/200 [02:11<09:51,  3.65s/it]"
     ]
    },
    {
     "name": "stdout",
     "output_type": "stream",
     "text": [
      "151\n",
      "Enough patients for cohort Hydrocodone_Diazepam\n",
      "A cohort with the same name already exists, please choose another name\n"
     ]
    },
    {
     "name": "stderr",
     "output_type": "stream",
     "text": [
      "\r",
      " 20%|█▉        | 39/200 [02:14<09:14,  3.44s/it]"
     ]
    },
    {
     "name": "stdout",
     "output_type": "stream",
     "text": [
      "13\n",
      "Not enough patients for cohort Esomeprazole_Escitalopram\n",
      "Cohort was deleted with exit status 204 \n",
      "A cohort with the same name already exists, please choose another name\n"
     ]
    },
    {
     "name": "stderr",
     "output_type": "stream",
     "text": [
      "\r",
      " 20%|██        | 40/200 [02:18<09:10,  3.44s/it]"
     ]
    },
    {
     "name": "stdout",
     "output_type": "stream",
     "text": [
      "0\n",
      "Not enough patients for cohort telaprevir_levothyroxine\n",
      "Cohort was deleted with exit status 204 \n",
      "A cohort with the same name already exists, please choose another name\n"
     ]
    },
    {
     "name": "stderr",
     "output_type": "stream",
     "text": [
      "\r",
      " 20%|██        | 41/200 [02:21<09:17,  3.50s/it]"
     ]
    },
    {
     "name": "stdout",
     "output_type": "stream",
     "text": [
      "0\n",
      "Not enough patients for cohort Insulin_Amlodipine\n",
      "Cohort was deleted with exit status 204 \n",
      "A cohort with the same name already exists, please choose another name\n"
     ]
    },
    {
     "name": "stderr",
     "output_type": "stream",
     "text": [
      "\r",
      " 21%|██        | 42/200 [02:25<09:21,  3.56s/it]"
     ]
    },
    {
     "name": "stdout",
     "output_type": "stream",
     "text": [
      "0\n",
      "Not enough patients for cohort Folic Acid_Calcium\n",
      "Cohort was deleted with exit status 204 \n",
      "A cohort with the same name already exists, please choose another name\n"
     ]
    },
    {
     "name": "stderr",
     "output_type": "stream",
     "text": [
      "\r",
      " 22%|██▏       | 43/200 [02:28<09:10,  3.51s/it]"
     ]
    },
    {
     "name": "stdout",
     "output_type": "stream",
     "text": [
      "2\n",
      "Not enough patients for cohort Folic Acid_Vitamin D\n",
      "Cohort was deleted with exit status 204 \n",
      "A cohort with the same name already exists, please choose another name\n"
     ]
    },
    {
     "name": "stderr",
     "output_type": "stream",
     "text": [
      "\r",
      " 22%|██▏       | 44/200 [02:32<08:55,  3.44s/it]"
     ]
    },
    {
     "name": "stdout",
     "output_type": "stream",
     "text": [
      "2\n",
      "Not enough patients for cohort peginterferon alfa-2a_levothyroxine\n",
      "Cohort was deleted with exit status 204 \n",
      "A cohort with the same name already exists, please choose another name\n"
     ]
    },
    {
     "name": "stderr",
     "output_type": "stream",
     "text": [
      "\r",
      " 22%|██▎       | 45/200 [02:35<08:55,  3.45s/it]"
     ]
    },
    {
     "name": "stdout",
     "output_type": "stream",
     "text": [
      "46\n",
      "Enough patients for cohort Alendronate_Ramipril\n",
      "A cohort with the same name already exists, please choose another name\n"
     ]
    },
    {
     "name": "stderr",
     "output_type": "stream",
     "text": [
      "\r",
      " 23%|██▎       | 46/200 [02:39<08:54,  3.47s/it]"
     ]
    },
    {
     "name": "stdout",
     "output_type": "stream",
     "text": [
      "206\n",
      "Enough patients for cohort Simvastatin_Nitroglycerin\n",
      "A cohort with the same name already exists, please choose another name\n"
     ]
    },
    {
     "name": "stderr",
     "output_type": "stream",
     "text": [
      "\r",
      " 24%|██▎       | 47/200 [02:42<09:01,  3.54s/it]"
     ]
    },
    {
     "name": "stdout",
     "output_type": "stream",
     "text": [
      "173\n",
      "Enough patients for cohort Clonidine_Amlodipine\n",
      "A cohort with the same name already exists, please choose another name\n"
     ]
    },
    {
     "name": "stderr",
     "output_type": "stream",
     "text": [
      "\r",
      " 24%|██▍       | 48/200 [02:46<09:10,  3.62s/it]"
     ]
    },
    {
     "name": "stdout",
     "output_type": "stream",
     "text": [
      "183\n",
      "Enough patients for cohort Clonidine_Metoprolol\n",
      "A cohort with the same name already exists, please choose another name\n"
     ]
    },
    {
     "name": "stderr",
     "output_type": "stream",
     "text": [
      "\r",
      " 24%|██▍       | 49/200 [02:50<09:06,  3.62s/it]"
     ]
    },
    {
     "name": "stdout",
     "output_type": "stream",
     "text": [
      "339\n",
      "Enough patients for cohort Nitroglycerin_Lisinopril\n",
      "A cohort with the same name already exists, please choose another name\n"
     ]
    },
    {
     "name": "stderr",
     "output_type": "stream",
     "text": [
      "\r",
      " 25%|██▌       | 50/200 [02:53<08:35,  3.44s/it]"
     ]
    },
    {
     "name": "stdout",
     "output_type": "stream",
     "text": [
      "231\n",
      "Enough patients for cohort Nitroglycerin_Furosemide\n",
      "A cohort with the same name already exists, please choose another name\n"
     ]
    },
    {
     "name": "stderr",
     "output_type": "stream",
     "text": [
      "\r",
      " 26%|██▌       | 51/200 [02:56<08:26,  3.40s/it]"
     ]
    },
    {
     "name": "stdout",
     "output_type": "stream",
     "text": [
      "205\n",
      "Enough patients for cohort Metoprolol_Ranitidine\n",
      "A cohort with the same name already exists, please choose another name\n"
     ]
    },
    {
     "name": "stderr",
     "output_type": "stream",
     "text": [
      "\r",
      " 26%|██▌       | 52/200 [03:00<08:34,  3.48s/it]"
     ]
    },
    {
     "name": "stdout",
     "output_type": "stream",
     "text": [
      "4\n",
      "Not enough patients for cohort Methotrexate_infliximab\n",
      "Cohort was deleted with exit status 204 \n",
      "A cohort with the same name already exists, please choose another name\n"
     ]
    },
    {
     "name": "stderr",
     "output_type": "stream",
     "text": [
      "\r",
      " 26%|██▋       | 53/200 [03:03<08:29,  3.47s/it]"
     ]
    },
    {
     "name": "stdout",
     "output_type": "stream",
     "text": [
      "102\n",
      "Enough patients for cohort Albuterol_Esomeprazole\n",
      "A cohort with the same name already exists, please choose another name\n"
     ]
    },
    {
     "name": "stderr",
     "output_type": "stream",
     "text": [
      "\r",
      " 27%|██▋       | 54/200 [03:07<08:23,  3.45s/it]"
     ]
    },
    {
     "name": "stdout",
     "output_type": "stream",
     "text": [
      "233\n",
      "Enough patients for cohort olmesartan_Aspirin\n",
      "A cohort with the same name already exists, please choose another name\n"
     ]
    },
    {
     "name": "stderr",
     "output_type": "stream",
     "text": [
      "\r",
      " 28%|██▊       | 55/200 [03:11<08:48,  3.64s/it]"
     ]
    },
    {
     "name": "stdout",
     "output_type": "stream",
     "text": [
      "0\n",
      "Not enough patients for cohort Multivitamin preparation_Digoxin\n",
      "Cohort was deleted with exit status 204 \n",
      "A cohort with the same name already exists, please choose another name\n"
     ]
    },
    {
     "name": "stderr",
     "output_type": "stream",
     "text": [
      "\r",
      " 28%|██▊       | 56/200 [03:14<08:21,  3.49s/it]"
     ]
    },
    {
     "name": "stdout",
     "output_type": "stream",
     "text": [
      "0\n",
      "Not enough patients for cohort Multivitamin preparation_Lisinopril\n",
      "Cohort was deleted with exit status 204 \n",
      "A cohort with the same name already exists, please choose another name\n"
     ]
    },
    {
     "name": "stderr",
     "output_type": "stream",
     "text": [
      "\r",
      " 28%|██▊       | 57/200 [03:17<08:10,  3.43s/it]"
     ]
    },
    {
     "name": "stdout",
     "output_type": "stream",
     "text": [
      "0\n",
      "Not enough patients for cohort Multivitamin preparation_Metoprolol\n",
      "Cohort was deleted with exit status 204 \n",
      "A cohort with the same name already exists, please choose another name\n"
     ]
    },
    {
     "name": "stderr",
     "output_type": "stream",
     "text": [
      "\r",
      " 29%|██▉       | 58/200 [03:21<08:17,  3.50s/it]"
     ]
    },
    {
     "name": "stdout",
     "output_type": "stream",
     "text": [
      "0\n",
      "Not enough patients for cohort Multivitamin preparation_Methotrexate\n",
      "Cohort was deleted with exit status 204 \n",
      "A cohort with the same name already exists, please choose another name\n"
     ]
    },
    {
     "name": "stderr",
     "output_type": "stream",
     "text": [
      "\r",
      " 30%|██▉       | 59/200 [03:25<08:24,  3.58s/it]"
     ]
    },
    {
     "name": "stdout",
     "output_type": "stream",
     "text": [
      "0\n",
      "Not enough patients for cohort Multivitamin preparation_Hydrocodone\n",
      "Cohort was deleted with exit status 204 \n",
      "A cohort with the same name already exists, please choose another name\n"
     ]
    },
    {
     "name": "stderr",
     "output_type": "stream",
     "text": [
      "\r",
      " 30%|███       | 60/200 [03:29<08:39,  3.71s/it]"
     ]
    },
    {
     "name": "stdout",
     "output_type": "stream",
     "text": [
      "0\n",
      "Not enough patients for cohort Multivitamin preparation_Aspirin\n",
      "Cohort was deleted with exit status 204 \n",
      "A cohort with the same name already exists, please choose another name\n"
     ]
    },
    {
     "name": "stderr",
     "output_type": "stream",
     "text": [
      "\r",
      " 30%|███       | 61/200 [03:33<08:44,  3.77s/it]"
     ]
    },
    {
     "name": "stdout",
     "output_type": "stream",
     "text": [
      "31\n",
      "Enough patients for cohort Folic Acid_atorvastatin\n",
      "A cohort with the same name already exists, please choose another name\n"
     ]
    },
    {
     "name": "stderr",
     "output_type": "stream",
     "text": [
      "\r",
      " 31%|███       | 62/200 [03:36<08:10,  3.55s/it]"
     ]
    },
    {
     "name": "stdout",
     "output_type": "stream",
     "text": [
      "99\n",
      "Enough patients for cohort Folic Acid_levothyroxine\n",
      "A cohort with the same name already exists, please choose another name\n"
     ]
    },
    {
     "name": "stderr",
     "output_type": "stream",
     "text": [
      "\r",
      " 32%|███▏      | 63/200 [03:39<08:11,  3.59s/it]"
     ]
    },
    {
     "name": "stdout",
     "output_type": "stream",
     "text": [
      "33\n",
      "Enough patients for cohort Folic Acid_Amlodipine\n",
      "A cohort with the same name already exists, please choose another name\n"
     ]
    },
    {
     "name": "stderr",
     "output_type": "stream",
     "text": [
      "\r",
      " 32%|███▏      | 64/200 [03:42<07:41,  3.39s/it]"
     ]
    },
    {
     "name": "stdout",
     "output_type": "stream",
     "text": [
      "12\n",
      "Not enough patients for cohort Folic Acid_Esomeprazole\n",
      "Cohort was deleted with exit status 204 \n",
      "A cohort with the same name already exists, please choose another name\n"
     ]
    },
    {
     "name": "stderr",
     "output_type": "stream",
     "text": [
      "\r",
      " 32%|███▎      | 65/200 [03:45<07:28,  3.32s/it]"
     ]
    },
    {
     "name": "stdout",
     "output_type": "stream",
     "text": [
      "12\n",
      "Not enough patients for cohort Folic Acid_Alprazolam\n",
      "Cohort was deleted with exit status 204 \n",
      "A cohort with the same name already exists, please choose another name\n"
     ]
    },
    {
     "name": "stderr",
     "output_type": "stream",
     "text": [
      "\r",
      " 33%|███▎      | 66/200 [03:49<07:49,  3.51s/it]"
     ]
    },
    {
     "name": "stdout",
     "output_type": "stream",
     "text": [
      "115\n",
      "Enough patients for cohort Calcium Carbonate_Aspirin\n",
      "A cohort with the same name already exists, please choose another name\n"
     ]
    },
    {
     "name": "stderr",
     "output_type": "stream",
     "text": [
      "\r",
      " 34%|███▎      | 67/200 [03:53<07:39,  3.45s/it]"
     ]
    },
    {
     "name": "stdout",
     "output_type": "stream",
     "text": [
      "0\n",
      "Not enough patients for cohort Calcium_Vitamin D\n",
      "Cohort was deleted with exit status 204 \n",
      "A cohort with the same name already exists, please choose another name\n"
     ]
    },
    {
     "name": "stderr",
     "output_type": "stream",
     "text": [
      "\r",
      " 34%|███▍      | 68/200 [03:56<07:42,  3.50s/it]"
     ]
    },
    {
     "name": "stdout",
     "output_type": "stream",
     "text": [
      "0\n",
      "Not enough patients for cohort Calcium_Simvastatin\n",
      "Cohort was deleted with exit status 204 \n",
      "A cohort with the same name already exists, please choose another name\n"
     ]
    },
    {
     "name": "stderr",
     "output_type": "stream",
     "text": [
      "\r",
      " 34%|███▍      | 69/200 [03:59<07:24,  3.39s/it]"
     ]
    },
    {
     "name": "stdout",
     "output_type": "stream",
     "text": [
      "0\n",
      "Not enough patients for cohort Calcium_Metoprolol\n",
      "Cohort was deleted with exit status 204 \n",
      "A cohort with the same name already exists, please choose another name\n"
     ]
    },
    {
     "name": "stderr",
     "output_type": "stream",
     "text": [
      "\r",
      " 35%|███▌      | 70/200 [04:03<07:26,  3.43s/it]"
     ]
    },
    {
     "name": "stdout",
     "output_type": "stream",
     "text": [
      "0\n",
      "Not enough patients for cohort Calcium_Aspirin\n",
      "Cohort was deleted with exit status 204 \n",
      "A cohort with the same name already exists, please choose another name\n"
     ]
    },
    {
     "name": "stderr",
     "output_type": "stream",
     "text": [
      "\r",
      " 36%|███▌      | 71/200 [04:07<07:49,  3.64s/it]"
     ]
    },
    {
     "name": "stdout",
     "output_type": "stream",
     "text": [
      "21\n",
      "Not enough patients for cohort Ascorbic Acid_Aspirin\n",
      "Cohort was deleted with exit status 204 \n",
      "A cohort with the same name already exists, please choose another name\n"
     ]
    },
    {
     "name": "stderr",
     "output_type": "stream",
     "text": [
      "\r",
      " 36%|███▌      | 72/200 [04:10<07:23,  3.47s/it]"
     ]
    },
    {
     "name": "stdout",
     "output_type": "stream",
     "text": [
      "7\n",
      "Not enough patients for cohort Vitamin D_levothyroxine\n",
      "Cohort was deleted with exit status 204 \n",
      "A cohort with the same name already exists, please choose another name\n"
     ]
    },
    {
     "name": "stderr",
     "output_type": "stream",
     "text": [
      "\r",
      " 36%|███▋      | 73/200 [04:13<07:12,  3.41s/it]"
     ]
    },
    {
     "name": "stdout",
     "output_type": "stream",
     "text": [
      "7\n",
      "Not enough patients for cohort Vitamin D_Metoprolol\n",
      "Cohort was deleted with exit status 204 \n",
      "A cohort with the same name already exists, please choose another name\n"
     ]
    },
    {
     "name": "stderr",
     "output_type": "stream",
     "text": [
      "\r",
      " 37%|███▋      | 74/200 [04:17<07:19,  3.49s/it]"
     ]
    },
    {
     "name": "stdout",
     "output_type": "stream",
     "text": [
      "1061\n",
      "Enough patients for cohort atorvastatin_levothyroxine\n",
      "A cohort with the same name already exists, please choose another name\n"
     ]
    },
    {
     "name": "stderr",
     "output_type": "stream",
     "text": [
      "\r",
      " 38%|███▊      | 75/200 [04:21<07:23,  3.55s/it]"
     ]
    },
    {
     "name": "stdout",
     "output_type": "stream",
     "text": [
      "613\n",
      "Enough patients for cohort atorvastatin_Hydrocodone\n",
      "A cohort with the same name already exists, please choose another name\n"
     ]
    },
    {
     "name": "stderr",
     "output_type": "stream",
     "text": [
      "\r",
      " 38%|███▊      | 76/200 [04:24<07:14,  3.51s/it]"
     ]
    },
    {
     "name": "stdout",
     "output_type": "stream",
     "text": [
      "36\n",
      "Enough patients for cohort atorvastatin_duloxetine\n",
      "A cohort with the same name already exists, please choose another name\n"
     ]
    },
    {
     "name": "stderr",
     "output_type": "stream",
     "text": [
      "\r",
      " 38%|███▊      | 77/200 [04:28<07:05,  3.46s/it]"
     ]
    },
    {
     "name": "stdout",
     "output_type": "stream",
     "text": [
      "615\n",
      "Enough patients for cohort levothyroxine_Metoprolol\n",
      "A cohort with the same name already exists, please choose another name\n"
     ]
    },
    {
     "name": "stderr",
     "output_type": "stream",
     "text": [
      "\r",
      " 39%|███▉      | 78/200 [04:31<07:04,  3.48s/it]"
     ]
    },
    {
     "name": "stdout",
     "output_type": "stream",
     "text": [
      "749\n",
      "Enough patients for cohort levothyroxine_Hydrocodone\n",
      "A cohort with the same name already exists, please choose another name\n"
     ]
    },
    {
     "name": "stderr",
     "output_type": "stream",
     "text": [
      "\r",
      " 40%|███▉      | 79/200 [04:35<07:17,  3.62s/it]"
     ]
    },
    {
     "name": "stdout",
     "output_type": "stream",
     "text": [
      "192\n",
      "Enough patients for cohort levothyroxine_Alprazolam\n",
      "A cohort with the same name already exists, please choose another name\n"
     ]
    },
    {
     "name": "stderr",
     "output_type": "stream",
     "text": [
      "\r",
      " 40%|████      | 80/200 [04:38<06:49,  3.41s/it]"
     ]
    },
    {
     "name": "stdout",
     "output_type": "stream",
     "text": [
      "36\n",
      "Enough patients for cohort Paclitaxel_Hydrocodone\n",
      "A cohort with the same name already exists, please choose another name\n"
     ]
    },
    {
     "name": "stderr",
     "output_type": "stream",
     "text": [
      "\r",
      " 40%|████      | 81/200 [04:46<09:44,  4.91s/it]"
     ]
    },
    {
     "name": "stdout",
     "output_type": "stream",
     "text": [
      "287\n",
      "Enough patients for cohort valsartan_Aspirin\n",
      "A cohort with the same name already exists, please choose another name\n"
     ]
    },
    {
     "name": "stderr",
     "output_type": "stream",
     "text": [
      "\r",
      " 41%|████      | 82/200 [04:49<08:27,  4.30s/it]"
     ]
    },
    {
     "name": "stdout",
     "output_type": "stream",
     "text": [
      "371\n",
      "Enough patients for cohort Lisinopril_Albuterol\n",
      "A cohort with the same name already exists, please choose another name\n"
     ]
    },
    {
     "name": "stderr",
     "output_type": "stream",
     "text": [
      "\r",
      " 42%|████▏     | 83/200 [04:52<07:45,  3.98s/it]"
     ]
    },
    {
     "name": "stdout",
     "output_type": "stream",
     "text": [
      "326\n",
      "Enough patients for cohort Metoprolol_Albuterol\n",
      "A cohort with the same name already exists, please choose another name\n"
     ]
    },
    {
     "name": "stderr",
     "output_type": "stream",
     "text": [
      "\r",
      " 42%|████▏     | 84/200 [04:56<07:22,  3.82s/it]"
     ]
    },
    {
     "name": "stdout",
     "output_type": "stream",
     "text": [
      "384\n",
      "Enough patients for cohort Hydrocodone_Albuterol\n",
      "A cohort with the same name already exists, please choose another name\n"
     ]
    },
    {
     "name": "stderr",
     "output_type": "stream",
     "text": [
      "\r",
      " 42%|████▎     | 85/200 [04:59<06:38,  3.47s/it]"
     ]
    },
    {
     "name": "stdout",
     "output_type": "stream",
     "text": [
      "572\n",
      "Enough patients for cohort Hydrocodone_Aspirin\n",
      "A cohort with the same name already exists, please choose another name\n"
     ]
    },
    {
     "name": "stderr",
     "output_type": "stream",
     "text": [
      "\r",
      " 43%|████▎     | 86/200 [05:02<06:32,  3.45s/it]"
     ]
    },
    {
     "name": "stdout",
     "output_type": "stream",
     "text": [
      "579\n",
      "Enough patients for cohort Hydrocodone_Furosemide\n",
      "A cohort with the same name already exists, please choose another name\n"
     ]
    },
    {
     "name": "stderr",
     "output_type": "stream",
     "text": [
      "\r",
      " 44%|████▎     | 87/200 [05:05<06:29,  3.45s/it]"
     ]
    },
    {
     "name": "stdout",
     "output_type": "stream",
     "text": [
      "3\n",
      "Not enough patients for cohort Albuterol_tiotropium\n",
      "Cohort was deleted with exit status 204 \n",
      "A cohort with the same name already exists, please choose another name\n"
     ]
    },
    {
     "name": "stderr",
     "output_type": "stream",
     "text": [
      "\r",
      " 44%|████▍     | 88/200 [05:09<06:30,  3.49s/it]"
     ]
    },
    {
     "name": "stdout",
     "output_type": "stream",
     "text": [
      "96\n",
      "Enough patients for cohort Albuterol_Clonazepam\n",
      "A cohort with the same name already exists, please choose another name\n"
     ]
    },
    {
     "name": "stderr",
     "output_type": "stream",
     "text": [
      "\r",
      " 44%|████▍     | 89/200 [05:12<06:28,  3.50s/it]"
     ]
    },
    {
     "name": "stdout",
     "output_type": "stream",
     "text": [
      "36\n",
      "Enough patients for cohort Aspirin_Escitalopram\n",
      "A cohort with the same name already exists, please choose another name\n"
     ]
    },
    {
     "name": "stderr",
     "output_type": "stream",
     "text": [
      "\r",
      " 45%|████▌     | 90/200 [05:16<06:22,  3.48s/it]"
     ]
    },
    {
     "name": "stdout",
     "output_type": "stream",
     "text": [
      "0\n",
      "Not enough patients for cohort Multivitamin preparation_Calcium Carbonate\n",
      "Cohort was deleted with exit status 204 \n",
      "A cohort with the same name already exists, please choose another name\n"
     ]
    },
    {
     "name": "stderr",
     "output_type": "stream",
     "text": [
      "\r",
      " 46%|████▌     | 91/200 [05:19<06:19,  3.48s/it]"
     ]
    },
    {
     "name": "stdout",
     "output_type": "stream",
     "text": [
      "0\n",
      "Not enough patients for cohort Multivitamin preparation_Ascorbic Acid\n",
      "Cohort was deleted with exit status 204 \n",
      "A cohort with the same name already exists, please choose another name\n"
     ]
    },
    {
     "name": "stderr",
     "output_type": "stream",
     "text": [
      "\r",
      " 46%|████▌     | 92/200 [05:23<06:23,  3.55s/it]"
     ]
    },
    {
     "name": "stdout",
     "output_type": "stream",
     "text": [
      "0\n",
      "Not enough patients for cohort Multivitamin preparation_Alendronate\n",
      "Cohort was deleted with exit status 204 \n",
      "A cohort with the same name already exists, please choose another name\n"
     ]
    },
    {
     "name": "stderr",
     "output_type": "stream",
     "text": [
      "\r",
      " 46%|████▋     | 93/200 [05:27<06:27,  3.63s/it]"
     ]
    },
    {
     "name": "stdout",
     "output_type": "stream",
     "text": [
      "0\n",
      "Not enough patients for cohort Multivitamin preparation_atorvastatin\n",
      "Cohort was deleted with exit status 204 \n",
      "A cohort with the same name already exists, please choose another name\n"
     ]
    },
    {
     "name": "stderr",
     "output_type": "stream",
     "text": [
      "\r",
      " 47%|████▋     | 94/200 [05:31<06:32,  3.70s/it]"
     ]
    },
    {
     "name": "stdout",
     "output_type": "stream",
     "text": [
      "0\n",
      "Not enough patients for cohort Multivitamin preparation_Simvastatin\n",
      "Cohort was deleted with exit status 204 \n",
      "A cohort with the same name already exists, please choose another name\n"
     ]
    },
    {
     "name": "stderr",
     "output_type": "stream",
     "text": [
      "\r",
      " 48%|████▊     | 95/200 [05:35<06:54,  3.95s/it]"
     ]
    },
    {
     "name": "stdout",
     "output_type": "stream",
     "text": [
      "0\n",
      "Not enough patients for cohort Multivitamin preparation_levothyroxine\n",
      "Cohort was deleted with exit status 204 \n",
      "A cohort with the same name already exists, please choose another name\n"
     ]
    },
    {
     "name": "stderr",
     "output_type": "stream",
     "text": [
      "\r",
      " 48%|████▊     | 96/200 [05:41<07:30,  4.33s/it]"
     ]
    },
    {
     "name": "stdout",
     "output_type": "stream",
     "text": [
      "0\n",
      "Not enough patients for cohort Multivitamin preparation_Albuterol\n",
      "Cohort was deleted with exit status 204 \n",
      "A cohort with the same name already exists, please choose another name\n"
     ]
    },
    {
     "name": "stderr",
     "output_type": "stream",
     "text": [
      "\r",
      " 48%|████▊     | 97/200 [05:44<07:01,  4.09s/it]"
     ]
    },
    {
     "name": "stdout",
     "output_type": "stream",
     "text": [
      "0\n",
      "Not enough patients for cohort Multivitamin preparation_Diphenhydramine\n",
      "Cohort was deleted with exit status 204 \n",
      "A cohort with the same name already exists, please choose another name\n"
     ]
    },
    {
     "name": "stderr",
     "output_type": "stream",
     "text": [
      "\r",
      " 49%|████▉     | 98/200 [05:48<06:39,  3.92s/it]"
     ]
    },
    {
     "name": "stdout",
     "output_type": "stream",
     "text": [
      "0\n",
      "Not enough patients for cohort Multivitamin preparation_Alprazolam\n",
      "Cohort was deleted with exit status 204 \n",
      "A cohort with the same name already exists, please choose another name\n"
     ]
    },
    {
     "name": "stderr",
     "output_type": "stream",
     "text": [
      "\r",
      " 50%|████▉     | 99/200 [05:51<06:21,  3.78s/it]"
     ]
    },
    {
     "name": "stdout",
     "output_type": "stream",
     "text": [
      "0\n",
      "Not enough patients for cohort Multivitamin preparation_Diazepam\n",
      "Cohort was deleted with exit status 204 \n",
      "A cohort with the same name already exists, please choose another name\n"
     ]
    },
    {
     "name": "stderr",
     "output_type": "stream",
     "text": [
      "\r",
      " 50%|█████     | 100/200 [05:54<06:07,  3.68s/it]"
     ]
    },
    {
     "name": "stdout",
     "output_type": "stream",
     "text": [
      "0\n",
      "Not enough patients for cohort Insulin_Simvastatin\n",
      "Cohort was deleted with exit status 204 \n",
      "A cohort with the same name already exists, please choose another name\n"
     ]
    },
    {
     "name": "stderr",
     "output_type": "stream",
     "text": [
      "\r",
      " 50%|█████     | 101/200 [05:59<06:17,  3.81s/it]"
     ]
    },
    {
     "name": "stdout",
     "output_type": "stream",
     "text": [
      "0\n",
      "Not enough patients for cohort Insulin_Metoprolol\n",
      "Cohort was deleted with exit status 204 \n",
      "A cohort with the same name already exists, please choose another name\n"
     ]
    },
    {
     "name": "stderr",
     "output_type": "stream",
     "text": [
      "\r",
      " 51%|█████     | 102/200 [06:02<05:47,  3.54s/it]"
     ]
    },
    {
     "name": "stdout",
     "output_type": "stream",
     "text": [
      "0\n",
      "Not enough patients for cohort Folic Acid_Simvastatin\n",
      "Cohort was deleted with exit status 204 \n",
      "A cohort with the same name already exists, please choose another name\n"
     ]
    },
    {
     "name": "stderr",
     "output_type": "stream",
     "text": [
      "\r",
      " 52%|█████▏    | 103/200 [06:06<06:08,  3.80s/it]"
     ]
    },
    {
     "name": "stdout",
     "output_type": "stream",
     "text": [
      "0\n",
      "Not enough patients for cohort Folic Acid_Lisinopril\n",
      "Cohort was deleted with exit status 204 \n",
      "A cohort with the same name already exists, please choose another name\n"
     ]
    },
    {
     "name": "stderr",
     "output_type": "stream",
     "text": [
      "\r",
      " 52%|█████▏    | 104/200 [06:09<05:39,  3.53s/it]"
     ]
    },
    {
     "name": "stdout",
     "output_type": "stream",
     "text": [
      "0\n",
      "Not enough patients for cohort Folic Acid_Hydrocodone\n",
      "Cohort was deleted with exit status 204 \n",
      "A cohort with the same name already exists, please choose another name\n"
     ]
    },
    {
     "name": "stderr",
     "output_type": "stream",
     "text": [
      "\r",
      " 52%|█████▎    | 105/200 [06:12<05:33,  3.51s/it]"
     ]
    },
    {
     "name": "stdout",
     "output_type": "stream",
     "text": [
      "0\n",
      "Not enough patients for cohort Folic Acid_Albuterol\n",
      "Cohort was deleted with exit status 204 \n",
      "A cohort with the same name already exists, please choose another name\n"
     ]
    },
    {
     "name": "stderr",
     "output_type": "stream",
     "text": [
      "\r",
      " 53%|█████▎    | 106/200 [06:16<05:23,  3.44s/it]"
     ]
    },
    {
     "name": "stdout",
     "output_type": "stream",
     "text": [
      "0\n",
      "Not enough patients for cohort Folic Acid_Diazepam\n",
      "Cohort was deleted with exit status 204 \n",
      "A cohort with the same name already exists, please choose another name\n"
     ]
    },
    {
     "name": "stderr",
     "output_type": "stream",
     "text": [
      "\r",
      " 54%|█████▎    | 107/200 [06:19<05:23,  3.48s/it]"
     ]
    },
    {
     "name": "stdout",
     "output_type": "stream",
     "text": [
      "0\n",
      "Not enough patients for cohort Potassium Chloride_Lisinopril\n",
      "Cohort was deleted with exit status 204 \n",
      "A cohort with the same name already exists, please choose another name\n"
     ]
    },
    {
     "name": "stderr",
     "output_type": "stream",
     "text": [
      "\r",
      " 54%|█████▍    | 108/200 [06:23<05:24,  3.53s/it]"
     ]
    },
    {
     "name": "stdout",
     "output_type": "stream",
     "text": [
      "0\n",
      "Not enough patients for cohort Potassium Chloride_Metoprolol\n",
      "Cohort was deleted with exit status 204 \n",
      "A cohort with the same name already exists, please choose another name\n"
     ]
    },
    {
     "name": "stderr",
     "output_type": "stream",
     "text": [
      "\r",
      " 55%|█████▍    | 109/200 [06:26<05:25,  3.57s/it]"
     ]
    },
    {
     "name": "stdout",
     "output_type": "stream",
     "text": [
      "0\n",
      "Not enough patients for cohort Potassium Chloride_Hydrocodone\n",
      "Cohort was deleted with exit status 204 \n",
      "A cohort with the same name already exists, please choose another name\n"
     ]
    },
    {
     "name": "stderr",
     "output_type": "stream",
     "text": [
      "\r",
      " 55%|█████▌    | 110/200 [06:30<05:11,  3.46s/it]"
     ]
    },
    {
     "name": "stdout",
     "output_type": "stream",
     "text": [
      "0\n",
      "Not enough patients for cohort Potassium Chloride_Albuterol\n",
      "Cohort was deleted with exit status 204 \n",
      "A cohort with the same name already exists, please choose another name\n"
     ]
    },
    {
     "name": "stderr",
     "output_type": "stream",
     "text": [
      "\r",
      " 56%|█████▌    | 111/200 [06:33<05:06,  3.44s/it]"
     ]
    },
    {
     "name": "stdout",
     "output_type": "stream",
     "text": [
      "0\n",
      "Not enough patients for cohort Potassium Chloride_Aspirin\n",
      "Cohort was deleted with exit status 204 \n",
      "A cohort with the same name already exists, please choose another name\n"
     ]
    },
    {
     "name": "stderr",
     "output_type": "stream",
     "text": [
      "\r",
      " 56%|█████▌    | 112/200 [06:37<05:07,  3.49s/it]"
     ]
    },
    {
     "name": "stdout",
     "output_type": "stream",
     "text": [
      "0\n",
      "Not enough patients for cohort Calcium_levothyroxine\n",
      "Cohort was deleted with exit status 204 \n",
      "A cohort with the same name already exists, please choose another name\n"
     ]
    },
    {
     "name": "stderr",
     "output_type": "stream",
     "text": [
      "\r",
      " 56%|█████▋    | 113/200 [06:45<07:09,  4.94s/it]"
     ]
    },
    {
     "name": "stdout",
     "output_type": "stream",
     "text": [
      "0\n",
      "Not enough patients for cohort Vitamin A_Simvastatin\n",
      "Cohort was deleted with exit status 204 \n",
      "A cohort with the same name already exists, please choose another name\n"
     ]
    },
    {
     "name": "stderr",
     "output_type": "stream",
     "text": [
      "\r",
      " 57%|█████▋    | 114/200 [06:48<06:12,  4.33s/it]"
     ]
    },
    {
     "name": "stdout",
     "output_type": "stream",
     "text": [
      "0\n",
      "Not enough patients for cohort Insulin Lispro_Aspirin\n",
      "Cohort was deleted with exit status 204 \n",
      "A cohort with the same name already exists, please choose another name\n"
     ]
    },
    {
     "name": "stderr",
     "output_type": "stream",
     "text": [
      "\r",
      " 57%|█████▊    | 115/200 [06:51<05:45,  4.06s/it]"
     ]
    },
    {
     "name": "stdout",
     "output_type": "stream",
     "text": [
      "0\n",
      "Not enough patients for cohort atorvastatin_Amlodipine\n",
      "Cohort was deleted with exit status 204 \n",
      "A cohort with the same name already exists, please choose another name\n"
     ]
    },
    {
     "name": "stderr",
     "output_type": "stream",
     "text": [
      "\r",
      " 58%|█████▊    | 116/200 [06:55<05:31,  3.94s/it]"
     ]
    },
    {
     "name": "stdout",
     "output_type": "stream",
     "text": [
      "0\n",
      "Not enough patients for cohort atorvastatin_Warfarin\n",
      "Cohort was deleted with exit status 204 \n",
      "A cohort with the same name already exists, please choose another name\n"
     ]
    },
    {
     "name": "stderr",
     "output_type": "stream",
     "text": [
      "\r",
      " 58%|█████▊    | 117/200 [06:58<05:08,  3.72s/it]"
     ]
    },
    {
     "name": "stdout",
     "output_type": "stream",
     "text": [
      "0\n",
      "Not enough patients for cohort atorvastatin_Lisinopril\n",
      "Cohort was deleted with exit status 204 \n",
      "A cohort with the same name already exists, please choose another name\n"
     ]
    },
    {
     "name": "stderr",
     "output_type": "stream",
     "text": [
      "\r",
      " 59%|█████▉    | 118/200 [07:01<04:48,  3.52s/it]"
     ]
    },
    {
     "name": "stdout",
     "output_type": "stream",
     "text": [
      "0\n",
      "Not enough patients for cohort atorvastatin_Metoprolol\n",
      "Cohort was deleted with exit status 204 \n",
      "A cohort with the same name already exists, please choose another name\n"
     ]
    },
    {
     "name": "stderr",
     "output_type": "stream",
     "text": [
      "\r",
      " 60%|█████▉    | 119/200 [07:04<04:32,  3.37s/it]"
     ]
    },
    {
     "name": "stdout",
     "output_type": "stream",
     "text": [
      "0\n",
      "Not enough patients for cohort atorvastatin_Albuterol\n",
      "Cohort was deleted with exit status 204 \n",
      "A cohort with the same name already exists, please choose another name\n"
     ]
    },
    {
     "name": "stderr",
     "output_type": "stream",
     "text": [
      "\r",
      " 60%|██████    | 120/200 [07:08<04:29,  3.37s/it]"
     ]
    },
    {
     "name": "stdout",
     "output_type": "stream",
     "text": [
      "0\n",
      "Not enough patients for cohort atorvastatin_Aspirin\n",
      "Cohort was deleted with exit status 204 \n",
      "A cohort with the same name already exists, please choose another name\n"
     ]
    },
    {
     "name": "stderr",
     "output_type": "stream",
     "text": [
      "\r",
      " 60%|██████    | 121/200 [07:11<04:28,  3.40s/it]"
     ]
    },
    {
     "name": "stdout",
     "output_type": "stream",
     "text": [
      "0\n",
      "Not enough patients for cohort Simvastatin_levothyroxine\n",
      "Cohort was deleted with exit status 204 \n",
      "A cohort with the same name already exists, please choose another name\n"
     ]
    },
    {
     "name": "stderr",
     "output_type": "stream",
     "text": [
      "\r",
      " 61%|██████    | 122/200 [07:15<04:25,  3.41s/it]"
     ]
    },
    {
     "name": "stdout",
     "output_type": "stream",
     "text": [
      "0\n",
      "Not enough patients for cohort Simvastatin_Amlodipine\n",
      "Cohort was deleted with exit status 204 \n",
      "A cohort with the same name already exists, please choose another name\n"
     ]
    },
    {
     "name": "stderr",
     "output_type": "stream",
     "text": [
      "\r",
      " 62%|██████▏   | 123/200 [07:18<04:30,  3.52s/it]"
     ]
    },
    {
     "name": "stdout",
     "output_type": "stream",
     "text": [
      "0\n",
      "Not enough patients for cohort Simvastatin_Warfarin\n",
      "Cohort was deleted with exit status 204 \n",
      "A cohort with the same name already exists, please choose another name\n"
     ]
    },
    {
     "name": "stderr",
     "output_type": "stream",
     "text": [
      "\r",
      " 62%|██████▏   | 124/200 [07:22<04:40,  3.69s/it]"
     ]
    },
    {
     "name": "stdout",
     "output_type": "stream",
     "text": [
      "0\n",
      "Not enough patients for cohort Simvastatin_Lisinopril\n",
      "Cohort was deleted with exit status 204 \n",
      "A cohort with the same name already exists, please choose another name\n"
     ]
    },
    {
     "name": "stderr",
     "output_type": "stream",
     "text": [
      "\r",
      " 62%|██████▎   | 125/200 [07:25<04:22,  3.50s/it]"
     ]
    },
    {
     "name": "stdout",
     "output_type": "stream",
     "text": [
      "0\n",
      "Not enough patients for cohort Simvastatin_Metoprolol\n",
      "Cohort was deleted with exit status 204 \n",
      "A cohort with the same name already exists, please choose another name\n"
     ]
    },
    {
     "name": "stderr",
     "output_type": "stream",
     "text": [
      "\r",
      " 63%|██████▎   | 126/200 [07:29<04:13,  3.42s/it]"
     ]
    },
    {
     "name": "stdout",
     "output_type": "stream",
     "text": [
      "0\n",
      "Not enough patients for cohort Simvastatin_Albuterol\n",
      "Cohort was deleted with exit status 204 \n",
      "A cohort with the same name already exists, please choose another name\n"
     ]
    },
    {
     "name": "stderr",
     "output_type": "stream",
     "text": [
      "\r",
      " 64%|██████▎   | 127/200 [07:32<04:06,  3.38s/it]"
     ]
    },
    {
     "name": "stdout",
     "output_type": "stream",
     "text": [
      "0\n",
      "Not enough patients for cohort Simvastatin_Aspirin\n",
      "Cohort was deleted with exit status 204 \n",
      "A cohort with the same name already exists, please choose another name\n"
     ]
    },
    {
     "name": "stderr",
     "output_type": "stream",
     "text": [
      "\r",
      " 64%|██████▍   | 128/200 [07:36<04:07,  3.44s/it]"
     ]
    },
    {
     "name": "stdout",
     "output_type": "stream",
     "text": [
      "0\n",
      "Not enough patients for cohort Simvastatin_Furosemide\n",
      "Cohort was deleted with exit status 204 \n",
      "A cohort with the same name already exists, please choose another name\n"
     ]
    },
    {
     "name": "stderr",
     "output_type": "stream",
     "text": [
      "\r",
      " 64%|██████▍   | 129/200 [07:39<04:03,  3.43s/it]"
     ]
    },
    {
     "name": "stdout",
     "output_type": "stream",
     "text": [
      "0\n",
      "Not enough patients for cohort ezetimibe_levothyroxine\n",
      "Cohort was deleted with exit status 204 \n",
      "A cohort with the same name already exists, please choose another name\n"
     ]
    },
    {
     "name": "stderr",
     "output_type": "stream",
     "text": [
      "\r",
      " 65%|██████▌   | 130/200 [07:43<04:11,  3.60s/it]"
     ]
    },
    {
     "name": "stdout",
     "output_type": "stream",
     "text": [
      "0\n",
      "Not enough patients for cohort rosuvastatin_Metoprolol\n",
      "Cohort was deleted with exit status 204 \n",
      "A cohort with the same name already exists, please choose another name\n"
     ]
    },
    {
     "name": "stderr",
     "output_type": "stream",
     "text": [
      "\r",
      " 66%|██████▌   | 131/200 [07:46<03:56,  3.43s/it]"
     ]
    },
    {
     "name": "stdout",
     "output_type": "stream",
     "text": [
      "0\n",
      "Not enough patients for cohort rosuvastatin_Aspirin\n",
      "Cohort was deleted with exit status 204 \n",
      "A cohort with the same name already exists, please choose another name\n"
     ]
    },
    {
     "name": "stderr",
     "output_type": "stream",
     "text": [
      "\r",
      " 66%|██████▌   | 132/200 [07:50<03:56,  3.47s/it]"
     ]
    },
    {
     "name": "stdout",
     "output_type": "stream",
     "text": [
      "0\n",
      "Not enough patients for cohort levothyroxine_Amlodipine\n",
      "Cohort was deleted with exit status 204 \n",
      "A cohort with the same name already exists, please choose another name\n"
     ]
    },
    {
     "name": "stderr",
     "output_type": "stream",
     "text": [
      "\r",
      " 66%|██████▋   | 133/200 [07:53<03:51,  3.46s/it]"
     ]
    },
    {
     "name": "stdout",
     "output_type": "stream",
     "text": [
      "0\n",
      "Not enough patients for cohort levothyroxine_Diltiazem\n",
      "Cohort was deleted with exit status 204 \n",
      "A cohort with the same name already exists, please choose another name\n"
     ]
    },
    {
     "name": "stderr",
     "output_type": "stream",
     "text": [
      "\r",
      " 67%|██████▋   | 134/200 [07:56<03:48,  3.46s/it]"
     ]
    },
    {
     "name": "stdout",
     "output_type": "stream",
     "text": [
      "0\n",
      "Not enough patients for cohort levothyroxine_Lisinopril\n",
      "Cohort was deleted with exit status 204 \n",
      "A cohort with the same name already exists, please choose another name\n"
     ]
    },
    {
     "name": "stderr",
     "output_type": "stream",
     "text": [
      "\r",
      " 68%|██████▊   | 135/200 [08:01<03:59,  3.68s/it]"
     ]
    },
    {
     "name": "stdout",
     "output_type": "stream",
     "text": [
      "0\n",
      "Not enough patients for cohort levothyroxine_Albuterol\n",
      "Cohort was deleted with exit status 204 \n",
      "A cohort with the same name already exists, please choose another name\n"
     ]
    },
    {
     "name": "stderr",
     "output_type": "stream",
     "text": [
      "\r",
      " 68%|██████▊   | 136/200 [08:04<03:55,  3.68s/it]"
     ]
    },
    {
     "name": "stdout",
     "output_type": "stream",
     "text": [
      "0\n",
      "Not enough patients for cohort levothyroxine_Aspirin\n",
      "Cohort was deleted with exit status 204 \n",
      "A cohort with the same name already exists, please choose another name\n"
     ]
    },
    {
     "name": "stderr",
     "output_type": "stream",
     "text": [
      "\r",
      " 68%|██████▊   | 137/200 [08:07<03:35,  3.42s/it]"
     ]
    },
    {
     "name": "stdout",
     "output_type": "stream",
     "text": [
      "0\n",
      "Not enough patients for cohort levothyroxine_Furosemide\n",
      "Cohort was deleted with exit status 204 \n",
      "A cohort with the same name already exists, please choose another name\n"
     ]
    },
    {
     "name": "stderr",
     "output_type": "stream",
     "text": [
      "\r",
      " 69%|██████▉   | 138/200 [08:11<03:33,  3.45s/it]"
     ]
    },
    {
     "name": "stdout",
     "output_type": "stream",
     "text": [
      "0\n",
      "Not enough patients for cohort levothyroxine_Clonazepam\n",
      "Cohort was deleted with exit status 204 \n",
      "A cohort with the same name already exists, please choose another name\n"
     ]
    },
    {
     "name": "stderr",
     "output_type": "stream",
     "text": [
      "\r",
      " 70%|██████▉   | 139/200 [08:14<03:28,  3.42s/it]"
     ]
    },
    {
     "name": "stdout",
     "output_type": "stream",
     "text": [
      "0\n",
      "Not enough patients for cohort levothyroxine_Diazepam\n",
      "Cohort was deleted with exit status 204 \n",
      "A cohort with the same name already exists, please choose another name\n"
     ]
    },
    {
     "name": "stderr",
     "output_type": "stream",
     "text": [
      "\r",
      " 70%|███████   | 140/200 [08:18<03:27,  3.45s/it]"
     ]
    },
    {
     "name": "stdout",
     "output_type": "stream",
     "text": [
      "0\n",
      "Not enough patients for cohort levothyroxine_duloxetine\n",
      "Cohort was deleted with exit status 204 \n",
      "A cohort with the same name already exists, please choose another name\n"
     ]
    },
    {
     "name": "stderr",
     "output_type": "stream",
     "text": [
      "\r",
      " 70%|███████   | 141/200 [08:21<03:22,  3.44s/it]"
     ]
    },
    {
     "name": "stdout",
     "output_type": "stream",
     "text": [
      "0\n",
      "Not enough patients for cohort carvedilol_Aspirin\n",
      "Cohort was deleted with exit status 204 \n",
      "A cohort with the same name already exists, please choose another name\n"
     ]
    },
    {
     "name": "stderr",
     "output_type": "stream",
     "text": [
      "\r",
      " 71%|███████   | 142/200 [08:25<03:32,  3.66s/it]"
     ]
    },
    {
     "name": "stdout",
     "output_type": "stream",
     "text": [
      "0\n",
      "Not enough patients for cohort Amlodipine_Warfarin\n",
      "Cohort was deleted with exit status 204 \n",
      "A cohort with the same name already exists, please choose another name\n"
     ]
    },
    {
     "name": "stderr",
     "output_type": "stream",
     "text": [
      "\r",
      " 72%|███████▏  | 143/200 [08:29<03:26,  3.63s/it]"
     ]
    },
    {
     "name": "stdout",
     "output_type": "stream",
     "text": [
      "0\n",
      "Not enough patients for cohort Amlodipine_Aspirin\n",
      "Cohort was deleted with exit status 204 \n",
      "A cohort with the same name already exists, please choose another name\n"
     ]
    },
    {
     "name": "stderr",
     "output_type": "stream",
     "text": [
      "\r",
      " 72%|███████▏  | 144/200 [08:33<03:28,  3.72s/it]"
     ]
    },
    {
     "name": "stdout",
     "output_type": "stream",
     "text": [
      "0\n",
      "Not enough patients for cohort Diltiazem_Metoprolol\n",
      "Cohort was deleted with exit status 204 \n",
      "A cohort with the same name already exists, please choose another name\n"
     ]
    },
    {
     "name": "stderr",
     "output_type": "stream",
     "text": [
      "\r",
      " 72%|███████▎  | 145/200 [08:36<03:20,  3.64s/it]"
     ]
    },
    {
     "name": "stdout",
     "output_type": "stream",
     "text": [
      "0\n",
      "Not enough patients for cohort erlotinib_Ondansetron\n",
      "Cohort was deleted with exit status 204 \n",
      "A cohort with the same name already exists, please choose another name\n"
     ]
    },
    {
     "name": "stderr",
     "output_type": "stream",
     "text": [
      "\r",
      " 73%|███████▎  | 146/200 [08:39<03:08,  3.49s/it]"
     ]
    },
    {
     "name": "stdout",
     "output_type": "stream",
     "text": [
      "0\n",
      "Not enough patients for cohort Warfarin_Hydrocodone\n",
      "Cohort was deleted with exit status 204 \n",
      "A cohort with the same name already exists, please choose another name\n"
     ]
    },
    {
     "name": "stderr",
     "output_type": "stream",
     "text": [
      "\r",
      " 74%|███████▎  | 147/200 [08:42<02:57,  3.35s/it]"
     ]
    },
    {
     "name": "stdout",
     "output_type": "stream",
     "text": [
      "0\n",
      "Not enough patients for cohort Warfarin_Aspirin\n",
      "Cohort was deleted with exit status 204 \n",
      "A cohort with the same name already exists, please choose another name\n"
     ]
    },
    {
     "name": "stderr",
     "output_type": "stream",
     "text": [
      "\r",
      " 74%|███████▍  | 148/200 [08:47<03:23,  3.91s/it]"
     ]
    },
    {
     "name": "stdout",
     "output_type": "stream",
     "text": [
      "0\n",
      "Not enough patients for cohort Lisinopril_Metoprolol\n",
      "Cohort was deleted with exit status 204 \n",
      "A cohort with the same name already exists, please choose another name\n"
     ]
    },
    {
     "name": "stderr",
     "output_type": "stream",
     "text": [
      "\r",
      " 74%|███████▍  | 149/200 [08:51<03:19,  3.90s/it]"
     ]
    },
    {
     "name": "stdout",
     "output_type": "stream",
     "text": [
      "0\n",
      "Not enough patients for cohort Lisinopril_Hydrocodone\n",
      "Cohort was deleted with exit status 204 \n",
      "A cohort with the same name already exists, please choose another name\n"
     ]
    },
    {
     "name": "stderr",
     "output_type": "stream",
     "text": [
      "\r",
      " 75%|███████▌  | 150/200 [08:55<03:13,  3.87s/it]"
     ]
    },
    {
     "name": "stdout",
     "output_type": "stream",
     "text": [
      "0\n",
      "Not enough patients for cohort Lisinopril_Aspirin\n",
      "Cohort was deleted with exit status 204 \n",
      "A cohort with the same name already exists, please choose another name\n"
     ]
    },
    {
     "name": "stderr",
     "output_type": "stream",
     "text": [
      "\r",
      " 76%|███████▌  | 151/200 [08:58<02:57,  3.63s/it]"
     ]
    },
    {
     "name": "stdout",
     "output_type": "stream",
     "text": [
      "0\n",
      "Not enough patients for cohort Lisinopril_Esomeprazole\n",
      "Cohort was deleted with exit status 204 \n",
      "A cohort with the same name already exists, please choose another name\n"
     ]
    },
    {
     "name": "stderr",
     "output_type": "stream",
     "text": [
      "\r",
      " 76%|███████▌  | 152/200 [09:02<02:52,  3.60s/it]"
     ]
    },
    {
     "name": "stdout",
     "output_type": "stream",
     "text": [
      "0\n",
      "Not enough patients for cohort Metoprolol_Hydrocodone\n",
      "Cohort was deleted with exit status 204 \n",
      "A cohort with the same name already exists, please choose another name\n"
     ]
    },
    {
     "name": "stderr",
     "output_type": "stream",
     "text": [
      "\r",
      " 76%|███████▋  | 153/200 [09:04<02:35,  3.30s/it]"
     ]
    },
    {
     "name": "stdout",
     "output_type": "stream",
     "text": [
      "0\n",
      "Not enough patients for cohort Metoprolol_Aspirin\n",
      "Cohort was deleted with exit status 204 \n",
      "A cohort with the same name already exists, please choose another name\n"
     ]
    },
    {
     "name": "stderr",
     "output_type": "stream",
     "text": [
      "\r",
      " 77%|███████▋  | 154/200 [09:08<02:36,  3.41s/it]"
     ]
    },
    {
     "name": "stdout",
     "output_type": "stream",
     "text": [
      "0\n",
      "Not enough patients for cohort Metoprolol_Esomeprazole\n",
      "Cohort was deleted with exit status 204 \n",
      "A cohort with the same name already exists, please choose another name\n"
     ]
    },
    {
     "name": "stderr",
     "output_type": "stream",
     "text": [
      "\r",
      " 78%|███████▊  | 155/200 [09:11<02:27,  3.28s/it]"
     ]
    },
    {
     "name": "stdout",
     "output_type": "stream",
     "text": [
      "0\n",
      "Not enough patients for cohort Metoprolol_Alprazolam\n",
      "Cohort was deleted with exit status 204 \n",
      "A cohort with the same name already exists, please choose another name\n"
     ]
    },
    {
     "name": "stderr",
     "output_type": "stream",
     "text": [
      "\r",
      " 78%|███████▊  | 156/200 [09:15<02:28,  3.39s/it]"
     ]
    },
    {
     "name": "stdout",
     "output_type": "stream",
     "text": [
      "0\n",
      "Not enough patients for cohort Metoprolol_Escitalopram\n",
      "Cohort was deleted with exit status 204 \n",
      "A cohort with the same name already exists, please choose another name\n"
     ]
    },
    {
     "name": "stderr",
     "output_type": "stream",
     "text": [
      "\r",
      " 78%|███████▊  | 157/200 [09:18<02:24,  3.36s/it]"
     ]
    },
    {
     "name": "stdout",
     "output_type": "stream",
     "text": [
      "0\n",
      "Not enough patients for cohort Hydrocodone_Esomeprazole\n",
      "Cohort was deleted with exit status 204 \n",
      "A cohort with the same name already exists, please choose another name\n"
     ]
    },
    {
     "name": "stderr",
     "output_type": "stream",
     "text": [
      "\r",
      " 79%|███████▉  | 158/200 [09:21<02:21,  3.38s/it]"
     ]
    },
    {
     "name": "stdout",
     "output_type": "stream",
     "text": [
      "0\n",
      "Not enough patients for cohort Albuterol_Aspirin\n",
      "Cohort was deleted with exit status 204 \n",
      "A cohort with the same name already exists, please choose another name\n"
     ]
    },
    {
     "name": "stderr",
     "output_type": "stream",
     "text": [
      "\r",
      " 80%|███████▉  | 159/200 [09:25<02:22,  3.48s/it]"
     ]
    },
    {
     "name": "stdout",
     "output_type": "stream",
     "text": [
      "0\n",
      "Not enough patients for cohort Albuterol_Diazepam\n",
      "Cohort was deleted with exit status 204 \n",
      "A cohort with the same name already exists, please choose another name\n"
     ]
    },
    {
     "name": "stderr",
     "output_type": "stream",
     "text": [
      "\r",
      " 80%|████████  | 160/200 [09:29<02:23,  3.59s/it]"
     ]
    },
    {
     "name": "stdout",
     "output_type": "stream",
     "text": [
      "0\n",
      "Not enough patients for cohort Aspirin_tiotropium\n",
      "Cohort was deleted with exit status 204 \n",
      "A cohort with the same name already exists, please choose another name\n"
     ]
    },
    {
     "name": "stderr",
     "output_type": "stream",
     "text": [
      "\r",
      " 80%|████████  | 161/200 [09:32<02:12,  3.40s/it]"
     ]
    },
    {
     "name": "stdout",
     "output_type": "stream",
     "text": [
      "0\n",
      "Not enough patients for cohort Aspirin_Docusate\n",
      "Cohort was deleted with exit status 204 \n",
      "A cohort with the same name already exists, please choose another name\n"
     ]
    },
    {
     "name": "stderr",
     "output_type": "stream",
     "text": [
      "\r",
      " 81%|████████  | 162/200 [09:35<02:11,  3.45s/it]"
     ]
    },
    {
     "name": "stdout",
     "output_type": "stream",
     "text": [
      "0\n",
      "Not enough patients for cohort Aspirin_tamsulosin\n",
      "Cohort was deleted with exit status 204 \n",
      "A cohort with the same name already exists, please choose another name\n"
     ]
    },
    {
     "name": "stderr",
     "output_type": "stream",
     "text": [
      "\r",
      " 82%|████████▏ | 163/200 [09:40<02:15,  3.66s/it]"
     ]
    },
    {
     "name": "stdout",
     "output_type": "stream",
     "text": [
      "0\n",
      "Not enough patients for cohort Aspirin_Clonazepam\n",
      "Cohort was deleted with exit status 204 \n",
      "A cohort with the same name already exists, please choose another name\n"
     ]
    },
    {
     "name": "stderr",
     "output_type": "stream",
     "text": [
      "\r",
      " 82%|████████▏ | 164/200 [09:43<02:08,  3.56s/it]"
     ]
    },
    {
     "name": "stdout",
     "output_type": "stream",
     "text": [
      "0\n",
      "Not enough patients for cohort Aspirin_Alprazolam\n",
      "Cohort was deleted with exit status 204 \n",
      "A cohort with the same name already exists, please choose another name\n"
     ]
    },
    {
     "name": "stderr",
     "output_type": "stream",
     "text": [
      "\r",
      " 82%|████████▎ | 165/200 [09:46<01:59,  3.42s/it]"
     ]
    },
    {
     "name": "stdout",
     "output_type": "stream",
     "text": [
      "0\n",
      "Not enough patients for cohort Aspirin_Diazepam\n",
      "Cohort was deleted with exit status 204 \n",
      "A cohort with the same name already exists, please choose another name\n"
     ]
    },
    {
     "name": "stderr",
     "output_type": "stream",
     "text": [
      "\r",
      " 83%|████████▎ | 166/200 [09:49<01:55,  3.40s/it]"
     ]
    },
    {
     "name": "stdout",
     "output_type": "stream",
     "text": [
      "0\n",
      "Not enough patients for cohort Furosemide_Esomeprazole\n",
      "Cohort was deleted with exit status 204 \n",
      "A cohort with the same name already exists, please choose another name\n"
     ]
    },
    {
     "name": "stderr",
     "output_type": "stream",
     "text": [
      "\r",
      " 84%|████████▎ | 167/200 [09:53<01:58,  3.60s/it]"
     ]
    },
    {
     "name": "stdout",
     "output_type": "stream",
     "text": [
      "0\n",
      "Not enough patients for cohort Furosemide_Alprazolam\n",
      "Cohort was deleted with exit status 204 \n",
      "A cohort with the same name already exists, please choose another name\n"
     ]
    },
    {
     "name": "stderr",
     "output_type": "stream",
     "text": [
      "\r",
      " 84%|████████▍ | 168/200 [09:56<01:47,  3.37s/it]"
     ]
    },
    {
     "name": "stdout",
     "output_type": "stream",
     "text": [
      "0\n",
      "Not enough patients for cohort Esomeprazole_Clonazepam\n",
      "Cohort was deleted with exit status 204 \n",
      "A cohort with the same name already exists, please choose another name\n"
     ]
    },
    {
     "name": "stderr",
     "output_type": "stream",
     "text": [
      "\r",
      " 84%|████████▍ | 169/200 [10:00<01:47,  3.47s/it]"
     ]
    },
    {
     "name": "stdout",
     "output_type": "stream",
     "text": [
      "0\n",
      "Not enough patients for cohort Esomeprazole_Alprazolam\n",
      "Cohort was deleted with exit status 204 \n",
      "A cohort with the same name already exists, please choose another name\n"
     ]
    },
    {
     "name": "stderr",
     "output_type": "stream",
     "text": [
      "\r",
      " 85%|████████▌ | 170/200 [10:03<01:43,  3.45s/it]"
     ]
    },
    {
     "name": "stdout",
     "output_type": "stream",
     "text": [
      "0\n",
      "Not enough patients for cohort Multivitamin preparation_Potassium Chloride\n",
      "Cohort was deleted with exit status 204 \n",
      "A cohort with the same name already exists, please choose another name\n"
     ]
    },
    {
     "name": "stderr",
     "output_type": "stream",
     "text": [
      "\r",
      " 86%|████████▌ | 171/200 [10:08<01:47,  3.70s/it]"
     ]
    },
    {
     "name": "stdout",
     "output_type": "stream",
     "text": [
      "0\n",
      "Not enough patients for cohort Multivitamin preparation_Calcium\n",
      "Cohort was deleted with exit status 204 \n",
      "A cohort with the same name already exists, please choose another name\n"
     ]
    },
    {
     "name": "stderr",
     "output_type": "stream",
     "text": [
      "\r",
      " 86%|████████▌ | 172/200 [10:11<01:36,  3.45s/it]"
     ]
    },
    {
     "name": "stdout",
     "output_type": "stream",
     "text": [
      "0\n",
      "Not enough patients for cohort Multivitamin preparation_Vitamin D\n",
      "Cohort was deleted with exit status 204 \n",
      "A cohort with the same name already exists, please choose another name\n"
     ]
    },
    {
     "name": "stderr",
     "output_type": "stream",
     "text": [
      "\r",
      " 86%|████████▋ | 173/200 [10:14<01:30,  3.35s/it]"
     ]
    },
    {
     "name": "stdout",
     "output_type": "stream",
     "text": [
      "0\n",
      "Not enough patients for cohort Multivitamin preparation_rosuvastatin\n",
      "Cohort was deleted with exit status 204 \n",
      "A cohort with the same name already exists, please choose another name\n"
     ]
    },
    {
     "name": "stderr",
     "output_type": "stream",
     "text": [
      "\r",
      " 87%|████████▋ | 174/200 [10:17<01:29,  3.45s/it]"
     ]
    },
    {
     "name": "stdout",
     "output_type": "stream",
     "text": [
      "0\n",
      "Not enough patients for cohort Multivitamin preparation_Amlodipine\n",
      "Cohort was deleted with exit status 204 \n",
      "A cohort with the same name already exists, please choose another name\n"
     ]
    },
    {
     "name": "stderr",
     "output_type": "stream",
     "text": [
      "\r",
      " 88%|████████▊ | 175/200 [10:21<01:30,  3.64s/it]"
     ]
    },
    {
     "name": "stdout",
     "output_type": "stream",
     "text": [
      "0\n",
      "Not enough patients for cohort Multivitamin preparation_Diltiazem\n",
      "Cohort was deleted with exit status 204 \n",
      "A cohort with the same name already exists, please choose another name\n"
     ]
    },
    {
     "name": "stderr",
     "output_type": "stream",
     "text": [
      "\r",
      " 88%|████████▊ | 176/200 [10:24<01:21,  3.40s/it]"
     ]
    },
    {
     "name": "stdout",
     "output_type": "stream",
     "text": [
      "0\n",
      "Not enough patients for cohort Multivitamin preparation_Warfarin\n",
      "Cohort was deleted with exit status 204 \n",
      "A cohort with the same name already exists, please choose another name\n"
     ]
    },
    {
     "name": "stderr",
     "output_type": "stream",
     "text": [
      "\r",
      " 88%|████████▊ | 177/200 [10:28<01:19,  3.44s/it]"
     ]
    },
    {
     "name": "stdout",
     "output_type": "stream",
     "text": [
      "0\n",
      "Not enough patients for cohort Multivitamin preparation_valsartan\n",
      "Cohort was deleted with exit status 204 \n",
      "A cohort with the same name already exists, please choose another name\n"
     ]
    },
    {
     "name": "stderr",
     "output_type": "stream",
     "text": [
      "\r",
      " 89%|████████▉ | 178/200 [10:31<01:17,  3.50s/it]"
     ]
    },
    {
     "name": "stdout",
     "output_type": "stream",
     "text": [
      "0\n",
      "Not enough patients for cohort Multivitamin preparation_montelukast\n",
      "Cohort was deleted with exit status 204 \n",
      "A cohort with the same name already exists, please choose another name\n"
     ]
    },
    {
     "name": "stderr",
     "output_type": "stream",
     "text": [
      "\r",
      " 90%|████████▉ | 179/200 [10:36<01:17,  3.68s/it]"
     ]
    },
    {
     "name": "stdout",
     "output_type": "stream",
     "text": [
      "0\n",
      "Not enough patients for cohort Multivitamin preparation_Ranitidine\n",
      "Cohort was deleted with exit status 204 \n",
      "A cohort with the same name already exists, please choose another name\n"
     ]
    },
    {
     "name": "stderr",
     "output_type": "stream",
     "text": [
      "\r",
      " 90%|█████████ | 180/200 [10:38<01:08,  3.40s/it]"
     ]
    },
    {
     "name": "stdout",
     "output_type": "stream",
     "text": [
      "0\n",
      "Not enough patients for cohort Multivitamin preparation_Furosemide\n",
      "Cohort was deleted with exit status 204 \n",
      "A cohort with the same name already exists, please choose another name\n"
     ]
    },
    {
     "name": "stderr",
     "output_type": "stream",
     "text": [
      "\r",
      " 90%|█████████ | 181/200 [10:42<01:04,  3.40s/it]"
     ]
    },
    {
     "name": "stdout",
     "output_type": "stream",
     "text": [
      "0\n",
      "Not enough patients for cohort Multivitamin preparation_Docusate\n",
      "Cohort was deleted with exit status 204 \n",
      "A cohort with the same name already exists, please choose another name\n"
     ]
    },
    {
     "name": "stderr",
     "output_type": "stream",
     "text": [
      "\r",
      " 91%|█████████ | 182/200 [10:45<01:02,  3.50s/it]"
     ]
    },
    {
     "name": "stdout",
     "output_type": "stream",
     "text": [
      "0\n",
      "Not enough patients for cohort Multivitamin preparation_Esomeprazole\n",
      "Cohort was deleted with exit status 204 \n",
      "A cohort with the same name already exists, please choose another name\n"
     ]
    },
    {
     "name": "stderr",
     "output_type": "stream",
     "text": [
      "\r",
      " 92%|█████████▏| 183/200 [10:49<01:02,  3.65s/it]"
     ]
    },
    {
     "name": "stdout",
     "output_type": "stream",
     "text": [
      "0\n",
      "Not enough patients for cohort Multivitamin preparation_Escitalopram\n",
      "Cohort was deleted with exit status 204 \n",
      "A cohort with the same name already exists, please choose another name\n"
     ]
    },
    {
     "name": "stderr",
     "output_type": "stream",
     "text": [
      "\r",
      " 92%|█████████▏| 184/200 [10:52<00:54,  3.40s/it]"
     ]
    },
    {
     "name": "stdout",
     "output_type": "stream",
     "text": [
      "0\n",
      "Not enough patients for cohort Insulin_carvedilol\n",
      "Cohort was deleted with exit status 204 \n",
      "A cohort with the same name already exists, please choose another name\n"
     ]
    },
    {
     "name": "stderr",
     "output_type": "stream",
     "text": [
      "\r",
      " 92%|█████████▎| 185/200 [10:56<00:51,  3.42s/it]"
     ]
    },
    {
     "name": "stdout",
     "output_type": "stream",
     "text": [
      "0\n",
      "Not enough patients for cohort Insulin_Aspirin\n",
      "Cohort was deleted with exit status 204 \n",
      "A cohort with the same name already exists, please choose another name\n"
     ]
    },
    {
     "name": "stderr",
     "output_type": "stream",
     "text": [
      "\r",
      " 93%|█████████▎| 186/200 [10:59<00:48,  3.46s/it]"
     ]
    },
    {
     "name": "stdout",
     "output_type": "stream",
     "text": [
      "0\n",
      "Not enough patients for cohort Insulin_Furosemide\n",
      "Cohort was deleted with exit status 204 \n",
      "A cohort with the same name already exists, please choose another name\n"
     ]
    },
    {
     "name": "stderr",
     "output_type": "stream",
     "text": [
      "\r",
      " 94%|█████████▎| 187/200 [11:03<00:47,  3.68s/it]"
     ]
    },
    {
     "name": "stdout",
     "output_type": "stream",
     "text": [
      "0\n",
      "Not enough patients for cohort Folic Acid_Alendronate\n",
      "Cohort was deleted with exit status 204 \n",
      "A cohort with the same name already exists, please choose another name\n"
     ]
    },
    {
     "name": "stderr",
     "output_type": "stream",
     "text": [
      "\r",
      " 94%|█████████▍| 188/200 [11:06<00:41,  3.48s/it]"
     ]
    },
    {
     "name": "stdout",
     "output_type": "stream",
     "text": [
      "0\n",
      "Not enough patients for cohort Folic Acid_Warfarin\n",
      "Cohort was deleted with exit status 204 \n",
      "A cohort with the same name already exists, please choose another name\n"
     ]
    },
    {
     "name": "stderr",
     "output_type": "stream",
     "text": [
      "\r",
      " 94%|█████████▍| 189/200 [11:10<00:37,  3.44s/it]"
     ]
    },
    {
     "name": "stdout",
     "output_type": "stream",
     "text": [
      "0\n",
      "Not enough patients for cohort Folic Acid_Metoprolol\n",
      "Cohort was deleted with exit status 204 \n",
      "A cohort with the same name already exists, please choose another name\n"
     ]
    },
    {
     "name": "stderr",
     "output_type": "stream",
     "text": [
      "\r",
      " 95%|█████████▌| 190/200 [11:13<00:35,  3.52s/it]"
     ]
    },
    {
     "name": "stdout",
     "output_type": "stream",
     "text": [
      "0\n",
      "Not enough patients for cohort Folic Acid_Aspirin\n",
      "Cohort was deleted with exit status 204 \n",
      "A cohort with the same name already exists, please choose another name\n"
     ]
    },
    {
     "name": "stderr",
     "output_type": "stream",
     "text": [
      "\r",
      " 96%|█████████▌| 191/200 [11:17<00:32,  3.61s/it]"
     ]
    },
    {
     "name": "stdout",
     "output_type": "stream",
     "text": [
      "0\n",
      "Not enough patients for cohort Folic Acid_Furosemide\n",
      "Cohort was deleted with exit status 204 \n",
      "A cohort with the same name already exists, please choose another name\n"
     ]
    },
    {
     "name": "stderr",
     "output_type": "stream",
     "text": [
      "\r",
      " 96%|█████████▌| 192/200 [11:20<00:27,  3.39s/it]"
     ]
    },
    {
     "name": "stdout",
     "output_type": "stream",
     "text": [
      "0\n",
      "Not enough patients for cohort Potassium Chloride_Simvastatin\n",
      "Cohort was deleted with exit status 204 \n",
      "A cohort with the same name already exists, please choose another name\n"
     ]
    },
    {
     "name": "stderr",
     "output_type": "stream",
     "text": [
      "\r",
      " 96%|█████████▋| 193/200 [11:24<00:23,  3.41s/it]"
     ]
    },
    {
     "name": "stdout",
     "output_type": "stream",
     "text": [
      "0\n",
      "Not enough patients for cohort Potassium Chloride_levothyroxine\n",
      "Cohort was deleted with exit status 204 \n",
      "A cohort with the same name already exists, please choose another name\n"
     ]
    },
    {
     "name": "stderr",
     "output_type": "stream",
     "text": [
      "\r",
      " 97%|█████████▋| 194/200 [11:27<00:20,  3.48s/it]"
     ]
    },
    {
     "name": "stdout",
     "output_type": "stream",
     "text": [
      "0\n",
      "Not enough patients for cohort Potassium Chloride_carvedilol\n",
      "Cohort was deleted with exit status 204 \n",
      "A cohort with the same name already exists, please choose another name\n"
     ]
    },
    {
     "name": "stderr",
     "output_type": "stream",
     "text": [
      "\r",
      " 98%|█████████▊| 195/200 [11:31<00:17,  3.60s/it]"
     ]
    },
    {
     "name": "stdout",
     "output_type": "stream",
     "text": [
      "0\n",
      "Not enough patients for cohort Potassium Chloride_Warfarin\n",
      "Cohort was deleted with exit status 204 \n",
      "A cohort with the same name already exists, please choose another name\n"
     ]
    },
    {
     "name": "stderr",
     "output_type": "stream",
     "text": [
      "\r",
      " 98%|█████████▊| 196/200 [11:34<00:13,  3.41s/it]"
     ]
    },
    {
     "name": "stdout",
     "output_type": "stream",
     "text": [
      "0\n",
      "Not enough patients for cohort Potassium Chloride_Furosemide\n",
      "Cohort was deleted with exit status 204 \n",
      "A cohort with the same name already exists, please choose another name\n"
     ]
    },
    {
     "name": "stderr",
     "output_type": "stream",
     "text": [
      "\r",
      " 98%|█████████▊| 197/200 [11:38<00:10,  3.42s/it]"
     ]
    },
    {
     "name": "stdout",
     "output_type": "stream",
     "text": [
      "0\n",
      "Not enough patients for cohort Potassium Chloride_Esomeprazole\n",
      "Cohort was deleted with exit status 204 \n",
      "A cohort with the same name already exists, please choose another name\n"
     ]
    },
    {
     "name": "stderr",
     "output_type": "stream",
     "text": [
      "\r",
      " 99%|█████████▉| 198/200 [11:41<00:07,  3.50s/it]"
     ]
    },
    {
     "name": "stdout",
     "output_type": "stream",
     "text": [
      "0\n",
      "Not enough patients for cohort Calcium_atorvastatin\n",
      "Cohort was deleted with exit status 204 \n",
      "A cohort with the same name already exists, please choose another name\n"
     ]
    },
    {
     "name": "stderr",
     "output_type": "stream",
     "text": [
      "\r",
      "100%|█████████▉| 199/200 [11:45<00:03,  3.68s/it]"
     ]
    },
    {
     "name": "stdout",
     "output_type": "stream",
     "text": [
      "0\n",
      "Not enough patients for cohort Vitamin D_Vitamin A\n",
      "Cohort was deleted with exit status 204 \n",
      "A cohort with the same name already exists, please choose another name\n"
     ]
    },
    {
     "name": "stderr",
     "output_type": "stream",
     "text": [
      "\r",
      "100%|██████████| 200/200 [11:48<00:00,  3.41s/it]"
     ]
    },
    {
     "name": "stdout",
     "output_type": "stream",
     "text": [
      "38\n",
      "Enough patients for cohort Alendronate_irbesartan\n"
     ]
    },
    {
     "name": "stderr",
     "output_type": "stream",
     "text": [
      "\n"
     ]
    }
   ],
   "source": [
    "# Retrieve patient information for the top 50 ddi predictions\n",
    "qualifying_drugpairs = list()\n",
    "\n",
    "for drugpair in tqdm(top_ddi):\n",
    "    \n",
    "    # Creation of the first cohort with exposure to both drugs of the drugpair within 7 days\n",
    "    concept1 = ohdsi.get_concept_info(drugpair[0])\n",
    "    concept2 = ohdsi.get_concept_info(drugpair[1])\n",
    "    \n",
    "    data = ohdsi.cohort_definition_2D(concept1, concept2)\n",
    "    status = ohdsi.create_cohort(data)\n",
    "    \n",
    "    # Update the mapping dicionaries\n",
    "    cohorts = ohdsi.get_cohorts()\n",
    "    for cohort in cohorts:\n",
    "        if cohort['name'] == \"%s_%s\"%(concept1[\"CONCEPT_NAME\"],concept2[\"CONCEPT_NAME\"]):\n",
    "            map_id_name[cohort['id']] =  cohort['name']\n",
    "            map_name_id[cohort['name']] = cohort['id']\n",
    "    \n",
    "    cohort_id = map_name_id[\"%s_%s\"%(concept1[\"CONCEPT_NAME\"],concept2[\"CONCEPT_NAME\"])]\n",
    "    info = ohdsi.generate_cohort(cohort_id)\n",
    "    \n",
    "    patients = ohdsi.getAlldistinctPatients(cohort_id)\n",
    "    print len(patients)\n",
    "    \n",
    "    if(len(patients)<30):\n",
    "        print \"Not enough patients for cohort %s_%s\" %(concept1[\"CONCEPT_NAME\"],concept2[\"CONCEPT_NAME\"])\n",
    "        status_delete = ohdsi.delete_cohort(cohort_id)\n",
    "    else:\n",
    "        print \"Enough patients for cohort %s_%s\" %(concept1[\"CONCEPT_NAME\"],concept2[\"CONCEPT_NAME\"])\n",
    "        qualifying_drugpairs.append(drugpair)"
   ]
  },
  {
   "cell_type": "code",
   "execution_count": 70,
   "metadata": {},
   "outputs": [
    {
     "name": "stdout",
     "output_type": "stream",
     "text": [
      "54\n",
      "Calcium Carbonate Enalapril\n",
      "atorvastatin Alprazolam\n",
      "rosuvastatin Lisinopril\n"
     ]
    }
   ],
   "source": [
    "print len(qualifying_drugpairs)\n",
    "#print qualifying_drugpairs\n",
    "print concept2name[qualifying_drugpairs[0][0]], concept2name[qualifying_drugpairs[0][1]]\n",
    "print concept2name[qualifying_drugpairs[1][0]], concept2name[qualifying_drugpairs[1][1]]\n",
    "print concept2name[qualifying_drugpairs[2][0]], concept2name[qualifying_drugpairs[2][1]]"
   ]
  },
  {
   "cell_type": "markdown",
   "metadata": {},
   "source": [
    "## Corroborate drugpair predictions using clinical data"
   ]
  },
  {
   "cell_type": "code",
   "execution_count": null,
   "metadata": {
    "collapsed": true
   },
   "outputs": [],
   "source": [
    "#Get all patients exposed to one drug alone \n",
    "# + with blood pressure measurements within 30 days before and after the intake of drug\n"
   ]
  },
  {
   "cell_type": "code",
   "execution_count": 68,
   "metadata": {
    "collapsed": true
   },
   "outputs": [],
   "source": [
    "# Assess significance of the difference in values of BP for drugpair and control groups using Mann-Whitney U test\n",
    "from scipy.stats import mannwhitneyu"
   ]
  },
  {
   "cell_type": "code",
   "execution_count": 69,
   "metadata": {
    "collapsed": true
   },
   "outputs": [],
   "source": [
    "# Correct for multiple hypothesis testing using Bonferroni's method"
   ]
  },
  {
   "cell_type": "code",
   "execution_count": null,
   "metadata": {
    "collapsed": true
   },
   "outputs": [],
   "source": []
  }
 ],
 "metadata": {
  "kernelspec": {
   "display_name": "Python 2",
   "language": "python",
   "name": "python2"
  },
  "language_info": {
   "codemirror_mode": {
    "name": "ipython",
    "version": 2
   },
   "file_extension": ".py",
   "mimetype": "text/x-python",
   "name": "python",
   "nbconvert_exporter": "python",
   "pygments_lexer": "ipython2",
   "version": "2.7.12"
  }
 },
 "nbformat": 4,
 "nbformat_minor": 2
}
