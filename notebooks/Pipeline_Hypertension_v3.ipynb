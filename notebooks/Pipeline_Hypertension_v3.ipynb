{
 "cells": [
  {
   "cell_type": "markdown",
   "metadata": {
    "collapsed": true
   },
   "source": [
    "# Adverse Events DDIs discovery pipeline\n",
    "\n",
    "Steps to build the pipeline:\n",
    "1. Useful functions for the pipeline (mapping, retrieving data from web apis...)\n",
    "2. Find positive and negative controls for the AE of interest\n",
    "3. Retrieve adverse event report data for these and a set of control drugs\n",
    "4. Build the training and testing frequency tables\n",
    "5. Features reduction to avoid overfitting\n",
    "6. Drugpair predictions\n",
    "7. Corroboration using OHDSI data"
   ]
  },
  {
   "cell_type": "code",
   "execution_count": 1,
   "metadata": {
    "collapsed": true
   },
   "outputs": [],
   "source": [
    "import csv\n",
    "import gzip\n",
    "import tqdm\n",
    "import json\n",
    "import heapq\n",
    "import random\n",
    "import urllib2\n",
    "\n",
    "import requests\n",
    "import itertools\n",
    "\n",
    "import numpy as np\n",
    "import seaborn as sns\n",
    "import matplotlib.pyplot as plt\n",
    "\n",
    "from tqdm import tqdm\n",
    "from scipy import stats\n",
    "from collections import defaultdict\n",
    "from biothings_client import get_client\n",
    "\n",
    "from sklearn.linear_model import Lasso\n",
    "from sklearn.model_selection import cross_val_score\n",
    "from sklearn.model_selection import ShuffleSplit\n",
    "from sklearn import svm\n",
    "\n",
    "from sklearn.ensemble import RandomForestClassifier\n",
    "from sklearn.metrics import roc_auc_score, roc_curve, auc\n",
    "from urllib2 import Request, urlopen, URLError, build_opener\n",
    "from json import JSONEncoder\n",
    "\n",
    "%matplotlib inline"
   ]
  },
  {
   "cell_type": "code",
   "execution_count": 2,
   "metadata": {
    "collapsed": true
   },
   "outputs": [],
   "source": [
    "#from import_notebook import *\n",
    "#sys.meta_path.append(NotebookFinder())\n",
    "#import OHDSI_API_data_ as ohdsi"
   ]
  },
  {
   "cell_type": "markdown",
   "metadata": {},
   "source": [
    "## Needed functions"
   ]
  },
  {
   "cell_type": "code",
   "execution_count": 3,
   "metadata": {
    "collapsed": true
   },
   "outputs": [],
   "source": [
    "ADVERSE_EVENT_OF_INTEREST = 'hypertension'\n",
    "\n",
    "# Soon to be replaced by a nsides API call\n",
    "AE_LIST = ['hypertension', 'hypoglycemia']"
   ]
  },
  {
   "cell_type": "code",
   "execution_count": 4,
   "metadata": {
    "collapsed": true
   },
   "outputs": [],
   "source": [
    "# Authentication module\n",
    "# Instructions at https://documentation.uts.nlm.nih.gov/rest/home.html\n",
    "\n",
    "def get_tgt(apikey):\n",
    "    \"\"\"\n",
    "    get the tgt corresponding to the apikey\n",
    "    \"\"\"\n",
    "    tgt = requests.post(\"https://utslogin.nlm.nih.gov/cas/v1/api-key\", data = {'apikey':apikey})\n",
    "    TGT = tgt.content.split()[20]\n",
    "    TGT = TGT[52:+len(TGT)-1]\n",
    "    return TGT\n",
    "\n",
    "def get_ticket(tgt):\n",
    "    \"\"\"\n",
    "    get a ticket corresponding to the tgt\n",
    "    \"\"\"\n",
    "    uri_login = \"https://utslogin.nlm.nih.gov/cas/v1/tickets/\" + tgt\n",
    "    ticket = requests.post(uri_login, data = {'service':'http://umlsks.nlm.nih.gov'})\n",
    "    return ticket.content\n"
   ]
  },
  {
   "cell_type": "code",
   "execution_count": 5,
   "metadata": {
    "collapsed": true
   },
   "outputs": [],
   "source": [
    "def AEtoCUI(aeName):\n",
    "    \"Converts AE name to UMLS CUIs\"\n",
    "    cuis = []\n",
    "    apikey = \"6fd08e99-cb99-48be-937c-bbaa5205fd44\"\n",
    "    \n",
    "    tgt = get_tgt(apikey)\n",
    "    ticket = get_ticket(tgt)\n",
    "    \n",
    "    query = {'ticket':ticket}\n",
    "    uri = \"https://uts-ws.nlm.nih.gov/rest/search/current?string=\" + aeName\n",
    "    r = requests.get(uri, params = query)\n",
    "    r.encoding = 'utf-8'\n",
    "    items  = json.loads(r.text)\n",
    "    \n",
    "    jsonData = items[\"result\"]\n",
    "    for s in jsonData['results']:\n",
    "        cuis.append(s['ui'])\n",
    "    return cuis"
   ]
  },
  {
   "cell_type": "code",
   "execution_count": 6,
   "metadata": {
    "collapsed": true
   },
   "outputs": [],
   "source": [
    "def nsides_api(service, method, args = None):\n",
    "    \"\"\"\n",
    "    Simple python API to access the NSIDES services and data.\n",
    "    \n",
    "    service   string, that can be one of three values: aeolus, sider, or omop\n",
    "    method    string, for a list of methods see http://nsideseb-env.us-east-1.elasticbeanstalk.com\n",
    "    args      dictionary, method parameters see http://nsideseb-env.us-east-1.elasticbeanstalk.com\n",
    "    \"\"\"\n",
    "    NSIDES_API_URL = 'http://nsideseb-env.us-east-1.elasticbeanstalk.com/api/v1/'\n",
    "    \n",
    "    base_url = NSIDES_API_URL + 'query?service=%s&meta=%s' % (service, method)\n",
    "    url = base_url\n",
    "    if not args is None:\n",
    "        url = base_url + '&' + '&'.join(['%s=%s' % (k,v) for k,v in args.items()])\n",
    "    #print url\n",
    "    \n",
    "    response = urllib2.urlopen(url).read()\n",
    "    data = json.loads(response)\n",
    "    \n",
    "    return data"
   ]
  },
  {
   "cell_type": "code",
   "execution_count": 7,
   "metadata": {},
   "outputs": [
    {
     "name": "stdout",
     "output_type": "stream",
     "text": [
      "acarbose\n"
     ]
    }
   ],
   "source": [
    "def stitch_api(id):\n",
    "    \"\"\"\n",
    "    Function to access STITCH data\n",
    "    id : stitch id (string)\n",
    "    returns drug rxnorm\n",
    "    \"\"\"\n",
    "    STITCH_API_URL = 'http://stitch.embl.de/api/json/'\n",
    "    request = 'resolve?identifier=%s' %(id)\n",
    "    \n",
    "    url = STITCH_API_URL + request\n",
    "    \n",
    "    response = urllib2.urlopen(url).read()\n",
    "    data = json.loads(response)\n",
    "    \n",
    "    return data\n",
    "    \n",
    "data = stitch_api('CID000041774')\n",
    "print data[0]['preferredName']"
   ]
  },
  {
   "cell_type": "code",
   "execution_count": 8,
   "metadata": {},
   "outputs": [
    {
     "name": "stdout",
     "output_type": "stream",
     "text": [
      "[u'14845']\n"
     ]
    }
   ],
   "source": [
    "def annotator(text, ontologies):\n",
    "    REST_URL = \"http://data.bioontology.org\"\n",
    "    API_KEY = 'b55cf758-dbd3-4959-a9c0-2e6bba5b5d8b'\n",
    "    url = REST_URL + \"/annotator?text=\" + urllib2.quote(text) + \"&ontologies=\" + ','.join(ontologies)\n",
    "    opener = urllib2.build_opener()\n",
    "    opener.addheaders = [('Authorization', 'apikey token=' + API_KEY)]\n",
    "    \n",
    "    annotations = json.loads(opener.open(url).read())\n",
    "\n",
    "    return annotations\n",
    "\n",
    "def name2rxnorm(drugname):\n",
    "    \"\"\"\n",
    "    map the name of a drug to its rxnorm notation\n",
    "    \"\"\"\n",
    "    annotations = annotator(drugname, ['RXNORM'])\n",
    "    \n",
    "    rxnorms = list()\n",
    "    for annotation in annotations:\n",
    "        rxnorms.append(annotations[0]['annotatedClass']['@id'].split('/')[-1])\n",
    "    \n",
    "    return rxnorms\n",
    "\n",
    "print name2rxnorm('apraclonidine')"
   ]
  },
  {
   "cell_type": "markdown",
   "metadata": {},
   "source": [
    "## Find positive and negative controls"
   ]
  },
  {
   "cell_type": "code",
   "execution_count": 9,
   "metadata": {
    "collapsed": true
   },
   "outputs": [],
   "source": [
    "invalid_drugnames = list()\n",
    "invalid_drugnames.append(\"human brain natriuretic peptide-32\")\n",
    "invalid_drugnames.append(\"human glucagon\")\n",
    "invalid_drugnames.append(\"human insulin\")\n",
    "invalid_drugnames.append(\"vitamin D2\")"
   ]
  },
  {
   "cell_type": "code",
   "execution_count": 53,
   "metadata": {
    "collapsed": true
   },
   "outputs": [],
   "source": [
    "def get_controls(AE):\n",
    "    \"\"\"\n",
    "    Get lists of positive and negative controls for a given adverse event.\n",
    "    AE: string, adverse event of interest\n",
    "    \"\"\"\n",
    "    \n",
    "    # Get a list of drugs (name) known to have the AE as a side effect using SIDER\n",
    "    reference_byname = list()\n",
    "    reference_byname_bound = list()\n",
    "    for cui in AEtoCUI(AE):\n",
    "        #print cui\n",
    "        data = nsides_api('sider', 'drugForEffect', {'q': \"%s\" %cui})\n",
    "        reference_byname.extend([r['drug_name'] for r in data['results']])\n",
    "        data_bound = nsides_api('sider', 'drugForEffectFreq', {'q': \"%s\" %cui})\n",
    "        reference_byname_bound.extend([(r['drug_name'], r['upper_bound']) for r in data_bound['results']])\n",
    "    \n",
    "    reference_byname = sorted(set(reference_byname))\n",
    "    reference_byname_bound = sorted(set(reference_byname_bound))\n",
    "    \n",
    "    high_freq_drugs = list()\n",
    "    low_freq_drugs = list()\n",
    "    \n",
    "    # To remove noise, we only use drugs with high reporting frequencies\n",
    "    for (drug, freq) in reference_byname_bound:\n",
    "        #print drug, freq\n",
    "        if float(freq) > 0.001:\n",
    "            high_freq_drugs.append(drug)\n",
    "        else:\n",
    "            low_freq_drugs.append(drug)\n",
    "            \n",
    "    high_freq_drugs = sorted(set(high_freq_drugs))\n",
    "    low_freq_drugs = sorted(set(low_freq_drugs))\n",
    "    #print len(high_freq_drugs)\n",
    "    \n",
    "    if len(high_freq_drugs) == 0:\n",
    "        raise Exception(\"No available reference standard for cui: %s\" % cui)\n",
    "        return 0\n",
    "    \n",
    "    # We map those drugs to their rxnorm\n",
    "    positives = list()\n",
    "    negatives = list()\n",
    "    \n",
    "    for drugname in tqdm(high_freq_drugs):\n",
    "        if drugname not in invalid_drugnames:\n",
    "            rxnorms = name2rxnorm(drugname)\n",
    "            for rxnorm in rxnorms:\n",
    "                positives.append(int(rxnorm))\n",
    "\n",
    "    print \"Produced reference with %d positive examples and %d negative examples.\" % (len(positives), len(negatives))\n",
    "    \n",
    "    # We randomly pick 2*len(positives) negative controls from what's available in AEOLUS\n",
    "    low_freq = list()\n",
    "    for drugname in tqdm(low_freq_drugs):\n",
    "        if drugname not in invalid_drugnames:\n",
    "            rxnorms = name2rxnorm(drugname)\n",
    "            for rxnorm in rxnorms:\n",
    "                low_freq.append(int(rxnorm))\n",
    "    for drugname in tqdm(reference_byname):\n",
    "        if drugname not in invalid_drugnames:\n",
    "            rxnorms = name2rxnorm(drugname)\n",
    "            for rxnorm in rxnorms:\n",
    "                low_freq.append(int(rxnorm))\n",
    "\n",
    "    if len(negatives) == 0:\n",
    "        data = nsides_api('aeolus', 'ingredientList')\n",
    "    \n",
    "        all_rxnorms = [r['concept_code'] for r in data['results']]\n",
    "        # We remove positive controls and drugs with low reporting frequencies\n",
    "        available_negatives = (set(all_rxnorms) - set(positives) - set(low_freq))\n",
    "    \n",
    "        negatives = random.sample(available_negatives, 500)\n",
    "\n",
    "    print \"Randomly selected %d negative examples from available drugs.\" % len(negatives)\n",
    "    \n",
    "    return positives, negatives"
   ]
  },
  {
   "cell_type": "code",
   "execution_count": 54,
   "metadata": {
    "scrolled": true
   },
   "outputs": [
    {
     "name": "stderr",
     "output_type": "stream",
     "text": [
      "100%|██████████| 29/29 [00:21<00:00,  2.29it/s]\n",
      "  0%|          | 0/32 [00:00<?, ?it/s]"
     ]
    },
    {
     "name": "stdout",
     "output_type": "stream",
     "text": [
      "Produced reference with 28 positive examples and 0 negative examples.\n"
     ]
    },
    {
     "name": "stderr",
     "output_type": "stream",
     "text": [
      "100%|██████████| 32/32 [00:14<00:00,  2.17it/s]\n",
      "0it [00:00, ?it/s]\n"
     ]
    },
    {
     "name": "stdout",
     "output_type": "stream",
     "text": [
      "Randomly selected 500 negative examples from available drugs.\n"
     ]
    }
   ],
   "source": [
    "positives, negatives = get_controls('hyperglycemia')"
   ]
  },
  {
   "cell_type": "markdown",
   "metadata": {},
   "source": [
    "##  Retrieve adverse event report data for these and a set of control drugs."
   ]
  },
  {
   "cell_type": "code",
   "execution_count": 12,
   "metadata": {},
   "outputs": [
    {
     "name": "stdout",
     "output_type": "stream",
     "text": [
      "{u'valid_end_date': u'2099-12-31', u'concept_class_id': u'Ingredient', u'valid_start_date': u'1970-01-01', u'vocabulary_id': u'RxNorm', u'concept_name': u'hepatitis B immune globulin', u'invalid_reason': u'', u'standard_concept_id': 501343, u'standard_concept': u'S', u'concept_code': 26744, u'domain_id': u'Drug', u'concept_id': 501343}\n",
      "3526\n",
      "1177480\n"
     ]
    }
   ],
   "source": [
    "# concept = OMOP concept id\n",
    "data = nsides_api('aeolus', 'ingredientList')\n",
    "\n",
    "concept2name = dict()\n",
    "all_drugs = list()\n",
    "drug_mapping = dict()\n",
    "concept2rxnorm = dict()\n",
    "rxnorm2concept = dict()\n",
    "\n",
    "for r in data['results']:\n",
    "    concept2name[r['concept_id']] = r['concept_name']\n",
    "    all_drugs.append(r['concept_id'])\n",
    "    drug_mapping[r['concept_code']] = r['concept_id']\n",
    "    concept2rxnorm[r['concept_id']] = r['concept_code']\n",
    "    rxnorm2concept[r['concept_code']] = r['concept_id']\n",
    "\n",
    "#print drug_mapping.items()\n",
    "#print concept2name\n",
    "print data['results'][0]\n",
    "print len(all_drugs)\n",
    "#print concept2rxnorm[501343]\n",
    "print rxnorm2concept[5640]"
   ]
  },
  {
   "cell_type": "code",
   "execution_count": 13,
   "metadata": {},
   "outputs": [
    {
     "name": "stdout",
     "output_type": "stream",
     "text": [
      "7540\n",
      "{u'valid_end_date': u'2099-12-31', u'concept_class_id': u'LLT', u'outcome_concept_id': 36718526, u'valid_start_date': u'1970-01-01', u'vocabulary_id': u'MedDRA', u'concept_name': u'Convulsion', u'invalid_reason': u'', u'snomed_outcome_concept_id': 377091, u'standard_concept': u'C', u'concept_code': 10010904, u'domain_id': u'Condition', u'concept_id': 36718526}\n",
      "36718526\n"
     ]
    }
   ],
   "source": [
    "#query?service=aeolus&meta=reactionListMedDRA\n",
    "data = nsides_api('aeolus', 'reactionListMedDRA')\n",
    "\n",
    "# List of all AEs reported in FAERS\n",
    "all_outcomes = list() \n",
    "\n",
    "for r in data['results']:\n",
    "    all_outcomes.append(r['outcome_concept_id'])\n",
    "\n",
    "print len(all_outcomes)\n",
    "print data['results'][0]\n",
    "print all_outcomes[0]"
   ]
  },
  {
   "cell_type": "code",
   "execution_count": 14,
   "metadata": {},
   "outputs": [
    {
     "name": "stdout",
     "output_type": "stream",
     "text": [
      "199\n",
      "37622529\n",
      "{u'valid_end_date': u'2099-12-31', u'concept_class_id': u'PT', u'outcome_concept_id': 37622529, u'valid_start_date': u'1970-01-01', u'vocabulary_id': u'MedDRA', u'concept_name': u'Hypertension', u'invalid_reason': u'', u'standard_concept': u'C', u'concept_code': 10020772, u'domain_id': u'Condition', u'concept_id': 37622529}\n"
     ]
    }
   ],
   "source": [
    "#query?service=aeolus&meta=drugpairReactionListMedDRA\n",
    "data = nsides_api('aeolus', 'drugpairReactionListMedDRA')\n",
    "#List of all AEs reported as drugpairs outcome in FAERS\n",
    "all_pairoutcomes = list()\n",
    "all_conceptnames = list()\n",
    "for r in data['results']:\n",
    "    all_pairoutcomes.append(r['outcome_concept_id'])\n",
    "    all_conceptnames.append(r['concept_name'])\n",
    "\n",
    "print len(all_pairoutcomes)\n",
    "print all_pairoutcomes[0]\n",
    "print data['results'][0]"
   ]
  },
  {
   "cell_type": "code",
   "execution_count": 15,
   "metadata": {},
   "outputs": [
    {
     "name": "stdout",
     "output_type": "stream",
     "text": [
      "39800\n",
      "(19111620, 19122121)\n"
     ]
    }
   ],
   "source": [
    "#query?service=aeolus&meta=drugpairList\n",
    "data = nsides_api('aeolus', 'drugpairList')\n",
    "\n",
    "all_drugpairs = list()\n",
    "\n",
    "for r in data['results']:\n",
    "    all_drugpairs.append((r['drug1_concept_id'], r['drug2_concept_id']))\n",
    "\n",
    "print len(all_drugpairs)\n",
    "print all_drugpairs[0]"
   ]
  },
  {
   "cell_type": "code",
   "execution_count": 17,
   "metadata": {},
   "outputs": [
    {
     "name": "stderr",
     "output_type": "stream",
     "text": [
      "\n",
      "  0%|          | 0/64 [00:00<?, ?it/s]\u001b[A\n",
      "  2%|▏         | 1/64 [00:02<02:38,  2.51s/it]\u001b[A\n",
      "  3%|▎         | 2/64 [00:05<02:37,  2.54s/it]\u001b[A\n",
      "\n",
      "  5%|▍         | 3/64 [00:07<02:37,  2.58s/it]\u001b[A\n",
      "  6%|▋         | 4/64 [00:10<02:38,  2.64s/it]\u001b[A\n",
      "  8%|▊         | 5/64 [00:13<02:37,  2.68s/it]\u001b[A\n",
      "  9%|▉         | 6/64 [00:15<02:34,  2.67s/it]\u001b[A\n",
      " 11%|█         | 7/64 [00:18<02:33,  2.70s/it]\u001b[A\n",
      " 12%|█▎        | 8/64 [00:21<02:33,  2.73s/it]\u001b[A\n",
      " 14%|█▍        | 9/64 [00:24<02:29,  2.72s/it]\u001b[A\n",
      " 16%|█▌        | 10/64 [00:27<02:28,  2.75s/it]\u001b[A\n",
      " 17%|█▋        | 11/64 [00:29<02:25,  2.74s/it]\u001b[A\n",
      " 19%|█▉        | 12/64 [00:32<02:26,  2.82s/it]\u001b[A\n",
      " 20%|██        | 13/64 [00:35<02:25,  2.84s/it]\u001b[A\n",
      " 22%|██▏       | 14/64 [00:38<02:25,  2.92s/it]\u001b[A\n",
      " 23%|██▎       | 15/64 [00:41<02:27,  3.01s/it]\u001b[A\n",
      " 25%|██▌       | 16/64 [00:45<02:25,  3.03s/it]\u001b[A\n",
      " 27%|██▋       | 17/64 [00:47<02:20,  2.99s/it]\u001b[A\n",
      " 28%|██▊       | 18/64 [00:51<02:19,  3.03s/it]\u001b[A\n",
      " 30%|██▉       | 19/64 [00:54<02:15,  3.02s/it]\u001b[A\n",
      " 31%|███▏      | 20/64 [00:57<02:14,  3.05s/it]\u001b[A\n",
      " 33%|███▎      | 21/64 [01:00<02:16,  3.19s/it]\u001b[A\n",
      " 34%|███▍      | 22/64 [01:03<02:11,  3.13s/it]\u001b[A\n",
      " 36%|███▌      | 23/64 [01:07<02:11,  3.20s/it]\u001b[A\n",
      " 38%|███▊      | 24/64 [01:10<02:05,  3.14s/it]\u001b[A\n",
      " 39%|███▉      | 25/64 [01:13<02:06,  3.25s/it]\u001b[A\n",
      " 41%|████      | 26/64 [01:16<02:02,  3.21s/it]\u001b[A\n",
      " 42%|████▏     | 27/64 [01:20<02:05,  3.39s/it]\u001b[A\n",
      " 44%|████▍     | 28/64 [01:23<02:00,  3.36s/it]\u001b[A\n",
      " 45%|████▌     | 29/64 [01:26<01:54,  3.27s/it]\u001b[A\n",
      " 47%|████▋     | 30/64 [01:30<01:49,  3.23s/it]\u001b[A\n",
      " 48%|████▊     | 31/64 [01:33<01:44,  3.18s/it]\u001b[A\n",
      " 50%|█████     | 32/64 [01:36<01:46,  3.32s/it]\u001b[A\n",
      " 52%|█████▏    | 33/64 [01:39<01:41,  3.27s/it]\u001b[A\n",
      " 53%|█████▎    | 34/64 [01:43<01:38,  3.27s/it]\u001b[A\n",
      " 55%|█████▍    | 35/64 [01:46<01:34,  3.27s/it]\u001b[A\n",
      " 56%|█████▋    | 36/64 [01:50<01:34,  3.38s/it]\u001b[A\n",
      " 58%|█████▊    | 37/64 [01:53<01:30,  3.37s/it]\u001b[A\n",
      " 59%|█████▉    | 38/64 [01:56<01:26,  3.33s/it]\u001b[A\n",
      " 61%|██████    | 39/64 [02:00<01:25,  3.40s/it]\u001b[A\n",
      " 62%|██████▎   | 40/64 [02:03<01:21,  3.40s/it]\u001b[A\n",
      " 64%|██████▍   | 41/64 [02:07<01:20,  3.51s/it]\u001b[A\n",
      " 66%|██████▌   | 42/64 [02:11<01:18,  3.56s/it]\u001b[A\n",
      " 67%|██████▋   | 43/64 [02:15<01:17,  3.70s/it]\u001b[A\n",
      " 69%|██████▉   | 44/64 [02:18<01:14,  3.71s/it]\u001b[A\n",
      " 70%|███████   | 45/64 [02:22<01:09,  3.65s/it]\u001b[A\n",
      " 72%|███████▏  | 46/64 [02:25<01:05,  3.62s/it]\u001b[A\n",
      " 73%|███████▎  | 47/64 [02:29<01:03,  3.72s/it]\u001b[A\n",
      " 75%|███████▌  | 48/64 [02:33<00:59,  3.71s/it]\u001b[A\n",
      " 77%|███████▋  | 49/64 [02:37<00:55,  3.71s/it]\u001b[A\n",
      " 78%|███████▊  | 50/64 [02:41<00:53,  3.82s/it]\u001b[A\n",
      " 80%|███████▉  | 51/64 [02:44<00:48,  3.76s/it]\u001b[A\n",
      " 81%|████████▏ | 52/64 [02:48<00:45,  3.76s/it]\u001b[A\n",
      " 83%|████████▎ | 53/64 [02:52<00:40,  3.71s/it]\u001b[A\n",
      " 84%|████████▍ | 54/64 [02:56<00:38,  3.83s/it]\u001b[A\n",
      " 86%|████████▌ | 55/64 [03:00<00:34,  3.79s/it]\u001b[A\n",
      " 88%|████████▊ | 56/64 [03:03<00:30,  3.78s/it]\u001b[A\n",
      " 89%|████████▉ | 57/64 [03:07<00:26,  3.85s/it]\u001b[A\n",
      " 91%|█████████ | 58/64 [03:12<00:24,  4.04s/it]\u001b[A\n",
      " 92%|█████████▏| 59/64 [03:16<00:19,  3.95s/it]\u001b[A\n",
      " 94%|█████████▍| 60/64 [03:19<00:15,  3.93s/it]\u001b[A\n",
      " 95%|█████████▌| 61/64 [03:23<00:11,  3.92s/it]\u001b[A\n",
      " 97%|█████████▋| 62/64 [03:27<00:07,  3.88s/it]\u001b[A\n",
      " 98%|█████████▊| 63/64 [03:30<00:03,  3.52s/it]\u001b[A\n",
      "100%|██████████| 64/64 [03:32<00:00,  3.16s/it]"
     ]
    },
    {
     "name": "stdout",
     "output_type": "stream",
     "text": [
      "631743\n",
      "{u'nreports': 11, u'outcome_concept_id': 35104067, u'drug_concept_id': 904453, u'ndrugreports': 448710}\n"
     ]
    },
    {
     "name": "stderr",
     "output_type": "stream",
     "text": [
      "\u001b[A\n",
      "\u001b[A"
     ]
    }
   ],
   "source": [
    "#query?service=aeolus&meta=drugReactionCounts&q=0\n",
    "data = nsides_api('aeolus', 'drugReactionCounts', {'q':0})\n",
    "\n",
    "aeolus_drugReactionCounts = dict()\n",
    "aeolus_drugReactionCounts['results'] = list()\n",
    "\n",
    "for start in tqdm(range(0, data[0]['nrows'][0], 10000)):    \n",
    "    aeolus_drugReactionCounts['results'].extend(data[0]['result'])    \n",
    "    start = len(aeolus_drugReactionCounts['results'])\n",
    "    data = nsides_api('aeolus', 'drugReactionCounts', {'q': start})\n",
    "\n",
    "print len(aeolus_drugReactionCounts['results'])\n",
    "print aeolus_drugReactionCounts['results'][0]"
   ]
  },
  {
   "cell_type": "code",
   "execution_count": 18,
   "metadata": {},
   "outputs": [
    {
     "name": "stdout",
     "output_type": "stream",
     "text": [
      "39\n"
     ]
    }
   ],
   "source": [
    "unrecognized_id = list()\n",
    "unrecognized_id.append('CID011953896')\n",
    "unrecognized_id.append('CID000003706')\n",
    "unrecognized_id.append('CID000002550')\n",
    "unrecognized_id.append('CID000031371')\n",
    "unrecognized_id.append('CID000054688')\n",
    "unrecognized_id.append('CID000000653')\n",
    "unrecognized_id.append('CID000009908')\n",
    "unrecognized_id.append('CID000005257')\n",
    "unrecognized_id.append('CID000006691')\n",
    "unrecognized_id.append('CID000002177')\n",
    "unrecognized_id.append('CID000002949')\n",
    "unrecognized_id.append('CID000002909')\n",
    "unrecognized_id.append('CID000005267')\n",
    "unrecognized_id.append('CID000028112')\n",
    "unrecognized_id.append('CID000001451')\n",
    "unrecognized_id.append('CID000016213')\n",
    "unrecognized_id.append('CID000003075')\n",
    "unrecognized_id.append('CID005311048')\n",
    "unrecognized_id.append('CID000003929')\n",
    "unrecognized_id.append('CID000004691')\n",
    "unrecognized_id.append('CID000003962')\n",
    "unrecognized_id.append('CID005361912')\n",
    "unrecognized_id.append('CID000005064')\n",
    "unrecognized_id.append('CID006420046')\n",
    "unrecognized_id.append('CID000003143')\n",
    "unrecognized_id.append('CID000004048')\n",
    "unrecognized_id.append('CID000003222')\n",
    "unrecognized_id.append('CID000150310')\n",
    "unrecognized_id.append('CID000005372')\n",
    "unrecognized_id.append('CID000062924')\n",
    "unrecognized_id.append('CID000443871')\n",
    "unrecognized_id.append('CID006419754')\n",
    "unrecognized_id.append('CID000004547')\n",
    "unrecognized_id.append('CID000065027')\n",
    "unrecognized_id.append('CID000004259')\n",
    "unrecognized_id.append('CID011953892')\n",
    "unrecognized_id.append('CID000004724')\n",
    "unrecognized_id.append('CID000002769')\n",
    "unrecognized_id.append('CID000005412')\n",
    "\n",
    "print len(unrecognized_id)"
   ]
  },
  {
   "cell_type": "code",
   "execution_count": 21,
   "metadata": {
    "scrolled": true
   },
   "outputs": [
    {
     "name": "stderr",
     "output_type": "stream",
     "text": [
      "\n",
      "\n",
      "  0%|          | 0/1000 [00:00<?, ?it/s]\u001b[A\u001b[A\n",
      "\n",
      "  0%|          | 1/1000 [00:02<41:55,  2.52s/it]\u001b[A\u001b[A\n",
      "\n",
      "  0%|          | 2/1000 [00:04<40:34,  2.44s/it]\u001b[A\u001b[A\n",
      "\n",
      "  0%|          | 3/1000 [00:07<40:11,  2.42s/it]\u001b[A\u001b[A\n",
      "\u001b[A\n",
      "\n",
      "  0%|          | 4/1000 [00:09<37:53,  2.28s/it]\u001b[A\u001b[A\n",
      "\n",
      "  0%|          | 5/1000 [00:11<36:55,  2.23s/it]\u001b[A\u001b[A\n",
      "\n",
      "  1%|          | 6/1000 [00:13<36:24,  2.20s/it]\u001b[A\u001b[A\n",
      "\n",
      "  1%|          | 7/1000 [00:15<35:52,  2.17s/it]\u001b[A\u001b[A\n",
      "\n",
      "  1%|          | 8/1000 [00:17<35:42,  2.16s/it]\u001b[A\u001b[A\n",
      "\n",
      "  1%|          | 9/1000 [00:19<34:54,  2.11s/it]\u001b[A\u001b[A\n",
      "\n",
      "  1%|          | 10/1000 [00:21<34:39,  2.10s/it]\u001b[A\u001b[A\n",
      "\n",
      "  1%|          | 11/1000 [00:23<34:51,  2.11s/it]\u001b[A\u001b[A\n",
      "\n",
      "  1%|          | 12/1000 [00:25<34:46,  2.11s/it]\u001b[A\u001b[A\n",
      "\n",
      "  1%|▏         | 13/1000 [00:27<34:32,  2.10s/it]\u001b[A\u001b[A\n",
      "\n",
      "  1%|▏         | 14/1000 [00:30<35:03,  2.13s/it]\u001b[A\u001b[A\n",
      "\n",
      "  2%|▏         | 15/1000 [00:32<34:28,  2.10s/it]\u001b[A\u001b[A\n",
      "\n",
      "  2%|▏         | 16/1000 [00:34<34:30,  2.10s/it]\u001b[A\u001b[A\n",
      "\n",
      "  2%|▏         | 18/1000 [00:36<30:02,  1.84s/it]\u001b[A\u001b[A\n",
      "\n",
      "  2%|▏         | 19/1000 [00:38<31:26,  1.92s/it]\u001b[A\u001b[A\n",
      "\n",
      "  2%|▏         | 20/1000 [00:41<33:35,  2.06s/it]\u001b[A\u001b[A\n",
      "\n",
      "  2%|▏         | 21/1000 [00:44<37:37,  2.31s/it]\u001b[A\u001b[A\n",
      "\n",
      "  2%|▏         | 22/1000 [00:46<39:30,  2.42s/it]\u001b[A\u001b[A\n",
      "\n",
      "  2%|▏         | 23/1000 [00:48<37:57,  2.33s/it]\u001b[A\u001b[A\n",
      "\n",
      "  2%|▏         | 24/1000 [00:51<37:46,  2.32s/it]\u001b[A\u001b[A\n",
      "\n",
      "  2%|▎         | 25/1000 [00:53<36:53,  2.27s/it]\u001b[A\u001b[A\n",
      "\n",
      "  3%|▎         | 27/1000 [00:55<30:37,  1.89s/it]\u001b[A\u001b[A\n",
      "\n",
      "  3%|▎         | 28/1000 [00:57<31:22,  1.94s/it]\u001b[A\u001b[A\n",
      "\n",
      "  3%|▎         | 29/1000 [00:59<32:16,  1.99s/it]\u001b[A\u001b[A\n",
      "\n",
      "  3%|▎         | 30/1000 [01:02<35:03,  2.17s/it]\u001b[A\u001b[A\n",
      "\n",
      "  3%|▎         | 32/1000 [01:04<29:45,  1.84s/it]\u001b[A\u001b[A\n",
      "\n",
      "  3%|▎         | 33/1000 [01:06<32:54,  2.04s/it]\u001b[A\u001b[A\n",
      "\n",
      "  4%|▎         | 35/1000 [01:09<28:37,  1.78s/it]\u001b[A\u001b[A\n",
      "\n",
      "  4%|▎         | 36/1000 [01:12<34:06,  2.12s/it]\u001b[A\u001b[A\n",
      "\n",
      "  4%|▎         | 37/1000 [01:14<33:58,  2.12s/it]\u001b[A\u001b[A\n",
      "\n",
      "  4%|▍         | 38/1000 [01:16<35:38,  2.22s/it]\u001b[A\u001b[A\n",
      "\n",
      "  4%|▍         | 39/1000 [01:18<34:44,  2.17s/it]\u001b[A\u001b[A\n",
      "\n",
      "  4%|▍         | 40/1000 [01:20<34:32,  2.16s/it]\u001b[A\u001b[A\n",
      "\n",
      "  4%|▍         | 41/1000 [01:23<36:02,  2.26s/it]\u001b[A\u001b[A\n",
      "\n",
      "  4%|▍         | 42/1000 [01:25<35:29,  2.22s/it]\u001b[A\u001b[A\n",
      "\n",
      "  4%|▍         | 43/1000 [01:27<36:49,  2.31s/it]\u001b[A\u001b[A\n",
      "\n",
      "  4%|▍         | 45/1000 [01:30<31:27,  1.98s/it]\u001b[A\u001b[A\n",
      "\n",
      "  5%|▍         | 46/1000 [01:32<32:32,  2.05s/it]\u001b[A\u001b[A\n",
      "\n",
      "  5%|▍         | 47/1000 [01:34<32:35,  2.05s/it]\u001b[A\u001b[A\n",
      "\n",
      "  5%|▍         | 48/1000 [01:36<32:47,  2.07s/it]\u001b[A\u001b[A\n",
      "\n",
      "  5%|▌         | 51/1000 [01:39<26:37,  1.68s/it]\u001b[A\u001b[A\n",
      "\n",
      "  5%|▌         | 52/1000 [01:41<28:48,  1.82s/it]\u001b[A\u001b[A\n",
      "\n",
      "  5%|▌         | 53/1000 [01:43<29:33,  1.87s/it]\u001b[A\u001b[A\n",
      "\n",
      "  6%|▌         | 56/1000 [01:45<24:20,  1.55s/it]\u001b[A\u001b[A\n",
      "\n",
      "  6%|▌         | 57/1000 [01:47<26:55,  1.71s/it]\u001b[A\u001b[A\n",
      "\n",
      "  6%|▌         | 58/1000 [01:49<29:00,  1.85s/it]\u001b[A\u001b[A\n",
      "\n",
      "  6%|▌         | 59/1000 [01:52<32:23,  2.07s/it]\u001b[A\u001b[A\n",
      "\n",
      "  6%|▌         | 60/1000 [01:54<33:20,  2.13s/it]\u001b[A\u001b[A\n",
      "\n",
      "  6%|▌         | 62/1000 [01:56<28:12,  1.80s/it]\u001b[A\u001b[A\n",
      "\n",
      "  6%|▋         | 64/1000 [01:58<24:31,  1.57s/it]\u001b[A\u001b[A\n",
      "\n",
      "  7%|▋         | 67/1000 [02:01<20:34,  1.32s/it]\u001b[A\u001b[A\n",
      "\n",
      "  7%|▋         | 68/1000 [02:03<23:41,  1.53s/it]\u001b[A\u001b[A\n",
      "\n",
      "  7%|▋         | 69/1000 [02:05<26:27,  1.71s/it]\u001b[A\u001b[A\n",
      "\n",
      "  7%|▋         | 70/1000 [02:07<28:56,  1.87s/it]\u001b[A\u001b[A\n",
      "\n",
      "  7%|▋         | 71/1000 [02:09<31:39,  2.04s/it]\u001b[A\u001b[A\n",
      "\n",
      "  7%|▋         | 72/1000 [02:11<31:14,  2.02s/it]\u001b[A\u001b[A\n",
      "\n",
      "  7%|▋         | 73/1000 [02:13<31:32,  2.04s/it]\u001b[A\u001b[A\n",
      "\n",
      "  7%|▋         | 74/1000 [02:16<31:35,  2.05s/it]\u001b[A\u001b[A\n",
      "\n",
      "  8%|▊         | 75/1000 [02:18<31:27,  2.04s/it]\u001b[A\u001b[A\n",
      "\n",
      "  8%|▊         | 81/1000 [02:20<23:31,  1.54s/it]\u001b[A\u001b[A\n",
      "\n",
      "  8%|▊         | 82/1000 [02:22<25:52,  1.69s/it]\u001b[A\u001b[A\n",
      "\n",
      "  8%|▊         | 83/1000 [02:24<28:01,  1.83s/it]\u001b[A\u001b[A\n",
      "\n",
      "  8%|▊         | 84/1000 [02:26<28:51,  1.89s/it]\u001b[A\u001b[A\n",
      "\n",
      "  8%|▊         | 85/1000 [02:28<29:34,  1.94s/it]\u001b[A\u001b[A\n",
      "\n",
      "  9%|▊         | 86/1000 [02:30<29:50,  1.96s/it]\u001b[A\u001b[A\n",
      "\n",
      "  9%|▊         | 87/1000 [02:32<30:25,  2.00s/it]\u001b[A\u001b[A\n",
      "\n",
      "  9%|▉         | 88/1000 [02:35<32:23,  2.13s/it]\u001b[A\u001b[A\n",
      "\n",
      "  9%|▉         | 89/1000 [02:37<32:24,  2.13s/it]\u001b[A\u001b[A\n",
      "\n",
      " 11%|█▏        | 113/1000 [02:39<22:29,  1.52s/it]\u001b[A\u001b[A\n",
      "\n",
      " 11%|█▏        | 114/1000 [02:41<26:36,  1.80s/it]\u001b[A\u001b[A\n",
      "\n",
      " 12%|█▏        | 115/1000 [02:44<31:57,  2.17s/it]\u001b[A\u001b[A\n",
      "\n",
      " 12%|█▏        | 116/1000 [02:47<33:55,  2.30s/it]\u001b[A\u001b[A\n",
      "\n",
      " 12%|█▏        | 118/1000 [02:49<29:01,  1.97s/it]\u001b[A\u001b[A\n",
      "\n",
      " 12%|█▏        | 119/1000 [02:52<30:09,  2.05s/it]\u001b[A\u001b[A\n",
      "\n",
      " 12%|█▏        | 120/1000 [02:54<30:38,  2.09s/it]\u001b[A\u001b[A\n",
      "\n",
      " 12%|█▏        | 121/1000 [02:56<30:20,  2.07s/it]\u001b[A\u001b[A\n",
      "\n",
      " 12%|█▏        | 122/1000 [02:58<30:01,  2.05s/it]\u001b[A\u001b[A\n",
      "\n",
      " 12%|█▏        | 123/1000 [03:00<29:48,  2.04s/it]\u001b[A\u001b[A\n",
      "\n",
      " 12%|█▏        | 124/1000 [03:02<30:08,  2.06s/it]\u001b[A\u001b[A\n",
      "\n",
      " 12%|█▎        | 125/1000 [03:04<31:09,  2.14s/it]\u001b[A\u001b[A\n",
      "\n",
      " 13%|█▎        | 126/1000 [03:06<30:59,  2.13s/it]\u001b[A\u001b[A\n",
      "\n",
      " 13%|█▎        | 127/1000 [03:08<30:42,  2.11s/it]\u001b[A\u001b[A\n",
      "\n",
      " 13%|█▎        | 128/1000 [03:11<32:13,  2.22s/it]\u001b[A\u001b[A\n",
      "\n",
      " 13%|█▎        | 129/1000 [03:13<32:00,  2.21s/it]\u001b[A\u001b[A\n",
      "\n",
      " 13%|█▎        | 130/1000 [03:16<32:58,  2.27s/it]\u001b[A\u001b[A\n",
      "\n",
      " 13%|█▎        | 131/1000 [03:18<32:34,  2.25s/it]\u001b[A\u001b[A\n",
      "\n",
      " 13%|█▎        | 132/1000 [03:20<33:02,  2.28s/it]\u001b[A\u001b[A\n",
      "\n",
      " 13%|█▎        | 133/1000 [03:22<32:50,  2.27s/it]\u001b[A\u001b[A\n",
      "\n",
      " 13%|█▎        | 134/1000 [03:25<32:31,  2.25s/it]\u001b[A\u001b[A\n",
      "\n",
      " 14%|█▎        | 135/1000 [03:27<31:53,  2.21s/it]\u001b[A\u001b[A\n",
      "\n",
      " 14%|█▎        | 136/1000 [03:29<32:31,  2.26s/it]\u001b[A\u001b[A\n",
      "\n",
      " 14%|█▍        | 138/1000 [03:31<27:16,  1.90s/it]\u001b[A\u001b[A\n",
      "\n",
      " 14%|█▍        | 139/1000 [03:33<29:00,  2.02s/it]\u001b[A\u001b[A\n",
      "\n",
      " 14%|█▍        | 140/1000 [03:36<30:09,  2.10s/it]\u001b[A\u001b[A\n",
      "\n",
      " 14%|█▍        | 141/1000 [03:38<29:42,  2.08s/it]\u001b[A\u001b[A\n",
      "\n",
      " 14%|█▍        | 142/1000 [03:40<29:55,  2.09s/it]\u001b[A\u001b[A\n",
      "\n",
      " 14%|█▍        | 143/1000 [03:42<29:40,  2.08s/it]\u001b[A\u001b[A\n",
      "\n",
      " 14%|█▍        | 144/1000 [03:44<30:26,  2.13s/it]\u001b[A\u001b[A\n",
      "\n",
      " 14%|█▍        | 145/1000 [03:46<30:09,  2.12s/it]\u001b[A\u001b[A\n",
      "\n",
      " 15%|█▍        | 146/1000 [03:48<29:52,  2.10s/it]\u001b[A\u001b[A\n",
      "\n",
      " 15%|█▍        | 147/1000 [03:51<30:20,  2.13s/it]\u001b[A\u001b[A\n",
      "\n",
      " 15%|█▍        | 148/1000 [03:53<30:29,  2.15s/it]\u001b[A\u001b[A\n",
      "\n",
      " 15%|█▍        | 149/1000 [03:55<31:14,  2.20s/it]\u001b[A\u001b[A\n",
      "\n",
      " 15%|█▌        | 150/1000 [03:58<34:39,  2.45s/it]\u001b[A\u001b[A\n",
      "\n",
      " 15%|█▌        | 151/1000 [04:00<33:16,  2.35s/it]\u001b[A\u001b[A\n",
      "\n",
      " 15%|█▌        | 152/1000 [04:02<31:59,  2.26s/it]\u001b[A\u001b[A\n",
      "\n",
      " 16%|█▌        | 155/1000 [04:04<25:25,  1.80s/it]\u001b[A\u001b[A\n",
      "\n",
      " 16%|█▌        | 156/1000 [04:07<27:07,  1.93s/it]\u001b[A\u001b[A\n",
      "\n",
      " 16%|█▌        | 157/1000 [04:09<27:40,  1.97s/it]\u001b[A\u001b[A\n",
      "\n",
      " 16%|█▌        | 158/1000 [04:11<28:27,  2.03s/it]\u001b[A\u001b[A\n",
      "\n",
      " 16%|█▌        | 159/1000 [04:13<28:53,  2.06s/it]\u001b[A\u001b[A\n",
      "\n",
      " 16%|█▌        | 160/1000 [04:15<29:01,  2.07s/it]\u001b[A\u001b[A\n",
      "\n",
      " 16%|█▌        | 161/1000 [04:18<31:20,  2.24s/it]\u001b[A\u001b[A\n",
      "\n",
      " 16%|█▌        | 162/1000 [04:20<32:00,  2.29s/it]\u001b[A\u001b[A\n",
      "\n",
      " 16%|█▋        | 163/1000 [04:23<33:43,  2.42s/it]\u001b[A\u001b[A\n",
      "\n",
      " 16%|█▋        | 164/1000 [04:25<33:00,  2.37s/it]\u001b[A\u001b[A\n",
      "\n",
      " 16%|█▋        | 165/1000 [04:27<31:38,  2.27s/it]\u001b[A\u001b[A\n",
      "\n",
      " 17%|█▋        | 167/1000 [04:29<26:21,  1.90s/it]\u001b[A\u001b[A\n",
      "\n",
      " 17%|█▋        | 168/1000 [04:31<27:12,  1.96s/it]\u001b[A\u001b[A\n",
      "\n",
      " 17%|█▋        | 170/1000 [04:33<23:12,  1.68s/it]\u001b[A\u001b[A\n",
      "\n",
      " 17%|█▋        | 171/1000 [04:36<26:32,  1.92s/it]\u001b[A\u001b[A\n",
      "\n",
      " 17%|█▋        | 172/1000 [04:38<28:25,  2.06s/it]\u001b[A\u001b[A\n",
      "\n",
      " 17%|█▋        | 173/1000 [04:41<29:36,  2.15s/it]\u001b[A\u001b[A\n",
      "\n",
      " 18%|█▊        | 175/1000 [04:43<25:43,  1.87s/it]\u001b[A\u001b[A\n",
      "\n",
      " 18%|█▊        | 177/1000 [04:45<22:41,  1.65s/it]\u001b[A\u001b[A\n",
      "\n",
      " 18%|█▊        | 178/1000 [04:47<24:31,  1.79s/it]\u001b[A\u001b[A\n",
      "\n",
      " 18%|█▊        | 180/1000 [04:50<22:43,  1.66s/it]\u001b[A\u001b[A\n",
      "\n",
      " 18%|█▊        | 182/1000 [04:52<20:26,  1.50s/it]\u001b[A\u001b[A\n",
      "\n",
      " 18%|█▊        | 183/1000 [04:55<23:21,  1.72s/it]\u001b[A\u001b[A\n",
      "\n",
      " 18%|█▊        | 184/1000 [04:58<27:55,  2.05s/it]\u001b[A\u001b[A\n",
      "\n",
      " 18%|█▊        | 185/1000 [05:00<29:28,  2.17s/it]\u001b[A\u001b[A\n",
      "\n",
      " 19%|█▊        | 186/1000 [05:04<35:14,  2.60s/it]\u001b[A\u001b[A\n",
      "\n",
      " 19%|█▊        | 187/1000 [05:06<34:40,  2.56s/it]\u001b[A\u001b[A\n",
      "\n",
      " 19%|█▉        | 191/1000 [05:08<26:30,  1.97s/it]\u001b[A\u001b[A\n",
      "\n",
      " 19%|█▉        | 194/1000 [05:11<22:03,  1.64s/it]\u001b[A\u001b[A\n",
      "\n",
      " 20%|█▉        | 195/1000 [05:13<23:30,  1.75s/it]\u001b[A\u001b[A\n",
      "\n",
      " 20%|█▉        | 196/1000 [05:15<25:24,  1.90s/it]\u001b[A\u001b[A\n",
      "\n",
      " 20%|█▉        | 197/1000 [05:18<27:14,  2.04s/it]\u001b[A\u001b[A\n",
      "\n"
     ]
    },
    {
     "name": "stderr",
     "output_type": "stream",
     "text": [
      " 20%|█▉        | 198/1000 [05:20<27:28,  2.06s/it]\u001b[A\u001b[A\n",
      "\n",
      " 20%|█▉        | 199/1000 [05:22<27:54,  2.09s/it]\u001b[A\u001b[A\n",
      "\n",
      " 20%|██        | 200/1000 [05:24<27:56,  2.10s/it]\u001b[A\u001b[A\n",
      "\n",
      " 20%|██        | 201/1000 [05:26<28:16,  2.12s/it]\u001b[A\u001b[A\n",
      "\n",
      " 20%|██        | 202/1000 [05:28<27:38,  2.08s/it]\u001b[A\u001b[A\n",
      "\n",
      " 20%|██        | 203/1000 [05:31<30:32,  2.30s/it]\u001b[A\u001b[A\n",
      "\n",
      " 20%|██        | 204/1000 [05:34<32:33,  2.45s/it]\u001b[A\u001b[A\n",
      "\n",
      " 21%|██        | 210/1000 [05:36<24:01,  1.82s/it]\u001b[A\u001b[A\n",
      "\n",
      " 21%|██        | 212/1000 [05:38<21:04,  1.60s/it]\u001b[A\u001b[A\n",
      "\n",
      " 21%|██▏       | 213/1000 [05:41<24:07,  1.84s/it]\u001b[A\u001b[A\n",
      "\n",
      " 21%|██▏       | 214/1000 [05:43<26:54,  2.05s/it]\u001b[A\u001b[A\n",
      "\n",
      " 22%|██▏       | 215/1000 [05:45<28:03,  2.14s/it]\u001b[A\u001b[A\n",
      "\n",
      " 22%|██▏       | 216/1000 [05:48<27:52,  2.13s/it]\u001b[A\u001b[A\n",
      "\n",
      " 22%|██▏       | 217/1000 [05:50<29:06,  2.23s/it]\u001b[A\u001b[A\n",
      "\n",
      " 22%|██▏       | 218/1000 [05:52<29:51,  2.29s/it]\u001b[A\u001b[A\n",
      "\n",
      " 22%|██▏       | 219/1000 [05:55<30:31,  2.35s/it]\u001b[A\u001b[A\n",
      "\n",
      " 22%|██▏       | 220/1000 [05:57<29:36,  2.28s/it]\u001b[A\u001b[A\n",
      "\n",
      " 22%|██▏       | 221/1000 [05:59<28:59,  2.23s/it]\u001b[A\u001b[A\n",
      "\n",
      " 22%|██▏       | 222/1000 [06:01<29:20,  2.26s/it]\u001b[A\u001b[A\n",
      "\n",
      " 22%|██▏       | 223/1000 [06:04<28:52,  2.23s/it]\u001b[A\u001b[A\n",
      "\n",
      " 22%|██▏       | 224/1000 [06:06<28:10,  2.18s/it]\u001b[A\u001b[A\n",
      "\n",
      " 23%|██▎       | 227/1000 [06:08<22:48,  1.77s/it]\u001b[A\u001b[A\n",
      "\n",
      " 23%|██▎       | 229/1000 [06:11<21:40,  1.69s/it]\u001b[A\u001b[A\n",
      "\n",
      " 23%|██▎       | 230/1000 [06:13<22:46,  1.77s/it]\u001b[A\u001b[A\n",
      "\n",
      " 23%|██▎       | 231/1000 [06:15<23:54,  1.86s/it]\u001b[A\u001b[A\n",
      "\n",
      " 23%|██▎       | 233/1000 [06:17<20:31,  1.61s/it]\u001b[A\u001b[A\n",
      "\n",
      " 24%|██▎       | 235/1000 [06:19<18:20,  1.44s/it]\u001b[A\u001b[A\n",
      "\n",
      " 24%|██▎       | 236/1000 [06:21<20:40,  1.62s/it]\u001b[A\u001b[A\n",
      "\n",
      " 24%|██▎       | 237/1000 [06:25<27:27,  2.16s/it]\u001b[A\u001b[A\n",
      "\n",
      " 24%|██▍       | 239/1000 [06:28<25:40,  2.02s/it]\u001b[A\u001b[A\n",
      "\n",
      " 24%|██▍       | 240/1000 [06:31<28:53,  2.28s/it]\u001b[A\u001b[A\n",
      "\n",
      " 24%|██▍       | 243/1000 [06:34<23:26,  1.86s/it]\u001b[A\u001b[A\n",
      "\n",
      " 25%|██▍       | 248/1000 [06:36<18:16,  1.46s/it]\u001b[A\u001b[A\n",
      "\n",
      " 25%|██▍       | 249/1000 [06:40<26:46,  2.14s/it]\u001b[A\u001b[A\n",
      "\n",
      " 25%|██▌       | 250/1000 [06:43<28:58,  2.32s/it]\u001b[A\u001b[A\n",
      "\n",
      " 25%|██▌       | 251/1000 [06:45<29:50,  2.39s/it]\u001b[A\u001b[A\n",
      "\n",
      " 25%|██▌       | 252/1000 [06:48<31:02,  2.49s/it]\u001b[A\u001b[A\n",
      "\n",
      " 26%|██▌       | 255/1000 [06:51<25:02,  2.02s/it]\u001b[A\u001b[A\n",
      "\n",
      " 26%|██▌       | 256/1000 [06:54<27:54,  2.25s/it]\u001b[A\u001b[A\n",
      "\n",
      " 26%|██▌       | 257/1000 [06:56<28:33,  2.31s/it]\u001b[A\u001b[A\n",
      "\n",
      " 26%|██▌       | 258/1000 [06:58<27:45,  2.24s/it]\u001b[A\u001b[A\n",
      "\n",
      " 26%|██▌       | 260/1000 [07:00<23:25,  1.90s/it]\u001b[A\u001b[A\n",
      "\n",
      " 26%|██▌       | 261/1000 [07:03<26:39,  2.16s/it]\u001b[A\u001b[A\n",
      "\n",
      " 26%|██▌       | 262/1000 [07:05<26:07,  2.12s/it]\u001b[A\u001b[A\n",
      "\n",
      " 26%|██▋       | 263/1000 [07:08<27:11,  2.21s/it]\u001b[A\u001b[A\n",
      "\n",
      " 26%|██▋       | 265/1000 [07:10<23:06,  1.89s/it]\u001b[A\u001b[A\n",
      "\n",
      " 27%|██▋       | 266/1000 [07:13<29:29,  2.41s/it]\u001b[A\u001b[A\n",
      "\n",
      " 27%|██▋       | 267/1000 [07:16<30:08,  2.47s/it]\u001b[A\u001b[A\n",
      "\n",
      " 27%|██▋       | 268/1000 [07:18<29:02,  2.38s/it]\u001b[A\u001b[A\n",
      "\n",
      " 27%|██▋       | 269/1000 [07:20<27:42,  2.27s/it]\u001b[A\u001b[A\n",
      "\n",
      " 34%|███▍      | 339/1000 [07:24<17:42,  1.61s/it]\u001b[A\u001b[A\n",
      "\n",
      " 34%|███▍      | 341/1000 [07:26<16:38,  1.51s/it]\u001b[A\u001b[A\n",
      "\n",
      " 34%|███▍      | 342/1000 [07:28<18:31,  1.69s/it]\u001b[A\u001b[A\n",
      "\n",
      " 34%|███▍      | 343/1000 [07:31<21:32,  1.97s/it]\u001b[A\u001b[A\n",
      "\n",
      " 34%|███▍      | 344/1000 [07:33<21:46,  1.99s/it]\u001b[A\u001b[A\n",
      "\n",
      " 34%|███▍      | 345/1000 [07:36<25:13,  2.31s/it]\u001b[A\u001b[A\n",
      "\n",
      " 36%|███▋      | 364/1000 [07:39<17:37,  1.66s/it]\u001b[A\u001b[A\n",
      "\n",
      " 36%|███▋      | 365/1000 [07:41<20:27,  1.93s/it]\u001b[A\u001b[A\n",
      "\n",
      " 37%|███▋      | 366/1000 [07:44<22:28,  2.13s/it]\u001b[A\u001b[A\n",
      "\n",
      " 37%|███▋      | 367/1000 [07:47<23:47,  2.26s/it]\u001b[A\u001b[A\n",
      "\n",
      " 37%|███▋      | 368/1000 [07:50<25:49,  2.45s/it]\u001b[A\u001b[A\n",
      "\n",
      " 37%|███▋      | 369/1000 [07:52<25:22,  2.41s/it]\u001b[A\u001b[A\n",
      "\n",
      " 37%|███▋      | 370/1000 [07:55<26:37,  2.54s/it]\u001b[A\u001b[A\n",
      "\n",
      " 37%|███▋      | 371/1000 [07:57<27:06,  2.59s/it]\u001b[A\u001b[A\n",
      "\n",
      " 37%|███▋      | 372/1000 [08:00<27:03,  2.58s/it]\u001b[A\u001b[A\n",
      "\n",
      " 37%|███▋      | 373/1000 [08:02<26:10,  2.50s/it]\u001b[A\u001b[A\n",
      "\n",
      " 37%|███▋      | 374/1000 [08:05<26:43,  2.56s/it]\u001b[A\u001b[A\n",
      "\n",
      " 38%|███▊      | 377/1000 [08:07<21:13,  2.04s/it]\u001b[A\u001b[A\n",
      "\n",
      " 38%|███▊      | 378/1000 [08:11<24:17,  2.34s/it]\u001b[A\u001b[A\n",
      "\n",
      " 41%|████      | 408/1000 [08:14<16:29,  1.67s/it]\u001b[A\u001b[A\n",
      "\n",
      " 41%|████      | 409/1000 [08:16<18:50,  1.91s/it]\u001b[A\u001b[A\n",
      "\n",
      " 41%|████      | 410/1000 [08:18<20:09,  2.05s/it]\u001b[A\u001b[A\n",
      "\n",
      " 41%|████      | 412/1000 [08:21<18:12,  1.86s/it]\u001b[A\u001b[A\n",
      "\n",
      " 41%|████▏     | 413/1000 [08:24<20:46,  2.12s/it]\u001b[A\u001b[A\n",
      "\n",
      " 41%|████▏     | 414/1000 [08:26<21:12,  2.17s/it]\u001b[A\u001b[A\n",
      "\n",
      " 42%|████▏     | 416/1000 [08:29<18:28,  1.90s/it]\u001b[A\u001b[A\n",
      "\n",
      " 42%|████▏     | 417/1000 [08:32<22:48,  2.35s/it]\u001b[A\u001b[A\n",
      "\n",
      " 42%|████▏     | 418/1000 [08:35<24:21,  2.51s/it]\u001b[A\u001b[A\n",
      "\n",
      " 42%|████▏     | 419/1000 [08:37<23:33,  2.43s/it]\u001b[A\u001b[A\n",
      "\n",
      " 42%|████▏     | 420/1000 [08:39<22:37,  2.34s/it]\u001b[A\u001b[A\n",
      "\n",
      " 42%|████▏     | 422/1000 [08:42<18:49,  1.95s/it]\u001b[A\u001b[A\n",
      "\n",
      " 42%|████▏     | 423/1000 [08:44<19:08,  1.99s/it]\u001b[A\u001b[A\n",
      "\n",
      " 42%|████▏     | 424/1000 [08:46<19:25,  2.02s/it]\u001b[A\u001b[A\n",
      "\n",
      " 42%|████▎     | 425/1000 [08:48<20:03,  2.09s/it]\u001b[A\u001b[A\n",
      "\n",
      " 43%|████▎     | 426/1000 [08:50<20:13,  2.11s/it]\u001b[A\u001b[A\n",
      "\n",
      " 43%|████▎     | 428/1000 [08:53<18:01,  1.89s/it]\u001b[A\u001b[A\n",
      "\n",
      " 43%|████▎     | 429/1000 [08:55<19:05,  2.01s/it]\u001b[A\u001b[A\n",
      "\n",
      " 43%|████▎     | 430/1000 [08:57<19:53,  2.09s/it]\u001b[A\u001b[A\n",
      "\n",
      " 43%|████▎     | 431/1000 [09:00<19:39,  2.07s/it]\u001b[A\u001b[A\n",
      "\n",
      " 43%|████▎     | 432/1000 [09:02<20:32,  2.17s/it]\u001b[A\u001b[A\n",
      "\n",
      " 43%|████▎     | 433/1000 [09:04<20:30,  2.17s/it]\u001b[A\u001b[A\n",
      "\n",
      " 43%|████▎     | 434/1000 [09:07<21:22,  2.27s/it]\u001b[A\u001b[A\n",
      "\n",
      " 44%|████▎     | 435/1000 [09:10<24:01,  2.55s/it]\u001b[A\u001b[A\n",
      "\n",
      " 44%|████▎     | 436/1000 [09:13<25:41,  2.73s/it]\u001b[A\u001b[A\n",
      "\n",
      " 44%|████▎     | 437/1000 [09:15<24:35,  2.62s/it]\u001b[A\u001b[A\n",
      "\n",
      " 44%|████▍     | 438/1000 [09:18<23:49,  2.54s/it]\u001b[A\u001b[A\n",
      "\n",
      " 44%|████▍     | 439/1000 [09:20<22:43,  2.43s/it]\u001b[A\u001b[A\n",
      "\n",
      " 44%|████▍     | 440/1000 [09:22<22:29,  2.41s/it]\u001b[A\u001b[A\n",
      "\n",
      " 44%|████▍     | 441/1000 [09:25<22:22,  2.40s/it]\u001b[A\u001b[A\n",
      "\n",
      " 44%|████▍     | 442/1000 [09:27<21:19,  2.29s/it]\u001b[A\u001b[A\n",
      "\n",
      " 44%|████▍     | 443/1000 [09:29<20:40,  2.23s/it]\u001b[A\u001b[A\n",
      "\n",
      " 46%|████▌     | 460/1000 [09:32<14:34,  1.62s/it]\u001b[A\u001b[A\n",
      "\n",
      " 46%|████▌     | 461/1000 [09:34<16:06,  1.79s/it]\u001b[A\u001b[A\n",
      "\n",
      " 46%|████▌     | 462/1000 [09:37<17:45,  1.98s/it]\u001b[A\u001b[A\n",
      "\n",
      " 46%|████▋     | 463/1000 [09:39<19:53,  2.22s/it]\u001b[A\u001b[A\n",
      "\n",
      " 46%|████▋     | 464/1000 [09:42<20:32,  2.30s/it]\u001b[A\u001b[A\n",
      "\n",
      " 46%|████▋     | 465/1000 [09:44<20:18,  2.28s/it]\u001b[A\u001b[A\n",
      "\n",
      " 47%|████▋     | 471/1000 [09:47<15:13,  1.73s/it]\u001b[A\u001b[A\n",
      "\n",
      " 47%|████▋     | 472/1000 [09:50<17:47,  2.02s/it]\u001b[A\u001b[A\n",
      "\n",
      " 47%|████▋     | 473/1000 [09:52<18:01,  2.05s/it]\u001b[A\u001b[A\n",
      "\n",
      " 47%|████▋     | 474/1000 [09:54<18:58,  2.16s/it]\u001b[A\u001b[A\n",
      "\n",
      " 48%|████▊     | 476/1000 [09:56<16:18,  1.87s/it]\u001b[A\u001b[A\n",
      "\n",
      " 48%|████▊     | 480/1000 [09:59<12:47,  1.48s/it]\u001b[A\u001b[A\n",
      "\n",
      " 48%|████▊     | 481/1000 [10:01<14:15,  1.65s/it]\u001b[A\u001b[A\n",
      "\n",
      " 48%|████▊     | 483/1000 [10:03<13:12,  1.53s/it]\u001b[A\u001b[A\n",
      "\n",
      " 48%|████▊     | 484/1000 [10:06<16:30,  1.92s/it]\u001b[A\u001b[A\n",
      "\n",
      " 49%|████▊     | 486/1000 [10:09<15:12,  1.78s/it]\u001b[A\u001b[A\n",
      "\n",
      " 49%|████▊     | 487/1000 [10:11<17:01,  1.99s/it]\u001b[A\u001b[A\n",
      "\n",
      " 49%|████▉     | 488/1000 [10:14<18:01,  2.11s/it]\u001b[A\u001b[A\n",
      "\n",
      " 49%|████▉     | 489/1000 [10:16<18:02,  2.12s/it]\u001b[A\u001b[A\n",
      "\n",
      " 49%|████▉     | 490/1000 [10:19<20:26,  2.40s/it]\u001b[A\u001b[A\n",
      "\n",
      " 49%|████▉     | 491/1000 [10:21<20:17,  2.39s/it]\u001b[A\u001b[A\n",
      "\n",
      " 49%|████▉     | 492/1000 [10:24<20:46,  2.45s/it]\u001b[A\u001b[A\n",
      "\n",
      " 49%|████▉     | 493/1000 [10:26<20:19,  2.41s/it]\u001b[A\u001b[A\n",
      "\n",
      " 49%|████▉     | 494/1000 [10:29<21:02,  2.50s/it]\u001b[A\u001b[A\n",
      "\n",
      " 50%|████▉     | 495/1000 [10:31<20:03,  2.38s/it]\u001b[A\u001b[A\n",
      "\n",
      " 50%|████▉     | 496/1000 [10:33<19:57,  2.38s/it]\u001b[A\u001b[A\n",
      "\n",
      " 50%|████▉     | 497/1000 [10:36<20:07,  2.40s/it]\u001b[A\u001b[A\n",
      "\n",
      " 50%|████▉     | 498/1000 [10:38<20:16,  2.42s/it]\u001b[A\u001b[A\n",
      "\n",
      " 50%|████▉     | 499/1000 [10:41<19:46,  2.37s/it]\u001b[A\u001b[A\n",
      "\n",
      " 50%|█████     | 500/1000 [10:43<19:47,  2.38s/it]\u001b[A\u001b[A\n",
      "\n",
      " 50%|█████     | 501/1000 [10:45<19:38,  2.36s/it]\u001b[A\u001b[A\n",
      "\n",
      " 50%|█████     | 502/1000 [10:48<20:00,  2.41s/it]\u001b[A\u001b[A\n",
      "\n",
      " 50%|█████     | 503/1000 [10:50<19:59,  2.41s/it]\u001b[A\u001b[A\n",
      "\n",
      " 50%|█████     | 504/1000 [10:53<21:04,  2.55s/it]\u001b[A\u001b[A\n",
      "\n",
      " 50%|█████     | 505/1000 [10:56<21:02,  2.55s/it]\u001b[A\u001b[A\n",
      "\n",
      " 51%|█████     | 506/1000 [11:01<26:29,  3.22s/it]\u001b[A\u001b[A\n",
      "\n",
      " 51%|█████     | 507/1000 [11:03<25:10,  3.06s/it]\u001b[A\u001b[A\n",
      "\n",
      " 51%|█████     | 510/1000 [11:06<19:48,  2.42s/it]\u001b[A\u001b[A\n",
      "\n",
      " 51%|█████     | 511/1000 [11:09<20:02,  2.46s/it]\u001b[A\u001b[A\n",
      "\n",
      " 51%|█████     | 512/1000 [11:12<22:46,  2.80s/it]\u001b[A\u001b[A\n",
      "\n"
     ]
    },
    {
     "name": "stderr",
     "output_type": "stream",
     "text": [
      " 51%|█████▏    | 513/1000 [11:14<21:10,  2.61s/it]\u001b[A\u001b[A\n",
      "\n",
      " 52%|█████▏    | 522/1000 [11:17<15:10,  1.90s/it]\u001b[A\u001b[A\n",
      "\n",
      " 52%|█████▏    | 523/1000 [11:19<16:11,  2.04s/it]\u001b[A\u001b[A\n",
      "\n",
      " 52%|█████▏    | 524/1000 [11:21<16:24,  2.07s/it]\u001b[A\u001b[A\n",
      "\n",
      " 53%|█████▎    | 526/1000 [11:24<14:21,  1.82s/it]\u001b[A\u001b[A\n",
      "\n",
      " 53%|█████▎    | 527/1000 [11:26<15:08,  1.92s/it]\u001b[A\u001b[A\n",
      "\n",
      " 53%|█████▎    | 528/1000 [11:28<15:50,  2.01s/it]\u001b[A\u001b[A\n",
      "\n",
      " 53%|█████▎    | 529/1000 [11:30<16:51,  2.15s/it]\u001b[A\u001b[A\n",
      "\n",
      " 53%|█████▎    | 530/1000 [11:33<16:55,  2.16s/it]\u001b[A\u001b[A\n",
      "\n",
      " 53%|█████▎    | 531/1000 [11:35<16:29,  2.11s/it]\u001b[A\u001b[A\n",
      "\n",
      " 53%|█████▎    | 532/1000 [11:38<18:45,  2.41s/it]\u001b[A\u001b[A\n",
      "\n",
      " 53%|█████▎    | 533/1000 [11:41<20:16,  2.61s/it]\u001b[A\u001b[A\n",
      "\n",
      " 53%|█████▎    | 534/1000 [11:43<19:04,  2.46s/it]\u001b[A\u001b[A\n",
      "\n",
      " 54%|█████▎    | 535/1000 [11:45<18:39,  2.41s/it]\u001b[A\u001b[A\n",
      "\n",
      " 54%|█████▎    | 536/1000 [11:47<18:06,  2.34s/it]\u001b[A\u001b[A\n",
      "\n",
      " 54%|█████▎    | 537/1000 [11:50<18:04,  2.34s/it]\u001b[A\u001b[A\n",
      "\n",
      " 54%|█████▍    | 539/1000 [11:52<15:24,  2.01s/it]\u001b[A\u001b[A\n",
      "\n",
      " 54%|█████▍    | 540/1000 [11:55<17:27,  2.28s/it]\u001b[A\u001b[A\n",
      "\n",
      " 54%|█████▍    | 542/1000 [11:58<15:24,  2.02s/it]\u001b[A\u001b[A\n",
      "\n",
      " 54%|█████▍    | 543/1000 [12:00<16:23,  2.15s/it]\u001b[A\u001b[A\n",
      "\n",
      " 54%|█████▍    | 544/1000 [12:04<19:38,  2.59s/it]\u001b[A\u001b[A\n",
      "\n",
      " 55%|█████▍    | 545/1000 [12:06<19:12,  2.53s/it]\u001b[A\u001b[A\n",
      "\n",
      " 55%|█████▍    | 546/1000 [12:09<19:17,  2.55s/it]\u001b[A\u001b[A\n",
      "\n",
      " 55%|█████▍    | 548/1000 [12:11<15:53,  2.11s/it]\u001b[A\u001b[A\n",
      "\n",
      " 55%|█████▍    | 549/1000 [12:14<16:52,  2.25s/it]\u001b[A\u001b[A\n",
      "\n",
      " 55%|█████▌    | 550/1000 [12:16<16:49,  2.24s/it]\u001b[A\u001b[A\n",
      "\n",
      " 55%|█████▌    | 551/1000 [12:18<17:02,  2.28s/it]\u001b[A\u001b[A\n",
      "\n",
      " 55%|█████▌    | 552/1000 [12:20<16:38,  2.23s/it]\u001b[A\u001b[A\n",
      "\n",
      " 55%|█████▌    | 553/1000 [12:23<17:02,  2.29s/it]\u001b[A\u001b[A\n",
      "\n",
      " 55%|█████▌    | 554/1000 [12:25<17:33,  2.36s/it]\u001b[A\u001b[A\n",
      "\n",
      " 56%|█████▌    | 555/1000 [12:28<17:36,  2.37s/it]\u001b[A\u001b[A\n",
      "\n",
      " 56%|█████▌    | 556/1000 [12:30<17:52,  2.42s/it]\u001b[A\u001b[A\n",
      "\n",
      " 56%|█████▌    | 558/1000 [12:32<14:47,  2.01s/it]\u001b[A\u001b[A\n",
      "\n",
      " 56%|█████▌    | 560/1000 [12:35<12:58,  1.77s/it]\u001b[A\u001b[A\n",
      "\n",
      " 56%|█████▌    | 561/1000 [12:37<13:46,  1.88s/it]\u001b[A\u001b[A\n",
      "\n",
      " 56%|█████▌    | 562/1000 [12:39<14:02,  1.92s/it]\u001b[A\u001b[A\n",
      "\n",
      " 56%|█████▋    | 563/1000 [12:42<15:15,  2.10s/it]\u001b[A\u001b[A\n",
      "\n",
      " 56%|█████▋    | 564/1000 [12:44<15:15,  2.10s/it]\u001b[A\u001b[A\n",
      "\n",
      " 56%|█████▋    | 565/1000 [12:46<16:16,  2.25s/it]\u001b[A\u001b[A\n",
      "\n",
      " 57%|█████▋    | 566/1000 [12:48<15:49,  2.19s/it]\u001b[A\u001b[A\n",
      "\n",
      " 57%|█████▋    | 567/1000 [12:51<16:03,  2.22s/it]\u001b[A\u001b[A\n",
      "\n",
      " 57%|█████▋    | 568/1000 [12:53<15:43,  2.18s/it]\u001b[A\u001b[A\n",
      "\n",
      " 57%|█████▋    | 569/1000 [12:55<15:20,  2.13s/it]\u001b[A\u001b[A\n",
      "\n",
      " 57%|█████▋    | 570/1000 [13:02<26:19,  3.67s/it]\u001b[A\u001b[A\n",
      "\n",
      " 57%|█████▋    | 571/1000 [13:04<23:35,  3.30s/it]\u001b[A\u001b[A\n",
      "\n",
      " 57%|█████▋    | 572/1000 [13:07<21:53,  3.07s/it]\u001b[A\u001b[A\n",
      "\n",
      " 57%|█████▋    | 573/1000 [13:09<20:39,  2.90s/it]\u001b[A\u001b[A\n",
      "\n",
      " 57%|█████▊    | 575/1000 [13:12<16:41,  2.36s/it]\u001b[A\u001b[A\n",
      "\n",
      " 58%|█████▊    | 576/1000 [13:14<16:14,  2.30s/it]\u001b[A\u001b[A\n",
      "\n",
      " 58%|█████▊    | 577/1000 [13:16<16:45,  2.38s/it]\u001b[A\u001b[A\n",
      "\n",
      " 58%|█████▊    | 578/1000 [13:18<16:06,  2.29s/it]\u001b[A\u001b[A\n",
      "\n",
      " 58%|█████▊    | 580/1000 [13:20<13:19,  1.90s/it]\u001b[A\u001b[A\n",
      "\n",
      " 58%|█████▊    | 581/1000 [13:23<13:56,  2.00s/it]\u001b[A\u001b[A\n",
      "\n",
      " 58%|█████▊    | 582/1000 [13:25<14:17,  2.05s/it]\u001b[A\u001b[A\n",
      "\n",
      " 58%|█████▊    | 583/1000 [13:28<15:43,  2.26s/it]\u001b[A\u001b[A\n",
      "\n",
      " 58%|█████▊    | 584/1000 [13:30<16:18,  2.35s/it]\u001b[A\u001b[A\n",
      "\n",
      " 58%|█████▊    | 585/1000 [13:32<15:39,  2.26s/it]\u001b[A\u001b[A\n",
      "\n",
      " 59%|█████▊    | 586/1000 [13:35<16:42,  2.42s/it]\u001b[A\u001b[A\n",
      "\n",
      " 59%|█████▊    | 587/1000 [13:37<16:40,  2.42s/it]\u001b[A\u001b[A\n",
      "\n",
      " 59%|█████▉    | 588/1000 [13:40<16:38,  2.42s/it]\u001b[A\u001b[A\n",
      "\n",
      " 59%|█████▉    | 589/1000 [13:42<16:17,  2.38s/it]\u001b[A\u001b[A\n",
      "\n",
      " 59%|█████▉    | 590/1000 [13:45<16:27,  2.41s/it]\u001b[A\u001b[A\n",
      "\n",
      " 59%|█████▉    | 592/1000 [13:47<14:06,  2.07s/it]\u001b[A\u001b[A\n",
      "\n",
      " 59%|█████▉    | 594/1000 [13:50<12:32,  1.85s/it]\u001b[A\u001b[A\n",
      "\n",
      " 60%|█████▉    | 596/1000 [13:52<10:55,  1.62s/it]\u001b[A\u001b[A\n",
      "\n",
      " 60%|█████▉    | 597/1000 [13:54<12:23,  1.84s/it]\u001b[A\u001b[A\n",
      "\n",
      " 60%|█████▉    | 598/1000 [13:56<12:41,  1.89s/it]\u001b[A\u001b[A\n",
      "\n",
      " 60%|█████▉    | 599/1000 [13:59<13:39,  2.04s/it]\u001b[A\u001b[A\n",
      "\n",
      " 60%|██████    | 600/1000 [14:02<16:21,  2.45s/it]\u001b[A\u001b[A\n",
      "\n",
      " 60%|██████    | 602/1000 [14:05<14:02,  2.12s/it]\u001b[A\u001b[A\n",
      "\n",
      " 60%|██████    | 603/1000 [14:07<14:03,  2.12s/it]\u001b[A\u001b[A\n",
      "\n",
      " 60%|██████    | 604/1000 [14:09<14:30,  2.20s/it]\u001b[A\u001b[A\n",
      "\n",
      " 60%|██████    | 605/1000 [14:11<14:13,  2.16s/it]\u001b[A\u001b[A\n",
      "\n",
      " 61%|██████    | 606/1000 [14:14<14:07,  2.15s/it]\u001b[A\u001b[A\n",
      "\n",
      " 61%|██████    | 607/1000 [14:16<15:20,  2.34s/it]\u001b[A\u001b[A\n",
      "\n",
      " 61%|██████    | 608/1000 [14:19<15:44,  2.41s/it]\u001b[A\u001b[A\n",
      "\n",
      " 61%|██████    | 610/1000 [14:21<13:26,  2.07s/it]\u001b[A\u001b[A\n",
      "\n",
      " 61%|██████    | 611/1000 [14:24<13:51,  2.14s/it]\u001b[A\u001b[A\n",
      "\n",
      " 61%|██████    | 612/1000 [14:26<13:59,  2.16s/it]\u001b[A\u001b[A\n",
      "\n",
      " 61%|██████▏   | 613/1000 [14:28<14:07,  2.19s/it]\u001b[A\u001b[A\n",
      "\n",
      " 61%|██████▏   | 614/1000 [14:30<14:03,  2.19s/it]\u001b[A\u001b[A\n",
      "\n",
      " 62%|██████▏   | 616/1000 [14:33<12:12,  1.91s/it]\u001b[A\u001b[A\n",
      "\n",
      " 62%|██████▏   | 617/1000 [14:36<13:49,  2.17s/it]\u001b[A\u001b[A\n",
      "\n",
      " 62%|██████▏   | 618/1000 [14:38<14:58,  2.35s/it]\u001b[A\u001b[A\n",
      "\n",
      " 62%|██████▏   | 619/1000 [14:41<15:16,  2.41s/it]\u001b[A\u001b[A\n",
      "\n",
      " 62%|██████▏   | 620/1000 [14:43<15:12,  2.40s/it]\u001b[A\u001b[A\n",
      "\n",
      " 62%|██████▏   | 621/1000 [14:46<16:10,  2.56s/it]\u001b[A\u001b[A\n",
      "\n",
      " 62%|██████▏   | 622/1000 [14:49<16:26,  2.61s/it]\u001b[A\u001b[A\n",
      "\n",
      " 62%|██████▏   | 623/1000 [14:52<16:13,  2.58s/it]\u001b[A\u001b[A\n",
      "\n",
      " 62%|██████▏   | 624/1000 [14:54<15:08,  2.42s/it]\u001b[A\u001b[A\n",
      "\n",
      " 62%|██████▎   | 625/1000 [14:56<14:38,  2.34s/it]\u001b[A\u001b[A\n",
      "\n",
      " 63%|██████▎   | 627/1000 [14:58<12:15,  1.97s/it]\u001b[A\u001b[A\n",
      "\n",
      " 63%|██████▎   | 628/1000 [15:00<12:43,  2.05s/it]\u001b[A\u001b[A\n",
      "\n",
      " 63%|██████▎   | 629/1000 [15:03<13:57,  2.26s/it]\u001b[A\u001b[A\n",
      "\n",
      " 63%|██████▎   | 630/1000 [15:05<14:12,  2.30s/it]\u001b[A\u001b[A\n",
      "\n",
      " 63%|██████▎   | 632/1000 [15:07<11:51,  1.93s/it]\u001b[A\u001b[A\n",
      "\n",
      " 63%|██████▎   | 633/1000 [15:10<13:20,  2.18s/it]\u001b[A\u001b[A\n",
      "\n",
      " 63%|██████▎   | 634/1000 [15:13<14:28,  2.37s/it]\u001b[A\u001b[A\n",
      "\n",
      " 64%|██████▎   | 635/1000 [15:16<15:12,  2.50s/it]\u001b[A\u001b[A\n",
      "\n",
      " 64%|██████▎   | 636/1000 [15:18<14:28,  2.39s/it]\u001b[A\u001b[A\n",
      "\n",
      " 64%|██████▍   | 638/1000 [15:20<11:58,  1.99s/it]\u001b[A\u001b[A\n",
      "\n",
      " 64%|██████▍   | 639/1000 [15:23<13:03,  2.17s/it]\u001b[A\u001b[A\n",
      "\n",
      " 64%|██████▍   | 640/1000 [15:25<13:48,  2.30s/it]\u001b[A\u001b[A\n",
      "\n",
      " 64%|██████▍   | 641/1000 [15:28<13:56,  2.33s/it]\u001b[A\u001b[A\n",
      "\n",
      " 64%|██████▍   | 642/1000 [15:31<14:49,  2.48s/it]\u001b[A\u001b[A\n",
      "\n",
      " 64%|██████▍   | 643/1000 [15:33<13:58,  2.35s/it]\u001b[A\u001b[A\n",
      "\n",
      " 64%|██████▍   | 644/1000 [15:36<15:27,  2.61s/it]\u001b[A\u001b[A\n",
      "\n",
      " 65%|██████▍   | 648/1000 [15:40<12:41,  2.16s/it]\u001b[A\u001b[A\n",
      "\n",
      " 65%|██████▍   | 649/1000 [15:43<13:10,  2.25s/it]\u001b[A\u001b[A\n",
      "\n",
      " 65%|██████▌   | 650/1000 [15:45<13:00,  2.23s/it]\u001b[A\u001b[A\n",
      "\n",
      " 65%|██████▌   | 651/1000 [15:48<14:02,  2.41s/it]\u001b[A\u001b[A\n",
      "\n",
      " 65%|██████▌   | 652/1000 [15:50<14:11,  2.45s/it]\u001b[A\u001b[A\n",
      "\n",
      " 65%|██████▌   | 653/1000 [15:53<14:29,  2.51s/it]\u001b[A\u001b[A\n",
      "\n",
      " 65%|██████▌   | 654/1000 [15:56<15:16,  2.65s/it]\u001b[A\u001b[A\n",
      "\n",
      " 66%|██████▌   | 657/1000 [15:58<12:01,  2.10s/it]\u001b[A\u001b[A\n",
      "\n",
      " 66%|██████▌   | 658/1000 [16:01<12:04,  2.12s/it]\u001b[A\u001b[A\n",
      "\n",
      " 66%|██████▌   | 659/1000 [16:03<12:16,  2.16s/it]\u001b[A\u001b[A\n",
      "\n",
      " 66%|██████▌   | 660/1000 [16:05<12:00,  2.12s/it]\u001b[A\u001b[A\n",
      "\n",
      " 66%|██████▌   | 661/1000 [16:07<12:20,  2.18s/it]\u001b[A\u001b[A\n",
      "\n",
      " 66%|██████▌   | 662/1000 [16:10<12:53,  2.29s/it]\u001b[A\u001b[A\n",
      "\n",
      " 66%|██████▋   | 663/1000 [16:12<12:24,  2.21s/it]\u001b[A\u001b[A\n",
      "\n",
      " 68%|██████▊   | 675/1000 [16:14<08:40,  1.60s/it]\u001b[A\u001b[A\n",
      "\n",
      " 68%|██████▊   | 676/1000 [16:16<09:27,  1.75s/it]\u001b[A\u001b[A\n",
      "\n",
      " 68%|██████▊   | 677/1000 [16:18<10:08,  1.88s/it]\u001b[A\u001b[A\n",
      "\n",
      " 68%|██████▊   | 678/1000 [16:21<11:11,  2.08s/it]\u001b[A\u001b[A\n",
      "\n",
      " 68%|██████▊   | 679/1000 [16:24<12:21,  2.31s/it]\u001b[A\u001b[A\n",
      "\n",
      " 68%|██████▊   | 680/1000 [16:26<12:32,  2.35s/it]\u001b[A\u001b[A\n",
      "\n",
      " 68%|██████▊   | 681/1000 [16:29<13:32,  2.55s/it]\u001b[A\u001b[A\n",
      "\n",
      " 68%|██████▊   | 683/1000 [16:32<11:23,  2.16s/it]\u001b[A\u001b[A\n",
      "\n",
      " 68%|██████▊   | 684/1000 [16:34<12:14,  2.32s/it]\u001b[A\u001b[A\n",
      "\n",
      " 69%|██████▊   | 686/1000 [16:36<10:10,  1.94s/it]\u001b[A\u001b[A\n",
      "\n",
      " 69%|██████▊   | 687/1000 [16:39<10:27,  2.00s/it]\u001b[A\u001b[A\n",
      "\n",
      " 69%|██████▉   | 689/1000 [16:41<08:56,  1.72s/it]\u001b[A\u001b[A\n",
      "\n",
      " 69%|██████▉   | 690/1000 [16:43<09:35,  1.86s/it]\u001b[A\u001b[A\n",
      "\n",
      " 69%|██████▉   | 691/1000 [16:46<10:59,  2.14s/it]\u001b[A\u001b[A\n",
      "\n",
      " 69%|██████▉   | 692/1000 [16:48<11:08,  2.17s/it]\u001b[A\u001b[A\n",
      "\n",
      " 69%|██████▉   | 693/1000 [16:50<11:29,  2.25s/it]\u001b[A\u001b[A\n",
      "\n",
      " 70%|██████▉   | 696/1000 [16:52<08:58,  1.77s/it]\u001b[A\u001b[A\n",
      "\n",
      " 70%|██████▉   | 697/1000 [16:54<09:20,  1.85s/it]\u001b[A\u001b[A\n",
      "\n",
      " 70%|██████▉   | 699/1000 [16:57<08:40,  1.73s/it]\u001b[A\u001b[A\n",
      "\n",
      " 70%|███████   | 700/1000 [17:00<09:43,  1.94s/it]\u001b[A\u001b[A\n",
      "\n"
     ]
    },
    {
     "name": "stderr",
     "output_type": "stream",
     "text": [
      " 70%|███████   | 702/1000 [17:02<08:41,  1.75s/it]\u001b[A\u001b[A\n",
      "\n",
      " 70%|███████   | 703/1000 [17:05<10:05,  2.04s/it]\u001b[A\u001b[A\n",
      "\n",
      " 70%|███████   | 704/1000 [17:07<10:10,  2.06s/it]\u001b[A\u001b[A\n",
      "\n",
      " 70%|███████   | 705/1000 [17:09<10:14,  2.08s/it]\u001b[A\u001b[A\n",
      "\n",
      " 71%|███████   | 706/1000 [17:12<11:35,  2.37s/it]\u001b[A\u001b[A\n",
      "\n",
      " 71%|███████   | 708/1000 [17:15<10:17,  2.12s/it]\u001b[A\u001b[A\n",
      "\n",
      " 71%|███████   | 709/1000 [17:17<10:21,  2.14s/it]\u001b[A\u001b[A\n",
      "\n",
      " 71%|███████   | 710/1000 [17:20<10:57,  2.27s/it]\u001b[A\u001b[A\n",
      "\n",
      " 71%|███████   | 711/1000 [17:22<10:31,  2.19s/it]\u001b[A\u001b[A\n",
      "\n",
      " 71%|███████   | 712/1000 [17:24<10:11,  2.12s/it]\u001b[A\u001b[A\n",
      "\n",
      " 71%|███████▏  | 713/1000 [17:26<10:05,  2.11s/it]\u001b[A\u001b[A\n",
      "\n",
      " 71%|███████▏  | 714/1000 [17:28<10:18,  2.16s/it]\u001b[A\u001b[A\n",
      "\n",
      " 72%|███████▏  | 715/1000 [17:31<10:32,  2.22s/it]\u001b[A\u001b[A\n",
      "\n",
      " 72%|███████▏  | 716/1000 [17:33<10:54,  2.30s/it]\u001b[A\u001b[A\n",
      "\n",
      " 72%|███████▏  | 717/1000 [17:36<10:57,  2.32s/it]\u001b[A\u001b[A\n",
      "\n",
      " 72%|███████▏  | 720/1000 [17:38<08:32,  1.83s/it]\u001b[A\u001b[A\n",
      "\n",
      " 73%|███████▎  | 726/1000 [17:40<06:24,  1.40s/it]\u001b[A\u001b[A\n",
      "\n",
      " 73%|███████▎  | 734/1000 [17:42<04:42,  1.06s/it]\u001b[A\u001b[A\n",
      "\n",
      " 74%|███████▎  | 735/1000 [17:44<06:06,  1.38s/it]\u001b[A\u001b[A\n",
      "\n",
      " 74%|███████▎  | 736/1000 [17:46<06:58,  1.59s/it]\u001b[A\u001b[A\n",
      "\n",
      " 74%|███████▎  | 737/1000 [17:49<08:04,  1.84s/it]\u001b[A\u001b[A\n",
      "\n",
      " 74%|███████▍  | 738/1000 [17:52<09:39,  2.21s/it]\u001b[A\u001b[A\n",
      "\n",
      " 74%|███████▍  | 739/1000 [17:55<10:55,  2.51s/it]\u001b[A\u001b[A\n",
      "\n",
      " 74%|███████▍  | 740/1000 [17:57<10:28,  2.42s/it]\u001b[A\u001b[A\n",
      "\n",
      " 74%|███████▍  | 743/1000 [18:00<08:12,  1.92s/it]\u001b[A\u001b[A\n",
      "\n",
      " 74%|███████▍  | 744/1000 [18:02<08:50,  2.07s/it]\u001b[A\u001b[A\n",
      "\n",
      " 74%|███████▍  | 745/1000 [18:04<09:16,  2.18s/it]\u001b[A\u001b[A\n",
      "\n",
      " 75%|███████▍  | 746/1000 [18:07<09:58,  2.36s/it]\u001b[A\u001b[A\n",
      "\n",
      " 75%|███████▍  | 748/1000 [18:10<08:30,  2.02s/it]\u001b[A\u001b[A\n",
      "\n",
      " 75%|███████▍  | 749/1000 [18:13<09:30,  2.27s/it]\u001b[A\u001b[A\n",
      "\n",
      " 75%|███████▌  | 750/1000 [18:15<09:11,  2.20s/it]\u001b[A\u001b[A\n",
      "\n",
      " 75%|███████▌  | 751/1000 [18:17<08:55,  2.15s/it]\u001b[A\u001b[A\n",
      "\n",
      " 75%|███████▌  | 753/1000 [18:19<07:26,  1.81s/it]\u001b[A\u001b[A\n",
      "\n",
      " 75%|███████▌  | 754/1000 [18:21<07:41,  1.88s/it]\u001b[A\u001b[A\n",
      "\n",
      " 76%|███████▌  | 755/1000 [18:23<07:55,  1.94s/it]\u001b[A\u001b[A\n",
      "\n",
      " 76%|███████▌  | 756/1000 [18:25<08:35,  2.11s/it]\u001b[A\u001b[A\n",
      "\n",
      " 76%|███████▌  | 757/1000 [18:28<09:17,  2.30s/it]\u001b[A\u001b[A\n",
      "\n",
      " 76%|███████▌  | 758/1000 [18:30<09:05,  2.25s/it]\u001b[A\u001b[A\n",
      "\n",
      " 76%|███████▌  | 759/1000 [18:33<09:13,  2.30s/it]\u001b[A\u001b[A\n",
      "\n",
      " 76%|███████▌  | 760/1000 [18:35<09:09,  2.29s/it]\u001b[A\u001b[A\n",
      "\n",
      " 76%|███████▌  | 761/1000 [18:37<09:28,  2.38s/it]\u001b[A\u001b[A\n",
      "\n",
      " 76%|███████▌  | 762/1000 [18:40<09:37,  2.43s/it]\u001b[A\u001b[A\n",
      "\n",
      " 76%|███████▋  | 764/1000 [18:42<08:00,  2.04s/it]\u001b[A\u001b[A\n",
      "\n",
      " 77%|███████▋  | 766/1000 [18:45<06:56,  1.78s/it]\u001b[A\u001b[A\n",
      "\n",
      " 77%|███████▋  | 767/1000 [18:47<07:32,  1.94s/it]\u001b[A\u001b[A\n",
      "\n",
      " 77%|███████▋  | 769/1000 [18:49<06:32,  1.70s/it]\u001b[A\u001b[A\n",
      "\n",
      " 77%|███████▋  | 770/1000 [18:52<08:12,  2.14s/it]\u001b[A\u001b[A\n",
      "\n",
      " 77%|███████▋  | 771/1000 [18:54<08:06,  2.12s/it]\u001b[A\u001b[A\n",
      "\n",
      " 77%|███████▋  | 772/1000 [18:57<08:25,  2.22s/it]\u001b[A\u001b[A\n",
      "\n",
      " 77%|███████▋  | 773/1000 [18:59<08:15,  2.18s/it]\u001b[A\u001b[A\n",
      "\n",
      " 77%|███████▋  | 774/1000 [19:02<08:39,  2.30s/it]\u001b[A\u001b[A\n",
      "\n",
      " 78%|███████▊  | 775/1000 [19:04<08:42,  2.32s/it]\u001b[A\u001b[A\n",
      "\n",
      " 78%|███████▊  | 776/1000 [19:06<08:25,  2.26s/it]\u001b[A\u001b[A\n",
      "\n",
      " 78%|███████▊  | 779/1000 [19:08<06:42,  1.82s/it]\u001b[A\u001b[A\n",
      "\n",
      " 78%|███████▊  | 780/1000 [19:11<07:03,  1.93s/it]\u001b[A\u001b[A\n",
      "\n",
      " 78%|███████▊  | 781/1000 [19:13<07:17,  2.00s/it]\u001b[A\u001b[A\n",
      "\n",
      " 78%|███████▊  | 782/1000 [19:15<07:37,  2.10s/it]\u001b[A\u001b[A\n",
      "\n",
      " 78%|███████▊  | 783/1000 [19:18<08:02,  2.23s/it]\u001b[A\u001b[A\n",
      "\n",
      " 78%|███████▊  | 784/1000 [19:20<07:48,  2.17s/it]\u001b[A\u001b[A\n",
      "\n",
      " 78%|███████▊  | 785/1000 [19:22<08:02,  2.24s/it]\u001b[A\u001b[A\n",
      "\n",
      " 79%|███████▊  | 787/1000 [19:24<06:43,  1.89s/it]\u001b[A\u001b[A\n",
      "\n",
      " 79%|███████▉  | 789/1000 [19:27<06:17,  1.79s/it]\u001b[A\u001b[A\n",
      "\n",
      " 79%|███████▉  | 790/1000 [19:30<07:23,  2.11s/it]\u001b[A\u001b[A\n",
      "\n",
      " 79%|███████▉  | 791/1000 [19:33<07:43,  2.22s/it]\u001b[A\u001b[A\n",
      "\n",
      " 79%|███████▉  | 792/1000 [19:35<07:33,  2.18s/it]\u001b[A\u001b[A\n",
      "\n",
      " 79%|███████▉  | 793/1000 [19:37<07:23,  2.14s/it]\u001b[A\u001b[A\n",
      "\n",
      " 79%|███████▉  | 794/1000 [19:39<07:18,  2.13s/it]\u001b[A\u001b[A\n",
      "\n",
      " 80%|███████▉  | 795/1000 [19:41<07:36,  2.23s/it]\u001b[A\u001b[A\n",
      "\n",
      " 80%|███████▉  | 796/1000 [19:44<07:40,  2.26s/it]\u001b[A\u001b[A\n",
      "\n",
      " 80%|███████▉  | 797/1000 [19:46<07:20,  2.17s/it]\u001b[A\u001b[A\n",
      "\n",
      " 80%|███████▉  | 798/1000 [19:48<07:14,  2.15s/it]\u001b[A\u001b[A\n",
      "\n",
      " 80%|███████▉  | 799/1000 [19:50<07:08,  2.13s/it]\u001b[A\u001b[A\n",
      "\n",
      " 80%|████████  | 800/1000 [19:52<06:59,  2.10s/it]\u001b[A\u001b[A\n",
      "\n",
      " 80%|████████  | 801/1000 [19:54<07:21,  2.22s/it]\u001b[A\u001b[A\n",
      "\n",
      " 80%|████████  | 802/1000 [19:57<07:24,  2.25s/it]\u001b[A\u001b[A\n",
      "\n",
      " 80%|████████  | 803/1000 [19:59<07:16,  2.21s/it]\u001b[A\u001b[A\n",
      "\n",
      " 80%|████████  | 804/1000 [20:02<07:47,  2.38s/it]\u001b[A\u001b[A\n",
      "\n",
      " 81%|████████  | 806/1000 [20:04<06:42,  2.07s/it]\u001b[A\u001b[A\n",
      "\n",
      " 81%|████████  | 807/1000 [20:07<06:58,  2.17s/it]\u001b[A\u001b[A\n",
      "\n",
      " 81%|████████  | 808/1000 [20:09<06:59,  2.18s/it]\u001b[A\u001b[A\n",
      "\n",
      " 81%|████████  | 811/1000 [20:11<05:30,  1.75s/it]\u001b[A\u001b[A\n",
      "\n",
      " 81%|████████  | 812/1000 [20:13<05:59,  1.91s/it]\u001b[A\u001b[A\n",
      "\n",
      " 81%|████████▏ | 813/1000 [20:16<06:16,  2.01s/it]\u001b[A\u001b[A\n",
      "\n",
      " 81%|████████▏ | 814/1000 [20:18<06:22,  2.06s/it]\u001b[A\u001b[A\n",
      "\n",
      " 82%|████████▏ | 815/1000 [20:20<06:23,  2.07s/it]\u001b[A\u001b[A\n",
      "\n",
      " 82%|████████▏ | 816/1000 [20:22<06:23,  2.09s/it]\u001b[A\u001b[A\n",
      "\n",
      " 82%|████████▏ | 823/1000 [20:25<04:41,  1.59s/it]\u001b[A\u001b[A\n",
      "\n",
      " 82%|████████▏ | 824/1000 [20:27<05:08,  1.75s/it]\u001b[A\u001b[A\n",
      "\n",
      " 82%|████████▎ | 825/1000 [20:29<05:34,  1.91s/it]\u001b[A\u001b[A\n",
      "\n",
      " 83%|████████▎ | 826/1000 [20:33<06:39,  2.30s/it]\u001b[A\u001b[A\n",
      "\n",
      " 83%|████████▎ | 828/1000 [20:35<05:31,  1.93s/it]\u001b[A\u001b[A\n",
      "\n",
      " 83%|████████▎ | 830/1000 [20:38<05:02,  1.78s/it]\u001b[A\u001b[A\n",
      "\n",
      " 83%|████████▎ | 831/1000 [20:40<05:36,  1.99s/it]\u001b[A\u001b[A\n",
      "\n",
      " 83%|████████▎ | 832/1000 [20:43<06:02,  2.16s/it]\u001b[A\u001b[A\n",
      "\n",
      " 83%|████████▎ | 833/1000 [20:45<06:28,  2.33s/it]\u001b[A\u001b[A\n",
      "\n",
      " 83%|████████▎ | 834/1000 [20:48<06:39,  2.41s/it]\u001b[A\u001b[A\n",
      "\n",
      " 84%|████████▎ | 835/1000 [20:50<06:37,  2.41s/it]\u001b[A\u001b[A\n",
      "\n",
      " 84%|████████▎ | 836/1000 [20:53<06:26,  2.35s/it]\u001b[A\u001b[A\n",
      "\n",
      " 84%|████████▍ | 839/1000 [20:55<04:58,  1.85s/it]\u001b[A\u001b[A\n",
      "\n",
      " 84%|████████▍ | 841/1000 [20:57<04:23,  1.66s/it]\u001b[A\u001b[A\n",
      "\n",
      " 85%|████████▍ | 848/1000 [21:00<03:12,  1.26s/it]\u001b[A\u001b[A\n",
      "\n",
      " 85%|████████▌ | 850/1000 [21:02<03:08,  1.26s/it]\u001b[A\u001b[A\n",
      "\n",
      " 85%|████████▌ | 851/1000 [21:04<03:47,  1.53s/it]\u001b[A\u001b[A\n",
      "\n",
      " 85%|████████▌ | 853/1000 [21:07<03:29,  1.42s/it]\u001b[A\u001b[A\n",
      "\n",
      " 85%|████████▌ | 854/1000 [21:09<04:09,  1.71s/it]\u001b[A\u001b[A\n",
      "\n",
      " 86%|████████▌ | 855/1000 [21:11<04:32,  1.88s/it]\u001b[A\u001b[A\n",
      "\n",
      " 86%|████████▌ | 856/1000 [21:13<04:36,  1.92s/it]\u001b[A\u001b[A\n",
      "\n",
      " 86%|████████▌ | 858/1000 [21:15<03:55,  1.66s/it]\u001b[A\u001b[A\n",
      "\n",
      " 86%|████████▌ | 859/1000 [21:18<04:22,  1.86s/it]\u001b[A\u001b[A\n",
      "\n",
      " 86%|████████▌ | 860/1000 [21:20<04:31,  1.94s/it]\u001b[A\u001b[A\n",
      "\n",
      " 86%|████████▌ | 861/1000 [21:22<04:38,  2.01s/it]\u001b[A\u001b[A\n",
      "\n",
      " 86%|████████▌ | 862/1000 [21:26<05:53,  2.56s/it]\u001b[A\u001b[A\n",
      "\n",
      " 86%|████████▋ | 863/1000 [21:28<05:38,  2.47s/it]\u001b[A\u001b[A\n",
      "\n",
      " 86%|████████▋ | 864/1000 [21:31<05:49,  2.57s/it]\u001b[A\u001b[A\n",
      "\n",
      " 86%|████████▋ | 865/1000 [21:33<05:42,  2.54s/it]\u001b[A\u001b[A\n",
      "\n",
      " 87%|████████▋ | 866/1000 [21:36<05:29,  2.46s/it]\u001b[A\u001b[A\n",
      "\n",
      " 87%|████████▋ | 867/1000 [21:38<05:35,  2.52s/it]\u001b[A\u001b[A\n",
      "\n",
      " 87%|████████▋ | 872/1000 [21:40<04:02,  1.89s/it]\u001b[A\u001b[A\n",
      "\n",
      " 87%|████████▋ | 873/1000 [21:42<04:09,  1.96s/it]\u001b[A\u001b[A\n",
      "\n",
      " 88%|████████▊ | 875/1000 [21:45<03:31,  1.69s/it]\u001b[A\u001b[A\n",
      "\n",
      " 88%|████████▊ | 876/1000 [21:47<03:46,  1.83s/it]\u001b[A\u001b[A\n",
      "\n",
      " 88%|████████▊ | 877/1000 [21:49<03:59,  1.95s/it]\u001b[A\u001b[A\n",
      "\n",
      " 88%|████████▊ | 879/1000 [21:51<03:24,  1.69s/it]\u001b[A\u001b[A\n",
      "\n",
      " 88%|████████▊ | 880/1000 [21:53<03:41,  1.84s/it]\u001b[A\u001b[A\n",
      "\n",
      " 88%|████████▊ | 881/1000 [21:56<03:54,  1.97s/it]\u001b[A\u001b[A\n",
      "\n",
      " 88%|████████▊ | 883/1000 [21:58<03:18,  1.69s/it]\u001b[A\u001b[A\n",
      "\n",
      " 88%|████████▊ | 884/1000 [22:01<03:57,  2.05s/it]\u001b[A\u001b[A\n",
      "\n",
      " 88%|████████▊ | 885/1000 [22:03<04:16,  2.23s/it]\u001b[A\u001b[A\n",
      "\n",
      " 89%|████████▊ | 887/1000 [22:05<03:30,  1.86s/it]\u001b[A\u001b[A\n",
      "\n",
      " 89%|████████▉ | 888/1000 [22:07<03:38,  1.95s/it]\u001b[A\u001b[A\n",
      "\n",
      " 89%|████████▉ | 889/1000 [22:09<03:36,  1.95s/it]\u001b[A\u001b[A\n",
      "\n",
      " 89%|████████▉ | 891/1000 [22:12<03:16,  1.80s/it]\u001b[A\u001b[A\n",
      "\n",
      " 89%|████████▉ | 892/1000 [22:15<03:34,  1.98s/it]\u001b[A\u001b[A\n",
      "\n",
      " 89%|████████▉ | 893/1000 [22:17<03:36,  2.03s/it]\u001b[A\u001b[A\n",
      "\n",
      " 89%|████████▉ | 894/1000 [22:20<04:02,  2.28s/it]\u001b[A\u001b[A\n",
      "\n",
      " 90%|████████▉ | 895/1000 [22:22<03:58,  2.27s/it]\u001b[A\u001b[A\n",
      "\n",
      " 90%|████████▉ | 896/1000 [22:24<04:00,  2.31s/it]\u001b[A\u001b[A\n",
      "\n",
      " 90%|████████▉ | 897/1000 [22:27<04:01,  2.35s/it]\u001b[A\u001b[A\n",
      "\n",
      " 90%|████████▉ | 898/1000 [22:32<05:39,  3.33s/it]\u001b[A\u001b[A\n",
      "\n",
      " 90%|████████▉ | 899/1000 [22:35<05:03,  3.01s/it]\u001b[A\u001b[A\n",
      "\n",
      " 90%|█████████ | 900/1000 [22:37<04:37,  2.77s/it]\u001b[A\u001b[A\n",
      "\n"
     ]
    },
    {
     "name": "stderr",
     "output_type": "stream",
     "text": [
      " 90%|█████████ | 901/1000 [22:39<04:15,  2.58s/it]\u001b[A\u001b[A\n",
      "\n",
      " 90%|█████████ | 903/1000 [22:41<03:30,  2.17s/it]\u001b[A\u001b[A\n",
      "\n",
      " 90%|█████████ | 904/1000 [22:44<03:35,  2.25s/it]\u001b[A\u001b[A\n",
      "\n",
      " 90%|█████████ | 905/1000 [22:47<03:50,  2.43s/it]\u001b[A\u001b[A\n",
      "\n",
      " 91%|█████████ | 906/1000 [22:49<03:35,  2.29s/it]\u001b[A\u001b[A\n",
      "\n",
      " 91%|█████████ | 907/1000 [22:51<03:41,  2.38s/it]\u001b[A\u001b[A\n",
      "\n",
      " 91%|█████████ | 909/1000 [22:53<03:02,  2.00s/it]\u001b[A\u001b[A\n",
      "\n",
      " 91%|█████████ | 910/1000 [22:56<03:12,  2.14s/it]\u001b[A\u001b[A\n",
      "\n",
      " 91%|█████████ | 911/1000 [22:58<03:09,  2.12s/it]\u001b[A\u001b[A\n",
      "\n",
      " 91%|█████████ | 912/1000 [23:01<03:19,  2.26s/it]\u001b[A\u001b[A\n",
      "\n",
      " 91%|█████████▏| 913/1000 [23:03<03:10,  2.19s/it]\u001b[A\u001b[A\n",
      "\n",
      " 91%|█████████▏| 914/1000 [23:05<03:04,  2.14s/it]\u001b[A\u001b[A\n",
      "\n",
      " 92%|█████████▏| 915/1000 [23:07<03:00,  2.12s/it]\u001b[A\u001b[A\n",
      "\n",
      " 92%|█████████▏| 916/1000 [23:10<03:14,  2.31s/it]\u001b[A\u001b[A\n",
      "\n",
      " 92%|█████████▏| 917/1000 [23:12<03:10,  2.30s/it]\u001b[A\u001b[A\n",
      "\n",
      " 92%|█████████▏| 920/1000 [23:14<02:27,  1.84s/it]\u001b[A\u001b[A\n",
      "\n",
      " 92%|█████████▏| 921/1000 [23:17<02:51,  2.17s/it]\u001b[A\u001b[A\n",
      "\n",
      " 92%|█████████▏| 923/1000 [23:19<02:22,  1.85s/it]\u001b[A\u001b[A\n",
      "\n",
      " 92%|█████████▎| 925/1000 [23:21<02:02,  1.63s/it]\u001b[A\u001b[A\n",
      "\n",
      " 93%|█████████▎| 926/1000 [23:24<02:17,  1.86s/it]\u001b[A\u001b[A\n",
      "\n",
      " 93%|█████████▎| 927/1000 [23:26<02:20,  1.92s/it]\u001b[A\u001b[A\n",
      "\n",
      " 93%|█████████▎| 928/1000 [23:29<02:47,  2.33s/it]\u001b[A\u001b[A\n",
      "\n",
      " 93%|█████████▎| 929/1000 [23:31<02:42,  2.29s/it]\u001b[A\u001b[A\n",
      "\n",
      " 93%|█████████▎| 930/1000 [23:34<02:37,  2.25s/it]\u001b[A\u001b[A\n",
      "\n",
      " 93%|█████████▎| 931/1000 [23:36<02:33,  2.23s/it]\u001b[A\u001b[A\n",
      "\n",
      " 93%|█████████▎| 932/1000 [23:38<02:33,  2.26s/it]\u001b[A\u001b[A\n",
      "\n",
      " 93%|█████████▎| 934/1000 [23:40<02:08,  1.94s/it]\u001b[A\u001b[A\n",
      "\n",
      " 94%|█████████▎| 935/1000 [23:42<02:08,  1.97s/it]\u001b[A\u001b[A\n",
      "\n",
      " 94%|█████████▎| 937/1000 [23:45<01:51,  1.77s/it]\u001b[A\u001b[A\n",
      "\n",
      " 94%|█████████▍| 938/1000 [23:48<02:06,  2.04s/it]\u001b[A\u001b[A\n",
      "\n",
      " 94%|█████████▍| 939/1000 [23:50<02:07,  2.09s/it]\u001b[A\u001b[A\n",
      "\n",
      " 94%|█████████▍| 940/1000 [23:52<02:03,  2.05s/it]\u001b[A\u001b[A\n",
      "\n",
      " 94%|█████████▍| 941/1000 [23:54<02:08,  2.18s/it]\u001b[A\u001b[A\n",
      "\n",
      " 94%|█████████▍| 942/1000 [23:57<02:13,  2.30s/it]\u001b[A\u001b[A\n",
      "\n",
      " 94%|█████████▍| 943/1000 [24:00<02:20,  2.46s/it]\u001b[A\u001b[A\n",
      "\n",
      " 94%|█████████▍| 944/1000 [24:02<02:12,  2.37s/it]\u001b[A\u001b[A\n",
      "\n",
      " 94%|█████████▍| 945/1000 [24:05<02:12,  2.42s/it]\u001b[A\u001b[A\n",
      "\n",
      " 95%|█████████▍| 946/1000 [24:07<02:05,  2.33s/it]\u001b[A\u001b[A\n",
      "\n",
      " 95%|█████████▍| 947/1000 [24:09<01:59,  2.26s/it]\u001b[A\u001b[A\n",
      "\n",
      " 95%|█████████▍| 948/1000 [24:11<01:58,  2.28s/it]\u001b[A\u001b[A\n",
      "\n",
      " 95%|█████████▌| 951/1000 [24:13<01:28,  1.80s/it]\u001b[A\u001b[A\n",
      "\n",
      " 95%|█████████▌| 952/1000 [24:16<01:44,  2.18s/it]\u001b[A\u001b[A\n",
      "\n",
      " 96%|█████████▌| 956/1000 [24:18<01:13,  1.67s/it]\u001b[A\u001b[A\n",
      "\n",
      " 96%|█████████▌| 957/1000 [24:21<01:23,  1.95s/it]\u001b[A\u001b[A\n",
      "\n",
      " 96%|█████████▌| 958/1000 [24:23<01:26,  2.05s/it]\u001b[A\u001b[A\n",
      "\n",
      " 96%|█████████▌| 959/1000 [24:26<01:29,  2.18s/it]\u001b[A\u001b[A\n",
      "\n",
      " 96%|█████████▌| 960/1000 [24:28<01:36,  2.42s/it]\u001b[A\u001b[A\n",
      "\n",
      " 96%|█████████▌| 961/1000 [24:31<01:34,  2.43s/it]\u001b[A\u001b[A\n",
      "\n",
      " 96%|█████████▌| 962/1000 [24:33<01:30,  2.39s/it]\u001b[A\u001b[A\n",
      "\n",
      " 96%|█████████▋| 963/1000 [24:36<01:33,  2.51s/it]\u001b[A\u001b[A\n",
      "\n",
      " 97%|█████████▋| 966/1000 [24:38<01:07,  1.97s/it]\u001b[A\u001b[A\n",
      "\n",
      " 97%|█████████▋| 967/1000 [24:40<01:06,  2.02s/it]\u001b[A\u001b[A\n",
      "\n",
      " 97%|█████████▋| 968/1000 [24:43<01:07,  2.10s/it]\u001b[A\u001b[A\n",
      "\n",
      " 97%|█████████▋| 969/1000 [24:46<01:20,  2.59s/it]\u001b[A\u001b[A\n",
      "\n",
      " 97%|█████████▋| 970/1000 [24:49<01:14,  2.48s/it]\u001b[A\u001b[A\n",
      "\n",
      " 97%|█████████▋| 972/1000 [24:52<01:01,  2.21s/it]\u001b[A\u001b[A\n",
      "\n",
      " 97%|█████████▋| 973/1000 [24:54<01:01,  2.26s/it]\u001b[A\u001b[A\n",
      "\n",
      " 98%|█████████▊| 975/1000 [24:56<00:47,  1.90s/it]\u001b[A\u001b[A\n",
      "\n",
      " 98%|█████████▊| 976/1000 [24:58<00:47,  1.98s/it]\u001b[A\u001b[A\n",
      "\n",
      " 98%|█████████▊| 977/1000 [25:01<00:46,  2.04s/it]\u001b[A\u001b[A\n",
      "\n",
      " 98%|█████████▊| 979/1000 [25:03<00:38,  1.85s/it]\u001b[A\u001b[A\n",
      "\n",
      " 98%|█████████▊| 980/1000 [25:06<00:40,  2.03s/it]\u001b[A\u001b[A\n",
      "\n",
      " 98%|█████████▊| 981/1000 [25:09<00:44,  2.32s/it]\u001b[A\u001b[A\n",
      "\n",
      " 98%|█████████▊| 982/1000 [25:11<00:43,  2.39s/it]\u001b[A\u001b[A\n",
      "\n",
      " 98%|█████████▊| 983/1000 [25:14<00:42,  2.51s/it]\u001b[A\u001b[A\n",
      "\n",
      " 98%|█████████▊| 984/1000 [25:16<00:38,  2.40s/it]\u001b[A\u001b[A\n",
      "\n",
      " 98%|█████████▊| 985/1000 [25:19<00:36,  2.40s/it]\u001b[A\u001b[A\n",
      "\n",
      " 99%|█████████▊| 987/1000 [25:21<00:25,  2.00s/it]\u001b[A\u001b[A\n",
      "\n",
      " 99%|█████████▉| 990/1000 [25:23<00:16,  1.66s/it]\u001b[A\u001b[A\n",
      "\n",
      " 99%|█████████▉| 992/1000 [25:26<00:12,  1.53s/it]\u001b[A\u001b[A\n",
      "\n",
      " 99%|█████████▉| 993/1000 [25:28<00:12,  1.84s/it]\u001b[A\u001b[A\n",
      "\n",
      " 99%|█████████▉| 994/1000 [25:31<00:12,  2.02s/it]\u001b[A\u001b[A\n",
      "\n",
      "100%|█████████▉| 995/1000 [25:33<00:10,  2.06s/it]\u001b[A\u001b[A\n",
      "\n",
      "100%|█████████▉| 996/1000 [25:35<00:08,  2.06s/it]\u001b[A\u001b[A\n",
      "\n",
      "100%|█████████▉| 997/1000 [25:37<00:06,  2.10s/it]\u001b[A\u001b[A\n",
      "\n",
      "100%|█████████▉| 998/1000 [25:40<00:04,  2.24s/it]\u001b[A\u001b[A\n",
      "\n",
      "100%|██████████| 1000/1000 [25:43<00:00,  1.99s/it]"
     ]
    },
    {
     "name": "stdout",
     "output_type": "stream",
     "text": [
      "641\n",
      "(16681, 228476)\n"
     ]
    },
    {
     "name": "stderr",
     "output_type": "stream",
     "text": [
      "\u001b[A\u001b[A\n",
      "\n",
      "\u001b[A\u001b[A"
     ]
    }
   ],
   "source": [
    "#query?service=va&meta=get_ddi_alerts\n",
    "\n",
    "# Retrieve data from the Veteran Affairs Hospital (Stitch ids)\n",
    "# We map those drugs to their rxnorm\n",
    "\n",
    "data = nsides_api('va', 'get_ddi_alerts')\n",
    "#print len(data['results'])\n",
    "\n",
    "va_ddi_alerts = list()\n",
    "\n",
    "for r in tqdm(data['results']):\n",
    "    \n",
    "    #print r\n",
    "    \n",
    "    if (r['drug_1'] in unrecognized_id) or (r['drug_2'] in unrecognized_id):\n",
    "        continue\n",
    "    \n",
    "    stitch_data1 = stitch_api(r['drug_1'])\n",
    "    stitch_data2 = stitch_api(r['drug_2'])\n",
    "\n",
    "    drugs1 = name2rxnorm(stitch_data1[0]['preferredName'])\n",
    "    drugs2 = name2rxnorm(stitch_data2[0]['preferredName'])\n",
    "    \n",
    "    for drug1 in drugs1:\n",
    "        drug1 = (int(drug1))\n",
    "    for drug2 in drugs2:\n",
    "        drug2 = (int(drug2))\n",
    "        \n",
    "    va_ddi_alerts.append((drug1, drug2))\n",
    "\n",
    "print len(va_ddi_alerts)\n",
    "print va_ddi_alerts[0]"
   ]
  },
  {
   "cell_type": "code",
   "execution_count": 22,
   "metadata": {
    "collapsed": true
   },
   "outputs": [],
   "source": [
    "key_errors = list()\n",
    "key_errors.append(17941)\n",
    "key_errors.append(7930)\n",
    "key_errors.append(357280)\n",
    "key_errors.append(218863)\n",
    "key_errors.append(353062)"
   ]
  },
  {
   "cell_type": "code",
   "execution_count": 23,
   "metadata": {},
   "outputs": [
    {
     "name": "stdout",
     "output_type": "stream",
     "text": [
      "641\n",
      "574\n",
      "(1529331, 1789276)\n"
     ]
    }
   ],
   "source": [
    "# We map drugpairs from rxnorm to their OMOP id\n",
    "va_omop_ddi = list()\n",
    "\n",
    "for drugpair in va_ddi_alerts:\n",
    "    #print drugpair\n",
    "    if drugpair[0] in key_errors:\n",
    "        continue\n",
    "    if drugpair[1] in key_errors:\n",
    "        continue\n",
    "    va_omop_ddi.append((rxnorm2concept[drugpair[0]],rxnorm2concept[drugpair[1]]))\n",
    "\n",
    "print len(va_ddi_alerts)\n",
    "print len(va_omop_ddi)\n",
    "print va_omop_ddi[0]"
   ]
  },
  {
   "cell_type": "code",
   "execution_count": 21,
   "metadata": {},
   "outputs": [
    {
     "name": "stdout",
     "output_type": "stream",
     "text": [
      "1\n",
      "{u'results': [{u'concept_id': u'3000000'}]}\n"
     ]
    }
   ],
   "source": [
    "#LOINC to OMOP\n",
    "#/api/v1/query?service=omop&meta=get_omop_from_loinc&q=28377-0\n",
    "data = nsides_api('omop', 'get_omop_from_loinc', {'q':'28377-0'})\n",
    "print len(data)\n",
    "print data"
   ]
  },
  {
   "cell_type": "markdown",
   "metadata": {},
   "source": [
    "## Build the training table for single drugs"
   ]
  },
  {
   "cell_type": "code",
   "execution_count": 24,
   "metadata": {
    "collapsed": true
   },
   "outputs": [],
   "source": [
    "def make_lsd_training_table(pos_drugs = None, neg_drugs = None):\n",
    "\n",
    "    # we map positive and negative drugs from their concept_code to their concept_id\n",
    "    pos_drugs_mapped = list()\n",
    "    for pos_drug in pos_drugs:\n",
    "        pos_drugs_mapped.append(drug_mapping[pos_drug])\n",
    "        \n",
    "    neg_drugs_mapped = list()\n",
    "    for neg_drug in neg_drugs:\n",
    "        neg_drugs_mapped.append(drug_mapping[neg_drug])\n",
    "        \n",
    "    outcomes = np.concatenate((np.ones(len(pos_drugs),np.bool), np.zeros(len(neg_drugs),np.bool)))\n",
    "    \n",
    "    training_drugs = pos_drugs_mapped + neg_drugs_mapped\n",
    "    \n",
    "    # build the adverse events frequency table\n",
    "    ae_frequencies_training = np.zeros((len(pos_drugs)+len(neg_drugs),len(all_pairoutcomes)))\n",
    "    \n",
    "    for r in aeolus_drugReactionCounts['results']:\n",
    "        if not r['drug_concept_id'] in training_drugs:\n",
    "            continue\n",
    "        if not r['outcome_concept_id'] in all_pairoutcomes:\n",
    "            continue\n",
    "        \n",
    "        \n",
    "        i = training_drugs.index(r['drug_concept_id'])\n",
    "        j = all_pairoutcomes.index(r['outcome_concept_id'])\n",
    "        \n",
    "        frequency = float(r['nreports'])/float(r['ndrugreports'])\n",
    "        \n",
    "        ae_frequencies_training[i,j] = frequency\n",
    "                    \n",
    "    return ae_frequencies_training, outcomes"
   ]
  },
  {
   "cell_type": "code",
   "execution_count": 55,
   "metadata": {},
   "outputs": [
    {
     "name": "stdout",
     "output_type": "stream",
     "text": [
      "28\n",
      "500\n"
     ]
    }
   ],
   "source": [
    "# we only keep drugs that can be mapped\n",
    "pos_controls = [p for p in positives if p in drug_mapping]\n",
    "neg_controls = [n for n in negatives if n in drug_mapping]\n",
    "\n",
    "print len(pos_controls)\n",
    "print len(neg_controls)"
   ]
  },
  {
   "cell_type": "code",
   "execution_count": 56,
   "metadata": {},
   "outputs": [
    {
     "name": "stdout",
     "output_type": "stream",
     "text": [
      "(528, 199)\n",
      "(528,)\n",
      "28\n"
     ]
    }
   ],
   "source": [
    "X,y = make_lsd_training_table(pos_controls, neg_controls)\n",
    "\n",
    "print X.shape\n",
    "print y.shape\n",
    "\n",
    "print y.sum()"
   ]
  },
  {
   "cell_type": "markdown",
   "metadata": {},
   "source": [
    "### Same process for drugpairs"
   ]
  },
  {
   "cell_type": "code",
   "execution_count": 32,
   "metadata": {},
   "outputs": [
    {
     "name": "stderr",
     "output_type": "stream",
     "text": [
      "\n",
      "\n",
      "\n",
      "  0%|          | 0/793 [00:00<?, ?it/s]\u001b[A\u001b[A\u001b[A\n",
      "\n",
      "\n",
      "  0%|          | 1/793 [00:03<42:08,  3.19s/it]\u001b[A\u001b[A\u001b[A\n",
      "\n",
      "\u001b[A\u001b[A\n",
      "\n",
      "\n",
      "  0%|          | 2/793 [00:06<41:05,  3.12s/it]\u001b[A\u001b[A\u001b[A\n",
      "\n",
      "\n",
      "  0%|          | 3/793 [00:09<40:09,  3.05s/it]\u001b[A\u001b[A\u001b[A\n",
      "\n",
      "\n",
      "  1%|          | 4/793 [00:11<39:39,  3.02s/it]\u001b[A\u001b[A\u001b[A\n",
      "\n",
      "\n",
      "  1%|          | 5/793 [00:14<39:26,  3.00s/it]\u001b[A\u001b[A\u001b[A\n",
      "\n",
      "\n",
      "  1%|          | 6/793 [00:18<40:51,  3.12s/it]\u001b[A\u001b[A\u001b[A\n",
      "\n",
      "\n",
      "  1%|          | 7/793 [00:21<42:00,  3.21s/it]\u001b[A\u001b[A\u001b[A\n",
      "\n",
      "\n",
      "  1%|          | 8/793 [00:24<40:14,  3.08s/it]\u001b[A\u001b[A\u001b[A\n",
      "\n",
      "\n",
      "  1%|          | 9/793 [00:27<38:37,  2.96s/it]\u001b[A\u001b[A\u001b[A\n",
      "\n",
      "\n",
      "  1%|▏         | 10/793 [00:29<36:38,  2.81s/it]\u001b[A\u001b[A\u001b[A\n",
      "\n",
      "\n",
      "  1%|▏         | 11/793 [00:33<38:49,  2.98s/it]\u001b[A\u001b[A\u001b[A\n",
      "\n",
      "\n",
      "  2%|▏         | 12/793 [00:36<40:45,  3.13s/it]\u001b[A\u001b[A\u001b[A\n",
      "\n",
      "\n",
      "  2%|▏         | 13/793 [00:39<40:41,  3.13s/it]\u001b[A\u001b[A\u001b[A\n",
      "\n",
      "\n",
      "  2%|▏         | 14/793 [00:41<35:39,  2.75s/it]\u001b[A\u001b[A\u001b[A\n",
      "\n",
      "\n",
      "  2%|▏         | 15/793 [00:44<36:05,  2.78s/it]\u001b[A\u001b[A\u001b[A\n",
      "\n",
      "\n",
      "  2%|▏         | 16/793 [00:47<36:37,  2.83s/it]\u001b[A\u001b[A\u001b[A\n",
      "\n",
      "\n",
      "  2%|▏         | 17/793 [00:50<37:58,  2.94s/it]\u001b[A\u001b[A\u001b[A\n",
      "\n",
      "\n",
      "  2%|▏         | 18/793 [00:53<38:50,  3.01s/it]\u001b[A\u001b[A\u001b[A\n",
      "\n",
      "\n",
      "  2%|▏         | 19/793 [00:56<39:37,  3.07s/it]\u001b[A\u001b[A\u001b[A\n",
      "\n",
      "\n",
      "  3%|▎         | 20/793 [00:59<37:44,  2.93s/it]\u001b[A\u001b[A\u001b[A\n",
      "\n",
      "\n",
      "  3%|▎         | 21/793 [01:02<36:09,  2.81s/it]\u001b[A\u001b[A\u001b[A\n",
      "\n",
      "\n",
      "  3%|▎         | 22/793 [01:04<34:16,  2.67s/it]\u001b[A\u001b[A\u001b[A\n",
      "\n",
      "\n",
      "  3%|▎         | 23/793 [01:06<33:09,  2.58s/it]\u001b[A\u001b[A\u001b[A\n",
      "\n",
      "\n",
      "  3%|▎         | 24/793 [01:10<37:45,  2.95s/it]\u001b[A\u001b[A\u001b[A\n",
      "\n",
      "\n",
      "  3%|▎         | 25/793 [01:12<34:47,  2.72s/it]\u001b[A\u001b[A\u001b[A\n",
      "\n",
      "\n",
      "  3%|▎         | 26/793 [01:14<31:55,  2.50s/it]\u001b[A\u001b[A\u001b[A\n",
      "\n",
      "\n",
      "  3%|▎         | 27/793 [01:17<31:35,  2.47s/it]\u001b[A\u001b[A\u001b[A\n",
      "\n",
      "\n",
      "  4%|▎         | 28/793 [01:19<29:56,  2.35s/it]\u001b[A\u001b[A\u001b[A\n",
      "\n",
      "\n",
      "  4%|▎         | 29/793 [01:21<31:34,  2.48s/it]\u001b[A\u001b[A\u001b[A\n",
      "\n",
      "\n",
      "  4%|▍         | 30/793 [01:23<28:56,  2.28s/it]\u001b[A\u001b[A\u001b[A\n",
      "\n",
      "\n",
      "  4%|▍         | 31/793 [01:26<30:49,  2.43s/it]\u001b[A\u001b[A\u001b[A\n",
      "\n",
      "\n",
      "  4%|▍         | 32/793 [01:29<31:42,  2.50s/it]\u001b[A\u001b[A\u001b[A\n",
      "\n",
      "\n",
      "  4%|▍         | 33/793 [01:33<37:57,  3.00s/it]\u001b[A\u001b[A\u001b[A\n",
      "\n",
      "\n",
      "  4%|▍         | 34/793 [01:36<36:44,  2.90s/it]\u001b[A\u001b[A\u001b[A\n",
      "\n",
      "\n",
      "  4%|▍         | 35/793 [01:38<33:22,  2.64s/it]\u001b[A\u001b[A\u001b[A\n",
      "\n",
      "\n",
      "  5%|▍         | 36/793 [01:40<33:28,  2.65s/it]\u001b[A\u001b[A\u001b[A\n",
      "\n",
      "\n",
      "  5%|▍         | 37/793 [01:43<32:35,  2.59s/it]\u001b[A\u001b[A\u001b[A\n",
      "\n",
      "\n",
      "  5%|▍         | 38/793 [01:45<30:44,  2.44s/it]\u001b[A\u001b[A\u001b[A\n",
      "\n",
      "\n",
      "  5%|▍         | 39/793 [01:47<31:16,  2.49s/it]\u001b[A\u001b[A\u001b[A\n",
      "\n",
      "\n",
      "  5%|▌         | 40/793 [01:51<35:05,  2.80s/it]\u001b[A\u001b[A\u001b[A\n",
      "\n",
      "\n",
      "  5%|▌         | 41/793 [01:54<37:14,  2.97s/it]\u001b[A\u001b[A\u001b[A\n",
      "\n",
      "\n",
      "  5%|▌         | 42/793 [01:58<40:56,  3.27s/it]\u001b[A\u001b[A\u001b[A\n",
      "\n",
      "\n",
      "  5%|▌         | 43/793 [02:03<46:29,  3.72s/it]\u001b[A\u001b[A\u001b[A\n",
      "\n",
      "\n",
      "  6%|▌         | 44/793 [02:08<50:45,  4.07s/it]\u001b[A\u001b[A\u001b[A\n",
      "\n",
      "\n",
      "  6%|▌         | 45/793 [02:12<50:13,  4.03s/it]\u001b[A\u001b[A\u001b[A\n",
      "\n",
      "\n",
      "  6%|▌         | 46/793 [02:16<49:49,  4.00s/it]\u001b[A\u001b[A\u001b[A\n",
      "\n",
      "\n",
      "  6%|▌         | 47/793 [02:21<52:28,  4.22s/it]\u001b[A\u001b[A\u001b[A\n",
      "\n",
      "\n",
      "  6%|▌         | 48/793 [02:23<45:52,  3.69s/it]\u001b[A\u001b[A\u001b[A\n",
      "\n",
      "\n",
      "  6%|▌         | 49/793 [02:26<42:44,  3.45s/it]\u001b[A\u001b[A\u001b[A\n",
      "\n",
      "\n",
      "  6%|▋         | 50/793 [02:30<44:24,  3.59s/it]\u001b[A\u001b[A\u001b[A\n",
      "\n",
      "\n",
      "  6%|▋         | 51/793 [02:34<46:09,  3.73s/it]\u001b[A\u001b[A\u001b[A\n",
      "\n",
      "\n",
      "  7%|▋         | 52/793 [02:37<44:33,  3.61s/it]\u001b[A\u001b[A\u001b[A\n",
      "\n",
      "\n",
      "  7%|▋         | 53/793 [02:40<41:06,  3.33s/it]\u001b[A\u001b[A\u001b[A\n",
      "\n",
      "\n",
      "  7%|▋         | 54/793 [02:42<37:23,  3.04s/it]\u001b[A\u001b[A\u001b[A\n",
      "\n",
      "\n",
      "  7%|▋         | 55/793 [02:45<36:57,  3.00s/it]\u001b[A\u001b[A\u001b[A\n",
      "\n",
      "\n",
      "  7%|▋         | 56/793 [02:47<33:41,  2.74s/it]\u001b[A\u001b[A\u001b[A\n",
      "\n",
      "\n",
      "  7%|▋         | 57/793 [02:51<35:37,  2.90s/it]\u001b[A\u001b[A\u001b[A\n",
      "\n",
      "\n",
      "  7%|▋         | 58/793 [02:54<37:27,  3.06s/it]\u001b[A\u001b[A\u001b[A\n",
      "\n",
      "\n",
      "  7%|▋         | 59/793 [02:58<40:50,  3.34s/it]\u001b[A\u001b[A\u001b[A\n",
      "\n",
      "\n",
      "  8%|▊         | 60/793 [03:02<43:45,  3.58s/it]\u001b[A\u001b[A\u001b[A\n",
      "\n",
      "\n",
      "  8%|▊         | 61/793 [03:05<42:50,  3.51s/it]\u001b[A\u001b[A\u001b[A\n",
      "\n",
      "\n",
      "  8%|▊         | 62/793 [03:08<39:48,  3.27s/it]\u001b[A\u001b[A\u001b[A\n",
      "\n",
      "\n",
      "  8%|▊         | 63/793 [03:11<38:10,  3.14s/it]\u001b[A\u001b[A\u001b[A\n",
      "\n",
      "\n",
      "  8%|▊         | 64/793 [03:14<36:44,  3.02s/it]\u001b[A\u001b[A\u001b[A\n",
      "\n",
      "\n",
      "  8%|▊         | 65/793 [03:17<36:36,  3.02s/it]\u001b[A\u001b[A\u001b[A\n",
      "\n",
      "\n",
      "  8%|▊         | 66/793 [03:20<37:46,  3.12s/it]\u001b[A\u001b[A\u001b[A\n",
      "\n",
      "\n",
      "  8%|▊         | 67/793 [03:23<37:40,  3.11s/it]\u001b[A\u001b[A\u001b[A\n",
      "\n",
      "\n",
      "  9%|▊         | 68/793 [03:26<37:05,  3.07s/it]\u001b[A\u001b[A\u001b[A\n",
      "\n",
      "\n",
      "  9%|▊         | 69/793 [03:30<38:31,  3.19s/it]\u001b[A\u001b[A\u001b[A\n",
      "\n",
      "\n",
      "  9%|▉         | 70/793 [03:33<39:15,  3.26s/it]\u001b[A\u001b[A\u001b[A\n",
      "\n",
      "\n",
      "  9%|▉         | 71/793 [03:35<35:52,  2.98s/it]\u001b[A\u001b[A\u001b[A\n",
      "\n",
      "\n",
      "  9%|▉         | 72/793 [03:39<37:17,  3.10s/it]\u001b[A\u001b[A\u001b[A\n",
      "\n",
      "\n",
      "  9%|▉         | 73/793 [03:41<35:54,  2.99s/it]\u001b[A\u001b[A\u001b[A\n",
      "\n",
      "\n",
      "  9%|▉         | 74/793 [03:44<33:23,  2.79s/it]\u001b[A\u001b[A\u001b[A\n",
      "\n",
      "\n",
      "  9%|▉         | 75/793 [03:47<33:29,  2.80s/it]\u001b[A\u001b[A\u001b[A\n",
      "\n",
      "\n",
      " 10%|▉         | 76/793 [03:49<31:20,  2.62s/it]\u001b[A\u001b[A\u001b[A\n",
      "\n",
      "\n",
      " 10%|▉         | 77/793 [03:51<30:06,  2.52s/it]\u001b[A\u001b[A\u001b[A\n",
      "\n",
      "\n",
      " 10%|▉         | 78/793 [03:53<28:41,  2.41s/it]\u001b[A\u001b[A\u001b[A\n",
      "\n",
      "\n",
      " 10%|▉         | 79/793 [03:56<29:06,  2.45s/it]\u001b[A\u001b[A\u001b[A\n",
      "\n",
      "\n",
      " 10%|█         | 80/793 [03:58<27:38,  2.33s/it]\u001b[A\u001b[A\u001b[A\n",
      "\n",
      "\n",
      " 10%|█         | 81/793 [04:00<27:33,  2.32s/it]\u001b[A\u001b[A\u001b[A\n",
      "\n",
      "\n",
      " 10%|█         | 82/793 [04:02<27:17,  2.30s/it]\u001b[A\u001b[A\u001b[A\n",
      "\n",
      "\n",
      " 10%|█         | 83/793 [04:05<26:59,  2.28s/it]\u001b[A\u001b[A\u001b[A\n",
      "\n",
      "\n",
      " 11%|█         | 84/793 [04:07<28:23,  2.40s/it]\u001b[A\u001b[A\u001b[A\n",
      "\n",
      "\n",
      " 11%|█         | 85/793 [04:10<28:44,  2.44s/it]\u001b[A\u001b[A\u001b[A\n",
      "\n",
      "\n",
      " 11%|█         | 86/793 [04:13<31:27,  2.67s/it]\u001b[A\u001b[A\u001b[A\n",
      "\n",
      "\n",
      " 11%|█         | 87/793 [04:15<30:13,  2.57s/it]\u001b[A\u001b[A\u001b[A\n",
      "\n",
      "\n",
      " 11%|█         | 88/793 [04:18<31:58,  2.72s/it]\u001b[A\u001b[A\u001b[A\n",
      "\n",
      "\n",
      " 11%|█         | 89/793 [04:21<31:21,  2.67s/it]\u001b[A\u001b[A\u001b[A\n",
      "\n",
      "\n",
      " 11%|█▏        | 90/793 [04:24<31:14,  2.67s/it]\u001b[A\u001b[A\u001b[A\n",
      "\n",
      "\n",
      " 11%|█▏        | 91/793 [04:27<35:12,  3.01s/it]\u001b[A\u001b[A\u001b[A\n",
      "\n",
      "\n",
      " 12%|█▏        | 92/793 [04:30<34:46,  2.98s/it]\u001b[A\u001b[A\u001b[A\n",
      "\n",
      "\n",
      " 12%|█▏        | 93/793 [04:33<31:53,  2.73s/it]\u001b[A\u001b[A\u001b[A\n",
      "\n",
      "\n",
      " 12%|█▏        | 94/793 [04:35<30:37,  2.63s/it]\u001b[A\u001b[A\u001b[A\n",
      "\n",
      "\n",
      " 12%|█▏        | 95/793 [04:37<29:56,  2.57s/it]\u001b[A\u001b[A\u001b[A\n",
      "\n",
      "\n",
      " 12%|█▏        | 96/793 [04:40<29:13,  2.52s/it]\u001b[A\u001b[A\u001b[A\n",
      "\n",
      "\n",
      " 12%|█▏        | 97/793 [04:42<28:57,  2.50s/it]\u001b[A\u001b[A\u001b[A\n",
      "\n",
      "\n",
      " 12%|█▏        | 98/793 [04:45<28:18,  2.44s/it]\u001b[A\u001b[A\u001b[A\n",
      "\n",
      "\n",
      " 12%|█▏        | 99/793 [04:47<27:08,  2.35s/it]\u001b[A\u001b[A\u001b[A\n",
      "\n",
      "\n",
      " 13%|█▎        | 100/793 [04:49<27:41,  2.40s/it]\u001b[A\u001b[A\u001b[A\n",
      "\n",
      "\n",
      " 13%|█▎        | 101/793 [04:52<29:38,  2.57s/it]\u001b[A\u001b[A\u001b[A\n",
      "\n",
      "\n",
      " 13%|█▎        | 102/793 [04:56<32:45,  2.84s/it]\u001b[A\u001b[A\u001b[A\n",
      "\n",
      "\n",
      " 13%|█▎        | 103/793 [04:58<30:48,  2.68s/it]\u001b[A\u001b[A\u001b[A\n",
      "\n",
      "\n",
      " 13%|█▎        | 104/793 [05:00<30:07,  2.62s/it]\u001b[A\u001b[A\u001b[A\n",
      "\n",
      "\n",
      " 13%|█▎        | 105/793 [05:03<28:29,  2.48s/it]\u001b[A\u001b[A\u001b[A\n",
      "\n",
      "\n",
      " 13%|█▎        | 106/793 [05:05<27:00,  2.36s/it]\u001b[A\u001b[A\u001b[A\n",
      "\n",
      "\n",
      " 13%|█▎        | 107/793 [05:08<29:47,  2.61s/it]\u001b[A\u001b[A\u001b[A\n",
      "\n",
      "\n",
      " 14%|█▎        | 108/793 [05:10<29:25,  2.58s/it]\u001b[A\u001b[A\u001b[A\n",
      "\n",
      "\n",
      " 14%|█▎        | 109/793 [05:14<31:46,  2.79s/it]\u001b[A\u001b[A\u001b[A\n",
      "\n",
      "\n",
      " 14%|█▍        | 110/793 [05:17<32:28,  2.85s/it]\u001b[A\u001b[A\u001b[A\n",
      "\n",
      "\n",
      " 14%|█▍        | 111/793 [05:20<34:14,  3.01s/it]\u001b[A\u001b[A\u001b[A\n",
      "\n",
      "\n",
      " 14%|█▍        | 112/793 [05:23<32:49,  2.89s/it]\u001b[A\u001b[A\u001b[A\n",
      "\n",
      "\n",
      " 14%|█▍        | 113/793 [05:25<32:36,  2.88s/it]\u001b[A\u001b[A\u001b[A\n",
      "\n",
      "\n",
      " 14%|█▍        | 114/793 [05:28<32:13,  2.85s/it]\u001b[A\u001b[A\u001b[A\n",
      "\n",
      "\n",
      " 15%|█▍        | 115/793 [05:31<32:09,  2.85s/it]\u001b[A\u001b[A\u001b[A\n",
      "\n",
      "\n",
      " 15%|█▍        | 116/793 [05:35<34:13,  3.03s/it]\u001b[A\u001b[A\u001b[A\n",
      "\n",
      "\n",
      " 15%|█▍        | 117/793 [05:38<35:38,  3.16s/it]\u001b[A\u001b[A\u001b[A\n",
      "\n",
      "\n",
      " 15%|█▍        | 118/793 [05:42<39:32,  3.51s/it]\u001b[A\u001b[A\u001b[A\n",
      "\n",
      "\n",
      " 15%|█▌        | 119/793 [05:48<45:29,  4.05s/it]\u001b[A\u001b[A\u001b[A\n",
      "\n",
      "\n",
      " 15%|█▌        | 120/793 [05:51<42:54,  3.83s/it]\u001b[A\u001b[A\u001b[A\n",
      "\n",
      "\n",
      " 15%|█▌        | 121/793 [05:53<38:19,  3.42s/it]\u001b[A\u001b[A\u001b[A\n",
      "\n",
      "\n",
      " 15%|█▌        | 122/793 [05:56<35:56,  3.21s/it]\u001b[A\u001b[A\u001b[A\n",
      "\n",
      "\n",
      " 16%|█▌        | 123/793 [05:59<35:27,  3.18s/it]\u001b[A\u001b[A\u001b[A\n",
      "\n",
      "\n",
      " 16%|█▌        | 124/793 [06:02<34:34,  3.10s/it]\u001b[A\u001b[A\u001b[A\n",
      "\n",
      "\n",
      " 16%|█▌        | 125/793 [06:04<31:49,  2.86s/it]\u001b[A\u001b[A\u001b[A\n",
      "\n",
      "\n",
      " 16%|█▌        | 126/793 [06:07<31:21,  2.82s/it]\u001b[A\u001b[A\u001b[A\n",
      "\n",
      "\n",
      " 16%|█▌        | 127/793 [06:10<30:53,  2.78s/it]\u001b[A\u001b[A\u001b[A\n",
      "\n",
      "\n",
      " 16%|█▌        | 128/793 [06:12<30:02,  2.71s/it]\u001b[A\u001b[A\u001b[A\n",
      "\n",
      "\n",
      " 16%|█▋        | 129/793 [06:15<29:28,  2.66s/it]\u001b[A\u001b[A\u001b[A\n",
      "\n",
      "\n",
      " 16%|█▋        | 130/793 [06:18<30:06,  2.72s/it]\u001b[A\u001b[A\u001b[A\n",
      "\n",
      "\n",
      " 17%|█▋        | 131/793 [06:19<25:59,  2.36s/it]\u001b[A\u001b[A\u001b[A\n",
      "\n",
      "\n",
      " 17%|█▋        | 132/793 [06:20<20:08,  1.83s/it]\u001b[A\u001b[A\u001b[A\n",
      "\n",
      "\n",
      " 17%|█▋        | 133/793 [06:21<16:16,  1.48s/it]\u001b[A\u001b[A\u001b[A\n",
      "\n",
      "\n",
      " 17%|█▋        | 134/793 [06:21<13:11,  1.20s/it]\u001b[A\u001b[A\u001b[A\n",
      "\n",
      "\n",
      " 17%|█▋        | 135/793 [06:22<11:06,  1.01s/it]\u001b[A\u001b[A\u001b[A\n",
      "\n",
      "\n"
     ]
    },
    {
     "name": "stderr",
     "output_type": "stream",
     "text": [
      " 17%|█▋        | 136/793 [06:22<09:33,  1.15it/s]\u001b[A\u001b[A\u001b[A\n",
      "\n",
      "\n",
      " 17%|█▋        | 137/793 [06:23<08:23,  1.30it/s]\u001b[A\u001b[A\u001b[A\n",
      "\n",
      "\n",
      " 17%|█▋        | 138/793 [06:23<07:36,  1.43it/s]\u001b[A\u001b[A\u001b[A\n",
      "\n",
      "\n",
      " 18%|█▊        | 139/793 [06:24<07:03,  1.55it/s]\u001b[A\u001b[A\u001b[A\n",
      "\n",
      "\n",
      " 18%|█▊        | 140/793 [06:24<06:36,  1.65it/s]\u001b[A\u001b[A\u001b[A\n",
      "\n",
      "\n",
      " 18%|█▊        | 141/793 [06:25<06:18,  1.72it/s]\u001b[A\u001b[A\u001b[A\n",
      "\n",
      "\n",
      " 18%|█▊        | 142/793 [06:25<06:13,  1.74it/s]\u001b[A\u001b[A\u001b[A\n",
      "\n",
      "\n",
      " 18%|█▊        | 143/793 [06:26<06:36,  1.64it/s]\u001b[A\u001b[A\u001b[A\n",
      "\n",
      "\n",
      " 18%|█▊        | 144/793 [06:27<06:20,  1.70it/s]\u001b[A\u001b[A\u001b[A\n",
      "\n",
      "\n",
      " 18%|█▊        | 145/793 [06:27<06:15,  1.72it/s]\u001b[A\u001b[A\u001b[A\n",
      "\n",
      "\n",
      " 18%|█▊        | 146/793 [06:28<06:12,  1.74it/s]\u001b[A\u001b[A\u001b[A\n",
      "\n",
      "\n",
      " 19%|█▊        | 147/793 [06:28<06:11,  1.74it/s]\u001b[A\u001b[A\u001b[A\n",
      "\n",
      "\n",
      " 19%|█▊        | 148/793 [06:29<05:57,  1.80it/s]\u001b[A\u001b[A\u001b[A\n",
      "\n",
      "\n",
      " 19%|█▉        | 149/793 [06:29<05:46,  1.86it/s]\u001b[A\u001b[A\u001b[A\n",
      "\n",
      "\n",
      " 19%|█▉        | 150/793 [06:30<05:40,  1.89it/s]\u001b[A\u001b[A\u001b[A\n",
      "\n",
      "\n",
      " 19%|█▉        | 151/793 [06:30<05:37,  1.90it/s]\u001b[A\u001b[A\u001b[A\n",
      "\n",
      "\n",
      " 19%|█▉        | 152/793 [06:31<05:31,  1.93it/s]\u001b[A\u001b[A\u001b[A\n",
      "\n",
      "\n",
      " 19%|█▉        | 153/793 [06:31<05:29,  1.94it/s]\u001b[A\u001b[A\u001b[A\n",
      "\n",
      "\n",
      " 19%|█▉        | 154/793 [06:32<05:37,  1.89it/s]\u001b[A\u001b[A\u001b[A\n",
      "\n",
      "\n",
      " 20%|█▉        | 155/793 [06:33<05:40,  1.87it/s]\u001b[A\u001b[A\u001b[A\n",
      "\n",
      "\n",
      " 20%|█▉        | 156/793 [06:33<05:37,  1.89it/s]\u001b[A\u001b[A\u001b[A\n",
      "\n",
      "\n",
      " 20%|█▉        | 157/793 [06:34<05:38,  1.88it/s]\u001b[A\u001b[A\u001b[A\n",
      "\n",
      "\n",
      " 20%|█▉        | 158/793 [06:34<05:38,  1.88it/s]\u001b[A\u001b[A\u001b[A\n",
      "\n",
      "\n",
      " 20%|██        | 159/793 [06:35<05:43,  1.84it/s]\u001b[A\u001b[A\u001b[A\n",
      "\n",
      "\n",
      " 20%|██        | 160/793 [06:35<05:40,  1.86it/s]\u001b[A\u001b[A\u001b[A\n",
      "\n",
      "\n",
      " 20%|██        | 161/793 [06:36<05:32,  1.90it/s]\u001b[A\u001b[A\u001b[A\n",
      "\n",
      "\n",
      " 20%|██        | 162/793 [06:36<05:27,  1.93it/s]\u001b[A\u001b[A\u001b[A\n",
      "\n",
      "\n",
      " 21%|██        | 163/793 [06:37<05:38,  1.86it/s]\u001b[A\u001b[A\u001b[A\n",
      "\n",
      "\n",
      " 21%|██        | 164/793 [06:37<05:40,  1.85it/s]\u001b[A\u001b[A\u001b[A\n",
      "\n",
      "\n",
      " 21%|██        | 165/793 [06:38<05:31,  1.89it/s]\u001b[A\u001b[A\u001b[A\n",
      "\n",
      "\n",
      " 21%|██        | 166/793 [06:38<05:32,  1.89it/s]\u001b[A\u001b[A\u001b[A\n",
      "\n",
      "\n",
      " 21%|██        | 167/793 [06:39<05:27,  1.91it/s]\u001b[A\u001b[A\u001b[A\n",
      "\n",
      "\n",
      " 21%|██        | 168/793 [06:39<05:23,  1.93it/s]\u001b[A\u001b[A\u001b[A\n",
      "\n",
      "\n",
      " 21%|██▏       | 169/793 [06:40<05:25,  1.92it/s]\u001b[A\u001b[A\u001b[A\n",
      "\n",
      "\n",
      " 21%|██▏       | 170/793 [06:40<05:26,  1.91it/s]\u001b[A\u001b[A\u001b[A\n",
      "\n",
      "\n",
      " 22%|██▏       | 171/793 [06:41<05:39,  1.83it/s]\u001b[A\u001b[A\u001b[A\n",
      "\n",
      "\n",
      " 22%|██▏       | 172/793 [06:42<05:35,  1.85it/s]\u001b[A\u001b[A\u001b[A\n",
      "\n",
      "\n",
      " 22%|██▏       | 173/793 [06:42<05:31,  1.87it/s]\u001b[A\u001b[A\u001b[A\n",
      "\n",
      "\n",
      " 22%|██▏       | 174/793 [06:43<05:27,  1.89it/s]\u001b[A\u001b[A\u001b[A\n",
      "\n",
      "\n",
      " 22%|██▏       | 175/793 [06:43<05:23,  1.91it/s]\u001b[A\u001b[A\u001b[A\n",
      "\n",
      "\n",
      " 22%|██▏       | 176/793 [06:44<05:19,  1.93it/s]\u001b[A\u001b[A\u001b[A\n",
      "\n",
      "\n",
      " 22%|██▏       | 177/793 [06:44<05:19,  1.93it/s]\u001b[A\u001b[A\u001b[A\n",
      "\n",
      "\n",
      " 22%|██▏       | 178/793 [06:45<05:38,  1.82it/s]\u001b[A\u001b[A\u001b[A\n",
      "\n",
      "\n",
      " 23%|██▎       | 179/793 [06:45<05:29,  1.87it/s]\u001b[A\u001b[A\u001b[A\n",
      "\n",
      "\n",
      " 23%|██▎       | 180/793 [06:46<05:24,  1.89it/s]\u001b[A\u001b[A\u001b[A\n",
      "\n",
      "\n",
      " 23%|██▎       | 181/793 [06:46<05:23,  1.89it/s]\u001b[A\u001b[A\u001b[A\n",
      "\n",
      "\n",
      " 23%|██▎       | 182/793 [06:47<05:28,  1.86it/s]\u001b[A\u001b[A\u001b[A\n",
      "\n",
      "\n",
      " 23%|██▎       | 183/793 [06:47<05:42,  1.78it/s]\u001b[A\u001b[A\u001b[A\n",
      "\n",
      "\n",
      " 23%|██▎       | 184/793 [06:48<05:33,  1.83it/s]\u001b[A\u001b[A\u001b[A\n",
      "\n",
      "\n",
      " 23%|██▎       | 185/793 [06:49<05:47,  1.75it/s]\u001b[A\u001b[A\u001b[A\n",
      "\n",
      "\n",
      " 23%|██▎       | 186/793 [06:49<06:16,  1.61it/s]\u001b[A\u001b[A\u001b[A\n",
      "\n",
      "\n",
      " 24%|██▎       | 187/793 [06:50<06:04,  1.66it/s]\u001b[A\u001b[A\u001b[A\n",
      "\n",
      "\n",
      " 24%|██▎       | 188/793 [06:51<06:02,  1.67it/s]\u001b[A\u001b[A\u001b[A\n",
      "\n",
      "\n",
      " 24%|██▍       | 189/793 [06:51<06:06,  1.65it/s]\u001b[A\u001b[A\u001b[A\n",
      "\n",
      "\n",
      " 24%|██▍       | 190/793 [06:52<05:55,  1.70it/s]\u001b[A\u001b[A\u001b[A\n",
      "\n",
      "\n",
      " 24%|██▍       | 191/793 [06:52<05:43,  1.75it/s]\u001b[A\u001b[A\u001b[A\n",
      "\n",
      "\n",
      " 24%|██▍       | 192/793 [06:53<06:23,  1.57it/s]\u001b[A\u001b[A\u001b[A\n",
      "\n",
      "\n",
      " 24%|██▍       | 193/793 [06:54<06:00,  1.66it/s]\u001b[A\u001b[A\u001b[A\n",
      "\n",
      "\n",
      " 24%|██▍       | 194/793 [06:54<05:55,  1.68it/s]\u001b[A\u001b[A\u001b[A\n",
      "\n",
      "\n",
      " 25%|██▍       | 195/793 [06:55<05:50,  1.70it/s]\u001b[A\u001b[A\u001b[A\n",
      "\n",
      "\n",
      " 25%|██▍       | 196/793 [06:55<05:37,  1.77it/s]\u001b[A\u001b[A\u001b[A\n",
      "\n",
      "\n",
      " 25%|██▍       | 197/793 [06:56<05:30,  1.80it/s]\u001b[A\u001b[A\u001b[A\n",
      "\n",
      "\n",
      " 25%|██▍       | 198/793 [06:56<05:34,  1.78it/s]\u001b[A\u001b[A\u001b[A\n",
      "\n",
      "\n",
      " 25%|██▌       | 199/793 [06:57<05:31,  1.79it/s]\u001b[A\u001b[A\u001b[A\n",
      "\n",
      "\n",
      " 25%|██▌       | 200/793 [06:57<05:25,  1.82it/s]\u001b[A\u001b[A\u001b[A\n",
      "\n",
      "\n",
      " 25%|██▌       | 201/793 [06:58<05:26,  1.81it/s]\u001b[A\u001b[A\u001b[A\n",
      "\n",
      "\n",
      " 25%|██▌       | 202/793 [06:58<05:24,  1.82it/s]\u001b[A\u001b[A\u001b[A\n",
      "\n",
      "\n",
      " 26%|██▌       | 203/793 [06:59<05:22,  1.83it/s]\u001b[A\u001b[A\u001b[A\n",
      "\n",
      "\n",
      " 26%|██▌       | 204/793 [07:00<05:24,  1.82it/s]\u001b[A\u001b[A\u001b[A\n",
      "\n",
      "\n",
      " 26%|██▌       | 205/793 [07:00<05:35,  1.75it/s]\u001b[A\u001b[A\u001b[A\n",
      "\n",
      "\n",
      " 26%|██▌       | 206/793 [07:01<05:46,  1.69it/s]\u001b[A\u001b[A\u001b[A\n",
      "\n",
      "\n",
      " 26%|██▌       | 207/793 [07:01<05:33,  1.76it/s]\u001b[A\u001b[A\u001b[A\n",
      "\n",
      "\n",
      " 26%|██▌       | 208/793 [07:02<05:35,  1.74it/s]\u001b[A\u001b[A\u001b[A\n",
      "\n",
      "\n",
      " 26%|██▋       | 209/793 [07:03<08:26,  1.15it/s]\u001b[A\u001b[A\u001b[A\n",
      "\n",
      "\n",
      " 26%|██▋       | 210/793 [07:04<07:24,  1.31it/s]\u001b[A\u001b[A\u001b[A\n",
      "\n",
      "\n",
      " 27%|██▋       | 211/793 [07:05<06:41,  1.45it/s]\u001b[A\u001b[A\u001b[A\n",
      "\n",
      "\n",
      " 27%|██▋       | 212/793 [07:05<06:18,  1.54it/s]\u001b[A\u001b[A\u001b[A\n",
      "\n",
      "\n",
      " 27%|██▋       | 213/793 [07:06<05:59,  1.62it/s]\u001b[A\u001b[A\u001b[A\n",
      "\n",
      "\n",
      " 27%|██▋       | 214/793 [07:06<05:39,  1.71it/s]\u001b[A\u001b[A\u001b[A\n",
      "\n",
      "\n",
      " 27%|██▋       | 215/793 [07:07<05:24,  1.78it/s]\u001b[A\u001b[A\u001b[A\n",
      "\n",
      "\n",
      " 27%|██▋       | 216/793 [07:07<05:17,  1.82it/s]\u001b[A\u001b[A\u001b[A\n",
      "\n",
      "\n",
      " 27%|██▋       | 217/793 [07:08<05:11,  1.85it/s]\u001b[A\u001b[A\u001b[A\n",
      "\n",
      "\n",
      " 27%|██▋       | 218/793 [07:08<05:09,  1.86it/s]\u001b[A\u001b[A\u001b[A\n",
      "\n",
      "\n",
      " 28%|██▊       | 219/793 [07:09<05:15,  1.82it/s]\u001b[A\u001b[A\u001b[A\n",
      "\n",
      "\n",
      " 28%|██▊       | 220/793 [07:09<05:14,  1.82it/s]\u001b[A\u001b[A\u001b[A\n",
      "\n",
      "\n",
      " 28%|██▊       | 221/793 [07:10<05:25,  1.76it/s]\u001b[A\u001b[A\u001b[A\n",
      "\n",
      "\n",
      " 28%|██▊       | 222/793 [07:11<05:25,  1.75it/s]\u001b[A\u001b[A\u001b[A\n",
      "\n",
      "\n",
      " 28%|██▊       | 223/793 [07:11<05:16,  1.80it/s]\u001b[A\u001b[A\u001b[A\n",
      "\n",
      "\n",
      " 28%|██▊       | 224/793 [07:12<05:12,  1.82it/s]\u001b[A\u001b[A\u001b[A\n",
      "\n",
      "\n",
      " 28%|██▊       | 225/793 [07:12<05:08,  1.84it/s]\u001b[A\u001b[A\u001b[A\n",
      "\n",
      "\n",
      " 28%|██▊       | 226/793 [07:13<05:10,  1.83it/s]\u001b[A\u001b[A\u001b[A\n",
      "\n",
      "\n",
      " 29%|██▊       | 227/793 [07:13<05:04,  1.86it/s]\u001b[A\u001b[A\u001b[A\n",
      "\n",
      "\n",
      " 29%|██▉       | 228/793 [07:14<05:01,  1.87it/s]\u001b[A\u001b[A\u001b[A\n",
      "\n",
      "\n",
      " 29%|██▉       | 229/793 [07:14<04:58,  1.89it/s]\u001b[A\u001b[A\u001b[A\n",
      "\n",
      "\n",
      " 29%|██▉       | 230/793 [07:15<04:53,  1.92it/s]\u001b[A\u001b[A\u001b[A\n",
      "\n",
      "\n",
      " 29%|██▉       | 231/793 [07:15<04:49,  1.94it/s]\u001b[A\u001b[A\u001b[A\n",
      "\n",
      "\n",
      " 29%|██▉       | 232/793 [07:16<04:47,  1.95it/s]\u001b[A\u001b[A\u001b[A\n",
      "\n",
      "\n",
      " 29%|██▉       | 233/793 [07:16<04:48,  1.94it/s]\u001b[A\u001b[A\u001b[A\n",
      "\n",
      "\n",
      " 30%|██▉       | 234/793 [07:17<05:03,  1.84it/s]\u001b[A\u001b[A\u001b[A\n",
      "\n",
      "\n",
      " 30%|██▉       | 235/793 [07:17<04:59,  1.86it/s]\u001b[A\u001b[A\u001b[A\n",
      "\n",
      "\n",
      " 30%|██▉       | 236/793 [07:18<05:00,  1.85it/s]\u001b[A\u001b[A\u001b[A\n",
      "\n",
      "\n",
      " 30%|██▉       | 237/793 [07:19<05:03,  1.83it/s]\u001b[A\u001b[A\u001b[A\n",
      "\n",
      "\n",
      " 30%|███       | 238/793 [07:19<05:00,  1.84it/s]\u001b[A\u001b[A\u001b[A\n",
      "\n",
      "\n",
      " 30%|███       | 239/793 [07:20<04:55,  1.87it/s]\u001b[A\u001b[A\u001b[A\n",
      "\n",
      "\n",
      " 30%|███       | 240/793 [07:20<04:53,  1.89it/s]\u001b[A\u001b[A\u001b[A\n",
      "\n",
      "\n",
      " 30%|███       | 241/793 [07:21<04:50,  1.90it/s]\u001b[A\u001b[A\u001b[A\n",
      "\n",
      "\n",
      " 31%|███       | 242/793 [07:21<04:46,  1.92it/s]\u001b[A\u001b[A\u001b[A\n",
      "\n",
      "\n",
      " 31%|███       | 243/793 [07:22<04:55,  1.86it/s]\u001b[A\u001b[A\u001b[A\n",
      "\n",
      "\n",
      " 31%|███       | 244/793 [07:22<04:48,  1.91it/s]\u001b[A\u001b[A\u001b[A\n",
      "\n",
      "\n",
      " 31%|███       | 245/793 [07:23<04:51,  1.88it/s]\u001b[A\u001b[A\u001b[A\n",
      "\n",
      "\n",
      " 31%|███       | 246/793 [07:23<04:51,  1.88it/s]\u001b[A\u001b[A\u001b[A\n",
      "\n",
      "\n",
      " 31%|███       | 247/793 [07:24<04:46,  1.90it/s]\u001b[A\u001b[A\u001b[A\n",
      "\n",
      "\n",
      " 31%|███▏      | 248/793 [07:24<04:44,  1.92it/s]\u001b[A\u001b[A\u001b[A\n",
      "\n",
      "\n",
      " 31%|███▏      | 249/793 [07:25<04:44,  1.91it/s]\u001b[A\u001b[A\u001b[A\n",
      "\n",
      "\n",
      " 32%|███▏      | 250/793 [07:25<04:43,  1.92it/s]\u001b[A\u001b[A\u001b[A\n",
      "\n",
      "\n",
      " 32%|███▏      | 251/793 [07:26<04:43,  1.91it/s]\u001b[A\u001b[A\u001b[A\n",
      "\n",
      "\n",
      " 32%|███▏      | 252/793 [07:26<04:50,  1.86it/s]\u001b[A\u001b[A\u001b[A\n",
      "\n",
      "\n",
      " 32%|███▏      | 253/793 [07:27<04:46,  1.89it/s]\u001b[A\u001b[A\u001b[A\n",
      "\n",
      "\n",
      " 32%|███▏      | 254/793 [07:27<04:41,  1.91it/s]\u001b[A\u001b[A\u001b[A\n",
      "\n",
      "\n",
      " 32%|███▏      | 255/793 [07:28<04:42,  1.90it/s]\u001b[A\u001b[A\u001b[A\n",
      "\n",
      "\n",
      " 32%|███▏      | 256/793 [07:29<04:44,  1.89it/s]\u001b[A\u001b[A\u001b[A\n",
      "\n",
      "\n",
      " 32%|███▏      | 257/793 [07:29<04:46,  1.87it/s]\u001b[A\u001b[A\u001b[A\n",
      "\n",
      "\n",
      " 33%|███▎      | 258/793 [07:30<04:48,  1.85it/s]\u001b[A\u001b[A\u001b[A\n",
      "\n",
      "\n",
      " 33%|███▎      | 259/793 [07:30<04:45,  1.87it/s]\u001b[A\u001b[A\u001b[A\n",
      "\n",
      "\n",
      " 33%|███▎      | 260/793 [07:31<04:40,  1.90it/s]\u001b[A\u001b[A\u001b[A\n",
      "\n",
      "\n",
      " 33%|███▎      | 261/793 [07:31<04:42,  1.88it/s]\u001b[A\u001b[A\u001b[A\n",
      "\n",
      "\n",
      " 33%|███▎      | 262/793 [07:32<04:50,  1.83it/s]\u001b[A\u001b[A\u001b[A\n",
      "\n",
      "\n",
      " 33%|███▎      | 263/793 [07:32<05:03,  1.75it/s]\u001b[A\u001b[A\u001b[A\n",
      "\n",
      "\n",
      " 33%|███▎      | 264/793 [07:33<05:03,  1.74it/s]\u001b[A\u001b[A\u001b[A\n",
      "\n",
      "\n",
      " 33%|███▎      | 265/793 [07:34<05:00,  1.76it/s]\u001b[A\u001b[A\u001b[A\n",
      "\n",
      "\n",
      " 34%|███▎      | 266/793 [07:34<04:56,  1.78it/s]\u001b[A\u001b[A\u001b[A\n",
      "\n",
      "\n",
      " 34%|███▎      | 267/793 [07:35<04:58,  1.77it/s]\u001b[A\u001b[A\u001b[A\n",
      "\n",
      "\n",
      " 34%|███▍      | 268/793 [07:35<04:49,  1.81it/s]\u001b[A\u001b[A\u001b[A\n",
      "\n",
      "\n",
      " 34%|███▍      | 269/793 [07:36<04:50,  1.80it/s]\u001b[A\u001b[A\u001b[A\n",
      "\n",
      "\n"
     ]
    },
    {
     "name": "stderr",
     "output_type": "stream",
     "text": [
      " 34%|███▍      | 270/793 [07:36<04:42,  1.85it/s]\u001b[A\u001b[A\u001b[A\n",
      "\n",
      "\n",
      " 34%|███▍      | 271/793 [07:37<04:37,  1.88it/s]\u001b[A\u001b[A\u001b[A\n",
      "\n",
      "\n",
      " 34%|███▍      | 272/793 [07:37<04:34,  1.90it/s]\u001b[A\u001b[A\u001b[A\n",
      "\n",
      "\n",
      " 34%|███▍      | 273/793 [07:38<04:33,  1.90it/s]\u001b[A\u001b[A\u001b[A\n",
      "\n",
      "\n",
      " 35%|███▍      | 274/793 [07:38<04:31,  1.91it/s]\u001b[A\u001b[A\u001b[A\n",
      "\n",
      "\n",
      " 35%|███▍      | 275/793 [07:39<04:40,  1.85it/s]\u001b[A\u001b[A\u001b[A\n",
      "\n",
      "\n",
      " 35%|███▍      | 276/793 [07:39<04:39,  1.85it/s]\u001b[A\u001b[A\u001b[A\n",
      "\n",
      "\n",
      " 35%|███▍      | 277/793 [07:40<05:12,  1.65it/s]\u001b[A\u001b[A\u001b[A\n",
      "\n",
      "\n",
      " 35%|███▌      | 278/793 [07:41<05:09,  1.67it/s]\u001b[A\u001b[A\u001b[A\n",
      "\n",
      "\n",
      " 35%|███▌      | 279/793 [07:41<05:10,  1.65it/s]\u001b[A\u001b[A\u001b[A\n",
      "\n",
      "\n",
      " 35%|███▌      | 280/793 [07:42<04:55,  1.74it/s]\u001b[A\u001b[A\u001b[A\n",
      "\n",
      "\n",
      " 35%|███▌      | 281/793 [07:42<04:44,  1.80it/s]\u001b[A\u001b[A\u001b[A\n",
      "\n",
      "\n",
      " 36%|███▌      | 282/793 [07:43<04:36,  1.85it/s]\u001b[A\u001b[A\u001b[A\n",
      "\n",
      "\n",
      " 36%|███▌      | 283/793 [07:44<05:28,  1.55it/s]\u001b[A\u001b[A\u001b[A\n",
      "\n",
      "\n",
      " 36%|███▌      | 284/793 [07:44<05:12,  1.63it/s]\u001b[A\u001b[A\u001b[A\n",
      "\n",
      "\n",
      " 36%|███▌      | 285/793 [07:45<04:59,  1.70it/s]\u001b[A\u001b[A\u001b[A\n",
      "\n",
      "\n",
      " 36%|███▌      | 286/793 [07:45<04:50,  1.74it/s]\u001b[A\u001b[A\u001b[A\n",
      "\n",
      "\n",
      " 36%|███▌      | 287/793 [07:46<04:44,  1.78it/s]\u001b[A\u001b[A\u001b[A\n",
      "\n",
      "\n",
      " 36%|███▋      | 288/793 [07:46<04:41,  1.80it/s]\u001b[A\u001b[A\u001b[A\n",
      "\n",
      "\n",
      " 36%|███▋      | 289/793 [07:47<04:32,  1.85it/s]\u001b[A\u001b[A\u001b[A\n",
      "\n",
      "\n",
      " 37%|███▋      | 290/793 [07:48<04:40,  1.79it/s]\u001b[A\u001b[A\u001b[A\n",
      "\n",
      "\n",
      " 37%|███▋      | 291/793 [07:48<04:51,  1.72it/s]\u001b[A\u001b[A\u001b[A\n",
      "\n",
      "\n",
      " 37%|███▋      | 292/793 [07:49<04:38,  1.80it/s]\u001b[A\u001b[A\u001b[A\n",
      "\n",
      "\n",
      " 37%|███▋      | 293/793 [07:49<04:31,  1.84it/s]\u001b[A\u001b[A\u001b[A\n",
      "\n",
      "\n",
      " 37%|███▋      | 294/793 [07:50<04:25,  1.88it/s]\u001b[A\u001b[A\u001b[A\n",
      "\n",
      "\n",
      " 37%|███▋      | 295/793 [07:50<04:21,  1.91it/s]\u001b[A\u001b[A\u001b[A\n",
      "\n",
      "\n",
      " 37%|███▋      | 296/793 [07:51<04:21,  1.90it/s]\u001b[A\u001b[A\u001b[A\n",
      "\n",
      "\n",
      " 37%|███▋      | 297/793 [07:51<04:35,  1.80it/s]\u001b[A\u001b[A\u001b[A\n",
      "\n",
      "\n",
      " 38%|███▊      | 298/793 [07:52<04:44,  1.74it/s]\u001b[A\u001b[A\u001b[A\n",
      "\n",
      "\n",
      " 38%|███▊      | 299/793 [07:53<04:42,  1.75it/s]\u001b[A\u001b[A\u001b[A\n",
      "\n",
      "\n",
      " 38%|███▊      | 300/793 [07:53<04:39,  1.77it/s]\u001b[A\u001b[A\u001b[A\n",
      "\n",
      "\n",
      " 38%|███▊      | 301/793 [07:54<04:33,  1.80it/s]\u001b[A\u001b[A\u001b[A\n",
      "\n",
      "\n",
      " 38%|███▊      | 302/793 [07:54<04:24,  1.85it/s]\u001b[A\u001b[A\u001b[A\n",
      "\n",
      "\n",
      " 38%|███▊      | 303/793 [07:55<04:22,  1.87it/s]\u001b[A\u001b[A\u001b[A\n",
      "\n",
      "\n",
      " 38%|███▊      | 304/793 [07:55<04:28,  1.82it/s]\u001b[A\u001b[A\u001b[A\n",
      "\n",
      "\n",
      " 38%|███▊      | 305/793 [07:56<04:29,  1.81it/s]\u001b[A\u001b[A\u001b[A\n",
      "\n",
      "\n",
      " 39%|███▊      | 306/793 [07:56<04:23,  1.85it/s]\u001b[A\u001b[A\u001b[A\n",
      "\n",
      "\n",
      " 39%|███▊      | 307/793 [07:57<04:27,  1.82it/s]\u001b[A\u001b[A\u001b[A\n",
      "\n",
      "\n",
      " 39%|███▉      | 308/793 [07:57<04:22,  1.85it/s]\u001b[A\u001b[A\u001b[A\n",
      "\n",
      "\n",
      " 39%|███▉      | 309/793 [07:58<04:25,  1.82it/s]\u001b[A\u001b[A\u001b[A\n",
      "\n",
      "\n",
      " 39%|███▉      | 310/793 [07:59<04:19,  1.86it/s]\u001b[A\u001b[A\u001b[A\n",
      "\n",
      "\n",
      " 39%|███▉      | 311/793 [07:59<04:26,  1.81it/s]\u001b[A\u001b[A\u001b[A\n",
      "\n",
      "\n",
      " 39%|███▉      | 312/793 [08:00<04:31,  1.77it/s]\u001b[A\u001b[A\u001b[A\n",
      "\n",
      "\n",
      " 39%|███▉      | 313/793 [08:00<04:25,  1.81it/s]\u001b[A\u001b[A\u001b[A\n",
      "\n",
      "\n",
      " 40%|███▉      | 314/793 [08:01<04:25,  1.81it/s]\u001b[A\u001b[A\u001b[A\n",
      "\n",
      "\n",
      " 40%|███▉      | 315/793 [08:01<04:23,  1.82it/s]\u001b[A\u001b[A\u001b[A\n",
      "\n",
      "\n",
      " 40%|███▉      | 316/793 [08:02<04:18,  1.84it/s]\u001b[A\u001b[A\u001b[A\n",
      "\n",
      "\n",
      " 40%|███▉      | 317/793 [08:02<04:13,  1.87it/s]\u001b[A\u001b[A\u001b[A\n",
      "\n",
      "\n",
      " 40%|████      | 318/793 [08:03<04:22,  1.81it/s]\u001b[A\u001b[A\u001b[A\n",
      "\n",
      "\n",
      " 40%|████      | 319/793 [08:04<04:32,  1.74it/s]\u001b[A\u001b[A\u001b[A\n",
      "\n",
      "\n",
      " 40%|████      | 320/793 [08:04<04:29,  1.75it/s]\u001b[A\u001b[A\u001b[A\n",
      "\n",
      "\n",
      " 40%|████      | 321/793 [08:05<04:23,  1.79it/s]\u001b[A\u001b[A\u001b[A\n",
      "\n",
      "\n",
      " 41%|████      | 322/793 [08:05<04:26,  1.77it/s]\u001b[A\u001b[A\u001b[A\n",
      "\n",
      "\n",
      " 41%|████      | 323/793 [08:06<05:14,  1.49it/s]\u001b[A\u001b[A\u001b[A\n",
      "\n",
      "\n",
      " 41%|████      | 324/793 [08:07<04:50,  1.61it/s]\u001b[A\u001b[A\u001b[A\n",
      "\n",
      "\n",
      " 41%|████      | 325/793 [08:07<04:34,  1.70it/s]\u001b[A\u001b[A\u001b[A\n",
      "\n",
      "\n",
      " 41%|████      | 326/793 [08:08<04:23,  1.77it/s]\u001b[A\u001b[A\u001b[A\n",
      "\n",
      "\n",
      " 41%|████      | 327/793 [08:08<04:26,  1.75it/s]\u001b[A\u001b[A\u001b[A\n",
      "\n",
      "\n",
      " 41%|████▏     | 328/793 [08:09<04:22,  1.77it/s]\u001b[A\u001b[A\u001b[A\n",
      "\n",
      "\n",
      " 41%|████▏     | 329/793 [08:09<04:18,  1.79it/s]\u001b[A\u001b[A\u001b[A\n",
      "\n",
      "\n",
      " 42%|████▏     | 330/793 [08:10<04:23,  1.76it/s]\u001b[A\u001b[A\u001b[A\n",
      "\n",
      "\n",
      " 42%|████▏     | 331/793 [08:11<04:27,  1.73it/s]\u001b[A\u001b[A\u001b[A\n",
      "\n",
      "\n",
      " 42%|████▏     | 332/793 [08:11<04:20,  1.77it/s]\u001b[A\u001b[A\u001b[A\n",
      "\n",
      "\n",
      " 42%|████▏     | 333/793 [08:12<04:13,  1.82it/s]\u001b[A\u001b[A\u001b[A\n",
      "\n",
      "\n",
      " 42%|████▏     | 334/793 [08:12<04:16,  1.79it/s]\u001b[A\u001b[A\u001b[A\n",
      "\n",
      "\n",
      " 42%|████▏     | 335/793 [08:13<04:11,  1.82it/s]\u001b[A\u001b[A\u001b[A\n",
      "\n",
      "\n",
      " 42%|████▏     | 336/793 [08:13<04:03,  1.87it/s]\u001b[A\u001b[A\u001b[A\n",
      "\n",
      "\n",
      " 42%|████▏     | 337/793 [08:14<04:02,  1.88it/s]\u001b[A\u001b[A\u001b[A\n",
      "\n",
      "\n",
      " 43%|████▎     | 338/793 [08:14<03:57,  1.92it/s]\u001b[A\u001b[A\u001b[A\n",
      "\n",
      "\n",
      " 43%|████▎     | 339/793 [08:15<03:58,  1.90it/s]\u001b[A\u001b[A\u001b[A\n",
      "\n",
      "\n",
      " 43%|████▎     | 340/793 [08:15<04:00,  1.88it/s]\u001b[A\u001b[A\u001b[A\n",
      "\n",
      "\n",
      " 43%|████▎     | 341/793 [08:16<04:01,  1.87it/s]\u001b[A\u001b[A\u001b[A\n",
      "\n",
      "\n",
      " 43%|████▎     | 342/793 [08:16<04:00,  1.87it/s]\u001b[A\u001b[A\u001b[A\n",
      "\n",
      "\n",
      " 43%|████▎     | 343/793 [08:17<04:02,  1.85it/s]\u001b[A\u001b[A\u001b[A\n",
      "\n",
      "\n",
      " 43%|████▎     | 344/793 [08:17<03:58,  1.88it/s]\u001b[A\u001b[A\u001b[A\n",
      "\n",
      "\n",
      " 44%|████▎     | 345/793 [08:18<04:00,  1.87it/s]\u001b[A\u001b[A\u001b[A\n",
      "\n",
      "\n",
      " 44%|████▎     | 346/793 [08:19<04:21,  1.71it/s]\u001b[A\u001b[A\u001b[A\n",
      "\n",
      "\n",
      " 44%|████▍     | 347/793 [08:19<04:19,  1.72it/s]\u001b[A\u001b[A\u001b[A\n",
      "\n",
      "\n",
      " 44%|████▍     | 348/793 [08:20<04:13,  1.75it/s]\u001b[A\u001b[A\u001b[A\n",
      "\n",
      "\n",
      " 44%|████▍     | 349/793 [08:20<04:15,  1.74it/s]\u001b[A\u001b[A\u001b[A\n",
      "\n",
      "\n",
      " 44%|████▍     | 350/793 [08:21<04:11,  1.76it/s]\u001b[A\u001b[A\u001b[A\n",
      "\n",
      "\n",
      " 44%|████▍     | 351/793 [08:21<04:03,  1.81it/s]\u001b[A\u001b[A\u001b[A\n",
      "\n",
      "\n",
      " 44%|████▍     | 352/793 [08:22<04:05,  1.79it/s]\u001b[A\u001b[A\u001b[A\n",
      "\n",
      "\n",
      " 45%|████▍     | 353/793 [08:23<03:57,  1.85it/s]\u001b[A\u001b[A\u001b[A\n",
      "\n",
      "\n",
      " 45%|████▍     | 354/793 [08:23<03:53,  1.88it/s]\u001b[A\u001b[A\u001b[A\n",
      "\n",
      "\n",
      " 45%|████▍     | 355/793 [08:24<03:57,  1.84it/s]\u001b[A\u001b[A\u001b[A\n",
      "\n",
      "\n",
      " 45%|████▍     | 356/793 [08:24<03:54,  1.86it/s]\u001b[A\u001b[A\u001b[A\n",
      "\n",
      "\n",
      " 45%|████▌     | 357/793 [08:25<03:51,  1.88it/s]\u001b[A\u001b[A\u001b[A\n",
      "\n",
      "\n",
      " 45%|████▌     | 358/793 [08:25<03:52,  1.87it/s]\u001b[A\u001b[A\u001b[A\n",
      "\n",
      "\n",
      " 45%|████▌     | 359/793 [08:26<03:56,  1.83it/s]\u001b[A\u001b[A\u001b[A\n",
      "\n",
      "\n",
      " 45%|████▌     | 360/793 [08:26<03:52,  1.86it/s]\u001b[A\u001b[A\u001b[A\n",
      "\n",
      "\n",
      " 46%|████▌     | 361/793 [08:27<03:49,  1.88it/s]\u001b[A\u001b[A\u001b[A\n",
      "\n",
      "\n",
      " 46%|████▌     | 362/793 [08:27<03:48,  1.89it/s]\u001b[A\u001b[A\u001b[A\n",
      "\n",
      "\n",
      " 46%|████▌     | 363/793 [08:28<03:47,  1.89it/s]\u001b[A\u001b[A\u001b[A\n",
      "\n",
      "\n",
      " 46%|████▌     | 364/793 [08:28<03:47,  1.88it/s]\u001b[A\u001b[A\u001b[A\n",
      "\n",
      "\n",
      " 46%|████▌     | 365/793 [08:29<03:49,  1.87it/s]\u001b[A\u001b[A\u001b[A\n",
      "\n",
      "\n",
      " 46%|████▌     | 366/793 [08:29<03:47,  1.88it/s]\u001b[A\u001b[A\u001b[A\n",
      "\n",
      "\n",
      " 46%|████▋     | 367/793 [08:30<03:44,  1.90it/s]\u001b[A\u001b[A\u001b[A\n",
      "\n",
      "\n",
      " 46%|████▋     | 368/793 [08:31<03:55,  1.81it/s]\u001b[A\u001b[A\u001b[A\n",
      "\n",
      "\n",
      " 47%|████▋     | 369/793 [08:31<04:01,  1.76it/s]\u001b[A\u001b[A\u001b[A\n",
      "\n",
      "\n",
      " 47%|████▋     | 370/793 [08:32<03:59,  1.76it/s]\u001b[A\u001b[A\u001b[A\n",
      "\n",
      "\n",
      " 47%|████▋     | 371/793 [08:32<03:58,  1.77it/s]\u001b[A\u001b[A\u001b[A\n",
      "\n",
      "\n",
      " 47%|████▋     | 372/793 [08:33<03:53,  1.80it/s]\u001b[A\u001b[A\u001b[A\n",
      "\n",
      "\n",
      " 47%|████▋     | 373/793 [08:33<03:49,  1.83it/s]\u001b[A\u001b[A\u001b[A\n",
      "\n",
      "\n",
      " 47%|████▋     | 374/793 [08:34<03:45,  1.86it/s]\u001b[A\u001b[A\u001b[A\n",
      "\n",
      "\n",
      " 47%|████▋     | 375/793 [08:34<03:43,  1.87it/s]\u001b[A\u001b[A\u001b[A\n",
      "\n",
      "\n",
      " 47%|████▋     | 376/793 [08:35<03:44,  1.85it/s]\u001b[A\u001b[A\u001b[A\n",
      "\n",
      "\n",
      " 48%|████▊     | 377/793 [08:36<03:44,  1.85it/s]\u001b[A\u001b[A\u001b[A\n",
      "\n",
      "\n",
      " 48%|████▊     | 378/793 [08:36<03:42,  1.87it/s]\u001b[A\u001b[A\u001b[A\n",
      "\n",
      "\n",
      " 48%|████▊     | 379/793 [08:37<03:40,  1.88it/s]\u001b[A\u001b[A\u001b[A\n",
      "\n",
      "\n",
      " 48%|████▊     | 380/793 [08:38<04:29,  1.53it/s]\u001b[A\u001b[A\u001b[A\n",
      "\n",
      "\n",
      " 48%|████▊     | 381/793 [08:39<05:34,  1.23it/s]\u001b[A\u001b[A\u001b[A\n",
      "\n",
      "\n",
      " 48%|████▊     | 382/793 [08:40<05:34,  1.23it/s]\u001b[A\u001b[A\u001b[A\n",
      "\n",
      "\n",
      " 48%|████▊     | 383/793 [08:40<05:00,  1.37it/s]\u001b[A\u001b[A\u001b[A\n",
      "\n",
      "\n",
      " 48%|████▊     | 384/793 [08:41<04:33,  1.49it/s]\u001b[A\u001b[A\u001b[A\n",
      "\n",
      "\n",
      " 49%|████▊     | 385/793 [08:41<04:24,  1.54it/s]\u001b[A\u001b[A\u001b[A\n",
      "\n",
      "\n",
      " 49%|████▊     | 386/793 [08:42<04:19,  1.57it/s]\u001b[A\u001b[A\u001b[A\n",
      "\n",
      "\n",
      " 49%|████▉     | 387/793 [08:42<04:05,  1.66it/s]\u001b[A\u001b[A\u001b[A\n",
      "\n",
      "\n",
      " 49%|████▉     | 388/793 [08:43<03:55,  1.72it/s]\u001b[A\u001b[A\u001b[A\n",
      "\n",
      "\n",
      " 49%|████▉     | 389/793 [08:43<03:51,  1.74it/s]\u001b[A\u001b[A\u001b[A\n",
      "\n",
      "\n",
      " 49%|████▉     | 390/793 [08:44<03:42,  1.81it/s]\u001b[A\u001b[A\u001b[A\n",
      "\n",
      "\n",
      " 49%|████▉     | 391/793 [08:44<03:38,  1.84it/s]\u001b[A\u001b[A\u001b[A\n",
      "\n",
      "\n",
      " 49%|████▉     | 392/793 [08:45<03:41,  1.81it/s]\u001b[A\u001b[A\u001b[A\n",
      "\n",
      "\n",
      " 50%|████▉     | 393/793 [08:46<03:41,  1.81it/s]\u001b[A\u001b[A\u001b[A\n",
      "\n",
      "\n",
      " 50%|████▉     | 394/793 [08:46<03:41,  1.80it/s]\u001b[A\u001b[A\u001b[A\n",
      "\n",
      "\n",
      " 50%|████▉     | 395/793 [08:47<03:43,  1.78it/s]\u001b[A\u001b[A\u001b[A\n",
      "\n",
      "\n",
      " 50%|████▉     | 396/793 [08:47<03:38,  1.81it/s]\u001b[A\u001b[A\u001b[A\n",
      "\n",
      "\n",
      " 50%|█████     | 397/793 [08:48<03:35,  1.84it/s]\u001b[A\u001b[A\u001b[A\n",
      "\n",
      "\n",
      " 50%|█████     | 398/793 [08:48<03:33,  1.85it/s]\u001b[A\u001b[A\u001b[A\n",
      "\n",
      "\n",
      " 50%|█████     | 399/793 [08:49<03:46,  1.74it/s]\u001b[A\u001b[A\u001b[A\n",
      "\n",
      "\n",
      " 50%|█████     | 400/793 [08:50<03:54,  1.67it/s]\u001b[A\u001b[A\u001b[A\n",
      "\n",
      "\n",
      " 51%|█████     | 401/793 [08:50<03:51,  1.69it/s]\u001b[A\u001b[A\u001b[A\n",
      "\n",
      "\n",
      " 51%|█████     | 402/793 [08:51<03:48,  1.71it/s]\u001b[A\u001b[A\u001b[A\n",
      "\n",
      "\n",
      " 51%|█████     | 403/793 [08:51<03:49,  1.70it/s]\u001b[A\u001b[A\u001b[A\n",
      "\n",
      "\n"
     ]
    },
    {
     "name": "stderr",
     "output_type": "stream",
     "text": [
      " 51%|█████     | 404/793 [08:52<03:39,  1.77it/s]\u001b[A\u001b[A\u001b[A\n",
      "\n",
      "\n",
      " 51%|█████     | 405/793 [08:52<03:41,  1.75it/s]\u001b[A\u001b[A\u001b[A\n",
      "\n",
      "\n",
      " 51%|█████     | 406/793 [08:53<03:43,  1.73it/s]\u001b[A\u001b[A\u001b[A\n",
      "\n",
      "\n",
      " 51%|█████▏    | 407/793 [08:54<03:55,  1.64it/s]\u001b[A\u001b[A\u001b[A\n",
      "\n",
      "\n",
      " 51%|█████▏    | 408/793 [08:54<03:54,  1.64it/s]\u001b[A\u001b[A\u001b[A\n",
      "\n",
      "\n",
      " 52%|█████▏    | 409/793 [08:55<03:44,  1.71it/s]\u001b[A\u001b[A\u001b[A\n",
      "\n",
      "\n",
      " 52%|█████▏    | 410/793 [08:55<03:41,  1.73it/s]\u001b[A\u001b[A\u001b[A\n",
      "\n",
      "\n",
      " 52%|█████▏    | 411/793 [08:56<03:38,  1.75it/s]\u001b[A\u001b[A\u001b[A\n",
      "\n",
      "\n",
      " 52%|█████▏    | 412/793 [08:57<03:48,  1.66it/s]\u001b[A\u001b[A\u001b[A\n",
      "\n",
      "\n",
      " 52%|█████▏    | 413/793 [08:57<04:01,  1.57it/s]\u001b[A\u001b[A\u001b[A\n",
      "\n",
      "\n",
      " 52%|█████▏    | 414/793 [08:58<04:24,  1.44it/s]\u001b[A\u001b[A\u001b[A\n",
      "\n",
      "\n",
      " 52%|█████▏    | 415/793 [08:59<04:11,  1.51it/s]\u001b[A\u001b[A\u001b[A\n",
      "\n",
      "\n",
      " 52%|█████▏    | 416/793 [08:59<03:53,  1.61it/s]\u001b[A\u001b[A\u001b[A\n",
      "\n",
      "\n",
      " 53%|█████▎    | 417/793 [09:00<03:41,  1.70it/s]\u001b[A\u001b[A\u001b[A\n",
      "\n",
      "\n",
      " 53%|█████▎    | 418/793 [09:00<03:36,  1.74it/s]\u001b[A\u001b[A\u001b[A\n",
      "\n",
      "\n",
      " 53%|█████▎    | 419/793 [09:01<03:38,  1.71it/s]\u001b[A\u001b[A\u001b[A\n",
      "\n",
      "\n",
      " 53%|█████▎    | 420/793 [09:01<03:29,  1.78it/s]\u001b[A\u001b[A\u001b[A\n",
      "\n",
      "\n",
      " 53%|█████▎    | 421/793 [09:02<03:27,  1.79it/s]\u001b[A\u001b[A\u001b[A\n",
      "\n",
      "\n",
      " 53%|█████▎    | 422/793 [09:03<03:21,  1.84it/s]\u001b[A\u001b[A\u001b[A\n",
      "\n",
      "\n",
      " 53%|█████▎    | 423/793 [09:03<03:44,  1.65it/s]\u001b[A\u001b[A\u001b[A\n",
      "\n",
      "\n",
      " 53%|█████▎    | 424/793 [09:04<03:32,  1.74it/s]\u001b[A\u001b[A\u001b[A\n",
      "\n",
      "\n",
      " 54%|█████▎    | 425/793 [09:04<03:30,  1.75it/s]\u001b[A\u001b[A\u001b[A\n",
      "\n",
      "\n",
      " 54%|█████▎    | 426/793 [09:05<03:22,  1.81it/s]\u001b[A\u001b[A\u001b[A\n",
      "\n",
      "\n",
      " 54%|█████▍    | 427/793 [09:05<03:23,  1.80it/s]\u001b[A\u001b[A\u001b[A\n",
      "\n",
      "\n",
      " 54%|█████▍    | 428/793 [09:06<03:19,  1.83it/s]\u001b[A\u001b[A\u001b[A\n",
      "\n",
      "\n",
      " 54%|█████▍    | 429/793 [09:06<03:14,  1.87it/s]\u001b[A\u001b[A\u001b[A\n",
      "\n",
      "\n",
      " 54%|█████▍    | 430/793 [09:07<03:14,  1.86it/s]\u001b[A\u001b[A\u001b[A\n",
      "\n",
      "\n",
      " 54%|█████▍    | 431/793 [09:08<03:20,  1.81it/s]\u001b[A\u001b[A\u001b[A\n",
      "\n",
      "\n",
      " 54%|█████▍    | 432/793 [09:08<03:18,  1.82it/s]\u001b[A\u001b[A\u001b[A\n",
      "\n",
      "\n",
      " 55%|█████▍    | 433/793 [09:09<03:15,  1.84it/s]\u001b[A\u001b[A\u001b[A\n",
      "\n",
      "\n",
      " 55%|█████▍    | 434/793 [09:09<03:10,  1.88it/s]\u001b[A\u001b[A\u001b[A\n",
      "\n",
      "\n",
      " 55%|█████▍    | 435/793 [09:10<03:08,  1.90it/s]\u001b[A\u001b[A\u001b[A\n",
      "\n",
      "\n",
      " 55%|█████▍    | 436/793 [09:10<03:08,  1.89it/s]\u001b[A\u001b[A\u001b[A\n",
      "\n",
      "\n",
      " 55%|█████▌    | 437/793 [09:11<03:11,  1.86it/s]\u001b[A\u001b[A\u001b[A\n",
      "\n",
      "\n",
      " 55%|█████▌    | 438/793 [09:11<03:11,  1.85it/s]\u001b[A\u001b[A\u001b[A\n",
      "\n",
      "\n",
      " 55%|█████▌    | 439/793 [09:12<03:12,  1.83it/s]\u001b[A\u001b[A\u001b[A\n",
      "\n",
      "\n",
      " 55%|█████▌    | 440/793 [09:12<03:07,  1.88it/s]\u001b[A\u001b[A\u001b[A\n",
      "\n",
      "\n",
      " 56%|█████▌    | 441/793 [09:13<03:05,  1.90it/s]\u001b[A\u001b[A\u001b[A\n",
      "\n",
      "\n",
      " 56%|█████▌    | 442/793 [09:13<03:11,  1.83it/s]\u001b[A\u001b[A\u001b[A\n",
      "\n",
      "\n",
      " 56%|█████▌    | 443/793 [09:14<03:12,  1.82it/s]\u001b[A\u001b[A\u001b[A\n",
      "\n",
      "\n",
      " 56%|█████▌    | 444/793 [09:15<03:09,  1.84it/s]\u001b[A\u001b[A\u001b[A\n",
      "\n",
      "\n",
      " 56%|█████▌    | 445/793 [09:15<03:09,  1.83it/s]\u001b[A\u001b[A\u001b[A\n",
      "\n",
      "\n",
      " 56%|█████▌    | 446/793 [09:16<03:09,  1.83it/s]\u001b[A\u001b[A\u001b[A\n",
      "\n",
      "\n",
      " 56%|█████▋    | 447/793 [09:16<03:10,  1.82it/s]\u001b[A\u001b[A\u001b[A\n",
      "\n",
      "\n",
      " 56%|█████▋    | 448/793 [09:17<03:15,  1.76it/s]\u001b[A\u001b[A\u001b[A\n",
      "\n",
      "\n",
      " 57%|█████▋    | 449/793 [09:18<03:29,  1.64it/s]\u001b[A\u001b[A\u001b[A\n",
      "\n",
      "\n",
      " 57%|█████▋    | 450/793 [09:18<03:27,  1.65it/s]\u001b[A\u001b[A\u001b[A\n",
      "\n",
      "\n",
      " 57%|█████▋    | 451/793 [09:19<03:19,  1.71it/s]\u001b[A\u001b[A\u001b[A\n",
      "\n",
      "\n",
      " 57%|█████▋    | 452/793 [09:19<03:15,  1.74it/s]\u001b[A\u001b[A\u001b[A\n",
      "\n",
      "\n",
      " 57%|█████▋    | 453/793 [09:20<03:15,  1.74it/s]\u001b[A\u001b[A\u001b[A\n",
      "\n",
      "\n",
      " 57%|█████▋    | 454/793 [09:20<03:16,  1.72it/s]\u001b[A\u001b[A\u001b[A\n",
      "\n",
      "\n",
      " 57%|█████▋    | 455/793 [09:21<03:11,  1.77it/s]\u001b[A\u001b[A\u001b[A\n",
      "\n",
      "\n",
      " 58%|█████▊    | 456/793 [09:21<03:05,  1.82it/s]\u001b[A\u001b[A\u001b[A\n",
      "\n",
      "\n",
      " 58%|█████▊    | 457/793 [09:22<03:11,  1.75it/s]\u001b[A\u001b[A\u001b[A\n",
      "\n",
      "\n",
      " 58%|█████▊    | 458/793 [09:23<03:09,  1.77it/s]\u001b[A\u001b[A\u001b[A\n",
      "\n",
      "\n",
      " 58%|█████▊    | 459/793 [09:23<03:08,  1.77it/s]\u001b[A\u001b[A\u001b[A\n",
      "\n",
      "\n",
      " 58%|█████▊    | 460/793 [09:24<03:12,  1.73it/s]\u001b[A\u001b[A\u001b[A\n",
      "\n",
      "\n",
      " 58%|█████▊    | 461/793 [09:24<03:08,  1.77it/s]\u001b[A\u001b[A\u001b[A\n",
      "\n",
      "\n",
      " 58%|█████▊    | 462/793 [09:25<03:02,  1.82it/s]\u001b[A\u001b[A\u001b[A\n",
      "\n",
      "\n",
      " 58%|█████▊    | 463/793 [09:25<02:58,  1.85it/s]\u001b[A\u001b[A\u001b[A\n",
      "\n",
      "\n",
      " 59%|█████▊    | 464/793 [09:26<02:54,  1.89it/s]\u001b[A\u001b[A\u001b[A\n",
      "\n",
      "\n",
      " 59%|█████▊    | 465/793 [09:26<02:53,  1.89it/s]\u001b[A\u001b[A\u001b[A\n",
      "\n",
      "\n",
      " 59%|█████▉    | 466/793 [09:27<03:30,  1.55it/s]\u001b[A\u001b[A\u001b[A\n",
      "\n",
      "\n",
      " 59%|█████▉    | 467/793 [09:28<03:20,  1.63it/s]\u001b[A\u001b[A\u001b[A\n",
      "\n",
      "\n",
      " 59%|█████▉    | 468/793 [09:28<03:10,  1.71it/s]\u001b[A\u001b[A\u001b[A\n",
      "\n",
      "\n",
      " 59%|█████▉    | 469/793 [09:29<03:05,  1.74it/s]\u001b[A\u001b[A\u001b[A\n",
      "\n",
      "\n",
      " 59%|█████▉    | 470/793 [09:29<03:00,  1.79it/s]\u001b[A\u001b[A\u001b[A\n",
      "\n",
      "\n",
      " 59%|█████▉    | 471/793 [09:30<02:56,  1.83it/s]\u001b[A\u001b[A\u001b[A\n",
      "\n",
      "\n",
      " 60%|█████▉    | 472/793 [09:31<02:56,  1.82it/s]\u001b[A\u001b[A\u001b[A\n",
      "\n",
      "\n",
      " 60%|█████▉    | 473/793 [09:31<02:53,  1.85it/s]\u001b[A\u001b[A\u001b[A\n",
      "\n",
      "\n",
      " 60%|█████▉    | 474/793 [09:32<02:50,  1.87it/s]\u001b[A\u001b[A\u001b[A\n",
      "\n",
      "\n",
      " 60%|█████▉    | 475/793 [09:32<02:59,  1.77it/s]\u001b[A\u001b[A\u001b[A\n",
      "\n",
      "\n",
      " 60%|██████    | 476/793 [09:33<02:54,  1.82it/s]\u001b[A\u001b[A\u001b[A\n",
      "\n",
      "\n",
      " 60%|██████    | 477/793 [09:33<02:50,  1.86it/s]\u001b[A\u001b[A\u001b[A\n",
      "\n",
      "\n",
      " 60%|██████    | 478/793 [09:34<02:48,  1.87it/s]\u001b[A\u001b[A\u001b[A\n",
      "\n",
      "\n",
      " 60%|██████    | 479/793 [09:34<02:50,  1.84it/s]\u001b[A\u001b[A\u001b[A\n",
      "\n",
      "\n",
      " 61%|██████    | 480/793 [09:35<02:49,  1.85it/s]\u001b[A\u001b[A\u001b[A\n",
      "\n",
      "\n",
      " 61%|██████    | 481/793 [09:35<02:49,  1.84it/s]\u001b[A\u001b[A\u001b[A\n",
      "\n",
      "\n",
      " 61%|██████    | 482/793 [09:36<02:47,  1.86it/s]\u001b[A\u001b[A\u001b[A\n",
      "\n",
      "\n",
      " 61%|██████    | 483/793 [09:36<02:48,  1.84it/s]\u001b[A\u001b[A\u001b[A\n",
      "\n",
      "\n",
      " 61%|██████    | 484/793 [09:37<02:55,  1.76it/s]\u001b[A\u001b[A\u001b[A\n",
      "\n",
      "\n",
      " 61%|██████    | 485/793 [09:38<03:29,  1.47it/s]\u001b[A\u001b[A\u001b[A\n",
      "\n",
      "\n",
      " 61%|██████▏   | 486/793 [09:39<03:58,  1.29it/s]\u001b[A\u001b[A\u001b[A\n",
      "\n",
      "\n",
      " 61%|██████▏   | 487/793 [09:40<04:23,  1.16it/s]\u001b[A\u001b[A\u001b[A\n",
      "\n",
      "\n",
      " 62%|██████▏   | 488/793 [09:41<03:50,  1.33it/s]\u001b[A\u001b[A\u001b[A\n",
      "\n",
      "\n",
      " 62%|██████▏   | 489/793 [09:41<03:26,  1.47it/s]\u001b[A\u001b[A\u001b[A\n",
      "\n",
      "\n",
      " 62%|██████▏   | 490/793 [09:42<03:21,  1.50it/s]\u001b[A\u001b[A\u001b[A\n",
      "\n",
      "\n",
      " 62%|██████▏   | 491/793 [09:42<03:12,  1.57it/s]\u001b[A\u001b[A\u001b[A\n",
      "\n",
      "\n",
      " 62%|██████▏   | 492/793 [09:43<03:24,  1.47it/s]\u001b[A\u001b[A\u001b[A\n",
      "\n",
      "\n",
      " 62%|██████▏   | 493/793 [09:44<03:11,  1.57it/s]\u001b[A\u001b[A\u001b[A\n",
      "\n",
      "\n",
      " 62%|██████▏   | 494/793 [09:44<02:59,  1.67it/s]\u001b[A\u001b[A\u001b[A\n",
      "\n",
      "\n",
      " 62%|██████▏   | 495/793 [09:45<02:52,  1.73it/s]\u001b[A\u001b[A\u001b[A\n",
      "\n",
      "\n",
      " 63%|██████▎   | 496/793 [09:45<02:44,  1.80it/s]\u001b[A\u001b[A\u001b[A\n",
      "\n",
      "\n",
      " 63%|██████▎   | 497/793 [09:46<02:41,  1.83it/s]\u001b[A\u001b[A\u001b[A\n",
      "\n",
      "\n",
      " 63%|██████▎   | 498/793 [09:46<02:37,  1.87it/s]\u001b[A\u001b[A\u001b[A\n",
      "\n",
      "\n",
      " 63%|██████▎   | 499/793 [09:47<02:48,  1.75it/s]\u001b[A\u001b[A\u001b[A\n",
      "\n",
      "\n",
      " 63%|██████▎   | 500/793 [09:47<02:46,  1.76it/s]\u001b[A\u001b[A\u001b[A\n",
      "\n",
      "\n",
      " 63%|██████▎   | 501/793 [09:48<02:41,  1.81it/s]\u001b[A\u001b[A\u001b[A\n",
      "\n",
      "\n",
      " 63%|██████▎   | 502/793 [09:48<02:39,  1.82it/s]\u001b[A\u001b[A\u001b[A\n",
      "\n",
      "\n",
      " 63%|██████▎   | 503/793 [09:49<02:36,  1.85it/s]\u001b[A\u001b[A\u001b[A\n",
      "\n",
      "\n",
      " 64%|██████▎   | 504/793 [09:50<02:40,  1.80it/s]\u001b[A\u001b[A\u001b[A\n",
      "\n",
      "\n",
      " 64%|██████▎   | 505/793 [09:50<02:39,  1.81it/s]\u001b[A\u001b[A\u001b[A\n",
      "\n",
      "\n",
      " 64%|██████▍   | 506/793 [09:51<02:36,  1.84it/s]\u001b[A\u001b[A\u001b[A\n",
      "\n",
      "\n",
      " 64%|██████▍   | 507/793 [09:51<02:38,  1.81it/s]\u001b[A\u001b[A\u001b[A\n",
      "\n",
      "\n",
      " 64%|██████▍   | 508/793 [09:52<02:34,  1.84it/s]\u001b[A\u001b[A\u001b[A\n",
      "\n",
      "\n",
      " 64%|██████▍   | 509/793 [09:52<02:39,  1.78it/s]\u001b[A\u001b[A\u001b[A\n",
      "\n",
      "\n",
      " 64%|██████▍   | 510/793 [09:53<02:41,  1.75it/s]\u001b[A\u001b[A\u001b[A\n",
      "\n",
      "\n",
      " 64%|██████▍   | 511/793 [09:53<02:35,  1.81it/s]\u001b[A\u001b[A\u001b[A\n",
      "\n",
      "\n",
      " 65%|██████▍   | 512/793 [09:54<02:32,  1.84it/s]\u001b[A\u001b[A\u001b[A\n",
      "\n",
      "\n",
      " 65%|██████▍   | 513/793 [09:54<02:30,  1.86it/s]\u001b[A\u001b[A\u001b[A\n",
      "\n",
      "\n",
      " 65%|██████▍   | 514/793 [09:55<02:33,  1.82it/s]\u001b[A\u001b[A\u001b[A\n",
      "\n",
      "\n",
      " 65%|██████▍   | 515/793 [09:56<02:36,  1.77it/s]\u001b[A\u001b[A\u001b[A\n",
      "\n",
      "\n",
      " 65%|██████▌   | 516/793 [09:56<02:35,  1.79it/s]\u001b[A\u001b[A\u001b[A\n",
      "\n",
      "\n",
      " 65%|██████▌   | 517/793 [09:57<02:40,  1.72it/s]\u001b[A\u001b[A\u001b[A\n",
      "\n",
      "\n",
      " 65%|██████▌   | 518/793 [09:57<02:41,  1.71it/s]\u001b[A\u001b[A\u001b[A\n",
      "\n",
      "\n",
      " 65%|██████▌   | 519/793 [09:58<02:38,  1.73it/s]\u001b[A\u001b[A\u001b[A\n",
      "\n",
      "\n",
      " 66%|██████▌   | 520/793 [09:59<02:41,  1.69it/s]\u001b[A\u001b[A\u001b[A\n",
      "\n",
      "\n",
      " 66%|██████▌   | 521/793 [09:59<02:53,  1.57it/s]\u001b[A\u001b[A\u001b[A\n",
      "\n",
      "\n",
      " 66%|██████▌   | 522/793 [10:00<02:46,  1.62it/s]\u001b[A\u001b[A\u001b[A\n",
      "\n",
      "\n",
      " 66%|██████▌   | 523/793 [10:00<02:40,  1.68it/s]\u001b[A\u001b[A\u001b[A\n",
      "\n",
      "\n",
      " 66%|██████▌   | 524/793 [10:01<02:35,  1.73it/s]\u001b[A\u001b[A\u001b[A\n",
      "\n",
      "\n",
      " 66%|██████▌   | 525/793 [10:02<02:30,  1.78it/s]\u001b[A\u001b[A\u001b[A\n",
      "\n",
      "\n",
      " 66%|██████▋   | 526/793 [10:02<02:25,  1.83it/s]\u001b[A\u001b[A\u001b[A\n",
      "\n",
      "\n",
      " 66%|██████▋   | 527/793 [10:03<02:30,  1.77it/s]\u001b[A\u001b[A\u001b[A\n",
      "\n",
      "\n",
      " 67%|██████▋   | 528/793 [10:04<03:31,  1.25it/s]\u001b[A\u001b[A\u001b[A\n",
      "\n",
      "\n",
      " 67%|██████▋   | 529/793 [10:05<03:10,  1.39it/s]\u001b[A\u001b[A\u001b[A\n",
      "\n",
      "\n",
      " 67%|██████▋   | 530/793 [10:05<02:53,  1.52it/s]\u001b[A\u001b[A\u001b[A\n",
      "\n",
      "\n",
      " 67%|██████▋   | 531/793 [10:06<02:45,  1.59it/s]\u001b[A\u001b[A\u001b[A\n",
      "\n",
      "\n",
      " 67%|██████▋   | 532/793 [10:06<02:38,  1.65it/s]\u001b[A\u001b[A\u001b[A\n",
      "\n",
      "\n",
      " 67%|██████▋   | 533/793 [10:07<02:37,  1.65it/s]\u001b[A\u001b[A\u001b[A\n",
      "\n",
      "\n",
      " 67%|██████▋   | 534/793 [10:07<02:33,  1.69it/s]\u001b[A\u001b[A\u001b[A\n",
      "\n",
      "\n",
      " 67%|██████▋   | 535/793 [10:08<02:35,  1.66it/s]\u001b[A\u001b[A\u001b[A\n",
      "\n",
      "\n",
      " 68%|██████▊   | 536/793 [10:09<02:46,  1.54it/s]\u001b[A\u001b[A\u001b[A\n",
      "\n",
      "\n",
      " 68%|██████▊   | 537/793 [10:09<02:35,  1.65it/s]\u001b[A\u001b[A\u001b[A\n",
      "\n",
      "\n"
     ]
    },
    {
     "name": "stderr",
     "output_type": "stream",
     "text": [
      " 68%|██████▊   | 538/793 [10:10<02:35,  1.64it/s]\u001b[A\u001b[A\u001b[A\n",
      "\n",
      "\n",
      " 68%|██████▊   | 539/793 [10:11<02:43,  1.56it/s]\u001b[A\u001b[A\u001b[A\n",
      "\n",
      "\n",
      " 68%|██████▊   | 540/793 [10:11<02:39,  1.59it/s]\u001b[A\u001b[A\u001b[A\n",
      "\n",
      "\n",
      " 68%|██████▊   | 541/793 [10:12<02:33,  1.64it/s]\u001b[A\u001b[A\u001b[A\n",
      "\n",
      "\n",
      " 68%|██████▊   | 542/793 [10:12<02:29,  1.67it/s]\u001b[A\u001b[A\u001b[A\n",
      "\n",
      "\n",
      " 68%|██████▊   | 543/793 [10:13<02:23,  1.74it/s]\u001b[A\u001b[A\u001b[A\n",
      "\n",
      "\n",
      " 69%|██████▊   | 544/793 [10:13<02:21,  1.76it/s]\u001b[A\u001b[A\u001b[A\n",
      "\n",
      "\n",
      " 69%|██████▊   | 545/793 [10:14<02:23,  1.73it/s]\u001b[A\u001b[A\u001b[A\n",
      "\n",
      "\n",
      " 69%|██████▉   | 546/793 [10:15<02:19,  1.77it/s]\u001b[A\u001b[A\u001b[A\n",
      "\n",
      "\n",
      " 69%|██████▉   | 547/793 [10:15<02:17,  1.79it/s]\u001b[A\u001b[A\u001b[A\n",
      "\n",
      "\n",
      " 69%|██████▉   | 548/793 [10:16<02:17,  1.78it/s]\u001b[A\u001b[A\u001b[A\n",
      "\n",
      "\n",
      " 69%|██████▉   | 549/793 [10:16<02:17,  1.78it/s]\u001b[A\u001b[A\u001b[A\n",
      "\n",
      "\n",
      " 69%|██████▉   | 550/793 [10:17<02:14,  1.81it/s]\u001b[A\u001b[A\u001b[A\n",
      "\n",
      "\n",
      " 69%|██████▉   | 551/793 [10:17<02:10,  1.86it/s]\u001b[A\u001b[A\u001b[A\n",
      "\n",
      "\n",
      " 70%|██████▉   | 552/793 [10:18<02:15,  1.78it/s]\u001b[A\u001b[A\u001b[A\n",
      "\n",
      "\n",
      " 70%|██████▉   | 553/793 [10:18<02:14,  1.78it/s]\u001b[A\u001b[A\u001b[A\n",
      "\n",
      "\n",
      " 70%|██████▉   | 554/793 [10:19<02:15,  1.76it/s]\u001b[A\u001b[A\u001b[A\n",
      "\n",
      "\n",
      " 70%|██████▉   | 555/793 [10:20<02:50,  1.40it/s]\u001b[A\u001b[A\u001b[A\n",
      "\n",
      "\n",
      " 70%|███████   | 556/793 [10:21<03:21,  1.18it/s]\u001b[A\u001b[A\u001b[A\n",
      "\n",
      "\n",
      " 70%|███████   | 557/793 [10:22<03:00,  1.31it/s]\u001b[A\u001b[A\u001b[A\n",
      "\n",
      "\n",
      " 70%|███████   | 558/793 [10:22<02:45,  1.42it/s]\u001b[A\u001b[A\u001b[A\n",
      "\n",
      "\n",
      " 70%|███████   | 559/793 [10:24<03:32,  1.10it/s]\u001b[A\u001b[A\u001b[A\n",
      "\n",
      "\n",
      " 71%|███████   | 560/793 [10:26<04:47,  1.24s/it]\u001b[A\u001b[A\u001b[A\n",
      "\n",
      "\n",
      " 71%|███████   | 561/793 [10:27<04:19,  1.12s/it]\u001b[A\u001b[A\u001b[A\n",
      "\n",
      "\n",
      " 71%|███████   | 562/793 [10:27<03:36,  1.07it/s]\u001b[A\u001b[A\u001b[A\n",
      "\n",
      "\n",
      " 71%|███████   | 563/793 [10:28<03:07,  1.23it/s]\u001b[A\u001b[A\u001b[A\n",
      "\n",
      "\n",
      " 71%|███████   | 564/793 [10:28<02:48,  1.36it/s]\u001b[A\u001b[A\u001b[A\n",
      "\n",
      "\n",
      " 71%|███████   | 565/793 [10:29<02:36,  1.45it/s]\u001b[A\u001b[A\u001b[A\n",
      "\n",
      "\n",
      " 71%|███████▏  | 566/793 [10:29<02:23,  1.58it/s]\u001b[A\u001b[A\u001b[A\n",
      "\n",
      "\n",
      " 72%|███████▏  | 567/793 [10:30<02:14,  1.68it/s]\u001b[A\u001b[A\u001b[A\n",
      "\n",
      "\n",
      " 72%|███████▏  | 568/793 [10:30<02:18,  1.63it/s]\u001b[A\u001b[A\u001b[A\n",
      "\n",
      "\n",
      " 72%|███████▏  | 569/793 [10:31<02:32,  1.47it/s]\u001b[A\u001b[A\u001b[A\n",
      "\n",
      "\n",
      " 72%|███████▏  | 570/793 [10:32<02:35,  1.43it/s]\u001b[A\u001b[A\u001b[A\n",
      "\n",
      "\n",
      " 72%|███████▏  | 571/793 [10:33<02:39,  1.39it/s]\u001b[A\u001b[A\u001b[A\n",
      "\n",
      "\n",
      " 72%|███████▏  | 572/793 [10:33<02:37,  1.40it/s]\u001b[A\u001b[A\u001b[A\n",
      "\n",
      "\n",
      " 72%|███████▏  | 573/793 [10:34<02:28,  1.48it/s]\u001b[A\u001b[A\u001b[A\n",
      "\n",
      "\n",
      " 72%|███████▏  | 574/793 [10:35<02:22,  1.53it/s]\u001b[A\u001b[A\u001b[A\n",
      "\n",
      "\n",
      " 73%|███████▎  | 575/793 [10:35<02:18,  1.58it/s]\u001b[A\u001b[A\u001b[A\n",
      "\n",
      "\n",
      " 73%|███████▎  | 576/793 [10:36<02:11,  1.66it/s]\u001b[A\u001b[A\u001b[A\n",
      "\n",
      "\n",
      " 73%|███████▎  | 577/793 [10:36<02:06,  1.71it/s]\u001b[A\u001b[A\u001b[A\n",
      "\n",
      "\n",
      " 73%|███████▎  | 578/793 [10:37<02:04,  1.73it/s]\u001b[A\u001b[A\u001b[A\n",
      "\n",
      "\n",
      " 73%|███████▎  | 579/793 [10:38<02:10,  1.64it/s]\u001b[A\u001b[A\u001b[A\n",
      "\n",
      "\n",
      " 73%|███████▎  | 580/793 [10:38<02:20,  1.51it/s]\u001b[A\u001b[A\u001b[A\n",
      "\n",
      "\n",
      " 73%|███████▎  | 581/793 [10:39<02:18,  1.53it/s]\u001b[A\u001b[A\u001b[A\n",
      "\n",
      "\n",
      " 73%|███████▎  | 582/793 [10:40<02:26,  1.44it/s]\u001b[A\u001b[A\u001b[A\n",
      "\n",
      "\n",
      " 74%|███████▎  | 583/793 [10:40<02:19,  1.50it/s]\u001b[A\u001b[A\u001b[A\n",
      "\n",
      "\n",
      " 74%|███████▎  | 584/793 [10:41<02:16,  1.53it/s]\u001b[A\u001b[A\u001b[A\n",
      "\n",
      "\n",
      " 74%|███████▍  | 585/793 [10:41<02:06,  1.64it/s]\u001b[A\u001b[A\u001b[A\n",
      "\n",
      "\n",
      " 74%|███████▍  | 586/793 [10:42<02:01,  1.71it/s]\u001b[A\u001b[A\u001b[A\n",
      "\n",
      "\n",
      " 74%|███████▍  | 587/793 [10:43<01:56,  1.77it/s]\u001b[A\u001b[A\u001b[A\n",
      "\n",
      "\n",
      " 74%|███████▍  | 588/793 [10:43<01:54,  1.79it/s]\u001b[A\u001b[A\u001b[A\n",
      "\n",
      "\n",
      " 74%|███████▍  | 589/793 [10:44<01:51,  1.83it/s]\u001b[A\u001b[A\u001b[A\n",
      "\n",
      "\n",
      " 74%|███████▍  | 590/793 [10:44<01:47,  1.88it/s]\u001b[A\u001b[A\u001b[A\n",
      "\n",
      "\n",
      " 75%|███████▍  | 591/793 [10:45<01:47,  1.88it/s]\u001b[A\u001b[A\u001b[A\n",
      "\n",
      "\n",
      " 75%|███████▍  | 592/793 [10:45<01:54,  1.76it/s]\u001b[A\u001b[A\u001b[A\n",
      "\n",
      "\n",
      " 75%|███████▍  | 593/793 [10:46<01:58,  1.68it/s]\u001b[A\u001b[A\u001b[A\n",
      "\n",
      "\n",
      " 75%|███████▍  | 594/793 [10:46<01:52,  1.76it/s]\u001b[A\u001b[A\u001b[A\n",
      "\n",
      "\n",
      " 75%|███████▌  | 595/793 [10:47<01:55,  1.72it/s]\u001b[A\u001b[A\u001b[A\n",
      "\n",
      "\n",
      " 75%|███████▌  | 596/793 [10:48<02:01,  1.62it/s]\u001b[A\u001b[A\u001b[A\n",
      "\n",
      "\n",
      " 75%|███████▌  | 597/793 [10:48<02:02,  1.60it/s]\u001b[A\u001b[A\u001b[A\n",
      "\n",
      "\n",
      " 75%|███████▌  | 598/793 [10:49<01:58,  1.64it/s]\u001b[A\u001b[A\u001b[A\n",
      "\n",
      "\n",
      " 76%|███████▌  | 599/793 [10:49<01:53,  1.70it/s]\u001b[A\u001b[A\u001b[A\n",
      "\n",
      "\n",
      " 76%|███████▌  | 600/793 [10:50<01:52,  1.72it/s]\u001b[A\u001b[A\u001b[A\n",
      "\n",
      "\n",
      " 76%|███████▌  | 601/793 [10:51<02:02,  1.57it/s]\u001b[A\u001b[A\u001b[A\n",
      "\n",
      "\n",
      " 76%|███████▌  | 602/793 [10:52<02:04,  1.53it/s]\u001b[A\u001b[A\u001b[A\n",
      "\n",
      "\n",
      " 76%|███████▌  | 603/793 [10:52<02:00,  1.58it/s]\u001b[A\u001b[A\u001b[A\n",
      "\n",
      "\n",
      " 76%|███████▌  | 604/793 [10:53<02:08,  1.47it/s]\u001b[A\u001b[A\u001b[A\n",
      "\n",
      "\n",
      " 76%|███████▋  | 605/793 [10:54<02:19,  1.35it/s]\u001b[A\u001b[A\u001b[A\n",
      "\n",
      "\n",
      " 76%|███████▋  | 606/793 [10:55<02:20,  1.33it/s]\u001b[A\u001b[A\u001b[A\n",
      "\n",
      "\n",
      " 77%|███████▋  | 607/793 [10:55<02:12,  1.40it/s]\u001b[A\u001b[A\u001b[A\n",
      "\n",
      "\n",
      " 77%|███████▋  | 608/793 [10:56<02:09,  1.43it/s]\u001b[A\u001b[A\u001b[A\n",
      "\n",
      "\n",
      " 77%|███████▋  | 609/793 [10:57<02:15,  1.36it/s]\u001b[A\u001b[A\u001b[A\n",
      "\n",
      "\n",
      " 77%|███████▋  | 610/793 [10:57<02:06,  1.44it/s]\u001b[A\u001b[A\u001b[A\n",
      "\n",
      "\n",
      " 77%|███████▋  | 611/793 [10:58<02:00,  1.51it/s]\u001b[A\u001b[A\u001b[A\n",
      "\n",
      "\n",
      " 77%|███████▋  | 612/793 [10:58<01:53,  1.59it/s]\u001b[A\u001b[A\u001b[A\n",
      "\n",
      "\n",
      " 77%|███████▋  | 613/793 [10:59<01:48,  1.65it/s]\u001b[A\u001b[A\u001b[A\n",
      "\n",
      "\n",
      " 77%|███████▋  | 614/793 [11:00<01:51,  1.60it/s]\u001b[A\u001b[A\u001b[A\n",
      "\n",
      "\n",
      " 78%|███████▊  | 615/793 [11:00<01:45,  1.69it/s]\u001b[A\u001b[A\u001b[A\n",
      "\n",
      "\n",
      " 78%|███████▊  | 616/793 [11:01<01:45,  1.68it/s]\u001b[A\u001b[A\u001b[A\n",
      "\n",
      "\n",
      " 78%|███████▊  | 617/793 [11:01<01:47,  1.64it/s]\u001b[A\u001b[A\u001b[A\n",
      "\n",
      "\n",
      " 78%|███████▊  | 618/793 [11:02<01:44,  1.67it/s]\u001b[A\u001b[A\u001b[A\n",
      "\n",
      "\n",
      " 78%|███████▊  | 619/793 [11:03<01:44,  1.66it/s]\u001b[A\u001b[A\u001b[A\n",
      "\n",
      "\n",
      " 78%|███████▊  | 620/793 [11:03<01:40,  1.73it/s]\u001b[A\u001b[A\u001b[A\n",
      "\n",
      "\n",
      " 78%|███████▊  | 621/793 [11:04<01:38,  1.75it/s]\u001b[A\u001b[A\u001b[A\n",
      "\n",
      "\n",
      " 78%|███████▊  | 622/793 [11:04<01:35,  1.78it/s]\u001b[A\u001b[A\u001b[A\n",
      "\n",
      "\n",
      " 79%|███████▊  | 623/793 [11:05<01:38,  1.72it/s]\u001b[A\u001b[A\u001b[A\n",
      "\n",
      "\n",
      " 79%|███████▊  | 624/793 [11:05<01:41,  1.66it/s]\u001b[A\u001b[A\u001b[A\n",
      "\n",
      "\n",
      " 79%|███████▉  | 625/793 [11:06<01:39,  1.69it/s]\u001b[A\u001b[A\u001b[A\n",
      "\n",
      "\n",
      " 79%|███████▉  | 626/793 [11:07<01:36,  1.73it/s]\u001b[A\u001b[A\u001b[A\n",
      "\n",
      "\n",
      " 79%|███████▉  | 627/793 [11:07<01:36,  1.72it/s]\u001b[A\u001b[A\u001b[A\n",
      "\n",
      "\n",
      " 79%|███████▉  | 628/793 [11:08<01:35,  1.72it/s]\u001b[A\u001b[A\u001b[A\n",
      "\n",
      "\n",
      " 79%|███████▉  | 629/793 [11:09<01:54,  1.43it/s]\u001b[A\u001b[A\u001b[A\n",
      "\n",
      "\n",
      " 79%|███████▉  | 630/793 [11:09<01:48,  1.51it/s]\u001b[A\u001b[A\u001b[A\n",
      "\n",
      "\n",
      " 80%|███████▉  | 631/793 [11:10<01:43,  1.56it/s]\u001b[A\u001b[A\u001b[A\n",
      "\n",
      "\n",
      " 80%|███████▉  | 632/793 [11:10<01:39,  1.62it/s]\u001b[A\u001b[A\u001b[A\n",
      "\n",
      "\n",
      " 80%|███████▉  | 633/793 [11:11<01:35,  1.68it/s]\u001b[A\u001b[A\u001b[A\n",
      "\n",
      "\n",
      " 80%|███████▉  | 634/793 [11:12<01:33,  1.69it/s]\u001b[A\u001b[A\u001b[A\n",
      "\n",
      "\n",
      " 80%|████████  | 635/793 [11:12<01:29,  1.76it/s]\u001b[A\u001b[A\u001b[A\n",
      "\n",
      "\n",
      " 80%|████████  | 636/793 [11:13<01:26,  1.80it/s]\u001b[A\u001b[A\u001b[A\n",
      "\n",
      "\n",
      " 80%|████████  | 637/793 [11:13<01:24,  1.85it/s]\u001b[A\u001b[A\u001b[A\n",
      "\n",
      "\n",
      " 80%|████████  | 638/793 [11:14<01:22,  1.88it/s]\u001b[A\u001b[A\u001b[A\n",
      "\n",
      "\n",
      " 81%|████████  | 639/793 [11:14<01:20,  1.90it/s]\u001b[A\u001b[A\u001b[A\n",
      "\n",
      "\n",
      " 81%|████████  | 640/793 [11:15<01:19,  1.93it/s]\u001b[A\u001b[A\u001b[A\n",
      "\n",
      "\n",
      " 81%|████████  | 641/793 [11:15<01:18,  1.93it/s]\u001b[A\u001b[A\u001b[A\n",
      "\n",
      "\n",
      " 81%|████████  | 642/793 [11:16<01:20,  1.87it/s]\u001b[A\u001b[A\u001b[A\n",
      "\n",
      "\n",
      " 81%|████████  | 643/793 [11:17<02:03,  1.21it/s]\u001b[A\u001b[A\u001b[A\n",
      "\n",
      "\n",
      " 81%|████████  | 644/793 [11:20<03:07,  1.26s/it]\u001b[A\u001b[A\u001b[A\n",
      "\n",
      "\n",
      " 81%|████████▏ | 645/793 [11:20<02:37,  1.07s/it]\u001b[A\u001b[A\u001b[A\n",
      "\n",
      "\n",
      " 81%|████████▏ | 646/793 [11:21<02:19,  1.05it/s]\u001b[A\u001b[A\u001b[A\n",
      "\n",
      "\n",
      " 82%|████████▏ | 647/793 [11:21<02:01,  1.21it/s]\u001b[A\u001b[A\u001b[A\n",
      "\n",
      "\n",
      " 82%|████████▏ | 648/793 [11:22<01:49,  1.32it/s]\u001b[A\u001b[A\u001b[A\n",
      "\n",
      "\n",
      " 82%|████████▏ | 649/793 [11:22<01:38,  1.47it/s]\u001b[A\u001b[A\u001b[A\n",
      "\n",
      "\n",
      " 82%|████████▏ | 650/793 [11:23<01:31,  1.56it/s]\u001b[A\u001b[A\u001b[A\n",
      "\n",
      "\n",
      " 82%|████████▏ | 651/793 [11:24<01:26,  1.65it/s]\u001b[A\u001b[A\u001b[A\n",
      "\n",
      "\n",
      " 82%|████████▏ | 652/793 [11:24<01:23,  1.69it/s]\u001b[A\u001b[A\u001b[A\n",
      "\n",
      "\n",
      " 82%|████████▏ | 653/793 [11:25<01:23,  1.69it/s]\u001b[A\u001b[A\u001b[A\n",
      "\n",
      "\n",
      " 82%|████████▏ | 654/793 [11:25<01:28,  1.57it/s]\u001b[A\u001b[A\u001b[A\n",
      "\n",
      "\n",
      " 83%|████████▎ | 655/793 [11:26<01:32,  1.50it/s]\u001b[A\u001b[A\u001b[A\n",
      "\n",
      "\n",
      " 83%|████████▎ | 656/793 [11:27<01:40,  1.36it/s]\u001b[A\u001b[A\u001b[A\n",
      "\n",
      "\n",
      " 83%|████████▎ | 657/793 [11:28<01:50,  1.23it/s]\u001b[A\u001b[A\u001b[A\n",
      "\n",
      "\n",
      " 83%|████████▎ | 658/793 [11:29<01:58,  1.14it/s]\u001b[A\u001b[A\u001b[A\n",
      "\n",
      "\n",
      " 83%|████████▎ | 659/793 [11:30<01:53,  1.18it/s]\u001b[A\u001b[A\u001b[A\n",
      "\n",
      "\n",
      " 83%|████████▎ | 660/793 [11:31<01:48,  1.23it/s]\u001b[A\u001b[A\u001b[A\n",
      "\n",
      "\n",
      " 83%|████████▎ | 661/793 [11:31<01:45,  1.25it/s]\u001b[A\u001b[A\u001b[A\n",
      "\n",
      "\n",
      " 83%|████████▎ | 662/793 [11:32<01:38,  1.34it/s]\u001b[A\u001b[A\u001b[A\n",
      "\n",
      "\n",
      " 84%|████████▎ | 663/793 [11:33<01:35,  1.35it/s]\u001b[A\u001b[A\u001b[A\n",
      "\n",
      "\n",
      " 84%|████████▎ | 664/793 [11:33<01:26,  1.49it/s]\u001b[A\u001b[A\u001b[A\n",
      "\n",
      "\n",
      " 84%|████████▍ | 665/793 [11:34<01:20,  1.59it/s]\u001b[A\u001b[A\u001b[A\n",
      "\n",
      "\n",
      " 84%|████████▍ | 666/793 [11:34<01:15,  1.69it/s]\u001b[A\u001b[A\u001b[A\n",
      "\n",
      "\n",
      " 84%|████████▍ | 667/793 [11:35<01:18,  1.60it/s]\u001b[A\u001b[A\u001b[A\n",
      "\n",
      "\n",
      " 84%|████████▍ | 668/793 [11:36<01:21,  1.53it/s]\u001b[A\u001b[A\u001b[A\n",
      "\n",
      "\n",
      " 84%|████████▍ | 669/793 [11:36<01:20,  1.55it/s]\u001b[A\u001b[A\u001b[A\n",
      "\n",
      "\n",
      " 84%|████████▍ | 670/793 [11:37<01:15,  1.64it/s]\u001b[A\u001b[A\u001b[A\n",
      "\n",
      "\n",
      " 85%|████████▍ | 671/793 [11:37<01:12,  1.67it/s]\u001b[A\u001b[A\u001b[A\n",
      "\n",
      "\n"
     ]
    },
    {
     "name": "stderr",
     "output_type": "stream",
     "text": [
      " 85%|████████▍ | 672/793 [11:38<01:11,  1.70it/s]\u001b[A\u001b[A\u001b[A\n",
      "\n",
      "\n",
      " 85%|████████▍ | 673/793 [11:39<01:19,  1.51it/s]\u001b[A\u001b[A\u001b[A\n",
      "\n",
      "\n",
      " 85%|████████▍ | 674/793 [11:39<01:14,  1.59it/s]\u001b[A\u001b[A\u001b[A\n",
      "\n",
      "\n",
      " 85%|████████▌ | 675/793 [11:40<01:11,  1.64it/s]\u001b[A\u001b[A\u001b[A\n",
      "\n",
      "\n",
      " 85%|████████▌ | 676/793 [11:40<01:07,  1.73it/s]\u001b[A\u001b[A\u001b[A\n",
      "\n",
      "\n",
      " 85%|████████▌ | 677/793 [11:41<01:08,  1.69it/s]\u001b[A\u001b[A\u001b[A\n",
      "\n",
      "\n",
      " 85%|████████▌ | 678/793 [11:42<01:07,  1.69it/s]\u001b[A\u001b[A\u001b[A\n",
      "\n",
      "\n",
      " 86%|████████▌ | 679/793 [11:42<01:06,  1.71it/s]\u001b[A\u001b[A\u001b[A\n",
      "\n",
      "\n",
      " 86%|████████▌ | 680/793 [11:43<01:03,  1.77it/s]\u001b[A\u001b[A\u001b[A\n",
      "\n",
      "\n",
      " 86%|████████▌ | 681/793 [11:43<01:02,  1.80it/s]\u001b[A\u001b[A\u001b[A\n",
      "\n",
      "\n",
      " 86%|████████▌ | 682/793 [11:44<01:02,  1.77it/s]\u001b[A\u001b[A\u001b[A\n",
      "\n",
      "\n",
      " 86%|████████▌ | 683/793 [11:44<01:01,  1.80it/s]\u001b[A\u001b[A\u001b[A\n",
      "\n",
      "\n",
      " 86%|████████▋ | 684/793 [11:45<00:59,  1.84it/s]\u001b[A\u001b[A\u001b[A\n",
      "\n",
      "\n",
      " 86%|████████▋ | 685/793 [11:45<00:57,  1.86it/s]\u001b[A\u001b[A\u001b[A\n",
      "\n",
      "\n",
      " 87%|████████▋ | 686/793 [11:46<00:56,  1.90it/s]\u001b[A\u001b[A\u001b[A\n",
      "\n",
      "\n",
      " 87%|████████▋ | 687/793 [11:46<00:55,  1.90it/s]\u001b[A\u001b[A\u001b[A\n",
      "\n",
      "\n",
      " 87%|████████▋ | 688/793 [11:47<00:57,  1.83it/s]\u001b[A\u001b[A\u001b[A\n",
      "\n",
      "\n",
      " 87%|████████▋ | 689/793 [11:48<01:02,  1.67it/s]\u001b[A\u001b[A\u001b[A\n",
      "\n",
      "\n",
      " 87%|████████▋ | 690/793 [11:49<01:08,  1.50it/s]\u001b[A\u001b[A\u001b[A\n",
      "\n",
      "\n",
      " 87%|████████▋ | 691/793 [11:49<01:09,  1.46it/s]\u001b[A\u001b[A\u001b[A\n",
      "\n",
      "\n",
      " 87%|████████▋ | 692/793 [11:50<01:03,  1.59it/s]\u001b[A\u001b[A\u001b[A\n",
      "\n",
      "\n",
      " 87%|████████▋ | 693/793 [11:50<01:00,  1.64it/s]\u001b[A\u001b[A\u001b[A\n",
      "\n",
      "\n",
      " 88%|████████▊ | 694/793 [11:51<00:57,  1.71it/s]\u001b[A\u001b[A\u001b[A\n",
      "\n",
      "\n",
      " 88%|████████▊ | 695/793 [11:51<00:54,  1.78it/s]\u001b[A\u001b[A\u001b[A\n",
      "\n",
      "\n",
      " 88%|████████▊ | 696/793 [11:52<00:52,  1.83it/s]\u001b[A\u001b[A\u001b[A\n",
      "\n",
      "\n",
      " 88%|████████▊ | 697/793 [11:52<00:51,  1.86it/s]\u001b[A\u001b[A\u001b[A\n",
      "\n",
      "\n",
      " 88%|████████▊ | 698/793 [11:53<00:52,  1.80it/s]\u001b[A\u001b[A\u001b[A\n",
      "\n",
      "\n",
      " 88%|████████▊ | 699/793 [11:54<00:52,  1.80it/s]\u001b[A\u001b[A\u001b[A\n",
      "\n",
      "\n",
      " 88%|████████▊ | 700/793 [11:54<00:52,  1.78it/s]\u001b[A\u001b[A\u001b[A\n",
      "\n",
      "\n",
      " 88%|████████▊ | 701/793 [11:55<00:51,  1.79it/s]\u001b[A\u001b[A\u001b[A\n",
      "\n",
      "\n",
      " 89%|████████▊ | 702/793 [11:55<00:49,  1.83it/s]\u001b[A\u001b[A\u001b[A\n",
      "\n",
      "\n",
      " 89%|████████▊ | 703/793 [11:56<00:50,  1.77it/s]\u001b[A\u001b[A\u001b[A\n",
      "\n",
      "\n",
      " 89%|████████▉ | 704/793 [11:56<00:50,  1.77it/s]\u001b[A\u001b[A\u001b[A\n",
      "\n",
      "\n",
      " 89%|████████▉ | 705/793 [11:57<00:48,  1.80it/s]\u001b[A\u001b[A\u001b[A\n",
      "\n",
      "\n",
      " 89%|████████▉ | 706/793 [11:57<00:47,  1.83it/s]\u001b[A\u001b[A\u001b[A\n",
      "\n",
      "\n",
      " 89%|████████▉ | 707/793 [11:58<00:46,  1.85it/s]\u001b[A\u001b[A\u001b[A\n",
      "\n",
      "\n",
      " 89%|████████▉ | 708/793 [11:58<00:44,  1.89it/s]\u001b[A\u001b[A\u001b[A\n",
      "\n",
      "\n",
      " 89%|████████▉ | 709/793 [11:59<00:44,  1.89it/s]\u001b[A\u001b[A\u001b[A\n",
      "\n",
      "\n",
      " 90%|████████▉ | 710/793 [12:00<00:43,  1.91it/s]\u001b[A\u001b[A\u001b[A\n",
      "\n",
      "\n",
      " 90%|████████▉ | 711/793 [12:00<00:43,  1.89it/s]\u001b[A\u001b[A\u001b[A\n",
      "\n",
      "\n",
      " 90%|████████▉ | 712/793 [12:01<00:42,  1.90it/s]\u001b[A\u001b[A\u001b[A\n",
      "\n",
      "\n",
      " 90%|████████▉ | 713/793 [12:01<00:41,  1.92it/s]\u001b[A\u001b[A\u001b[A\n",
      "\n",
      "\n",
      " 90%|█████████ | 714/793 [12:02<00:41,  1.92it/s]\u001b[A\u001b[A\u001b[A\n",
      "\n",
      "\n",
      " 90%|█████████ | 715/793 [12:02<00:40,  1.93it/s]\u001b[A\u001b[A\u001b[A\n",
      "\n",
      "\n",
      " 90%|█████████ | 716/793 [12:03<00:40,  1.88it/s]\u001b[A\u001b[A\u001b[A\n",
      "\n",
      "\n",
      " 90%|█████████ | 717/793 [12:03<00:41,  1.84it/s]\u001b[A\u001b[A\u001b[A\n",
      "\n",
      "\n",
      " 91%|█████████ | 718/793 [12:04<00:40,  1.85it/s]\u001b[A\u001b[A\u001b[A\n",
      "\n",
      "\n",
      " 91%|█████████ | 719/793 [12:04<00:38,  1.90it/s]\u001b[A\u001b[A\u001b[A\n",
      "\n",
      "\n",
      " 91%|█████████ | 720/793 [12:05<00:38,  1.91it/s]\u001b[A\u001b[A\u001b[A\n",
      "\n",
      "\n",
      " 91%|█████████ | 721/793 [12:05<00:37,  1.89it/s]\u001b[A\u001b[A\u001b[A\n",
      "\n",
      "\n",
      " 91%|█████████ | 722/793 [12:06<00:37,  1.87it/s]\u001b[A\u001b[A\u001b[A\n",
      "\n",
      "\n",
      " 91%|█████████ | 723/793 [12:06<00:37,  1.88it/s]\u001b[A\u001b[A\u001b[A\n",
      "\n",
      "\n",
      " 91%|█████████▏| 724/793 [12:07<00:36,  1.87it/s]\u001b[A\u001b[A\u001b[A\n",
      "\n",
      "\n",
      " 91%|█████████▏| 725/793 [12:07<00:36,  1.89it/s]\u001b[A\u001b[A\u001b[A\n",
      "\n",
      "\n",
      " 92%|█████████▏| 726/793 [12:08<00:35,  1.90it/s]\u001b[A\u001b[A\u001b[A\n",
      "\n",
      "\n",
      " 92%|█████████▏| 727/793 [12:09<00:34,  1.92it/s]\u001b[A\u001b[A\u001b[A\n",
      "\n",
      "\n",
      " 92%|█████████▏| 728/793 [12:09<00:34,  1.88it/s]\u001b[A\u001b[A\u001b[A\n",
      "\n",
      "\n",
      " 92%|█████████▏| 729/793 [12:10<00:34,  1.88it/s]\u001b[A\u001b[A\u001b[A\n",
      "\n",
      "\n",
      " 92%|█████████▏| 730/793 [12:10<00:33,  1.89it/s]\u001b[A\u001b[A\u001b[A\n",
      "\n",
      "\n",
      " 92%|█████████▏| 731/793 [12:11<00:33,  1.85it/s]\u001b[A\u001b[A\u001b[A\n",
      "\n",
      "\n",
      " 92%|█████████▏| 732/793 [12:11<00:32,  1.89it/s]\u001b[A\u001b[A\u001b[A\n",
      "\n",
      "\n",
      " 92%|█████████▏| 733/793 [12:12<00:31,  1.91it/s]\u001b[A\u001b[A\u001b[A\n",
      "\n",
      "\n",
      " 93%|█████████▎| 734/793 [12:12<00:32,  1.82it/s]\u001b[A\u001b[A\u001b[A\n",
      "\n",
      "\n",
      " 93%|█████████▎| 735/793 [12:13<00:33,  1.75it/s]\u001b[A\u001b[A\u001b[A\n",
      "\n",
      "\n",
      " 93%|█████████▎| 736/793 [12:13<00:32,  1.77it/s]\u001b[A\u001b[A\u001b[A\n",
      "\n",
      "\n",
      " 93%|█████████▎| 737/793 [12:14<00:30,  1.83it/s]\u001b[A\u001b[A\u001b[A\n",
      "\n",
      "\n",
      " 93%|█████████▎| 738/793 [12:15<00:31,  1.73it/s]\u001b[A\u001b[A\u001b[A\n",
      "\n",
      "\n",
      " 93%|█████████▎| 739/793 [12:15<00:30,  1.77it/s]\u001b[A\u001b[A\u001b[A\n",
      "\n",
      "\n",
      " 93%|█████████▎| 740/793 [12:16<00:32,  1.63it/s]\u001b[A\u001b[A\u001b[A\n",
      "\n",
      "\n",
      " 93%|█████████▎| 741/793 [12:16<00:30,  1.72it/s]\u001b[A\u001b[A\u001b[A\n",
      "\n",
      "\n",
      " 94%|█████████▎| 742/793 [12:17<00:28,  1.76it/s]\u001b[A\u001b[A\u001b[A\n",
      "\n",
      "\n",
      " 94%|█████████▎| 743/793 [12:18<00:29,  1.71it/s]\u001b[A\u001b[A\u001b[A\n",
      "\n",
      "\n",
      " 94%|█████████▍| 744/793 [12:18<00:27,  1.76it/s]\u001b[A\u001b[A\u001b[A\n",
      "\n",
      "\n",
      " 94%|█████████▍| 745/793 [12:19<00:26,  1.80it/s]\u001b[A\u001b[A\u001b[A\n",
      "\n",
      "\n",
      " 94%|█████████▍| 746/793 [12:19<00:26,  1.74it/s]\u001b[A\u001b[A\u001b[A\n",
      "\n",
      "\n",
      " 94%|█████████▍| 747/793 [12:20<00:28,  1.61it/s]\u001b[A\u001b[A\u001b[A\n",
      "\n",
      "\n",
      " 94%|█████████▍| 748/793 [12:21<00:28,  1.59it/s]\u001b[A\u001b[A\u001b[A\n",
      "\n",
      "\n",
      " 94%|█████████▍| 749/793 [12:21<00:26,  1.69it/s]\u001b[A\u001b[A\u001b[A\n",
      "\n",
      "\n",
      " 95%|█████████▍| 750/793 [12:22<00:28,  1.51it/s]\u001b[A\u001b[A\u001b[A\n",
      "\n",
      "\n",
      " 95%|█████████▍| 751/793 [12:22<00:26,  1.61it/s]\u001b[A\u001b[A\u001b[A\n",
      "\n",
      "\n",
      " 95%|█████████▍| 752/793 [12:23<00:26,  1.53it/s]\u001b[A\u001b[A\u001b[A\n",
      "\n",
      "\n",
      " 95%|█████████▍| 753/793 [12:24<00:25,  1.55it/s]\u001b[A\u001b[A\u001b[A\n",
      "\n",
      "\n",
      " 95%|█████████▌| 754/793 [12:24<00:24,  1.56it/s]\u001b[A\u001b[A\u001b[A\n",
      "\n",
      "\n",
      " 95%|█████████▌| 755/793 [12:25<00:24,  1.57it/s]\u001b[A\u001b[A\u001b[A\n",
      "\n",
      "\n",
      " 95%|█████████▌| 756/793 [12:26<00:22,  1.66it/s]\u001b[A\u001b[A\u001b[A\n",
      "\n",
      "\n",
      " 95%|█████████▌| 757/793 [12:26<00:20,  1.72it/s]\u001b[A\u001b[A\u001b[A\n",
      "\n",
      "\n",
      " 96%|█████████▌| 758/793 [12:27<00:19,  1.75it/s]\u001b[A\u001b[A\u001b[A\n",
      "\n",
      "\n",
      " 96%|█████████▌| 759/793 [12:27<00:20,  1.64it/s]\u001b[A\u001b[A\u001b[A\n",
      "\n",
      "\n",
      " 96%|█████████▌| 760/793 [12:28<00:20,  1.63it/s]\u001b[A\u001b[A\u001b[A\n",
      "\n",
      "\n",
      " 96%|█████████▌| 761/793 [12:29<00:18,  1.70it/s]\u001b[A\u001b[A\u001b[A\n",
      "\n",
      "\n",
      " 96%|█████████▌| 762/793 [12:29<00:18,  1.67it/s]\u001b[A\u001b[A\u001b[A\n",
      "\n",
      "\n",
      " 96%|█████████▌| 763/793 [12:30<00:18,  1.65it/s]\u001b[A\u001b[A\u001b[A\n",
      "\n",
      "\n",
      " 96%|█████████▋| 764/793 [12:30<00:17,  1.63it/s]\u001b[A\u001b[A\u001b[A\n",
      "\n",
      "\n",
      " 96%|█████████▋| 765/793 [12:31<00:17,  1.61it/s]\u001b[A\u001b[A\u001b[A\n",
      "\n",
      "\n",
      " 97%|█████████▋| 766/793 [12:32<00:16,  1.61it/s]\u001b[A\u001b[A\u001b[A\n",
      "\n",
      "\n",
      " 97%|█████████▋| 767/793 [12:32<00:16,  1.61it/s]\u001b[A\u001b[A\u001b[A\n",
      "\n",
      "\n",
      " 97%|█████████▋| 768/793 [12:33<00:14,  1.70it/s]\u001b[A\u001b[A\u001b[A\n",
      "\n",
      "\n",
      " 97%|█████████▋| 769/793 [12:33<00:13,  1.77it/s]\u001b[A\u001b[A\u001b[A\n",
      "\n",
      "\n",
      " 97%|█████████▋| 770/793 [12:34<00:12,  1.78it/s]\u001b[A\u001b[A\u001b[A\n",
      "\n",
      "\n",
      " 97%|█████████▋| 771/793 [12:34<00:12,  1.78it/s]\u001b[A\u001b[A\u001b[A\n",
      "\n",
      "\n",
      " 97%|█████████▋| 772/793 [12:35<00:12,  1.67it/s]\u001b[A\u001b[A\u001b[A\n",
      "\n",
      "\n",
      " 97%|█████████▋| 773/793 [12:36<00:11,  1.75it/s]\u001b[A\u001b[A\u001b[A\n",
      "\n",
      "\n",
      " 98%|█████████▊| 774/793 [12:36<00:10,  1.77it/s]\u001b[A\u001b[A\u001b[A\n",
      "\n",
      "\n",
      " 98%|█████████▊| 775/793 [12:37<00:10,  1.72it/s]\u001b[A\u001b[A\u001b[A\n",
      "\n",
      "\n",
      " 98%|█████████▊| 776/793 [12:38<00:10,  1.60it/s]\u001b[A\u001b[A\u001b[A\n",
      "\n",
      "\n",
      " 98%|█████████▊| 777/793 [12:38<00:10,  1.59it/s]\u001b[A\u001b[A\u001b[A\n",
      "\n",
      "\n",
      " 98%|█████████▊| 778/793 [12:39<00:10,  1.46it/s]\u001b[A\u001b[A\u001b[A\n",
      "\n",
      "\n",
      " 98%|█████████▊| 779/793 [12:40<00:09,  1.43it/s]\u001b[A\u001b[A\u001b[A\n",
      "\n",
      "\n",
      " 98%|█████████▊| 780/793 [12:40<00:08,  1.55it/s]\u001b[A\u001b[A\u001b[A\n",
      "\n",
      "\n",
      " 98%|█████████▊| 781/793 [12:41<00:08,  1.49it/s]\u001b[A\u001b[A\u001b[A\n",
      "\n",
      "\n",
      " 99%|█████████▊| 782/793 [12:42<00:07,  1.39it/s]\u001b[A\u001b[A\u001b[A\n",
      "\n",
      "\n",
      " 99%|█████████▊| 783/793 [12:42<00:06,  1.52it/s]\u001b[A\u001b[A\u001b[A\n",
      "\n",
      "\n",
      " 99%|█████████▉| 784/793 [12:43<00:05,  1.62it/s]\u001b[A\u001b[A\u001b[A\n",
      "\n",
      "\n",
      " 99%|█████████▉| 785/793 [12:43<00:04,  1.70it/s]\u001b[A\u001b[A\u001b[A\n",
      "\n",
      "\n",
      " 99%|█████████▉| 786/793 [12:44<00:04,  1.75it/s]\u001b[A\u001b[A\u001b[A\n",
      "\n",
      "\n",
      " 99%|█████████▉| 787/793 [12:44<00:03,  1.79it/s]\u001b[A\u001b[A\u001b[A\n",
      "\n",
      "\n",
      " 99%|█████████▉| 788/793 [12:45<00:02,  1.82it/s]\u001b[A\u001b[A\u001b[A\n",
      "\n",
      "\n",
      " 99%|█████████▉| 789/793 [12:45<00:02,  1.80it/s]\u001b[A\u001b[A\u001b[A\n",
      "\n",
      "\n",
      "100%|█████████▉| 790/793 [12:46<00:01,  1.76it/s]\u001b[A\u001b[A\u001b[A\n",
      "\n",
      "\n",
      "100%|█████████▉| 791/793 [12:47<00:01,  1.64it/s]\u001b[A\u001b[A\u001b[A\n",
      "\n",
      "\n",
      "100%|█████████▉| 792/793 [12:47<00:00,  1.63it/s]\u001b[A\u001b[A\u001b[A\n",
      "\n",
      "\n",
      "100%|██████████| 793/793 [12:48<00:00,  1.69it/s]\u001b[A\u001b[A\u001b[A\n",
      "\n",
      "\n",
      "\u001b[A\u001b[A\u001b[A"
     ]
    },
    {
     "data": {
      "text/plain": [
       "1313184"
      ]
     },
     "execution_count": 32,
     "metadata": {},
     "output_type": "execute_result"
    }
   ],
   "source": [
    "#query?service=aeolus&meta=drugpairReactionCounts&q=0\n",
    "data = nsides_api('aeolus', 'drugpairReactionCounts', {'q':0})\n",
    "\n",
    "aeolus_drugpairReactionCounts = dict()\n",
    "aeolus_drugpairReactionCounts['results'] = list()\n",
    "\n",
    "for start in tqdm(range(0, data[0]['nrows'][0], 10000)):    \n",
    "    aeolus_drugpairReactionCounts['results'].extend(data[0]['results'])    \n",
    "    start = len(aeolus_drugpairReactionCounts['results'])\n",
    "    data = nsides_api('aeolus', 'drugpairReactionCounts', {'q': start})\n",
    "\n",
    "len(aeolus_drugpairReactionCounts['results'])"
   ]
  },
  {
   "cell_type": "code",
   "execution_count": 33,
   "metadata": {},
   "outputs": [
    {
     "data": {
      "text/plain": [
       "{u'drug1_concept_id': 19111620,\n",
       " u'drug2_concept_id': 19122121,\n",
       " u'n_d1d2': 722,\n",
       " u'n_d1d2ae': 38,\n",
       " u'outcome_concept_id': 37622529}"
      ]
     },
     "execution_count": 33,
     "metadata": {},
     "output_type": "execute_result"
    }
   ],
   "source": [
    "aeolus_drugpairReactionCounts['results'][0]"
   ]
  },
  {
   "cell_type": "code",
   "execution_count": 34,
   "metadata": {
    "collapsed": true
   },
   "outputs": [],
   "source": [
    "# build the frequency table for drugpairs\n",
    "def make_lsd_testing_table():\n",
    "    ae_frequencies_ddi_testing = np.zeros((len(all_drugpairs),len(all_pairoutcomes)))\n",
    "    \n",
    "    for r in tqdm(aeolus_drugpairReactionCounts['results']):\n",
    "        \n",
    "        drugpair = (r['drug1_concept_id'],r['drug2_concept_id'])\n",
    "        if r['outcome_concept_id'] in all_pairoutcomes:\n",
    "            x_index = all_drugpairs.index(drugpair)\n",
    "            y_index = all_pairoutcomes.index(r['outcome_concept_id'])\n",
    "            \n",
    "            frequency = float(r['n_d1d2ae'])/float(r['n_d1d2'])\n",
    "            \n",
    "            ae_frequencies_ddi_testing[x_index,y_index] = frequency    \n",
    "                \n",
    "    return ae_frequencies_ddi_testing"
   ]
  },
  {
   "cell_type": "code",
   "execution_count": 35,
   "metadata": {},
   "outputs": [
    {
     "name": "stderr",
     "output_type": "stream",
     "text": [
      "100%|██████████| 1313184/1313184 [16:43<00:00, 1308.82it/s]\n"
     ]
    }
   ],
   "source": [
    "X_test = make_lsd_testing_table()"
   ]
  },
  {
   "cell_type": "code",
   "execution_count": 36,
   "metadata": {},
   "outputs": [
    {
     "name": "stdout",
     "output_type": "stream",
     "text": [
      "(528, 199)\n",
      "(39800, 199)\n",
      "(528,)\n",
      "28\n"
     ]
    },
    {
     "data": {
      "text/plain": [
       "(72613.835694147696, 0.009168182077996476)"
      ]
     },
     "execution_count": 36,
     "metadata": {},
     "output_type": "execute_result"
    }
   ],
   "source": [
    "print X.shape #Dimension of the ae frequencies training table\n",
    "print X_test.shape #Dimension of the ae frequencies ddi testing table\n",
    "print y.shape #Number of outcomes (positive + negative controls)\n",
    "\n",
    "#print len(aeolus_drugpairReactionCounts['results'])\n",
    "\n",
    "print np.sum(y)\n",
    "\n",
    "X_test.sum(), X_test.mean()"
   ]
  },
  {
   "cell_type": "markdown",
   "metadata": {},
   "source": [
    "## Features reduction (to avoid overfitting)"
   ]
  },
  {
   "cell_type": "code",
   "execution_count": 29,
   "metadata": {
    "collapsed": true
   },
   "outputs": [],
   "source": [
    "#Need to reduce the number of features: 199 features is too much compared to 'only' 272 examples (i.e pos+neg controls)\n",
    "#Method: L1 (lasso) regularization + 10 fold cross-validation"
   ]
  },
  {
   "cell_type": "code",
   "execution_count": 37,
   "metadata": {
    "collapsed": true
   },
   "outputs": [],
   "source": [
    "# Features reduction using L1 regularization + 10-folds cross-validation\n",
    "\n",
    "def l1_regression(X, y, alpha, predictions):\n",
    "    l1 = Lasso(alpha=alpha,fit_intercept=True, max_iter=100000, tol=0.0001)\n",
    "    l1.fit(X,y)\n",
    "    y_pred = l1.predict(X)\n",
    "    coef = l1.coef_\n",
    "    \n",
    "    auc_score = roc_auc_score(y, y_pred)\n",
    "    print 'auc score: %f' %auc_score\n",
    "    predictions.append([(pred, label) for label,pred in zip(y, y_pred)])\n",
    "    \n",
    "    nb_coef = 0\n",
    "    for i in range (0, len(coef)):\n",
    "        if coef[i] != 0.:\n",
    "            nb_coef+=1\n",
    "    print \"Number of coef with alpha = %f: %d\" %(alpha,nb_coef)\n",
    "    #print \"l1 intercept: %f \" %l1.intercept_\n",
    "    return coef, auc_score   "
   ]
  },
  {
   "cell_type": "code",
   "execution_count": 57,
   "metadata": {},
   "outputs": [
    {
     "name": "stdout",
     "output_type": "stream",
     "text": [
      "auc score: 0.956357\n",
      "Number of coef with alpha = 0.000020: 32\n",
      "auc score: 0.941571\n",
      "Number of coef with alpha = 0.000030: 19\n",
      "auc score: 0.936786\n",
      "Number of coef with alpha = 0.000040: 11\n",
      "auc score: 0.931571\n",
      "Number of coef with alpha = 0.000060: 9\n",
      "auc score: 0.930143\n",
      "Number of coef with alpha = 0.000070: 6\n",
      "auc score: 0.929429\n",
      "Number of coef with alpha = 0.000080: 6\n",
      "auc score: 0.928000\n",
      "Number of coef with alpha = 0.000090: 6\n",
      "auc score: 0.926714\n",
      "Number of coef with alpha = 0.000100: 6\n",
      "auc score: 0.900536\n",
      "Number of coef with alpha = 0.000200: 3\n",
      "auc score: 0.500000\n",
      "Number of coef with alpha = 0.000300: 0\n",
      "auc score: 0.500000\n",
      "Number of coef with alpha = 0.000400: 0\n",
      "auc score: 0.500000\n",
      "Number of coef with alpha = 0.000600: 0\n",
      "auc score: 0.500000\n",
      "Number of coef with alpha = 0.000700: 0\n"
     ]
    }
   ],
   "source": [
    "# We build 6 different potential fingerprint (with a different number of features each time)\n",
    "alphas = [0.00002, 0.00003, 0.00004, 0.00006, 0.00007, 0.00008, 0.00009, 1e-4, 0.0002, 0.0003, 0.0004, 0.0006, 0.0007]\n",
    "\n",
    "coef_lasso= np.zeros((len(alphas),len(all_pairoutcomes)))\n",
    "predictions = list()\n",
    "\n",
    "for i in range (0, len(alphas)):\n",
    "    coef, auc_score = l1_regression(X, y, alphas[i], predictions)\n",
    "    for j in range(0,len(all_pairoutcomes)):\n",
    "        coef_lasso[i][j] = coef[j] "
   ]
  },
  {
   "cell_type": "code",
   "execution_count": 39,
   "metadata": {},
   "outputs": [
    {
     "name": "stdout",
     "output_type": "stream",
     "text": [
      "28\n",
      "528\n",
      "[ 0.9125      0.94230769  0.83333333  0.99333333  0.8627451 ]\n",
      "28\n",
      "528\n",
      "[ 0.96666667  1.          0.93333333  1.          0.55333333]\n",
      "28\n",
      "528\n"
     ]
    },
    {
     "ename": "ValueError",
     "evalue": "Only one class present in y_true. ROC AUC score is not defined in that case.",
     "output_type": "error",
     "traceback": [
      "\u001b[0;31m---------------------------------------------------------------------------\u001b[0m",
      "\u001b[0;31mValueError\u001b[0m                                Traceback (most recent call last)",
      "\u001b[0;32m<ipython-input-39-308342972726>\u001b[0m in \u001b[0;36m<module>\u001b[0;34m()\u001b[0m\n\u001b[1;32m     10\u001b[0m     \u001b[0;32mprint\u001b[0m \u001b[0mlen\u001b[0m\u001b[0;34m(\u001b[0m\u001b[0my\u001b[0m\u001b[0;34m)\u001b[0m\u001b[0;34m\u001b[0m\u001b[0m\n\u001b[1;32m     11\u001b[0m     \u001b[0mcv\u001b[0m \u001b[0;34m=\u001b[0m \u001b[0mShuffleSplit\u001b[0m\u001b[0;34m(\u001b[0m\u001b[0mn_splits\u001b[0m\u001b[0;34m=\u001b[0m\u001b[0mn_folds\u001b[0m\u001b[0;34m)\u001b[0m\u001b[0;34m\u001b[0m\u001b[0m\n\u001b[0;32m---> 12\u001b[0;31m     \u001b[0mthis_scores\u001b[0m \u001b[0;34m=\u001b[0m \u001b[0mcross_val_score\u001b[0m\u001b[0;34m(\u001b[0m\u001b[0mlasso_fit\u001b[0m\u001b[0;34m,\u001b[0m \u001b[0mX\u001b[0m\u001b[0;34m,\u001b[0m \u001b[0my\u001b[0m\u001b[0;34m,\u001b[0m \u001b[0mscoring\u001b[0m\u001b[0;34m=\u001b[0m\u001b[0;34m'roc_auc'\u001b[0m\u001b[0;34m,\u001b[0m \u001b[0mcv\u001b[0m\u001b[0;34m=\u001b[0m\u001b[0mcv\u001b[0m\u001b[0;34m,\u001b[0m \u001b[0mn_jobs\u001b[0m\u001b[0;34m=\u001b[0m\u001b[0;36m1\u001b[0m\u001b[0;34m)\u001b[0m\u001b[0;34m\u001b[0m\u001b[0m\n\u001b[0m\u001b[1;32m     13\u001b[0m     \u001b[0;32mprint\u001b[0m \u001b[0mthis_scores\u001b[0m\u001b[0;34m\u001b[0m\u001b[0m\n\u001b[1;32m     14\u001b[0m     \u001b[0mscores\u001b[0m\u001b[0;34m.\u001b[0m\u001b[0mappend\u001b[0m\u001b[0;34m(\u001b[0m\u001b[0mnp\u001b[0m\u001b[0;34m.\u001b[0m\u001b[0mmean\u001b[0m\u001b[0;34m(\u001b[0m\u001b[0mthis_scores\u001b[0m\u001b[0;34m)\u001b[0m\u001b[0;34m)\u001b[0m\u001b[0;34m\u001b[0m\u001b[0m\n",
      "\u001b[0;32m/usr/local/lib/python2.7/dist-packages/sklearn/model_selection/_validation.pyc\u001b[0m in \u001b[0;36mcross_val_score\u001b[0;34m(estimator, X, y, groups, scoring, cv, n_jobs, verbose, fit_params, pre_dispatch)\u001b[0m\n\u001b[1;32m    138\u001b[0m                                               \u001b[0mtrain\u001b[0m\u001b[0;34m,\u001b[0m \u001b[0mtest\u001b[0m\u001b[0;34m,\u001b[0m \u001b[0mverbose\u001b[0m\u001b[0;34m,\u001b[0m \u001b[0mNone\u001b[0m\u001b[0;34m,\u001b[0m\u001b[0;34m\u001b[0m\u001b[0m\n\u001b[1;32m    139\u001b[0m                                               fit_params)\n\u001b[0;32m--> 140\u001b[0;31m                       for train, test in cv_iter)\n\u001b[0m\u001b[1;32m    141\u001b[0m     \u001b[0;32mreturn\u001b[0m \u001b[0mnp\u001b[0m\u001b[0;34m.\u001b[0m\u001b[0marray\u001b[0m\u001b[0;34m(\u001b[0m\u001b[0mscores\u001b[0m\u001b[0;34m)\u001b[0m\u001b[0;34m[\u001b[0m\u001b[0;34m:\u001b[0m\u001b[0;34m,\u001b[0m \u001b[0;36m0\u001b[0m\u001b[0;34m]\u001b[0m\u001b[0;34m\u001b[0m\u001b[0m\n\u001b[1;32m    142\u001b[0m \u001b[0;34m\u001b[0m\u001b[0m\n",
      "\u001b[0;32m/usr/local/lib/python2.7/dist-packages/sklearn/externals/joblib/parallel.pyc\u001b[0m in \u001b[0;36m__call__\u001b[0;34m(self, iterable)\u001b[0m\n\u001b[1;32m    756\u001b[0m             \u001b[0;31m# was dispatched. In particular this covers the edge\u001b[0m\u001b[0;34m\u001b[0m\u001b[0;34m\u001b[0m\u001b[0m\n\u001b[1;32m    757\u001b[0m             \u001b[0;31m# case of Parallel used with an exhausted iterator.\u001b[0m\u001b[0;34m\u001b[0m\u001b[0;34m\u001b[0m\u001b[0m\n\u001b[0;32m--> 758\u001b[0;31m             \u001b[0;32mwhile\u001b[0m \u001b[0mself\u001b[0m\u001b[0;34m.\u001b[0m\u001b[0mdispatch_one_batch\u001b[0m\u001b[0;34m(\u001b[0m\u001b[0miterator\u001b[0m\u001b[0;34m)\u001b[0m\u001b[0;34m:\u001b[0m\u001b[0;34m\u001b[0m\u001b[0m\n\u001b[0m\u001b[1;32m    759\u001b[0m                 \u001b[0mself\u001b[0m\u001b[0;34m.\u001b[0m\u001b[0m_iterating\u001b[0m \u001b[0;34m=\u001b[0m \u001b[0mTrue\u001b[0m\u001b[0;34m\u001b[0m\u001b[0m\n\u001b[1;32m    760\u001b[0m             \u001b[0;32melse\u001b[0m\u001b[0;34m:\u001b[0m\u001b[0;34m\u001b[0m\u001b[0m\n",
      "\u001b[0;32m/usr/local/lib/python2.7/dist-packages/sklearn/externals/joblib/parallel.pyc\u001b[0m in \u001b[0;36mdispatch_one_batch\u001b[0;34m(self, iterator)\u001b[0m\n\u001b[1;32m    606\u001b[0m                 \u001b[0;32mreturn\u001b[0m \u001b[0mFalse\u001b[0m\u001b[0;34m\u001b[0m\u001b[0m\n\u001b[1;32m    607\u001b[0m             \u001b[0;32melse\u001b[0m\u001b[0;34m:\u001b[0m\u001b[0;34m\u001b[0m\u001b[0m\n\u001b[0;32m--> 608\u001b[0;31m                 \u001b[0mself\u001b[0m\u001b[0;34m.\u001b[0m\u001b[0m_dispatch\u001b[0m\u001b[0;34m(\u001b[0m\u001b[0mtasks\u001b[0m\u001b[0;34m)\u001b[0m\u001b[0;34m\u001b[0m\u001b[0m\n\u001b[0m\u001b[1;32m    609\u001b[0m                 \u001b[0;32mreturn\u001b[0m \u001b[0mTrue\u001b[0m\u001b[0;34m\u001b[0m\u001b[0m\n\u001b[1;32m    610\u001b[0m \u001b[0;34m\u001b[0m\u001b[0m\n",
      "\u001b[0;32m/usr/local/lib/python2.7/dist-packages/sklearn/externals/joblib/parallel.pyc\u001b[0m in \u001b[0;36m_dispatch\u001b[0;34m(self, batch)\u001b[0m\n\u001b[1;32m    569\u001b[0m         \u001b[0mdispatch_timestamp\u001b[0m \u001b[0;34m=\u001b[0m \u001b[0mtime\u001b[0m\u001b[0;34m.\u001b[0m\u001b[0mtime\u001b[0m\u001b[0;34m(\u001b[0m\u001b[0;34m)\u001b[0m\u001b[0;34m\u001b[0m\u001b[0m\n\u001b[1;32m    570\u001b[0m         \u001b[0mcb\u001b[0m \u001b[0;34m=\u001b[0m \u001b[0mBatchCompletionCallBack\u001b[0m\u001b[0;34m(\u001b[0m\u001b[0mdispatch_timestamp\u001b[0m\u001b[0;34m,\u001b[0m \u001b[0mlen\u001b[0m\u001b[0;34m(\u001b[0m\u001b[0mbatch\u001b[0m\u001b[0;34m)\u001b[0m\u001b[0;34m,\u001b[0m \u001b[0mself\u001b[0m\u001b[0;34m)\u001b[0m\u001b[0;34m\u001b[0m\u001b[0m\n\u001b[0;32m--> 571\u001b[0;31m         \u001b[0mjob\u001b[0m \u001b[0;34m=\u001b[0m \u001b[0mself\u001b[0m\u001b[0;34m.\u001b[0m\u001b[0m_backend\u001b[0m\u001b[0;34m.\u001b[0m\u001b[0mapply_async\u001b[0m\u001b[0;34m(\u001b[0m\u001b[0mbatch\u001b[0m\u001b[0;34m,\u001b[0m \u001b[0mcallback\u001b[0m\u001b[0;34m=\u001b[0m\u001b[0mcb\u001b[0m\u001b[0;34m)\u001b[0m\u001b[0;34m\u001b[0m\u001b[0m\n\u001b[0m\u001b[1;32m    572\u001b[0m         \u001b[0mself\u001b[0m\u001b[0;34m.\u001b[0m\u001b[0m_jobs\u001b[0m\u001b[0;34m.\u001b[0m\u001b[0mappend\u001b[0m\u001b[0;34m(\u001b[0m\u001b[0mjob\u001b[0m\u001b[0;34m)\u001b[0m\u001b[0;34m\u001b[0m\u001b[0m\n\u001b[1;32m    573\u001b[0m \u001b[0;34m\u001b[0m\u001b[0m\n",
      "\u001b[0;32m/usr/local/lib/python2.7/dist-packages/sklearn/externals/joblib/_parallel_backends.pyc\u001b[0m in \u001b[0;36mapply_async\u001b[0;34m(self, func, callback)\u001b[0m\n\u001b[1;32m    107\u001b[0m     \u001b[0;32mdef\u001b[0m \u001b[0mapply_async\u001b[0m\u001b[0;34m(\u001b[0m\u001b[0mself\u001b[0m\u001b[0;34m,\u001b[0m \u001b[0mfunc\u001b[0m\u001b[0;34m,\u001b[0m \u001b[0mcallback\u001b[0m\u001b[0;34m=\u001b[0m\u001b[0mNone\u001b[0m\u001b[0;34m)\u001b[0m\u001b[0;34m:\u001b[0m\u001b[0;34m\u001b[0m\u001b[0m\n\u001b[1;32m    108\u001b[0m         \u001b[0;34m\"\"\"Schedule a func to be run\"\"\"\u001b[0m\u001b[0;34m\u001b[0m\u001b[0m\n\u001b[0;32m--> 109\u001b[0;31m         \u001b[0mresult\u001b[0m \u001b[0;34m=\u001b[0m \u001b[0mImmediateResult\u001b[0m\u001b[0;34m(\u001b[0m\u001b[0mfunc\u001b[0m\u001b[0;34m)\u001b[0m\u001b[0;34m\u001b[0m\u001b[0m\n\u001b[0m\u001b[1;32m    110\u001b[0m         \u001b[0;32mif\u001b[0m \u001b[0mcallback\u001b[0m\u001b[0;34m:\u001b[0m\u001b[0;34m\u001b[0m\u001b[0m\n\u001b[1;32m    111\u001b[0m             \u001b[0mcallback\u001b[0m\u001b[0;34m(\u001b[0m\u001b[0mresult\u001b[0m\u001b[0;34m)\u001b[0m\u001b[0;34m\u001b[0m\u001b[0m\n",
      "\u001b[0;32m/usr/local/lib/python2.7/dist-packages/sklearn/externals/joblib/_parallel_backends.pyc\u001b[0m in \u001b[0;36m__init__\u001b[0;34m(self, batch)\u001b[0m\n\u001b[1;32m    324\u001b[0m         \u001b[0;31m# Don't delay the application, to avoid keeping the input\u001b[0m\u001b[0;34m\u001b[0m\u001b[0;34m\u001b[0m\u001b[0m\n\u001b[1;32m    325\u001b[0m         \u001b[0;31m# arguments in memory\u001b[0m\u001b[0;34m\u001b[0m\u001b[0;34m\u001b[0m\u001b[0m\n\u001b[0;32m--> 326\u001b[0;31m         \u001b[0mself\u001b[0m\u001b[0;34m.\u001b[0m\u001b[0mresults\u001b[0m \u001b[0;34m=\u001b[0m \u001b[0mbatch\u001b[0m\u001b[0;34m(\u001b[0m\u001b[0;34m)\u001b[0m\u001b[0;34m\u001b[0m\u001b[0m\n\u001b[0m\u001b[1;32m    327\u001b[0m \u001b[0;34m\u001b[0m\u001b[0m\n\u001b[1;32m    328\u001b[0m     \u001b[0;32mdef\u001b[0m \u001b[0mget\u001b[0m\u001b[0;34m(\u001b[0m\u001b[0mself\u001b[0m\u001b[0;34m)\u001b[0m\u001b[0;34m:\u001b[0m\u001b[0;34m\u001b[0m\u001b[0m\n",
      "\u001b[0;32m/usr/local/lib/python2.7/dist-packages/sklearn/externals/joblib/parallel.pyc\u001b[0m in \u001b[0;36m__call__\u001b[0;34m(self)\u001b[0m\n\u001b[1;32m    129\u001b[0m \u001b[0;34m\u001b[0m\u001b[0m\n\u001b[1;32m    130\u001b[0m     \u001b[0;32mdef\u001b[0m \u001b[0m__call__\u001b[0m\u001b[0;34m(\u001b[0m\u001b[0mself\u001b[0m\u001b[0;34m)\u001b[0m\u001b[0;34m:\u001b[0m\u001b[0;34m\u001b[0m\u001b[0m\n\u001b[0;32m--> 131\u001b[0;31m         \u001b[0;32mreturn\u001b[0m \u001b[0;34m[\u001b[0m\u001b[0mfunc\u001b[0m\u001b[0;34m(\u001b[0m\u001b[0;34m*\u001b[0m\u001b[0margs\u001b[0m\u001b[0;34m,\u001b[0m \u001b[0;34m**\u001b[0m\u001b[0mkwargs\u001b[0m\u001b[0;34m)\u001b[0m \u001b[0;32mfor\u001b[0m \u001b[0mfunc\u001b[0m\u001b[0;34m,\u001b[0m \u001b[0margs\u001b[0m\u001b[0;34m,\u001b[0m \u001b[0mkwargs\u001b[0m \u001b[0;32min\u001b[0m \u001b[0mself\u001b[0m\u001b[0;34m.\u001b[0m\u001b[0mitems\u001b[0m\u001b[0;34m]\u001b[0m\u001b[0;34m\u001b[0m\u001b[0m\n\u001b[0m\u001b[1;32m    132\u001b[0m \u001b[0;34m\u001b[0m\u001b[0m\n\u001b[1;32m    133\u001b[0m     \u001b[0;32mdef\u001b[0m \u001b[0m__len__\u001b[0m\u001b[0;34m(\u001b[0m\u001b[0mself\u001b[0m\u001b[0;34m)\u001b[0m\u001b[0;34m:\u001b[0m\u001b[0;34m\u001b[0m\u001b[0m\n",
      "\u001b[0;32m/usr/local/lib/python2.7/dist-packages/sklearn/model_selection/_validation.pyc\u001b[0m in \u001b[0;36m_fit_and_score\u001b[0;34m(estimator, X, y, scorer, train, test, verbose, parameters, fit_params, return_train_score, return_parameters, return_n_test_samples, return_times, error_score)\u001b[0m\n\u001b[1;32m    258\u001b[0m     \u001b[0;32melse\u001b[0m\u001b[0;34m:\u001b[0m\u001b[0;34m\u001b[0m\u001b[0m\n\u001b[1;32m    259\u001b[0m         \u001b[0mfit_time\u001b[0m \u001b[0;34m=\u001b[0m \u001b[0mtime\u001b[0m\u001b[0;34m.\u001b[0m\u001b[0mtime\u001b[0m\u001b[0;34m(\u001b[0m\u001b[0;34m)\u001b[0m \u001b[0;34m-\u001b[0m \u001b[0mstart_time\u001b[0m\u001b[0;34m\u001b[0m\u001b[0m\n\u001b[0;32m--> 260\u001b[0;31m         \u001b[0mtest_score\u001b[0m \u001b[0;34m=\u001b[0m \u001b[0m_score\u001b[0m\u001b[0;34m(\u001b[0m\u001b[0mestimator\u001b[0m\u001b[0;34m,\u001b[0m \u001b[0mX_test\u001b[0m\u001b[0;34m,\u001b[0m \u001b[0my_test\u001b[0m\u001b[0;34m,\u001b[0m \u001b[0mscorer\u001b[0m\u001b[0;34m)\u001b[0m\u001b[0;34m\u001b[0m\u001b[0m\n\u001b[0m\u001b[1;32m    261\u001b[0m         \u001b[0mscore_time\u001b[0m \u001b[0;34m=\u001b[0m \u001b[0mtime\u001b[0m\u001b[0;34m.\u001b[0m\u001b[0mtime\u001b[0m\u001b[0;34m(\u001b[0m\u001b[0;34m)\u001b[0m \u001b[0;34m-\u001b[0m \u001b[0mstart_time\u001b[0m \u001b[0;34m-\u001b[0m \u001b[0mfit_time\u001b[0m\u001b[0;34m\u001b[0m\u001b[0m\n\u001b[1;32m    262\u001b[0m         \u001b[0;32mif\u001b[0m \u001b[0mreturn_train_score\u001b[0m\u001b[0;34m:\u001b[0m\u001b[0;34m\u001b[0m\u001b[0m\n",
      "\u001b[0;32m/usr/local/lib/python2.7/dist-packages/sklearn/model_selection/_validation.pyc\u001b[0m in \u001b[0;36m_score\u001b[0;34m(estimator, X_test, y_test, scorer)\u001b[0m\n\u001b[1;32m    286\u001b[0m         \u001b[0mscore\u001b[0m \u001b[0;34m=\u001b[0m \u001b[0mscorer\u001b[0m\u001b[0;34m(\u001b[0m\u001b[0mestimator\u001b[0m\u001b[0;34m,\u001b[0m \u001b[0mX_test\u001b[0m\u001b[0;34m)\u001b[0m\u001b[0;34m\u001b[0m\u001b[0m\n\u001b[1;32m    287\u001b[0m     \u001b[0;32melse\u001b[0m\u001b[0;34m:\u001b[0m\u001b[0;34m\u001b[0m\u001b[0m\n\u001b[0;32m--> 288\u001b[0;31m         \u001b[0mscore\u001b[0m \u001b[0;34m=\u001b[0m \u001b[0mscorer\u001b[0m\u001b[0;34m(\u001b[0m\u001b[0mestimator\u001b[0m\u001b[0;34m,\u001b[0m \u001b[0mX_test\u001b[0m\u001b[0;34m,\u001b[0m \u001b[0my_test\u001b[0m\u001b[0;34m)\u001b[0m\u001b[0;34m\u001b[0m\u001b[0m\n\u001b[0m\u001b[1;32m    289\u001b[0m     \u001b[0;32mif\u001b[0m \u001b[0mhasattr\u001b[0m\u001b[0;34m(\u001b[0m\u001b[0mscore\u001b[0m\u001b[0;34m,\u001b[0m \u001b[0;34m'item'\u001b[0m\u001b[0;34m)\u001b[0m\u001b[0;34m:\u001b[0m\u001b[0;34m\u001b[0m\u001b[0m\n\u001b[1;32m    290\u001b[0m         \u001b[0;32mtry\u001b[0m\u001b[0;34m:\u001b[0m\u001b[0;34m\u001b[0m\u001b[0m\n",
      "\u001b[0;32m/usr/local/lib/python2.7/dist-packages/sklearn/metrics/scorer.pyc\u001b[0m in \u001b[0;36m__call__\u001b[0;34m(self, clf, X, y, sample_weight)\u001b[0m\n\u001b[1;32m    194\u001b[0m                                                  **self._kwargs)\n\u001b[1;32m    195\u001b[0m         \u001b[0;32melse\u001b[0m\u001b[0;34m:\u001b[0m\u001b[0;34m\u001b[0m\u001b[0m\n\u001b[0;32m--> 196\u001b[0;31m             \u001b[0;32mreturn\u001b[0m \u001b[0mself\u001b[0m\u001b[0;34m.\u001b[0m\u001b[0m_sign\u001b[0m \u001b[0;34m*\u001b[0m \u001b[0mself\u001b[0m\u001b[0;34m.\u001b[0m\u001b[0m_score_func\u001b[0m\u001b[0;34m(\u001b[0m\u001b[0my\u001b[0m\u001b[0;34m,\u001b[0m \u001b[0my_pred\u001b[0m\u001b[0;34m,\u001b[0m \u001b[0;34m**\u001b[0m\u001b[0mself\u001b[0m\u001b[0;34m.\u001b[0m\u001b[0m_kwargs\u001b[0m\u001b[0;34m)\u001b[0m\u001b[0;34m\u001b[0m\u001b[0m\n\u001b[0m\u001b[1;32m    197\u001b[0m \u001b[0;34m\u001b[0m\u001b[0m\n\u001b[1;32m    198\u001b[0m     \u001b[0;32mdef\u001b[0m \u001b[0m_factory_args\u001b[0m\u001b[0;34m(\u001b[0m\u001b[0mself\u001b[0m\u001b[0;34m)\u001b[0m\u001b[0;34m:\u001b[0m\u001b[0;34m\u001b[0m\u001b[0m\n",
      "\u001b[0;32m/usr/local/lib/python2.7/dist-packages/sklearn/metrics/ranking.pyc\u001b[0m in \u001b[0;36mroc_auc_score\u001b[0;34m(y_true, y_score, average, sample_weight)\u001b[0m\n\u001b[1;32m    258\u001b[0m     return _average_binary_score(\n\u001b[1;32m    259\u001b[0m         \u001b[0m_binary_roc_auc_score\u001b[0m\u001b[0;34m,\u001b[0m \u001b[0my_true\u001b[0m\u001b[0;34m,\u001b[0m \u001b[0my_score\u001b[0m\u001b[0;34m,\u001b[0m \u001b[0maverage\u001b[0m\u001b[0;34m,\u001b[0m\u001b[0;34m\u001b[0m\u001b[0m\n\u001b[0;32m--> 260\u001b[0;31m         sample_weight=sample_weight)\n\u001b[0m\u001b[1;32m    261\u001b[0m \u001b[0;34m\u001b[0m\u001b[0m\n\u001b[1;32m    262\u001b[0m \u001b[0;34m\u001b[0m\u001b[0m\n",
      "\u001b[0;32m/usr/local/lib/python2.7/dist-packages/sklearn/metrics/base.pyc\u001b[0m in \u001b[0;36m_average_binary_score\u001b[0;34m(binary_metric, y_true, y_score, average, sample_weight)\u001b[0m\n\u001b[1;32m     82\u001b[0m \u001b[0;34m\u001b[0m\u001b[0m\n\u001b[1;32m     83\u001b[0m     \u001b[0;32mif\u001b[0m \u001b[0my_type\u001b[0m \u001b[0;34m==\u001b[0m \u001b[0;34m\"binary\"\u001b[0m\u001b[0;34m:\u001b[0m\u001b[0;34m\u001b[0m\u001b[0m\n\u001b[0;32m---> 84\u001b[0;31m         \u001b[0;32mreturn\u001b[0m \u001b[0mbinary_metric\u001b[0m\u001b[0;34m(\u001b[0m\u001b[0my_true\u001b[0m\u001b[0;34m,\u001b[0m \u001b[0my_score\u001b[0m\u001b[0;34m,\u001b[0m \u001b[0msample_weight\u001b[0m\u001b[0;34m=\u001b[0m\u001b[0msample_weight\u001b[0m\u001b[0;34m)\u001b[0m\u001b[0;34m\u001b[0m\u001b[0m\n\u001b[0m\u001b[1;32m     85\u001b[0m \u001b[0;34m\u001b[0m\u001b[0m\n\u001b[1;32m     86\u001b[0m     \u001b[0mcheck_consistent_length\u001b[0m\u001b[0;34m(\u001b[0m\u001b[0my_true\u001b[0m\u001b[0;34m,\u001b[0m \u001b[0my_score\u001b[0m\u001b[0;34m,\u001b[0m \u001b[0msample_weight\u001b[0m\u001b[0;34m)\u001b[0m\u001b[0;34m\u001b[0m\u001b[0m\n",
      "\u001b[0;32m/usr/local/lib/python2.7/dist-packages/sklearn/metrics/ranking.pyc\u001b[0m in \u001b[0;36m_binary_roc_auc_score\u001b[0;34m(y_true, y_score, sample_weight)\u001b[0m\n\u001b[1;32m    249\u001b[0m     \u001b[0;32mdef\u001b[0m \u001b[0m_binary_roc_auc_score\u001b[0m\u001b[0;34m(\u001b[0m\u001b[0my_true\u001b[0m\u001b[0;34m,\u001b[0m \u001b[0my_score\u001b[0m\u001b[0;34m,\u001b[0m \u001b[0msample_weight\u001b[0m\u001b[0;34m=\u001b[0m\u001b[0mNone\u001b[0m\u001b[0;34m)\u001b[0m\u001b[0;34m:\u001b[0m\u001b[0;34m\u001b[0m\u001b[0m\n\u001b[1;32m    250\u001b[0m         \u001b[0;32mif\u001b[0m \u001b[0mlen\u001b[0m\u001b[0;34m(\u001b[0m\u001b[0mnp\u001b[0m\u001b[0;34m.\u001b[0m\u001b[0munique\u001b[0m\u001b[0;34m(\u001b[0m\u001b[0my_true\u001b[0m\u001b[0;34m)\u001b[0m\u001b[0;34m)\u001b[0m \u001b[0;34m!=\u001b[0m \u001b[0;36m2\u001b[0m\u001b[0;34m:\u001b[0m\u001b[0;34m\u001b[0m\u001b[0m\n\u001b[0;32m--> 251\u001b[0;31m             raise ValueError(\"Only one class present in y_true. ROC AUC score \"\n\u001b[0m\u001b[1;32m    252\u001b[0m                              \"is not defined in that case.\")\n\u001b[1;32m    253\u001b[0m \u001b[0;34m\u001b[0m\u001b[0m\n",
      "\u001b[0;31mValueError\u001b[0m: Only one class present in y_true. ROC AUC score is not defined in that case."
     ]
    }
   ],
   "source": [
    "# We use 10-fold cross-validation to evaluate the models\n",
    "n_folds = 5\n",
    "scores = list()\n",
    "scores_std = list()\n",
    "\n",
    "for alpha in alphas:\n",
    "    lasso = Lasso(alpha=alpha,fit_intercept=True, max_iter=100000, tol=0.0001)\n",
    "    lasso_fit = lasso.fit(X,y)\n",
    "    print y.sum()\n",
    "    print len(y)\n",
    "    cv = ShuffleSplit(n_splits=n_folds)\n",
    "    this_scores = cross_val_score(lasso_fit, X, y, scoring='roc_auc', cv=cv, n_jobs=1)\n",
    "    print this_scores\n",
    "    scores.append(np.mean(this_scores))\n",
    "    scores_std.append(np.std(this_scores))\n",
    "\n",
    "scores, scores_std = np.array(scores), np.array(scores_std)\n",
    "print scores\n",
    "\n",
    "plt.figure().set_size_inches(8, 6)\n",
    "plt.semilogx(alphas, scores)\n",
    "\n",
    "# plot error lines showing +/- std. errors of the scores\n",
    "std_error = scores_std / np.sqrt(n_folds)\n",
    "\n",
    "plt.semilogx(alphas, scores + std_error, 'b--')\n",
    "plt.semilogx(alphas, scores - std_error, 'b--')\n",
    "\n",
    "# alpha=0.2 controls the translucency of the fill color\n",
    "plt.fill_between(alphas, scores + std_error, scores - std_error, alpha=0.2)\n",
    "\n",
    "plt.ylabel('CV score +/- std error')\n",
    "plt.xlabel('alpha')\n",
    "plt.axhline(np.max(scores), linestyle='--', color='.5')\n",
    "plt.xlim([alphas[0], alphas[-1]])"
   ]
  },
  {
   "cell_type": "markdown",
   "metadata": {},
   "source": [
    "######  Selection of alpha depending on the validation score\n",
    "Depending on the way the test group is picked, we have different values of alpha. \n",
    "So we test the model with three different values of alpha: [0.0001, 0.0002, 0.0003]"
   ]
  },
  {
   "cell_type": "code",
   "execution_count": 58,
   "metadata": {},
   "outputs": [
    {
     "name": "stdout",
     "output_type": "stream",
     "text": [
      "19\n",
      "19\n",
      "19\n",
      "35205038\n"
     ]
    }
   ],
   "source": [
    "# Extract the set of relevant features and their weight, alpha = 0.0002\n",
    "features_indice = list()\n",
    "features_weight = list()\n",
    "features = list()\n",
    "\n",
    "for i in range (len(coef_lasso[1])):\n",
    "    if coef_lasso[1][i] != 0.:\n",
    "        features_indice.append(i)\n",
    "\n",
    "print len(features_indice)\n",
    "\n",
    "for i in range (len(all_pairoutcomes)):\n",
    "    if i in features_indice:\n",
    "        features.append(all_pairoutcomes[i])\n",
    "        features_weight.append((all_pairoutcomes[i], coef_lasso[1][i]))\n",
    "\n",
    "print len(features)\n",
    "print len(features_weight)\n",
    "print features[0]"
   ]
  },
  {
   "cell_type": "code",
   "execution_count": 59,
   "metadata": {
    "collapsed": true
   },
   "outputs": [],
   "source": [
    "# Build the new frequency tables\n",
    "def make_lsd_training_table_reduced(features, pos_drugs = None, neg_drugs = None):\n",
    "\n",
    "    # we map positive and negative drugs from their concept_code to their concept_id\n",
    "    pos_drugs_mapped = list()\n",
    "    for pos_drug in pos_drugs:\n",
    "        pos_drugs_mapped.append(drug_mapping[pos_drug])\n",
    "        \n",
    "    neg_drugs_mapped = list()\n",
    "    for neg_drug in neg_drugs:\n",
    "        neg_drugs_mapped.append(drug_mapping[neg_drug])\n",
    "        \n",
    "    outcomes = np.concatenate((np.ones(len(pos_drugs),np.bool), np.zeros(len(neg_drugs),np.bool)))\n",
    "    \n",
    "    training_drugs = pos_drugs_mapped + neg_drugs_mapped\n",
    "    \n",
    "    # build the adverse events frequency table\n",
    "    ae_frequencies_training = np.zeros((len(pos_drugs)+len(neg_drugs),len(features)))\n",
    "    \n",
    "    for r in aeolus_drugReactionCounts['results']:\n",
    "        if not r['drug_concept_id'] in training_drugs:\n",
    "            continue\n",
    "        if not r['outcome_concept_id'] in features:\n",
    "            continue\n",
    "        \n",
    "        \n",
    "        i = training_drugs.index(r['drug_concept_id'])\n",
    "        j = features.index(r['outcome_concept_id'])\n",
    "        \n",
    "        frequency = float(r['nreports'])/float(r['ndrugreports'])\n",
    "        \n",
    "        ae_frequencies_training[i,j] = frequency\n",
    "                    \n",
    "    return ae_frequencies_training, outcomes\n",
    "\n",
    "\n",
    "# Build the frequency table for drugpairs\n",
    "def make_lsd_testing_table_reduced(features):\n",
    "    ae_frequencies_ddi_testing = np.zeros((len(all_drugpairs),len(features)))\n",
    "    \n",
    "    for r in tqdm(aeolus_drugpairReactionCounts['results']):\n",
    "        \n",
    "        drugpair = (r['drug1_concept_id'],r['drug2_concept_id'])\n",
    "        if r['outcome_concept_id'] in features:\n",
    "            x_index = all_drugpairs.index(drugpair)\n",
    "            y_index = features.index(r['outcome_concept_id'])\n",
    "            \n",
    "            frequency = float(r['n_d1d2ae'])/float(r['n_d1d2'])\n",
    "            #print frequency\n",
    "            \n",
    "            ae_frequencies_ddi_testing[x_index,y_index] = frequency    \n",
    "                \n",
    "    return ae_frequencies_ddi_testing"
   ]
  },
  {
   "cell_type": "code",
   "execution_count": 60,
   "metadata": {},
   "outputs": [
    {
     "name": "stdout",
     "output_type": "stream",
     "text": [
      "(528, 19)\n",
      "(528,)\n"
     ]
    }
   ],
   "source": [
    "X_reduced, y_reduced = make_lsd_training_table_reduced(features, pos_controls, neg_controls)\n",
    "\n",
    "print X_reduced.shape\n",
    "print y_reduced.shape"
   ]
  },
  {
   "cell_type": "code",
   "execution_count": 61,
   "metadata": {},
   "outputs": [
    {
     "name": "stderr",
     "output_type": "stream",
     "text": [
      "100%|██████████| 1313184/1313184 [02:35<00:00, 8429.65it/s] \n"
     ]
    }
   ],
   "source": [
    "X_test_reduced = make_lsd_testing_table_reduced(features)"
   ]
  },
  {
   "cell_type": "code",
   "execution_count": 62,
   "metadata": {
    "scrolled": true
   },
   "outputs": [
    {
     "name": "stdout",
     "output_type": "stream",
     "text": [
      "35205038\n",
      "(39800, 19)\n"
     ]
    }
   ],
   "source": [
    "print features[0]\n",
    "print X_test_reduced.shape\n",
    "#print X_test_reduced[2]"
   ]
  },
  {
   "cell_type": "markdown",
   "metadata": {},
   "source": [
    "## Build the latent signal detection model (i.e hypertension's fingerprint)"
   ]
  },
  {
   "cell_type": "code",
   "execution_count": 45,
   "metadata": {
    "collapsed": true
   },
   "outputs": [],
   "source": [
    "# We use a Logistic Regression Binary classifier: each drug or drug pair is represented by a combination of AEs and their weight (beta coefficient)\n",
    "# If a drug is above a certain threshold, we classify it as causing hypertension\n",
    "\n",
    "def score(features_weight, X_test):\n",
    "    score = list()\n",
    "    \n",
    "    for drugpair in X_test:\n",
    "        #print drugpair\n",
    "        drugpair_score = 0\n",
    "        for i in range (0, len(features)):\n",
    "            drugpair_score += drugpair[i] * features_weight[i][1]\n",
    "        score.append(drugpair_score)\n",
    "    \n",
    "    return score\n",
    "\n",
    "def y_pred_FAERS(drug_mapping):\n",
    "    \n",
    "    y_pred = np.zeros((len(scores)))\n",
    "    pos_drugs_mapped = list()\n",
    "    \n",
    "    for pos_drug in pos_controls:\n",
    "        if pos_drug not in drug_mapping:\n",
    "            continue\n",
    "        \n",
    "        pos_drugs_mapped.append(drug_mapping[pos_drug])\n",
    "    \n",
    "    # if a drugpair has a drug known to be a positive control then we predict that the drugpair will lead to the AE\n",
    "    for drugpair in all_drugpairs:         \n",
    "        for drug in drugpair:\n",
    "            if drug in pos_drugs_mapped:\n",
    "                y_pred[all_drugpairs.index(drugpair)] = 1\n",
    "                \n",
    "    return y_pred\n",
    "\n",
    "def y_pred_va():\n",
    "    \n",
    "    y_pred = np.zeros((len(scores)))\n",
    "    \n",
    "    # if a drugpair has a drug known to be a positive control then we predict that the drugpair will lead to the AE\n",
    "    for drugpair in all_drugpairs:         \n",
    "        if drugpair in va_omop_ddi :\n",
    "            y_pred[all_drugpairs.index(drugpair)] = 1\n",
    "    \n",
    "    return y_pred\n",
    "\n",
    "def predict_ddi(scores, threshold):\n",
    "    \n",
    "    predictions = np.zeros((len(scores)))\n",
    "    for score in scores:\n",
    "        if (score > threshold):\n",
    "            predictions[scores.index(score)] = 1\n",
    "    print sum(predictions)\n",
    "    \n",
    "    y_pred_Faers = y_pred_FAERS(drug_mapping)\n",
    "    y_pred_VA = y_pred_va()\n",
    "    \n",
    "    print \"Number of positive predictions from FAERS:\",np.sum(y_pred_Faers)\n",
    "    print \"Number of positive predictions from the VA:\",np.sum(y_pred_VA)\n",
    "    \n",
    "    print \"FAERS drugpairs ROC:\",roc_auc_score(y_true=y_pred_Faers,y_score=scores)\n",
    "    fprFA, tprFA, _ = roc_curve(y_true=y_pred_Faers,y_score=scores)\n",
    "    \n",
    "    print \"VA drugpairs ROC:\",roc_auc_score(y_true=y_pred_VA,y_score=scores)\n",
    "    fprVA, tprVA, _ = roc_curve(y_true=y_pred_VA,y_score=scores)\n",
    "    \n",
    "    sns.set(style='ticks', font_scale=1.4)\n",
    "    \n",
    "    plt.figure(figsize=(6,6))\n",
    "    plt.plot(fprFA,tprFA,label='FAERS (area= %0.2f)' % auc(fprFA,tprFA))\n",
    "    plt.plot(fprVA,tprVA,label='VA (area= %0.2f)' % auc(fprVA,tprVA))\n",
    "    \n",
    "    plt.xlabel('False Positive Rate')\n",
    "    plt.ylabel('True Positive Rate')\n",
    "    \n",
    "    plt.legend(loc=\"lower right\")\n",
    "    \n",
    "    sns.despine()\n",
    "    \n",
    "    return predictions\n",
    "            "
   ]
  },
  {
   "cell_type": "code",
   "execution_count": 63,
   "metadata": {},
   "outputs": [
    {
     "name": "stdout",
     "output_type": "stream",
     "text": [
      "39800\n",
      "1.40545283271\n",
      "630.0\n",
      "Number of positive predictions from FAERS: 3890.0\n",
      "Number of positive predictions from the VA: 14.0\n",
      "FAERS drugpairs ROC: 0.725006861627\n",
      "VA drugpairs ROC: 0.676655822938\n"
     ]
    },
    {
     "data": {
      "image/png": "[encoded data removed]",
      "text/plain": [
       "<matplotlib.figure.Figure at 0x7f34007c8150>"
      ]
     },
     "metadata": {},
     "output_type": "display_data"
    }
   ],
   "source": [
    "scores = score(features_weight, X_test_reduced)\n",
    "print len(scores)\n",
    "print scores[0]\n",
    "\n",
    "threshold = 5\n",
    "predictions = predict_ddi(scores, threshold)"
   ]
  },
  {
   "cell_type": "code",
   "execution_count": 40,
   "metadata": {
    "scrolled": true
   },
   "outputs": [
    {
     "name": "stderr",
     "output_type": "stream",
     "text": [
      "  1%|          | 13799/1313184 [00:00<00:09, 137869.82it/s]"
     ]
    },
    {
     "name": "stdout",
     "output_type": "stream",
     "text": [
      "0.0001\n",
      "16\n"
     ]
    },
    {
     "name": "stderr",
     "output_type": "stream",
     "text": [
      " 12%|█▏        | 157308/1313184 [00:03<00:49, 23208.76it/s]\n"
     ]
    },
    {
     "ename": "KeyboardInterrupt",
     "evalue": "",
     "output_type": "error",
     "traceback": [
      "\u001b[0;31m---------------------------------------------------------------------------\u001b[0m",
      "\u001b[0;31mKeyboardInterrupt\u001b[0m                         Traceback (most recent call last)",
      "\u001b[0;32m<ipython-input-40-57dedf00491e>\u001b[0m in \u001b[0;36m<module>\u001b[0;34m()\u001b[0m\n\u001b[1;32m     26\u001b[0m \u001b[0;34m\u001b[0m\u001b[0m\n\u001b[1;32m     27\u001b[0m     \u001b[0;31m#Construction of the new testing frequency table\u001b[0m\u001b[0;34m\u001b[0m\u001b[0;34m\u001b[0m\u001b[0m\n\u001b[0;32m---> 28\u001b[0;31m     \u001b[0mX_test_reduced\u001b[0m \u001b[0;34m=\u001b[0m \u001b[0mmake_lsd_testing_table_reduced\u001b[0m\u001b[0;34m(\u001b[0m\u001b[0mfeatures\u001b[0m\u001b[0;34m)\u001b[0m\u001b[0;34m\u001b[0m\u001b[0m\n\u001b[0m\u001b[1;32m     29\u001b[0m     \u001b[0;32mprint\u001b[0m \u001b[0mX_test_reduced\u001b[0m\u001b[0;34m.\u001b[0m\u001b[0mshape\u001b[0m\u001b[0;34m\u001b[0m\u001b[0m\n\u001b[1;32m     30\u001b[0m \u001b[0;34m\u001b[0m\u001b[0m\n",
      "\u001b[0;32m<ipython-input-34-80c7019aae66>\u001b[0m in \u001b[0;36mmake_lsd_testing_table_reduced\u001b[0;34m(features)\u001b[0m\n\u001b[1;32m     43\u001b[0m         \u001b[0mdrugpair\u001b[0m \u001b[0;34m=\u001b[0m \u001b[0;34m(\u001b[0m\u001b[0mr\u001b[0m\u001b[0;34m[\u001b[0m\u001b[0;34m'drug1_concept_id'\u001b[0m\u001b[0;34m]\u001b[0m\u001b[0;34m,\u001b[0m\u001b[0mr\u001b[0m\u001b[0;34m[\u001b[0m\u001b[0;34m'drug2_concept_id'\u001b[0m\u001b[0;34m]\u001b[0m\u001b[0;34m)\u001b[0m\u001b[0;34m\u001b[0m\u001b[0m\n\u001b[1;32m     44\u001b[0m         \u001b[0;32mif\u001b[0m \u001b[0mr\u001b[0m\u001b[0;34m[\u001b[0m\u001b[0;34m'outcome_concept_id'\u001b[0m\u001b[0;34m]\u001b[0m \u001b[0;32min\u001b[0m \u001b[0mfeatures\u001b[0m\u001b[0;34m:\u001b[0m\u001b[0;34m\u001b[0m\u001b[0m\n\u001b[0;32m---> 45\u001b[0;31m             \u001b[0mx_index\u001b[0m \u001b[0;34m=\u001b[0m \u001b[0mall_drugpairs\u001b[0m\u001b[0;34m.\u001b[0m\u001b[0mindex\u001b[0m\u001b[0;34m(\u001b[0m\u001b[0mdrugpair\u001b[0m\u001b[0;34m)\u001b[0m\u001b[0;34m\u001b[0m\u001b[0m\n\u001b[0m\u001b[1;32m     46\u001b[0m             \u001b[0my_index\u001b[0m \u001b[0;34m=\u001b[0m \u001b[0mfeatures\u001b[0m\u001b[0;34m.\u001b[0m\u001b[0mindex\u001b[0m\u001b[0;34m(\u001b[0m\u001b[0mr\u001b[0m\u001b[0;34m[\u001b[0m\u001b[0;34m'outcome_concept_id'\u001b[0m\u001b[0;34m]\u001b[0m\u001b[0;34m)\u001b[0m\u001b[0;34m\u001b[0m\u001b[0m\n\u001b[1;32m     47\u001b[0m \u001b[0;34m\u001b[0m\u001b[0m\n",
      "\u001b[0;31mKeyboardInterrupt\u001b[0m: "
     ]
    }
   ],
   "source": [
    "# Loop to test all three models\n",
    "# We use a Logistic Regression Binary classifier: each drug or drug pair is represented by a combination of AEs and their weight (beta coefficient)\n",
    "# If a drug is above a certain threshold, we classify it as causing hypertension\n",
    "\n",
    "alphas_selected = [0.0001, 0.0002, 0.0003]\n",
    "threshold = 4\n",
    "\n",
    "for alpha in alphas_selected:\n",
    "    print alpha\n",
    "    \n",
    "    #Extraction of features\n",
    "    features_indice = list()\n",
    "    features_weight = list()\n",
    "    features = list()\n",
    "\n",
    "    for i in range (len(coef_lasso[2+alphas_selected.index(alpha)])):\n",
    "        if coef_lasso[2+alphas_selected.index(alpha)][i] != 0.:\n",
    "            features_indice.append(i)\n",
    "\n",
    "    for i in range (len(all_pairoutcomes)):\n",
    "        if i in features_indice:\n",
    "            features.append(all_pairoutcomes[i])\n",
    "            features_weight.append((all_pairoutcomes[i], coef_lasso[2+alphas_selected.index(alpha)][i]))\n",
    "    \n",
    "    print len(features)\n",
    "    \n",
    "    #Construction of the new testing frequency table\n",
    "    X_test_reduced = make_lsd_testing_table_reduced(features)\n",
    "    print X_test_reduced.shape\n",
    "    \n",
    "    #Fingerprint construction\n",
    "    scores = score(features_weight, X_test_reduced)\n",
    "    predictions = predict_ddi(scores, threshold)\n"
   ]
  },
  {
   "cell_type": "code",
   "execution_count": 47,
   "metadata": {
    "collapsed": true
   },
   "outputs": [],
   "source": [
    "# Random Forest Classifier after the L1 reduction of features\n",
    "\n",
    "def drugpair_predictions_rf_reduced(X, y, X_test):\n",
    "    \n",
    "    # can't use oob after L1 regularization\n",
    "    rf = RandomForestClassifier(n_estimators = 100, oob_score=False, random_state=12)\n",
    "    rf.fit(X,y) #Build a forest of trees from the training set (X, y).\n",
    "    \n",
    "    predictions_proba = rf.predict_proba(X_test)[:,1]\n",
    "    predictions = rf.predict(X_test) #predict class for X_test\n",
    "    print \"Mean accuracy on the given test data and labels: \", rf.score(X,y)  \n",
    "    \n",
    "    y_pred_Faers = y_pred_FAERS(drug_mapping)\n",
    "    y_pred_VA = y_pred_va()\n",
    "    \n",
    "    predicted_ddi = sorted(zip(predictions_proba, all_drugpairs))\n",
    "    predicted_ddi.reverse()\n",
    "    i=0\n",
    "    while predicted_ddi[i][0]>0.5:\n",
    "        i+=1\n",
    "    predicted_ddi = predicted_ddi[:i]\n",
    "            \n",
    "    #(i.e with at least one drug known to have hypertension as a side effect)\n",
    "    print \"Number of positive predictions:\",np.sum(y_pred_Faers)\n",
    "    \n",
    "    print \"FAERS drugpairs ROC:\",roc_auc_score(y_true=y_pred_Faers,y_score=predictions_proba)\n",
    "    fprFA, tprFA, _ = roc_curve(y_true=y_pred_Faers,y_score=predictions_proba)\n",
    "    \n",
    "    print \"VA drugpairs ROC:\",roc_auc_score(y_true=y_pred_VA,y_score=predictions_proba)\n",
    "    fprVA, tprVA, _ = roc_curve(y_true=y_pred_VA,y_score=predictions_proba)\n",
    "\n",
    "    sns.set(style='ticks', font_scale=1.4)\n",
    "    \n",
    "    plt.figure(figsize=(6,6))\n",
    "    plt.plot(fprFA,tprFA,label='FAERS (area= %0.2f)' % auc(fprFA,tprFA))\n",
    "    plt.plot(fprVA,tprVA,label='VA (area= %0.2f)' % auc(fprVA,tprVA))\n",
    "    \n",
    "    plt.xlabel('False Positive Rate')\n",
    "    plt.ylabel('True Positive Rate')\n",
    "    \n",
    "    plt.legend(loc=\"lower right\")\n",
    "    \n",
    "    sns.despine()\n",
    "    \n",
    "    return predicted_ddi"
   ]
  },
  {
   "cell_type": "code",
   "execution_count": 64,
   "metadata": {},
   "outputs": [
    {
     "name": "stdout",
     "output_type": "stream",
     "text": [
      "Mean accuracy on the given test data and labels:  1.0\n",
      "Number of positive predictions: 3890.0\n",
      "FAERS drugpairs ROC: 0.639382546626\n",
      "VA drugpairs ROC: 0.604731743399\n",
      "4310\n"
     ]
    },
    {
     "data": {
      "image/png": "[encoded data removed]",
      "text/plain": [
       "<matplotlib.figure.Figure at 0x7f34b4f03350>"
      ]
     },
     "metadata": {},
     "output_type": "display_data"
    }
   ],
   "source": [
    "predicted_ddi = drugpair_predictions_rf_reduced(X_reduced,y_reduced,X_test_reduced)\n",
    "print len(predicted_ddi)"
   ]
  },
  {
   "cell_type": "code",
   "execution_count": 49,
   "metadata": {
    "collapsed": true
   },
   "outputs": [],
   "source": [
    "# SVM method after L1 regularization of features\n",
    "def drugpair_predictions_svm(X,y,X_test):\n",
    "    \n",
    "    clf = svm.SVC(probability=True)\n",
    "    #clf = svm.SVC()\n",
    "    clf.fit(X,y)\n",
    "    \n",
    "    predictions_proba = clf.predict_proba(X_test)[:,1]\n",
    "    #predictions_proba = clf.decision_function(X_test)\n",
    "    predictions = clf.predict(X_test) #predict class for X_test\n",
    "    print \"Mean accuracy on the given test data and labels: \", clf.score(X,y)  \n",
    "    \n",
    "    y_pred_Faers = y_pred_FAERS(drug_mapping)\n",
    "    y_pred_VA = y_pred_va()\n",
    "    \n",
    "    predicted_ddi = sorted(zip(predictions_proba, all_drugpairs))\n",
    "    predicted_ddi.reverse()\n",
    "    i=0\n",
    "    while predicted_ddi[i][0]>0.5:\n",
    "        i+=1\n",
    "    predicted_ddi = predicted_ddi[:i]\n",
    "            \n",
    "    #(i.e with at least one drug known to have hypertension as a side effect)\n",
    "    print \"Number of positive predictions:\",np.sum(y_pred_Faers)\n",
    "    \n",
    "    print \"FAERS drugpairs ROC:\",roc_auc_score(y_true=y_pred_Faers,y_score=predictions_proba)\n",
    "    fprFA, tprFA, _ = roc_curve(y_true=y_pred_Faers,y_score=predictions_proba)\n",
    "    \n",
    "    print \"VA drugpairs ROC:\",roc_auc_score(y_true=y_pred_VA,y_score=predictions_proba)\n",
    "    fprVA, tprVA, _ = roc_curve(y_true=y_pred_VA,y_score=predictions_proba)\n",
    "\n",
    "    sns.set(style='ticks', font_scale=1.4)\n",
    "    \n",
    "    plt.figure(figsize=(6,6))\n",
    "    plt.plot(fprFA,tprFA,label='FAERS (area= %0.2f)' % auc(fprFA,tprFA))\n",
    "    plt.plot(fprVA,tprVA,label='VA (area= %0.2f)' % auc(fprVA,tprVA))\n",
    "    \n",
    "    plt.xlabel('False Positive Rate')\n",
    "    plt.ylabel('True Positive Rate')\n",
    "    \n",
    "    plt.legend(loc=\"lower right\")\n",
    "    \n",
    "    sns.despine()\n",
    "    \n",
    "    return predicted_ddi"
   ]
  },
  {
   "cell_type": "code",
   "execution_count": 65,
   "metadata": {},
   "outputs": [
    {
     "name": "stdout",
     "output_type": "stream",
     "text": [
      "Mean accuracy on the given test data and labels:  0.94696969697\n",
      "Number of positive predictions: 3890.0\n",
      "FAERS drugpairs ROC: 0.739820974888\n",
      "VA drugpairs ROC: 0.583810888252\n",
      "8780\n"
     ]
    },
    {
     "data": {
      "image/png": "[encoded data removed]",
      "text/plain": [
       "<matplotlib.figure.Figure at 0x7f3474ab6a10>"
      ]
     },
     "metadata": {},
     "output_type": "display_data"
    }
   ],
   "source": [
    "predicted_ddi = drugpair_predictions_svm(X_reduced,y_reduced,X_test_reduced)\n",
    "print len(predicted_ddi)"
   ]
  },
  {
   "cell_type": "code",
   "execution_count": 51,
   "metadata": {
    "collapsed": true
   },
   "outputs": [],
   "source": [
    "# Prediction without features reduction\n",
    "def drugpair_predictions_rf(X,y,X_test):  \n",
    "    \n",
    "    rf = RandomForestClassifier(n_estimators = 100, oob_score=True, random_state=12)\n",
    "    rf.fit(X,y) #Build a forest of trees from the training set (X, y).\n",
    "    \n",
    "    print \"Number of estimators: \", len(rf.estimators_)\n",
    "    \n",
    "    predictions_proba = rf.predict_proba(X_test)[:,1]\n",
    "    predictions = rf.predict(X_test) #predict class for X_test\n",
    "    print \"Mean accuracy on the given test data and labels: \", rf.score(X,y)   \n",
    "\n",
    "    oob_predictions = rf.oob_decision_function_[:,1]\n",
    "    oob_predictions[ np.where( np.isnan(oob_predictions) == True)[0]] = 0\n",
    "    \n",
    "    #roc_auc_score computes the area under the ROC curve\n",
    "    print \"OOB ROC:\",roc_auc_score(y_true=y, y_score=oob_predictions)\n",
    "    fprOOB, tprOOB, _ = roc_curve(y_true=y,y_score=oob_predictions)\n",
    "    \n",
    "    y_pred_Faers = y_pred_FAERS(drug_mapping)\n",
    "    y_pred_VA = y_pred_va()\n",
    "    \n",
    "    predicted_ddi = sorted(zip(predictions_proba, all_drugpairs))\n",
    "    predicted_ddi.reverse()\n",
    "    i=0\n",
    "    while predicted_ddi[i][0]>0.5:\n",
    "        i+=1\n",
    "    predicted_ddi = predicted_ddi[:i]\n",
    "            \n",
    "    #(i.e with at least one drug known to have hypertension as a side effect)\n",
    "    print \"Number of positive predictions FAERS:\",np.sum(y_pred_Faers)\n",
    "    print \"Number of ddi predictions (with a probability > 0,5): \", len(predicted_ddi)\n",
    "    \n",
    "    print \"FAERS drugpairs ROC:\",roc_auc_score(y_true=y_pred_Faers,y_score=predictions_proba)\n",
    "    fprFA, tprFA, _ = roc_curve(y_true=y_pred_Faers,y_score=predictions_proba)\n",
    "    \n",
    "    print \"VA drugpairs ROC:\",roc_auc_score(y_true=y_pred_VA,y_score=predictions_proba)\n",
    "    fprVA, tprVA, _ = roc_curve(y_true=y_pred_VA,y_score=predictions_proba)\n",
    "    \n",
    "    sns.set(style='ticks', font_scale=1.4)\n",
    "    \n",
    "    plt.figure(figsize=(6,6))\n",
    "    plt.plot(fprOOB,tprOOB,label='OOB (area= %0.2f)' % auc(fprOOB,tprOOB))\n",
    "    plt.plot(fprFA,tprFA,label='FAERS (area= %0.2f)' % auc(fprFA,tprFA))\n",
    "    plt.plot(fprVA,tprVA,label='VA (area= %0.2f)' % auc(fprVA,tprVA))\n",
    "    \n",
    "    plt.xlabel('False Positive Rate')\n",
    "    plt.ylabel('True Positive Rate')\n",
    "    \n",
    "    plt.legend(loc=\"lower right\")\n",
    "    \n",
    "    sns.despine()\n",
    "    \n",
    "    return predicted_ddi"
   ]
  },
  {
   "cell_type": "code",
   "execution_count": 66,
   "metadata": {},
   "outputs": [
    {
     "name": "stdout",
     "output_type": "stream",
     "text": [
      "Number of estimators:  100\n",
      "Mean accuracy on the given test data and labels:  1.0\n",
      "OOB ROC: 0.912214285714\n",
      "Number of positive predictions FAERS: 3890.0\n",
      "Number of ddi predictions (with a probability > 0,5):  6696\n",
      "FAERS drugpairs ROC: 0.611342194389\n",
      "VA drugpairs ROC: 0.610412133486\n"
     ]
    },
    {
     "data": {
      "image/png": "[encoded data removed]",
      "text/plain": [
       "<matplotlib.figure.Figure at 0x7f34b05f6110>"
      ]
     },
     "metadata": {},
     "output_type": "display_data"
    }
   ],
   "source": [
    "pred_ddi = drugpair_predictions_rf(X,y,X_test)"
   ]
  },
  {
   "cell_type": "markdown",
   "metadata": {},
   "source": [
    "## DDI predictions"
   ]
  },
  {
   "cell_type": "code",
   "execution_count": 47,
   "metadata": {},
   "outputs": [
    {
     "name": "stdout",
     "output_type": "stream",
     "text": [
      "9124\n",
      "3439\n"
     ]
    }
   ],
   "source": [
    "#Treatment of the predictions\n",
    "final_predictions = list()\n",
    "\n",
    "pos_drugs_mapped = list()\n",
    "for pos_drug in pos_controls:\n",
    "    if pos_drug not in drug_mapping:\n",
    "        continue\n",
    "        \n",
    "    pos_drugs_mapped.append(drug_mapping[pos_drug])\n",
    "\n",
    "# Removing the pairs where at least one of the drugs is known to be responsible for hypertension alone\n",
    "for prob, drugpair in predicted_ddi:\n",
    "    if (drugpair[0] not in pos_drugs_mapped):\n",
    "        if (drugpair[1] not in pos_drugs_mapped):\n",
    "            # All drugpairs are twice in the list ((a,b) and (b,a)), we only keep one\n",
    "            if drugpair[0] > drugpair[1]:\n",
    "                final_predictions.append(drugpair)\n",
    "\n",
    "print len(predicted_ddi)\n",
    "print len(final_predictions)                \n",
    "top_ddi = final_predictions[:200]\n",
    "#print top_ddi"
   ]
  },
  {
   "cell_type": "code",
   "execution_count": 48,
   "metadata": {},
   "outputs": [
    {
     "name": "stdout",
     "output_type": "stream",
     "text": [
      "(1597756, 755695)\n",
      "(1597756, 745466)\n",
      "glimepiride Fluoxetine\n",
      "glimepiride Valproate\n"
     ]
    }
   ],
   "source": [
    "# Pull the top prediction\n",
    "pair = top_ddi[0]\n",
    "pair2 = top_ddi[1]\n",
    "#pair3 = top_ddi[2]\n",
    "#pair4 = top_ddi[3]\n",
    "print pair\n",
    "print pair2\n",
    "print concept2name[pair[0]], concept2name[pair[1]]\n",
    "print concept2name[pair2[0]], concept2name[pair2[1]]\n",
    "#print concept2name[pair3[0]], concept2name[pair3[1]]\n",
    "#print concept2name[pair4[0]], concept2name[pair4[1]]\n"
   ]
  },
  {
   "cell_type": "markdown",
   "metadata": {},
   "source": [
    "## Corroborate drugpair predictions using OHDSI data\n",
    "Analysis of the top predicted DDIs.\n",
    "Method: Creation of cohorts of patients using the OHDSI API.\n",
    "Criteria: Patients exposed to either drug of a predicted drugpair alone and patients exposed to both within a 7 days interval.\n",
    "All patients must have had their blood pressure measured within 30 days of their last drug intake (before and after). "
   ]
  },
  {
   "cell_type": "code",
   "execution_count": 68,
   "metadata": {
    "collapsed": true
   },
   "outputs": [],
   "source": [
    "map_id_name, map_name_id = ohdsi.mapping()"
   ]
  },
  {
   "cell_type": "code",
   "execution_count": 69,
   "metadata": {},
   "outputs": [
    {
     "name": "stderr",
     "output_type": "stream",
     "text": [
      "\r",
      "  0%|          | 0/200 [00:00<?, ?it/s]"
     ]
    },
    {
     "name": "stdout",
     "output_type": "stream",
     "text": [
      "A cohort with the same name already exists, please choose another name\n"
     ]
    },
    {
     "name": "stderr",
     "output_type": "stream",
     "text": [
      "\r",
      "  0%|          | 1/200 [00:03<10:10,  3.07s/it]"
     ]
    },
    {
     "name": "stdout",
     "output_type": "stream",
     "text": [
      "91\n",
      "Enough patients for cohort Calcium Carbonate_Enalapril\n",
      "A cohort with the same name already exists, please choose another name\n"
     ]
    },
    {
     "name": "stderr",
     "output_type": "stream",
     "text": [
      "\r",
      "  1%|          | 2/200 [00:06<10:52,  3.30s/it]"
     ]
    },
    {
     "name": "stdout",
     "output_type": "stream",
     "text": [
      "0\n",
      "Not enough patients for cohort Multivitamin preparation_Pravastatin\n",
      "Cohort was deleted with exit status 204 \n",
      "A cohort with the same name already exists, please choose another name\n"
     ]
    },
    {
     "name": "stderr",
     "output_type": "stream",
     "text": [
      "\r",
      "  2%|▏         | 3/200 [00:10<11:01,  3.36s/it]"
     ]
    },
    {
     "name": "stdout",
     "output_type": "stream",
     "text": [
      "0\n",
      "Not enough patients for cohort Multivitamin preparation_Estrogens, Conjugated (USP)\n",
      "Cohort was deleted with exit status 204 \n",
      "A cohort with the same name already exists, please choose another name\n"
     ]
    },
    {
     "name": "stderr",
     "output_type": "stream",
     "text": [
      "\r",
      "  2%|▏         | 4/200 [00:13<10:42,  3.28s/it]"
     ]
    },
    {
     "name": "stdout",
     "output_type": "stream",
     "text": [
      "6\n",
      "Not enough patients for cohort Vitamin D_Simvastatin\n",
      "Cohort was deleted with exit status 204 \n",
      "A cohort with the same name already exists, please choose another name\n"
     ]
    },
    {
     "name": "stderr",
     "output_type": "stream",
     "text": [
      "\r",
      "  2%|▎         | 5/200 [00:17<11:18,  3.48s/it]"
     ]
    },
    {
     "name": "stdout",
     "output_type": "stream",
     "text": [
      "5\n",
      "Not enough patients for cohort Vitamin D_Amlodipine\n",
      "Cohort was deleted with exit status 204 \n",
      "A cohort with the same name already exists, please choose another name\n"
     ]
    },
    {
     "name": "stderr",
     "output_type": "stream",
     "text": [
      "\r",
      "  3%|▎         | 6/200 [00:20<11:13,  3.47s/it]"
     ]
    },
    {
     "name": "stdout",
     "output_type": "stream",
     "text": [
      "4\n",
      "Not enough patients for cohort Vitamin D_Lisinopril\n",
      "Cohort was deleted with exit status 204 \n",
      "A cohort with the same name already exists, please choose another name\n"
     ]
    },
    {
     "name": "stderr",
     "output_type": "stream",
     "text": [
      "\r",
      "  4%|▎         | 7/200 [00:23<10:32,  3.28s/it]"
     ]
    },
    {
     "name": "stdout",
     "output_type": "stream",
     "text": [
      "3\n",
      "Not enough patients for cohort Vitamin D_Albuterol\n",
      "Cohort was deleted with exit status 204 \n",
      "A cohort with the same name already exists, please choose another name\n"
     ]
    },
    {
     "name": "stderr",
     "output_type": "stream",
     "text": [
      "\r",
      "  4%|▍         | 8/200 [00:26<10:02,  3.14s/it]"
     ]
    },
    {
     "name": "stdout",
     "output_type": "stream",
     "text": [
      "132\n",
      "Enough patients for cohort atorvastatin_Alprazolam\n",
      "A cohort with the same name already exists, please choose another name\n"
     ]
    },
    {
     "name": "stderr",
     "output_type": "stream",
     "text": [
      "\r",
      "  4%|▍         | 9/200 [00:30<10:25,  3.28s/it]"
     ]
    },
    {
     "name": "stdout",
     "output_type": "stream",
     "text": [
      "292\n",
      "Enough patients for cohort rosuvastatin_Lisinopril\n",
      "A cohort with the same name already exists, please choose another name\n"
     ]
    },
    {
     "name": "stderr",
     "output_type": "stream",
     "text": [
      "\r",
      "  5%|▌         | 10/200 [00:33<10:11,  3.22s/it]"
     ]
    },
    {
     "name": "stdout",
     "output_type": "stream",
     "text": [
      "1\n",
      "Not enough patients for cohort Folic Acid_infliximab\n",
      "Cohort was deleted with exit status 204 \n",
      "A cohort with the same name already exists, please choose another name\n"
     ]
    },
    {
     "name": "stderr",
     "output_type": "stream",
     "text": [
      "\r",
      "  6%|▌         | 11/200 [00:37<10:47,  3.43s/it]"
     ]
    },
    {
     "name": "stdout",
     "output_type": "stream",
     "text": [
      "0\n",
      "Not enough patients for cohort Calcium_Lisinopril\n",
      "Cohort was deleted with exit status 204 \n",
      "A cohort with the same name already exists, please choose another name\n"
     ]
    },
    {
     "name": "stderr",
     "output_type": "stream",
     "text": [
      "\r",
      "  6%|▌         | 12/200 [00:41<11:39,  3.72s/it]"
     ]
    },
    {
     "name": "stdout",
     "output_type": "stream",
     "text": [
      "13\n",
      "Not enough patients for cohort Ascorbic Acid_Enalapril\n",
      "Cohort was deleted with exit status 204 \n",
      "A cohort with the same name already exists, please choose another name\n"
     ]
    },
    {
     "name": "stderr",
     "output_type": "stream",
     "text": [
      "\r",
      "  6%|▋         | 13/200 [00:44<10:55,  3.51s/it]"
     ]
    },
    {
     "name": "stdout",
     "output_type": "stream",
     "text": [
      "7\n",
      "Not enough patients for cohort Vitamin A_levothyroxine\n",
      "Cohort was deleted with exit status 204 \n",
      "A cohort with the same name already exists, please choose another name\n"
     ]
    },
    {
     "name": "stderr",
     "output_type": "stream",
     "text": [
      "\r",
      "  7%|▋         | 14/200 [00:47<10:37,  3.43s/it]"
     ]
    },
    {
     "name": "stdout",
     "output_type": "stream",
     "text": [
      "2\n",
      "Not enough patients for cohort Vitamin A_Lisinopril\n",
      "Cohort was deleted with exit status 204 \n",
      "A cohort with the same name already exists, please choose another name\n"
     ]
    },
    {
     "name": "stderr",
     "output_type": "stream",
     "text": [
      "\r",
      "  8%|▊         | 15/200 [00:50<09:52,  3.20s/it]"
     ]
    },
    {
     "name": "stdout",
     "output_type": "stream",
     "text": [
      "111\n",
      "Enough patients for cohort Alendronate_Aspirin\n",
      "A cohort with the same name already exists, please choose another name\n"
     ]
    },
    {
     "name": "stderr",
     "output_type": "stream",
     "text": [
      "\r",
      "  8%|▊         | 16/200 [00:54<10:45,  3.51s/it]"
     ]
    },
    {
     "name": "stdout",
     "output_type": "stream",
     "text": [
      "1\n",
      "Not enough patients for cohort Alendronate_tiotropium\n",
      "Cohort was deleted with exit status 204 \n",
      "A cohort with the same name already exists, please choose another name\n"
     ]
    },
    {
     "name": "stderr",
     "output_type": "stream",
     "text": [
      "\r",
      "  8%|▊         | 17/200 [00:57<10:15,  3.36s/it]"
     ]
    },
    {
     "name": "stdout",
     "output_type": "stream",
     "text": [
      "363\n",
      "Enough patients for cohort Pravastatin_Aspirin\n",
      "A cohort with the same name already exists, please choose another name\n"
     ]
    },
    {
     "name": "stderr",
     "output_type": "stream",
     "text": [
      "\r",
      "  9%|▉         | 18/200 [01:01<10:13,  3.37s/it]"
     ]
    },
    {
     "name": "stdout",
     "output_type": "stream",
     "text": [
      "286\n",
      "Enough patients for cohort Estrogens, Conjugated (USP)_levothyroxine\n",
      "A cohort with the same name already exists, please choose another name\n"
     ]
    },
    {
     "name": "stderr",
     "output_type": "stream",
     "text": [
      "\r",
      " 10%|▉         | 19/200 [01:04<10:23,  3.45s/it]"
     ]
    },
    {
     "name": "stdout",
     "output_type": "stream",
     "text": [
      "1041\n",
      "Enough patients for cohort atorvastatin_Simvastatin\n",
      "A cohort with the same name already exists, please choose another name\n"
     ]
    },
    {
     "name": "stderr",
     "output_type": "stream",
     "text": [
      "\r",
      " 10%|█         | 20/200 [01:09<11:12,  3.73s/it]"
     ]
    },
    {
     "name": "stdout",
     "output_type": "stream",
     "text": [
      "392\n",
      "Enough patients for cohort Simvastatin_Digoxin\n",
      "A cohort with the same name already exists, please choose another name\n"
     ]
    },
    {
     "name": "stderr",
     "output_type": "stream",
     "text": [
      "\r",
      " 10%|█         | 21/200 [01:12<10:43,  3.59s/it]"
     ]
    },
    {
     "name": "stdout",
     "output_type": "stream",
     "text": [
      "726\n",
      "Enough patients for cohort Simvastatin_Hydrocodone\n",
      "A cohort with the same name already exists, please choose another name\n"
     ]
    },
    {
     "name": "stderr",
     "output_type": "stream",
     "text": [
      "\r",
      " 11%|█         | 22/200 [01:16<10:48,  3.64s/it]"
     ]
    },
    {
     "name": "stdout",
     "output_type": "stream",
     "text": [
      "171\n",
      "Enough patients for cohort Simvastatin_Esomeprazole\n",
      "A cohort with the same name already exists, please choose another name\n"
     ]
    },
    {
     "name": "stderr",
     "output_type": "stream",
     "text": [
      "\r",
      " 12%|█▏        | 23/200 [01:19<10:03,  3.41s/it]"
     ]
    },
    {
     "name": "stdout",
     "output_type": "stream",
     "text": [
      "152\n",
      "Enough patients for cohort Simvastatin_Diazepam\n",
      "A cohort with the same name already exists, please choose another name\n"
     ]
    },
    {
     "name": "stderr",
     "output_type": "stream",
     "text": [
      "\r",
      " 12%|█▏        | 24/200 [01:22<10:05,  3.44s/it]"
     ]
    },
    {
     "name": "stdout",
     "output_type": "stream",
     "text": [
      "183\n",
      "Enough patients for cohort ezetimibe_Metoprolol\n",
      "A cohort with the same name already exists, please choose another name\n"
     ]
    },
    {
     "name": "stderr",
     "output_type": "stream",
     "text": [
      "\r",
      " 12%|█▎        | 25/200 [01:25<09:49,  3.37s/it]"
     ]
    },
    {
     "name": "stdout",
     "output_type": "stream",
     "text": [
      "169\n",
      "Enough patients for cohort ezetimibe_Aspirin\n",
      "A cohort with the same name already exists, please choose another name\n"
     ]
    },
    {
     "name": "stderr",
     "output_type": "stream",
     "text": [
      "\r",
      " 13%|█▎        | 26/200 [01:29<09:57,  3.44s/it]"
     ]
    },
    {
     "name": "stdout",
     "output_type": "stream",
     "text": [
      "11\n",
      "Not enough patients for cohort Teriparatide_Ranitidine\n",
      "Cohort was deleted with exit status 204 \n",
      "A cohort with the same name already exists, please choose another name\n"
     ]
    },
    {
     "name": "stderr",
     "output_type": "stream",
     "text": [
      "\r",
      " 14%|█▎        | 27/200 [01:32<09:48,  3.40s/it]"
     ]
    },
    {
     "name": "stdout",
     "output_type": "stream",
     "text": [
      "233\n",
      "Enough patients for cohort levothyroxine_Ranitidine\n",
      "A cohort with the same name already exists, please choose another name\n"
     ]
    },
    {
     "name": "stderr",
     "output_type": "stream",
     "text": [
      "\r",
      " 14%|█▍        | 28/200 [01:36<10:11,  3.55s/it]"
     ]
    },
    {
     "name": "stdout",
     "output_type": "stream",
     "text": [
      "161\n",
      "Enough patients for cohort Clonidine_Aspirin\n",
      "A cohort with the same name already exists, please choose another name\n"
     ]
    },
    {
     "name": "stderr",
     "output_type": "stream",
     "text": [
      "\r",
      " 14%|█▍        | 29/200 [01:39<09:46,  3.43s/it]"
     ]
    },
    {
     "name": "stdout",
     "output_type": "stream",
     "text": [
      "176\n",
      "Enough patients for cohort Losartan_Aspirin\n",
      "A cohort with the same name already exists, please choose another name\n"
     ]
    },
    {
     "name": "stderr",
     "output_type": "stream",
     "text": [
      "\r",
      " 15%|█▌        | 30/200 [01:43<09:46,  3.45s/it]"
     ]
    },
    {
     "name": "stdout",
     "output_type": "stream",
     "text": [
      "185\n",
      "Enough patients for cohort Ramipril_Aspirin\n",
      "A cohort with the same name already exists, please choose another name\n"
     ]
    },
    {
     "name": "stderr",
     "output_type": "stream",
     "text": [
      "\r",
      " 16%|█▌        | 31/200 [01:46<09:43,  3.45s/it]"
     ]
    },
    {
     "name": "stdout",
     "output_type": "stream",
     "text": [
      "745\n",
      "Enough patients for cohort Amlodipine_Lisinopril\n",
      "A cohort with the same name already exists, please choose another name\n"
     ]
    },
    {
     "name": "stderr",
     "output_type": "stream",
     "text": [
      "\r",
      " 16%|█▌        | 32/200 [01:50<10:05,  3.60s/it]"
     ]
    },
    {
     "name": "stdout",
     "output_type": "stream",
     "text": [
      "114\n",
      "Enough patients for cohort Amlodipine_Esomeprazole\n",
      "A cohort with the same name already exists, please choose another name\n"
     ]
    },
    {
     "name": "stderr",
     "output_type": "stream",
     "text": [
      "\r",
      " 16%|█▋        | 33/200 [01:53<09:32,  3.43s/it]"
     ]
    },
    {
     "name": "stdout",
     "output_type": "stream",
     "text": [
      "144\n",
      "Enough patients for cohort Lisinopril_Clonazepam\n",
      "A cohort with the same name already exists, please choose another name\n"
     ]
    },
    {
     "name": "stderr",
     "output_type": "stream",
     "text": [
      "\r",
      " 17%|█▋        | 34/200 [01:57<09:36,  3.47s/it]"
     ]
    },
    {
     "name": "stdout",
     "output_type": "stream",
     "text": [
      "32\n",
      "Enough patients for cohort Lisinopril_Escitalopram\n",
      "A cohort with the same name already exists, please choose another name\n"
     ]
    },
    {
     "name": "stderr",
     "output_type": "stream",
     "text": [
      "\r",
      " 18%|█▊        | 35/200 [02:00<09:36,  3.50s/it]"
     ]
    },
    {
     "name": "stdout",
     "output_type": "stream",
     "text": [
      "89\n",
      "Enough patients for cohort Metoprolol_Clonazepam\n",
      "A cohort with the same name already exists, please choose another name\n"
     ]
    },
    {
     "name": "stderr",
     "output_type": "stream",
     "text": [
      "\r",
      " 18%|█▊        | 36/200 [02:04<09:27,  3.46s/it]"
     ]
    },
    {
     "name": "stdout",
     "output_type": "stream",
     "text": [
      "46\n",
      "Enough patients for cohort Metoprolol_duloxetine\n",
      "A cohort with the same name already exists, please choose another name\n"
     ]
    },
    {
     "name": "stderr",
     "output_type": "stream",
     "text": [
      "\r",
      " 18%|█▊        | 37/200 [02:08<09:55,  3.65s/it]"
     ]
    },
    {
     "name": "stdout",
     "output_type": "stream",
     "text": [
      "148\n",
      "Enough patients for cohort Hydrocodone_Clonazepam\n",
      "A cohort with the same name already exists, please choose another name\n"
     ]
    },
    {
     "name": "stderr",
     "output_type": "stream",
     "text": [
      "\r",
      " 19%|█▉        | 38/200 [02:11<09:51,  3.65s/it]"
     ]
    },
    {
     "name": "stdout",
     "output_type": "stream",
     "text": [
      "151\n",
      "Enough patients for cohort Hydrocodone_Diazepam\n",
      "A cohort with the same name already exists, please choose another name\n"
     ]
    },
    {
     "name": "stderr",
     "output_type": "stream",
     "text": [
      "\r",
      " 20%|█▉        | 39/200 [02:14<09:14,  3.44s/it]"
     ]
    },
    {
     "name": "stdout",
     "output_type": "stream",
     "text": [
      "13\n",
      "Not enough patients for cohort Esomeprazole_Escitalopram\n",
      "Cohort was deleted with exit status 204 \n",
      "A cohort with the same name already exists, please choose another name\n"
     ]
    },
    {
     "name": "stderr",
     "output_type": "stream",
     "text": [
      "\r",
      " 20%|██        | 40/200 [02:18<09:10,  3.44s/it]"
     ]
    },
    {
     "name": "stdout",
     "output_type": "stream",
     "text": [
      "0\n",
      "Not enough patients for cohort telaprevir_levothyroxine\n",
      "Cohort was deleted with exit status 204 \n",
      "A cohort with the same name already exists, please choose another name\n"
     ]
    },
    {
     "name": "stderr",
     "output_type": "stream",
     "text": [
      "\r",
      " 20%|██        | 41/200 [02:21<09:17,  3.50s/it]"
     ]
    },
    {
     "name": "stdout",
     "output_type": "stream",
     "text": [
      "0\n",
      "Not enough patients for cohort Insulin_Amlodipine\n",
      "Cohort was deleted with exit status 204 \n",
      "A cohort with the same name already exists, please choose another name\n"
     ]
    },
    {
     "name": "stderr",
     "output_type": "stream",
     "text": [
      "\r",
      " 21%|██        | 42/200 [02:25<09:21,  3.56s/it]"
     ]
    },
    {
     "name": "stdout",
     "output_type": "stream",
     "text": [
      "0\n",
      "Not enough patients for cohort Folic Acid_Calcium\n",
      "Cohort was deleted with exit status 204 \n",
      "A cohort with the same name already exists, please choose another name\n"
     ]
    },
    {
     "name": "stderr",
     "output_type": "stream",
     "text": [
      "\r",
      " 22%|██▏       | 43/200 [02:28<09:10,  3.51s/it]"
     ]
    },
    {
     "name": "stdout",
     "output_type": "stream",
     "text": [
      "2\n",
      "Not enough patients for cohort Folic Acid_Vitamin D\n",
      "Cohort was deleted with exit status 204 \n",
      "A cohort with the same name already exists, please choose another name\n"
     ]
    },
    {
     "name": "stderr",
     "output_type": "stream",
     "text": [
      "\r",
      " 22%|██▏       | 44/200 [02:32<08:55,  3.44s/it]"
     ]
    },
    {
     "name": "stdout",
     "output_type": "stream",
     "text": [
      "2\n",
      "Not enough patients for cohort peginterferon alfa-2a_levothyroxine\n",
      "Cohort was deleted with exit status 204 \n",
      "A cohort with the same name already exists, please choose another name\n"
     ]
    },
    {
     "name": "stderr",
     "output_type": "stream",
     "text": [
      "\r",
      " 22%|██▎       | 45/200 [02:35<08:55,  3.45s/it]"
     ]
    },
    {
     "name": "stdout",
     "output_type": "stream",
     "text": [
      "46\n",
      "Enough patients for cohort Alendronate_Ramipril\n",
      "A cohort with the same name already exists, please choose another name\n"
     ]
    },
    {
     "name": "stderr",
     "output_type": "stream",
     "text": [
      "\r",
      " 23%|██▎       | 46/200 [02:39<08:54,  3.47s/it]"
     ]
    },
    {
     "name": "stdout",
     "output_type": "stream",
     "text": [
      "206\n",
      "Enough patients for cohort Simvastatin_Nitroglycerin\n",
      "A cohort with the same name already exists, please choose another name\n"
     ]
    },
    {
     "name": "stderr",
     "output_type": "stream",
     "text": [
      "\r",
      " 24%|██▎       | 47/200 [02:42<09:01,  3.54s/it]"
     ]
    },
    {
     "name": "stdout",
     "output_type": "stream",
     "text": [
      "173\n",
      "Enough patients for cohort Clonidine_Amlodipine\n",
      "A cohort with the same name already exists, please choose another name\n"
     ]
    },
    {
     "name": "stderr",
     "output_type": "stream",
     "text": [
      "\r",
      " 24%|██▍       | 48/200 [02:46<09:10,  3.62s/it]"
     ]
    },
    {
     "name": "stdout",
     "output_type": "stream",
     "text": [
      "183\n",
      "Enough patients for cohort Clonidine_Metoprolol\n",
      "A cohort with the same name already exists, please choose another name\n"
     ]
    },
    {
     "name": "stderr",
     "output_type": "stream",
     "text": [
      "\r",
      " 24%|██▍       | 49/200 [02:50<09:06,  3.62s/it]"
     ]
    },
    {
     "name": "stdout",
     "output_type": "stream",
     "text": [
      "339\n",
      "Enough patients for cohort Nitroglycerin_Lisinopril\n",
      "A cohort with the same name already exists, please choose another name\n"
     ]
    },
    {
     "name": "stderr",
     "output_type": "stream",
     "text": [
      "\r",
      " 25%|██▌       | 50/200 [02:53<08:35,  3.44s/it]"
     ]
    },
    {
     "name": "stdout",
     "output_type": "stream",
     "text": [
      "231\n",
      "Enough patients for cohort Nitroglycerin_Furosemide\n",
      "A cohort with the same name already exists, please choose another name\n"
     ]
    },
    {
     "name": "stderr",
     "output_type": "stream",
     "text": [
      "\r",
      " 26%|██▌       | 51/200 [02:56<08:26,  3.40s/it]"
     ]
    },
    {
     "name": "stdout",
     "output_type": "stream",
     "text": [
      "205\n",
      "Enough patients for cohort Metoprolol_Ranitidine\n",
      "A cohort with the same name already exists, please choose another name\n"
     ]
    },
    {
     "name": "stderr",
     "output_type": "stream",
     "text": [
      "\r",
      " 26%|██▌       | 52/200 [03:00<08:34,  3.48s/it]"
     ]
    },
    {
     "name": "stdout",
     "output_type": "stream",
     "text": [
      "4\n",
      "Not enough patients for cohort Methotrexate_infliximab\n",
      "Cohort was deleted with exit status 204 \n",
      "A cohort with the same name already exists, please choose another name\n"
     ]
    },
    {
     "name": "stderr",
     "output_type": "stream",
     "text": [
      "\r",
      " 26%|██▋       | 53/200 [03:03<08:29,  3.47s/it]"
     ]
    },
    {
     "name": "stdout",
     "output_type": "stream",
     "text": [
      "102\n",
      "Enough patients for cohort Albuterol_Esomeprazole\n",
      "A cohort with the same name already exists, please choose another name\n"
     ]
    },
    {
     "name": "stderr",
     "output_type": "stream",
     "text": [
      "\r",
      " 27%|██▋       | 54/200 [03:07<08:23,  3.45s/it]"
     ]
    },
    {
     "name": "stdout",
     "output_type": "stream",
     "text": [
      "233\n",
      "Enough patients for cohort olmesartan_Aspirin\n",
      "A cohort with the same name already exists, please choose another name\n"
     ]
    },
    {
     "name": "stderr",
     "output_type": "stream",
     "text": [
      "\r",
      " 28%|██▊       | 55/200 [03:11<08:48,  3.64s/it]"
     ]
    },
    {
     "name": "stdout",
     "output_type": "stream",
     "text": [
      "0\n",
      "Not enough patients for cohort Multivitamin preparation_Digoxin\n",
      "Cohort was deleted with exit status 204 \n",
      "A cohort with the same name already exists, please choose another name\n"
     ]
    },
    {
     "name": "stderr",
     "output_type": "stream",
     "text": [
      "\r",
      " 28%|██▊       | 56/200 [03:14<08:21,  3.49s/it]"
     ]
    },
    {
     "name": "stdout",
     "output_type": "stream",
     "text": [
      "0\n",
      "Not enough patients for cohort Multivitamin preparation_Lisinopril\n",
      "Cohort was deleted with exit status 204 \n",
      "A cohort with the same name already exists, please choose another name\n"
     ]
    },
    {
     "name": "stderr",
     "output_type": "stream",
     "text": [
      "\r",
      " 28%|██▊       | 57/200 [03:17<08:10,  3.43s/it]"
     ]
    },
    {
     "name": "stdout",
     "output_type": "stream",
     "text": [
      "0\n",
      "Not enough patients for cohort Multivitamin preparation_Metoprolol\n",
      "Cohort was deleted with exit status 204 \n",
      "A cohort with the same name already exists, please choose another name\n"
     ]
    },
    {
     "name": "stderr",
     "output_type": "stream",
     "text": [
      "\r",
      " 29%|██▉       | 58/200 [03:21<08:17,  3.50s/it]"
     ]
    },
    {
     "name": "stdout",
     "output_type": "stream",
     "text": [
      "0\n",
      "Not enough patients for cohort Multivitamin preparation_Methotrexate\n",
      "Cohort was deleted with exit status 204 \n",
      "A cohort with the same name already exists, please choose another name\n"
     ]
    },
    {
     "name": "stderr",
     "output_type": "stream",
     "text": [
      "\r",
      " 30%|██▉       | 59/200 [03:25<08:24,  3.58s/it]"
     ]
    },
    {
     "name": "stdout",
     "output_type": "stream",
     "text": [
      "0\n",
      "Not enough patients for cohort Multivitamin preparation_Hydrocodone\n",
      "Cohort was deleted with exit status 204 \n",
      "A cohort with the same name already exists, please choose another name\n"
     ]
    },
    {
     "name": "stderr",
     "output_type": "stream",
     "text": [
      "\r",
      " 30%|███       | 60/200 [03:29<08:39,  3.71s/it]"
     ]
    },
    {
     "name": "stdout",
     "output_type": "stream",
     "text": [
      "0\n",
      "Not enough patients for cohort Multivitamin preparation_Aspirin\n",
      "Cohort was deleted with exit status 204 \n",
      "A cohort with the same name already exists, please choose another name\n"
     ]
    },
    {
     "name": "stderr",
     "output_type": "stream",
     "text": [
      "\r",
      " 30%|███       | 61/200 [03:33<08:44,  3.77s/it]"
     ]
    },
    {
     "name": "stdout",
     "output_type": "stream",
     "text": [
      "31\n",
      "Enough patients for cohort Folic Acid_atorvastatin\n",
      "A cohort with the same name already exists, please choose another name\n"
     ]
    },
    {
     "name": "stderr",
     "output_type": "stream",
     "text": [
      "\r",
      " 31%|███       | 62/200 [03:36<08:10,  3.55s/it]"
     ]
    },
    {
     "name": "stdout",
     "output_type": "stream",
     "text": [
      "99\n",
      "Enough patients for cohort Folic Acid_levothyroxine\n",
      "A cohort with the same name already exists, please choose another name\n"
     ]
    },
    {
     "name": "stderr",
     "output_type": "stream",
     "text": [
      "\r",
      " 32%|███▏      | 63/200 [03:39<08:11,  3.59s/it]"
     ]
    },
    {
     "name": "stdout",
     "output_type": "stream",
     "text": [
      "33\n",
      "Enough patients for cohort Folic Acid_Amlodipine\n",
      "A cohort with the same name already exists, please choose another name\n"
     ]
    },
    {
     "name": "stderr",
     "output_type": "stream",
     "text": [
      "\r",
      " 32%|███▏      | 64/200 [03:42<07:41,  3.39s/it]"
     ]
    },
    {
     "name": "stdout",
     "output_type": "stream",
     "text": [
      "12\n",
      "Not enough patients for cohort Folic Acid_Esomeprazole\n",
      "Cohort was deleted with exit status 204 \n",
      "A cohort with the same name already exists, please choose another name\n"
     ]
    },
    {
     "name": "stderr",
     "output_type": "stream",
     "text": [
      "\r",
      " 32%|███▎      | 65/200 [03:45<07:28,  3.32s/it]"
     ]
    },
    {
     "name": "stdout",
     "output_type": "stream",
     "text": [
      "12\n",
      "Not enough patients for cohort Folic Acid_Alprazolam\n",
      "Cohort was deleted with exit status 204 \n",
      "A cohort with the same name already exists, please choose another name\n"
     ]
    },
    {
     "name": "stderr",
     "output_type": "stream",
     "text": [
      "\r",
      " 33%|███▎      | 66/200 [03:49<07:49,  3.51s/it]"
     ]
    },
    {
     "name": "stdout",
     "output_type": "stream",
     "text": [
      "115\n",
      "Enough patients for cohort Calcium Carbonate_Aspirin\n",
      "A cohort with the same name already exists, please choose another name\n"
     ]
    },
    {
     "name": "stderr",
     "output_type": "stream",
     "text": [
      "\r",
      " 34%|███▎      | 67/200 [03:53<07:39,  3.45s/it]"
     ]
    },
    {
     "name": "stdout",
     "output_type": "stream",
     "text": [
      "0\n",
      "Not enough patients for cohort Calcium_Vitamin D\n",
      "Cohort was deleted with exit status 204 \n",
      "A cohort with the same name already exists, please choose another name\n"
     ]
    },
    {
     "name": "stderr",
     "output_type": "stream",
     "text": [
      "\r",
      " 34%|███▍      | 68/200 [03:56<07:42,  3.50s/it]"
     ]
    },
    {
     "name": "stdout",
     "output_type": "stream",
     "text": [
      "0\n",
      "Not enough patients for cohort Calcium_Simvastatin\n",
      "Cohort was deleted with exit status 204 \n",
      "A cohort with the same name already exists, please choose another name\n"
     ]
    },
    {
     "name": "stderr",
     "output_type": "stream",
     "text": [
      "\r",
      " 34%|███▍      | 69/200 [03:59<07:24,  3.39s/it]"
     ]
    },
    {
     "name": "stdout",
     "output_type": "stream",
     "text": [
      "0\n",
      "Not enough patients for cohort Calcium_Metoprolol\n",
      "Cohort was deleted with exit status 204 \n",
      "A cohort with the same name already exists, please choose another name\n"
     ]
    },
    {
     "name": "stderr",
     "output_type": "stream",
     "text": [
      "\r",
      " 35%|███▌      | 70/200 [04:03<07:26,  3.43s/it]"
     ]
    },
    {
     "name": "stdout",
     "output_type": "stream",
     "text": [
      "0\n",
      "Not enough patients for cohort Calcium_Aspirin\n",
      "Cohort was deleted with exit status 204 \n",
      "A cohort with the same name already exists, please choose another name\n"
     ]
    },
    {
     "name": "stderr",
     "output_type": "stream",
     "text": [
      "\r",
      " 36%|███▌      | 71/200 [04:07<07:49,  3.64s/it]"
     ]
    },
    {
     "name": "stdout",
     "output_type": "stream",
     "text": [
      "21\n",
      "Not enough patients for cohort Ascorbic Acid_Aspirin\n",
      "Cohort was deleted with exit status 204 \n",
      "A cohort with the same name already exists, please choose another name\n"
     ]
    },
    {
     "name": "stderr",
     "output_type": "stream",
     "text": [
      "\r",
      " 36%|███▌      | 72/200 [04:10<07:23,  3.47s/it]"
     ]
    },
    {
     "name": "stdout",
     "output_type": "stream",
     "text": [
      "7\n",
      "Not enough patients for cohort Vitamin D_levothyroxine\n",
      "Cohort was deleted with exit status 204 \n",
      "A cohort with the same name already exists, please choose another name\n"
     ]
    },
    {
     "name": "stderr",
     "output_type": "stream",
     "text": [
      "\r",
      " 36%|███▋      | 73/200 [04:13<07:12,  3.41s/it]"
     ]
    },
    {
     "name": "stdout",
     "output_type": "stream",
     "text": [
      "7\n",
      "Not enough patients for cohort Vitamin D_Metoprolol\n",
      "Cohort was deleted with exit status 204 \n",
      "A cohort with the same name already exists, please choose another name\n"
     ]
    },
    {
     "name": "stderr",
     "output_type": "stream",
     "text": [
      "\r",
      " 37%|███▋      | 74/200 [04:17<07:19,  3.49s/it]"
     ]
    },
    {
     "name": "stdout",
     "output_type": "stream",
     "text": [
      "1061\n",
      "Enough patients for cohort atorvastatin_levothyroxine\n",
      "A cohort with the same name already exists, please choose another name\n"
     ]
    },
    {
     "name": "stderr",
     "output_type": "stream",
     "text": [
      "\r",
      " 38%|███▊      | 75/200 [04:21<07:23,  3.55s/it]"
     ]
    },
    {
     "name": "stdout",
     "output_type": "stream",
     "text": [
      "613\n",
      "Enough patients for cohort atorvastatin_Hydrocodone\n",
      "A cohort with the same name already exists, please choose another name\n"
     ]
    },
    {
     "name": "stderr",
     "output_type": "stream",
     "text": [
      "\r",
      " 38%|███▊      | 76/200 [04:24<07:14,  3.51s/it]"
     ]
    },
    {
     "name": "stdout",
     "output_type": "stream",
     "text": [
      "36\n",
      "Enough patients for cohort atorvastatin_duloxetine\n",
      "A cohort with the same name already exists, please choose another name\n"
     ]
    },
    {
     "name": "stderr",
     "output_type": "stream",
     "text": [
      "\r",
      " 38%|███▊      | 77/200 [04:28<07:05,  3.46s/it]"
     ]
    },
    {
     "name": "stdout",
     "output_type": "stream",
     "text": [
      "615\n",
      "Enough patients for cohort levothyroxine_Metoprolol\n",
      "A cohort with the same name already exists, please choose another name\n"
     ]
    },
    {
     "name": "stderr",
     "output_type": "stream",
     "text": [
      "\r",
      " 39%|███▉      | 78/200 [04:31<07:04,  3.48s/it]"
     ]
    },
    {
     "name": "stdout",
     "output_type": "stream",
     "text": [
      "749\n",
      "Enough patients for cohort levothyroxine_Hydrocodone\n",
      "A cohort with the same name already exists, please choose another name\n"
     ]
    },
    {
     "name": "stderr",
     "output_type": "stream",
     "text": [
      "\r",
      " 40%|███▉      | 79/200 [04:35<07:17,  3.62s/it]"
     ]
    },
    {
     "name": "stdout",
     "output_type": "stream",
     "text": [
      "192\n",
      "Enough patients for cohort levothyroxine_Alprazolam\n",
      "A cohort with the same name already exists, please choose another name\n"
     ]
    },
    {
     "name": "stderr",
     "output_type": "stream",
     "text": [
      "\r",
      " 40%|████      | 80/200 [04:38<06:49,  3.41s/it]"
     ]
    },
    {
     "name": "stdout",
     "output_type": "stream",
     "text": [
      "36\n",
      "Enough patients for cohort Paclitaxel_Hydrocodone\n",
      "A cohort with the same name already exists, please choose another name\n"
     ]
    },
    {
     "name": "stderr",
     "output_type": "stream",
     "text": [
      "\r",
      " 40%|████      | 81/200 [04:46<09:44,  4.91s/it]"
     ]
    },
    {
     "name": "stdout",
     "output_type": "stream",
     "text": [
      "287\n",
      "Enough patients for cohort valsartan_Aspirin\n",
      "A cohort with the same name already exists, please choose another name\n"
     ]
    },
    {
     "name": "stderr",
     "output_type": "stream",
     "text": [
      "\r",
      " 41%|████      | 82/200 [04:49<08:27,  4.30s/it]"
     ]
    },
    {
     "name": "stdout",
     "output_type": "stream",
     "text": [
      "371\n",
      "Enough patients for cohort Lisinopril_Albuterol\n",
      "A cohort with the same name already exists, please choose another name\n"
     ]
    },
    {
     "name": "stderr",
     "output_type": "stream",
     "text": [
      "\r",
      " 42%|████▏     | 83/200 [04:52<07:45,  3.98s/it]"
     ]
    },
    {
     "name": "stdout",
     "output_type": "stream",
     "text": [
      "326\n",
      "Enough patients for cohort Metoprolol_Albuterol\n",
      "A cohort with the same name already exists, please choose another name\n"
     ]
    },
    {
     "name": "stderr",
     "output_type": "stream",
     "text": [
      "\r",
      " 42%|████▏     | 84/200 [04:56<07:22,  3.82s/it]"
     ]
    },
    {
     "name": "stdout",
     "output_type": "stream",
     "text": [
      "384\n",
      "Enough patients for cohort Hydrocodone_Albuterol\n",
      "A cohort with the same name already exists, please choose another name\n"
     ]
    },
    {
     "name": "stderr",
     "output_type": "stream",
     "text": [
      "\r",
      " 42%|████▎     | 85/200 [04:59<06:38,  3.47s/it]"
     ]
    },
    {
     "name": "stdout",
     "output_type": "stream",
     "text": [
      "572\n",
      "Enough patients for cohort Hydrocodone_Aspirin\n",
      "A cohort with the same name already exists, please choose another name\n"
     ]
    },
    {
     "name": "stderr",
     "output_type": "stream",
     "text": [
      "\r",
      " 43%|████▎     | 86/200 [05:02<06:32,  3.45s/it]"
     ]
    },
    {
     "name": "stdout",
     "output_type": "stream",
     "text": [
      "579\n",
      "Enough patients for cohort Hydrocodone_Furosemide\n",
      "A cohort with the same name already exists, please choose another name\n"
     ]
    },
    {
     "name": "stderr",
     "output_type": "stream",
     "text": [
      "\r",
      " 44%|████▎     | 87/200 [05:05<06:29,  3.45s/it]"
     ]
    },
    {
     "name": "stdout",
     "output_type": "stream",
     "text": [
      "3\n",
      "Not enough patients for cohort Albuterol_tiotropium\n",
      "Cohort was deleted with exit status 204 \n",
      "A cohort with the same name already exists, please choose another name\n"
     ]
    },
    {
     "name": "stderr",
     "output_type": "stream",
     "text": [
      "\r",
      " 44%|████▍     | 88/200 [05:09<06:30,  3.49s/it]"
     ]
    },
    {
     "name": "stdout",
     "output_type": "stream",
     "text": [
      "96\n",
      "Enough patients for cohort Albuterol_Clonazepam\n",
      "A cohort with the same name already exists, please choose another name\n"
     ]
    },
    {
     "name": "stderr",
     "output_type": "stream",
     "text": [
      "\r",
      " 44%|████▍     | 89/200 [05:12<06:28,  3.50s/it]"
     ]
    },
    {
     "name": "stdout",
     "output_type": "stream",
     "text": [
      "36\n",
      "Enough patients for cohort Aspirin_Escitalopram\n",
      "A cohort with the same name already exists, please choose another name\n"
     ]
    },
    {
     "name": "stderr",
     "output_type": "stream",
     "text": [
      "\r",
      " 45%|████▌     | 90/200 [05:16<06:22,  3.48s/it]"
     ]
    },
    {
     "name": "stdout",
     "output_type": "stream",
     "text": [
      "0\n",
      "Not enough patients for cohort Multivitamin preparation_Calcium Carbonate\n",
      "Cohort was deleted with exit status 204 \n",
      "A cohort with the same name already exists, please choose another name\n"
     ]
    },
    {
     "name": "stderr",
     "output_type": "stream",
     "text": [
      "\r",
      " 46%|████▌     | 91/200 [05:19<06:19,  3.48s/it]"
     ]
    },
    {
     "name": "stdout",
     "output_type": "stream",
     "text": [
      "0\n",
      "Not enough patients for cohort Multivitamin preparation_Ascorbic Acid\n",
      "Cohort was deleted with exit status 204 \n",
      "A cohort with the same name already exists, please choose another name\n"
     ]
    },
    {
     "name": "stderr",
     "output_type": "stream",
     "text": [
      "\r",
      " 46%|████▌     | 92/200 [05:23<06:23,  3.55s/it]"
     ]
    },
    {
     "name": "stdout",
     "output_type": "stream",
     "text": [
      "0\n",
      "Not enough patients for cohort Multivitamin preparation_Alendronate\n",
      "Cohort was deleted with exit status 204 \n",
      "A cohort with the same name already exists, please choose another name\n"
     ]
    },
    {
     "name": "stderr",
     "output_type": "stream",
     "text": [
      "\r",
      " 46%|████▋     | 93/200 [05:27<06:27,  3.63s/it]"
     ]
    },
    {
     "name": "stdout",
     "output_type": "stream",
     "text": [
      "0\n",
      "Not enough patients for cohort Multivitamin preparation_atorvastatin\n",
      "Cohort was deleted with exit status 204 \n",
      "A cohort with the same name already exists, please choose another name\n"
     ]
    },
    {
     "name": "stderr",
     "output_type": "stream",
     "text": [
      "\r",
      " 47%|████▋     | 94/200 [05:31<06:32,  3.70s/it]"
     ]
    },
    {
     "name": "stdout",
     "output_type": "stream",
     "text": [
      "0\n",
      "Not enough patients for cohort Multivitamin preparation_Simvastatin\n",
      "Cohort was deleted with exit status 204 \n",
      "A cohort with the same name already exists, please choose another name\n"
     ]
    },
    {
     "name": "stderr",
     "output_type": "stream",
     "text": [
      "\r",
      " 48%|████▊     | 95/200 [05:35<06:54,  3.95s/it]"
     ]
    },
    {
     "name": "stdout",
     "output_type": "stream",
     "text": [
      "0\n",
      "Not enough patients for cohort Multivitamin preparation_levothyroxine\n",
      "Cohort was deleted with exit status 204 \n",
      "A cohort with the same name already exists, please choose another name\n"
     ]
    },
    {
     "name": "stderr",
     "output_type": "stream",
     "text": [
      "\r",
      " 48%|████▊     | 96/200 [05:41<07:30,  4.33s/it]"
     ]
    },
    {
     "name": "stdout",
     "output_type": "stream",
     "text": [
      "0\n",
      "Not enough patients for cohort Multivitamin preparation_Albuterol\n",
      "Cohort was deleted with exit status 204 \n",
      "A cohort with the same name already exists, please choose another name\n"
     ]
    },
    {
     "name": "stderr",
     "output_type": "stream",
     "text": [
      "\r",
      " 48%|████▊     | 97/200 [05:44<07:01,  4.09s/it]"
     ]
    },
    {
     "name": "stdout",
     "output_type": "stream",
     "text": [
      "0\n",
      "Not enough patients for cohort Multivitamin preparation_Diphenhydramine\n",
      "Cohort was deleted with exit status 204 \n",
      "A cohort with the same name already exists, please choose another name\n"
     ]
    },
    {
     "name": "stderr",
     "output_type": "stream",
     "text": [
      "\r",
      " 49%|████▉     | 98/200 [05:48<06:39,  3.92s/it]"
     ]
    },
    {
     "name": "stdout",
     "output_type": "stream",
     "text": [
      "0\n",
      "Not enough patients for cohort Multivitamin preparation_Alprazolam\n",
      "Cohort was deleted with exit status 204 \n",
      "A cohort with the same name already exists, please choose another name\n"
     ]
    },
    {
     "name": "stderr",
     "output_type": "stream",
     "text": [
      "\r",
      " 50%|████▉     | 99/200 [05:51<06:21,  3.78s/it]"
     ]
    },
    {
     "name": "stdout",
     "output_type": "stream",
     "text": [
      "0\n",
      "Not enough patients for cohort Multivitamin preparation_Diazepam\n",
      "Cohort was deleted with exit status 204 \n",
      "A cohort with the same name already exists, please choose another name\n"
     ]
    },
    {
     "name": "stderr",
     "output_type": "stream",
     "text": [
      "\r",
      " 50%|█████     | 100/200 [05:54<06:07,  3.68s/it]"
     ]
    },
    {
     "name": "stdout",
     "output_type": "stream",
     "text": [
      "0\n",
      "Not enough patients for cohort Insulin_Simvastatin\n",
      "Cohort was deleted with exit status 204 \n",
      "A cohort with the same name already exists, please choose another name\n"
     ]
    },
    {
     "name": "stderr",
     "output_type": "stream",
     "text": [
      "\r",
      " 50%|█████     | 101/200 [05:59<06:17,  3.81s/it]"
     ]
    },
    {
     "name": "stdout",
     "output_type": "stream",
     "text": [
      "0\n",
      "Not enough patients for cohort Insulin_Metoprolol\n",
      "Cohort was deleted with exit status 204 \n",
      "A cohort with the same name already exists, please choose another name\n"
     ]
    },
    {
     "name": "stderr",
     "output_type": "stream",
     "text": [
      "\r",
      " 51%|█████     | 102/200 [06:02<05:47,  3.54s/it]"
     ]
    },
    {
     "name": "stdout",
     "output_type": "stream",
     "text": [
      "0\n",
      "Not enough patients for cohort Folic Acid_Simvastatin\n",
      "Cohort was deleted with exit status 204 \n",
      "A cohort with the same name already exists, please choose another name\n"
     ]
    },
    {
     "name": "stderr",
     "output_type": "stream",
     "text": [
      "\r",
      " 52%|█████▏    | 103/200 [06:06<06:08,  3.80s/it]"
     ]
    },
    {
     "name": "stdout",
     "output_type": "stream",
     "text": [
      "0\n",
      "Not enough patients for cohort Folic Acid_Lisinopril\n",
      "Cohort was deleted with exit status 204 \n",
      "A cohort with the same name already exists, please choose another name\n"
     ]
    },
    {
     "name": "stderr",
     "output_type": "stream",
     "text": [
      "\r",
      " 52%|█████▏    | 104/200 [06:09<05:39,  3.53s/it]"
     ]
    },
    {
     "name": "stdout",
     "output_type": "stream",
     "text": [
      "0\n",
      "Not enough patients for cohort Folic Acid_Hydrocodone\n",
      "Cohort was deleted with exit status 204 \n",
      "A cohort with the same name already exists, please choose another name\n"
     ]
    },
    {
     "name": "stderr",
     "output_type": "stream",
     "text": [
      "\r",
      " 52%|█████▎    | 105/200 [06:12<05:33,  3.51s/it]"
     ]
    },
    {
     "name": "stdout",
     "output_type": "stream",
     "text": [
      "0\n",
      "Not enough patients for cohort Folic Acid_Albuterol\n",
      "Cohort was deleted with exit status 204 \n",
      "A cohort with the same name already exists, please choose another name\n"
     ]
    },
    {
     "name": "stderr",
     "output_type": "stream",
     "text": [
      "\r",
      " 53%|█████▎    | 106/200 [06:16<05:23,  3.44s/it]"
     ]
    },
    {
     "name": "stdout",
     "output_type": "stream",
     "text": [
      "0\n",
      "Not enough patients for cohort Folic Acid_Diazepam\n",
      "Cohort was deleted with exit status 204 \n",
      "A cohort with the same name already exists, please choose another name\n"
     ]
    },
    {
     "name": "stderr",
     "output_type": "stream",
     "text": [
      "\r",
      " 54%|█████▎    | 107/200 [06:19<05:23,  3.48s/it]"
     ]
    },
    {
     "name": "stdout",
     "output_type": "stream",
     "text": [
      "0\n",
      "Not enough patients for cohort Potassium Chloride_Lisinopril\n",
      "Cohort was deleted with exit status 204 \n",
      "A cohort with the same name already exists, please choose another name\n"
     ]
    },
    {
     "name": "stderr",
     "output_type": "stream",
     "text": [
      "\r",
      " 54%|█████▍    | 108/200 [06:23<05:24,  3.53s/it]"
     ]
    },
    {
     "name": "stdout",
     "output_type": "stream",
     "text": [
      "0\n",
      "Not enough patients for cohort Potassium Chloride_Metoprolol\n",
      "Cohort was deleted with exit status 204 \n",
      "A cohort with the same name already exists, please choose another name\n"
     ]
    },
    {
     "name": "stderr",
     "output_type": "stream",
     "text": [
      "\r",
      " 55%|█████▍    | 109/200 [06:26<05:25,  3.57s/it]"
     ]
    },
    {
     "name": "stdout",
     "output_type": "stream",
     "text": [
      "0\n",
      "Not enough patients for cohort Potassium Chloride_Hydrocodone\n",
      "Cohort was deleted with exit status 204 \n",
      "A cohort with the same name already exists, please choose another name\n"
     ]
    },
    {
     "name": "stderr",
     "output_type": "stream",
     "text": [
      "\r",
      " 55%|█████▌    | 110/200 [06:30<05:11,  3.46s/it]"
     ]
    },
    {
     "name": "stdout",
     "output_type": "stream",
     "text": [
      "0\n",
      "Not enough patients for cohort Potassium Chloride_Albuterol\n",
      "Cohort was deleted with exit status 204 \n",
      "A cohort with the same name already exists, please choose another name\n"
     ]
    },
    {
     "name": "stderr",
     "output_type": "stream",
     "text": [
      "\r",
      " 56%|█████▌    | 111/200 [06:33<05:06,  3.44s/it]"
     ]
    },
    {
     "name": "stdout",
     "output_type": "stream",
     "text": [
      "0\n",
      "Not enough patients for cohort Potassium Chloride_Aspirin\n",
      "Cohort was deleted with exit status 204 \n",
      "A cohort with the same name already exists, please choose another name\n"
     ]
    },
    {
     "name": "stderr",
     "output_type": "stream",
     "text": [
      "\r",
      " 56%|█████▌    | 112/200 [06:37<05:07,  3.49s/it]"
     ]
    },
    {
     "name": "stdout",
     "output_type": "stream",
     "text": [
      "0\n",
      "Not enough patients for cohort Calcium_levothyroxine\n",
      "Cohort was deleted with exit status 204 \n",
      "A cohort with the same name already exists, please choose another name\n"
     ]
    },
    {
     "name": "stderr",
     "output_type": "stream",
     "text": [
      "\r",
      " 56%|█████▋    | 113/200 [06:45<07:09,  4.94s/it]"
     ]
    },
    {
     "name": "stdout",
     "output_type": "stream",
     "text": [
      "0\n",
      "Not enough patients for cohort Vitamin A_Simvastatin\n",
      "Cohort was deleted with exit status 204 \n",
      "A cohort with the same name already exists, please choose another name\n"
     ]
    },
    {
     "name": "stderr",
     "output_type": "stream",
     "text": [
      "\r",
      " 57%|█████▋    | 114/200 [06:48<06:12,  4.33s/it]"
     ]
    },
    {
     "name": "stdout",
     "output_type": "stream",
     "text": [
      "0\n",
      "Not enough patients for cohort Insulin Lispro_Aspirin\n",
      "Cohort was deleted with exit status 204 \n",
      "A cohort with the same name already exists, please choose another name\n"
     ]
    },
    {
     "name": "stderr",
     "output_type": "stream",
     "text": [
      "\r",
      " 57%|█████▊    | 115/200 [06:51<05:45,  4.06s/it]"
     ]
    },
    {
     "name": "stdout",
     "output_type": "stream",
     "text": [
      "0\n",
      "Not enough patients for cohort atorvastatin_Amlodipine\n",
      "Cohort was deleted with exit status 204 \n",
      "A cohort with the same name already exists, please choose another name\n"
     ]
    },
    {
     "name": "stderr",
     "output_type": "stream",
     "text": [
      "\r",
      " 58%|█████▊    | 116/200 [06:55<05:31,  3.94s/it]"
     ]
    },
    {
     "name": "stdout",
     "output_type": "stream",
     "text": [
      "0\n",
      "Not enough patients for cohort atorvastatin_Warfarin\n",
      "Cohort was deleted with exit status 204 \n",
      "A cohort with the same name already exists, please choose another name\n"
     ]
    },
    {
     "name": "stderr",
     "output_type": "stream",
     "text": [
      "\r",
      " 58%|█████▊    | 117/200 [06:58<05:08,  3.72s/it]"
     ]
    },
    {
     "name": "stdout",
     "output_type": "stream",
     "text": [
      "0\n",
      "Not enough patients for cohort atorvastatin_Lisinopril\n",
      "Cohort was deleted with exit status 204 \n",
      "A cohort with the same name already exists, please choose another name\n"
     ]
    },
    {
     "name": "stderr",
     "output_type": "stream",
     "text": [
      "\r",
      " 59%|█████▉    | 118/200 [07:01<04:48,  3.52s/it]"
     ]
    },
    {
     "name": "stdout",
     "output_type": "stream",
     "text": [
      "0\n",
      "Not enough patients for cohort atorvastatin_Metoprolol\n",
      "Cohort was deleted with exit status 204 \n",
      "A cohort with the same name already exists, please choose another name\n"
     ]
    },
    {
     "name": "stderr",
     "output_type": "stream",
     "text": [
      "\r",
      " 60%|█████▉    | 119/200 [07:04<04:32,  3.37s/it]"
     ]
    },
    {
     "name": "stdout",
     "output_type": "stream",
     "text": [
      "0\n",
      "Not enough patients for cohort atorvastatin_Albuterol\n",
      "Cohort was deleted with exit status 204 \n",
      "A cohort with the same name already exists, please choose another name\n"
     ]
    },
    {
     "name": "stderr",
     "output_type": "stream",
     "text": [
      "\r",
      " 60%|██████    | 120/200 [07:08<04:29,  3.37s/it]"
     ]
    },
    {
     "name": "stdout",
     "output_type": "stream",
     "text": [
      "0\n",
      "Not enough patients for cohort atorvastatin_Aspirin\n",
      "Cohort was deleted with exit status 204 \n",
      "A cohort with the same name already exists, please choose another name\n"
     ]
    },
    {
     "name": "stderr",
     "output_type": "stream",
     "text": [
      "\r",
      " 60%|██████    | 121/200 [07:11<04:28,  3.40s/it]"
     ]
    },
    {
     "name": "stdout",
     "output_type": "stream",
     "text": [
      "0\n",
      "Not enough patients for cohort Simvastatin_levothyroxine\n",
      "Cohort was deleted with exit status 204 \n",
      "A cohort with the same name already exists, please choose another name\n"
     ]
    },
    {
     "name": "stderr",
     "output_type": "stream",
     "text": [
      "\r",
      " 61%|██████    | 122/200 [07:15<04:25,  3.41s/it]"
     ]
    },
    {
     "name": "stdout",
     "output_type": "stream",
     "text": [
      "0\n",
      "Not enough patients for cohort Simvastatin_Amlodipine\n",
      "Cohort was deleted with exit status 204 \n",
      "A cohort with the same name already exists, please choose another name\n"
     ]
    },
    {
     "name": "stderr",
     "output_type": "stream",
     "text": [
      "\r",
      " 62%|██████▏   | 123/200 [07:18<04:30,  3.52s/it]"
     ]
    },
    {
     "name": "stdout",
     "output_type": "stream",
     "text": [
      "0\n",
      "Not enough patients for cohort Simvastatin_Warfarin\n",
      "Cohort was deleted with exit status 204 \n",
      "A cohort with the same name already exists, please choose another name\n"
     ]
    },
    {
     "name": "stderr",
     "output_type": "stream",
     "text": [
      "\r",
      " 62%|██████▏   | 124/200 [07:22<04:40,  3.69s/it]"
     ]
    },
    {
     "name": "stdout",
     "output_type": "stream",
     "text": [
      "0\n",
      "Not enough patients for cohort Simvastatin_Lisinopril\n",
      "Cohort was deleted with exit status 204 \n",
      "A cohort with the same name already exists, please choose another name\n"
     ]
    },
    {
     "name": "stderr",
     "output_type": "stream",
     "text": [
      "\r",
      " 62%|██████▎   | 125/200 [07:25<04:22,  3.50s/it]"
     ]
    },
    {
     "name": "stdout",
     "output_type": "stream",
     "text": [
      "0\n",
      "Not enough patients for cohort Simvastatin_Metoprolol\n",
      "Cohort was deleted with exit status 204 \n",
      "A cohort with the same name already exists, please choose another name\n"
     ]
    },
    {
     "name": "stderr",
     "output_type": "stream",
     "text": [
      "\r",
      " 63%|██████▎   | 126/200 [07:29<04:13,  3.42s/it]"
     ]
    },
    {
     "name": "stdout",
     "output_type": "stream",
     "text": [
      "0\n",
      "Not enough patients for cohort Simvastatin_Albuterol\n",
      "Cohort was deleted with exit status 204 \n",
      "A cohort with the same name already exists, please choose another name\n"
     ]
    },
    {
     "name": "stderr",
     "output_type": "stream",
     "text": [
      "\r",
      " 64%|██████▎   | 127/200 [07:32<04:06,  3.38s/it]"
     ]
    },
    {
     "name": "stdout",
     "output_type": "stream",
     "text": [
      "0\n",
      "Not enough patients for cohort Simvastatin_Aspirin\n",
      "Cohort was deleted with exit status 204 \n",
      "A cohort with the same name already exists, please choose another name\n"
     ]
    },
    {
     "name": "stderr",
     "output_type": "stream",
     "text": [
      "\r",
      " 64%|██████▍   | 128/200 [07:36<04:07,  3.44s/it]"
     ]
    },
    {
     "name": "stdout",
     "output_type": "stream",
     "text": [
      "0\n",
      "Not enough patients for cohort Simvastatin_Furosemide\n",
      "Cohort was deleted with exit status 204 \n",
      "A cohort with the same name already exists, please choose another name\n"
     ]
    },
    {
     "name": "stderr",
     "output_type": "stream",
     "text": [
      "\r",
      " 64%|██████▍   | 129/200 [07:39<04:03,  3.43s/it]"
     ]
    },
    {
     "name": "stdout",
     "output_type": "stream",
     "text": [
      "0\n",
      "Not enough patients for cohort ezetimibe_levothyroxine\n",
      "Cohort was deleted with exit status 204 \n",
      "A cohort with the same name already exists, please choose another name\n"
     ]
    },
    {
     "name": "stderr",
     "output_type": "stream",
     "text": [
      "\r",
      " 65%|██████▌   | 130/200 [07:43<04:11,  3.60s/it]"
     ]
    },
    {
     "name": "stdout",
     "output_type": "stream",
     "text": [
      "0\n",
      "Not enough patients for cohort rosuvastatin_Metoprolol\n",
      "Cohort was deleted with exit status 204 \n",
      "A cohort with the same name already exists, please choose another name\n"
     ]
    },
    {
     "name": "stderr",
     "output_type": "stream",
     "text": [
      "\r",
      " 66%|██████▌   | 131/200 [07:46<03:56,  3.43s/it]"
     ]
    },
    {
     "name": "stdout",
     "output_type": "stream",
     "text": [
      "0\n",
      "Not enough patients for cohort rosuvastatin_Aspirin\n",
      "Cohort was deleted with exit status 204 \n",
      "A cohort with the same name already exists, please choose another name\n"
     ]
    },
    {
     "name": "stderr",
     "output_type": "stream",
     "text": [
      "\r",
      " 66%|██████▌   | 132/200 [07:50<03:56,  3.47s/it]"
     ]
    },
    {
     "name": "stdout",
     "output_type": "stream",
     "text": [
      "0\n",
      "Not enough patients for cohort levothyroxine_Amlodipine\n",
      "Cohort was deleted with exit status 204 \n",
      "A cohort with the same name already exists, please choose another name\n"
     ]
    },
    {
     "name": "stderr",
     "output_type": "stream",
     "text": [
      "\r",
      " 66%|██████▋   | 133/200 [07:53<03:51,  3.46s/it]"
     ]
    },
    {
     "name": "stdout",
     "output_type": "stream",
     "text": [
      "0\n",
      "Not enough patients for cohort levothyroxine_Diltiazem\n",
      "Cohort was deleted with exit status 204 \n",
      "A cohort with the same name already exists, please choose another name\n"
     ]
    },
    {
     "name": "stderr",
     "output_type": "stream",
     "text": [
      "\r",
      " 67%|██████▋   | 134/200 [07:56<03:48,  3.46s/it]"
     ]
    },
    {
     "name": "stdout",
     "output_type": "stream",
     "text": [
      "0\n",
      "Not enough patients for cohort levothyroxine_Lisinopril\n",
      "Cohort was deleted with exit status 204 \n",
      "A cohort with the same name already exists, please choose another name\n"
     ]
    },
    {
     "name": "stderr",
     "output_type": "stream",
     "text": [
      "\r",
      " 68%|██████▊   | 135/200 [08:01<03:59,  3.68s/it]"
     ]
    },
    {
     "name": "stdout",
     "output_type": "stream",
     "text": [
      "0\n",
      "Not enough patients for cohort levothyroxine_Albuterol\n",
      "Cohort was deleted with exit status 204 \n",
      "A cohort with the same name already exists, please choose another name\n"
     ]
    },
    {
     "name": "stderr",
     "output_type": "stream",
     "text": [
      "\r",
      " 68%|██████▊   | 136/200 [08:04<03:55,  3.68s/it]"
     ]
    },
    {
     "name": "stdout",
     "output_type": "stream",
     "text": [
      "0\n",
      "Not enough patients for cohort levothyroxine_Aspirin\n",
      "Cohort was deleted with exit status 204 \n",
      "A cohort with the same name already exists, please choose another name\n"
     ]
    },
    {
     "name": "stderr",
     "output_type": "stream",
     "text": [
      "\r",
      " 68%|██████▊   | 137/200 [08:07<03:35,  3.42s/it]"
     ]
    },
    {
     "name": "stdout",
     "output_type": "stream",
     "text": [
      "0\n",
      "Not enough patients for cohort levothyroxine_Furosemide\n",
      "Cohort was deleted with exit status 204 \n",
      "A cohort with the same name already exists, please choose another name\n"
     ]
    },
    {
     "name": "stderr",
     "output_type": "stream",
     "text": [
      "\r",
      " 69%|██████▉   | 138/200 [08:11<03:33,  3.45s/it]"
     ]
    },
    {
     "name": "stdout",
     "output_type": "stream",
     "text": [
      "0\n",
      "Not enough patients for cohort levothyroxine_Clonazepam\n",
      "Cohort was deleted with exit status 204 \n",
      "A cohort with the same name already exists, please choose another name\n"
     ]
    },
    {
     "name": "stderr",
     "output_type": "stream",
     "text": [
      "\r",
      " 70%|██████▉   | 139/200 [08:14<03:28,  3.42s/it]"
     ]
    },
    {
     "name": "stdout",
     "output_type": "stream",
     "text": [
      "0\n",
      "Not enough patients for cohort levothyroxine_Diazepam\n",
      "Cohort was deleted with exit status 204 \n",
      "A cohort with the same name already exists, please choose another name\n"
     ]
    },
    {
     "name": "stderr",
     "output_type": "stream",
     "text": [
      "\r",
      " 70%|███████   | 140/200 [08:18<03:27,  3.45s/it]"
     ]
    },
    {
     "name": "stdout",
     "output_type": "stream",
     "text": [
      "0\n",
      "Not enough patients for cohort levothyroxine_duloxetine\n",
      "Cohort was deleted with exit status 204 \n",
      "A cohort with the same name already exists, please choose another name\n"
     ]
    },
    {
     "name": "stderr",
     "output_type": "stream",
     "text": [
      "\r",
      " 70%|███████   | 141/200 [08:21<03:22,  3.44s/it]"
     ]
    },
    {
     "name": "stdout",
     "output_type": "stream",
     "text": [
      "0\n",
      "Not enough patients for cohort carvedilol_Aspirin\n",
      "Cohort was deleted with exit status 204 \n",
      "A cohort with the same name already exists, please choose another name\n"
     ]
    },
    {
     "name": "stderr",
     "output_type": "stream",
     "text": [
      "\r",
      " 71%|███████   | 142/200 [08:25<03:32,  3.66s/it]"
     ]
    },
    {
     "name": "stdout",
     "output_type": "stream",
     "text": [
      "0\n",
      "Not enough patients for cohort Amlodipine_Warfarin\n",
      "Cohort was deleted with exit status 204 \n",
      "A cohort with the same name already exists, please choose another name\n"
     ]
    },
    {
     "name": "stderr",
     "output_type": "stream",
     "text": [
      "\r",
      " 72%|███████▏  | 143/200 [08:29<03:26,  3.63s/it]"
     ]
    },
    {
     "name": "stdout",
     "output_type": "stream",
     "text": [
      "0\n",
      "Not enough patients for cohort Amlodipine_Aspirin\n",
      "Cohort was deleted with exit status 204 \n",
      "A cohort with the same name already exists, please choose another name\n"
     ]
    },
    {
     "name": "stderr",
     "output_type": "stream",
     "text": [
      "\r",
      " 72%|███████▏  | 144/200 [08:33<03:28,  3.72s/it]"
     ]
    },
    {
     "name": "stdout",
     "output_type": "stream",
     "text": [
      "0\n",
      "Not enough patients for cohort Diltiazem_Metoprolol\n",
      "Cohort was deleted with exit status 204 \n",
      "A cohort with the same name already exists, please choose another name\n"
     ]
    },
    {
     "name": "stderr",
     "output_type": "stream",
     "text": [
      "\r",
      " 72%|███████▎  | 145/200 [08:36<03:20,  3.64s/it]"
     ]
    },
    {
     "name": "stdout",
     "output_type": "stream",
     "text": [
      "0\n",
      "Not enough patients for cohort erlotinib_Ondansetron\n",
      "Cohort was deleted with exit status 204 \n",
      "A cohort with the same name already exists, please choose another name\n"
     ]
    },
    {
     "name": "stderr",
     "output_type": "stream",
     "text": [
      "\r",
      " 73%|███████▎  | 146/200 [08:39<03:08,  3.49s/it]"
     ]
    },
    {
     "name": "stdout",
     "output_type": "stream",
     "text": [
      "0\n",
      "Not enough patients for cohort Warfarin_Hydrocodone\n",
      "Cohort was deleted with exit status 204 \n",
      "A cohort with the same name already exists, please choose another name\n"
     ]
    },
    {
     "name": "stderr",
     "output_type": "stream",
     "text": [
      "\r",
      " 74%|███████▎  | 147/200 [08:42<02:57,  3.35s/it]"
     ]
    },
    {
     "name": "stdout",
     "output_type": "stream",
     "text": [
      "0\n",
      "Not enough patients for cohort Warfarin_Aspirin\n",
      "Cohort was deleted with exit status 204 \n",
      "A cohort with the same name already exists, please choose another name\n"
     ]
    },
    {
     "name": "stderr",
     "output_type": "stream",
     "text": [
      "\r",
      " 74%|███████▍  | 148/200 [08:47<03:23,  3.91s/it]"
     ]
    },
    {
     "name": "stdout",
     "output_type": "stream",
     "text": [
      "0\n",
      "Not enough patients for cohort Lisinopril_Metoprolol\n",
      "Cohort was deleted with exit status 204 \n",
      "A cohort with the same name already exists, please choose another name\n"
     ]
    },
    {
     "name": "stderr",
     "output_type": "stream",
     "text": [
      "\r",
      " 74%|███████▍  | 149/200 [08:51<03:19,  3.90s/it]"
     ]
    },
    {
     "name": "stdout",
     "output_type": "stream",
     "text": [
      "0\n",
      "Not enough patients for cohort Lisinopril_Hydrocodone\n",
      "Cohort was deleted with exit status 204 \n",
      "A cohort with the same name already exists, please choose another name\n"
     ]
    },
    {
     "name": "stderr",
     "output_type": "stream",
     "text": [
      "\r",
      " 75%|███████▌  | 150/200 [08:55<03:13,  3.87s/it]"
     ]
    },
    {
     "name": "stdout",
     "output_type": "stream",
     "text": [
      "0\n",
      "Not enough patients for cohort Lisinopril_Aspirin\n",
      "Cohort was deleted with exit status 204 \n",
      "A cohort with the same name already exists, please choose another name\n"
     ]
    },
    {
     "name": "stderr",
     "output_type": "stream",
     "text": [
      "\r",
      " 76%|███████▌  | 151/200 [08:58<02:57,  3.63s/it]"
     ]
    },
    {
     "name": "stdout",
     "output_type": "stream",
     "text": [
      "0\n",
      "Not enough patients for cohort Lisinopril_Esomeprazole\n",
      "Cohort was deleted with exit status 204 \n",
      "A cohort with the same name already exists, please choose another name\n"
     ]
    },
    {
     "name": "stderr",
     "output_type": "stream",
     "text": [
      "\r",
      " 76%|███████▌  | 152/200 [09:02<02:52,  3.60s/it]"
     ]
    },
    {
     "name": "stdout",
     "output_type": "stream",
     "text": [
      "0\n",
      "Not enough patients for cohort Metoprolol_Hydrocodone\n",
      "Cohort was deleted with exit status 204 \n",
      "A cohort with the same name already exists, please choose another name\n"
     ]
    },
    {
     "name": "stderr",
     "output_type": "stream",
     "text": [
      "\r",
      " 76%|███████▋  | 153/200 [09:04<02:35,  3.30s/it]"
     ]
    },
    {
     "name": "stdout",
     "output_type": "stream",
     "text": [
      "0\n",
      "Not enough patients for cohort Metoprolol_Aspirin\n",
      "Cohort was deleted with exit status 204 \n",
      "A cohort with the same name already exists, please choose another name\n"
     ]
    },
    {
     "name": "stderr",
     "output_type": "stream",
     "text": [
      "\r",
      " 77%|███████▋  | 154/200 [09:08<02:36,  3.41s/it]"
     ]
    },
    {
     "name": "stdout",
     "output_type": "stream",
     "text": [
      "0\n",
      "Not enough patients for cohort Metoprolol_Esomeprazole\n",
      "Cohort was deleted with exit status 204 \n",
      "A cohort with the same name already exists, please choose another name\n"
     ]
    },
    {
     "name": "stderr",
     "output_type": "stream",
     "text": [
      "\r",
      " 78%|███████▊  | 155/200 [09:11<02:27,  3.28s/it]"
     ]
    },
    {
     "name": "stdout",
     "output_type": "stream",
     "text": [
      "0\n",
      "Not enough patients for cohort Metoprolol_Alprazolam\n",
      "Cohort was deleted with exit status 204 \n",
      "A cohort with the same name already exists, please choose another name\n"
     ]
    },
    {
     "name": "stderr",
     "output_type": "stream",
     "text": [
      "\r",
      " 78%|███████▊  | 156/200 [09:15<02:28,  3.39s/it]"
     ]
    },
    {
     "name": "stdout",
     "output_type": "stream",
     "text": [
      "0\n",
      "Not enough patients for cohort Metoprolol_Escitalopram\n",
      "Cohort was deleted with exit status 204 \n",
      "A cohort with the same name already exists, please choose another name\n"
     ]
    },
    {
     "name": "stderr",
     "output_type": "stream",
     "text": [
      "\r",
      " 78%|███████▊  | 157/200 [09:18<02:24,  3.36s/it]"
     ]
    },
    {
     "name": "stdout",
     "output_type": "stream",
     "text": [
      "0\n",
      "Not enough patients for cohort Hydrocodone_Esomeprazole\n",
      "Cohort was deleted with exit status 204 \n",
      "A cohort with the same name already exists, please choose another name\n"
     ]
    },
    {
     "name": "stderr",
     "output_type": "stream",
     "text": [
      "\r",
      " 79%|███████▉  | 158/200 [09:21<02:21,  3.38s/it]"
     ]
    },
    {
     "name": "stdout",
     "output_type": "stream",
     "text": [
      "0\n",
      "Not enough patients for cohort Albuterol_Aspirin\n",
      "Cohort was deleted with exit status 204 \n",
      "A cohort with the same name already exists, please choose another name\n"
     ]
    },
    {
     "name": "stderr",
     "output_type": "stream",
     "text": [
      "\r",
      " 80%|███████▉  | 159/200 [09:25<02:22,  3.48s/it]"
     ]
    },
    {
     "name": "stdout",
     "output_type": "stream",
     "text": [
      "0\n",
      "Not enough patients for cohort Albuterol_Diazepam\n",
      "Cohort was deleted with exit status 204 \n",
      "A cohort with the same name already exists, please choose another name\n"
     ]
    },
    {
     "name": "stderr",
     "output_type": "stream",
     "text": [
      "\r",
      " 80%|████████  | 160/200 [09:29<02:23,  3.59s/it]"
     ]
    },
    {
     "name": "stdout",
     "output_type": "stream",
     "text": [
      "0\n",
      "Not enough patients for cohort Aspirin_tiotropium\n",
      "Cohort was deleted with exit status 204 \n",
      "A cohort with the same name already exists, please choose another name\n"
     ]
    },
    {
     "name": "stderr",
     "output_type": "stream",
     "text": [
      "\r",
      " 80%|████████  | 161/200 [09:32<02:12,  3.40s/it]"
     ]
    },
    {
     "name": "stdout",
     "output_type": "stream",
     "text": [
      "0\n",
      "Not enough patients for cohort Aspirin_Docusate\n",
      "Cohort was deleted with exit status 204 \n",
      "A cohort with the same name already exists, please choose another name\n"
     ]
    },
    {
     "name": "stderr",
     "output_type": "stream",
     "text": [
      "\r",
      " 81%|████████  | 162/200 [09:35<02:11,  3.45s/it]"
     ]
    },
    {
     "name": "stdout",
     "output_type": "stream",
     "text": [
      "0\n",
      "Not enough patients for cohort Aspirin_tamsulosin\n",
      "Cohort was deleted with exit status 204 \n",
      "A cohort with the same name already exists, please choose another name\n"
     ]
    },
    {
     "name": "stderr",
     "output_type": "stream",
     "text": [
      "\r",
      " 82%|████████▏ | 163/200 [09:40<02:15,  3.66s/it]"
     ]
    },
    {
     "name": "stdout",
     "output_type": "stream",
     "text": [
      "0\n",
      "Not enough patients for cohort Aspirin_Clonazepam\n",
      "Cohort was deleted with exit status 204 \n",
      "A cohort with the same name already exists, please choose another name\n"
     ]
    },
    {
     "name": "stderr",
     "output_type": "stream",
     "text": [
      "\r",
      " 82%|████████▏ | 164/200 [09:43<02:08,  3.56s/it]"
     ]
    },
    {
     "name": "stdout",
     "output_type": "stream",
     "text": [
      "0\n",
      "Not enough patients for cohort Aspirin_Alprazolam\n",
      "Cohort was deleted with exit status 204 \n",
      "A cohort with the same name already exists, please choose another name\n"
     ]
    },
    {
     "name": "stderr",
     "output_type": "stream",
     "text": [
      "\r",
      " 82%|████████▎ | 165/200 [09:46<01:59,  3.42s/it]"
     ]
    },
    {
     "name": "stdout",
     "output_type": "stream",
     "text": [
      "0\n",
      "Not enough patients for cohort Aspirin_Diazepam\n",
      "Cohort was deleted with exit status 204 \n",
      "A cohort with the same name already exists, please choose another name\n"
     ]
    },
    {
     "name": "stderr",
     "output_type": "stream",
     "text": [
      "\r",
      " 83%|████████▎ | 166/200 [09:49<01:55,  3.40s/it]"
     ]
    },
    {
     "name": "stdout",
     "output_type": "stream",
     "text": [
      "0\n",
      "Not enough patients for cohort Furosemide_Esomeprazole\n",
      "Cohort was deleted with exit status 204 \n",
      "A cohort with the same name already exists, please choose another name\n"
     ]
    },
    {
     "name": "stderr",
     "output_type": "stream",
     "text": [
      "\r",
      " 84%|████████▎ | 167/200 [09:53<01:58,  3.60s/it]"
     ]
    },
    {
     "name": "stdout",
     "output_type": "stream",
     "text": [
      "0\n",
      "Not enough patients for cohort Furosemide_Alprazolam\n",
      "Cohort was deleted with exit status 204 \n",
      "A cohort with the same name already exists, please choose another name\n"
     ]
    },
    {
     "name": "stderr",
     "output_type": "stream",
     "text": [
      "\r",
      " 84%|████████▍ | 168/200 [09:56<01:47,  3.37s/it]"
     ]
    },
    {
     "name": "stdout",
     "output_type": "stream",
     "text": [
      "0\n",
      "Not enough patients for cohort Esomeprazole_Clonazepam\n",
      "Cohort was deleted with exit status 204 \n",
      "A cohort with the same name already exists, please choose another name\n"
     ]
    },
    {
     "name": "stderr",
     "output_type": "stream",
     "text": [
      "\r",
      " 84%|████████▍ | 169/200 [10:00<01:47,  3.47s/it]"
     ]
    },
    {
     "name": "stdout",
     "output_type": "stream",
     "text": [
      "0\n",
      "Not enough patients for cohort Esomeprazole_Alprazolam\n",
      "Cohort was deleted with exit status 204 \n",
      "A cohort with the same name already exists, please choose another name\n"
     ]
    },
    {
     "name": "stderr",
     "output_type": "stream",
     "text": [
      "\r",
      " 85%|████████▌ | 170/200 [10:03<01:43,  3.45s/it]"
     ]
    },
    {
     "name": "stdout",
     "output_type": "stream",
     "text": [
      "0\n",
      "Not enough patients for cohort Multivitamin preparation_Potassium Chloride\n",
      "Cohort was deleted with exit status 204 \n",
      "A cohort with the same name already exists, please choose another name\n"
     ]
    },
    {
     "name": "stderr",
     "output_type": "stream",
     "text": [
      "\r",
      " 86%|████████▌ | 171/200 [10:08<01:47,  3.70s/it]"
     ]
    },
    {
     "name": "stdout",
     "output_type": "stream",
     "text": [
      "0\n",
      "Not enough patients for cohort Multivitamin preparation_Calcium\n",
      "Cohort was deleted with exit status 204 \n",
      "A cohort with the same name already exists, please choose another name\n"
     ]
    },
    {
     "name": "stderr",
     "output_type": "stream",
     "text": [
      "\r",
      " 86%|████████▌ | 172/200 [10:11<01:36,  3.45s/it]"
     ]
    },
    {
     "name": "stdout",
     "output_type": "stream",
     "text": [
      "0\n",
      "Not enough patients for cohort Multivitamin preparation_Vitamin D\n",
      "Cohort was deleted with exit status 204 \n",
      "A cohort with the same name already exists, please choose another name\n"
     ]
    },
    {
     "name": "stderr",
     "output_type": "stream",
     "text": [
      "\r",
      " 86%|████████▋ | 173/200 [10:14<01:30,  3.35s/it]"
     ]
    },
    {
     "name": "stdout",
     "output_type": "stream",
     "text": [
      "0\n",
      "Not enough patients for cohort Multivitamin preparation_rosuvastatin\n",
      "Cohort was deleted with exit status 204 \n",
      "A cohort with the same name already exists, please choose another name\n"
     ]
    },
    {
     "name": "stderr",
     "output_type": "stream",
     "text": [
      "\r",
      " 87%|████████▋ | 174/200 [10:17<01:29,  3.45s/it]"
     ]
    },
    {
     "name": "stdout",
     "output_type": "stream",
     "text": [
      "0\n",
      "Not enough patients for cohort Multivitamin preparation_Amlodipine\n",
      "Cohort was deleted with exit status 204 \n",
      "A cohort with the same name already exists, please choose another name\n"
     ]
    },
    {
     "name": "stderr",
     "output_type": "stream",
     "text": [
      "\r",
      " 88%|████████▊ | 175/200 [10:21<01:30,  3.64s/it]"
     ]
    },
    {
     "name": "stdout",
     "output_type": "stream",
     "text": [
      "0\n",
      "Not enough patients for cohort Multivitamin preparation_Diltiazem\n",
      "Cohort was deleted with exit status 204 \n",
      "A cohort with the same name already exists, please choose another name\n"
     ]
    },
    {
     "name": "stderr",
     "output_type": "stream",
     "text": [
      "\r",
      " 88%|████████▊ | 176/200 [10:24<01:21,  3.40s/it]"
     ]
    },
    {
     "name": "stdout",
     "output_type": "stream",
     "text": [
      "0\n",
      "Not enough patients for cohort Multivitamin preparation_Warfarin\n",
      "Cohort was deleted with exit status 204 \n",
      "A cohort with the same name already exists, please choose another name\n"
     ]
    },
    {
     "name": "stderr",
     "output_type": "stream",
     "text": [
      "\r",
      " 88%|████████▊ | 177/200 [10:28<01:19,  3.44s/it]"
     ]
    },
    {
     "name": "stdout",
     "output_type": "stream",
     "text": [
      "0\n",
      "Not enough patients for cohort Multivitamin preparation_valsartan\n",
      "Cohort was deleted with exit status 204 \n",
      "A cohort with the same name already exists, please choose another name\n"
     ]
    },
    {
     "name": "stderr",
     "output_type": "stream",
     "text": [
      "\r",
      " 89%|████████▉ | 178/200 [10:31<01:17,  3.50s/it]"
     ]
    },
    {
     "name": "stdout",
     "output_type": "stream",
     "text": [
      "0\n",
      "Not enough patients for cohort Multivitamin preparation_montelukast\n",
      "Cohort was deleted with exit status 204 \n",
      "A cohort with the same name already exists, please choose another name\n"
     ]
    },
    {
     "name": "stderr",
     "output_type": "stream",
     "text": [
      "\r",
      " 90%|████████▉ | 179/200 [10:36<01:17,  3.68s/it]"
     ]
    },
    {
     "name": "stdout",
     "output_type": "stream",
     "text": [
      "0\n",
      "Not enough patients for cohort Multivitamin preparation_Ranitidine\n",
      "Cohort was deleted with exit status 204 \n",
      "A cohort with the same name already exists, please choose another name\n"
     ]
    },
    {
     "name": "stderr",
     "output_type": "stream",
     "text": [
      "\r",
      " 90%|█████████ | 180/200 [10:38<01:08,  3.40s/it]"
     ]
    },
    {
     "name": "stdout",
     "output_type": "stream",
     "text": [
      "0\n",
      "Not enough patients for cohort Multivitamin preparation_Furosemide\n",
      "Cohort was deleted with exit status 204 \n",
      "A cohort with the same name already exists, please choose another name\n"
     ]
    },
    {
     "name": "stderr",
     "output_type": "stream",
     "text": [
      "\r",
      " 90%|█████████ | 181/200 [10:42<01:04,  3.40s/it]"
     ]
    },
    {
     "name": "stdout",
     "output_type": "stream",
     "text": [
      "0\n",
      "Not enough patients for cohort Multivitamin preparation_Docusate\n",
      "Cohort was deleted with exit status 204 \n",
      "A cohort with the same name already exists, please choose another name\n"
     ]
    },
    {
     "name": "stderr",
     "output_type": "stream",
     "text": [
      "\r",
      " 91%|█████████ | 182/200 [10:45<01:02,  3.50s/it]"
     ]
    },
    {
     "name": "stdout",
     "output_type": "stream",
     "text": [
      "0\n",
      "Not enough patients for cohort Multivitamin preparation_Esomeprazole\n",
      "Cohort was deleted with exit status 204 \n",
      "A cohort with the same name already exists, please choose another name\n"
     ]
    },
    {
     "name": "stderr",
     "output_type": "stream",
     "text": [
      "\r",
      " 92%|█████████▏| 183/200 [10:49<01:02,  3.65s/it]"
     ]
    },
    {
     "name": "stdout",
     "output_type": "stream",
     "text": [
      "0\n",
      "Not enough patients for cohort Multivitamin preparation_Escitalopram\n",
      "Cohort was deleted with exit status 204 \n",
      "A cohort with the same name already exists, please choose another name\n"
     ]
    },
    {
     "name": "stderr",
     "output_type": "stream",
     "text": [
      "\r",
      " 92%|█████████▏| 184/200 [10:52<00:54,  3.40s/it]"
     ]
    },
    {
     "name": "stdout",
     "output_type": "stream",
     "text": [
      "0\n",
      "Not enough patients for cohort Insulin_carvedilol\n",
      "Cohort was deleted with exit status 204 \n",
      "A cohort with the same name already exists, please choose another name\n"
     ]
    },
    {
     "name": "stderr",
     "output_type": "stream",
     "text": [
      "\r",
      " 92%|█████████▎| 185/200 [10:56<00:51,  3.42s/it]"
     ]
    },
    {
     "name": "stdout",
     "output_type": "stream",
     "text": [
      "0\n",
      "Not enough patients for cohort Insulin_Aspirin\n",
      "Cohort was deleted with exit status 204 \n",
      "A cohort with the same name already exists, please choose another name\n"
     ]
    },
    {
     "name": "stderr",
     "output_type": "stream",
     "text": [
      "\r",
      " 93%|█████████▎| 186/200 [10:59<00:48,  3.46s/it]"
     ]
    },
    {
     "name": "stdout",
     "output_type": "stream",
     "text": [
      "0\n",
      "Not enough patients for cohort Insulin_Furosemide\n",
      "Cohort was deleted with exit status 204 \n",
      "A cohort with the same name already exists, please choose another name\n"
     ]
    },
    {
     "name": "stderr",
     "output_type": "stream",
     "text": [
      "\r",
      " 94%|█████████▎| 187/200 [11:03<00:47,  3.68s/it]"
     ]
    },
    {
     "name": "stdout",
     "output_type": "stream",
     "text": [
      "0\n",
      "Not enough patients for cohort Folic Acid_Alendronate\n",
      "Cohort was deleted with exit status 204 \n",
      "A cohort with the same name already exists, please choose another name\n"
     ]
    },
    {
     "name": "stderr",
     "output_type": "stream",
     "text": [
      "\r",
      " 94%|█████████▍| 188/200 [11:06<00:41,  3.48s/it]"
     ]
    },
    {
     "name": "stdout",
     "output_type": "stream",
     "text": [
      "0\n",
      "Not enough patients for cohort Folic Acid_Warfarin\n",
      "Cohort was deleted with exit status 204 \n",
      "A cohort with the same name already exists, please choose another name\n"
     ]
    },
    {
     "name": "stderr",
     "output_type": "stream",
     "text": [
      "\r",
      " 94%|█████████▍| 189/200 [11:10<00:37,  3.44s/it]"
     ]
    },
    {
     "name": "stdout",
     "output_type": "stream",
     "text": [
      "0\n",
      "Not enough patients for cohort Folic Acid_Metoprolol\n",
      "Cohort was deleted with exit status 204 \n",
      "A cohort with the same name already exists, please choose another name\n"
     ]
    },
    {
     "name": "stderr",
     "output_type": "stream",
     "text": [
      "\r",
      " 95%|█████████▌| 190/200 [11:13<00:35,  3.52s/it]"
     ]
    },
    {
     "name": "stdout",
     "output_type": "stream",
     "text": [
      "0\n",
      "Not enough patients for cohort Folic Acid_Aspirin\n",
      "Cohort was deleted with exit status 204 \n",
      "A cohort with the same name already exists, please choose another name\n"
     ]
    },
    {
     "name": "stderr",
     "output_type": "stream",
     "text": [
      "\r",
      " 96%|█████████▌| 191/200 [11:17<00:32,  3.61s/it]"
     ]
    },
    {
     "name": "stdout",
     "output_type": "stream",
     "text": [
      "0\n",
      "Not enough patients for cohort Folic Acid_Furosemide\n",
      "Cohort was deleted with exit status 204 \n",
      "A cohort with the same name already exists, please choose another name\n"
     ]
    },
    {
     "name": "stderr",
     "output_type": "stream",
     "text": [
      "\r",
      " 96%|█████████▌| 192/200 [11:20<00:27,  3.39s/it]"
     ]
    },
    {
     "name": "stdout",
     "output_type": "stream",
     "text": [
      "0\n",
      "Not enough patients for cohort Potassium Chloride_Simvastatin\n",
      "Cohort was deleted with exit status 204 \n",
      "A cohort with the same name already exists, please choose another name\n"
     ]
    },
    {
     "name": "stderr",
     "output_type": "stream",
     "text": [
      "\r",
      " 96%|█████████▋| 193/200 [11:24<00:23,  3.41s/it]"
     ]
    },
    {
     "name": "stdout",
     "output_type": "stream",
     "text": [
      "0\n",
      "Not enough patients for cohort Potassium Chloride_levothyroxine\n",
      "Cohort was deleted with exit status 204 \n",
      "A cohort with the same name already exists, please choose another name\n"
     ]
    },
    {
     "name": "stderr",
     "output_type": "stream",
     "text": [
      "\r",
      " 97%|█████████▋| 194/200 [11:27<00:20,  3.48s/it]"
     ]
    },
    {
     "name": "stdout",
     "output_type": "stream",
     "text": [
      "0\n",
      "Not enough patients for cohort Potassium Chloride_carvedilol\n",
      "Cohort was deleted with exit status 204 \n",
      "A cohort with the same name already exists, please choose another name\n"
     ]
    },
    {
     "name": "stderr",
     "output_type": "stream",
     "text": [
      "\r",
      " 98%|█████████▊| 195/200 [11:31<00:17,  3.60s/it]"
     ]
    },
    {
     "name": "stdout",
     "output_type": "stream",
     "text": [
      "0\n",
      "Not enough patients for cohort Potassium Chloride_Warfarin\n",
      "Cohort was deleted with exit status 204 \n",
      "A cohort with the same name already exists, please choose another name\n"
     ]
    },
    {
     "name": "stderr",
     "output_type": "stream",
     "text": [
      "\r",
      " 98%|█████████▊| 196/200 [11:34<00:13,  3.41s/it]"
     ]
    },
    {
     "name": "stdout",
     "output_type": "stream",
     "text": [
      "0\n",
      "Not enough patients for cohort Potassium Chloride_Furosemide\n",
      "Cohort was deleted with exit status 204 \n",
      "A cohort with the same name already exists, please choose another name\n"
     ]
    },
    {
     "name": "stderr",
     "output_type": "stream",
     "text": [
      "\r",
      " 98%|█████████▊| 197/200 [11:38<00:10,  3.42s/it]"
     ]
    },
    {
     "name": "stdout",
     "output_type": "stream",
     "text": [
      "0\n",
      "Not enough patients for cohort Potassium Chloride_Esomeprazole\n",
      "Cohort was deleted with exit status 204 \n",
      "A cohort with the same name already exists, please choose another name\n"
     ]
    },
    {
     "name": "stderr",
     "output_type": "stream",
     "text": [
      "\r",
      " 99%|█████████▉| 198/200 [11:41<00:07,  3.50s/it]"
     ]
    },
    {
     "name": "stdout",
     "output_type": "stream",
     "text": [
      "0\n",
      "Not enough patients for cohort Calcium_atorvastatin\n",
      "Cohort was deleted with exit status 204 \n",
      "A cohort with the same name already exists, please choose another name\n"
     ]
    },
    {
     "name": "stderr",
     "output_type": "stream",
     "text": [
      "\r",
      "100%|█████████▉| 199/200 [11:45<00:03,  3.68s/it]"
     ]
    },
    {
     "name": "stdout",
     "output_type": "stream",
     "text": [
      "0\n",
      "Not enough patients for cohort Vitamin D_Vitamin A\n",
      "Cohort was deleted with exit status 204 \n",
      "A cohort with the same name already exists, please choose another name\n"
     ]
    },
    {
     "name": "stderr",
     "output_type": "stream",
     "text": [
      "\r",
      "100%|██████████| 200/200 [11:48<00:00,  3.41s/it]"
     ]
    },
    {
     "name": "stdout",
     "output_type": "stream",
     "text": [
      "38\n",
      "Enough patients for cohort Alendronate_irbesartan\n"
     ]
    },
    {
     "name": "stderr",
     "output_type": "stream",
     "text": [
      "\n"
     ]
    }
   ],
   "source": [
    "# Retrieve patient information for the top 50 ddi predictions\n",
    "qualifying_drugpairs = list()\n",
    "\n",
    "for drugpair in tqdm(top_ddi):\n",
    "    \n",
    "    # Creation of the first cohort with exposure to both drugs of the drugpair within 7 days\n",
    "    concept1 = ohdsi.get_concept_info(drugpair[0])\n",
    "    concept2 = ohdsi.get_concept_info(drugpair[1])\n",
    "    \n",
    "    data = ohdsi.cohort_definition_2D(concept1, concept2)\n",
    "    status = ohdsi.create_cohort(data)\n",
    "    \n",
    "    # Update the mapping dicionaries\n",
    "    cohorts = ohdsi.get_cohorts()\n",
    "    for cohort in cohorts:\n",
    "        if cohort['name'] == \"%s_%s\"%(concept1[\"CONCEPT_NAME\"],concept2[\"CONCEPT_NAME\"]):\n",
    "            map_id_name[cohort['id']] =  cohort['name']\n",
    "            map_name_id[cohort['name']] = cohort['id']\n",
    "    \n",
    "    cohort_id = map_name_id[\"%s_%s\"%(concept1[\"CONCEPT_NAME\"],concept2[\"CONCEPT_NAME\"])]\n",
    "    info = ohdsi.generate_cohort(cohort_id)\n",
    "    \n",
    "    patients = ohdsi.getAlldistinctPatients(cohort_id)\n",
    "    print len(patients)\n",
    "    \n",
    "    if(len(patients)<30):\n",
    "        print \"Not enough patients for cohort %s_%s\" %(concept1[\"CONCEPT_NAME\"],concept2[\"CONCEPT_NAME\"])\n",
    "        status_delete = ohdsi.delete_cohort(cohort_id)\n",
    "    else:\n",
    "        print \"Enough patients for cohort %s_%s\" %(concept1[\"CONCEPT_NAME\"],concept2[\"CONCEPT_NAME\"])\n",
    "        qualifying_drugpairs.append(drugpair)"
   ]
  },
  {
   "cell_type": "code",
   "execution_count": 70,
   "metadata": {},
   "outputs": [
    {
     "name": "stdout",
     "output_type": "stream",
     "text": [
      "54\n",
      "Calcium Carbonate Enalapril\n",
      "atorvastatin Alprazolam\n",
      "rosuvastatin Lisinopril\n"
     ]
    }
   ],
   "source": [
    "print len(qualifying_drugpairs)\n",
    "#print qualifying_drugpairs\n",
    "print concept2name[qualifying_drugpairs[0][0]], concept2name[qualifying_drugpairs[0][1]]\n",
    "print concept2name[qualifying_drugpairs[1][0]], concept2name[qualifying_drugpairs[1][1]]\n",
    "print concept2name[qualifying_drugpairs[2][0]], concept2name[qualifying_drugpairs[2][1]]"
   ]
  },
  {
   "cell_type": "markdown",
   "metadata": {},
   "source": [
    "## Corroborate drugpair predictions using clinical data"
   ]
  },
  {
   "cell_type": "code",
   "execution_count": null,
   "metadata": {
    "collapsed": true
   },
   "outputs": [],
   "source": [
    "#Get all patients exposed to one drug alone \n",
    "# + with blood pressure measurements within 30 days before and after the intake of drug\n"
   ]
  },
  {
   "cell_type": "code",
   "execution_count": 68,
   "metadata": {
    "collapsed": true
   },
   "outputs": [],
   "source": [
    "# Assess significance of the difference in values of BP for drugpair and control groups using Mann-Whitney U test\n",
    "from scipy.stats import mannwhitneyu"
   ]
  },
  {
   "cell_type": "code",
   "execution_count": 69,
   "metadata": {
    "collapsed": true
   },
   "outputs": [],
   "source": [
    "# Correct for multiple hypothesis testing using Bonferroni's method"
   ]
  },
  {
   "cell_type": "code",
   "execution_count": null,
   "metadata": {
    "collapsed": true
   },
   "outputs": [],
   "source": []
  }
 ],
 "metadata": {
  "kernelspec": {
   "display_name": "Python 2",
   "language": "python",
   "name": "python2"
  },
  "language_info": {
   "codemirror_mode": {
    "name": "ipython",
    "version": 2
   },
   "file_extension": ".py",
   "mimetype": "text/x-python",
   "name": "python",
   "nbconvert_exporter": "python",
   "pygments_lexer": "ipython2",
   "version": "2.7.12"
  }
 },
 "nbformat": 4,
 "nbformat_minor": 2
}
