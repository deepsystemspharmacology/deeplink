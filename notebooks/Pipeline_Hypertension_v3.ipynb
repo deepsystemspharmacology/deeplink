{
 "cells": [
  {
   "cell_type": "markdown",
   "metadata": {
    "collapsed": true
   },
   "source": [
    "# Adverse Events DDIs discovery pipeline\n",
    "\n",
    "Steps to build the pipeline:\n",
    "1. Useful functions for the pipeline (mapping, retrieving data from web apis...)\n",
    "2. Find positive and negative controls for the AE of interest\n",
    "3. Retrieve adverse event report data for these and a set of control drugs\n",
    "4. Build the training and testing frequency tables\n",
    "5. Features reduction to avoid overfitting\n",
    "6. Drugpair predictions\n",
    "7. Corroboration using OHDSI data"
   ]
  },
  {
   "cell_type": "code",
   "execution_count": 1,
   "metadata": {
    "collapsed": true
   },
   "outputs": [],
   "source": [
    "import csv\n",
    "import gzip\n",
    "import tqdm\n",
    "import json\n",
    "import heapq\n",
    "import random\n",
    "import urllib2\n",
    "\n",
    "import requests\n",
    "import itertools\n",
    "\n",
    "import numpy as np\n",
    "import seaborn as sns\n",
    "import matplotlib.pyplot as plt\n",
    "\n",
    "from tqdm import tqdm\n",
    "from scipy import stats\n",
    "from collections import defaultdict\n",
    "from biothings_client import get_client\n",
    "\n",
    "from sklearn.linear_model import Lasso\n",
    "from sklearn.model_selection import cross_val_score\n",
    "from sklearn.model_selection import ShuffleSplit\n",
    "from sklearn import svm\n",
    "\n",
    "from sklearn.ensemble import RandomForestClassifier\n",
    "from sklearn.metrics import roc_auc_score, roc_curve, auc\n",
    "from urllib2 import Request, urlopen, URLError, build_opener\n",
    "from json import JSONEncoder\n",
    "\n",
    "%matplotlib inline"
   ]
  },
  {
   "cell_type": "code",
   "execution_count": 2,
   "metadata": {
    "collapsed": true
   },
   "outputs": [],
   "source": [
    "#from import_notebook import *\n",
    "#sys.meta_path.append(NotebookFinder())\n",
    "#import OHDSI_API_data_ as ohdsi"
   ]
  },
  {
   "cell_type": "markdown",
   "metadata": {},
   "source": [
    "## Needed functions"
   ]
  },
  {
   "cell_type": "code",
   "execution_count": 2,
   "metadata": {
    "collapsed": true
   },
   "outputs": [],
   "source": [
    "# Authentication module\n",
    "# Instructions at https://documentation.uts.nlm.nih.gov/rest/home.html\n",
    "\n",
    "def get_tgt(apikey):\n",
    "    \"\"\"\n",
    "    get the tgt corresponding to the apikey\n",
    "    \"\"\"\n",
    "    tgt = requests.post(\"https://utslogin.nlm.nih.gov/cas/v1/api-key\", data = {'apikey':apikey})\n",
    "    TGT = tgt.content.split()[20]\n",
    "    TGT = TGT[52:+len(TGT)-1]\n",
    "    return TGT\n",
    "\n",
    "def get_ticket(tgt):\n",
    "    \"\"\"\n",
    "    get a ticket corresponding to the tgt\n",
    "    \"\"\"\n",
    "    uri_login = \"https://utslogin.nlm.nih.gov/cas/v1/tickets/\" + tgt\n",
    "    ticket = requests.post(uri_login, data = {'service':'http://umlsks.nlm.nih.gov'})\n",
    "    return ticket.content\n"
   ]
  },
  {
   "cell_type": "code",
   "execution_count": 3,
   "metadata": {
    "collapsed": true
   },
   "outputs": [],
   "source": [
    "def AEtoCUI(aeName):\n",
    "    \"Converts AE name to UMLS CUIs\"\n",
    "    cuis = []\n",
    "    apikey = \"6fd08e99-cb99-48be-937c-bbaa5205fd44\"\n",
    "    \n",
    "    tgt = get_tgt(apikey)\n",
    "    ticket = get_ticket(tgt)\n",
    "    \n",
    "    query = {'ticket':ticket}\n",
    "    uri = \"https://uts-ws.nlm.nih.gov/rest/search/current?string=\" + aeName\n",
    "    r = requests.get(uri, params = query)\n",
    "    r.encoding = 'utf-8'\n",
    "    items  = json.loads(r.text)\n",
    "    \n",
    "    jsonData = items[\"result\"]\n",
    "    for s in jsonData['results']:\n",
    "        cuis.append(s['ui'])\n",
    "    return cuis"
   ]
  },
  {
   "cell_type": "code",
   "execution_count": 18,
   "metadata": {
    "collapsed": true
   },
   "outputs": [],
   "source": [
    "def nsides_api(service, method, args = None):\n",
    "    \"\"\"\n",
    "    Simple python API to access the NSIDES services and data.\n",
    "    \n",
    "    service   string, that can be one of three values: aeolus, sider, or omop\n",
    "    method    string, for a list of methods see http://nsideseb-env.us-east-1.elasticbeanstalk.com\n",
    "    args      dictionary, method parameters see http://nsideseb-env.us-east-1.elasticbeanstalk.com\n",
    "    \"\"\"\n",
    "    NSIDES_API_URL = 'http://nsideseb-env.us-east-1.elasticbeanstalk.com/api/v1/'\n",
    "    \n",
    "    base_url = NSIDES_API_URL + 'query?service=%s&meta=%s' % (service, method)\n",
    "    url = base_url\n",
    "    if not args is None:\n",
    "        url = base_url + '&' + '&'.join(['%s=%s' % (k,v) for k,v in args.items()])\n",
    "    #print url\n",
    "    \n",
    "    response = urllib2.urlopen(url).read()\n",
    "    data = json.loads(response)\n",
    "    \n",
    "    return data"
   ]
  },
  {
   "cell_type": "code",
   "execution_count": 5,
   "metadata": {},
   "outputs": [
    {
     "name": "stdout",
     "output_type": "stream",
     "text": [
      "acarbose\n"
     ]
    }
   ],
   "source": [
    "def stitch_api(id):\n",
    "    \"\"\"\n",
    "    Function to access STITCH data\n",
    "    id : stitch id (string)\n",
    "    returns drug rxnorm\n",
    "    \"\"\"\n",
    "    STITCH_API_URL = 'http://stitch.embl.de/api/json/'\n",
    "    request = 'resolve?identifier=%s' %(id)\n",
    "    \n",
    "    url = STITCH_API_URL + request\n",
    "    \n",
    "    response = urllib2.urlopen(url).read()\n",
    "    data = json.loads(response)\n",
    "    \n",
    "    return data\n",
    "    \n",
    "data = stitch_api('CID000041774')\n",
    "print data[0]['preferredName']"
   ]
  },
  {
   "cell_type": "code",
   "execution_count": 6,
   "metadata": {},
   "outputs": [
    {
     "name": "stdout",
     "output_type": "stream",
     "text": [
      "[u'14845']\n"
     ]
    }
   ],
   "source": [
    "def annotator(text, ontologies):\n",
    "    REST_URL = \"http://data.bioontology.org\"\n",
    "    API_KEY = 'b55cf758-dbd3-4959-a9c0-2e6bba5b5d8b'\n",
    "    url = REST_URL + \"/annotator?text=\" + urllib2.quote(text) + \"&ontologies=\" + ','.join(ontologies)\n",
    "    opener = urllib2.build_opener()\n",
    "    opener.addheaders = [('Authorization', 'apikey token=' + API_KEY)]\n",
    "    \n",
    "    annotations = json.loads(opener.open(url).read())\n",
    "\n",
    "    return annotations\n",
    "\n",
    "def name2rxnorm(drugname):\n",
    "    \"\"\"\n",
    "    map the name of a drug to its rxnorm notation\n",
    "    \"\"\"\n",
    "    annotations = annotator(drugname, ['RXNORM'])\n",
    "    \n",
    "    rxnorms = list()\n",
    "    for annotation in annotations:\n",
    "        rxnorms.append(annotations[0]['annotatedClass']['@id'].split('/')[-1])\n",
    "    \n",
    "    return rxnorms\n",
    "\n",
    "print name2rxnorm('apraclonidine')"
   ]
  },
  {
   "cell_type": "code",
   "execution_count": 7,
   "metadata": {},
   "outputs": [
    {
     "name": "stdout",
     "output_type": "stream",
     "text": [
      "http://nsideseb-env.us-east-1.elasticbeanstalk.com/api/v1/query?service=lab&meta=ae_to_lab\n",
      "Hyperglycemia\n"
     ]
    }
   ],
   "source": [
    "# AE to lab mapping\n",
    "data = nsides_api('lab', 'ae_to_lab')\n",
    "\n",
    "ae2loinc = dict()\n",
    "loinc2normalrange = dict()\n",
    "aelist = list()\n",
    "\n",
    "for r in data['results']:\n",
    "    ae2loinc[r['adverse_event']] = r['loinc']\n",
    "    loinc2normalrange[r['loinc']] = r['normal_range']\n",
    "    aelist.append(r['adverse_event'])\n",
    "\n",
    "aelist = sorted(set(aelist))\n",
    "    \n",
    "#print len(ae2loinc)\n",
    "\n",
    "ADVERSE_EVENT_OF_INTEREST = aelist[3]\n",
    "print ADVERSE_EVENT_OF_INTEREST"
   ]
  },
  {
   "cell_type": "markdown",
   "metadata": {},
   "source": [
    "## Find positive and negative controls"
   ]
  },
  {
   "cell_type": "code",
   "execution_count": 14,
   "metadata": {},
   "outputs": [],
   "source": [
    "invalid_drugnames = list()\n",
    "invalid_drugnames.append(\"human brain natriuretic peptide-32\")\n",
    "invalid_drugnames.append(\"human glucagon\")\n",
    "invalid_drugnames.append(\"human insulin\")\n",
    "invalid_drugnames.append(\"vitamin D2\")\n",
    "\n",
    "invalid_cuis = list()\n",
    "invalid_cuis.append('C0020456')"
   ]
  },
  {
   "cell_type": "code",
   "execution_count": 19,
   "metadata": {},
   "outputs": [],
   "source": [
    "def get_controls(AE):\n",
    "    \"\"\"\n",
    "    Get lists of positive and negative controls for a given adverse event.\n",
    "    AE: string, adverse event of interest\n",
    "    \"\"\"\n",
    "    \n",
    "    # Get a list of drugs (name) known to have the AE as a side effect using SIDER\n",
    "    reference_byname = list()\n",
    "    reference_byname_bound = list()\n",
    "    for cui in AEtoCUI(AE):\n",
    "        #print cui\n",
    "        if cui not in invalid_cuis:\n",
    "            data = nsides_api('sider', 'drugForEffect', {'q': \"%s\" %cui})\n",
    "            reference_byname.extend([r['drug_name'] for r in data['results']])\n",
    "        elif cui == invalid_cuis[0]:\n",
    "            data = {\"results\": [{\"drug_name\": \"bupropion\", \"stitch_id\": \"CID000000444\"}, {\"drug_name\": \"estradiol\", \"stitch_id\": \"CID000000450\"}, {\"drug_name\": \"cytosine arabinoside\", \"stitch_id\": \"CID000000596\"}, {\"drug_name\": \"naproxen\", \"stitch_id\": \"CID000001301\"}, {\"drug_name\": \"doxorubicin\", \"stitch_id\": \"CID000001690\"}, {\"drug_name\": \"phenytoin\", \"stitch_id\": \"CID000001775\"}, {\"drug_name\": \"abacavir\", \"stitch_id\": \"CID000001971\"}, {\"drug_name\": \"amphotericin B\", \"stitch_id\": \"CID000001972\"}, {\"drug_name\": \"salbutamol\", \"stitch_id\": \"CID000002083\"}, {\"drug_name\": \"allopurinol\", \"stitch_id\": \"CID000002094\"}, {\"drug_name\": \"alosetron\", \"stitch_id\": \"CID000002099\"}, {\"drug_name\": \"theophylline\", \"stitch_id\": \"CID000002153\"}, {\"drug_name\": \"amlodipine\", \"stitch_id\": \"CID000002162\"}, {\"drug_name\": \"amprenavir\", \"stitch_id\": \"CID000002177\"}, {\"drug_name\": \"atorvastatin\", \"stitch_id\": \"CID000002250\"}, {\"drug_name\": \"baclofen\", \"stitch_id\": \"CID000002284\"}, {\"drug_name\": \"betaxolol\", \"stitch_id\": \"CID000002369\"}, {\"drug_name\": \"bicalutamide\", \"stitch_id\": \"CID000002375\"}, {\"drug_name\": \"bumetanide\", \"stitch_id\": \"CID000002471\"}, {\"drug_name\": \"busulfan\", \"stitch_id\": \"CID000002478\"}, {\"drug_name\": \"caffeine\", \"stitch_id\": \"CID000002519\"}, {\"drug_name\": \"candesartan\", \"stitch_id\": \"CID000002541\"}, {\"drug_name\": \"carbamazepine\", \"stitch_id\": \"CID000002554\"}, {\"drug_name\": \"BCNU\", \"stitch_id\": \"CID000002578\"}, {\"drug_name\": \"carvedilol\", \"stitch_id\": \"CID000002585\"}, {\"drug_name\": \"celecoxib\", \"stitch_id\": \"CID000002662\"}, {\"drug_name\": \"cevimeline\", \"stitch_id\": \"CID000002684\"}, {\"drug_name\": \"thiazide\", \"stitch_id\": \"CID000002720\"}, {\"drug_name\": \"chlorpromazine\", \"stitch_id\": \"CID000002726\"}, {\"drug_name\": \"chlorthalidone\", \"stitch_id\": \"CID000002732\"}, {\"drug_name\": \"cilazapril\", \"stitch_id\": \"CID000002751\"}, {\"drug_name\": \"ciprofloxacin\", \"stitch_id\": \"CID000002764\"}, {\"drug_name\": \"citalopram\", \"stitch_id\": \"CID000002771\"}, {\"drug_name\": \"clofazimine\", \"stitch_id\": \"CID000002794\"}, {\"drug_name\": \"clomipramine\", \"stitch_id\": \"CID000002801\"}, {\"drug_name\": \"clozapine\", \"stitch_id\": \"CID000002818\"}, {\"drug_name\": \"cyclophosphamide\", \"stitch_id\": \"CID000002907\"}, {\"drug_name\": \"Neoral\", \"stitch_id\": \"CID000002909\"}, {\"drug_name\": \"desoximetasone\", \"stitch_id\": \"CID000003000\"}, {\"drug_name\": \"dexamethasone\", \"stitch_id\": \"CID000003003\"}, {\"drug_name\": \"cyproterone\", \"stitch_id\": \"CID000003015\"}, {\"drug_name\": \"diazoxide\", \"stitch_id\": \"CID000003019\"}, {\"drug_name\": \"diclofenac\", \"stitch_id\": \"CID000003032\"}, {\"drug_name\": \"didanosine\", \"stitch_id\": \"CID000003043\"}, {\"drug_name\": \"diltiazem\", \"stitch_id\": \"CID000003075\"}, {\"drug_name\": \"donepezil\", \"stitch_id\": \"CID000003152\"}, {\"drug_name\": \"doxazosin\", \"stitch_id\": \"CID000003157\"}, {\"drug_name\": \"dyphylline\", \"stitch_id\": \"CID000003182\"}, {\"drug_name\": \"ethacrynic acid\", \"stitch_id\": \"CID000003278\"}, {\"drug_name\": \"etodolac\", \"stitch_id\": \"CID000003308\"}, {\"drug_name\": \"felbamate\", \"stitch_id\": \"CID000003331\"}, {\"drug_name\": \"fentanyl\", \"stitch_id\": \"CID000003345\"}, {\"drug_name\": \"fludarabine\", \"stitch_id\": \"CID000003367\"}, {\"drug_name\": \"fluocinonide\", \"stitch_id\": \"CID000003382\"}, {\"drug_name\": \"fluoxetine\", \"stitch_id\": \"CID000003386\"}, {\"drug_name\": \"flurbiprofen\", \"stitch_id\": \"CID000003394\"}, {\"drug_name\": \"fluvoxamine\", \"stitch_id\": \"CID000003404\"}, {\"drug_name\": \"formoterol\", \"stitch_id\": \"CID000003410\"}, {\"drug_name\": \"depsipeptide\", \"stitch_id\": \"CID000003425\"}, {\"drug_name\": \"furosemide\", \"stitch_id\": \"CID000003440\"}, {\"drug_name\": \"gabapentin\", \"stitch_id\": \"CID000003446\"}, {\"drug_name\": \"galantamine\", \"stitch_id\": \"CID000003449\"}, {\"drug_name\": \"gemcitabine\", \"stitch_id\": \"CID000003461\"}, {\"drug_name\": \"haloperidol\", \"stitch_id\": \"CID000003559\"}, {\"drug_name\": \"hydrochlorothiazide\", \"stitch_id\": \"CID000003639\"}, {\"drug_name\": \"hydroflumethiazide\", \"stitch_id\": \"CID000003647\"}, {\"drug_name\": \"hydromorphone\", \"stitch_id\": \"CID000003648\"}, {\"drug_name\": \"atropine\", \"stitch_id\": \"CID000003661\"}, {\"drug_name\": \"ibuprofen\", \"stitch_id\": \"CID000003672\"}, {\"drug_name\": \"indapamide\", \"stitch_id\": \"CID000003702\"}, {\"drug_name\": \"indinavir\", \"stitch_id\": \"CID000003706\"}, {\"drug_name\": \"indomethacin\", \"stitch_id\": \"CID000003715\"}, {\"drug_name\": \"isoflurane\", \"stitch_id\": \"CID000003763\"}, {\"drug_name\": \"isoniazid\", \"stitch_id\": \"CID000003767\"}, {\"drug_name\": \"ketorolac\", \"stitch_id\": \"CID000003826\"}, {\"drug_name\": \"lamivudine\", \"stitch_id\": \"CID000003877\"}, {\"drug_name\": \"lamotrigine\", \"stitch_id\": \"CID000003878\"}, {\"drug_name\": \"lansoprazole\", \"stitch_id\": \"CID000003883\"}, {\"drug_name\": \"leflunomide\", \"stitch_id\": \"CID000003899\"}, {\"drug_name\": \"leuprolide acetate\", \"stitch_id\": \"CID000003911\"}, {\"drug_name\": \"linezolid\", \"stitch_id\": \"CID000003929\"}, {\"drug_name\": \"lomefloxacin\", \"stitch_id\": \"CID000003948\"}, {\"drug_name\": \"losartan\", \"stitch_id\": \"CID000003961\"}, {\"drug_name\": \"mefenamic acid\", \"stitch_id\": \"CID000004044\"}, {\"drug_name\": \"memantine\", \"stitch_id\": \"CID000004054\"}, {\"drug_name\": \"metolazone\", \"stitch_id\": \"CID000004170\"}, {\"drug_name\": \"mitoxantrone\", \"stitch_id\": \"CID000004212\"}, {\"drug_name\": \"modafinil\", \"stitch_id\": \"CID000004236\"}, {\"drug_name\": \"moxifloxacin\", \"stitch_id\": \"CID000004259\"}, {\"drug_name\": \"mycophenolic acid\", \"stitch_id\": \"CID000004272\"}, {\"drug_name\": \"nabumetone\", \"stitch_id\": \"CID000004409\"}, {\"drug_name\": \"naphazoline\", \"stitch_id\": \"CID000004436\"}, {\"drug_name\": \"naratriptan\", \"stitch_id\": \"CID000004440\"}, {\"drug_name\": \"nelfinavir\", \"stitch_id\": \"CID000004451\"}, {\"drug_name\": \"nifedipine\", \"stitch_id\": \"CID000004485\"}, {\"drug_name\": \"nilutamide\", \"stitch_id\": \"CID000004493\"}, {\"drug_name\": \"ofloxacin\", \"stitch_id\": \"CID000004583\"}, {\"drug_name\": \"olanzapine\", \"stitch_id\": \"CID000004585\"}, {\"drug_name\": \"oxaliplatin\", \"stitch_id\": \"CID000004609\"}, {\"drug_name\": \"oxaprozin\", \"stitch_id\": \"CID000004614\"}, {\"drug_name\": \"oxycodone\", \"stitch_id\": \"CID000004635\"}, {\"drug_name\": \"paclitaxel\", \"stitch_id\": \"CID000004666\"}, {\"drug_name\": \"pantoprazole\", \"stitch_id\": \"CID000004679\"}, {\"drug_name\": \"paroxetine\", \"stitch_id\": \"CID000004691\"}, {\"drug_name\": \"pergolide\", \"stitch_id\": \"CID000004745\"}, {\"drug_name\": \"perphenazine\", \"stitch_id\": \"CID000004748\"}, {\"drug_name\": \"pioglitazone\", \"stitch_id\": \"CID000004829\"}, {\"drug_name\": \"piroxicam\", \"stitch_id\": \"CID000004856\"}, {\"drug_name\": \"polythiazide\", \"stitch_id\": \"CID000004870\"}, {\"drug_name\": \"pramipexole\", \"stitch_id\": \"CID000004885\"}, {\"drug_name\": \"prednisolone\", \"stitch_id\": \"CID000004894\"}, {\"drug_name\": \"prednisone\", \"stitch_id\": \"CID000004900\"}, {\"drug_name\": \"prochlorperazine\", \"stitch_id\": \"CID000004917\"}, {\"drug_name\": \"propafenone\", \"stitch_id\": \"CID000004932\"}, {\"drug_name\": \"propofol\", \"stitch_id\": \"CID000004943\"}, {\"drug_name\": \"quetiapine\", \"stitch_id\": \"CID000005002\"}, {\"drug_name\": \"quinapril\", \"stitch_id\": \"CID000005005\"}, {\"drug_name\": \"rabeprazole\", \"stitch_id\": \"CID000005029\"}, {\"drug_name\": \"rapamycin\", \"stitch_id\": \"CID000005040\"}, {\"drug_name\": \"ribavirin\", \"stitch_id\": \"CID000005064\"}, {\"drug_name\": \"risperidone\", \"stitch_id\": \"CID000005073\"}, {\"drug_name\": \"ritonavir\", \"stitch_id\": \"CID000005076\"}, {\"drug_name\": \"rivastigmine\", \"stitch_id\": \"CID000005077\"}, {\"drug_name\": \"ropinirole\", \"stitch_id\": \"CID000005095\"}, {\"drug_name\": \"salmeterol\", \"stitch_id\": \"CID000005152\"}, {\"drug_name\": \"stavudine\", \"stitch_id\": \"CID000005155\"}, {\"drug_name\": \"selegiline\", \"stitch_id\": \"CID000005195\"}, {\"drug_name\": \"sertraline\", \"stitch_id\": \"CID000005203\"}, {\"drug_name\": \"sevoflurane\", \"stitch_id\": \"CID000005206\"}, {\"drug_name\": \"sildenafil\", \"stitch_id\": \"CID000005212\"}, {\"drug_name\": \"sotalol\", \"stitch_id\": \"CID000005253\"}, {\"drug_name\": \"sulindac\", \"stitch_id\": \"CID000005352\"}, {\"drug_name\": \"sumatriptan\", \"stitch_id\": \"CID000005358\"}, {\"drug_name\": \"tacrolimus\", \"stitch_id\": \"CID000005372\"}, {\"drug_name\": \"gatifloxacin\", \"stitch_id\": \"CID000005379\"}, {\"drug_name\": \"temozolomide\", \"stitch_id\": \"CID000005394\"}, {\"drug_name\": \"thalidomide\", \"stitch_id\": \"CID000005426\"}, {\"drug_name\": \"thiabendazole\", \"stitch_id\": \"CID000005430\"}, {\"drug_name\": \"thiothixene\", \"stitch_id\": \"CID000005454\"}, {\"drug_name\": \"tiagabine\", \"stitch_id\": \"CID000005466\"}, {\"drug_name\": \"timolol\", \"stitch_id\": \"CID000005478\"}, {\"drug_name\": \"tizanidine\", \"stitch_id\": \"CID000005487\"}, {\"drug_name\": \"topiramate\", \"stitch_id\": \"CID000005514\"}, {\"drug_name\": \"tramadol\", \"stitch_id\": \"CID000005523\"}, {\"drug_name\": \"trandolapril\", \"stitch_id\": \"CID000005525\"}, {\"drug_name\": \"trifluoperazine\", \"stitch_id\": \"CID000005566\"}, {\"drug_name\": \"troglitazone\", \"stitch_id\": \"CID000005591\"}, {\"drug_name\": \"delavirdine\", \"stitch_id\": \"CID000005625\"}, {\"drug_name\": \"venlafaxine\", \"stitch_id\": \"CID000005656\"}, {\"drug_name\": \"zaleplon\", \"stitch_id\": \"CID000005719\"}, {\"drug_name\": \"zolmitriptan\", \"stitch_id\": \"CID000005731\"}, {\"drug_name\": \"zolpidem\", \"stitch_id\": \"CID000005732\"}, {\"drug_name\": \"aminophylline\", \"stitch_id\": \"CID000009433\"}, {\"drug_name\": \"gamma-hydroxybutyrate\", \"stitch_id\": \"CID000010413\"}, {\"drug_name\": \"medroxyprogesterone\", \"stitch_id\": \"CID000010631\"}, {\"drug_name\": \"desonide\", \"stitch_id\": \"CID000012536\"}, {\"drug_name\": \"arsenic trioxide\", \"stitch_id\": \"CID000014888\"}, {\"drug_name\": \"5-aza-2-deoxycytidine\", \"stitch_id\": \"CID000016886\"}, {\"drug_name\": \"megestrol\", \"stitch_id\": \"CID000019090\"}, {\"drug_name\": \"choline theophyllinate\", \"stitch_id\": \"CID000020585\"}, {\"drug_name\": \"conjugated estrogens\", \"stitch_id\": \"CID000027993\"}, {\"drug_name\": \"lithium\", \"stitch_id\": \"CID000028486\"}, {\"drug_name\": \"fludrocortisone\", \"stitch_id\": \"CID000031378\"}, {\"drug_name\": \"clobetasol\", \"stitch_id\": \"CID000032797\"}, {\"drug_name\": \"oxcarbazepine\", \"stitch_id\": \"CID000034312\"}, {\"drug_name\": \"N-trifluoroacetyladriamycin-14-valerate\", \"stitch_id\": \"CID000041744\"}, {\"drug_name\": \"torasemide\", \"stitch_id\": \"CID000041781\"}, {\"drug_name\": \"Zoladex\", \"stitch_id\": \"CID000047725\"}, {\"drug_name\": \"SMS 201-995\", \"stitch_id\": \"CID000054373\"}, {\"drug_name\": \"cefpodoxime\", \"stitch_id\": \"CID000054547\"}, {\"drug_name\": \"fosphenytoin\", \"stitch_id\": \"CID000056338\"}, {\"drug_name\": \"dexmedetomidine\", \"stitch_id\": \"CID000060612\"}, {\"drug_name\": \"cidofovir\", \"stitch_id\": \"CID000060613\"}, {\"drug_name\": \"saquinavir\", \"stitch_id\": \"CID000060787\"}, {\"drug_name\": \"aripiprazole\", \"stitch_id\": \"CID000060795\"}, {\"drug_name\": \"remifentanil\", \"stitch_id\": \"CID000060814\"}, {\"drug_name\": \"tiotropium\", \"stitch_id\": \"CID000060830\"}, {\"drug_name\": \"duloxetine\", \"stitch_id\": \"CID000060834\"}, {\"drug_name\": \"ziprasidone\", \"stitch_id\": \"CID000060853\"}, {\"drug_name\": \"emtricitabine\", \"stitch_id\": \"CID000060877\"}, {\"drug_name\": \"eprosartan\", \"stitch_id\": \"CID000060878\"}, {\"drug_name\": \"capecitabine\", \"stitch_id\": \"CID000060953\"}, {\"drug_name\": \"fluticasone\", \"stitch_id\": \"CID000062924\"}, {\"drug_name\": \"trovafloxacin\", \"stitch_id\": \"CID000062959\"}, {\"drug_name\": \"valganciclovir\", \"stitch_id\": \"CID000064147\"}, {\"drug_name\": \"tipranavir\", \"stitch_id\": \"CID000065027\"}, {\"drug_name\": \"bendamustine\", \"stitch_id\": \"CID000065628\"}, {\"drug_name\": \"acamprosate\", \"stitch_id\": \"CID000071158\"}, {\"drug_name\": \"ropivacaine\", \"stitch_id\": \"CID000071273\"}, {\"drug_name\": \"lanreotide\", \"stitch_id\": \"CID000071348\"}, {\"drug_name\": \"voriconazole\", \"stitch_id\": \"CID000071616\"}, {\"drug_name\": \"gemifloxacin\", \"stitch_id\": \"CID000072938\"}, {\"drug_name\": \"atovaquone\", \"stitch_id\": \"CID000074989\"}, {\"drug_name\": \"eletriptan\", \"stitch_id\": \"CID000077993\"}, {\"drug_name\": \"rosiglitazone\", \"stitch_id\": \"CID000077999\"}, {\"drug_name\": \"bexarotene\", \"stitch_id\": \"CID000082146\"}, {\"drug_name\": \"bortezomib\", \"stitch_id\": \"CID000093860\"}, {\"drug_name\": \"nelarabine\", \"stitch_id\": \"CID000096312\"}, {\"drug_name\": \"bosentan\", \"stitch_id\": \"CID000104865\"}, {\"drug_name\": \"gadobenate\", \"stitch_id\": \"CID000105124\"}, {\"drug_name\": \"paliperidone\", \"stitch_id\": \"CID000115237\"}, {\"drug_name\": \"valdecoxib\", \"stitch_id\": \"CID000119607\"}, {\"drug_name\": \"tenofovir disoproxil fumarate\", \"stitch_id\": \"CID000119830\"}, {\"drug_name\": \"almotriptan\", \"stitch_id\": \"CID000123606\"}, {\"drug_name\": \"pregabalin\", \"stitch_id\": \"CID000125889\"}, {\"drug_name\": \"olmesartan medoxomil\", \"stitch_id\": \"CID000130881\"}, {\"drug_name\": \"fosamprenavir\", \"stitch_id\": \"CID000131535\"}, {\"drug_name\": \"febuxostat\", \"stitch_id\": \"CID000134018\"}, {\"drug_name\": \"nitrosyl\", \"stitch_id\": \"CID000145068\"}, {\"drug_name\": \"posaconazole\", \"stitch_id\": \"CID000147912\"}, {\"drug_name\": \"temsirolimus\", \"stitch_id\": \"CID000148191\"}, {\"drug_name\": \"atazanavir\", \"stitch_id\": \"CID000148192\"}, {\"drug_name\": \"palonosetron\", \"stitch_id\": \"CID000148211\"}, {\"drug_name\": \"aprepitant\", \"stitch_id\": \"CID000151165\"}, {\"drug_name\": \"conivaptan\", \"stitch_id\": \"CID000151171\"}, {\"drug_name\": \"entecavir\", \"stitch_id\": \"CID000153941\"}, {\"drug_name\": \"asenapine\", \"stitch_id\": \"CID000163091\"}, {\"drug_name\": \"anidulafungin\", \"stitch_id\": \"CID000166548\"}, {\"drug_name\": \"etravirine\", \"stitch_id\": \"CID000193962\"}, {\"drug_name\": \"darunavir\", \"stitch_id\": \"CID000213039\"}, {\"drug_name\": \"sitaxsentan\", \"stitch_id\": \"CID000216235\"}, {\"drug_name\": \"tolvaptan\", \"stitch_id\": \"CID000216237\"}, {\"drug_name\": \"gadoversetamide\", \"stitch_id\": \"CID000444013\"}, {\"drug_name\": \"rosuvastatin\", \"stitch_id\": \"CID000446157\"}, {\"drug_name\": \"micafungin\", \"stitch_id\": \"CID000477468\"}, {\"drug_name\": \"nilotinib\", \"stitch_id\": \"CID000644241\"}, {\"drug_name\": \"sunitinib\", \"stitch_id\": \"CID003086686\"}, {\"drug_name\": \"sitagliptin\", \"stitch_id\": \"CID004369359\"}, {\"drug_name\": \"entacapone\", \"stitch_id\": \"CID004659568\"}, {\"drug_name\": \"tigecycline\", \"stitch_id\": \"CID005282044\"}, {\"drug_name\": \"methylnaltrexone\", \"stitch_id\": \"CID005361917\"}, {\"drug_name\": \"rifapentine\", \"stitch_id\": \"CID006178306\"}, {\"drug_name\": \"saccharated iron oxide\", \"stitch_id\": \"CID006850789\"}, {\"drug_name\": \"ceftobiprole medocaril\", \"stitch_id\": \"CID006918438\"}, {\"drug_name\": \"cefditoren\", \"stitch_id\": \"CID009571074\"}, {\"drug_name\": \"Gadofosveset\", \"stitch_id\": \"CID009962850\"}, {\"drug_name\": \"LY146032\", \"stitch_id\": \"CID016129629\"}, {\"drug_name\": \"Trasylol\", \"stitch_id\": \"CID016130295\"}, {\"drug_name\": \"enfuvirtide\", \"stitch_id\": \"CID024847866\"}, {\"drug_name\": \"sucralfate\", \"stitch_id\": \"CID044387541\"}]}\n",
    "            reference_byname.extend([r['drug_name'] for r in data['results']])\n",
    "    \n",
    "        data_bound = nsides_api('sider', 'drugForEffectFreq', {'q': \"%s\" %cui})\n",
    "        reference_byname_bound.extend([(r['drug_name'], r['upper_bound']) for r in data_bound['results']])\n",
    "    \n",
    "    reference_byname = sorted(set(reference_byname))\n",
    "    reference_byname_bound = sorted(set(reference_byname_bound))\n",
    "    \n",
    "    high_freq_drugs = list()\n",
    "    low_freq_drugs = list()\n",
    "    \n",
    "    # To remove noise, we only use drugs with high reporting frequencies\n",
    "    for (drug, freq) in reference_byname_bound:\n",
    "        #print drug, freq\n",
    "        if float(freq) > 0.001:\n",
    "            high_freq_drugs.append(drug)\n",
    "        else:\n",
    "            low_freq_drugs.append(drug)\n",
    "            \n",
    "    high_freq_drugs = sorted(set(high_freq_drugs))\n",
    "    low_freq_drugs = sorted(set(low_freq_drugs))\n",
    "    #print len(high_freq_drugs)\n",
    "    \n",
    "    if len(high_freq_drugs) == 0:\n",
    "        raise Exception(\"No available reference standard for cui: %s\" % cui)\n",
    "        return 0\n",
    "    \n",
    "    # We map those drugs to their rxnorm\n",
    "    positives = list()\n",
    "    negatives = list()\n",
    "    \n",
    "    for drugname in tqdm(high_freq_drugs):\n",
    "        if drugname not in invalid_drugnames:\n",
    "            rxnorms = name2rxnorm(drugname)\n",
    "            for rxnorm in rxnorms:\n",
    "                positives.append(int(rxnorm))\n",
    "\n",
    "    print \"Produced reference with %d positive examples and %d negative examples.\" % (len(positives), len(negatives))\n",
    "    \n",
    "    # We randomly pick 2*len(positives) negative controls from what's available in AEOLUS\n",
    "    low_freq = list()\n",
    "    for drugname in tqdm(low_freq_drugs):\n",
    "        if drugname not in invalid_drugnames:\n",
    "            rxnorms = name2rxnorm(drugname)\n",
    "            for rxnorm in rxnorms:\n",
    "                low_freq.append(int(rxnorm))\n",
    "    for drugname in tqdm(reference_byname):\n",
    "        if drugname not in invalid_drugnames:\n",
    "            rxnorms = name2rxnorm(drugname)\n",
    "            for rxnorm in rxnorms:\n",
    "                low_freq.append(int(rxnorm))\n",
    "\n",
    "    if len(negatives) == 0:\n",
    "        data = nsides_api('aeolus', 'ingredientList')\n",
    "    \n",
    "        all_rxnorms = [r['concept_code'] for r in data['results']]\n",
    "        # We remove positive controls and drugs with low reporting frequencies\n",
    "        available_negatives = (set(all_rxnorms) - set(positives) - set(low_freq))\n",
    "    \n",
    "        negatives = random.sample(available_negatives, 500)\n",
    "\n",
    "    print \"Randomly selected %d negative examples from available drugs.\" % len(negatives)\n",
    "    \n",
    "    return positives, negatives"
   ]
  },
  {
   "cell_type": "code",
   "execution_count": 20,
   "metadata": {
    "scrolled": true
   },
   "outputs": [
    {
     "name": "stderr",
     "output_type": "stream",
     "text": [
      "100%|██████████| 29/29 [00:11<00:00,  1.95it/s]\n",
      "  0%|          | 0/32 [00:00<?, ?it/s]"
     ]
    },
    {
     "name": "stdout",
     "output_type": "stream",
     "text": [
      "Produced reference with 28 positive examples and 0 negative examples.\n"
     ]
    },
    {
     "name": "stderr",
     "output_type": "stream",
     "text": [
      "100%|██████████| 32/32 [00:15<00:00,  2.42it/s]\n",
      "100%|██████████| 240/240 [01:44<00:00,  2.31it/s]\n"
     ]
    },
    {
     "name": "stdout",
     "output_type": "stream",
     "text": [
      "Randomly selected 500 negative examples from available drugs.\n"
     ]
    }
   ],
   "source": [
    "positives, negatives = get_controls(ADVERSE_EVENT_OF_INTEREST)"
   ]
  },
  {
   "cell_type": "markdown",
   "metadata": {},
   "source": [
    "##  Retrieve adverse event report data for these and a set of control drugs."
   ]
  },
  {
   "cell_type": "code",
   "execution_count": 21,
   "metadata": {},
   "outputs": [
    {
     "name": "stdout",
     "output_type": "stream",
     "text": [
      "{u'valid_end_date': u'2099-12-31', u'concept_class_id': u'Ingredient', u'valid_start_date': u'1970-01-01', u'vocabulary_id': u'RxNorm', u'concept_name': u'hepatitis B immune globulin', u'invalid_reason': u'', u'standard_concept_id': 501343, u'standard_concept': u'S', u'concept_code': 26744, u'domain_id': u'Drug', u'concept_id': 501343}\n",
      "3526\n",
      "1177480\n"
     ]
    }
   ],
   "source": [
    "# concept = OMOP concept id\n",
    "data = nsides_api('aeolus', 'ingredientList')\n",
    "\n",
    "concept2name = dict()\n",
    "all_drugs = list()\n",
    "drug_mapping = dict()\n",
    "concept2rxnorm = dict()\n",
    "rxnorm2concept = dict()\n",
    "\n",
    "for r in data['results']:\n",
    "    concept2name[r['concept_id']] = r['concept_name']\n",
    "    all_drugs.append(r['concept_id'])\n",
    "    drug_mapping[r['concept_code']] = r['concept_id']\n",
    "    concept2rxnorm[r['concept_id']] = r['concept_code']\n",
    "    rxnorm2concept[r['concept_code']] = r['concept_id']\n",
    "\n",
    "#print drug_mapping.items()\n",
    "#print concept2name\n",
    "print data['results'][0]\n",
    "print len(all_drugs)\n",
    "#print concept2rxnorm[501343]\n",
    "print rxnorm2concept[5640]"
   ]
  },
  {
   "cell_type": "code",
   "execution_count": 22,
   "metadata": {},
   "outputs": [
    {
     "name": "stdout",
     "output_type": "stream",
     "text": [
      "7540\n",
      "{u'valid_end_date': u'2099-12-31', u'concept_class_id': u'LLT', u'outcome_concept_id': 36718526, u'valid_start_date': u'1970-01-01', u'vocabulary_id': u'MedDRA', u'concept_name': u'Convulsion', u'invalid_reason': u'', u'snomed_outcome_concept_id': 377091, u'standard_concept': u'C', u'concept_code': 10010904, u'domain_id': u'Condition', u'concept_id': 36718526}\n",
      "36718526\n"
     ]
    }
   ],
   "source": [
    "#query?service=aeolus&meta=reactionListMedDRA\n",
    "data = nsides_api('aeolus', 'reactionListMedDRA')\n",
    "\n",
    "# List of all AEs reported in FAERS\n",
    "all_outcomes = list() \n",
    "\n",
    "for r in data['results']:\n",
    "    all_outcomes.append(r['outcome_concept_id'])\n",
    "\n",
    "print len(all_outcomes)\n",
    "print data['results'][0]\n",
    "print all_outcomes[0]"
   ]
  },
  {
   "cell_type": "code",
   "execution_count": 23,
   "metadata": {},
   "outputs": [
    {
     "name": "stdout",
     "output_type": "stream",
     "text": [
      "199\n",
      "37622529\n",
      "{u'valid_end_date': u'2099-12-31', u'concept_class_id': u'PT', u'outcome_concept_id': 37622529, u'valid_start_date': u'1970-01-01', u'vocabulary_id': u'MedDRA', u'concept_name': u'Hypertension', u'invalid_reason': u'', u'standard_concept': u'C', u'concept_code': 10020772, u'domain_id': u'Condition', u'concept_id': 37622529}\n"
     ]
    }
   ],
   "source": [
    "#query?service=aeolus&meta=drugpairReactionListMedDRA\n",
    "data = nsides_api('aeolus', 'drugpairReactionListMedDRA')\n",
    "#List of all AEs reported as drugpairs outcome in FAERS\n",
    "all_pairoutcomes = list()\n",
    "all_conceptnames = list()\n",
    "for r in data['results']:\n",
    "    all_pairoutcomes.append(r['outcome_concept_id'])\n",
    "    all_conceptnames.append(r['concept_name'])\n",
    "\n",
    "print len(all_pairoutcomes)\n",
    "print all_pairoutcomes[0]\n",
    "print data['results'][0]"
   ]
  },
  {
   "cell_type": "code",
   "execution_count": 24,
   "metadata": {},
   "outputs": [
    {
     "name": "stdout",
     "output_type": "stream",
     "text": [
      "39800\n",
      "(19111620, 19122121)\n"
     ]
    }
   ],
   "source": [
    "#query?service=aeolus&meta=drugpairList\n",
    "data = nsides_api('aeolus', 'drugpairList')\n",
    "\n",
    "all_drugpairs = list()\n",
    "\n",
    "for r in data['results']:\n",
    "    all_drugpairs.append((r['drug1_concept_id'], r['drug2_concept_id']))\n",
    "\n",
    "print len(all_drugpairs)\n",
    "print all_drugpairs[0]"
   ]
  },
  {
   "cell_type": "code",
   "execution_count": 25,
   "metadata": {},
   "outputs": [
    {
     "name": "stderr",
     "output_type": "stream",
     "text": [
      "100%|██████████| 64/64 [03:28<00:00,  3.11s/it]"
     ]
    },
    {
     "name": "stdout",
     "output_type": "stream",
     "text": [
      "631743\n",
      "{u'nreports': 11, u'outcome_concept_id': 35104067, u'drug_concept_id': 904453, u'ndrugreports': 448710}\n"
     ]
    },
    {
     "name": "stderr",
     "output_type": "stream",
     "text": [
      "\n"
     ]
    }
   ],
   "source": [
    "#query?service=aeolus&meta=drugReactionCounts&q=0\n",
    "data = nsides_api('aeolus', 'drugReactionCounts', {'q':0})\n",
    "\n",
    "aeolus_drugReactionCounts = dict()\n",
    "aeolus_drugReactionCounts['results'] = list()\n",
    "\n",
    "for start in tqdm(range(0, data[0]['nrows'][0], 10000)):    \n",
    "    aeolus_drugReactionCounts['results'].extend(data[0]['result'])    \n",
    "    start = len(aeolus_drugReactionCounts['results'])\n",
    "    data = nsides_api('aeolus', 'drugReactionCounts', {'q': start})\n",
    "\n",
    "print len(aeolus_drugReactionCounts['results'])\n",
    "print aeolus_drugReactionCounts['results'][0]"
   ]
  },
  {
   "cell_type": "code",
   "execution_count": 8,
   "metadata": {},
   "outputs": [
    {
     "name": "stdout",
     "output_type": "stream",
     "text": [
      "39\n"
     ]
    }
   ],
   "source": [
    "unrecognized_id = list()\n",
    "unrecognized_id.append('CID011953896')\n",
    "unrecognized_id.append('CID000003706')\n",
    "unrecognized_id.append('CID000002550')\n",
    "unrecognized_id.append('CID000031371')\n",
    "unrecognized_id.append('CID000054688')\n",
    "unrecognized_id.append('CID000000653')\n",
    "unrecognized_id.append('CID000009908')\n",
    "unrecognized_id.append('CID000005257')\n",
    "unrecognized_id.append('CID000006691')\n",
    "unrecognized_id.append('CID000002177')\n",
    "unrecognized_id.append('CID000002949')\n",
    "unrecognized_id.append('CID000002909')\n",
    "unrecognized_id.append('CID000005267')\n",
    "unrecognized_id.append('CID000028112')\n",
    "unrecognized_id.append('CID000001451')\n",
    "unrecognized_id.append('CID000016213')\n",
    "unrecognized_id.append('CID000003075')\n",
    "unrecognized_id.append('CID005311048')\n",
    "unrecognized_id.append('CID000003929')\n",
    "unrecognized_id.append('CID000004691')\n",
    "unrecognized_id.append('CID000003962')\n",
    "unrecognized_id.append('CID005361912')\n",
    "unrecognized_id.append('CID000005064')\n",
    "unrecognized_id.append('CID006420046')\n",
    "unrecognized_id.append('CID000003143')\n",
    "unrecognized_id.append('CID000004048')\n",
    "unrecognized_id.append('CID000003222')\n",
    "unrecognized_id.append('CID000150310')\n",
    "unrecognized_id.append('CID000005372')\n",
    "unrecognized_id.append('CID000062924')\n",
    "unrecognized_id.append('CID000443871')\n",
    "unrecognized_id.append('CID006419754')\n",
    "unrecognized_id.append('CID000004547')\n",
    "unrecognized_id.append('CID000065027')\n",
    "unrecognized_id.append('CID000004259')\n",
    "unrecognized_id.append('CID011953892')\n",
    "unrecognized_id.append('CID000004724')\n",
    "unrecognized_id.append('CID000002769')\n",
    "unrecognized_id.append('CID000005412')\n",
    "\n",
    "print len(unrecognized_id)"
   ]
  },
  {
   "cell_type": "code",
   "execution_count": 9,
   "metadata": {
    "scrolled": true
   },
   "outputs": [
    {
     "name": "stdout",
     "output_type": "stream",
     "text": [
      "http://nsideseb-env.us-east-1.elasticbeanstalk.com/api/v1/query?service=va&meta=get_ddi_alerts\n"
     ]
    },
    {
     "name": "stderr",
     "output_type": "stream",
     "text": [
      "100%|██████████| 1000/1000 [26:23<00:00,  2.04s/it]"
     ]
    },
    {
     "name": "stdout",
     "output_type": "stream",
     "text": [
      "641\n",
      "(16681, 228476)\n"
     ]
    },
    {
     "name": "stderr",
     "output_type": "stream",
     "text": [
      "\n"
     ]
    }
   ],
   "source": [
    "#query?service=va&meta=get_ddi_alerts\n",
    "\n",
    "# Retrieve data from the Veteran Affairs Hospital (Stitch ids)\n",
    "# We map those drugs to their rxnorm\n",
    "\n",
    "data = nsides_api('va', 'get_ddi_alerts')\n",
    "#print len(data['results'])\n",
    "\n",
    "va_ddi_alerts = list()\n",
    "\n",
    "for r in tqdm(data['results']):\n",
    "    \n",
    "    #print r\n",
    "    \n",
    "    if (r['drug_1'] in unrecognized_id) or (r['drug_2'] in unrecognized_id):\n",
    "        continue\n",
    "    \n",
    "    stitch_data1 = stitch_api(r['drug_1'])\n",
    "    stitch_data2 = stitch_api(r['drug_2'])\n",
    "\n",
    "    drugs1 = name2rxnorm(stitch_data1[0]['preferredName'])\n",
    "    drugs2 = name2rxnorm(stitch_data2[0]['preferredName'])\n",
    "    \n",
    "    for drug1 in drugs1:\n",
    "        drug1 = (int(drug1))\n",
    "    for drug2 in drugs2:\n",
    "        drug2 = (int(drug2))\n",
    "        \n",
    "    va_ddi_alerts.append((drug1, drug2))\n",
    "\n",
    "print len(va_ddi_alerts)\n",
    "print va_ddi_alerts[0]"
   ]
  },
  {
   "cell_type": "code",
   "execution_count": 10,
   "metadata": {
    "collapsed": true
   },
   "outputs": [],
   "source": [
    "key_errors = list()\n",
    "key_errors.append(17941)\n",
    "key_errors.append(7930)\n",
    "key_errors.append(357280)\n",
    "key_errors.append(218863)\n",
    "key_errors.append(353062)"
   ]
  },
  {
   "cell_type": "code",
   "execution_count": 26,
   "metadata": {},
   "outputs": [
    {
     "name": "stdout",
     "output_type": "stream",
     "text": [
      "641\n",
      "574\n",
      "(1529331, 1789276)\n"
     ]
    }
   ],
   "source": [
    "# We map drugpairs from rxnorm to their OMOP id\n",
    "va_omop_ddi = list()\n",
    "\n",
    "for drugpair in va_ddi_alerts:\n",
    "    #print drugpair\n",
    "    if drugpair[0] in key_errors:\n",
    "        continue\n",
    "    if drugpair[1] in key_errors:\n",
    "        continue\n",
    "    va_omop_ddi.append((rxnorm2concept[drugpair[0]],rxnorm2concept[drugpair[1]]))\n",
    "\n",
    "print len(va_ddi_alerts)\n",
    "print len(va_omop_ddi)\n",
    "print va_omop_ddi[0]"
   ]
  },
  {
   "cell_type": "code",
   "execution_count": 28,
   "metadata": {},
   "outputs": [],
   "source": [
    "#LOINC to OMOP\n",
    "#/api/v1/query?service=omop&meta=get_omop_from_loinc&q=28377-0\n",
    "#data = nsides_api('omop', 'get_omop_from_loinc', {'q':'28377-0'})\n",
    "#print len(data)\n",
    "#print data"
   ]
  },
  {
   "cell_type": "markdown",
   "metadata": {},
   "source": [
    "## Build the training table for single drugs"
   ]
  },
  {
   "cell_type": "code",
   "execution_count": 29,
   "metadata": {
    "collapsed": true
   },
   "outputs": [],
   "source": [
    "def make_lsd_training_table(pos_drugs = None, neg_drugs = None):\n",
    "\n",
    "    # we map positive and negative drugs from their concept_code to their concept_id\n",
    "    pos_drugs_mapped = list()\n",
    "    for pos_drug in pos_drugs:\n",
    "        pos_drugs_mapped.append(drug_mapping[pos_drug])\n",
    "        \n",
    "    neg_drugs_mapped = list()\n",
    "    for neg_drug in neg_drugs:\n",
    "        neg_drugs_mapped.append(drug_mapping[neg_drug])\n",
    "        \n",
    "    outcomes = np.concatenate((np.ones(len(pos_drugs),np.bool), np.zeros(len(neg_drugs),np.bool)))\n",
    "    \n",
    "    training_drugs = pos_drugs_mapped + neg_drugs_mapped\n",
    "    \n",
    "    # build the adverse events frequency table\n",
    "    ae_frequencies_training = np.zeros((len(pos_drugs)+len(neg_drugs),len(all_pairoutcomes)))\n",
    "    \n",
    "    for r in aeolus_drugReactionCounts['results']:\n",
    "        if not r['drug_concept_id'] in training_drugs:\n",
    "            continue\n",
    "        if not r['outcome_concept_id'] in all_pairoutcomes:\n",
    "            continue\n",
    "        \n",
    "        \n",
    "        i = training_drugs.index(r['drug_concept_id'])\n",
    "        j = all_pairoutcomes.index(r['outcome_concept_id'])\n",
    "        \n",
    "        frequency = float(r['nreports'])/float(r['ndrugreports'])\n",
    "        \n",
    "        ae_frequencies_training[i,j] = frequency\n",
    "                    \n",
    "    return ae_frequencies_training, outcomes"
   ]
  },
  {
   "cell_type": "code",
   "execution_count": 30,
   "metadata": {},
   "outputs": [
    {
     "name": "stdout",
     "output_type": "stream",
     "text": [
      "28\n",
      "500\n"
     ]
    }
   ],
   "source": [
    "# we only keep drugs that can be mapped\n",
    "pos_controls = [p for p in positives if p in drug_mapping]\n",
    "neg_controls = [n for n in negatives if n in drug_mapping]\n",
    "\n",
    "print len(pos_controls)\n",
    "print len(neg_controls)"
   ]
  },
  {
   "cell_type": "code",
   "execution_count": 31,
   "metadata": {},
   "outputs": [
    {
     "name": "stdout",
     "output_type": "stream",
     "text": [
      "(528, 199)\n",
      "(528,)\n",
      "28\n"
     ]
    }
   ],
   "source": [
    "X,y = make_lsd_training_table(pos_controls, neg_controls)\n",
    "\n",
    "print X.shape\n",
    "print y.shape\n",
    "\n",
    "print y.sum()"
   ]
  },
  {
   "cell_type": "markdown",
   "metadata": {},
   "source": [
    "### Same process for drugpairs"
   ]
  },
  {
   "cell_type": "code",
   "execution_count": 35,
   "metadata": {},
   "outputs": [
    {
     "name": "stderr",
     "output_type": "stream",
     "text": [
      "\n",
      "  0%|          | 0/793 [00:00<?, ?it/s]\u001b[A\n",
      "  0%|          | 1/793 [00:03<45:33,  3.45s/it]\u001b[A\n",
      "\n",
      "  0%|          | 2/793 [00:07<47:53,  3.63s/it]\u001b[A\n",
      "  0%|          | 3/793 [00:11<49:06,  3.73s/it]\u001b[A\n",
      "  1%|          | 4/793 [00:16<52:14,  3.97s/it]\u001b[A\n",
      "  1%|          | 5/793 [00:20<53:20,  4.06s/it]\u001b[A\n",
      "  1%|          | 6/793 [00:25<55:57,  4.27s/it]\u001b[A\n",
      "  1%|          | 7/793 [00:28<53:10,  4.06s/it]\u001b[A\n",
      "  1%|          | 8/793 [00:32<53:31,  4.09s/it]\u001b[A\n",
      "  1%|          | 9/793 [00:37<54:22,  4.16s/it]\u001b[A\n",
      "  1%|▏         | 10/793 [00:42<58:55,  4.52s/it]\u001b[A\n",
      "  1%|▏         | 11/793 [00:46<55:36,  4.27s/it]\u001b[A\n",
      "  2%|▏         | 12/793 [00:54<1:11:38,  5.50s/it]\u001b[A\n",
      "  2%|▏         | 13/793 [00:58<1:06:59,  5.15s/it]\u001b[A\n",
      "  2%|▏         | 14/793 [01:03<1:04:35,  4.98s/it]\u001b[A\n",
      "  2%|▏         | 15/793 [01:07<1:01:26,  4.74s/it]\u001b[A\n",
      "  2%|▏         | 16/793 [01:13<1:04:37,  4.99s/it]\u001b[A\n",
      "  2%|▏         | 17/793 [01:17<1:03:05,  4.88s/it]\u001b[A\n",
      "  2%|▏         | 18/793 [01:22<1:02:08,  4.81s/it]\u001b[A\n",
      "  2%|▏         | 19/793 [01:26<59:27,  4.61s/it]  \u001b[A\n",
      "  3%|▎         | 20/793 [01:28<48:48,  3.79s/it]\u001b[A\n",
      "  3%|▎         | 21/793 [01:30<41:04,  3.19s/it]\u001b[A\n",
      "  3%|▎         | 22/793 [01:31<35:00,  2.72s/it]\u001b[A\n",
      "  3%|▎         | 23/793 [01:33<32:00,  2.49s/it]\u001b[A\n",
      "  3%|▎         | 24/793 [01:35<29:15,  2.28s/it]\u001b[A\n",
      "  3%|▎         | 25/793 [01:37<28:50,  2.25s/it]\u001b[A\n",
      "  3%|▎         | 26/793 [01:39<28:23,  2.22s/it]\u001b[A\n",
      "  3%|▎         | 27/793 [01:41<27:07,  2.12s/it]\u001b[A\n",
      "  4%|▎         | 28/793 [01:43<25:30,  2.00s/it]\u001b[A\n",
      "  4%|▎         | 29/793 [01:45<24:39,  1.94s/it]\u001b[A\n",
      "  4%|▍         | 30/793 [01:46<23:17,  1.83s/it]\u001b[A\n",
      "  4%|▍         | 31/793 [01:48<22:51,  1.80s/it]\u001b[A\n",
      "  4%|▍         | 32/793 [01:50<21:57,  1.73s/it]\u001b[A\n",
      "  4%|▍         | 33/793 [01:51<21:38,  1.71s/it]\u001b[A\n",
      "  4%|▍         | 34/793 [01:53<21:32,  1.70s/it]\u001b[A\n",
      "  4%|▍         | 35/793 [01:55<21:31,  1.70s/it]\u001b[A\n",
      "  5%|▍         | 36/793 [01:56<20:54,  1.66s/it]\u001b[A\n",
      "  5%|▍         | 37/793 [01:58<20:39,  1.64s/it]\u001b[A\n",
      "  5%|▍         | 38/793 [02:00<23:10,  1.84s/it]\u001b[A\n",
      "  5%|▍         | 39/793 [02:02<23:09,  1.84s/it]\u001b[A\n",
      "  5%|▌         | 40/793 [02:04<22:23,  1.78s/it]\u001b[A\n",
      "  5%|▌         | 41/793 [02:05<22:07,  1.77s/it]\u001b[A\n",
      "  5%|▌         | 42/793 [02:07<21:36,  1.73s/it]\u001b[A\n",
      "  5%|▌         | 43/793 [02:09<21:08,  1.69s/it]\u001b[A\n",
      "  6%|▌         | 44/793 [02:10<21:05,  1.69s/it]\u001b[A\n",
      "  6%|▌         | 45/793 [02:12<20:52,  1.67s/it]\u001b[A\n",
      "  6%|▌         | 46/793 [02:14<20:47,  1.67s/it]\u001b[A\n",
      "  6%|▌         | 47/793 [02:15<20:44,  1.67s/it]\u001b[A\n",
      "  6%|▌         | 48/793 [02:17<20:44,  1.67s/it]\u001b[A\n",
      "  6%|▌         | 49/793 [02:19<20:36,  1.66s/it]\u001b[A\n",
      "  6%|▋         | 50/793 [02:20<20:39,  1.67s/it]\u001b[A\n",
      "  6%|▋         | 51/793 [02:22<20:13,  1.64s/it]\u001b[A\n",
      "  7%|▋         | 52/793 [02:24<20:37,  1.67s/it]\u001b[A\n",
      "  7%|▋         | 53/793 [02:25<20:59,  1.70s/it]\u001b[A\n",
      "  7%|▋         | 54/793 [02:27<20:39,  1.68s/it]\u001b[A\n",
      "  7%|▋         | 55/793 [02:29<20:32,  1.67s/it]\u001b[A\n",
      "  7%|▋         | 56/793 [02:30<20:10,  1.64s/it]\u001b[A\n",
      "  7%|▋         | 57/793 [02:32<20:47,  1.70s/it]\u001b[A\n",
      "  7%|▋         | 58/793 [02:34<20:59,  1.71s/it]\u001b[A\n",
      "  7%|▋         | 59/793 [02:36<20:58,  1.71s/it]\u001b[A\n",
      "  8%|▊         | 60/793 [02:37<20:48,  1.70s/it]\u001b[A\n",
      "  8%|▊         | 61/793 [02:39<21:00,  1.72s/it]\u001b[A\n",
      "  8%|▊         | 62/793 [02:41<21:11,  1.74s/it]\u001b[A\n",
      "  8%|▊         | 63/793 [02:42<20:54,  1.72s/it]\u001b[A\n",
      "  8%|▊         | 64/793 [02:44<20:38,  1.70s/it]\u001b[A\n",
      "  8%|▊         | 65/793 [02:46<21:02,  1.73s/it]\u001b[A\n",
      "  8%|▊         | 66/793 [02:48<20:50,  1.72s/it]\u001b[A\n",
      "  8%|▊         | 67/793 [02:49<20:52,  1.73s/it]\u001b[A\n",
      "  9%|▊         | 68/793 [02:51<20:27,  1.69s/it]\u001b[A\n",
      "  9%|▊         | 69/793 [02:53<20:55,  1.73s/it]\u001b[A\n",
      "  9%|▉         | 70/793 [02:55<20:42,  1.72s/it]\u001b[A\n",
      "  9%|▉         | 71/793 [02:56<20:50,  1.73s/it]\u001b[A\n",
      "  9%|▉         | 72/793 [02:58<20:51,  1.74s/it]\u001b[A\n",
      "  9%|▉         | 73/793 [03:00<20:40,  1.72s/it]\u001b[A\n",
      "  9%|▉         | 74/793 [03:01<20:43,  1.73s/it]\u001b[A\n",
      "  9%|▉         | 75/793 [03:03<20:33,  1.72s/it]\u001b[A\n",
      " 10%|▉         | 76/793 [03:05<21:33,  1.80s/it]\u001b[A\n",
      " 10%|▉         | 77/793 [03:07<22:26,  1.88s/it]\u001b[A\n",
      " 10%|▉         | 78/793 [03:09<23:27,  1.97s/it]\u001b[A\n",
      " 10%|▉         | 79/793 [03:11<23:44,  2.00s/it]\u001b[A\n",
      " 10%|█         | 80/793 [03:13<23:53,  2.01s/it]\u001b[A\n",
      " 10%|█         | 81/793 [03:15<23:13,  1.96s/it]\u001b[A\n",
      " 10%|█         | 82/793 [03:17<22:39,  1.91s/it]\u001b[A\n",
      " 10%|█         | 83/793 [03:19<22:08,  1.87s/it]\u001b[A\n",
      " 11%|█         | 84/793 [03:21<21:23,  1.81s/it]\u001b[A\n",
      " 11%|█         | 85/793 [03:22<21:22,  1.81s/it]\u001b[A\n",
      " 11%|█         | 86/793 [03:24<20:41,  1.76s/it]\u001b[A\n",
      " 11%|█         | 87/793 [03:26<20:37,  1.75s/it]\u001b[A\n",
      " 11%|█         | 88/793 [03:28<20:38,  1.76s/it]\u001b[A\n",
      " 11%|█         | 89/793 [03:29<20:36,  1.76s/it]\u001b[A\n",
      " 11%|█▏        | 90/793 [03:31<20:18,  1.73s/it]\u001b[A\n",
      " 11%|█▏        | 91/793 [03:33<20:34,  1.76s/it]\u001b[A\n",
      " 12%|█▏        | 92/793 [03:35<20:39,  1.77s/it]\u001b[A\n",
      " 12%|█▏        | 93/793 [03:36<20:25,  1.75s/it]\u001b[A\n",
      " 12%|█▏        | 94/793 [03:38<20:16,  1.74s/it]\u001b[A\n",
      " 12%|█▏        | 95/793 [03:40<20:47,  1.79s/it]\u001b[A\n",
      " 12%|█▏        | 96/793 [03:42<20:37,  1.77s/it]\u001b[A\n",
      " 12%|█▏        | 97/793 [03:43<20:35,  1.78s/it]\u001b[A\n",
      " 12%|█▏        | 98/793 [03:45<21:12,  1.83s/it]\u001b[A\n",
      " 12%|█▏        | 99/793 [03:47<21:05,  1.82s/it]\u001b[A\n",
      " 13%|█▎        | 100/793 [03:49<20:59,  1.82s/it]\u001b[A\n",
      " 13%|█▎        | 101/793 [03:51<20:46,  1.80s/it]\u001b[A\n",
      " 13%|█▎        | 102/793 [03:53<21:03,  1.83s/it]\u001b[A\n",
      " 13%|█▎        | 103/793 [03:55<21:32,  1.87s/it]\u001b[A\n",
      " 13%|█▎        | 104/793 [03:56<21:30,  1.87s/it]\u001b[A\n",
      " 13%|█▎        | 105/793 [03:58<21:16,  1.86s/it]\u001b[A\n",
      " 13%|█▎        | 106/793 [04:01<22:50,  2.00s/it]\u001b[A\n",
      " 13%|█▎        | 107/793 [04:03<22:35,  1.98s/it]\u001b[A\n",
      " 14%|█▎        | 108/793 [04:04<22:16,  1.95s/it]\u001b[A\n",
      " 14%|█▎        | 109/793 [04:06<21:39,  1.90s/it]\u001b[A\n",
      " 14%|█▍        | 110/793 [04:08<21:40,  1.90s/it]\u001b[A\n",
      " 14%|█▍        | 111/793 [04:10<21:31,  1.89s/it]\u001b[A\n",
      " 14%|█▍        | 112/793 [04:12<21:28,  1.89s/it]\u001b[A\n",
      " 14%|█▍        | 113/793 [04:14<21:15,  1.88s/it]\u001b[A\n",
      " 14%|█▍        | 114/793 [04:16<21:04,  1.86s/it]\u001b[A\n",
      " 15%|█▍        | 115/793 [04:17<21:12,  1.88s/it]\u001b[A\n",
      " 15%|█▍        | 116/793 [04:19<21:12,  1.88s/it]\u001b[A\n",
      " 15%|█▍        | 117/793 [04:21<21:02,  1.87s/it]\u001b[A\n",
      " 15%|█▍        | 118/793 [04:23<20:42,  1.84s/it]\u001b[A\n",
      " 15%|█▌        | 119/793 [04:25<20:37,  1.84s/it]\u001b[A\n",
      " 15%|█▌        | 120/793 [04:27<21:02,  1.88s/it]\u001b[A\n",
      " 15%|█▌        | 121/793 [04:29<21:20,  1.91s/it]\u001b[A\n",
      " 15%|█▌        | 122/793 [04:31<21:39,  1.94s/it]\u001b[A\n",
      " 16%|█▌        | 123/793 [04:33<21:15,  1.90s/it]\u001b[A\n",
      " 16%|█▌        | 124/793 [04:35<21:20,  1.91s/it]\u001b[A\n",
      " 16%|█▌        | 125/793 [04:37<22:21,  2.01s/it]\u001b[A\n",
      " 16%|█▌        | 126/793 [04:39<23:17,  2.10s/it]\u001b[A\n",
      " 16%|█▌        | 127/793 [04:41<23:14,  2.09s/it]\u001b[A\n",
      " 16%|█▌        | 128/793 [04:43<23:03,  2.08s/it]\u001b[A\n",
      " 16%|█▋        | 129/793 [04:45<22:31,  2.03s/it]\u001b[A\n",
      " 16%|█▋        | 130/793 [04:47<22:17,  2.02s/it]\u001b[A\n",
      " 17%|█▋        | 131/793 [04:48<18:56,  1.72s/it]\u001b[A\n",
      " 17%|█▋        | 132/793 [04:49<15:00,  1.36s/it]\u001b[A\n",
      " 17%|█▋        | 133/793 [04:49<12:13,  1.11s/it]\u001b[A\n",
      " 17%|█▋        | 134/793 [04:50<10:17,  1.07it/s]\u001b[A\n",
      " 17%|█▋        | 135/793 [04:50<09:10,  1.20it/s]\u001b[A\n",
      " 17%|█▋        | 136/793 [04:51<08:11,  1.34it/s]\u001b[A\n",
      " 17%|█▋        | 137/793 [04:51<07:28,  1.46it/s]\u001b[A\n",
      " 17%|█▋        | 138/793 [04:52<06:55,  1.58it/s]\u001b[A\n",
      " 18%|█▊        | 139/793 [04:52<06:34,  1.66it/s]\u001b[A\n",
      " 18%|█▊        | 140/793 [04:53<06:25,  1.70it/s]\u001b[A\n",
      " 18%|█▊        | 141/793 [04:54<06:12,  1.75it/s]\u001b[A\n",
      " 18%|█▊        | 142/793 [04:54<06:03,  1.79it/s]\u001b[A\n",
      " 18%|█▊        | 143/793 [04:55<06:01,  1.80it/s]\u001b[A\n",
      " 18%|█▊        | 144/793 [04:55<05:57,  1.82it/s]\u001b[A\n",
      " 18%|█▊        | 145/793 [04:56<05:56,  1.82it/s]\u001b[A\n",
      " 18%|█▊        | 146/793 [04:56<05:59,  1.80it/s]\u001b[A\n",
      " 19%|█▊        | 147/793 [04:57<06:01,  1.79it/s]\u001b[A\n",
      " 19%|█▊        | 148/793 [04:57<05:54,  1.82it/s]\u001b[A\n",
      " 19%|█▉        | 149/793 [04:58<05:47,  1.85it/s]\u001b[A\n",
      " 19%|█▉        | 150/793 [04:58<05:43,  1.87it/s]\u001b[A\n",
      " 19%|█▉        | 151/793 [04:59<05:42,  1.87it/s]\u001b[A\n",
      " 19%|█▉        | 152/793 [04:59<05:38,  1.89it/s]\u001b[A\n",
      " 19%|█▉        | 153/793 [05:00<05:39,  1.89it/s]\u001b[A\n",
      " 19%|█▉        | 154/793 [05:00<05:38,  1.89it/s]\u001b[A\n",
      " 20%|█▉        | 155/793 [05:01<05:47,  1.84it/s]\u001b[A\n"
     ]
    },
    {
     "name": "stderr",
     "output_type": "stream",
     "text": [
      " 20%|█▉        | 156/793 [05:02<05:41,  1.87it/s]\u001b[A\n",
      " 20%|█▉        | 157/793 [05:02<05:39,  1.87it/s]\u001b[A\n",
      " 20%|█▉        | 158/793 [05:03<05:37,  1.88it/s]\u001b[A\n",
      " 20%|██        | 159/793 [05:03<05:34,  1.90it/s]\u001b[A\n",
      " 20%|██        | 160/793 [05:04<05:34,  1.89it/s]\u001b[A\n",
      " 20%|██        | 161/793 [05:04<05:35,  1.88it/s]\u001b[A\n",
      " 20%|██        | 162/793 [05:05<05:36,  1.87it/s]\u001b[A\n",
      " 21%|██        | 163/793 [05:05<05:34,  1.88it/s]\u001b[A\n",
      " 21%|██        | 164/793 [05:06<05:40,  1.85it/s]\u001b[A\n",
      " 21%|██        | 165/793 [05:06<05:39,  1.85it/s]\u001b[A\n",
      " 21%|██        | 166/793 [05:07<05:35,  1.87it/s]\u001b[A\n",
      " 21%|██        | 167/793 [05:07<05:32,  1.88it/s]\u001b[A\n",
      " 21%|██        | 168/793 [05:08<05:31,  1.89it/s]\u001b[A\n",
      " 21%|██▏       | 169/793 [05:08<05:31,  1.88it/s]\u001b[A\n",
      " 21%|██▏       | 170/793 [05:09<05:29,  1.89it/s]\u001b[A\n",
      " 22%|██▏       | 171/793 [05:10<05:52,  1.76it/s]\u001b[A\n",
      " 22%|██▏       | 172/793 [05:10<05:45,  1.80it/s]\u001b[A\n",
      " 22%|██▏       | 173/793 [05:11<05:44,  1.80it/s]\u001b[A\n",
      " 22%|██▏       | 174/793 [05:11<05:37,  1.83it/s]\u001b[A\n",
      " 22%|██▏       | 175/793 [05:12<05:34,  1.85it/s]\u001b[A\n",
      " 22%|██▏       | 176/793 [05:12<05:30,  1.87it/s]\u001b[A\n",
      " 22%|██▏       | 177/793 [05:13<05:30,  1.86it/s]\u001b[A\n",
      " 22%|██▏       | 178/793 [05:13<05:32,  1.85it/s]\u001b[A\n",
      " 23%|██▎       | 179/793 [05:14<05:29,  1.86it/s]\u001b[A\n",
      " 23%|██▎       | 180/793 [05:14<05:26,  1.88it/s]\u001b[A\n",
      " 23%|██▎       | 181/793 [05:15<05:25,  1.88it/s]\u001b[A\n",
      " 23%|██▎       | 182/793 [05:16<05:25,  1.88it/s]\u001b[A\n",
      " 23%|██▎       | 183/793 [05:16<05:22,  1.89it/s]\u001b[A\n",
      " 23%|██▎       | 184/793 [05:17<05:22,  1.89it/s]\u001b[A\n",
      " 23%|██▎       | 185/793 [05:17<05:22,  1.88it/s]\u001b[A\n",
      " 23%|██▎       | 186/793 [05:18<05:20,  1.90it/s]\u001b[A\n",
      " 24%|██▎       | 187/793 [05:18<05:20,  1.89it/s]\u001b[A\n",
      " 24%|██▎       | 188/793 [05:19<05:17,  1.90it/s]\u001b[A\n",
      " 24%|██▍       | 189/793 [05:19<05:16,  1.91it/s]\u001b[A\n",
      " 24%|██▍       | 190/793 [05:20<05:15,  1.91it/s]\u001b[A\n",
      " 24%|██▍       | 191/793 [05:20<05:22,  1.87it/s]\u001b[A\n",
      " 24%|██▍       | 192/793 [05:21<05:23,  1.86it/s]\u001b[A\n",
      " 24%|██▍       | 193/793 [05:21<05:26,  1.84it/s]\u001b[A\n",
      " 24%|██▍       | 194/793 [05:22<05:25,  1.84it/s]\u001b[A\n",
      " 25%|██▍       | 195/793 [05:22<05:22,  1.85it/s]\u001b[A\n",
      " 25%|██▍       | 196/793 [05:23<05:18,  1.88it/s]\u001b[A\n",
      " 25%|██▍       | 197/793 [05:24<05:17,  1.88it/s]\u001b[A\n",
      " 25%|██▍       | 198/793 [05:24<05:14,  1.89it/s]\u001b[A\n",
      " 25%|██▌       | 199/793 [05:25<05:14,  1.89it/s]\u001b[A\n",
      " 25%|██▌       | 200/793 [05:25<05:13,  1.89it/s]\u001b[A\n",
      " 25%|██▌       | 201/793 [05:26<05:17,  1.86it/s]\u001b[A\n",
      " 25%|██▌       | 202/793 [05:26<05:20,  1.85it/s]\u001b[A\n",
      " 26%|██▌       | 203/793 [05:27<05:19,  1.85it/s]\u001b[A\n",
      " 26%|██▌       | 204/793 [05:27<05:15,  1.87it/s]\u001b[A\n",
      " 26%|██▌       | 205/793 [05:28<05:12,  1.88it/s]\u001b[A\n",
      " 26%|██▌       | 206/793 [05:28<05:10,  1.89it/s]\u001b[A\n",
      " 26%|██▌       | 207/793 [05:29<05:09,  1.90it/s]\u001b[A\n",
      " 26%|██▌       | 208/793 [05:29<05:08,  1.90it/s]\u001b[A\n",
      " 26%|██▋       | 209/793 [05:30<05:17,  1.84it/s]\u001b[A\n",
      " 26%|██▋       | 210/793 [05:31<05:22,  1.81it/s]\u001b[A\n",
      " 27%|██▋       | 211/793 [05:31<05:22,  1.81it/s]\u001b[A\n",
      " 27%|██▋       | 212/793 [05:32<05:16,  1.84it/s]\u001b[A\n",
      " 27%|██▋       | 213/793 [05:32<05:14,  1.84it/s]\u001b[A\n",
      " 27%|██▋       | 214/793 [05:33<05:16,  1.83it/s]\u001b[A\n",
      " 27%|██▋       | 215/793 [05:33<05:14,  1.84it/s]\u001b[A\n",
      " 27%|██▋       | 216/793 [05:34<05:12,  1.84it/s]\u001b[A\n",
      " 27%|██▋       | 217/793 [05:34<05:13,  1.84it/s]\u001b[A\n",
      " 27%|██▋       | 218/793 [05:35<05:10,  1.85it/s]\u001b[A\n",
      " 28%|██▊       | 219/793 [05:35<05:09,  1.86it/s]\u001b[A\n",
      " 28%|██▊       | 220/793 [05:36<05:17,  1.81it/s]\u001b[A\n",
      " 28%|██▊       | 221/793 [05:37<05:13,  1.82it/s]\u001b[A\n",
      " 28%|██▊       | 222/793 [05:37<05:08,  1.85it/s]\u001b[A\n",
      " 28%|██▊       | 223/793 [05:38<05:05,  1.87it/s]\u001b[A\n",
      " 28%|██▊       | 224/793 [05:38<05:03,  1.88it/s]\u001b[A\n",
      " 28%|██▊       | 225/793 [05:39<05:02,  1.87it/s]\u001b[A\n",
      " 28%|██▊       | 226/793 [05:39<05:02,  1.87it/s]\u001b[A\n",
      " 29%|██▊       | 227/793 [05:40<05:05,  1.85it/s]\u001b[A\n",
      " 29%|██▉       | 228/793 [05:40<05:02,  1.87it/s]\u001b[A\n",
      " 29%|██▉       | 229/793 [05:41<05:06,  1.84it/s]\u001b[A\n",
      " 29%|██▉       | 230/793 [05:41<05:01,  1.86it/s]\u001b[A\n",
      " 29%|██▉       | 231/793 [05:42<04:59,  1.88it/s]\u001b[A\n",
      " 29%|██▉       | 232/793 [05:42<05:07,  1.82it/s]\u001b[A\n",
      " 29%|██▉       | 233/793 [05:43<05:06,  1.83it/s]\u001b[A\n",
      " 30%|██▉       | 234/793 [05:43<05:02,  1.85it/s]\u001b[A\n",
      " 30%|██▉       | 235/793 [05:44<04:59,  1.86it/s]\u001b[A\n",
      " 30%|██▉       | 236/793 [05:45<05:02,  1.84it/s]\u001b[A\n",
      " 30%|██▉       | 237/793 [05:45<05:06,  1.81it/s]\u001b[A\n",
      " 30%|███       | 238/793 [05:46<05:06,  1.81it/s]\u001b[A\n",
      " 30%|███       | 239/793 [05:46<05:02,  1.83it/s]\u001b[A\n",
      " 30%|███       | 240/793 [05:47<05:00,  1.84it/s]\u001b[A\n",
      " 30%|███       | 241/793 [05:47<05:07,  1.79it/s]\u001b[A\n",
      " 31%|███       | 242/793 [05:48<05:13,  1.76it/s]\u001b[A\n",
      " 31%|███       | 243/793 [05:49<05:11,  1.76it/s]\u001b[A\n",
      " 31%|███       | 244/793 [05:49<05:03,  1.81it/s]\u001b[A\n",
      " 31%|███       | 245/793 [05:50<04:58,  1.84it/s]\u001b[A\n",
      " 31%|███       | 246/793 [05:50<05:01,  1.82it/s]\u001b[A\n",
      " 31%|███       | 247/793 [05:51<05:07,  1.77it/s]\u001b[A\n",
      " 31%|███▏      | 248/793 [05:51<05:02,  1.80it/s]\u001b[A\n",
      " 31%|███▏      | 249/793 [05:52<05:29,  1.65it/s]\u001b[A\n",
      " 32%|███▏      | 250/793 [05:53<05:19,  1.70it/s]\u001b[A\n",
      " 32%|███▏      | 251/793 [05:53<05:19,  1.70it/s]\u001b[A\n",
      " 32%|███▏      | 252/793 [05:54<05:11,  1.74it/s]\u001b[A\n",
      " 32%|███▏      | 253/793 [05:54<05:06,  1.76it/s]\u001b[A\n",
      " 32%|███▏      | 254/793 [05:55<04:58,  1.80it/s]\u001b[A\n",
      " 32%|███▏      | 255/793 [05:55<04:59,  1.80it/s]\u001b[A\n",
      " 32%|███▏      | 256/793 [05:56<05:05,  1.76it/s]\u001b[A\n",
      " 32%|███▏      | 257/793 [05:56<04:59,  1.79it/s]\u001b[A\n",
      " 33%|███▎      | 258/793 [05:57<04:56,  1.80it/s]\u001b[A\n",
      " 33%|███▎      | 259/793 [05:58<04:51,  1.83it/s]\u001b[A\n",
      " 33%|███▎      | 260/793 [05:58<04:48,  1.85it/s]\u001b[A\n",
      " 33%|███▎      | 261/793 [05:59<04:48,  1.84it/s]\u001b[A\n",
      " 33%|███▎      | 262/793 [05:59<04:46,  1.85it/s]\u001b[A\n",
      " 33%|███▎      | 263/793 [06:00<04:52,  1.81it/s]\u001b[A\n",
      " 33%|███▎      | 264/793 [06:00<04:47,  1.84it/s]\u001b[A\n",
      " 33%|███▎      | 265/793 [06:01<04:49,  1.83it/s]\u001b[A\n",
      " 34%|███▎      | 266/793 [06:01<04:52,  1.80it/s]\u001b[A\n",
      " 34%|███▎      | 267/793 [06:02<04:56,  1.77it/s]\u001b[A\n",
      " 34%|███▍      | 268/793 [06:03<04:58,  1.76it/s]\u001b[A\n",
      " 34%|███▍      | 269/793 [06:03<04:54,  1.78it/s]\u001b[A\n",
      " 34%|███▍      | 270/793 [06:04<04:47,  1.82it/s]\u001b[A\n",
      " 34%|███▍      | 271/793 [06:04<04:48,  1.81it/s]\u001b[A\n",
      " 34%|███▍      | 272/793 [06:05<04:54,  1.77it/s]\u001b[A\n",
      " 34%|███▍      | 273/793 [06:05<04:55,  1.76it/s]\u001b[A\n",
      " 35%|███▍      | 274/793 [06:06<04:59,  1.73it/s]\u001b[A\n",
      " 35%|███▍      | 275/793 [06:06<04:54,  1.76it/s]\u001b[A\n",
      " 35%|███▍      | 276/793 [06:07<04:45,  1.81it/s]\u001b[A\n",
      " 35%|███▍      | 277/793 [06:08<04:44,  1.81it/s]\u001b[A\n",
      " 35%|███▌      | 278/793 [06:08<04:42,  1.82it/s]\u001b[A\n",
      " 35%|███▌      | 279/793 [06:09<04:45,  1.80it/s]\u001b[A\n",
      " 35%|███▌      | 280/793 [06:09<04:44,  1.80it/s]\u001b[A\n",
      " 35%|███▌      | 281/793 [06:10<04:40,  1.83it/s]\u001b[A\n",
      " 36%|███▌      | 282/793 [06:10<04:35,  1.85it/s]\u001b[A\n",
      " 36%|███▌      | 283/793 [06:11<04:41,  1.81it/s]\u001b[A\n",
      " 36%|███▌      | 284/793 [06:11<04:40,  1.81it/s]\u001b[A\n",
      " 36%|███▌      | 285/793 [06:12<04:42,  1.80it/s]\u001b[A\n",
      " 36%|███▌      | 286/793 [06:12<04:41,  1.80it/s]\u001b[A\n",
      " 36%|███▌      | 287/793 [06:13<04:37,  1.82it/s]\u001b[A\n",
      " 36%|███▋      | 288/793 [06:14<04:34,  1.84it/s]\u001b[A\n",
      " 36%|███▋      | 289/793 [06:14<04:40,  1.80it/s]\u001b[A\n",
      " 37%|███▋      | 290/793 [06:15<04:38,  1.80it/s]\u001b[A\n",
      " 37%|███▋      | 291/793 [06:15<04:37,  1.81it/s]\u001b[A\n",
      " 37%|███▋      | 292/793 [06:16<04:36,  1.81it/s]\u001b[A\n",
      " 37%|███▋      | 293/793 [06:16<04:34,  1.82it/s]\u001b[A\n",
      " 37%|███▋      | 294/793 [06:17<04:30,  1.85it/s]\u001b[A\n",
      " 37%|███▋      | 295/793 [06:17<04:28,  1.86it/s]\u001b[A\n",
      " 37%|███▋      | 296/793 [06:18<04:36,  1.80it/s]\u001b[A\n",
      " 37%|███▋      | 297/793 [06:19<04:33,  1.81it/s]\u001b[A\n",
      " 38%|███▊      | 298/793 [06:19<04:29,  1.83it/s]\u001b[A\n",
      " 38%|███▊      | 299/793 [06:20<04:31,  1.82it/s]\u001b[A\n",
      " 38%|███▊      | 300/793 [06:20<04:31,  1.82it/s]\u001b[A\n",
      " 38%|███▊      | 301/793 [06:21<04:30,  1.82it/s]\u001b[A\n",
      " 38%|███▊      | 302/793 [06:21<04:32,  1.80it/s]\u001b[A\n",
      " 38%|███▊      | 303/793 [06:22<04:32,  1.80it/s]\u001b[A\n",
      " 38%|███▊      | 304/793 [06:22<04:35,  1.78it/s]\u001b[A\n",
      " 38%|███▊      | 305/793 [06:23<04:30,  1.80it/s]\u001b[A\n",
      " 39%|███▊      | 306/793 [06:23<04:27,  1.82it/s]\u001b[A\n",
      " 39%|███▊      | 307/793 [06:24<04:23,  1.84it/s]\u001b[A\n",
      " 39%|███▉      | 308/793 [06:25<04:19,  1.87it/s]\u001b[A\n",
      " 39%|███▉      | 309/793 [06:25<04:19,  1.87it/s]\u001b[A\n"
     ]
    },
    {
     "name": "stderr",
     "output_type": "stream",
     "text": [
      " 39%|███▉      | 310/793 [06:26<04:24,  1.83it/s]\u001b[A\n",
      " 39%|███▉      | 311/793 [06:26<04:23,  1.83it/s]\u001b[A\n",
      " 39%|███▉      | 312/793 [06:27<04:20,  1.85it/s]\u001b[A\n",
      " 39%|███▉      | 313/793 [06:27<04:21,  1.83it/s]\u001b[A\n",
      " 40%|███▉      | 314/793 [06:28<04:21,  1.83it/s]\u001b[A\n",
      " 40%|███▉      | 315/793 [06:28<04:19,  1.84it/s]\u001b[A\n",
      " 40%|███▉      | 316/793 [06:29<04:18,  1.85it/s]\u001b[A\n",
      " 40%|███▉      | 317/793 [06:29<04:18,  1.84it/s]\u001b[A\n",
      " 40%|████      | 318/793 [06:30<04:17,  1.85it/s]\u001b[A\n",
      " 40%|████      | 319/793 [06:31<04:15,  1.86it/s]\u001b[A\n",
      " 40%|████      | 320/793 [06:31<04:13,  1.86it/s]\u001b[A\n",
      " 40%|████      | 321/793 [06:32<04:15,  1.85it/s]\u001b[A\n",
      " 41%|████      | 322/793 [06:32<04:15,  1.84it/s]\u001b[A\n",
      " 41%|████      | 323/793 [06:33<04:13,  1.85it/s]\u001b[A\n",
      " 41%|████      | 324/793 [06:33<04:13,  1.85it/s]\u001b[A\n",
      " 41%|████      | 325/793 [06:34<04:12,  1.85it/s]\u001b[A\n",
      " 41%|████      | 326/793 [06:34<04:12,  1.85it/s]\u001b[A\n",
      " 41%|████      | 327/793 [06:35<04:13,  1.84it/s]\u001b[A\n",
      " 41%|████▏     | 328/793 [06:35<04:12,  1.84it/s]\u001b[A\n",
      " 41%|████▏     | 329/793 [06:36<04:14,  1.82it/s]\u001b[A\n",
      " 42%|████▏     | 330/793 [06:36<04:10,  1.85it/s]\u001b[A\n",
      " 42%|████▏     | 331/793 [06:37<04:07,  1.87it/s]\u001b[A\n",
      " 42%|████▏     | 332/793 [06:38<04:04,  1.89it/s]\u001b[A\n",
      " 42%|████▏     | 333/793 [06:38<04:01,  1.90it/s]\u001b[A\n",
      " 42%|████▏     | 334/793 [06:39<04:01,  1.90it/s]\u001b[A\n",
      " 42%|████▏     | 335/793 [06:39<04:00,  1.90it/s]\u001b[A\n",
      " 42%|████▏     | 336/793 [06:40<04:02,  1.88it/s]\u001b[A\n",
      " 42%|████▏     | 337/793 [06:40<04:04,  1.87it/s]\u001b[A\n",
      " 43%|████▎     | 338/793 [06:41<04:14,  1.79it/s]\u001b[A\n",
      " 43%|████▎     | 339/793 [06:41<04:10,  1.81it/s]\u001b[A\n",
      " 43%|████▎     | 340/793 [06:42<04:07,  1.83it/s]\u001b[A\n",
      " 43%|████▎     | 341/793 [06:42<04:04,  1.85it/s]\u001b[A\n",
      " 43%|████▎     | 342/793 [06:43<04:03,  1.85it/s]\u001b[A\n",
      " 43%|████▎     | 343/793 [06:43<04:00,  1.87it/s]\u001b[A\n",
      " 43%|████▎     | 344/793 [06:44<03:58,  1.88it/s]\u001b[A\n",
      " 44%|████▎     | 345/793 [06:45<03:58,  1.88it/s]\u001b[A\n",
      " 44%|████▎     | 346/793 [06:45<03:59,  1.86it/s]\u001b[A\n",
      " 44%|████▍     | 347/793 [06:46<04:06,  1.81it/s]\u001b[A\n",
      " 44%|████▍     | 348/793 [06:46<04:01,  1.84it/s]\u001b[A\n",
      " 44%|████▍     | 349/793 [06:47<04:01,  1.84it/s]\u001b[A\n",
      " 44%|████▍     | 350/793 [06:47<03:58,  1.86it/s]\u001b[A\n",
      " 44%|████▍     | 351/793 [06:48<03:56,  1.87it/s]\u001b[A\n",
      " 44%|████▍     | 352/793 [06:48<03:58,  1.85it/s]\u001b[A\n",
      " 45%|████▍     | 353/793 [06:49<04:21,  1.68it/s]\u001b[A\n",
      " 45%|████▍     | 354/793 [06:50<04:17,  1.71it/s]\u001b[A\n",
      " 45%|████▍     | 355/793 [06:50<04:13,  1.72it/s]\u001b[A\n",
      " 45%|████▍     | 356/793 [06:51<04:07,  1.76it/s]\u001b[A\n",
      " 45%|████▌     | 357/793 [06:51<04:03,  1.79it/s]\u001b[A\n",
      " 45%|████▌     | 358/793 [06:52<04:02,  1.80it/s]\u001b[A\n",
      " 45%|████▌     | 359/793 [06:52<04:02,  1.79it/s]\u001b[A\n",
      " 45%|████▌     | 360/793 [06:53<03:56,  1.83it/s]\u001b[A\n",
      " 46%|████▌     | 361/793 [06:53<03:54,  1.84it/s]\u001b[A\n",
      " 46%|████▌     | 362/793 [06:54<03:51,  1.86it/s]\u001b[A\n",
      " 46%|████▌     | 363/793 [06:54<03:50,  1.87it/s]\u001b[A\n",
      " 46%|████▌     | 364/793 [06:55<03:48,  1.88it/s]\u001b[A\n",
      " 46%|████▌     | 365/793 [06:56<03:52,  1.84it/s]\u001b[A\n",
      " 46%|████▌     | 366/793 [06:56<03:52,  1.84it/s]\u001b[A\n",
      " 46%|████▋     | 367/793 [06:57<03:50,  1.84it/s]\u001b[A\n",
      " 46%|████▋     | 368/793 [06:57<03:48,  1.86it/s]\u001b[A\n",
      " 47%|████▋     | 369/793 [06:58<03:47,  1.86it/s]\u001b[A\n",
      " 47%|████▋     | 370/793 [06:58<03:48,  1.85it/s]\u001b[A\n",
      " 47%|████▋     | 371/793 [06:59<03:46,  1.86it/s]\u001b[A\n",
      " 47%|████▋     | 372/793 [06:59<03:49,  1.83it/s]\u001b[A\n",
      " 47%|████▋     | 373/793 [07:00<03:49,  1.83it/s]\u001b[A\n",
      " 47%|████▋     | 374/793 [07:00<03:48,  1.83it/s]\u001b[A\n",
      " 47%|████▋     | 375/793 [07:01<03:50,  1.81it/s]\u001b[A\n",
      " 47%|████▋     | 376/793 [07:02<03:46,  1.84it/s]\u001b[A\n",
      " 48%|████▊     | 377/793 [07:02<03:47,  1.83it/s]\u001b[A\n",
      " 48%|████▊     | 378/793 [07:03<03:44,  1.85it/s]\u001b[A\n",
      " 48%|████▊     | 379/793 [07:03<03:42,  1.86it/s]\u001b[A\n",
      " 48%|████▊     | 380/793 [07:04<03:40,  1.87it/s]\u001b[A\n",
      " 48%|████▊     | 381/793 [07:04<03:38,  1.88it/s]\u001b[A\n",
      " 48%|████▊     | 382/793 [07:05<03:38,  1.88it/s]\u001b[A\n",
      " 48%|████▊     | 383/793 [07:05<03:38,  1.88it/s]\u001b[A\n",
      " 48%|████▊     | 384/793 [07:06<03:44,  1.82it/s]\u001b[A\n",
      " 49%|████▊     | 385/793 [07:06<03:44,  1.82it/s]\u001b[A\n",
      " 49%|████▊     | 386/793 [07:07<03:41,  1.84it/s]\u001b[A\n",
      " 49%|████▉     | 387/793 [07:07<03:38,  1.86it/s]\u001b[A\n",
      " 49%|████▉     | 388/793 [07:08<03:35,  1.88it/s]\u001b[A\n",
      " 49%|████▉     | 389/793 [07:08<03:34,  1.89it/s]\u001b[A\n",
      " 49%|████▉     | 390/793 [07:09<03:32,  1.89it/s]\u001b[A\n",
      " 49%|████▉     | 391/793 [07:10<03:30,  1.91it/s]\u001b[A\n",
      " 49%|████▉     | 392/793 [07:10<03:31,  1.90it/s]\u001b[A\n",
      " 50%|████▉     | 393/793 [07:11<03:34,  1.87it/s]\u001b[A\n",
      " 50%|████▉     | 394/793 [07:11<03:33,  1.87it/s]\u001b[A\n",
      " 50%|████▉     | 395/793 [07:12<03:38,  1.82it/s]\u001b[A\n",
      " 50%|████▉     | 396/793 [07:12<03:34,  1.85it/s]\u001b[A\n",
      " 50%|█████     | 397/793 [07:13<03:32,  1.86it/s]\u001b[A\n",
      " 50%|█████     | 398/793 [07:13<03:30,  1.88it/s]\u001b[A\n",
      " 50%|█████     | 399/793 [07:14<03:29,  1.88it/s]\u001b[A\n",
      " 50%|█████     | 400/793 [07:14<03:33,  1.84it/s]\u001b[A\n",
      " 51%|█████     | 401/793 [07:15<03:33,  1.83it/s]\u001b[A\n",
      " 51%|█████     | 402/793 [07:15<03:31,  1.85it/s]\u001b[A\n",
      " 51%|█████     | 403/793 [07:16<03:29,  1.86it/s]\u001b[A\n",
      " 51%|█████     | 404/793 [07:17<03:28,  1.87it/s]\u001b[A\n",
      " 51%|█████     | 405/793 [07:17<03:26,  1.88it/s]\u001b[A\n",
      " 51%|█████     | 406/793 [07:18<03:25,  1.88it/s]\u001b[A\n",
      " 51%|█████▏    | 407/793 [07:18<03:24,  1.89it/s]\u001b[A\n",
      " 51%|█████▏    | 408/793 [07:19<03:23,  1.89it/s]\u001b[A\n",
      " 52%|█████▏    | 409/793 [07:19<03:21,  1.90it/s]\u001b[A\n",
      " 52%|█████▏    | 410/793 [07:20<03:20,  1.91it/s]\u001b[A\n",
      " 52%|█████▏    | 411/793 [07:20<03:20,  1.91it/s]\u001b[A\n",
      " 52%|█████▏    | 412/793 [07:21<03:26,  1.85it/s]\u001b[A\n",
      " 52%|█████▏    | 413/793 [07:21<03:23,  1.87it/s]\u001b[A\n",
      " 52%|█████▏    | 414/793 [07:22<03:22,  1.87it/s]\u001b[A\n",
      " 52%|█████▏    | 415/793 [07:22<03:21,  1.88it/s]\u001b[A\n",
      " 52%|█████▏    | 416/793 [07:23<03:20,  1.88it/s]\u001b[A\n",
      " 53%|█████▎    | 417/793 [07:23<03:21,  1.87it/s]\u001b[A\n",
      " 53%|█████▎    | 418/793 [07:24<03:19,  1.88it/s]\u001b[A\n",
      " 53%|█████▎    | 419/793 [07:25<03:17,  1.89it/s]\u001b[A\n",
      " 53%|█████▎    | 420/793 [07:25<03:15,  1.91it/s]\u001b[A\n",
      " 53%|█████▎    | 421/793 [07:26<03:21,  1.85it/s]\u001b[A\n",
      " 53%|█████▎    | 422/793 [07:26<03:18,  1.87it/s]\u001b[A\n",
      " 53%|█████▎    | 423/793 [07:27<03:15,  1.89it/s]\u001b[A\n",
      " 53%|█████▎    | 424/793 [07:27<03:17,  1.87it/s]\u001b[A\n",
      " 54%|█████▎    | 425/793 [07:28<03:16,  1.87it/s]\u001b[A\n",
      " 54%|█████▎    | 426/793 [07:28<03:16,  1.86it/s]\u001b[A\n",
      " 54%|█████▍    | 427/793 [07:29<03:15,  1.87it/s]\u001b[A\n",
      " 54%|█████▍    | 428/793 [07:29<03:14,  1.87it/s]\u001b[A\n",
      " 54%|█████▍    | 429/793 [07:30<03:15,  1.86it/s]\u001b[A\n",
      " 54%|█████▍    | 430/793 [07:30<03:21,  1.80it/s]\u001b[A\n",
      " 54%|█████▍    | 431/793 [07:31<03:22,  1.79it/s]\u001b[A\n",
      " 54%|█████▍    | 432/793 [07:32<03:21,  1.79it/s]\u001b[A\n",
      " 55%|█████▍    | 433/793 [07:32<03:20,  1.80it/s]\u001b[A\n",
      " 55%|█████▍    | 434/793 [07:33<03:18,  1.81it/s]\u001b[A\n",
      " 55%|█████▍    | 435/793 [07:33<03:15,  1.83it/s]\u001b[A\n",
      " 55%|█████▍    | 436/793 [07:34<03:13,  1.85it/s]\u001b[A\n",
      " 55%|█████▌    | 437/793 [07:34<03:10,  1.87it/s]\u001b[A\n",
      " 55%|█████▌    | 438/793 [07:35<03:09,  1.88it/s]\u001b[A\n",
      " 55%|█████▌    | 439/793 [07:35<03:07,  1.89it/s]\u001b[A\n",
      " 55%|█████▌    | 440/793 [07:36<03:11,  1.85it/s]\u001b[A\n",
      " 56%|█████▌    | 441/793 [07:36<03:08,  1.87it/s]\u001b[A\n",
      " 56%|█████▌    | 442/793 [07:37<03:06,  1.88it/s]\u001b[A\n",
      " 56%|█████▌    | 443/793 [07:37<03:04,  1.89it/s]\u001b[A\n",
      " 56%|█████▌    | 444/793 [07:38<03:03,  1.90it/s]\u001b[A\n",
      " 56%|█████▌    | 445/793 [07:38<03:02,  1.91it/s]\u001b[A\n",
      " 56%|█████▌    | 446/793 [07:39<03:02,  1.90it/s]\u001b[A\n",
      " 56%|█████▋    | 447/793 [07:40<03:02,  1.90it/s]\u001b[A\n",
      " 56%|█████▋    | 448/793 [07:40<03:03,  1.88it/s]\u001b[A\n",
      " 57%|█████▋    | 449/793 [07:41<03:05,  1.85it/s]\u001b[A\n",
      " 57%|█████▋    | 450/793 [07:41<03:04,  1.86it/s]\u001b[A\n",
      " 57%|█████▋    | 451/793 [07:42<03:05,  1.84it/s]\u001b[A\n",
      " 57%|█████▋    | 452/793 [07:42<03:03,  1.86it/s]\u001b[A\n",
      " 57%|█████▋    | 453/793 [07:43<03:01,  1.87it/s]\u001b[A\n",
      " 57%|█████▋    | 454/793 [07:43<02:59,  1.89it/s]\u001b[A\n",
      " 57%|█████▋    | 455/793 [07:44<02:59,  1.88it/s]\u001b[A\n",
      " 58%|█████▊    | 456/793 [07:44<02:59,  1.88it/s]\u001b[A\n",
      " 58%|█████▊    | 457/793 [07:45<02:57,  1.89it/s]\u001b[A\n",
      " 58%|█████▊    | 458/793 [07:45<02:57,  1.89it/s]\u001b[A\n",
      " 58%|█████▊    | 459/793 [07:46<02:57,  1.88it/s]\u001b[A\n",
      " 58%|█████▊    | 460/793 [07:46<02:55,  1.89it/s]\u001b[A\n",
      " 58%|█████▊    | 461/793 [07:47<02:55,  1.89it/s]\u001b[A\n",
      " 58%|█████▊    | 462/793 [07:48<02:53,  1.90it/s]\u001b[A\n",
      " 58%|█████▊    | 463/793 [07:48<02:53,  1.90it/s]\u001b[A\n"
     ]
    },
    {
     "name": "stderr",
     "output_type": "stream",
     "text": [
      " 59%|█████▊    | 464/793 [07:49<02:54,  1.89it/s]\u001b[A\n",
      " 59%|█████▊    | 465/793 [07:49<02:54,  1.88it/s]\u001b[A\n",
      " 59%|█████▉    | 466/793 [07:50<02:54,  1.87it/s]\u001b[A\n",
      " 59%|█████▉    | 467/793 [07:50<02:56,  1.85it/s]\u001b[A\n",
      " 59%|█████▉    | 468/793 [07:51<02:58,  1.82it/s]\u001b[A\n",
      " 59%|█████▉    | 469/793 [07:51<02:56,  1.83it/s]\u001b[A\n",
      " 59%|█████▉    | 470/793 [07:52<02:56,  1.83it/s]\u001b[A\n",
      " 59%|█████▉    | 471/793 [07:52<02:53,  1.86it/s]\u001b[A\n",
      " 60%|█████▉    | 472/793 [07:53<02:52,  1.86it/s]\u001b[A\n",
      " 60%|█████▉    | 473/793 [07:53<02:49,  1.89it/s]\u001b[A\n",
      " 60%|█████▉    | 474/793 [07:54<02:48,  1.89it/s]\u001b[A\n",
      " 60%|█████▉    | 475/793 [07:55<02:48,  1.88it/s]\u001b[A\n",
      " 60%|██████    | 476/793 [07:55<02:48,  1.88it/s]\u001b[A\n",
      " 60%|██████    | 477/793 [07:56<02:49,  1.87it/s]\u001b[A\n",
      " 60%|██████    | 478/793 [07:56<02:48,  1.87it/s]\u001b[A\n",
      " 60%|██████    | 479/793 [07:57<02:47,  1.88it/s]\u001b[A\n",
      " 61%|██████    | 480/793 [07:57<02:46,  1.88it/s]\u001b[A\n",
      " 61%|██████    | 481/793 [07:58<02:46,  1.87it/s]\u001b[A\n",
      " 61%|██████    | 482/793 [07:58<02:45,  1.88it/s]\u001b[A\n",
      " 61%|██████    | 483/793 [07:59<02:44,  1.88it/s]\u001b[A\n",
      " 61%|██████    | 484/793 [07:59<02:43,  1.89it/s]\u001b[A\n",
      " 61%|██████    | 485/793 [08:00<02:51,  1.80it/s]\u001b[A\n",
      " 61%|██████▏   | 486/793 [08:00<02:47,  1.83it/s]\u001b[A\n",
      " 61%|██████▏   | 487/793 [08:01<02:47,  1.82it/s]\u001b[A\n",
      " 62%|██████▏   | 488/793 [08:02<02:46,  1.83it/s]\u001b[A\n",
      " 62%|██████▏   | 489/793 [08:02<02:43,  1.86it/s]\u001b[A\n",
      " 62%|██████▏   | 490/793 [08:03<02:42,  1.87it/s]\u001b[A\n",
      " 62%|██████▏   | 491/793 [08:03<02:40,  1.88it/s]\u001b[A\n",
      " 62%|██████▏   | 492/793 [08:04<02:40,  1.88it/s]\u001b[A\n",
      " 62%|██████▏   | 493/793 [08:04<02:39,  1.88it/s]\u001b[A\n",
      " 62%|██████▏   | 494/793 [08:05<02:38,  1.89it/s]\u001b[A\n",
      " 62%|██████▏   | 495/793 [08:05<02:38,  1.88it/s]\u001b[A\n",
      " 63%|██████▎   | 496/793 [08:06<02:41,  1.84it/s]\u001b[A\n",
      " 63%|██████▎   | 497/793 [08:06<02:41,  1.83it/s]\u001b[A\n",
      " 63%|██████▎   | 498/793 [08:07<02:40,  1.84it/s]\u001b[A\n",
      " 63%|██████▎   | 499/793 [08:07<02:37,  1.87it/s]\u001b[A\n",
      " 63%|██████▎   | 500/793 [08:08<02:35,  1.88it/s]\u001b[A\n",
      " 63%|██████▎   | 501/793 [08:08<02:34,  1.89it/s]\u001b[A\n",
      " 63%|██████▎   | 502/793 [08:09<02:36,  1.85it/s]\u001b[A\n",
      " 63%|██████▎   | 503/793 [08:10<02:34,  1.87it/s]\u001b[A\n",
      " 64%|██████▎   | 504/793 [08:10<02:36,  1.85it/s]\u001b[A\n",
      " 64%|██████▎   | 505/793 [08:11<02:35,  1.85it/s]\u001b[A\n",
      " 64%|██████▍   | 506/793 [08:11<02:34,  1.85it/s]\u001b[A\n",
      " 64%|██████▍   | 507/793 [08:12<02:32,  1.88it/s]\u001b[A\n",
      " 64%|██████▍   | 508/793 [08:12<02:31,  1.89it/s]\u001b[A\n",
      " 64%|██████▍   | 509/793 [08:13<02:31,  1.87it/s]\u001b[A\n",
      " 64%|██████▍   | 510/793 [08:13<02:30,  1.88it/s]\u001b[A\n",
      " 64%|██████▍   | 511/793 [08:14<02:29,  1.88it/s]\u001b[A\n",
      " 65%|██████▍   | 512/793 [08:14<02:29,  1.88it/s]\u001b[A\n",
      " 65%|██████▍   | 513/793 [08:15<02:29,  1.87it/s]\u001b[A\n",
      " 65%|██████▍   | 514/793 [08:15<02:28,  1.88it/s]\u001b[A\n",
      " 65%|██████▍   | 515/793 [08:16<02:27,  1.88it/s]\u001b[A\n",
      " 65%|██████▌   | 516/793 [08:16<02:27,  1.88it/s]\u001b[A\n",
      " 65%|██████▌   | 517/793 [08:17<02:27,  1.88it/s]\u001b[A\n",
      " 65%|██████▌   | 518/793 [08:18<02:25,  1.89it/s]\u001b[A\n",
      " 65%|██████▌   | 519/793 [08:18<02:28,  1.85it/s]\u001b[A\n",
      " 66%|██████▌   | 520/793 [08:19<02:29,  1.82it/s]\u001b[A\n",
      " 66%|██████▌   | 521/793 [08:19<02:27,  1.85it/s]\u001b[A\n",
      " 66%|██████▌   | 522/793 [08:20<02:30,  1.80it/s]\u001b[A\n",
      " 66%|██████▌   | 523/793 [08:20<02:28,  1.82it/s]\u001b[A\n",
      " 66%|██████▌   | 524/793 [08:21<02:28,  1.81it/s]\u001b[A\n",
      " 66%|██████▌   | 525/793 [08:21<02:25,  1.84it/s]\u001b[A\n",
      " 66%|██████▋   | 526/793 [08:22<02:23,  1.86it/s]\u001b[A\n",
      " 66%|██████▋   | 527/793 [08:22<02:22,  1.87it/s]\u001b[A\n",
      " 67%|██████▋   | 528/793 [08:23<02:21,  1.87it/s]\u001b[A\n",
      " 67%|██████▋   | 529/793 [08:24<02:21,  1.87it/s]\u001b[A\n",
      " 67%|██████▋   | 530/793 [08:24<02:21,  1.86it/s]\u001b[A\n",
      " 67%|██████▋   | 531/793 [08:25<02:20,  1.87it/s]\u001b[A\n",
      " 67%|██████▋   | 532/793 [08:25<02:19,  1.87it/s]\u001b[A\n",
      " 67%|██████▋   | 533/793 [08:26<02:19,  1.86it/s]\u001b[A\n",
      " 67%|██████▋   | 534/793 [08:26<02:17,  1.88it/s]\u001b[A\n",
      " 67%|██████▋   | 535/793 [08:27<02:16,  1.89it/s]\u001b[A\n",
      " 68%|██████▊   | 536/793 [08:27<02:16,  1.89it/s]\u001b[A\n",
      " 68%|██████▊   | 537/793 [08:28<02:14,  1.90it/s]\u001b[A\n",
      " 68%|██████▊   | 538/793 [08:28<02:14,  1.90it/s]\u001b[A\n",
      " 68%|██████▊   | 539/793 [08:29<02:14,  1.88it/s]\u001b[A\n",
      " 68%|██████▊   | 540/793 [08:29<02:14,  1.88it/s]\u001b[A\n",
      " 68%|██████▊   | 541/793 [08:30<02:15,  1.86it/s]\u001b[A\n",
      " 68%|██████▊   | 542/793 [08:30<02:16,  1.84it/s]\u001b[A\n",
      " 68%|██████▊   | 543/793 [08:31<02:18,  1.81it/s]\u001b[A\n",
      " 69%|██████▊   | 544/793 [08:32<02:17,  1.82it/s]\u001b[A\n",
      " 69%|██████▊   | 545/793 [08:32<02:17,  1.80it/s]\u001b[A\n",
      " 69%|██████▉   | 546/793 [08:33<02:15,  1.83it/s]\u001b[A\n",
      " 69%|██████▉   | 547/793 [08:33<02:12,  1.85it/s]\u001b[A\n",
      " 69%|██████▉   | 548/793 [08:34<02:10,  1.87it/s]\u001b[A\n",
      " 69%|██████▉   | 549/793 [08:34<02:09,  1.88it/s]\u001b[A\n",
      " 69%|██████▉   | 550/793 [08:35<02:09,  1.88it/s]\u001b[A\n",
      " 69%|██████▉   | 551/793 [08:35<02:07,  1.89it/s]\u001b[A\n",
      " 70%|██████▉   | 552/793 [08:36<02:09,  1.87it/s]\u001b[A\n",
      " 70%|██████▉   | 553/793 [08:36<02:06,  1.89it/s]\u001b[A\n",
      " 70%|██████▉   | 554/793 [08:37<02:06,  1.90it/s]\u001b[A\n",
      " 70%|██████▉   | 555/793 [08:37<02:04,  1.90it/s]\u001b[A\n",
      " 70%|███████   | 556/793 [08:38<02:04,  1.91it/s]\u001b[A\n",
      " 70%|███████   | 557/793 [08:38<02:05,  1.88it/s]\u001b[A\n",
      " 70%|███████   | 558/793 [08:39<02:04,  1.89it/s]\u001b[A\n",
      " 70%|███████   | 559/793 [08:40<02:03,  1.89it/s]\u001b[A\n",
      " 71%|███████   | 560/793 [08:40<02:03,  1.88it/s]\u001b[A\n",
      " 71%|███████   | 561/793 [08:41<02:06,  1.83it/s]\u001b[A\n",
      " 71%|███████   | 562/793 [08:41<02:04,  1.85it/s]\u001b[A\n",
      " 71%|███████   | 563/793 [08:42<02:03,  1.86it/s]\u001b[A\n",
      " 71%|███████   | 564/793 [08:42<02:03,  1.86it/s]\u001b[A\n",
      " 71%|███████   | 565/793 [08:43<02:02,  1.86it/s]\u001b[A\n",
      " 71%|███████▏  | 566/793 [08:43<02:02,  1.86it/s]\u001b[A\n",
      " 72%|███████▏  | 567/793 [08:44<02:01,  1.86it/s]\u001b[A\n",
      " 72%|███████▏  | 568/793 [08:44<02:00,  1.87it/s]\u001b[A\n",
      " 72%|███████▏  | 569/793 [08:45<01:59,  1.87it/s]\u001b[A\n",
      " 72%|███████▏  | 570/793 [08:45<01:59,  1.87it/s]\u001b[A\n",
      " 72%|███████▏  | 571/793 [08:46<01:58,  1.87it/s]\u001b[A\n",
      " 72%|███████▏  | 572/793 [08:47<01:57,  1.88it/s]\u001b[A\n",
      " 72%|███████▏  | 573/793 [08:47<01:58,  1.86it/s]\u001b[A\n",
      " 72%|███████▏  | 574/793 [08:48<01:58,  1.85it/s]\u001b[A\n",
      " 73%|███████▎  | 575/793 [08:48<01:57,  1.85it/s]\u001b[A\n",
      " 73%|███████▎  | 576/793 [08:49<01:56,  1.85it/s]\u001b[A\n",
      " 73%|███████▎  | 577/793 [08:49<01:56,  1.86it/s]\u001b[A\n",
      " 73%|███████▎  | 578/793 [08:50<01:55,  1.86it/s]\u001b[A\n",
      " 73%|███████▎  | 579/793 [08:50<01:55,  1.85it/s]\u001b[A\n",
      " 73%|███████▎  | 580/793 [08:51<01:55,  1.85it/s]\u001b[A\n",
      " 73%|███████▎  | 581/793 [08:51<01:53,  1.86it/s]\u001b[A\n",
      " 73%|███████▎  | 582/793 [08:52<01:52,  1.88it/s]\u001b[A\n",
      " 74%|███████▎  | 583/793 [08:52<01:52,  1.86it/s]\u001b[A\n",
      " 74%|███████▎  | 584/793 [08:53<01:52,  1.86it/s]\u001b[A\n",
      " 74%|███████▍  | 585/793 [08:54<01:51,  1.87it/s]\u001b[A\n",
      " 74%|███████▍  | 586/793 [08:54<01:50,  1.88it/s]\u001b[A\n",
      " 74%|███████▍  | 587/793 [08:55<01:48,  1.90it/s]\u001b[A\n",
      " 74%|███████▍  | 588/793 [08:55<01:48,  1.90it/s]\u001b[A\n",
      " 74%|███████▍  | 589/793 [08:56<01:49,  1.86it/s]\u001b[A\n",
      " 74%|███████▍  | 590/793 [08:56<01:48,  1.88it/s]\u001b[A\n",
      " 75%|███████▍  | 591/793 [08:57<01:48,  1.87it/s]\u001b[A\n",
      " 75%|███████▍  | 592/793 [08:57<01:49,  1.84it/s]\u001b[A\n",
      " 75%|███████▍  | 593/793 [08:58<01:48,  1.85it/s]\u001b[A\n",
      " 75%|███████▍  | 594/793 [08:58<01:47,  1.86it/s]\u001b[A\n",
      " 75%|███████▌  | 595/793 [08:59<01:49,  1.81it/s]\u001b[A\n",
      " 75%|███████▌  | 596/793 [08:59<01:47,  1.83it/s]\u001b[A\n",
      " 75%|███████▌  | 597/793 [09:00<01:45,  1.85it/s]\u001b[A\n",
      " 75%|███████▌  | 598/793 [09:01<01:45,  1.85it/s]\u001b[A\n",
      " 76%|███████▌  | 599/793 [09:01<01:43,  1.87it/s]\u001b[A\n",
      " 76%|███████▌  | 600/793 [09:02<01:43,  1.86it/s]\u001b[A\n",
      " 76%|███████▌  | 601/793 [09:02<01:41,  1.88it/s]\u001b[A\n",
      " 76%|███████▌  | 602/793 [09:03<01:41,  1.89it/s]\u001b[A\n",
      " 76%|███████▌  | 603/793 [09:03<01:39,  1.90it/s]\u001b[A\n",
      " 76%|███████▌  | 604/793 [09:04<01:39,  1.90it/s]\u001b[A\n",
      " 76%|███████▋  | 605/793 [09:04<01:38,  1.91it/s]\u001b[A\n",
      " 76%|███████▋  | 606/793 [09:05<01:38,  1.91it/s]\u001b[A\n",
      " 77%|███████▋  | 607/793 [09:05<01:38,  1.90it/s]\u001b[A\n",
      " 77%|███████▋  | 608/793 [09:06<01:39,  1.86it/s]\u001b[A\n",
      " 77%|███████▋  | 609/793 [09:06<01:39,  1.85it/s]\u001b[A\n",
      " 77%|███████▋  | 610/793 [09:07<01:38,  1.86it/s]\u001b[A\n",
      " 77%|███████▋  | 611/793 [09:07<01:36,  1.89it/s]\u001b[A\n",
      " 77%|███████▋  | 612/793 [09:08<01:35,  1.89it/s]\u001b[A\n",
      " 77%|███████▋  | 613/793 [09:08<01:34,  1.90it/s]\u001b[A\n",
      " 77%|███████▋  | 614/793 [09:09<01:34,  1.89it/s]\u001b[A\n",
      " 78%|███████▊  | 615/793 [09:10<01:34,  1.89it/s]\u001b[A\n",
      " 78%|███████▊  | 616/793 [09:10<01:34,  1.87it/s]\u001b[A\n",
      " 78%|███████▊  | 617/793 [09:11<01:34,  1.87it/s]\u001b[A\n"
     ]
    },
    {
     "name": "stderr",
     "output_type": "stream",
     "text": [
      " 78%|███████▊  | 618/793 [09:11<01:33,  1.88it/s]\u001b[A\n",
      " 78%|███████▊  | 619/793 [09:12<01:33,  1.87it/s]\u001b[A\n",
      " 78%|███████▊  | 620/793 [09:12<01:32,  1.87it/s]\u001b[A\n",
      " 78%|███████▊  | 621/793 [09:13<01:31,  1.88it/s]\u001b[A\n",
      " 78%|███████▊  | 622/793 [09:13<01:30,  1.89it/s]\u001b[A\n",
      " 79%|███████▊  | 623/793 [09:14<01:30,  1.88it/s]\u001b[A\n",
      " 79%|███████▊  | 624/793 [09:14<01:29,  1.88it/s]\u001b[A\n",
      " 79%|███████▉  | 625/793 [09:15<01:29,  1.87it/s]\u001b[A\n",
      " 79%|███████▉  | 626/793 [09:16<01:36,  1.73it/s]\u001b[A\n",
      " 79%|███████▉  | 627/793 [09:16<01:36,  1.72it/s]\u001b[A\n",
      " 79%|███████▉  | 628/793 [09:17<01:33,  1.77it/s]\u001b[A\n",
      " 79%|███████▉  | 629/793 [09:17<01:30,  1.82it/s]\u001b[A\n",
      " 79%|███████▉  | 630/793 [09:18<01:28,  1.84it/s]\u001b[A\n",
      " 80%|███████▉  | 631/793 [09:18<01:26,  1.86it/s]\u001b[A\n",
      " 80%|███████▉  | 632/793 [09:19<01:26,  1.86it/s]\u001b[A\n",
      " 80%|███████▉  | 633/793 [09:19<01:25,  1.87it/s]\u001b[A\n",
      " 80%|███████▉  | 634/793 [09:20<01:25,  1.86it/s]\u001b[A\n",
      " 80%|████████  | 635/793 [09:20<01:27,  1.82it/s]\u001b[A\n",
      " 80%|████████  | 636/793 [09:21<01:32,  1.70it/s]\u001b[A\n",
      " 80%|████████  | 637/793 [09:22<01:28,  1.76it/s]\u001b[A\n",
      " 80%|████████  | 638/793 [09:22<01:28,  1.76it/s]\u001b[A\n",
      " 81%|████████  | 639/793 [09:23<01:25,  1.80it/s]\u001b[A\n",
      " 81%|████████  | 640/793 [09:23<01:24,  1.82it/s]\u001b[A\n",
      " 81%|████████  | 641/793 [09:24<01:23,  1.83it/s]\u001b[A\n",
      " 81%|████████  | 642/793 [09:24<01:21,  1.85it/s]\u001b[A\n",
      " 81%|████████  | 643/793 [09:25<01:20,  1.87it/s]\u001b[A\n",
      " 81%|████████  | 644/793 [09:25<01:18,  1.89it/s]\u001b[A\n",
      " 81%|████████▏ | 645/793 [09:26<01:20,  1.84it/s]\u001b[A\n",
      " 81%|████████▏ | 646/793 [09:26<01:18,  1.86it/s]\u001b[A\n",
      " 82%|████████▏ | 647/793 [09:27<01:17,  1.88it/s]\u001b[A\n",
      " 82%|████████▏ | 648/793 [09:28<01:17,  1.87it/s]\u001b[A\n",
      " 82%|████████▏ | 649/793 [09:28<01:16,  1.89it/s]\u001b[A\n",
      " 82%|████████▏ | 650/793 [09:29<01:15,  1.89it/s]\u001b[A\n",
      " 82%|████████▏ | 651/793 [09:29<01:14,  1.90it/s]\u001b[A\n",
      " 82%|████████▏ | 652/793 [09:30<01:14,  1.90it/s]\u001b[A\n",
      " 82%|████████▏ | 653/793 [09:30<01:13,  1.90it/s]\u001b[A\n",
      " 82%|████████▏ | 654/793 [09:31<01:14,  1.88it/s]\u001b[A\n",
      " 83%|████████▎ | 655/793 [09:31<01:13,  1.88it/s]\u001b[A\n",
      " 83%|████████▎ | 656/793 [09:32<01:13,  1.85it/s]\u001b[A\n",
      " 83%|████████▎ | 657/793 [09:32<01:14,  1.83it/s]\u001b[A\n",
      " 83%|████████▎ | 658/793 [09:33<01:12,  1.85it/s]\u001b[A\n",
      " 83%|████████▎ | 659/793 [09:33<01:11,  1.87it/s]\u001b[A\n",
      " 83%|████████▎ | 660/793 [09:34<01:12,  1.84it/s]\u001b[A\n",
      " 83%|████████▎ | 661/793 [09:34<01:10,  1.86it/s]\u001b[A\n",
      " 83%|████████▎ | 662/793 [09:35<01:10,  1.87it/s]\u001b[A\n",
      " 84%|████████▎ | 663/793 [09:36<01:10,  1.85it/s]\u001b[A\n",
      " 84%|████████▎ | 664/793 [09:36<01:09,  1.85it/s]\u001b[A\n",
      " 84%|████████▍ | 665/793 [09:37<01:08,  1.87it/s]\u001b[A\n",
      " 84%|████████▍ | 666/793 [09:37<01:08,  1.86it/s]\u001b[A\n",
      " 84%|████████▍ | 667/793 [09:38<01:07,  1.88it/s]\u001b[A\n",
      " 84%|████████▍ | 668/793 [09:38<01:06,  1.89it/s]\u001b[A\n",
      " 84%|████████▍ | 669/793 [09:39<01:05,  1.90it/s]\u001b[A\n",
      " 84%|████████▍ | 670/793 [09:39<01:04,  1.90it/s]\u001b[A\n",
      " 85%|████████▍ | 671/793 [09:40<01:04,  1.89it/s]\u001b[A\n",
      " 85%|████████▍ | 672/793 [09:40<01:04,  1.89it/s]\u001b[A\n",
      " 85%|████████▍ | 673/793 [09:41<01:05,  1.84it/s]\u001b[A\n",
      " 85%|████████▍ | 674/793 [09:41<01:04,  1.85it/s]\u001b[A\n",
      " 85%|████████▌ | 675/793 [09:42<01:03,  1.87it/s]\u001b[A\n",
      " 85%|████████▌ | 676/793 [09:42<01:02,  1.89it/s]\u001b[A\n",
      " 85%|████████▌ | 677/793 [09:43<01:01,  1.90it/s]\u001b[A\n",
      " 85%|████████▌ | 678/793 [09:44<01:00,  1.89it/s]\u001b[A\n",
      " 86%|████████▌ | 679/793 [09:44<01:00,  1.90it/s]\u001b[A\n",
      " 86%|████████▌ | 680/793 [09:45<00:59,  1.89it/s]\u001b[A\n",
      " 86%|████████▌ | 681/793 [09:45<00:58,  1.90it/s]\u001b[A\n",
      " 86%|████████▌ | 682/793 [09:46<00:59,  1.87it/s]\u001b[A\n",
      " 86%|████████▌ | 683/793 [09:46<00:58,  1.87it/s]\u001b[A\n",
      " 86%|████████▋ | 684/793 [09:47<00:58,  1.87it/s]\u001b[A\n",
      " 86%|████████▋ | 685/793 [09:47<00:57,  1.87it/s]\u001b[A\n",
      " 87%|████████▋ | 686/793 [09:48<00:56,  1.88it/s]\u001b[A\n",
      " 87%|████████▋ | 687/793 [09:48<00:56,  1.88it/s]\u001b[A\n",
      " 87%|████████▋ | 688/793 [09:49<00:56,  1.87it/s]\u001b[A\n",
      " 87%|████████▋ | 689/793 [09:49<00:55,  1.87it/s]\u001b[A\n",
      " 87%|████████▋ | 690/793 [09:50<00:57,  1.79it/s]\u001b[A\n",
      " 87%|████████▋ | 691/793 [09:51<00:56,  1.81it/s]\u001b[A\n",
      " 87%|████████▋ | 692/793 [09:51<00:55,  1.84it/s]\u001b[A\n",
      " 87%|████████▋ | 693/793 [09:52<00:53,  1.85it/s]\u001b[A\n",
      " 88%|████████▊ | 694/793 [09:52<00:52,  1.87it/s]\u001b[A\n",
      " 88%|████████▊ | 695/793 [09:53<00:51,  1.89it/s]\u001b[A\n",
      " 88%|████████▊ | 696/793 [09:53<00:51,  1.89it/s]\u001b[A\n",
      " 88%|████████▊ | 697/793 [09:54<00:50,  1.89it/s]\u001b[A\n",
      " 88%|████████▊ | 698/793 [09:54<00:50,  1.89it/s]\u001b[A\n",
      " 88%|████████▊ | 699/793 [09:55<00:51,  1.81it/s]\u001b[A\n",
      " 88%|████████▊ | 700/793 [09:55<00:50,  1.83it/s]\u001b[A\n",
      " 88%|████████▊ | 701/793 [09:56<00:50,  1.82it/s]\u001b[A\n",
      " 89%|████████▊ | 702/793 [09:56<00:49,  1.85it/s]\u001b[A\n",
      " 89%|████████▊ | 703/793 [09:57<00:48,  1.86it/s]\u001b[A\n",
      " 89%|████████▉ | 704/793 [09:57<00:47,  1.86it/s]\u001b[A\n",
      " 89%|████████▉ | 705/793 [09:58<00:47,  1.85it/s]\u001b[A\n",
      " 89%|████████▉ | 706/793 [09:59<00:46,  1.86it/s]\u001b[A\n",
      " 89%|████████▉ | 707/793 [09:59<00:45,  1.88it/s]\u001b[A\n",
      " 89%|████████▉ | 708/793 [10:00<00:47,  1.80it/s]\u001b[A\n",
      " 89%|████████▉ | 709/793 [10:00<00:45,  1.84it/s]\u001b[A\n",
      " 90%|████████▉ | 710/793 [10:01<00:45,  1.81it/s]\u001b[A\n",
      " 90%|████████▉ | 711/793 [10:01<00:44,  1.84it/s]\u001b[A\n",
      " 90%|████████▉ | 712/793 [10:02<00:43,  1.85it/s]\u001b[A\n",
      " 90%|████████▉ | 713/793 [10:02<00:43,  1.84it/s]\u001b[A\n",
      " 90%|█████████ | 714/793 [10:03<00:42,  1.84it/s]\u001b[A\n",
      " 90%|█████████ | 715/793 [10:03<00:41,  1.86it/s]\u001b[A\n",
      " 90%|█████████ | 716/793 [10:04<00:40,  1.89it/s]\u001b[A\n",
      " 90%|█████████ | 717/793 [10:04<00:40,  1.89it/s]\u001b[A\n",
      " 91%|█████████ | 718/793 [10:05<00:39,  1.89it/s]\u001b[A\n",
      " 91%|█████████ | 719/793 [10:06<00:39,  1.88it/s]\u001b[A\n",
      " 91%|█████████ | 720/793 [10:06<00:38,  1.88it/s]\u001b[A\n",
      " 91%|█████████ | 721/793 [10:07<00:38,  1.87it/s]\u001b[A\n",
      " 91%|█████████ | 722/793 [10:07<00:37,  1.88it/s]\u001b[A\n",
      " 91%|█████████ | 723/793 [10:08<00:37,  1.89it/s]\u001b[A\n",
      " 91%|█████████▏| 724/793 [10:08<00:36,  1.88it/s]\u001b[A\n",
      " 91%|█████████▏| 725/793 [10:09<00:36,  1.88it/s]\u001b[A\n",
      " 92%|█████████▏| 726/793 [10:09<00:35,  1.89it/s]\u001b[A\n",
      " 92%|█████████▏| 727/793 [10:10<00:35,  1.88it/s]\u001b[A\n",
      " 92%|█████████▏| 728/793 [10:10<00:34,  1.88it/s]\u001b[A\n",
      " 92%|█████████▏| 729/793 [10:11<00:34,  1.86it/s]\u001b[A\n",
      " 92%|█████████▏| 730/793 [10:11<00:34,  1.83it/s]\u001b[A\n",
      " 92%|█████████▏| 731/793 [10:12<00:33,  1.85it/s]\u001b[A\n",
      " 92%|█████████▏| 732/793 [10:13<00:32,  1.87it/s]\u001b[A\n",
      " 92%|█████████▏| 733/793 [10:13<00:32,  1.87it/s]\u001b[A\n",
      " 93%|█████████▎| 734/793 [10:14<00:31,  1.85it/s]\u001b[A\n",
      " 93%|█████████▎| 735/793 [10:14<00:31,  1.85it/s]\u001b[A\n",
      " 93%|█████████▎| 736/793 [10:15<00:31,  1.83it/s]\u001b[A\n",
      " 93%|█████████▎| 737/793 [10:15<00:30,  1.83it/s]\u001b[A\n",
      " 93%|█████████▎| 738/793 [10:16<00:30,  1.83it/s]\u001b[A\n",
      " 93%|█████████▎| 739/793 [10:16<00:29,  1.85it/s]\u001b[A\n",
      " 93%|█████████▎| 740/793 [10:17<00:28,  1.87it/s]\u001b[A\n",
      " 93%|█████████▎| 741/793 [10:17<00:27,  1.87it/s]\u001b[A\n",
      " 94%|█████████▎| 742/793 [10:18<00:27,  1.87it/s]\u001b[A\n",
      " 94%|█████████▎| 743/793 [10:18<00:26,  1.89it/s]\u001b[A\n",
      " 94%|█████████▍| 744/793 [10:19<00:26,  1.88it/s]\u001b[A\n",
      " 94%|█████████▍| 745/793 [10:19<00:25,  1.89it/s]\u001b[A\n",
      " 94%|█████████▍| 746/793 [10:20<00:24,  1.89it/s]\u001b[A\n",
      " 94%|█████████▍| 747/793 [10:21<00:24,  1.84it/s]\u001b[A\n",
      " 94%|█████████▍| 748/793 [10:21<00:24,  1.86it/s]\u001b[A\n",
      " 94%|█████████▍| 749/793 [10:22<00:23,  1.87it/s]\u001b[A\n",
      " 95%|█████████▍| 750/793 [10:22<00:22,  1.87it/s]\u001b[A\n",
      " 95%|█████████▍| 751/793 [10:23<00:22,  1.86it/s]\u001b[A\n",
      " 95%|█████████▍| 752/793 [10:23<00:22,  1.86it/s]\u001b[A\n",
      " 95%|█████████▍| 753/793 [10:24<00:21,  1.86it/s]\u001b[A\n",
      " 95%|█████████▌| 754/793 [10:24<00:20,  1.87it/s]\u001b[A\n",
      " 95%|█████████▌| 755/793 [10:25<00:20,  1.85it/s]\u001b[A\n",
      " 95%|█████████▌| 756/793 [10:25<00:19,  1.87it/s]\u001b[A\n",
      " 95%|█████████▌| 757/793 [10:26<00:19,  1.86it/s]\u001b[A\n",
      " 96%|█████████▌| 758/793 [10:26<00:18,  1.86it/s]\u001b[A\n",
      " 96%|█████████▌| 759/793 [10:27<00:18,  1.88it/s]\u001b[A\n",
      " 96%|█████████▌| 760/793 [10:28<00:17,  1.85it/s]\u001b[A\n",
      " 96%|█████████▌| 761/793 [10:28<00:17,  1.88it/s]\u001b[A\n",
      " 96%|█████████▌| 762/793 [10:29<00:16,  1.88it/s]\u001b[A\n",
      " 96%|█████████▌| 763/793 [10:29<00:15,  1.89it/s]\u001b[A\n",
      " 96%|█████████▋| 764/793 [10:30<00:15,  1.90it/s]\u001b[A\n",
      " 96%|█████████▋| 765/793 [10:30<00:14,  1.89it/s]\u001b[A\n",
      " 97%|█████████▋| 766/793 [10:31<00:14,  1.88it/s]\u001b[A\n",
      " 97%|█████████▋| 767/793 [10:31<00:13,  1.89it/s]\u001b[A\n",
      " 97%|█████████▋| 768/793 [10:32<00:13,  1.89it/s]\u001b[A\n",
      " 97%|█████████▋| 769/793 [10:32<00:12,  1.88it/s]\u001b[A\n",
      " 97%|█████████▋| 770/793 [10:33<00:12,  1.88it/s]\u001b[A\n",
      " 97%|█████████▋| 771/793 [10:33<00:11,  1.89it/s]\u001b[A\n"
     ]
    },
    {
     "name": "stderr",
     "output_type": "stream",
     "text": [
      " 97%|█████████▋| 772/793 [10:34<00:11,  1.90it/s]\u001b[A\n",
      " 97%|█████████▋| 773/793 [10:34<00:10,  1.89it/s]\u001b[A\n",
      " 98%|█████████▊| 774/793 [10:35<00:10,  1.89it/s]\u001b[A\n",
      " 98%|█████████▊| 775/793 [10:35<00:09,  1.90it/s]\u001b[A\n",
      " 98%|█████████▊| 776/793 [10:36<00:09,  1.87it/s]\u001b[A\n",
      " 98%|█████████▊| 777/793 [10:37<00:08,  1.88it/s]\u001b[A\n",
      " 98%|█████████▊| 778/793 [10:37<00:07,  1.88it/s]\u001b[A\n",
      " 98%|█████████▊| 779/793 [10:38<00:07,  1.89it/s]\u001b[A\n",
      " 98%|█████████▊| 780/793 [10:38<00:06,  1.90it/s]\u001b[A\n",
      " 98%|█████████▊| 781/793 [10:39<00:06,  1.86it/s]\u001b[A\n",
      " 99%|█████████▊| 782/793 [10:39<00:05,  1.87it/s]\u001b[A\n",
      " 99%|█████████▊| 783/793 [10:40<00:05,  1.86it/s]\u001b[A\n",
      " 99%|█████████▉| 784/793 [10:40<00:04,  1.85it/s]\u001b[A\n",
      " 99%|█████████▉| 785/793 [10:41<00:04,  1.82it/s]\u001b[A\n",
      " 99%|█████████▉| 786/793 [10:41<00:03,  1.84it/s]\u001b[A\n",
      " 99%|█████████▉| 787/793 [10:42<00:03,  1.84it/s]\u001b[A\n",
      " 99%|█████████▉| 788/793 [10:43<00:02,  1.84it/s]\u001b[A\n",
      " 99%|█████████▉| 789/793 [10:43<00:02,  1.85it/s]\u001b[A\n",
      "100%|█████████▉| 790/793 [10:44<00:01,  1.87it/s]\u001b[A\n",
      "100%|█████████▉| 791/793 [10:44<00:01,  1.89it/s]\u001b[A\n",
      "100%|█████████▉| 792/793 [10:45<00:00,  1.87it/s]\u001b[A\n",
      "100%|██████████| 793/793 [10:45<00:00,  1.88it/s]\u001b[A\n",
      "\u001b[A"
     ]
    },
    {
     "data": {
      "text/plain": [
       "1313184"
      ]
     },
     "execution_count": 35,
     "metadata": {},
     "output_type": "execute_result"
    }
   ],
   "source": [
    "#query?service=aeolus&meta=drugpairReactionCounts&q=0\n",
    "data = nsides_api('aeolus', 'drugpairReactionCounts', {'q':0})\n",
    "\n",
    "aeolus_drugpairReactionCounts = dict()\n",
    "aeolus_drugpairReactionCounts['results'] = list()\n",
    "\n",
    "for start in tqdm(range(0, data[0]['nrows'][0], 10000)):    \n",
    "    aeolus_drugpairReactionCounts['results'].extend(data[0]['results'])    \n",
    "    start = len(aeolus_drugpairReactionCounts['results'])\n",
    "    data = nsides_api('aeolus', 'drugpairReactionCounts', {'q': start})\n",
    "\n",
    "len(aeolus_drugpairReactionCounts['results'])"
   ]
  },
  {
   "cell_type": "code",
   "execution_count": 36,
   "metadata": {},
   "outputs": [
    {
     "data": {
      "text/plain": [
       "{u'drug1_concept_id': 19111620,\n",
       " u'drug2_concept_id': 19122121,\n",
       " u'n_d1d2': 722,\n",
       " u'n_d1d2ae': 38,\n",
       " u'outcome_concept_id': 37622529}"
      ]
     },
     "execution_count": 36,
     "metadata": {},
     "output_type": "execute_result"
    }
   ],
   "source": [
    "aeolus_drugpairReactionCounts['results'][0]"
   ]
  },
  {
   "cell_type": "code",
   "execution_count": 37,
   "metadata": {
    "collapsed": true
   },
   "outputs": [],
   "source": [
    "# build the frequency table for drugpairs\n",
    "def make_lsd_testing_table():\n",
    "    ae_frequencies_ddi_testing = np.zeros((len(all_drugpairs),len(all_pairoutcomes)))\n",
    "    \n",
    "    for r in tqdm(aeolus_drugpairReactionCounts['results']):\n",
    "        \n",
    "        drugpair = (r['drug1_concept_id'],r['drug2_concept_id'])\n",
    "        if r['outcome_concept_id'] in all_pairoutcomes:\n",
    "            x_index = all_drugpairs.index(drugpair)\n",
    "            y_index = all_pairoutcomes.index(r['outcome_concept_id'])\n",
    "            \n",
    "            frequency = float(r['n_d1d2ae'])/float(r['n_d1d2'])\n",
    "            \n",
    "            ae_frequencies_ddi_testing[x_index,y_index] = frequency    \n",
    "                \n",
    "    return ae_frequencies_ddi_testing"
   ]
  },
  {
   "cell_type": "code",
   "execution_count": 38,
   "metadata": {},
   "outputs": [
    {
     "name": "stderr",
     "output_type": "stream",
     "text": [
      "100%|██████████| 1313184/1313184 [18:39<00:00, 1173.53it/s]\n"
     ]
    }
   ],
   "source": [
    "X_test = make_lsd_testing_table()"
   ]
  },
  {
   "cell_type": "code",
   "execution_count": 39,
   "metadata": {},
   "outputs": [
    {
     "name": "stdout",
     "output_type": "stream",
     "text": [
      "(528, 199)\n",
      "(39800, 199)\n",
      "(528,)\n",
      "28\n"
     ]
    },
    {
     "data": {
      "text/plain": [
       "(72613.835694147696, 0.009168182077996476)"
      ]
     },
     "execution_count": 39,
     "metadata": {},
     "output_type": "execute_result"
    }
   ],
   "source": [
    "print X.shape #Dimension of the ae frequencies training table\n",
    "print X_test.shape #Dimension of the ae frequencies ddi testing table\n",
    "print y.shape #Number of outcomes (positive + negative controls)\n",
    "\n",
    "#print len(aeolus_drugpairReactionCounts['results'])\n",
    "\n",
    "print np.sum(y)\n",
    "\n",
    "X_test.sum(), X_test.mean()"
   ]
  },
  {
   "cell_type": "markdown",
   "metadata": {},
   "source": [
    "## Features reduction (to avoid overfitting)"
   ]
  },
  {
   "cell_type": "code",
   "execution_count": 29,
   "metadata": {
    "collapsed": true
   },
   "outputs": [],
   "source": [
    "#Need to reduce the number of features: 199 features is too much compared to 'only' 272 examples (i.e pos+neg controls)\n",
    "#Method: L1 (lasso) regularization + 10 fold cross-validation"
   ]
  },
  {
   "cell_type": "code",
   "execution_count": 40,
   "metadata": {
    "collapsed": true
   },
   "outputs": [],
   "source": [
    "# Features reduction using L1 regularization + 10-folds cross-validation\n",
    "\n",
    "def l1_regression(X, y, alpha, predictions):\n",
    "    l1 = Lasso(alpha=alpha,fit_intercept=True, max_iter=100000, tol=0.0001)\n",
    "    l1.fit(X,y)\n",
    "    y_pred = l1.predict(X)\n",
    "    coef = l1.coef_\n",
    "    \n",
    "    auc_score = roc_auc_score(y, y_pred)\n",
    "    print 'auc score: %f' %auc_score\n",
    "    predictions.append([(pred, label) for label,pred in zip(y, y_pred)])\n",
    "    \n",
    "    nb_coef = 0\n",
    "    for i in range (0, len(coef)):\n",
    "        if coef[i] != 0.:\n",
    "            nb_coef+=1\n",
    "    print \"Number of coef with alpha = %f: %d\" %(alpha,nb_coef)\n",
    "    #print \"l1 intercept: %f \" %l1.intercept_\n",
    "    return coef, auc_score   "
   ]
  },
  {
   "cell_type": "code",
   "execution_count": 41,
   "metadata": {},
   "outputs": [
    {
     "name": "stdout",
     "output_type": "stream",
     "text": [
      "auc score: 0.959286\n",
      "Number of coef with alpha = 0.000020: 37\n",
      "auc score: 0.939500\n",
      "Number of coef with alpha = 0.000030: 23\n",
      "auc score: 0.926500\n",
      "Number of coef with alpha = 0.000040: 16\n",
      "auc score: 0.917429\n",
      "Number of coef with alpha = 0.000060: 9\n",
      "auc score: 0.916857\n",
      "Number of coef with alpha = 0.000070: 9\n",
      "auc score: 0.916286\n",
      "Number of coef with alpha = 0.000080: 9\n",
      "auc score: 0.914786\n",
      "Number of coef with alpha = 0.000090: 9\n",
      "auc score: 0.913429\n",
      "Number of coef with alpha = 0.000100: 9\n",
      "auc score: 0.875357\n",
      "Number of coef with alpha = 0.000200: 3\n",
      "auc score: 0.500000\n",
      "Number of coef with alpha = 0.000300: 0\n",
      "auc score: 0.500000\n",
      "Number of coef with alpha = 0.000400: 0\n",
      "auc score: 0.500000\n",
      "Number of coef with alpha = 0.000600: 0\n",
      "auc score: 0.500000\n",
      "Number of coef with alpha = 0.000700: 0\n"
     ]
    }
   ],
   "source": [
    "# We build 6 different potential fingerprint (with a different number of features each time)\n",
    "alphas = [0.00002, 0.00003, 0.00004, 0.00006, 0.00007, 0.00008, 0.00009, 1e-4, 0.0002, 0.0003, 0.0004, 0.0006, 0.0007]\n",
    "\n",
    "coef_lasso= np.zeros((len(alphas),len(all_pairoutcomes)))\n",
    "predictions = list()\n",
    "\n",
    "for i in range (0, len(alphas)):\n",
    "    coef, auc_score = l1_regression(X, y, alphas[i], predictions)\n",
    "    for j in range(0,len(all_pairoutcomes)):\n",
    "        coef_lasso[i][j] = coef[j] "
   ]
  },
  {
   "cell_type": "code",
   "execution_count": 42,
   "metadata": {},
   "outputs": [
    {
     "name": "stdout",
     "output_type": "stream",
     "text": [
      "28\n",
      "528\n"
     ]
    },
    {
     "ename": "ValueError",
     "evalue": "Only one class present in y_true. ROC AUC score is not defined in that case.",
     "output_type": "error",
     "traceback": [
      "\u001b[0;31m---------------------------------------------------------------------------\u001b[0m",
      "\u001b[0;31mValueError\u001b[0m                                Traceback (most recent call last)",
      "\u001b[0;32m<ipython-input-42-308342972726>\u001b[0m in \u001b[0;36m<module>\u001b[0;34m()\u001b[0m\n\u001b[1;32m     10\u001b[0m     \u001b[0;32mprint\u001b[0m \u001b[0mlen\u001b[0m\u001b[0;34m(\u001b[0m\u001b[0my\u001b[0m\u001b[0;34m)\u001b[0m\u001b[0;34m\u001b[0m\u001b[0m\n\u001b[1;32m     11\u001b[0m     \u001b[0mcv\u001b[0m \u001b[0;34m=\u001b[0m \u001b[0mShuffleSplit\u001b[0m\u001b[0;34m(\u001b[0m\u001b[0mn_splits\u001b[0m\u001b[0;34m=\u001b[0m\u001b[0mn_folds\u001b[0m\u001b[0;34m)\u001b[0m\u001b[0;34m\u001b[0m\u001b[0m\n\u001b[0;32m---> 12\u001b[0;31m     \u001b[0mthis_scores\u001b[0m \u001b[0;34m=\u001b[0m \u001b[0mcross_val_score\u001b[0m\u001b[0;34m(\u001b[0m\u001b[0mlasso_fit\u001b[0m\u001b[0;34m,\u001b[0m \u001b[0mX\u001b[0m\u001b[0;34m,\u001b[0m \u001b[0my\u001b[0m\u001b[0;34m,\u001b[0m \u001b[0mscoring\u001b[0m\u001b[0;34m=\u001b[0m\u001b[0;34m'roc_auc'\u001b[0m\u001b[0;34m,\u001b[0m \u001b[0mcv\u001b[0m\u001b[0;34m=\u001b[0m\u001b[0mcv\u001b[0m\u001b[0;34m,\u001b[0m \u001b[0mn_jobs\u001b[0m\u001b[0;34m=\u001b[0m\u001b[0;36m1\u001b[0m\u001b[0;34m)\u001b[0m\u001b[0;34m\u001b[0m\u001b[0m\n\u001b[0m\u001b[1;32m     13\u001b[0m     \u001b[0;32mprint\u001b[0m \u001b[0mthis_scores\u001b[0m\u001b[0;34m\u001b[0m\u001b[0m\n\u001b[1;32m     14\u001b[0m     \u001b[0mscores\u001b[0m\u001b[0;34m.\u001b[0m\u001b[0mappend\u001b[0m\u001b[0;34m(\u001b[0m\u001b[0mnp\u001b[0m\u001b[0;34m.\u001b[0m\u001b[0mmean\u001b[0m\u001b[0;34m(\u001b[0m\u001b[0mthis_scores\u001b[0m\u001b[0;34m)\u001b[0m\u001b[0;34m)\u001b[0m\u001b[0;34m\u001b[0m\u001b[0m\n",
      "\u001b[0;32m/usr/local/lib/python2.7/dist-packages/sklearn/model_selection/_validation.pyc\u001b[0m in \u001b[0;36mcross_val_score\u001b[0;34m(estimator, X, y, groups, scoring, cv, n_jobs, verbose, fit_params, pre_dispatch)\u001b[0m\n\u001b[1;32m    138\u001b[0m                                               \u001b[0mtrain\u001b[0m\u001b[0;34m,\u001b[0m \u001b[0mtest\u001b[0m\u001b[0;34m,\u001b[0m \u001b[0mverbose\u001b[0m\u001b[0;34m,\u001b[0m \u001b[0mNone\u001b[0m\u001b[0;34m,\u001b[0m\u001b[0;34m\u001b[0m\u001b[0m\n\u001b[1;32m    139\u001b[0m                                               fit_params)\n\u001b[0;32m--> 140\u001b[0;31m                       for train, test in cv_iter)\n\u001b[0m\u001b[1;32m    141\u001b[0m     \u001b[0;32mreturn\u001b[0m \u001b[0mnp\u001b[0m\u001b[0;34m.\u001b[0m\u001b[0marray\u001b[0m\u001b[0;34m(\u001b[0m\u001b[0mscores\u001b[0m\u001b[0;34m)\u001b[0m\u001b[0;34m[\u001b[0m\u001b[0;34m:\u001b[0m\u001b[0;34m,\u001b[0m \u001b[0;36m0\u001b[0m\u001b[0;34m]\u001b[0m\u001b[0;34m\u001b[0m\u001b[0m\n\u001b[1;32m    142\u001b[0m \u001b[0;34m\u001b[0m\u001b[0m\n",
      "\u001b[0;32m/usr/local/lib/python2.7/dist-packages/sklearn/externals/joblib/parallel.pyc\u001b[0m in \u001b[0;36m__call__\u001b[0;34m(self, iterable)\u001b[0m\n\u001b[1;32m    756\u001b[0m             \u001b[0;31m# was dispatched. In particular this covers the edge\u001b[0m\u001b[0;34m\u001b[0m\u001b[0;34m\u001b[0m\u001b[0m\n\u001b[1;32m    757\u001b[0m             \u001b[0;31m# case of Parallel used with an exhausted iterator.\u001b[0m\u001b[0;34m\u001b[0m\u001b[0;34m\u001b[0m\u001b[0m\n\u001b[0;32m--> 758\u001b[0;31m             \u001b[0;32mwhile\u001b[0m \u001b[0mself\u001b[0m\u001b[0;34m.\u001b[0m\u001b[0mdispatch_one_batch\u001b[0m\u001b[0;34m(\u001b[0m\u001b[0miterator\u001b[0m\u001b[0;34m)\u001b[0m\u001b[0;34m:\u001b[0m\u001b[0;34m\u001b[0m\u001b[0m\n\u001b[0m\u001b[1;32m    759\u001b[0m                 \u001b[0mself\u001b[0m\u001b[0;34m.\u001b[0m\u001b[0m_iterating\u001b[0m \u001b[0;34m=\u001b[0m \u001b[0mTrue\u001b[0m\u001b[0;34m\u001b[0m\u001b[0m\n\u001b[1;32m    760\u001b[0m             \u001b[0;32melse\u001b[0m\u001b[0;34m:\u001b[0m\u001b[0;34m\u001b[0m\u001b[0m\n",
      "\u001b[0;32m/usr/local/lib/python2.7/dist-packages/sklearn/externals/joblib/parallel.pyc\u001b[0m in \u001b[0;36mdispatch_one_batch\u001b[0;34m(self, iterator)\u001b[0m\n\u001b[1;32m    606\u001b[0m                 \u001b[0;32mreturn\u001b[0m \u001b[0mFalse\u001b[0m\u001b[0;34m\u001b[0m\u001b[0m\n\u001b[1;32m    607\u001b[0m             \u001b[0;32melse\u001b[0m\u001b[0;34m:\u001b[0m\u001b[0;34m\u001b[0m\u001b[0m\n\u001b[0;32m--> 608\u001b[0;31m                 \u001b[0mself\u001b[0m\u001b[0;34m.\u001b[0m\u001b[0m_dispatch\u001b[0m\u001b[0;34m(\u001b[0m\u001b[0mtasks\u001b[0m\u001b[0;34m)\u001b[0m\u001b[0;34m\u001b[0m\u001b[0m\n\u001b[0m\u001b[1;32m    609\u001b[0m                 \u001b[0;32mreturn\u001b[0m \u001b[0mTrue\u001b[0m\u001b[0;34m\u001b[0m\u001b[0m\n\u001b[1;32m    610\u001b[0m \u001b[0;34m\u001b[0m\u001b[0m\n",
      "\u001b[0;32m/usr/local/lib/python2.7/dist-packages/sklearn/externals/joblib/parallel.pyc\u001b[0m in \u001b[0;36m_dispatch\u001b[0;34m(self, batch)\u001b[0m\n\u001b[1;32m    569\u001b[0m         \u001b[0mdispatch_timestamp\u001b[0m \u001b[0;34m=\u001b[0m \u001b[0mtime\u001b[0m\u001b[0;34m.\u001b[0m\u001b[0mtime\u001b[0m\u001b[0;34m(\u001b[0m\u001b[0;34m)\u001b[0m\u001b[0;34m\u001b[0m\u001b[0m\n\u001b[1;32m    570\u001b[0m         \u001b[0mcb\u001b[0m \u001b[0;34m=\u001b[0m \u001b[0mBatchCompletionCallBack\u001b[0m\u001b[0;34m(\u001b[0m\u001b[0mdispatch_timestamp\u001b[0m\u001b[0;34m,\u001b[0m \u001b[0mlen\u001b[0m\u001b[0;34m(\u001b[0m\u001b[0mbatch\u001b[0m\u001b[0;34m)\u001b[0m\u001b[0;34m,\u001b[0m \u001b[0mself\u001b[0m\u001b[0;34m)\u001b[0m\u001b[0;34m\u001b[0m\u001b[0m\n\u001b[0;32m--> 571\u001b[0;31m         \u001b[0mjob\u001b[0m \u001b[0;34m=\u001b[0m \u001b[0mself\u001b[0m\u001b[0;34m.\u001b[0m\u001b[0m_backend\u001b[0m\u001b[0;34m.\u001b[0m\u001b[0mapply_async\u001b[0m\u001b[0;34m(\u001b[0m\u001b[0mbatch\u001b[0m\u001b[0;34m,\u001b[0m \u001b[0mcallback\u001b[0m\u001b[0;34m=\u001b[0m\u001b[0mcb\u001b[0m\u001b[0;34m)\u001b[0m\u001b[0;34m\u001b[0m\u001b[0m\n\u001b[0m\u001b[1;32m    572\u001b[0m         \u001b[0mself\u001b[0m\u001b[0;34m.\u001b[0m\u001b[0m_jobs\u001b[0m\u001b[0;34m.\u001b[0m\u001b[0mappend\u001b[0m\u001b[0;34m(\u001b[0m\u001b[0mjob\u001b[0m\u001b[0;34m)\u001b[0m\u001b[0;34m\u001b[0m\u001b[0m\n\u001b[1;32m    573\u001b[0m \u001b[0;34m\u001b[0m\u001b[0m\n",
      "\u001b[0;32m/usr/local/lib/python2.7/dist-packages/sklearn/externals/joblib/_parallel_backends.pyc\u001b[0m in \u001b[0;36mapply_async\u001b[0;34m(self, func, callback)\u001b[0m\n\u001b[1;32m    107\u001b[0m     \u001b[0;32mdef\u001b[0m \u001b[0mapply_async\u001b[0m\u001b[0;34m(\u001b[0m\u001b[0mself\u001b[0m\u001b[0;34m,\u001b[0m \u001b[0mfunc\u001b[0m\u001b[0;34m,\u001b[0m \u001b[0mcallback\u001b[0m\u001b[0;34m=\u001b[0m\u001b[0mNone\u001b[0m\u001b[0;34m)\u001b[0m\u001b[0;34m:\u001b[0m\u001b[0;34m\u001b[0m\u001b[0m\n\u001b[1;32m    108\u001b[0m         \u001b[0;34m\"\"\"Schedule a func to be run\"\"\"\u001b[0m\u001b[0;34m\u001b[0m\u001b[0m\n\u001b[0;32m--> 109\u001b[0;31m         \u001b[0mresult\u001b[0m \u001b[0;34m=\u001b[0m \u001b[0mImmediateResult\u001b[0m\u001b[0;34m(\u001b[0m\u001b[0mfunc\u001b[0m\u001b[0;34m)\u001b[0m\u001b[0;34m\u001b[0m\u001b[0m\n\u001b[0m\u001b[1;32m    110\u001b[0m         \u001b[0;32mif\u001b[0m \u001b[0mcallback\u001b[0m\u001b[0;34m:\u001b[0m\u001b[0;34m\u001b[0m\u001b[0m\n\u001b[1;32m    111\u001b[0m             \u001b[0mcallback\u001b[0m\u001b[0;34m(\u001b[0m\u001b[0mresult\u001b[0m\u001b[0;34m)\u001b[0m\u001b[0;34m\u001b[0m\u001b[0m\n",
      "\u001b[0;32m/usr/local/lib/python2.7/dist-packages/sklearn/externals/joblib/_parallel_backends.pyc\u001b[0m in \u001b[0;36m__init__\u001b[0;34m(self, batch)\u001b[0m\n\u001b[1;32m    324\u001b[0m         \u001b[0;31m# Don't delay the application, to avoid keeping the input\u001b[0m\u001b[0;34m\u001b[0m\u001b[0;34m\u001b[0m\u001b[0m\n\u001b[1;32m    325\u001b[0m         \u001b[0;31m# arguments in memory\u001b[0m\u001b[0;34m\u001b[0m\u001b[0;34m\u001b[0m\u001b[0m\n\u001b[0;32m--> 326\u001b[0;31m         \u001b[0mself\u001b[0m\u001b[0;34m.\u001b[0m\u001b[0mresults\u001b[0m \u001b[0;34m=\u001b[0m \u001b[0mbatch\u001b[0m\u001b[0;34m(\u001b[0m\u001b[0;34m)\u001b[0m\u001b[0;34m\u001b[0m\u001b[0m\n\u001b[0m\u001b[1;32m    327\u001b[0m \u001b[0;34m\u001b[0m\u001b[0m\n\u001b[1;32m    328\u001b[0m     \u001b[0;32mdef\u001b[0m \u001b[0mget\u001b[0m\u001b[0;34m(\u001b[0m\u001b[0mself\u001b[0m\u001b[0;34m)\u001b[0m\u001b[0;34m:\u001b[0m\u001b[0;34m\u001b[0m\u001b[0m\n",
      "\u001b[0;32m/usr/local/lib/python2.7/dist-packages/sklearn/externals/joblib/parallel.pyc\u001b[0m in \u001b[0;36m__call__\u001b[0;34m(self)\u001b[0m\n\u001b[1;32m    129\u001b[0m \u001b[0;34m\u001b[0m\u001b[0m\n\u001b[1;32m    130\u001b[0m     \u001b[0;32mdef\u001b[0m \u001b[0m__call__\u001b[0m\u001b[0;34m(\u001b[0m\u001b[0mself\u001b[0m\u001b[0;34m)\u001b[0m\u001b[0;34m:\u001b[0m\u001b[0;34m\u001b[0m\u001b[0m\n\u001b[0;32m--> 131\u001b[0;31m         \u001b[0;32mreturn\u001b[0m \u001b[0;34m[\u001b[0m\u001b[0mfunc\u001b[0m\u001b[0;34m(\u001b[0m\u001b[0;34m*\u001b[0m\u001b[0margs\u001b[0m\u001b[0;34m,\u001b[0m \u001b[0;34m**\u001b[0m\u001b[0mkwargs\u001b[0m\u001b[0;34m)\u001b[0m \u001b[0;32mfor\u001b[0m \u001b[0mfunc\u001b[0m\u001b[0;34m,\u001b[0m \u001b[0margs\u001b[0m\u001b[0;34m,\u001b[0m \u001b[0mkwargs\u001b[0m \u001b[0;32min\u001b[0m \u001b[0mself\u001b[0m\u001b[0;34m.\u001b[0m\u001b[0mitems\u001b[0m\u001b[0;34m]\u001b[0m\u001b[0;34m\u001b[0m\u001b[0m\n\u001b[0m\u001b[1;32m    132\u001b[0m \u001b[0;34m\u001b[0m\u001b[0m\n\u001b[1;32m    133\u001b[0m     \u001b[0;32mdef\u001b[0m \u001b[0m__len__\u001b[0m\u001b[0;34m(\u001b[0m\u001b[0mself\u001b[0m\u001b[0;34m)\u001b[0m\u001b[0;34m:\u001b[0m\u001b[0;34m\u001b[0m\u001b[0m\n",
      "\u001b[0;32m/usr/local/lib/python2.7/dist-packages/sklearn/model_selection/_validation.pyc\u001b[0m in \u001b[0;36m_fit_and_score\u001b[0;34m(estimator, X, y, scorer, train, test, verbose, parameters, fit_params, return_train_score, return_parameters, return_n_test_samples, return_times, error_score)\u001b[0m\n\u001b[1;32m    258\u001b[0m     \u001b[0;32melse\u001b[0m\u001b[0;34m:\u001b[0m\u001b[0;34m\u001b[0m\u001b[0m\n\u001b[1;32m    259\u001b[0m         \u001b[0mfit_time\u001b[0m \u001b[0;34m=\u001b[0m \u001b[0mtime\u001b[0m\u001b[0;34m.\u001b[0m\u001b[0mtime\u001b[0m\u001b[0;34m(\u001b[0m\u001b[0;34m)\u001b[0m \u001b[0;34m-\u001b[0m \u001b[0mstart_time\u001b[0m\u001b[0;34m\u001b[0m\u001b[0m\n\u001b[0;32m--> 260\u001b[0;31m         \u001b[0mtest_score\u001b[0m \u001b[0;34m=\u001b[0m \u001b[0m_score\u001b[0m\u001b[0;34m(\u001b[0m\u001b[0mestimator\u001b[0m\u001b[0;34m,\u001b[0m \u001b[0mX_test\u001b[0m\u001b[0;34m,\u001b[0m \u001b[0my_test\u001b[0m\u001b[0;34m,\u001b[0m \u001b[0mscorer\u001b[0m\u001b[0;34m)\u001b[0m\u001b[0;34m\u001b[0m\u001b[0m\n\u001b[0m\u001b[1;32m    261\u001b[0m         \u001b[0mscore_time\u001b[0m \u001b[0;34m=\u001b[0m \u001b[0mtime\u001b[0m\u001b[0;34m.\u001b[0m\u001b[0mtime\u001b[0m\u001b[0;34m(\u001b[0m\u001b[0;34m)\u001b[0m \u001b[0;34m-\u001b[0m \u001b[0mstart_time\u001b[0m \u001b[0;34m-\u001b[0m \u001b[0mfit_time\u001b[0m\u001b[0;34m\u001b[0m\u001b[0m\n\u001b[1;32m    262\u001b[0m         \u001b[0;32mif\u001b[0m \u001b[0mreturn_train_score\u001b[0m\u001b[0;34m:\u001b[0m\u001b[0;34m\u001b[0m\u001b[0m\n",
      "\u001b[0;32m/usr/local/lib/python2.7/dist-packages/sklearn/model_selection/_validation.pyc\u001b[0m in \u001b[0;36m_score\u001b[0;34m(estimator, X_test, y_test, scorer)\u001b[0m\n\u001b[1;32m    286\u001b[0m         \u001b[0mscore\u001b[0m \u001b[0;34m=\u001b[0m \u001b[0mscorer\u001b[0m\u001b[0;34m(\u001b[0m\u001b[0mestimator\u001b[0m\u001b[0;34m,\u001b[0m \u001b[0mX_test\u001b[0m\u001b[0;34m)\u001b[0m\u001b[0;34m\u001b[0m\u001b[0m\n\u001b[1;32m    287\u001b[0m     \u001b[0;32melse\u001b[0m\u001b[0;34m:\u001b[0m\u001b[0;34m\u001b[0m\u001b[0m\n\u001b[0;32m--> 288\u001b[0;31m         \u001b[0mscore\u001b[0m \u001b[0;34m=\u001b[0m \u001b[0mscorer\u001b[0m\u001b[0;34m(\u001b[0m\u001b[0mestimator\u001b[0m\u001b[0;34m,\u001b[0m \u001b[0mX_test\u001b[0m\u001b[0;34m,\u001b[0m \u001b[0my_test\u001b[0m\u001b[0;34m)\u001b[0m\u001b[0;34m\u001b[0m\u001b[0m\n\u001b[0m\u001b[1;32m    289\u001b[0m     \u001b[0;32mif\u001b[0m \u001b[0mhasattr\u001b[0m\u001b[0;34m(\u001b[0m\u001b[0mscore\u001b[0m\u001b[0;34m,\u001b[0m \u001b[0;34m'item'\u001b[0m\u001b[0;34m)\u001b[0m\u001b[0;34m:\u001b[0m\u001b[0;34m\u001b[0m\u001b[0m\n\u001b[1;32m    290\u001b[0m         \u001b[0;32mtry\u001b[0m\u001b[0;34m:\u001b[0m\u001b[0;34m\u001b[0m\u001b[0m\n",
      "\u001b[0;32m/usr/local/lib/python2.7/dist-packages/sklearn/metrics/scorer.pyc\u001b[0m in \u001b[0;36m__call__\u001b[0;34m(self, clf, X, y, sample_weight)\u001b[0m\n\u001b[1;32m    194\u001b[0m                                                  **self._kwargs)\n\u001b[1;32m    195\u001b[0m         \u001b[0;32melse\u001b[0m\u001b[0;34m:\u001b[0m\u001b[0;34m\u001b[0m\u001b[0m\n\u001b[0;32m--> 196\u001b[0;31m             \u001b[0;32mreturn\u001b[0m \u001b[0mself\u001b[0m\u001b[0;34m.\u001b[0m\u001b[0m_sign\u001b[0m \u001b[0;34m*\u001b[0m \u001b[0mself\u001b[0m\u001b[0;34m.\u001b[0m\u001b[0m_score_func\u001b[0m\u001b[0;34m(\u001b[0m\u001b[0my\u001b[0m\u001b[0;34m,\u001b[0m \u001b[0my_pred\u001b[0m\u001b[0;34m,\u001b[0m \u001b[0;34m**\u001b[0m\u001b[0mself\u001b[0m\u001b[0;34m.\u001b[0m\u001b[0m_kwargs\u001b[0m\u001b[0;34m)\u001b[0m\u001b[0;34m\u001b[0m\u001b[0m\n\u001b[0m\u001b[1;32m    197\u001b[0m \u001b[0;34m\u001b[0m\u001b[0m\n\u001b[1;32m    198\u001b[0m     \u001b[0;32mdef\u001b[0m \u001b[0m_factory_args\u001b[0m\u001b[0;34m(\u001b[0m\u001b[0mself\u001b[0m\u001b[0;34m)\u001b[0m\u001b[0;34m:\u001b[0m\u001b[0;34m\u001b[0m\u001b[0m\n",
      "\u001b[0;32m/usr/local/lib/python2.7/dist-packages/sklearn/metrics/ranking.pyc\u001b[0m in \u001b[0;36mroc_auc_score\u001b[0;34m(y_true, y_score, average, sample_weight)\u001b[0m\n\u001b[1;32m    258\u001b[0m     return _average_binary_score(\n\u001b[1;32m    259\u001b[0m         \u001b[0m_binary_roc_auc_score\u001b[0m\u001b[0;34m,\u001b[0m \u001b[0my_true\u001b[0m\u001b[0;34m,\u001b[0m \u001b[0my_score\u001b[0m\u001b[0;34m,\u001b[0m \u001b[0maverage\u001b[0m\u001b[0;34m,\u001b[0m\u001b[0;34m\u001b[0m\u001b[0m\n\u001b[0;32m--> 260\u001b[0;31m         sample_weight=sample_weight)\n\u001b[0m\u001b[1;32m    261\u001b[0m \u001b[0;34m\u001b[0m\u001b[0m\n\u001b[1;32m    262\u001b[0m \u001b[0;34m\u001b[0m\u001b[0m\n",
      "\u001b[0;32m/usr/local/lib/python2.7/dist-packages/sklearn/metrics/base.pyc\u001b[0m in \u001b[0;36m_average_binary_score\u001b[0;34m(binary_metric, y_true, y_score, average, sample_weight)\u001b[0m\n\u001b[1;32m     82\u001b[0m \u001b[0;34m\u001b[0m\u001b[0m\n\u001b[1;32m     83\u001b[0m     \u001b[0;32mif\u001b[0m \u001b[0my_type\u001b[0m \u001b[0;34m==\u001b[0m \u001b[0;34m\"binary\"\u001b[0m\u001b[0;34m:\u001b[0m\u001b[0;34m\u001b[0m\u001b[0m\n\u001b[0;32m---> 84\u001b[0;31m         \u001b[0;32mreturn\u001b[0m \u001b[0mbinary_metric\u001b[0m\u001b[0;34m(\u001b[0m\u001b[0my_true\u001b[0m\u001b[0;34m,\u001b[0m \u001b[0my_score\u001b[0m\u001b[0;34m,\u001b[0m \u001b[0msample_weight\u001b[0m\u001b[0;34m=\u001b[0m\u001b[0msample_weight\u001b[0m\u001b[0;34m)\u001b[0m\u001b[0;34m\u001b[0m\u001b[0m\n\u001b[0m\u001b[1;32m     85\u001b[0m \u001b[0;34m\u001b[0m\u001b[0m\n\u001b[1;32m     86\u001b[0m     \u001b[0mcheck_consistent_length\u001b[0m\u001b[0;34m(\u001b[0m\u001b[0my_true\u001b[0m\u001b[0;34m,\u001b[0m \u001b[0my_score\u001b[0m\u001b[0;34m,\u001b[0m \u001b[0msample_weight\u001b[0m\u001b[0;34m)\u001b[0m\u001b[0;34m\u001b[0m\u001b[0m\n",
      "\u001b[0;32m/usr/local/lib/python2.7/dist-packages/sklearn/metrics/ranking.pyc\u001b[0m in \u001b[0;36m_binary_roc_auc_score\u001b[0;34m(y_true, y_score, sample_weight)\u001b[0m\n\u001b[1;32m    249\u001b[0m     \u001b[0;32mdef\u001b[0m \u001b[0m_binary_roc_auc_score\u001b[0m\u001b[0;34m(\u001b[0m\u001b[0my_true\u001b[0m\u001b[0;34m,\u001b[0m \u001b[0my_score\u001b[0m\u001b[0;34m,\u001b[0m \u001b[0msample_weight\u001b[0m\u001b[0;34m=\u001b[0m\u001b[0mNone\u001b[0m\u001b[0;34m)\u001b[0m\u001b[0;34m:\u001b[0m\u001b[0;34m\u001b[0m\u001b[0m\n\u001b[1;32m    250\u001b[0m         \u001b[0;32mif\u001b[0m \u001b[0mlen\u001b[0m\u001b[0;34m(\u001b[0m\u001b[0mnp\u001b[0m\u001b[0;34m.\u001b[0m\u001b[0munique\u001b[0m\u001b[0;34m(\u001b[0m\u001b[0my_true\u001b[0m\u001b[0;34m)\u001b[0m\u001b[0;34m)\u001b[0m \u001b[0;34m!=\u001b[0m \u001b[0;36m2\u001b[0m\u001b[0;34m:\u001b[0m\u001b[0;34m\u001b[0m\u001b[0m\n\u001b[0;32m--> 251\u001b[0;31m             raise ValueError(\"Only one class present in y_true. ROC AUC score \"\n\u001b[0m\u001b[1;32m    252\u001b[0m                              \"is not defined in that case.\")\n\u001b[1;32m    253\u001b[0m \u001b[0;34m\u001b[0m\u001b[0m\n",
      "\u001b[0;31mValueError\u001b[0m: Only one class present in y_true. ROC AUC score is not defined in that case."
     ]
    }
   ],
   "source": [
    "# We use 10-fold cross-validation to evaluate the models\n",
    "n_folds = 5\n",
    "scores = list()\n",
    "scores_std = list()\n",
    "\n",
    "for alpha in alphas:\n",
    "    lasso = Lasso(alpha=alpha,fit_intercept=True, max_iter=100000, tol=0.0001)\n",
    "    lasso_fit = lasso.fit(X,y)\n",
    "    print y.sum()\n",
    "    print len(y)\n",
    "    cv = ShuffleSplit(n_splits=n_folds)\n",
    "    this_scores = cross_val_score(lasso_fit, X, y, scoring='roc_auc', cv=cv, n_jobs=1)\n",
    "    print this_scores\n",
    "    scores.append(np.mean(this_scores))\n",
    "    scores_std.append(np.std(this_scores))\n",
    "\n",
    "scores, scores_std = np.array(scores), np.array(scores_std)\n",
    "print scores\n",
    "\n",
    "plt.figure().set_size_inches(8, 6)\n",
    "plt.semilogx(alphas, scores)\n",
    "\n",
    "# plot error lines showing +/- std. errors of the scores\n",
    "std_error = scores_std / np.sqrt(n_folds)\n",
    "\n",
    "plt.semilogx(alphas, scores + std_error, 'b--')\n",
    "plt.semilogx(alphas, scores - std_error, 'b--')\n",
    "\n",
    "# alpha=0.2 controls the translucency of the fill color\n",
    "plt.fill_between(alphas, scores + std_error, scores - std_error, alpha=0.2)\n",
    "\n",
    "plt.ylabel('CV score +/- std error')\n",
    "plt.xlabel('alpha')\n",
    "plt.axhline(np.max(scores), linestyle='--', color='.5')\n",
    "plt.xlim([alphas[0], alphas[-1]])"
   ]
  },
  {
   "cell_type": "markdown",
   "metadata": {},
   "source": [
    "######  Selection of alpha depending on the validation score\n",
    "Depending on the way the test group is picked, we have different values of alpha. \n",
    "So we test the model with three different values of alpha: [0.0001, 0.0002, 0.0003]"
   ]
  },
  {
   "cell_type": "code",
   "execution_count": 44,
   "metadata": {},
   "outputs": [
    {
     "name": "stdout",
     "output_type": "stream",
     "text": [
      "16\n",
      "16\n",
      "16\n",
      "36211297\n"
     ]
    }
   ],
   "source": [
    "# Extract the set of relevant features and their weight, alpha = 0.0002\n",
    "features_indice = list()\n",
    "features_weight = list()\n",
    "features = list()\n",
    "\n",
    "for i in range (len(coef_lasso[2])):\n",
    "    if coef_lasso[2][i] != 0.:\n",
    "        features_indice.append(i)\n",
    "\n",
    "print len(features_indice)\n",
    "\n",
    "for i in range (len(all_pairoutcomes)):\n",
    "    if i in features_indice:\n",
    "        features.append(all_pairoutcomes[i])\n",
    "        features_weight.append((all_pairoutcomes[i], coef_lasso[2][i]))\n",
    "\n",
    "print len(features)\n",
    "print len(features_weight)\n",
    "print features[0]"
   ]
  },
  {
   "cell_type": "code",
   "execution_count": 45,
   "metadata": {
    "collapsed": true
   },
   "outputs": [],
   "source": [
    "# Build the new frequency tables\n",
    "def make_lsd_training_table_reduced(features, pos_drugs = None, neg_drugs = None):\n",
    "\n",
    "    # we map positive and negative drugs from their concept_code to their concept_id\n",
    "    pos_drugs_mapped = list()\n",
    "    for pos_drug in pos_drugs:\n",
    "        pos_drugs_mapped.append(drug_mapping[pos_drug])\n",
    "        \n",
    "    neg_drugs_mapped = list()\n",
    "    for neg_drug in neg_drugs:\n",
    "        neg_drugs_mapped.append(drug_mapping[neg_drug])\n",
    "        \n",
    "    outcomes = np.concatenate((np.ones(len(pos_drugs),np.bool), np.zeros(len(neg_drugs),np.bool)))\n",
    "    \n",
    "    training_drugs = pos_drugs_mapped + neg_drugs_mapped\n",
    "    \n",
    "    # build the adverse events frequency table\n",
    "    ae_frequencies_training = np.zeros((len(pos_drugs)+len(neg_drugs),len(features)))\n",
    "    \n",
    "    for r in aeolus_drugReactionCounts['results']:\n",
    "        if not r['drug_concept_id'] in training_drugs:\n",
    "            continue\n",
    "        if not r['outcome_concept_id'] in features:\n",
    "            continue\n",
    "        \n",
    "        \n",
    "        i = training_drugs.index(r['drug_concept_id'])\n",
    "        j = features.index(r['outcome_concept_id'])\n",
    "        \n",
    "        frequency = float(r['nreports'])/float(r['ndrugreports'])\n",
    "        \n",
    "        ae_frequencies_training[i,j] = frequency\n",
    "                    \n",
    "    return ae_frequencies_training, outcomes\n",
    "\n",
    "\n",
    "# Build the frequency table for drugpairs\n",
    "def make_lsd_testing_table_reduced(features):\n",
    "    ae_frequencies_ddi_testing = np.zeros((len(all_drugpairs),len(features)))\n",
    "    \n",
    "    for r in tqdm(aeolus_drugpairReactionCounts['results']):\n",
    "        \n",
    "        drugpair = (r['drug1_concept_id'],r['drug2_concept_id'])\n",
    "        if r['outcome_concept_id'] in features:\n",
    "            x_index = all_drugpairs.index(drugpair)\n",
    "            y_index = features.index(r['outcome_concept_id'])\n",
    "            \n",
    "            frequency = float(r['n_d1d2ae'])/float(r['n_d1d2'])\n",
    "            #print frequency\n",
    "            \n",
    "            ae_frequencies_ddi_testing[x_index,y_index] = frequency    \n",
    "                \n",
    "    return ae_frequencies_ddi_testing"
   ]
  },
  {
   "cell_type": "code",
   "execution_count": 46,
   "metadata": {},
   "outputs": [
    {
     "name": "stdout",
     "output_type": "stream",
     "text": [
      "(528, 16)\n",
      "(528,)\n"
     ]
    }
   ],
   "source": [
    "X_reduced, y_reduced = make_lsd_training_table_reduced(features, pos_controls, neg_controls)\n",
    "\n",
    "print X_reduced.shape\n",
    "print y_reduced.shape"
   ]
  },
  {
   "cell_type": "code",
   "execution_count": 47,
   "metadata": {},
   "outputs": [
    {
     "name": "stderr",
     "output_type": "stream",
     "text": [
      "100%|██████████| 1313184/1313184 [02:49<00:00, 7762.13it/s] \n"
     ]
    }
   ],
   "source": [
    "X_test_reduced = make_lsd_testing_table_reduced(features)"
   ]
  },
  {
   "cell_type": "code",
   "execution_count": 48,
   "metadata": {
    "scrolled": true
   },
   "outputs": [
    {
     "name": "stdout",
     "output_type": "stream",
     "text": [
      "36211297\n",
      "(39800, 16)\n"
     ]
    }
   ],
   "source": [
    "print features[0]\n",
    "print X_test_reduced.shape\n",
    "#print X_test_reduced[2]"
   ]
  },
  {
   "cell_type": "markdown",
   "metadata": {},
   "source": [
    "## Build the latent signal detection model (i.e hypertension's fingerprint)"
   ]
  },
  {
   "cell_type": "code",
   "execution_count": 49,
   "metadata": {
    "collapsed": true
   },
   "outputs": [],
   "source": [
    "# We use a Logistic Regression Binary classifier: each drug or drug pair is represented by a combination of AEs and their weight (beta coefficient)\n",
    "# If a drug is above a certain threshold, we classify it as causing hypertension\n",
    "\n",
    "def score(features_weight, X_test):\n",
    "    score = list()\n",
    "    \n",
    "    for drugpair in X_test:\n",
    "        #print drugpair\n",
    "        drugpair_score = 0\n",
    "        for i in range (0, len(features)):\n",
    "            drugpair_score += drugpair[i] * features_weight[i][1]\n",
    "        score.append(drugpair_score)\n",
    "    \n",
    "    return score\n",
    "\n",
    "def y_pred_FAERS(drug_mapping):\n",
    "    \n",
    "    y_pred = np.zeros((len(scores)))\n",
    "    pos_drugs_mapped = list()\n",
    "    \n",
    "    for pos_drug in pos_controls:\n",
    "        if pos_drug not in drug_mapping:\n",
    "            continue\n",
    "        \n",
    "        pos_drugs_mapped.append(drug_mapping[pos_drug])\n",
    "    \n",
    "    # if a drugpair has a drug known to be a positive control then we predict that the drugpair will lead to the AE\n",
    "    for drugpair in all_drugpairs:         \n",
    "        for drug in drugpair:\n",
    "            if drug in pos_drugs_mapped:\n",
    "                y_pred[all_drugpairs.index(drugpair)] = 1\n",
    "                \n",
    "    return y_pred\n",
    "\n",
    "def y_pred_va():\n",
    "    \n",
    "    y_pred = np.zeros((len(scores)))\n",
    "    \n",
    "    # if a drugpair has a drug known to be a positive control then we predict that the drugpair will lead to the AE\n",
    "    for drugpair in all_drugpairs:         \n",
    "        if drugpair in va_omop_ddi :\n",
    "            y_pred[all_drugpairs.index(drugpair)] = 1\n",
    "    \n",
    "    return y_pred\n",
    "\n",
    "def predict_ddi(scores, threshold):\n",
    "    \n",
    "    predictions = np.zeros((len(scores)))\n",
    "    for score in scores:\n",
    "        if (score > threshold):\n",
    "            predictions[scores.index(score)] = 1\n",
    "    print sum(predictions)\n",
    "    \n",
    "    y_pred_Faers = y_pred_FAERS(drug_mapping)\n",
    "    y_pred_VA = y_pred_va()\n",
    "    \n",
    "    print \"Number of positive predictions from FAERS:\",np.sum(y_pred_Faers)\n",
    "    print \"Number of positive predictions from the VA:\",np.sum(y_pred_VA)\n",
    "    \n",
    "    print \"FAERS drugpairs ROC:\",roc_auc_score(y_true=y_pred_Faers,y_score=scores)\n",
    "    fprFA, tprFA, _ = roc_curve(y_true=y_pred_Faers,y_score=scores)\n",
    "    \n",
    "    print \"VA drugpairs ROC:\",roc_auc_score(y_true=y_pred_VA,y_score=scores)\n",
    "    fprVA, tprVA, _ = roc_curve(y_true=y_pred_VA,y_score=scores)\n",
    "    \n",
    "    sns.set(style='ticks', font_scale=1.4)\n",
    "    \n",
    "    plt.figure(figsize=(6,6))\n",
    "    plt.plot(fprFA,tprFA,label='FAERS (area= %0.2f)' % auc(fprFA,tprFA))\n",
    "    plt.plot(fprVA,tprVA,label='VA (area= %0.2f)' % auc(fprVA,tprVA))\n",
    "    \n",
    "    plt.xlabel('False Positive Rate')\n",
    "    plt.ylabel('True Positive Rate')\n",
    "    \n",
    "    plt.legend(loc=\"lower right\")\n",
    "    \n",
    "    sns.despine()\n",
    "    \n",
    "    return predictions\n",
    "            "
   ]
  },
  {
   "cell_type": "code",
   "execution_count": 50,
   "metadata": {},
   "outputs": [
    {
     "name": "stdout",
     "output_type": "stream",
     "text": [
      "39800\n",
      "1.62467261008\n",
      "547.0\n",
      "Number of positive predictions from FAERS: 3890.0\n",
      "Number of positive predictions from the VA: 14.0\n",
      "FAERS drugpairs ROC: 0.714257537589\n",
      "VA drugpairs ROC: 0.673041845301\n"
     ]
    },
    {
     "data": {
      "image/png": "[encoded data removed]",
      "text/plain": [
       "<matplotlib.figure.Figure at 0x7f9c73867450>"
      ]
     },
     "metadata": {},
     "output_type": "display_data"
    }
   ],
   "source": [
    "scores = score(features_weight, X_test_reduced)\n",
    "print len(scores)\n",
    "print scores[0]\n",
    "\n",
    "threshold = 5\n",
    "predictions = predict_ddi(scores, threshold)"
   ]
  },
  {
   "cell_type": "code",
   "execution_count": 51,
   "metadata": {
    "scrolled": true
   },
   "outputs": [
    {
     "name": "stderr",
     "output_type": "stream",
     "text": [
      "  1%|          | 8029/1313184 [00:00<00:16, 80274.00it/s]"
     ]
    },
    {
     "name": "stdout",
     "output_type": "stream",
     "text": [
      "0.0001\n",
      "16\n"
     ]
    },
    {
     "name": "stderr",
     "output_type": "stream",
     "text": [
      "  4%|▍         | 51048/1313184 [00:03<02:08, 9798.10it/s] \n"
     ]
    },
    {
     "ename": "KeyboardInterrupt",
     "evalue": "",
     "output_type": "error",
     "traceback": [
      "\u001b[0;31m---------------------------------------------------------------------------\u001b[0m",
      "\u001b[0;31mKeyboardInterrupt\u001b[0m                         Traceback (most recent call last)",
      "\u001b[0;32m<ipython-input-51-57dedf00491e>\u001b[0m in \u001b[0;36m<module>\u001b[0;34m()\u001b[0m\n\u001b[1;32m     26\u001b[0m \u001b[0;34m\u001b[0m\u001b[0m\n\u001b[1;32m     27\u001b[0m     \u001b[0;31m#Construction of the new testing frequency table\u001b[0m\u001b[0;34m\u001b[0m\u001b[0;34m\u001b[0m\u001b[0m\n\u001b[0;32m---> 28\u001b[0;31m     \u001b[0mX_test_reduced\u001b[0m \u001b[0;34m=\u001b[0m \u001b[0mmake_lsd_testing_table_reduced\u001b[0m\u001b[0;34m(\u001b[0m\u001b[0mfeatures\u001b[0m\u001b[0;34m)\u001b[0m\u001b[0;34m\u001b[0m\u001b[0m\n\u001b[0m\u001b[1;32m     29\u001b[0m     \u001b[0;32mprint\u001b[0m \u001b[0mX_test_reduced\u001b[0m\u001b[0;34m.\u001b[0m\u001b[0mshape\u001b[0m\u001b[0;34m\u001b[0m\u001b[0m\n\u001b[1;32m     30\u001b[0m \u001b[0;34m\u001b[0m\u001b[0m\n",
      "\u001b[0;32m<ipython-input-45-80c7019aae66>\u001b[0m in \u001b[0;36mmake_lsd_testing_table_reduced\u001b[0;34m(features)\u001b[0m\n\u001b[1;32m     43\u001b[0m         \u001b[0mdrugpair\u001b[0m \u001b[0;34m=\u001b[0m \u001b[0;34m(\u001b[0m\u001b[0mr\u001b[0m\u001b[0;34m[\u001b[0m\u001b[0;34m'drug1_concept_id'\u001b[0m\u001b[0;34m]\u001b[0m\u001b[0;34m,\u001b[0m\u001b[0mr\u001b[0m\u001b[0;34m[\u001b[0m\u001b[0;34m'drug2_concept_id'\u001b[0m\u001b[0;34m]\u001b[0m\u001b[0;34m)\u001b[0m\u001b[0;34m\u001b[0m\u001b[0m\n\u001b[1;32m     44\u001b[0m         \u001b[0;32mif\u001b[0m \u001b[0mr\u001b[0m\u001b[0;34m[\u001b[0m\u001b[0;34m'outcome_concept_id'\u001b[0m\u001b[0;34m]\u001b[0m \u001b[0;32min\u001b[0m \u001b[0mfeatures\u001b[0m\u001b[0;34m:\u001b[0m\u001b[0;34m\u001b[0m\u001b[0m\n\u001b[0;32m---> 45\u001b[0;31m             \u001b[0mx_index\u001b[0m \u001b[0;34m=\u001b[0m \u001b[0mall_drugpairs\u001b[0m\u001b[0;34m.\u001b[0m\u001b[0mindex\u001b[0m\u001b[0;34m(\u001b[0m\u001b[0mdrugpair\u001b[0m\u001b[0;34m)\u001b[0m\u001b[0;34m\u001b[0m\u001b[0m\n\u001b[0m\u001b[1;32m     46\u001b[0m             \u001b[0my_index\u001b[0m \u001b[0;34m=\u001b[0m \u001b[0mfeatures\u001b[0m\u001b[0;34m.\u001b[0m\u001b[0mindex\u001b[0m\u001b[0;34m(\u001b[0m\u001b[0mr\u001b[0m\u001b[0;34m[\u001b[0m\u001b[0;34m'outcome_concept_id'\u001b[0m\u001b[0;34m]\u001b[0m\u001b[0;34m)\u001b[0m\u001b[0;34m\u001b[0m\u001b[0m\n\u001b[1;32m     47\u001b[0m \u001b[0;34m\u001b[0m\u001b[0m\n",
      "\u001b[0;31mKeyboardInterrupt\u001b[0m: "
     ]
    }
   ],
   "source": [
    "# Loop to test all three models\n",
    "# We use a Logistic Regression Binary classifier: each drug or drug pair is represented by a combination of AEs and their weight (beta coefficient)\n",
    "# If a drug is above a certain threshold, we classify it as causing hypertension\n",
    "\n",
    "alphas_selected = [0.0001, 0.0002, 0.0003]\n",
    "threshold = 4\n",
    "\n",
    "for alpha in alphas_selected:\n",
    "    print alpha\n",
    "    \n",
    "    #Extraction of features\n",
    "    features_indice = list()\n",
    "    features_weight = list()\n",
    "    features = list()\n",
    "\n",
    "    for i in range (len(coef_lasso[2+alphas_selected.index(alpha)])):\n",
    "        if coef_lasso[2+alphas_selected.index(alpha)][i] != 0.:\n",
    "            features_indice.append(i)\n",
    "\n",
    "    for i in range (len(all_pairoutcomes)):\n",
    "        if i in features_indice:\n",
    "            features.append(all_pairoutcomes[i])\n",
    "            features_weight.append((all_pairoutcomes[i], coef_lasso[2+alphas_selected.index(alpha)][i]))\n",
    "    \n",
    "    print len(features)\n",
    "    \n",
    "    #Construction of the new testing frequency table\n",
    "    X_test_reduced = make_lsd_testing_table_reduced(features)\n",
    "    print X_test_reduced.shape\n",
    "    \n",
    "    #Fingerprint construction\n",
    "    scores = score(features_weight, X_test_reduced)\n",
    "    predictions = predict_ddi(scores, threshold)\n"
   ]
  },
  {
   "cell_type": "code",
   "execution_count": 52,
   "metadata": {
    "collapsed": true
   },
   "outputs": [],
   "source": [
    "# Random Forest Classifier after the L1 reduction of features\n",
    "\n",
    "def drugpair_predictions_rf_reduced(X, y, X_test):\n",
    "    \n",
    "    # can't use oob after L1 regularization\n",
    "    rf = RandomForestClassifier(n_estimators = 100, oob_score=False, random_state=12)\n",
    "    rf.fit(X,y) #Build a forest of trees from the training set (X, y).\n",
    "    \n",
    "    predictions_proba = rf.predict_proba(X_test)[:,1]\n",
    "    predictions = rf.predict(X_test) #predict class for X_test\n",
    "    print \"Mean accuracy on the given test data and labels: \", rf.score(X,y)  \n",
    "    \n",
    "    y_pred_Faers = y_pred_FAERS(drug_mapping)\n",
    "    y_pred_VA = y_pred_va()\n",
    "    \n",
    "    predicted_ddi = sorted(zip(predictions_proba, all_drugpairs))\n",
    "    predicted_ddi.reverse()\n",
    "    i=0\n",
    "    while predicted_ddi[i][0]>0.5:\n",
    "        i+=1\n",
    "    predicted_ddi = predicted_ddi[:i]\n",
    "            \n",
    "    #(i.e with at least one drug known to have hypertension as a side effect)\n",
    "    print \"Number of positive predictions:\",np.sum(y_pred_Faers)\n",
    "    \n",
    "    print \"FAERS drugpairs ROC:\",roc_auc_score(y_true=y_pred_Faers,y_score=predictions_proba)\n",
    "    fprFA, tprFA, _ = roc_curve(y_true=y_pred_Faers,y_score=predictions_proba)\n",
    "    \n",
    "    print \"VA drugpairs ROC:\",roc_auc_score(y_true=y_pred_VA,y_score=predictions_proba)\n",
    "    fprVA, tprVA, _ = roc_curve(y_true=y_pred_VA,y_score=predictions_proba)\n",
    "\n",
    "    sns.set(style='ticks', font_scale=1.4)\n",
    "    \n",
    "    plt.figure(figsize=(6,6))\n",
    "    plt.plot(fprFA,tprFA,label='FAERS (area= %0.2f)' % auc(fprFA,tprFA))\n",
    "    plt.plot(fprVA,tprVA,label='VA (area= %0.2f)' % auc(fprVA,tprVA))\n",
    "    \n",
    "    plt.xlabel('False Positive Rate')\n",
    "    plt.ylabel('True Positive Rate')\n",
    "    \n",
    "    plt.legend(loc=\"lower right\")\n",
    "    \n",
    "    sns.despine()\n",
    "    \n",
    "    return predicted_ddi"
   ]
  },
  {
   "cell_type": "code",
   "execution_count": 53,
   "metadata": {},
   "outputs": [
    {
     "name": "stdout",
     "output_type": "stream",
     "text": [
      "Mean accuracy on the given test data and labels:  1.0\n",
      "Number of positive predictions: 3890.0\n",
      "FAERS drugpairs ROC: 0.625797713364\n",
      "VA drugpairs ROC: 0.600410409979\n",
      "8808\n"
     ]
    },
    {
     "data": {
      "image/png": "[encoded data removed]",
      "text/plain": [
       "<matplotlib.figure.Figure at 0x7f9cd923e4d0>"
      ]
     },
     "metadata": {},
     "output_type": "display_data"
    }
   ],
   "source": [
    "predicted_ddi = drugpair_predictions_rf_reduced(X_reduced,y_reduced,X_test_reduced)\n",
    "print len(predicted_ddi)"
   ]
  },
  {
   "cell_type": "code",
   "execution_count": 54,
   "metadata": {
    "collapsed": true
   },
   "outputs": [],
   "source": [
    "# SVM method after L1 regularization of features\n",
    "def drugpair_predictions_svm(X,y,X_test):\n",
    "    \n",
    "    clf = svm.SVC(probability=True)\n",
    "    #clf = svm.SVC()\n",
    "    clf.fit(X,y)\n",
    "    \n",
    "    predictions_proba = clf.predict_proba(X_test)[:,1]\n",
    "    #predictions_proba = clf.decision_function(X_test)\n",
    "    predictions = clf.predict(X_test) #predict class for X_test\n",
    "    print \"Mean accuracy on the given test data and labels: \", clf.score(X,y)  \n",
    "    \n",
    "    y_pred_Faers = y_pred_FAERS(drug_mapping)\n",
    "    y_pred_VA = y_pred_va()\n",
    "    \n",
    "    predicted_ddi = sorted(zip(predictions_proba, all_drugpairs))\n",
    "    predicted_ddi.reverse()\n",
    "    i=0\n",
    "    while predicted_ddi[i][0]>0.5:\n",
    "        i+=1\n",
    "    predicted_ddi = predicted_ddi[:i]\n",
    "            \n",
    "    #(i.e with at least one drug known to have hypertension as a side effect)\n",
    "    print \"Number of positive predictions:\",np.sum(y_pred_Faers)\n",
    "    \n",
    "    print \"FAERS drugpairs ROC:\",roc_auc_score(y_true=y_pred_Faers,y_score=predictions_proba)\n",
    "    fprFA, tprFA, _ = roc_curve(y_true=y_pred_Faers,y_score=predictions_proba)\n",
    "    \n",
    "    print \"VA drugpairs ROC:\",roc_auc_score(y_true=y_pred_VA,y_score=predictions_proba)\n",
    "    fprVA, tprVA, _ = roc_curve(y_true=y_pred_VA,y_score=predictions_proba)\n",
    "\n",
    "    sns.set(style='ticks', font_scale=1.4)\n",
    "    \n",
    "    plt.figure(figsize=(6,6))\n",
    "    plt.plot(fprFA,tprFA,label='FAERS (area= %0.2f)' % auc(fprFA,tprFA))\n",
    "    plt.plot(fprVA,tprVA,label='VA (area= %0.2f)' % auc(fprVA,tprVA))\n",
    "    \n",
    "    plt.xlabel('False Positive Rate')\n",
    "    plt.ylabel('True Positive Rate')\n",
    "    \n",
    "    plt.legend(loc=\"lower right\")\n",
    "    \n",
    "    sns.despine()\n",
    "    \n",
    "    return predicted_ddi"
   ]
  },
  {
   "cell_type": "code",
   "execution_count": 55,
   "metadata": {},
   "outputs": [
    {
     "name": "stdout",
     "output_type": "stream",
     "text": [
      "Mean accuracy on the given test data and labels:  0.94696969697\n",
      "Number of positive predictions: 3890.0\n",
      "FAERS drugpairs ROC: 0.725276687864\n",
      "VA drugpairs ROC: 0.599606106958\n",
      "30732\n"
     ]
    },
    {
     "data": {
      "image/png": "[encoded data removed]",
      "text/plain": [
       "<matplotlib.figure.Figure at 0x7f9c7377e050>"
      ]
     },
     "metadata": {},
     "output_type": "display_data"
    }
   ],
   "source": [
    "predicted_ddi = drugpair_predictions_svm(X_reduced,y_reduced,X_test_reduced)\n",
    "print len(predicted_ddi)"
   ]
  },
  {
   "cell_type": "code",
   "execution_count": 56,
   "metadata": {
    "collapsed": true
   },
   "outputs": [],
   "source": [
    "# Prediction without features reduction\n",
    "def drugpair_predictions_rf(X,y,X_test):  \n",
    "    \n",
    "    rf = RandomForestClassifier(n_estimators = 100, oob_score=True, random_state=12)\n",
    "    rf.fit(X,y) #Build a forest of trees from the training set (X, y).\n",
    "    \n",
    "    print \"Number of estimators: \", len(rf.estimators_)\n",
    "    \n",
    "    predictions_proba = rf.predict_proba(X_test)[:,1]\n",
    "    predictions = rf.predict(X_test) #predict class for X_test\n",
    "    print \"Mean accuracy on the given test data and labels: \", rf.score(X,y)   \n",
    "\n",
    "    oob_predictions = rf.oob_decision_function_[:,1]\n",
    "    oob_predictions[ np.where( np.isnan(oob_predictions) == True)[0]] = 0\n",
    "    \n",
    "    #roc_auc_score computes the area under the ROC curve\n",
    "    print \"OOB ROC:\",roc_auc_score(y_true=y, y_score=oob_predictions)\n",
    "    fprOOB, tprOOB, _ = roc_curve(y_true=y,y_score=oob_predictions)\n",
    "    \n",
    "    y_pred_Faers = y_pred_FAERS(drug_mapping)\n",
    "    y_pred_VA = y_pred_va()\n",
    "    \n",
    "    predicted_ddi = sorted(zip(predictions_proba, all_drugpairs))\n",
    "    predicted_ddi.reverse()\n",
    "    i=0\n",
    "    while predicted_ddi[i][0]>0.5:\n",
    "        i+=1\n",
    "    predicted_ddi = predicted_ddi[:i]\n",
    "            \n",
    "    #(i.e with at least one drug known to have hypertension as a side effect)\n",
    "    print \"Number of positive predictions FAERS:\",np.sum(y_pred_Faers)\n",
    "    print \"Number of ddi predictions (with a probability > 0,5): \", len(predicted_ddi)\n",
    "    \n",
    "    print \"FAERS drugpairs ROC:\",roc_auc_score(y_true=y_pred_Faers,y_score=predictions_proba)\n",
    "    fprFA, tprFA, _ = roc_curve(y_true=y_pred_Faers,y_score=predictions_proba)\n",
    "    \n",
    "    print \"VA drugpairs ROC:\",roc_auc_score(y_true=y_pred_VA,y_score=predictions_proba)\n",
    "    fprVA, tprVA, _ = roc_curve(y_true=y_pred_VA,y_score=predictions_proba)\n",
    "    \n",
    "    sns.set(style='ticks', font_scale=1.4)\n",
    "    \n",
    "    plt.figure(figsize=(6,6))\n",
    "    plt.plot(fprOOB,tprOOB,label='OOB (area= %0.2f)' % auc(fprOOB,tprOOB))\n",
    "    plt.plot(fprFA,tprFA,label='FAERS (area= %0.2f)' % auc(fprFA,tprFA))\n",
    "    plt.plot(fprVA,tprVA,label='VA (area= %0.2f)' % auc(fprVA,tprVA))\n",
    "    \n",
    "    plt.xlabel('False Positive Rate')\n",
    "    plt.ylabel('True Positive Rate')\n",
    "    \n",
    "    plt.legend(loc=\"lower right\")\n",
    "    \n",
    "    sns.despine()\n",
    "    \n",
    "    return predicted_ddi"
   ]
  },
  {
   "cell_type": "code",
   "execution_count": 57,
   "metadata": {},
   "outputs": [
    {
     "name": "stdout",
     "output_type": "stream",
     "text": [
      "Number of estimators:  100\n",
      "Mean accuracy on the given test data and labels:  1.0\n",
      "OOB ROC: 0.877571428571\n",
      "Number of positive predictions FAERS: 3890.0\n",
      "Number of ddi predictions (with a probability > 0,5):  5688\n",
      "FAERS drugpairs ROC: 0.605126125797\n",
      "VA drugpairs ROC: 0.613088954478\n"
     ]
    },
    {
     "data": {
      "image/png": "[encoded data removed]",
      "text/plain": [
       "<matplotlib.figure.Figure at 0x7f9c72d800d0>"
      ]
     },
     "metadata": {},
     "output_type": "display_data"
    }
   ],
   "source": [
    "pred_ddi = drugpair_predictions_rf(X,y,X_test)"
   ]
  },
  {
   "cell_type": "markdown",
   "metadata": {},
   "source": [
    "## DDI predictions"
   ]
  },
  {
   "cell_type": "code",
   "execution_count": 67,
   "metadata": {},
   "outputs": [
    {
     "name": "stdout",
     "output_type": "stream",
     "text": [
      "8780\n",
      "3258\n"
     ]
    }
   ],
   "source": [
    "#Treatment of the predictions\n",
    "final_predictions = list()\n",
    "\n",
    "pos_drugs_mapped = list()\n",
    "for pos_drug in pos_controls:\n",
    "    if pos_drug not in drug_mapping:\n",
    "        continue\n",
    "        \n",
    "    pos_drugs_mapped.append(drug_mapping[pos_drug])\n",
    "\n",
    "# Removing the pairs where at least one of the drugs is known to be responsible for hypertension alone\n",
    "for prob, drugpair in predicted_ddi:\n",
    "    if (drugpair[0] not in pos_drugs_mapped):\n",
    "        if (drugpair[1] not in pos_drugs_mapped):\n",
    "            # All drugpairs are twice in the list ((a,b) and (b,a)), we only keep one\n",
    "            if drugpair[0] > drugpair[1]:\n",
    "                final_predictions.append(drugpair)\n",
    "\n",
    "print len(predicted_ddi)\n",
    "print len(final_predictions)                \n",
    "top_ddi = final_predictions[:200]\n",
    "#print top_ddi"
   ]
  },
  {
   "cell_type": "code",
   "execution_count": 68,
   "metadata": {},
   "outputs": [
    {
     "name": "stdout",
     "output_type": "stream",
     "text": [
      "(19137042, 800878)\n",
      "(19122121, 800878)\n",
      "Thalidomide Clozapine\n",
      "Insulin Clozapine\n"
     ]
    }
   ],
   "source": [
    "# Pull the top prediction\n",
    "pair = top_ddi[0]\n",
    "pair2 = top_ddi[1]\n",
    "#pair3 = top_ddi[2]\n",
    "#pair4 = top_ddi[3]\n",
    "print pair\n",
    "print pair2\n",
    "print concept2name[pair[0]], concept2name[pair[1]]\n",
    "print concept2name[pair2[0]], concept2name[pair2[1]]\n",
    "#print concept2name[pair3[0]], concept2name[pair3[1]]\n",
    "#print concept2name[pair4[0]], concept2name[pair4[1]]\n"
   ]
  },
  {
   "cell_type": "markdown",
   "metadata": {},
   "source": [
    "## Corroborate drugpair predictions using OHDSI data\n",
    "Analysis of the top predicted DDIs.\n",
    "Method: Creation of cohorts of patients using the OHDSI API.\n",
    "Criteria: Patients exposed to either drug of a predicted drugpair alone and patients exposed to both within a 7 days interval.\n",
    "All patients must have had their blood pressure measured within 30 days of their last drug intake (before and after). "
   ]
  },
  {
   "cell_type": "code",
   "execution_count": 68,
   "metadata": {
    "collapsed": true
   },
   "outputs": [],
   "source": [
    "map_id_name, map_name_id = ohdsi.mapping()"
   ]
  },
  {
   "cell_type": "code",
   "execution_count": 69,
   "metadata": {},
   "outputs": [
    {
     "name": "stderr",
     "output_type": "stream",
     "text": [
      "\r",
      "  0%|          | 0/200 [00:00<?, ?it/s]"
     ]
    },
    {
     "name": "stdout",
     "output_type": "stream",
     "text": [
      "A cohort with the same name already exists, please choose another name\n"
     ]
    },
    {
     "name": "stderr",
     "output_type": "stream",
     "text": [
      "\r",
      "  0%|          | 1/200 [00:03<10:10,  3.07s/it]"
     ]
    },
    {
     "name": "stdout",
     "output_type": "stream",
     "text": [
      "91\n",
      "Enough patients for cohort Calcium Carbonate_Enalapril\n",
      "A cohort with the same name already exists, please choose another name\n"
     ]
    },
    {
     "name": "stderr",
     "output_type": "stream",
     "text": [
      "\r",
      "  1%|          | 2/200 [00:06<10:52,  3.30s/it]"
     ]
    },
    {
     "name": "stdout",
     "output_type": "stream",
     "text": [
      "0\n",
      "Not enough patients for cohort Multivitamin preparation_Pravastatin\n",
      "Cohort was deleted with exit status 204 \n",
      "A cohort with the same name already exists, please choose another name\n"
     ]
    },
    {
     "name": "stderr",
     "output_type": "stream",
     "text": [
      "\r",
      "  2%|▏         | 3/200 [00:10<11:01,  3.36s/it]"
     ]
    },
    {
     "name": "stdout",
     "output_type": "stream",
     "text": [
      "0\n",
      "Not enough patients for cohort Multivitamin preparation_Estrogens, Conjugated (USP)\n",
      "Cohort was deleted with exit status 204 \n",
      "A cohort with the same name already exists, please choose another name\n"
     ]
    },
    {
     "name": "stderr",
     "output_type": "stream",
     "text": [
      "\r",
      "  2%|▏         | 4/200 [00:13<10:42,  3.28s/it]"
     ]
    },
    {
     "name": "stdout",
     "output_type": "stream",
     "text": [
      "6\n",
      "Not enough patients for cohort Vitamin D_Simvastatin\n",
      "Cohort was deleted with exit status 204 \n",
      "A cohort with the same name already exists, please choose another name\n"
     ]
    },
    {
     "name": "stderr",
     "output_type": "stream",
     "text": [
      "\r",
      "  2%|▎         | 5/200 [00:17<11:18,  3.48s/it]"
     ]
    },
    {
     "name": "stdout",
     "output_type": "stream",
     "text": [
      "5\n",
      "Not enough patients for cohort Vitamin D_Amlodipine\n",
      "Cohort was deleted with exit status 204 \n",
      "A cohort with the same name already exists, please choose another name\n"
     ]
    },
    {
     "name": "stderr",
     "output_type": "stream",
     "text": [
      "\r",
      "  3%|▎         | 6/200 [00:20<11:13,  3.47s/it]"
     ]
    },
    {
     "name": "stdout",
     "output_type": "stream",
     "text": [
      "4\n",
      "Not enough patients for cohort Vitamin D_Lisinopril\n",
      "Cohort was deleted with exit status 204 \n",
      "A cohort with the same name already exists, please choose another name\n"
     ]
    },
    {
     "name": "stderr",
     "output_type": "stream",
     "text": [
      "\r",
      "  4%|▎         | 7/200 [00:23<10:32,  3.28s/it]"
     ]
    },
    {
     "name": "stdout",
     "output_type": "stream",
     "text": [
      "3\n",
      "Not enough patients for cohort Vitamin D_Albuterol\n",
      "Cohort was deleted with exit status 204 \n",
      "A cohort with the same name already exists, please choose another name\n"
     ]
    },
    {
     "name": "stderr",
     "output_type": "stream",
     "text": [
      "\r",
      "  4%|▍         | 8/200 [00:26<10:02,  3.14s/it]"
     ]
    },
    {
     "name": "stdout",
     "output_type": "stream",
     "text": [
      "132\n",
      "Enough patients for cohort atorvastatin_Alprazolam\n",
      "A cohort with the same name already exists, please choose another name\n"
     ]
    },
    {
     "name": "stderr",
     "output_type": "stream",
     "text": [
      "\r",
      "  4%|▍         | 9/200 [00:30<10:25,  3.28s/it]"
     ]
    },
    {
     "name": "stdout",
     "output_type": "stream",
     "text": [
      "292\n",
      "Enough patients for cohort rosuvastatin_Lisinopril\n",
      "A cohort with the same name already exists, please choose another name\n"
     ]
    },
    {
     "name": "stderr",
     "output_type": "stream",
     "text": [
      "\r",
      "  5%|▌         | 10/200 [00:33<10:11,  3.22s/it]"
     ]
    },
    {
     "name": "stdout",
     "output_type": "stream",
     "text": [
      "1\n",
      "Not enough patients for cohort Folic Acid_infliximab\n",
      "Cohort was deleted with exit status 204 \n",
      "A cohort with the same name already exists, please choose another name\n"
     ]
    },
    {
     "name": "stderr",
     "output_type": "stream",
     "text": [
      "\r",
      "  6%|▌         | 11/200 [00:37<10:47,  3.43s/it]"
     ]
    },
    {
     "name": "stdout",
     "output_type": "stream",
     "text": [
      "0\n",
      "Not enough patients for cohort Calcium_Lisinopril\n",
      "Cohort was deleted with exit status 204 \n",
      "A cohort with the same name already exists, please choose another name\n"
     ]
    },
    {
     "name": "stderr",
     "output_type": "stream",
     "text": [
      "\r",
      "  6%|▌         | 12/200 [00:41<11:39,  3.72s/it]"
     ]
    },
    {
     "name": "stdout",
     "output_type": "stream",
     "text": [
      "13\n",
      "Not enough patients for cohort Ascorbic Acid_Enalapril\n",
      "Cohort was deleted with exit status 204 \n",
      "A cohort with the same name already exists, please choose another name\n"
     ]
    },
    {
     "name": "stderr",
     "output_type": "stream",
     "text": [
      "\r",
      "  6%|▋         | 13/200 [00:44<10:55,  3.51s/it]"
     ]
    },
    {
     "name": "stdout",
     "output_type": "stream",
     "text": [
      "7\n",
      "Not enough patients for cohort Vitamin A_levothyroxine\n",
      "Cohort was deleted with exit status 204 \n",
      "A cohort with the same name already exists, please choose another name\n"
     ]
    },
    {
     "name": "stderr",
     "output_type": "stream",
     "text": [
      "\r",
      "  7%|▋         | 14/200 [00:47<10:37,  3.43s/it]"
     ]
    },
    {
     "name": "stdout",
     "output_type": "stream",
     "text": [
      "2\n",
      "Not enough patients for cohort Vitamin A_Lisinopril\n",
      "Cohort was deleted with exit status 204 \n",
      "A cohort with the same name already exists, please choose another name\n"
     ]
    },
    {
     "name": "stderr",
     "output_type": "stream",
     "text": [
      "\r",
      "  8%|▊         | 15/200 [00:50<09:52,  3.20s/it]"
     ]
    },
    {
     "name": "stdout",
     "output_type": "stream",
     "text": [
      "111\n",
      "Enough patients for cohort Alendronate_Aspirin\n",
      "A cohort with the same name already exists, please choose another name\n"
     ]
    },
    {
     "name": "stderr",
     "output_type": "stream",
     "text": [
      "\r",
      "  8%|▊         | 16/200 [00:54<10:45,  3.51s/it]"
     ]
    },
    {
     "name": "stdout",
     "output_type": "stream",
     "text": [
      "1\n",
      "Not enough patients for cohort Alendronate_tiotropium\n",
      "Cohort was deleted with exit status 204 \n",
      "A cohort with the same name already exists, please choose another name\n"
     ]
    },
    {
     "name": "stderr",
     "output_type": "stream",
     "text": [
      "\r",
      "  8%|▊         | 17/200 [00:57<10:15,  3.36s/it]"
     ]
    },
    {
     "name": "stdout",
     "output_type": "stream",
     "text": [
      "363\n",
      "Enough patients for cohort Pravastatin_Aspirin\n",
      "A cohort with the same name already exists, please choose another name\n"
     ]
    },
    {
     "name": "stderr",
     "output_type": "stream",
     "text": [
      "\r",
      "  9%|▉         | 18/200 [01:01<10:13,  3.37s/it]"
     ]
    },
    {
     "name": "stdout",
     "output_type": "stream",
     "text": [
      "286\n",
      "Enough patients for cohort Estrogens, Conjugated (USP)_levothyroxine\n",
      "A cohort with the same name already exists, please choose another name\n"
     ]
    },
    {
     "name": "stderr",
     "output_type": "stream",
     "text": [
      "\r",
      " 10%|▉         | 19/200 [01:04<10:23,  3.45s/it]"
     ]
    },
    {
     "name": "stdout",
     "output_type": "stream",
     "text": [
      "1041\n",
      "Enough patients for cohort atorvastatin_Simvastatin\n",
      "A cohort with the same name already exists, please choose another name\n"
     ]
    },
    {
     "name": "stderr",
     "output_type": "stream",
     "text": [
      "\r",
      " 10%|█         | 20/200 [01:09<11:12,  3.73s/it]"
     ]
    },
    {
     "name": "stdout",
     "output_type": "stream",
     "text": [
      "392\n",
      "Enough patients for cohort Simvastatin_Digoxin\n",
      "A cohort with the same name already exists, please choose another name\n"
     ]
    },
    {
     "name": "stderr",
     "output_type": "stream",
     "text": [
      "\r",
      " 10%|█         | 21/200 [01:12<10:43,  3.59s/it]"
     ]
    },
    {
     "name": "stdout",
     "output_type": "stream",
     "text": [
      "726\n",
      "Enough patients for cohort Simvastatin_Hydrocodone\n",
      "A cohort with the same name already exists, please choose another name\n"
     ]
    },
    {
     "name": "stderr",
     "output_type": "stream",
     "text": [
      "\r",
      " 11%|█         | 22/200 [01:16<10:48,  3.64s/it]"
     ]
    },
    {
     "name": "stdout",
     "output_type": "stream",
     "text": [
      "171\n",
      "Enough patients for cohort Simvastatin_Esomeprazole\n",
      "A cohort with the same name already exists, please choose another name\n"
     ]
    },
    {
     "name": "stderr",
     "output_type": "stream",
     "text": [
      "\r",
      " 12%|█▏        | 23/200 [01:19<10:03,  3.41s/it]"
     ]
    },
    {
     "name": "stdout",
     "output_type": "stream",
     "text": [
      "152\n",
      "Enough patients for cohort Simvastatin_Diazepam\n",
      "A cohort with the same name already exists, please choose another name\n"
     ]
    },
    {
     "name": "stderr",
     "output_type": "stream",
     "text": [
      "\r",
      " 12%|█▏        | 24/200 [01:22<10:05,  3.44s/it]"
     ]
    },
    {
     "name": "stdout",
     "output_type": "stream",
     "text": [
      "183\n",
      "Enough patients for cohort ezetimibe_Metoprolol\n",
      "A cohort with the same name already exists, please choose another name\n"
     ]
    },
    {
     "name": "stderr",
     "output_type": "stream",
     "text": [
      "\r",
      " 12%|█▎        | 25/200 [01:25<09:49,  3.37s/it]"
     ]
    },
    {
     "name": "stdout",
     "output_type": "stream",
     "text": [
      "169\n",
      "Enough patients for cohort ezetimibe_Aspirin\n",
      "A cohort with the same name already exists, please choose another name\n"
     ]
    },
    {
     "name": "stderr",
     "output_type": "stream",
     "text": [
      "\r",
      " 13%|█▎        | 26/200 [01:29<09:57,  3.44s/it]"
     ]
    },
    {
     "name": "stdout",
     "output_type": "stream",
     "text": [
      "11\n",
      "Not enough patients for cohort Teriparatide_Ranitidine\n",
      "Cohort was deleted with exit status 204 \n",
      "A cohort with the same name already exists, please choose another name\n"
     ]
    },
    {
     "name": "stderr",
     "output_type": "stream",
     "text": [
      "\r",
      " 14%|█▎        | 27/200 [01:32<09:48,  3.40s/it]"
     ]
    },
    {
     "name": "stdout",
     "output_type": "stream",
     "text": [
      "233\n",
      "Enough patients for cohort levothyroxine_Ranitidine\n",
      "A cohort with the same name already exists, please choose another name\n"
     ]
    },
    {
     "name": "stderr",
     "output_type": "stream",
     "text": [
      "\r",
      " 14%|█▍        | 28/200 [01:36<10:11,  3.55s/it]"
     ]
    },
    {
     "name": "stdout",
     "output_type": "stream",
     "text": [
      "161\n",
      "Enough patients for cohort Clonidine_Aspirin\n",
      "A cohort with the same name already exists, please choose another name\n"
     ]
    },
    {
     "name": "stderr",
     "output_type": "stream",
     "text": [
      "\r",
      " 14%|█▍        | 29/200 [01:39<09:46,  3.43s/it]"
     ]
    },
    {
     "name": "stdout",
     "output_type": "stream",
     "text": [
      "176\n",
      "Enough patients for cohort Losartan_Aspirin\n",
      "A cohort with the same name already exists, please choose another name\n"
     ]
    },
    {
     "name": "stderr",
     "output_type": "stream",
     "text": [
      "\r",
      " 15%|█▌        | 30/200 [01:43<09:46,  3.45s/it]"
     ]
    },
    {
     "name": "stdout",
     "output_type": "stream",
     "text": [
      "185\n",
      "Enough patients for cohort Ramipril_Aspirin\n",
      "A cohort with the same name already exists, please choose another name\n"
     ]
    },
    {
     "name": "stderr",
     "output_type": "stream",
     "text": [
      "\r",
      " 16%|█▌        | 31/200 [01:46<09:43,  3.45s/it]"
     ]
    },
    {
     "name": "stdout",
     "output_type": "stream",
     "text": [
      "745\n",
      "Enough patients for cohort Amlodipine_Lisinopril\n",
      "A cohort with the same name already exists, please choose another name\n"
     ]
    },
    {
     "name": "stderr",
     "output_type": "stream",
     "text": [
      "\r",
      " 16%|█▌        | 32/200 [01:50<10:05,  3.60s/it]"
     ]
    },
    {
     "name": "stdout",
     "output_type": "stream",
     "text": [
      "114\n",
      "Enough patients for cohort Amlodipine_Esomeprazole\n",
      "A cohort with the same name already exists, please choose another name\n"
     ]
    },
    {
     "name": "stderr",
     "output_type": "stream",
     "text": [
      "\r",
      " 16%|█▋        | 33/200 [01:53<09:32,  3.43s/it]"
     ]
    },
    {
     "name": "stdout",
     "output_type": "stream",
     "text": [
      "144\n",
      "Enough patients for cohort Lisinopril_Clonazepam\n",
      "A cohort with the same name already exists, please choose another name\n"
     ]
    },
    {
     "name": "stderr",
     "output_type": "stream",
     "text": [
      "\r",
      " 17%|█▋        | 34/200 [01:57<09:36,  3.47s/it]"
     ]
    },
    {
     "name": "stdout",
     "output_type": "stream",
     "text": [
      "32\n",
      "Enough patients for cohort Lisinopril_Escitalopram\n",
      "A cohort with the same name already exists, please choose another name\n"
     ]
    },
    {
     "name": "stderr",
     "output_type": "stream",
     "text": [
      "\r",
      " 18%|█▊        | 35/200 [02:00<09:36,  3.50s/it]"
     ]
    },
    {
     "name": "stdout",
     "output_type": "stream",
     "text": [
      "89\n",
      "Enough patients for cohort Metoprolol_Clonazepam\n",
      "A cohort with the same name already exists, please choose another name\n"
     ]
    },
    {
     "name": "stderr",
     "output_type": "stream",
     "text": [
      "\r",
      " 18%|█▊        | 36/200 [02:04<09:27,  3.46s/it]"
     ]
    },
    {
     "name": "stdout",
     "output_type": "stream",
     "text": [
      "46\n",
      "Enough patients for cohort Metoprolol_duloxetine\n",
      "A cohort with the same name already exists, please choose another name\n"
     ]
    },
    {
     "name": "stderr",
     "output_type": "stream",
     "text": [
      "\r",
      " 18%|█▊        | 37/200 [02:08<09:55,  3.65s/it]"
     ]
    },
    {
     "name": "stdout",
     "output_type": "stream",
     "text": [
      "148\n",
      "Enough patients for cohort Hydrocodone_Clonazepam\n",
      "A cohort with the same name already exists, please choose another name\n"
     ]
    },
    {
     "name": "stderr",
     "output_type": "stream",
     "text": [
      "\r",
      " 19%|█▉        | 38/200 [02:11<09:51,  3.65s/it]"
     ]
    },
    {
     "name": "stdout",
     "output_type": "stream",
     "text": [
      "151\n",
      "Enough patients for cohort Hydrocodone_Diazepam\n",
      "A cohort with the same name already exists, please choose another name\n"
     ]
    },
    {
     "name": "stderr",
     "output_type": "stream",
     "text": [
      "\r",
      " 20%|█▉        | 39/200 [02:14<09:14,  3.44s/it]"
     ]
    },
    {
     "name": "stdout",
     "output_type": "stream",
     "text": [
      "13\n",
      "Not enough patients for cohort Esomeprazole_Escitalopram\n",
      "Cohort was deleted with exit status 204 \n",
      "A cohort with the same name already exists, please choose another name\n"
     ]
    },
    {
     "name": "stderr",
     "output_type": "stream",
     "text": [
      "\r",
      " 20%|██        | 40/200 [02:18<09:10,  3.44s/it]"
     ]
    },
    {
     "name": "stdout",
     "output_type": "stream",
     "text": [
      "0\n",
      "Not enough patients for cohort telaprevir_levothyroxine\n",
      "Cohort was deleted with exit status 204 \n",
      "A cohort with the same name already exists, please choose another name\n"
     ]
    },
    {
     "name": "stderr",
     "output_type": "stream",
     "text": [
      "\r",
      " 20%|██        | 41/200 [02:21<09:17,  3.50s/it]"
     ]
    },
    {
     "name": "stdout",
     "output_type": "stream",
     "text": [
      "0\n",
      "Not enough patients for cohort Insulin_Amlodipine\n",
      "Cohort was deleted with exit status 204 \n",
      "A cohort with the same name already exists, please choose another name\n"
     ]
    },
    {
     "name": "stderr",
     "output_type": "stream",
     "text": [
      "\r",
      " 21%|██        | 42/200 [02:25<09:21,  3.56s/it]"
     ]
    },
    {
     "name": "stdout",
     "output_type": "stream",
     "text": [
      "0\n",
      "Not enough patients for cohort Folic Acid_Calcium\n",
      "Cohort was deleted with exit status 204 \n",
      "A cohort with the same name already exists, please choose another name\n"
     ]
    },
    {
     "name": "stderr",
     "output_type": "stream",
     "text": [
      "\r",
      " 22%|██▏       | 43/200 [02:28<09:10,  3.51s/it]"
     ]
    },
    {
     "name": "stdout",
     "output_type": "stream",
     "text": [
      "2\n",
      "Not enough patients for cohort Folic Acid_Vitamin D\n",
      "Cohort was deleted with exit status 204 \n",
      "A cohort with the same name already exists, please choose another name\n"
     ]
    },
    {
     "name": "stderr",
     "output_type": "stream",
     "text": [
      "\r",
      " 22%|██▏       | 44/200 [02:32<08:55,  3.44s/it]"
     ]
    },
    {
     "name": "stdout",
     "output_type": "stream",
     "text": [
      "2\n",
      "Not enough patients for cohort peginterferon alfa-2a_levothyroxine\n",
      "Cohort was deleted with exit status 204 \n",
      "A cohort with the same name already exists, please choose another name\n"
     ]
    },
    {
     "name": "stderr",
     "output_type": "stream",
     "text": [
      "\r",
      " 22%|██▎       | 45/200 [02:35<08:55,  3.45s/it]"
     ]
    },
    {
     "name": "stdout",
     "output_type": "stream",
     "text": [
      "46\n",
      "Enough patients for cohort Alendronate_Ramipril\n",
      "A cohort with the same name already exists, please choose another name\n"
     ]
    },
    {
     "name": "stderr",
     "output_type": "stream",
     "text": [
      "\r",
      " 23%|██▎       | 46/200 [02:39<08:54,  3.47s/it]"
     ]
    },
    {
     "name": "stdout",
     "output_type": "stream",
     "text": [
      "206\n",
      "Enough patients for cohort Simvastatin_Nitroglycerin\n",
      "A cohort with the same name already exists, please choose another name\n"
     ]
    },
    {
     "name": "stderr",
     "output_type": "stream",
     "text": [
      "\r",
      " 24%|██▎       | 47/200 [02:42<09:01,  3.54s/it]"
     ]
    },
    {
     "name": "stdout",
     "output_type": "stream",
     "text": [
      "173\n",
      "Enough patients for cohort Clonidine_Amlodipine\n",
      "A cohort with the same name already exists, please choose another name\n"
     ]
    },
    {
     "name": "stderr",
     "output_type": "stream",
     "text": [
      "\r",
      " 24%|██▍       | 48/200 [02:46<09:10,  3.62s/it]"
     ]
    },
    {
     "name": "stdout",
     "output_type": "stream",
     "text": [
      "183\n",
      "Enough patients for cohort Clonidine_Metoprolol\n",
      "A cohort with the same name already exists, please choose another name\n"
     ]
    },
    {
     "name": "stderr",
     "output_type": "stream",
     "text": [
      "\r",
      " 24%|██▍       | 49/200 [02:50<09:06,  3.62s/it]"
     ]
    },
    {
     "name": "stdout",
     "output_type": "stream",
     "text": [
      "339\n",
      "Enough patients for cohort Nitroglycerin_Lisinopril\n",
      "A cohort with the same name already exists, please choose another name\n"
     ]
    },
    {
     "name": "stderr",
     "output_type": "stream",
     "text": [
      "\r",
      " 25%|██▌       | 50/200 [02:53<08:35,  3.44s/it]"
     ]
    },
    {
     "name": "stdout",
     "output_type": "stream",
     "text": [
      "231\n",
      "Enough patients for cohort Nitroglycerin_Furosemide\n",
      "A cohort with the same name already exists, please choose another name\n"
     ]
    },
    {
     "name": "stderr",
     "output_type": "stream",
     "text": [
      "\r",
      " 26%|██▌       | 51/200 [02:56<08:26,  3.40s/it]"
     ]
    },
    {
     "name": "stdout",
     "output_type": "stream",
     "text": [
      "205\n",
      "Enough patients for cohort Metoprolol_Ranitidine\n",
      "A cohort with the same name already exists, please choose another name\n"
     ]
    },
    {
     "name": "stderr",
     "output_type": "stream",
     "text": [
      "\r",
      " 26%|██▌       | 52/200 [03:00<08:34,  3.48s/it]"
     ]
    },
    {
     "name": "stdout",
     "output_type": "stream",
     "text": [
      "4\n",
      "Not enough patients for cohort Methotrexate_infliximab\n",
      "Cohort was deleted with exit status 204 \n",
      "A cohort with the same name already exists, please choose another name\n"
     ]
    },
    {
     "name": "stderr",
     "output_type": "stream",
     "text": [
      "\r",
      " 26%|██▋       | 53/200 [03:03<08:29,  3.47s/it]"
     ]
    },
    {
     "name": "stdout",
     "output_type": "stream",
     "text": [
      "102\n",
      "Enough patients for cohort Albuterol_Esomeprazole\n",
      "A cohort with the same name already exists, please choose another name\n"
     ]
    },
    {
     "name": "stderr",
     "output_type": "stream",
     "text": [
      "\r",
      " 27%|██▋       | 54/200 [03:07<08:23,  3.45s/it]"
     ]
    },
    {
     "name": "stdout",
     "output_type": "stream",
     "text": [
      "233\n",
      "Enough patients for cohort olmesartan_Aspirin\n",
      "A cohort with the same name already exists, please choose another name\n"
     ]
    },
    {
     "name": "stderr",
     "output_type": "stream",
     "text": [
      "\r",
      " 28%|██▊       | 55/200 [03:11<08:48,  3.64s/it]"
     ]
    },
    {
     "name": "stdout",
     "output_type": "stream",
     "text": [
      "0\n",
      "Not enough patients for cohort Multivitamin preparation_Digoxin\n",
      "Cohort was deleted with exit status 204 \n",
      "A cohort with the same name already exists, please choose another name\n"
     ]
    },
    {
     "name": "stderr",
     "output_type": "stream",
     "text": [
      "\r",
      " 28%|██▊       | 56/200 [03:14<08:21,  3.49s/it]"
     ]
    },
    {
     "name": "stdout",
     "output_type": "stream",
     "text": [
      "0\n",
      "Not enough patients for cohort Multivitamin preparation_Lisinopril\n",
      "Cohort was deleted with exit status 204 \n",
      "A cohort with the same name already exists, please choose another name\n"
     ]
    },
    {
     "name": "stderr",
     "output_type": "stream",
     "text": [
      "\r",
      " 28%|██▊       | 57/200 [03:17<08:10,  3.43s/it]"
     ]
    },
    {
     "name": "stdout",
     "output_type": "stream",
     "text": [
      "0\n",
      "Not enough patients for cohort Multivitamin preparation_Metoprolol\n",
      "Cohort was deleted with exit status 204 \n",
      "A cohort with the same name already exists, please choose another name\n"
     ]
    },
    {
     "name": "stderr",
     "output_type": "stream",
     "text": [
      "\r",
      " 29%|██▉       | 58/200 [03:21<08:17,  3.50s/it]"
     ]
    },
    {
     "name": "stdout",
     "output_type": "stream",
     "text": [
      "0\n",
      "Not enough patients for cohort Multivitamin preparation_Methotrexate\n",
      "Cohort was deleted with exit status 204 \n",
      "A cohort with the same name already exists, please choose another name\n"
     ]
    },
    {
     "name": "stderr",
     "output_type": "stream",
     "text": [
      "\r",
      " 30%|██▉       | 59/200 [03:25<08:24,  3.58s/it]"
     ]
    },
    {
     "name": "stdout",
     "output_type": "stream",
     "text": [
      "0\n",
      "Not enough patients for cohort Multivitamin preparation_Hydrocodone\n",
      "Cohort was deleted with exit status 204 \n",
      "A cohort with the same name already exists, please choose another name\n"
     ]
    },
    {
     "name": "stderr",
     "output_type": "stream",
     "text": [
      "\r",
      " 30%|███       | 60/200 [03:29<08:39,  3.71s/it]"
     ]
    },
    {
     "name": "stdout",
     "output_type": "stream",
     "text": [
      "0\n",
      "Not enough patients for cohort Multivitamin preparation_Aspirin\n",
      "Cohort was deleted with exit status 204 \n",
      "A cohort with the same name already exists, please choose another name\n"
     ]
    },
    {
     "name": "stderr",
     "output_type": "stream",
     "text": [
      "\r",
      " 30%|███       | 61/200 [03:33<08:44,  3.77s/it]"
     ]
    },
    {
     "name": "stdout",
     "output_type": "stream",
     "text": [
      "31\n",
      "Enough patients for cohort Folic Acid_atorvastatin\n",
      "A cohort with the same name already exists, please choose another name\n"
     ]
    },
    {
     "name": "stderr",
     "output_type": "stream",
     "text": [
      "\r",
      " 31%|███       | 62/200 [03:36<08:10,  3.55s/it]"
     ]
    },
    {
     "name": "stdout",
     "output_type": "stream",
     "text": [
      "99\n",
      "Enough patients for cohort Folic Acid_levothyroxine\n",
      "A cohort with the same name already exists, please choose another name\n"
     ]
    },
    {
     "name": "stderr",
     "output_type": "stream",
     "text": [
      "\r",
      " 32%|███▏      | 63/200 [03:39<08:11,  3.59s/it]"
     ]
    },
    {
     "name": "stdout",
     "output_type": "stream",
     "text": [
      "33\n",
      "Enough patients for cohort Folic Acid_Amlodipine\n",
      "A cohort with the same name already exists, please choose another name\n"
     ]
    },
    {
     "name": "stderr",
     "output_type": "stream",
     "text": [
      "\r",
      " 32%|███▏      | 64/200 [03:42<07:41,  3.39s/it]"
     ]
    },
    {
     "name": "stdout",
     "output_type": "stream",
     "text": [
      "12\n",
      "Not enough patients for cohort Folic Acid_Esomeprazole\n",
      "Cohort was deleted with exit status 204 \n",
      "A cohort with the same name already exists, please choose another name\n"
     ]
    },
    {
     "name": "stderr",
     "output_type": "stream",
     "text": [
      "\r",
      " 32%|███▎      | 65/200 [03:45<07:28,  3.32s/it]"
     ]
    },
    {
     "name": "stdout",
     "output_type": "stream",
     "text": [
      "12\n",
      "Not enough patients for cohort Folic Acid_Alprazolam\n",
      "Cohort was deleted with exit status 204 \n",
      "A cohort with the same name already exists, please choose another name\n"
     ]
    },
    {
     "name": "stderr",
     "output_type": "stream",
     "text": [
      "\r",
      " 33%|███▎      | 66/200 [03:49<07:49,  3.51s/it]"
     ]
    },
    {
     "name": "stdout",
     "output_type": "stream",
     "text": [
      "115\n",
      "Enough patients for cohort Calcium Carbonate_Aspirin\n",
      "A cohort with the same name already exists, please choose another name\n"
     ]
    },
    {
     "name": "stderr",
     "output_type": "stream",
     "text": [
      "\r",
      " 34%|███▎      | 67/200 [03:53<07:39,  3.45s/it]"
     ]
    },
    {
     "name": "stdout",
     "output_type": "stream",
     "text": [
      "0\n",
      "Not enough patients for cohort Calcium_Vitamin D\n",
      "Cohort was deleted with exit status 204 \n",
      "A cohort with the same name already exists, please choose another name\n"
     ]
    },
    {
     "name": "stderr",
     "output_type": "stream",
     "text": [
      "\r",
      " 34%|███▍      | 68/200 [03:56<07:42,  3.50s/it]"
     ]
    },
    {
     "name": "stdout",
     "output_type": "stream",
     "text": [
      "0\n",
      "Not enough patients for cohort Calcium_Simvastatin\n",
      "Cohort was deleted with exit status 204 \n",
      "A cohort with the same name already exists, please choose another name\n"
     ]
    },
    {
     "name": "stderr",
     "output_type": "stream",
     "text": [
      "\r",
      " 34%|███▍      | 69/200 [03:59<07:24,  3.39s/it]"
     ]
    },
    {
     "name": "stdout",
     "output_type": "stream",
     "text": [
      "0\n",
      "Not enough patients for cohort Calcium_Metoprolol\n",
      "Cohort was deleted with exit status 204 \n",
      "A cohort with the same name already exists, please choose another name\n"
     ]
    },
    {
     "name": "stderr",
     "output_type": "stream",
     "text": [
      "\r",
      " 35%|███▌      | 70/200 [04:03<07:26,  3.43s/it]"
     ]
    },
    {
     "name": "stdout",
     "output_type": "stream",
     "text": [
      "0\n",
      "Not enough patients for cohort Calcium_Aspirin\n",
      "Cohort was deleted with exit status 204 \n",
      "A cohort with the same name already exists, please choose another name\n"
     ]
    },
    {
     "name": "stderr",
     "output_type": "stream",
     "text": [
      "\r",
      " 36%|███▌      | 71/200 [04:07<07:49,  3.64s/it]"
     ]
    },
    {
     "name": "stdout",
     "output_type": "stream",
     "text": [
      "21\n",
      "Not enough patients for cohort Ascorbic Acid_Aspirin\n",
      "Cohort was deleted with exit status 204 \n",
      "A cohort with the same name already exists, please choose another name\n"
     ]
    },
    {
     "name": "stderr",
     "output_type": "stream",
     "text": [
      "\r",
      " 36%|███▌      | 72/200 [04:10<07:23,  3.47s/it]"
     ]
    },
    {
     "name": "stdout",
     "output_type": "stream",
     "text": [
      "7\n",
      "Not enough patients for cohort Vitamin D_levothyroxine\n",
      "Cohort was deleted with exit status 204 \n",
      "A cohort with the same name already exists, please choose another name\n"
     ]
    },
    {
     "name": "stderr",
     "output_type": "stream",
     "text": [
      "\r",
      " 36%|███▋      | 73/200 [04:13<07:12,  3.41s/it]"
     ]
    },
    {
     "name": "stdout",
     "output_type": "stream",
     "text": [
      "7\n",
      "Not enough patients for cohort Vitamin D_Metoprolol\n",
      "Cohort was deleted with exit status 204 \n",
      "A cohort with the same name already exists, please choose another name\n"
     ]
    },
    {
     "name": "stderr",
     "output_type": "stream",
     "text": [
      "\r",
      " 37%|███▋      | 74/200 [04:17<07:19,  3.49s/it]"
     ]
    },
    {
     "name": "stdout",
     "output_type": "stream",
     "text": [
      "1061\n",
      "Enough patients for cohort atorvastatin_levothyroxine\n",
      "A cohort with the same name already exists, please choose another name\n"
     ]
    },
    {
     "name": "stderr",
     "output_type": "stream",
     "text": [
      "\r",
      " 38%|███▊      | 75/200 [04:21<07:23,  3.55s/it]"
     ]
    },
    {
     "name": "stdout",
     "output_type": "stream",
     "text": [
      "613\n",
      "Enough patients for cohort atorvastatin_Hydrocodone\n",
      "A cohort with the same name already exists, please choose another name\n"
     ]
    },
    {
     "name": "stderr",
     "output_type": "stream",
     "text": [
      "\r",
      " 38%|███▊      | 76/200 [04:24<07:14,  3.51s/it]"
     ]
    },
    {
     "name": "stdout",
     "output_type": "stream",
     "text": [
      "36\n",
      "Enough patients for cohort atorvastatin_duloxetine\n",
      "A cohort with the same name already exists, please choose another name\n"
     ]
    },
    {
     "name": "stderr",
     "output_type": "stream",
     "text": [
      "\r",
      " 38%|███▊      | 77/200 [04:28<07:05,  3.46s/it]"
     ]
    },
    {
     "name": "stdout",
     "output_type": "stream",
     "text": [
      "615\n",
      "Enough patients for cohort levothyroxine_Metoprolol\n",
      "A cohort with the same name already exists, please choose another name\n"
     ]
    },
    {
     "name": "stderr",
     "output_type": "stream",
     "text": [
      "\r",
      " 39%|███▉      | 78/200 [04:31<07:04,  3.48s/it]"
     ]
    },
    {
     "name": "stdout",
     "output_type": "stream",
     "text": [
      "749\n",
      "Enough patients for cohort levothyroxine_Hydrocodone\n",
      "A cohort with the same name already exists, please choose another name\n"
     ]
    },
    {
     "name": "stderr",
     "output_type": "stream",
     "text": [
      "\r",
      " 40%|███▉      | 79/200 [04:35<07:17,  3.62s/it]"
     ]
    },
    {
     "name": "stdout",
     "output_type": "stream",
     "text": [
      "192\n",
      "Enough patients for cohort levothyroxine_Alprazolam\n",
      "A cohort with the same name already exists, please choose another name\n"
     ]
    },
    {
     "name": "stderr",
     "output_type": "stream",
     "text": [
      "\r",
      " 40%|████      | 80/200 [04:38<06:49,  3.41s/it]"
     ]
    },
    {
     "name": "stdout",
     "output_type": "stream",
     "text": [
      "36\n",
      "Enough patients for cohort Paclitaxel_Hydrocodone\n",
      "A cohort with the same name already exists, please choose another name\n"
     ]
    },
    {
     "name": "stderr",
     "output_type": "stream",
     "text": [
      "\r",
      " 40%|████      | 81/200 [04:46<09:44,  4.91s/it]"
     ]
    },
    {
     "name": "stdout",
     "output_type": "stream",
     "text": [
      "287\n",
      "Enough patients for cohort valsartan_Aspirin\n",
      "A cohort with the same name already exists, please choose another name\n"
     ]
    },
    {
     "name": "stderr",
     "output_type": "stream",
     "text": [
      "\r",
      " 41%|████      | 82/200 [04:49<08:27,  4.30s/it]"
     ]
    },
    {
     "name": "stdout",
     "output_type": "stream",
     "text": [
      "371\n",
      "Enough patients for cohort Lisinopril_Albuterol\n",
      "A cohort with the same name already exists, please choose another name\n"
     ]
    },
    {
     "name": "stderr",
     "output_type": "stream",
     "text": [
      "\r",
      " 42%|████▏     | 83/200 [04:52<07:45,  3.98s/it]"
     ]
    },
    {
     "name": "stdout",
     "output_type": "stream",
     "text": [
      "326\n",
      "Enough patients for cohort Metoprolol_Albuterol\n",
      "A cohort with the same name already exists, please choose another name\n"
     ]
    },
    {
     "name": "stderr",
     "output_type": "stream",
     "text": [
      "\r",
      " 42%|████▏     | 84/200 [04:56<07:22,  3.82s/it]"
     ]
    },
    {
     "name": "stdout",
     "output_type": "stream",
     "text": [
      "384\n",
      "Enough patients for cohort Hydrocodone_Albuterol\n",
      "A cohort with the same name already exists, please choose another name\n"
     ]
    },
    {
     "name": "stderr",
     "output_type": "stream",
     "text": [
      "\r",
      " 42%|████▎     | 85/200 [04:59<06:38,  3.47s/it]"
     ]
    },
    {
     "name": "stdout",
     "output_type": "stream",
     "text": [
      "572\n",
      "Enough patients for cohort Hydrocodone_Aspirin\n",
      "A cohort with the same name already exists, please choose another name\n"
     ]
    },
    {
     "name": "stderr",
     "output_type": "stream",
     "text": [
      "\r",
      " 43%|████▎     | 86/200 [05:02<06:32,  3.45s/it]"
     ]
    },
    {
     "name": "stdout",
     "output_type": "stream",
     "text": [
      "579\n",
      "Enough patients for cohort Hydrocodone_Furosemide\n",
      "A cohort with the same name already exists, please choose another name\n"
     ]
    },
    {
     "name": "stderr",
     "output_type": "stream",
     "text": [
      "\r",
      " 44%|████▎     | 87/200 [05:05<06:29,  3.45s/it]"
     ]
    },
    {
     "name": "stdout",
     "output_type": "stream",
     "text": [
      "3\n",
      "Not enough patients for cohort Albuterol_tiotropium\n",
      "Cohort was deleted with exit status 204 \n",
      "A cohort with the same name already exists, please choose another name\n"
     ]
    },
    {
     "name": "stderr",
     "output_type": "stream",
     "text": [
      "\r",
      " 44%|████▍     | 88/200 [05:09<06:30,  3.49s/it]"
     ]
    },
    {
     "name": "stdout",
     "output_type": "stream",
     "text": [
      "96\n",
      "Enough patients for cohort Albuterol_Clonazepam\n",
      "A cohort with the same name already exists, please choose another name\n"
     ]
    },
    {
     "name": "stderr",
     "output_type": "stream",
     "text": [
      "\r",
      " 44%|████▍     | 89/200 [05:12<06:28,  3.50s/it]"
     ]
    },
    {
     "name": "stdout",
     "output_type": "stream",
     "text": [
      "36\n",
      "Enough patients for cohort Aspirin_Escitalopram\n",
      "A cohort with the same name already exists, please choose another name\n"
     ]
    },
    {
     "name": "stderr",
     "output_type": "stream",
     "text": [
      "\r",
      " 45%|████▌     | 90/200 [05:16<06:22,  3.48s/it]"
     ]
    },
    {
     "name": "stdout",
     "output_type": "stream",
     "text": [
      "0\n",
      "Not enough patients for cohort Multivitamin preparation_Calcium Carbonate\n",
      "Cohort was deleted with exit status 204 \n",
      "A cohort with the same name already exists, please choose another name\n"
     ]
    },
    {
     "name": "stderr",
     "output_type": "stream",
     "text": [
      "\r",
      " 46%|████▌     | 91/200 [05:19<06:19,  3.48s/it]"
     ]
    },
    {
     "name": "stdout",
     "output_type": "stream",
     "text": [
      "0\n",
      "Not enough patients for cohort Multivitamin preparation_Ascorbic Acid\n",
      "Cohort was deleted with exit status 204 \n",
      "A cohort with the same name already exists, please choose another name\n"
     ]
    },
    {
     "name": "stderr",
     "output_type": "stream",
     "text": [
      "\r",
      " 46%|████▌     | 92/200 [05:23<06:23,  3.55s/it]"
     ]
    },
    {
     "name": "stdout",
     "output_type": "stream",
     "text": [
      "0\n",
      "Not enough patients for cohort Multivitamin preparation_Alendronate\n",
      "Cohort was deleted with exit status 204 \n",
      "A cohort with the same name already exists, please choose another name\n"
     ]
    },
    {
     "name": "stderr",
     "output_type": "stream",
     "text": [
      "\r",
      " 46%|████▋     | 93/200 [05:27<06:27,  3.63s/it]"
     ]
    },
    {
     "name": "stdout",
     "output_type": "stream",
     "text": [
      "0\n",
      "Not enough patients for cohort Multivitamin preparation_atorvastatin\n",
      "Cohort was deleted with exit status 204 \n",
      "A cohort with the same name already exists, please choose another name\n"
     ]
    },
    {
     "name": "stderr",
     "output_type": "stream",
     "text": [
      "\r",
      " 47%|████▋     | 94/200 [05:31<06:32,  3.70s/it]"
     ]
    },
    {
     "name": "stdout",
     "output_type": "stream",
     "text": [
      "0\n",
      "Not enough patients for cohort Multivitamin preparation_Simvastatin\n",
      "Cohort was deleted with exit status 204 \n",
      "A cohort with the same name already exists, please choose another name\n"
     ]
    },
    {
     "name": "stderr",
     "output_type": "stream",
     "text": [
      "\r",
      " 48%|████▊     | 95/200 [05:35<06:54,  3.95s/it]"
     ]
    },
    {
     "name": "stdout",
     "output_type": "stream",
     "text": [
      "0\n",
      "Not enough patients for cohort Multivitamin preparation_levothyroxine\n",
      "Cohort was deleted with exit status 204 \n",
      "A cohort with the same name already exists, please choose another name\n"
     ]
    },
    {
     "name": "stderr",
     "output_type": "stream",
     "text": [
      "\r",
      " 48%|████▊     | 96/200 [05:41<07:30,  4.33s/it]"
     ]
    },
    {
     "name": "stdout",
     "output_type": "stream",
     "text": [
      "0\n",
      "Not enough patients for cohort Multivitamin preparation_Albuterol\n",
      "Cohort was deleted with exit status 204 \n",
      "A cohort with the same name already exists, please choose another name\n"
     ]
    },
    {
     "name": "stderr",
     "output_type": "stream",
     "text": [
      "\r",
      " 48%|████▊     | 97/200 [05:44<07:01,  4.09s/it]"
     ]
    },
    {
     "name": "stdout",
     "output_type": "stream",
     "text": [
      "0\n",
      "Not enough patients for cohort Multivitamin preparation_Diphenhydramine\n",
      "Cohort was deleted with exit status 204 \n",
      "A cohort with the same name already exists, please choose another name\n"
     ]
    },
    {
     "name": "stderr",
     "output_type": "stream",
     "text": [
      "\r",
      " 49%|████▉     | 98/200 [05:48<06:39,  3.92s/it]"
     ]
    },
    {
     "name": "stdout",
     "output_type": "stream",
     "text": [
      "0\n",
      "Not enough patients for cohort Multivitamin preparation_Alprazolam\n",
      "Cohort was deleted with exit status 204 \n",
      "A cohort with the same name already exists, please choose another name\n"
     ]
    },
    {
     "name": "stderr",
     "output_type": "stream",
     "text": [
      "\r",
      " 50%|████▉     | 99/200 [05:51<06:21,  3.78s/it]"
     ]
    },
    {
     "name": "stdout",
     "output_type": "stream",
     "text": [
      "0\n",
      "Not enough patients for cohort Multivitamin preparation_Diazepam\n",
      "Cohort was deleted with exit status 204 \n",
      "A cohort with the same name already exists, please choose another name\n"
     ]
    },
    {
     "name": "stderr",
     "output_type": "stream",
     "text": [
      "\r",
      " 50%|█████     | 100/200 [05:54<06:07,  3.68s/it]"
     ]
    },
    {
     "name": "stdout",
     "output_type": "stream",
     "text": [
      "0\n",
      "Not enough patients for cohort Insulin_Simvastatin\n",
      "Cohort was deleted with exit status 204 \n",
      "A cohort with the same name already exists, please choose another name\n"
     ]
    },
    {
     "name": "stderr",
     "output_type": "stream",
     "text": [
      "\r",
      " 50%|█████     | 101/200 [05:59<06:17,  3.81s/it]"
     ]
    },
    {
     "name": "stdout",
     "output_type": "stream",
     "text": [
      "0\n",
      "Not enough patients for cohort Insulin_Metoprolol\n",
      "Cohort was deleted with exit status 204 \n",
      "A cohort with the same name already exists, please choose another name\n"
     ]
    },
    {
     "name": "stderr",
     "output_type": "stream",
     "text": [
      "\r",
      " 51%|█████     | 102/200 [06:02<05:47,  3.54s/it]"
     ]
    },
    {
     "name": "stdout",
     "output_type": "stream",
     "text": [
      "0\n",
      "Not enough patients for cohort Folic Acid_Simvastatin\n",
      "Cohort was deleted with exit status 204 \n",
      "A cohort with the same name already exists, please choose another name\n"
     ]
    },
    {
     "name": "stderr",
     "output_type": "stream",
     "text": [
      "\r",
      " 52%|█████▏    | 103/200 [06:06<06:08,  3.80s/it]"
     ]
    },
    {
     "name": "stdout",
     "output_type": "stream",
     "text": [
      "0\n",
      "Not enough patients for cohort Folic Acid_Lisinopril\n",
      "Cohort was deleted with exit status 204 \n",
      "A cohort with the same name already exists, please choose another name\n"
     ]
    },
    {
     "name": "stderr",
     "output_type": "stream",
     "text": [
      "\r",
      " 52%|█████▏    | 104/200 [06:09<05:39,  3.53s/it]"
     ]
    },
    {
     "name": "stdout",
     "output_type": "stream",
     "text": [
      "0\n",
      "Not enough patients for cohort Folic Acid_Hydrocodone\n",
      "Cohort was deleted with exit status 204 \n",
      "A cohort with the same name already exists, please choose another name\n"
     ]
    },
    {
     "name": "stderr",
     "output_type": "stream",
     "text": [
      "\r",
      " 52%|█████▎    | 105/200 [06:12<05:33,  3.51s/it]"
     ]
    },
    {
     "name": "stdout",
     "output_type": "stream",
     "text": [
      "0\n",
      "Not enough patients for cohort Folic Acid_Albuterol\n",
      "Cohort was deleted with exit status 204 \n",
      "A cohort with the same name already exists, please choose another name\n"
     ]
    },
    {
     "name": "stderr",
     "output_type": "stream",
     "text": [
      "\r",
      " 53%|█████▎    | 106/200 [06:16<05:23,  3.44s/it]"
     ]
    },
    {
     "name": "stdout",
     "output_type": "stream",
     "text": [
      "0\n",
      "Not enough patients for cohort Folic Acid_Diazepam\n",
      "Cohort was deleted with exit status 204 \n",
      "A cohort with the same name already exists, please choose another name\n"
     ]
    },
    {
     "name": "stderr",
     "output_type": "stream",
     "text": [
      "\r",
      " 54%|█████▎    | 107/200 [06:19<05:23,  3.48s/it]"
     ]
    },
    {
     "name": "stdout",
     "output_type": "stream",
     "text": [
      "0\n",
      "Not enough patients for cohort Potassium Chloride_Lisinopril\n",
      "Cohort was deleted with exit status 204 \n",
      "A cohort with the same name already exists, please choose another name\n"
     ]
    },
    {
     "name": "stderr",
     "output_type": "stream",
     "text": [
      "\r",
      " 54%|█████▍    | 108/200 [06:23<05:24,  3.53s/it]"
     ]
    },
    {
     "name": "stdout",
     "output_type": "stream",
     "text": [
      "0\n",
      "Not enough patients for cohort Potassium Chloride_Metoprolol\n",
      "Cohort was deleted with exit status 204 \n",
      "A cohort with the same name already exists, please choose another name\n"
     ]
    },
    {
     "name": "stderr",
     "output_type": "stream",
     "text": [
      "\r",
      " 55%|█████▍    | 109/200 [06:26<05:25,  3.57s/it]"
     ]
    },
    {
     "name": "stdout",
     "output_type": "stream",
     "text": [
      "0\n",
      "Not enough patients for cohort Potassium Chloride_Hydrocodone\n",
      "Cohort was deleted with exit status 204 \n",
      "A cohort with the same name already exists, please choose another name\n"
     ]
    },
    {
     "name": "stderr",
     "output_type": "stream",
     "text": [
      "\r",
      " 55%|█████▌    | 110/200 [06:30<05:11,  3.46s/it]"
     ]
    },
    {
     "name": "stdout",
     "output_type": "stream",
     "text": [
      "0\n",
      "Not enough patients for cohort Potassium Chloride_Albuterol\n",
      "Cohort was deleted with exit status 204 \n",
      "A cohort with the same name already exists, please choose another name\n"
     ]
    },
    {
     "name": "stderr",
     "output_type": "stream",
     "text": [
      "\r",
      " 56%|█████▌    | 111/200 [06:33<05:06,  3.44s/it]"
     ]
    },
    {
     "name": "stdout",
     "output_type": "stream",
     "text": [
      "0\n",
      "Not enough patients for cohort Potassium Chloride_Aspirin\n",
      "Cohort was deleted with exit status 204 \n",
      "A cohort with the same name already exists, please choose another name\n"
     ]
    },
    {
     "name": "stderr",
     "output_type": "stream",
     "text": [
      "\r",
      " 56%|█████▌    | 112/200 [06:37<05:07,  3.49s/it]"
     ]
    },
    {
     "name": "stdout",
     "output_type": "stream",
     "text": [
      "0\n",
      "Not enough patients for cohort Calcium_levothyroxine\n",
      "Cohort was deleted with exit status 204 \n",
      "A cohort with the same name already exists, please choose another name\n"
     ]
    },
    {
     "name": "stderr",
     "output_type": "stream",
     "text": [
      "\r",
      " 56%|█████▋    | 113/200 [06:45<07:09,  4.94s/it]"
     ]
    },
    {
     "name": "stdout",
     "output_type": "stream",
     "text": [
      "0\n",
      "Not enough patients for cohort Vitamin A_Simvastatin\n",
      "Cohort was deleted with exit status 204 \n",
      "A cohort with the same name already exists, please choose another name\n"
     ]
    },
    {
     "name": "stderr",
     "output_type": "stream",
     "text": [
      "\r",
      " 57%|█████▋    | 114/200 [06:48<06:12,  4.33s/it]"
     ]
    },
    {
     "name": "stdout",
     "output_type": "stream",
     "text": [
      "0\n",
      "Not enough patients for cohort Insulin Lispro_Aspirin\n",
      "Cohort was deleted with exit status 204 \n",
      "A cohort with the same name already exists, please choose another name\n"
     ]
    },
    {
     "name": "stderr",
     "output_type": "stream",
     "text": [
      "\r",
      " 57%|█████▊    | 115/200 [06:51<05:45,  4.06s/it]"
     ]
    },
    {
     "name": "stdout",
     "output_type": "stream",
     "text": [
      "0\n",
      "Not enough patients for cohort atorvastatin_Amlodipine\n",
      "Cohort was deleted with exit status 204 \n",
      "A cohort with the same name already exists, please choose another name\n"
     ]
    },
    {
     "name": "stderr",
     "output_type": "stream",
     "text": [
      "\r",
      " 58%|█████▊    | 116/200 [06:55<05:31,  3.94s/it]"
     ]
    },
    {
     "name": "stdout",
     "output_type": "stream",
     "text": [
      "0\n",
      "Not enough patients for cohort atorvastatin_Warfarin\n",
      "Cohort was deleted with exit status 204 \n",
      "A cohort with the same name already exists, please choose another name\n"
     ]
    },
    {
     "name": "stderr",
     "output_type": "stream",
     "text": [
      "\r",
      " 58%|█████▊    | 117/200 [06:58<05:08,  3.72s/it]"
     ]
    },
    {
     "name": "stdout",
     "output_type": "stream",
     "text": [
      "0\n",
      "Not enough patients for cohort atorvastatin_Lisinopril\n",
      "Cohort was deleted with exit status 204 \n",
      "A cohort with the same name already exists, please choose another name\n"
     ]
    },
    {
     "name": "stderr",
     "output_type": "stream",
     "text": [
      "\r",
      " 59%|█████▉    | 118/200 [07:01<04:48,  3.52s/it]"
     ]
    },
    {
     "name": "stdout",
     "output_type": "stream",
     "text": [
      "0\n",
      "Not enough patients for cohort atorvastatin_Metoprolol\n",
      "Cohort was deleted with exit status 204 \n",
      "A cohort with the same name already exists, please choose another name\n"
     ]
    },
    {
     "name": "stderr",
     "output_type": "stream",
     "text": [
      "\r",
      " 60%|█████▉    | 119/200 [07:04<04:32,  3.37s/it]"
     ]
    },
    {
     "name": "stdout",
     "output_type": "stream",
     "text": [
      "0\n",
      "Not enough patients for cohort atorvastatin_Albuterol\n",
      "Cohort was deleted with exit status 204 \n",
      "A cohort with the same name already exists, please choose another name\n"
     ]
    },
    {
     "name": "stderr",
     "output_type": "stream",
     "text": [
      "\r",
      " 60%|██████    | 120/200 [07:08<04:29,  3.37s/it]"
     ]
    },
    {
     "name": "stdout",
     "output_type": "stream",
     "text": [
      "0\n",
      "Not enough patients for cohort atorvastatin_Aspirin\n",
      "Cohort was deleted with exit status 204 \n",
      "A cohort with the same name already exists, please choose another name\n"
     ]
    },
    {
     "name": "stderr",
     "output_type": "stream",
     "text": [
      "\r",
      " 60%|██████    | 121/200 [07:11<04:28,  3.40s/it]"
     ]
    },
    {
     "name": "stdout",
     "output_type": "stream",
     "text": [
      "0\n",
      "Not enough patients for cohort Simvastatin_levothyroxine\n",
      "Cohort was deleted with exit status 204 \n",
      "A cohort with the same name already exists, please choose another name\n"
     ]
    },
    {
     "name": "stderr",
     "output_type": "stream",
     "text": [
      "\r",
      " 61%|██████    | 122/200 [07:15<04:25,  3.41s/it]"
     ]
    },
    {
     "name": "stdout",
     "output_type": "stream",
     "text": [
      "0\n",
      "Not enough patients for cohort Simvastatin_Amlodipine\n",
      "Cohort was deleted with exit status 204 \n",
      "A cohort with the same name already exists, please choose another name\n"
     ]
    },
    {
     "name": "stderr",
     "output_type": "stream",
     "text": [
      "\r",
      " 62%|██████▏   | 123/200 [07:18<04:30,  3.52s/it]"
     ]
    },
    {
     "name": "stdout",
     "output_type": "stream",
     "text": [
      "0\n",
      "Not enough patients for cohort Simvastatin_Warfarin\n",
      "Cohort was deleted with exit status 204 \n",
      "A cohort with the same name already exists, please choose another name\n"
     ]
    },
    {
     "name": "stderr",
     "output_type": "stream",
     "text": [
      "\r",
      " 62%|██████▏   | 124/200 [07:22<04:40,  3.69s/it]"
     ]
    },
    {
     "name": "stdout",
     "output_type": "stream",
     "text": [
      "0\n",
      "Not enough patients for cohort Simvastatin_Lisinopril\n",
      "Cohort was deleted with exit status 204 \n",
      "A cohort with the same name already exists, please choose another name\n"
     ]
    },
    {
     "name": "stderr",
     "output_type": "stream",
     "text": [
      "\r",
      " 62%|██████▎   | 125/200 [07:25<04:22,  3.50s/it]"
     ]
    },
    {
     "name": "stdout",
     "output_type": "stream",
     "text": [
      "0\n",
      "Not enough patients for cohort Simvastatin_Metoprolol\n",
      "Cohort was deleted with exit status 204 \n",
      "A cohort with the same name already exists, please choose another name\n"
     ]
    },
    {
     "name": "stderr",
     "output_type": "stream",
     "text": [
      "\r",
      " 63%|██████▎   | 126/200 [07:29<04:13,  3.42s/it]"
     ]
    },
    {
     "name": "stdout",
     "output_type": "stream",
     "text": [
      "0\n",
      "Not enough patients for cohort Simvastatin_Albuterol\n",
      "Cohort was deleted with exit status 204 \n",
      "A cohort with the same name already exists, please choose another name\n"
     ]
    },
    {
     "name": "stderr",
     "output_type": "stream",
     "text": [
      "\r",
      " 64%|██████▎   | 127/200 [07:32<04:06,  3.38s/it]"
     ]
    },
    {
     "name": "stdout",
     "output_type": "stream",
     "text": [
      "0\n",
      "Not enough patients for cohort Simvastatin_Aspirin\n",
      "Cohort was deleted with exit status 204 \n",
      "A cohort with the same name already exists, please choose another name\n"
     ]
    },
    {
     "name": "stderr",
     "output_type": "stream",
     "text": [
      "\r",
      " 64%|██████▍   | 128/200 [07:36<04:07,  3.44s/it]"
     ]
    },
    {
     "name": "stdout",
     "output_type": "stream",
     "text": [
      "0\n",
      "Not enough patients for cohort Simvastatin_Furosemide\n",
      "Cohort was deleted with exit status 204 \n",
      "A cohort with the same name already exists, please choose another name\n"
     ]
    },
    {
     "name": "stderr",
     "output_type": "stream",
     "text": [
      "\r",
      " 64%|██████▍   | 129/200 [07:39<04:03,  3.43s/it]"
     ]
    },
    {
     "name": "stdout",
     "output_type": "stream",
     "text": [
      "0\n",
      "Not enough patients for cohort ezetimibe_levothyroxine\n",
      "Cohort was deleted with exit status 204 \n",
      "A cohort with the same name already exists, please choose another name\n"
     ]
    },
    {
     "name": "stderr",
     "output_type": "stream",
     "text": [
      "\r",
      " 65%|██████▌   | 130/200 [07:43<04:11,  3.60s/it]"
     ]
    },
    {
     "name": "stdout",
     "output_type": "stream",
     "text": [
      "0\n",
      "Not enough patients for cohort rosuvastatin_Metoprolol\n",
      "Cohort was deleted with exit status 204 \n",
      "A cohort with the same name already exists, please choose another name\n"
     ]
    },
    {
     "name": "stderr",
     "output_type": "stream",
     "text": [
      "\r",
      " 66%|██████▌   | 131/200 [07:46<03:56,  3.43s/it]"
     ]
    },
    {
     "name": "stdout",
     "output_type": "stream",
     "text": [
      "0\n",
      "Not enough patients for cohort rosuvastatin_Aspirin\n",
      "Cohort was deleted with exit status 204 \n",
      "A cohort with the same name already exists, please choose another name\n"
     ]
    },
    {
     "name": "stderr",
     "output_type": "stream",
     "text": [
      "\r",
      " 66%|██████▌   | 132/200 [07:50<03:56,  3.47s/it]"
     ]
    },
    {
     "name": "stdout",
     "output_type": "stream",
     "text": [
      "0\n",
      "Not enough patients for cohort levothyroxine_Amlodipine\n",
      "Cohort was deleted with exit status 204 \n",
      "A cohort with the same name already exists, please choose another name\n"
     ]
    },
    {
     "name": "stderr",
     "output_type": "stream",
     "text": [
      "\r",
      " 66%|██████▋   | 133/200 [07:53<03:51,  3.46s/it]"
     ]
    },
    {
     "name": "stdout",
     "output_type": "stream",
     "text": [
      "0\n",
      "Not enough patients for cohort levothyroxine_Diltiazem\n",
      "Cohort was deleted with exit status 204 \n",
      "A cohort with the same name already exists, please choose another name\n"
     ]
    },
    {
     "name": "stderr",
     "output_type": "stream",
     "text": [
      "\r",
      " 67%|██████▋   | 134/200 [07:56<03:48,  3.46s/it]"
     ]
    },
    {
     "name": "stdout",
     "output_type": "stream",
     "text": [
      "0\n",
      "Not enough patients for cohort levothyroxine_Lisinopril\n",
      "Cohort was deleted with exit status 204 \n",
      "A cohort with the same name already exists, please choose another name\n"
     ]
    },
    {
     "name": "stderr",
     "output_type": "stream",
     "text": [
      "\r",
      " 68%|██████▊   | 135/200 [08:01<03:59,  3.68s/it]"
     ]
    },
    {
     "name": "stdout",
     "output_type": "stream",
     "text": [
      "0\n",
      "Not enough patients for cohort levothyroxine_Albuterol\n",
      "Cohort was deleted with exit status 204 \n",
      "A cohort with the same name already exists, please choose another name\n"
     ]
    },
    {
     "name": "stderr",
     "output_type": "stream",
     "text": [
      "\r",
      " 68%|██████▊   | 136/200 [08:04<03:55,  3.68s/it]"
     ]
    },
    {
     "name": "stdout",
     "output_type": "stream",
     "text": [
      "0\n",
      "Not enough patients for cohort levothyroxine_Aspirin\n",
      "Cohort was deleted with exit status 204 \n",
      "A cohort with the same name already exists, please choose another name\n"
     ]
    },
    {
     "name": "stderr",
     "output_type": "stream",
     "text": [
      "\r",
      " 68%|██████▊   | 137/200 [08:07<03:35,  3.42s/it]"
     ]
    },
    {
     "name": "stdout",
     "output_type": "stream",
     "text": [
      "0\n",
      "Not enough patients for cohort levothyroxine_Furosemide\n",
      "Cohort was deleted with exit status 204 \n",
      "A cohort with the same name already exists, please choose another name\n"
     ]
    },
    {
     "name": "stderr",
     "output_type": "stream",
     "text": [
      "\r",
      " 69%|██████▉   | 138/200 [08:11<03:33,  3.45s/it]"
     ]
    },
    {
     "name": "stdout",
     "output_type": "stream",
     "text": [
      "0\n",
      "Not enough patients for cohort levothyroxine_Clonazepam\n",
      "Cohort was deleted with exit status 204 \n",
      "A cohort with the same name already exists, please choose another name\n"
     ]
    },
    {
     "name": "stderr",
     "output_type": "stream",
     "text": [
      "\r",
      " 70%|██████▉   | 139/200 [08:14<03:28,  3.42s/it]"
     ]
    },
    {
     "name": "stdout",
     "output_type": "stream",
     "text": [
      "0\n",
      "Not enough patients for cohort levothyroxine_Diazepam\n",
      "Cohort was deleted with exit status 204 \n",
      "A cohort with the same name already exists, please choose another name\n"
     ]
    },
    {
     "name": "stderr",
     "output_type": "stream",
     "text": [
      "\r",
      " 70%|███████   | 140/200 [08:18<03:27,  3.45s/it]"
     ]
    },
    {
     "name": "stdout",
     "output_type": "stream",
     "text": [
      "0\n",
      "Not enough patients for cohort levothyroxine_duloxetine\n",
      "Cohort was deleted with exit status 204 \n",
      "A cohort with the same name already exists, please choose another name\n"
     ]
    },
    {
     "name": "stderr",
     "output_type": "stream",
     "text": [
      "\r",
      " 70%|███████   | 141/200 [08:21<03:22,  3.44s/it]"
     ]
    },
    {
     "name": "stdout",
     "output_type": "stream",
     "text": [
      "0\n",
      "Not enough patients for cohort carvedilol_Aspirin\n",
      "Cohort was deleted with exit status 204 \n",
      "A cohort with the same name already exists, please choose another name\n"
     ]
    },
    {
     "name": "stderr",
     "output_type": "stream",
     "text": [
      "\r",
      " 71%|███████   | 142/200 [08:25<03:32,  3.66s/it]"
     ]
    },
    {
     "name": "stdout",
     "output_type": "stream",
     "text": [
      "0\n",
      "Not enough patients for cohort Amlodipine_Warfarin\n",
      "Cohort was deleted with exit status 204 \n",
      "A cohort with the same name already exists, please choose another name\n"
     ]
    },
    {
     "name": "stderr",
     "output_type": "stream",
     "text": [
      "\r",
      " 72%|███████▏  | 143/200 [08:29<03:26,  3.63s/it]"
     ]
    },
    {
     "name": "stdout",
     "output_type": "stream",
     "text": [
      "0\n",
      "Not enough patients for cohort Amlodipine_Aspirin\n",
      "Cohort was deleted with exit status 204 \n",
      "A cohort with the same name already exists, please choose another name\n"
     ]
    },
    {
     "name": "stderr",
     "output_type": "stream",
     "text": [
      "\r",
      " 72%|███████▏  | 144/200 [08:33<03:28,  3.72s/it]"
     ]
    },
    {
     "name": "stdout",
     "output_type": "stream",
     "text": [
      "0\n",
      "Not enough patients for cohort Diltiazem_Metoprolol\n",
      "Cohort was deleted with exit status 204 \n",
      "A cohort with the same name already exists, please choose another name\n"
     ]
    },
    {
     "name": "stderr",
     "output_type": "stream",
     "text": [
      "\r",
      " 72%|███████▎  | 145/200 [08:36<03:20,  3.64s/it]"
     ]
    },
    {
     "name": "stdout",
     "output_type": "stream",
     "text": [
      "0\n",
      "Not enough patients for cohort erlotinib_Ondansetron\n",
      "Cohort was deleted with exit status 204 \n",
      "A cohort with the same name already exists, please choose another name\n"
     ]
    },
    {
     "name": "stderr",
     "output_type": "stream",
     "text": [
      "\r",
      " 73%|███████▎  | 146/200 [08:39<03:08,  3.49s/it]"
     ]
    },
    {
     "name": "stdout",
     "output_type": "stream",
     "text": [
      "0\n",
      "Not enough patients for cohort Warfarin_Hydrocodone\n",
      "Cohort was deleted with exit status 204 \n",
      "A cohort with the same name already exists, please choose another name\n"
     ]
    },
    {
     "name": "stderr",
     "output_type": "stream",
     "text": [
      "\r",
      " 74%|███████▎  | 147/200 [08:42<02:57,  3.35s/it]"
     ]
    },
    {
     "name": "stdout",
     "output_type": "stream",
     "text": [
      "0\n",
      "Not enough patients for cohort Warfarin_Aspirin\n",
      "Cohort was deleted with exit status 204 \n",
      "A cohort with the same name already exists, please choose another name\n"
     ]
    },
    {
     "name": "stderr",
     "output_type": "stream",
     "text": [
      "\r",
      " 74%|███████▍  | 148/200 [08:47<03:23,  3.91s/it]"
     ]
    },
    {
     "name": "stdout",
     "output_type": "stream",
     "text": [
      "0\n",
      "Not enough patients for cohort Lisinopril_Metoprolol\n",
      "Cohort was deleted with exit status 204 \n",
      "A cohort with the same name already exists, please choose another name\n"
     ]
    },
    {
     "name": "stderr",
     "output_type": "stream",
     "text": [
      "\r",
      " 74%|███████▍  | 149/200 [08:51<03:19,  3.90s/it]"
     ]
    },
    {
     "name": "stdout",
     "output_type": "stream",
     "text": [
      "0\n",
      "Not enough patients for cohort Lisinopril_Hydrocodone\n",
      "Cohort was deleted with exit status 204 \n",
      "A cohort with the same name already exists, please choose another name\n"
     ]
    },
    {
     "name": "stderr",
     "output_type": "stream",
     "text": [
      "\r",
      " 75%|███████▌  | 150/200 [08:55<03:13,  3.87s/it]"
     ]
    },
    {
     "name": "stdout",
     "output_type": "stream",
     "text": [
      "0\n",
      "Not enough patients for cohort Lisinopril_Aspirin\n",
      "Cohort was deleted with exit status 204 \n",
      "A cohort with the same name already exists, please choose another name\n"
     ]
    },
    {
     "name": "stderr",
     "output_type": "stream",
     "text": [
      "\r",
      " 76%|███████▌  | 151/200 [08:58<02:57,  3.63s/it]"
     ]
    },
    {
     "name": "stdout",
     "output_type": "stream",
     "text": [
      "0\n",
      "Not enough patients for cohort Lisinopril_Esomeprazole\n",
      "Cohort was deleted with exit status 204 \n",
      "A cohort with the same name already exists, please choose another name\n"
     ]
    },
    {
     "name": "stderr",
     "output_type": "stream",
     "text": [
      "\r",
      " 76%|███████▌  | 152/200 [09:02<02:52,  3.60s/it]"
     ]
    },
    {
     "name": "stdout",
     "output_type": "stream",
     "text": [
      "0\n",
      "Not enough patients for cohort Metoprolol_Hydrocodone\n",
      "Cohort was deleted with exit status 204 \n",
      "A cohort with the same name already exists, please choose another name\n"
     ]
    },
    {
     "name": "stderr",
     "output_type": "stream",
     "text": [
      "\r",
      " 76%|███████▋  | 153/200 [09:04<02:35,  3.30s/it]"
     ]
    },
    {
     "name": "stdout",
     "output_type": "stream",
     "text": [
      "0\n",
      "Not enough patients for cohort Metoprolol_Aspirin\n",
      "Cohort was deleted with exit status 204 \n",
      "A cohort with the same name already exists, please choose another name\n"
     ]
    },
    {
     "name": "stderr",
     "output_type": "stream",
     "text": [
      "\r",
      " 77%|███████▋  | 154/200 [09:08<02:36,  3.41s/it]"
     ]
    },
    {
     "name": "stdout",
     "output_type": "stream",
     "text": [
      "0\n",
      "Not enough patients for cohort Metoprolol_Esomeprazole\n",
      "Cohort was deleted with exit status 204 \n",
      "A cohort with the same name already exists, please choose another name\n"
     ]
    },
    {
     "name": "stderr",
     "output_type": "stream",
     "text": [
      "\r",
      " 78%|███████▊  | 155/200 [09:11<02:27,  3.28s/it]"
     ]
    },
    {
     "name": "stdout",
     "output_type": "stream",
     "text": [
      "0\n",
      "Not enough patients for cohort Metoprolol_Alprazolam\n",
      "Cohort was deleted with exit status 204 \n",
      "A cohort with the same name already exists, please choose another name\n"
     ]
    },
    {
     "name": "stderr",
     "output_type": "stream",
     "text": [
      "\r",
      " 78%|███████▊  | 156/200 [09:15<02:28,  3.39s/it]"
     ]
    },
    {
     "name": "stdout",
     "output_type": "stream",
     "text": [
      "0\n",
      "Not enough patients for cohort Metoprolol_Escitalopram\n",
      "Cohort was deleted with exit status 204 \n",
      "A cohort with the same name already exists, please choose another name\n"
     ]
    },
    {
     "name": "stderr",
     "output_type": "stream",
     "text": [
      "\r",
      " 78%|███████▊  | 157/200 [09:18<02:24,  3.36s/it]"
     ]
    },
    {
     "name": "stdout",
     "output_type": "stream",
     "text": [
      "0\n",
      "Not enough patients for cohort Hydrocodone_Esomeprazole\n",
      "Cohort was deleted with exit status 204 \n",
      "A cohort with the same name already exists, please choose another name\n"
     ]
    },
    {
     "name": "stderr",
     "output_type": "stream",
     "text": [
      "\r",
      " 79%|███████▉  | 158/200 [09:21<02:21,  3.38s/it]"
     ]
    },
    {
     "name": "stdout",
     "output_type": "stream",
     "text": [
      "0\n",
      "Not enough patients for cohort Albuterol_Aspirin\n",
      "Cohort was deleted with exit status 204 \n",
      "A cohort with the same name already exists, please choose another name\n"
     ]
    },
    {
     "name": "stderr",
     "output_type": "stream",
     "text": [
      "\r",
      " 80%|███████▉  | 159/200 [09:25<02:22,  3.48s/it]"
     ]
    },
    {
     "name": "stdout",
     "output_type": "stream",
     "text": [
      "0\n",
      "Not enough patients for cohort Albuterol_Diazepam\n",
      "Cohort was deleted with exit status 204 \n",
      "A cohort with the same name already exists, please choose another name\n"
     ]
    },
    {
     "name": "stderr",
     "output_type": "stream",
     "text": [
      "\r",
      " 80%|████████  | 160/200 [09:29<02:23,  3.59s/it]"
     ]
    },
    {
     "name": "stdout",
     "output_type": "stream",
     "text": [
      "0\n",
      "Not enough patients for cohort Aspirin_tiotropium\n",
      "Cohort was deleted with exit status 204 \n",
      "A cohort with the same name already exists, please choose another name\n"
     ]
    },
    {
     "name": "stderr",
     "output_type": "stream",
     "text": [
      "\r",
      " 80%|████████  | 161/200 [09:32<02:12,  3.40s/it]"
     ]
    },
    {
     "name": "stdout",
     "output_type": "stream",
     "text": [
      "0\n",
      "Not enough patients for cohort Aspirin_Docusate\n",
      "Cohort was deleted with exit status 204 \n",
      "A cohort with the same name already exists, please choose another name\n"
     ]
    },
    {
     "name": "stderr",
     "output_type": "stream",
     "text": [
      "\r",
      " 81%|████████  | 162/200 [09:35<02:11,  3.45s/it]"
     ]
    },
    {
     "name": "stdout",
     "output_type": "stream",
     "text": [
      "0\n",
      "Not enough patients for cohort Aspirin_tamsulosin\n",
      "Cohort was deleted with exit status 204 \n",
      "A cohort with the same name already exists, please choose another name\n"
     ]
    },
    {
     "name": "stderr",
     "output_type": "stream",
     "text": [
      "\r",
      " 82%|████████▏ | 163/200 [09:40<02:15,  3.66s/it]"
     ]
    },
    {
     "name": "stdout",
     "output_type": "stream",
     "text": [
      "0\n",
      "Not enough patients for cohort Aspirin_Clonazepam\n",
      "Cohort was deleted with exit status 204 \n",
      "A cohort with the same name already exists, please choose another name\n"
     ]
    },
    {
     "name": "stderr",
     "output_type": "stream",
     "text": [
      "\r",
      " 82%|████████▏ | 164/200 [09:43<02:08,  3.56s/it]"
     ]
    },
    {
     "name": "stdout",
     "output_type": "stream",
     "text": [
      "0\n",
      "Not enough patients for cohort Aspirin_Alprazolam\n",
      "Cohort was deleted with exit status 204 \n",
      "A cohort with the same name already exists, please choose another name\n"
     ]
    },
    {
     "name": "stderr",
     "output_type": "stream",
     "text": [
      "\r",
      " 82%|████████▎ | 165/200 [09:46<01:59,  3.42s/it]"
     ]
    },
    {
     "name": "stdout",
     "output_type": "stream",
     "text": [
      "0\n",
      "Not enough patients for cohort Aspirin_Diazepam\n",
      "Cohort was deleted with exit status 204 \n",
      "A cohort with the same name already exists, please choose another name\n"
     ]
    },
    {
     "name": "stderr",
     "output_type": "stream",
     "text": [
      "\r",
      " 83%|████████▎ | 166/200 [09:49<01:55,  3.40s/it]"
     ]
    },
    {
     "name": "stdout",
     "output_type": "stream",
     "text": [
      "0\n",
      "Not enough patients for cohort Furosemide_Esomeprazole\n",
      "Cohort was deleted with exit status 204 \n",
      "A cohort with the same name already exists, please choose another name\n"
     ]
    },
    {
     "name": "stderr",
     "output_type": "stream",
     "text": [
      "\r",
      " 84%|████████▎ | 167/200 [09:53<01:58,  3.60s/it]"
     ]
    },
    {
     "name": "stdout",
     "output_type": "stream",
     "text": [
      "0\n",
      "Not enough patients for cohort Furosemide_Alprazolam\n",
      "Cohort was deleted with exit status 204 \n",
      "A cohort with the same name already exists, please choose another name\n"
     ]
    },
    {
     "name": "stderr",
     "output_type": "stream",
     "text": [
      "\r",
      " 84%|████████▍ | 168/200 [09:56<01:47,  3.37s/it]"
     ]
    },
    {
     "name": "stdout",
     "output_type": "stream",
     "text": [
      "0\n",
      "Not enough patients for cohort Esomeprazole_Clonazepam\n",
      "Cohort was deleted with exit status 204 \n",
      "A cohort with the same name already exists, please choose another name\n"
     ]
    },
    {
     "name": "stderr",
     "output_type": "stream",
     "text": [
      "\r",
      " 84%|████████▍ | 169/200 [10:00<01:47,  3.47s/it]"
     ]
    },
    {
     "name": "stdout",
     "output_type": "stream",
     "text": [
      "0\n",
      "Not enough patients for cohort Esomeprazole_Alprazolam\n",
      "Cohort was deleted with exit status 204 \n",
      "A cohort with the same name already exists, please choose another name\n"
     ]
    },
    {
     "name": "stderr",
     "output_type": "stream",
     "text": [
      "\r",
      " 85%|████████▌ | 170/200 [10:03<01:43,  3.45s/it]"
     ]
    },
    {
     "name": "stdout",
     "output_type": "stream",
     "text": [
      "0\n",
      "Not enough patients for cohort Multivitamin preparation_Potassium Chloride\n",
      "Cohort was deleted with exit status 204 \n",
      "A cohort with the same name already exists, please choose another name\n"
     ]
    },
    {
     "name": "stderr",
     "output_type": "stream",
     "text": [
      "\r",
      " 86%|████████▌ | 171/200 [10:08<01:47,  3.70s/it]"
     ]
    },
    {
     "name": "stdout",
     "output_type": "stream",
     "text": [
      "0\n",
      "Not enough patients for cohort Multivitamin preparation_Calcium\n",
      "Cohort was deleted with exit status 204 \n",
      "A cohort with the same name already exists, please choose another name\n"
     ]
    },
    {
     "name": "stderr",
     "output_type": "stream",
     "text": [
      "\r",
      " 86%|████████▌ | 172/200 [10:11<01:36,  3.45s/it]"
     ]
    },
    {
     "name": "stdout",
     "output_type": "stream",
     "text": [
      "0\n",
      "Not enough patients for cohort Multivitamin preparation_Vitamin D\n",
      "Cohort was deleted with exit status 204 \n",
      "A cohort with the same name already exists, please choose another name\n"
     ]
    },
    {
     "name": "stderr",
     "output_type": "stream",
     "text": [
      "\r",
      " 86%|████████▋ | 173/200 [10:14<01:30,  3.35s/it]"
     ]
    },
    {
     "name": "stdout",
     "output_type": "stream",
     "text": [
      "0\n",
      "Not enough patients for cohort Multivitamin preparation_rosuvastatin\n",
      "Cohort was deleted with exit status 204 \n",
      "A cohort with the same name already exists, please choose another name\n"
     ]
    },
    {
     "name": "stderr",
     "output_type": "stream",
     "text": [
      "\r",
      " 87%|████████▋ | 174/200 [10:17<01:29,  3.45s/it]"
     ]
    },
    {
     "name": "stdout",
     "output_type": "stream",
     "text": [
      "0\n",
      "Not enough patients for cohort Multivitamin preparation_Amlodipine\n",
      "Cohort was deleted with exit status 204 \n",
      "A cohort with the same name already exists, please choose another name\n"
     ]
    },
    {
     "name": "stderr",
     "output_type": "stream",
     "text": [
      "\r",
      " 88%|████████▊ | 175/200 [10:21<01:30,  3.64s/it]"
     ]
    },
    {
     "name": "stdout",
     "output_type": "stream",
     "text": [
      "0\n",
      "Not enough patients for cohort Multivitamin preparation_Diltiazem\n",
      "Cohort was deleted with exit status 204 \n",
      "A cohort with the same name already exists, please choose another name\n"
     ]
    },
    {
     "name": "stderr",
     "output_type": "stream",
     "text": [
      "\r",
      " 88%|████████▊ | 176/200 [10:24<01:21,  3.40s/it]"
     ]
    },
    {
     "name": "stdout",
     "output_type": "stream",
     "text": [
      "0\n",
      "Not enough patients for cohort Multivitamin preparation_Warfarin\n",
      "Cohort was deleted with exit status 204 \n",
      "A cohort with the same name already exists, please choose another name\n"
     ]
    },
    {
     "name": "stderr",
     "output_type": "stream",
     "text": [
      "\r",
      " 88%|████████▊ | 177/200 [10:28<01:19,  3.44s/it]"
     ]
    },
    {
     "name": "stdout",
     "output_type": "stream",
     "text": [
      "0\n",
      "Not enough patients for cohort Multivitamin preparation_valsartan\n",
      "Cohort was deleted with exit status 204 \n",
      "A cohort with the same name already exists, please choose another name\n"
     ]
    },
    {
     "name": "stderr",
     "output_type": "stream",
     "text": [
      "\r",
      " 89%|████████▉ | 178/200 [10:31<01:17,  3.50s/it]"
     ]
    },
    {
     "name": "stdout",
     "output_type": "stream",
     "text": [
      "0\n",
      "Not enough patients for cohort Multivitamin preparation_montelukast\n",
      "Cohort was deleted with exit status 204 \n",
      "A cohort with the same name already exists, please choose another name\n"
     ]
    },
    {
     "name": "stderr",
     "output_type": "stream",
     "text": [
      "\r",
      " 90%|████████▉ | 179/200 [10:36<01:17,  3.68s/it]"
     ]
    },
    {
     "name": "stdout",
     "output_type": "stream",
     "text": [
      "0\n",
      "Not enough patients for cohort Multivitamin preparation_Ranitidine\n",
      "Cohort was deleted with exit status 204 \n",
      "A cohort with the same name already exists, please choose another name\n"
     ]
    },
    {
     "name": "stderr",
     "output_type": "stream",
     "text": [
      "\r",
      " 90%|█████████ | 180/200 [10:38<01:08,  3.40s/it]"
     ]
    },
    {
     "name": "stdout",
     "output_type": "stream",
     "text": [
      "0\n",
      "Not enough patients for cohort Multivitamin preparation_Furosemide\n",
      "Cohort was deleted with exit status 204 \n",
      "A cohort with the same name already exists, please choose another name\n"
     ]
    },
    {
     "name": "stderr",
     "output_type": "stream",
     "text": [
      "\r",
      " 90%|█████████ | 181/200 [10:42<01:04,  3.40s/it]"
     ]
    },
    {
     "name": "stdout",
     "output_type": "stream",
     "text": [
      "0\n",
      "Not enough patients for cohort Multivitamin preparation_Docusate\n",
      "Cohort was deleted with exit status 204 \n",
      "A cohort with the same name already exists, please choose another name\n"
     ]
    },
    {
     "name": "stderr",
     "output_type": "stream",
     "text": [
      "\r",
      " 91%|█████████ | 182/200 [10:45<01:02,  3.50s/it]"
     ]
    },
    {
     "name": "stdout",
     "output_type": "stream",
     "text": [
      "0\n",
      "Not enough patients for cohort Multivitamin preparation_Esomeprazole\n",
      "Cohort was deleted with exit status 204 \n",
      "A cohort with the same name already exists, please choose another name\n"
     ]
    },
    {
     "name": "stderr",
     "output_type": "stream",
     "text": [
      "\r",
      " 92%|█████████▏| 183/200 [10:49<01:02,  3.65s/it]"
     ]
    },
    {
     "name": "stdout",
     "output_type": "stream",
     "text": [
      "0\n",
      "Not enough patients for cohort Multivitamin preparation_Escitalopram\n",
      "Cohort was deleted with exit status 204 \n",
      "A cohort with the same name already exists, please choose another name\n"
     ]
    },
    {
     "name": "stderr",
     "output_type": "stream",
     "text": [
      "\r",
      " 92%|█████████▏| 184/200 [10:52<00:54,  3.40s/it]"
     ]
    },
    {
     "name": "stdout",
     "output_type": "stream",
     "text": [
      "0\n",
      "Not enough patients for cohort Insulin_carvedilol\n",
      "Cohort was deleted with exit status 204 \n",
      "A cohort with the same name already exists, please choose another name\n"
     ]
    },
    {
     "name": "stderr",
     "output_type": "stream",
     "text": [
      "\r",
      " 92%|█████████▎| 185/200 [10:56<00:51,  3.42s/it]"
     ]
    },
    {
     "name": "stdout",
     "output_type": "stream",
     "text": [
      "0\n",
      "Not enough patients for cohort Insulin_Aspirin\n",
      "Cohort was deleted with exit status 204 \n",
      "A cohort with the same name already exists, please choose another name\n"
     ]
    },
    {
     "name": "stderr",
     "output_type": "stream",
     "text": [
      "\r",
      " 93%|█████████▎| 186/200 [10:59<00:48,  3.46s/it]"
     ]
    },
    {
     "name": "stdout",
     "output_type": "stream",
     "text": [
      "0\n",
      "Not enough patients for cohort Insulin_Furosemide\n",
      "Cohort was deleted with exit status 204 \n",
      "A cohort with the same name already exists, please choose another name\n"
     ]
    },
    {
     "name": "stderr",
     "output_type": "stream",
     "text": [
      "\r",
      " 94%|█████████▎| 187/200 [11:03<00:47,  3.68s/it]"
     ]
    },
    {
     "name": "stdout",
     "output_type": "stream",
     "text": [
      "0\n",
      "Not enough patients for cohort Folic Acid_Alendronate\n",
      "Cohort was deleted with exit status 204 \n",
      "A cohort with the same name already exists, please choose another name\n"
     ]
    },
    {
     "name": "stderr",
     "output_type": "stream",
     "text": [
      "\r",
      " 94%|█████████▍| 188/200 [11:06<00:41,  3.48s/it]"
     ]
    },
    {
     "name": "stdout",
     "output_type": "stream",
     "text": [
      "0\n",
      "Not enough patients for cohort Folic Acid_Warfarin\n",
      "Cohort was deleted with exit status 204 \n",
      "A cohort with the same name already exists, please choose another name\n"
     ]
    },
    {
     "name": "stderr",
     "output_type": "stream",
     "text": [
      "\r",
      " 94%|█████████▍| 189/200 [11:10<00:37,  3.44s/it]"
     ]
    },
    {
     "name": "stdout",
     "output_type": "stream",
     "text": [
      "0\n",
      "Not enough patients for cohort Folic Acid_Metoprolol\n",
      "Cohort was deleted with exit status 204 \n",
      "A cohort with the same name already exists, please choose another name\n"
     ]
    },
    {
     "name": "stderr",
     "output_type": "stream",
     "text": [
      "\r",
      " 95%|█████████▌| 190/200 [11:13<00:35,  3.52s/it]"
     ]
    },
    {
     "name": "stdout",
     "output_type": "stream",
     "text": [
      "0\n",
      "Not enough patients for cohort Folic Acid_Aspirin\n",
      "Cohort was deleted with exit status 204 \n",
      "A cohort with the same name already exists, please choose another name\n"
     ]
    },
    {
     "name": "stderr",
     "output_type": "stream",
     "text": [
      "\r",
      " 96%|█████████▌| 191/200 [11:17<00:32,  3.61s/it]"
     ]
    },
    {
     "name": "stdout",
     "output_type": "stream",
     "text": [
      "0\n",
      "Not enough patients for cohort Folic Acid_Furosemide\n",
      "Cohort was deleted with exit status 204 \n",
      "A cohort with the same name already exists, please choose another name\n"
     ]
    },
    {
     "name": "stderr",
     "output_type": "stream",
     "text": [
      "\r",
      " 96%|█████████▌| 192/200 [11:20<00:27,  3.39s/it]"
     ]
    },
    {
     "name": "stdout",
     "output_type": "stream",
     "text": [
      "0\n",
      "Not enough patients for cohort Potassium Chloride_Simvastatin\n",
      "Cohort was deleted with exit status 204 \n",
      "A cohort with the same name already exists, please choose another name\n"
     ]
    },
    {
     "name": "stderr",
     "output_type": "stream",
     "text": [
      "\r",
      " 96%|█████████▋| 193/200 [11:24<00:23,  3.41s/it]"
     ]
    },
    {
     "name": "stdout",
     "output_type": "stream",
     "text": [
      "0\n",
      "Not enough patients for cohort Potassium Chloride_levothyroxine\n",
      "Cohort was deleted with exit status 204 \n",
      "A cohort with the same name already exists, please choose another name\n"
     ]
    },
    {
     "name": "stderr",
     "output_type": "stream",
     "text": [
      "\r",
      " 97%|█████████▋| 194/200 [11:27<00:20,  3.48s/it]"
     ]
    },
    {
     "name": "stdout",
     "output_type": "stream",
     "text": [
      "0\n",
      "Not enough patients for cohort Potassium Chloride_carvedilol\n",
      "Cohort was deleted with exit status 204 \n",
      "A cohort with the same name already exists, please choose another name\n"
     ]
    },
    {
     "name": "stderr",
     "output_type": "stream",
     "text": [
      "\r",
      " 98%|█████████▊| 195/200 [11:31<00:17,  3.60s/it]"
     ]
    },
    {
     "name": "stdout",
     "output_type": "stream",
     "text": [
      "0\n",
      "Not enough patients for cohort Potassium Chloride_Warfarin\n",
      "Cohort was deleted with exit status 204 \n",
      "A cohort with the same name already exists, please choose another name\n"
     ]
    },
    {
     "name": "stderr",
     "output_type": "stream",
     "text": [
      "\r",
      " 98%|█████████▊| 196/200 [11:34<00:13,  3.41s/it]"
     ]
    },
    {
     "name": "stdout",
     "output_type": "stream",
     "text": [
      "0\n",
      "Not enough patients for cohort Potassium Chloride_Furosemide\n",
      "Cohort was deleted with exit status 204 \n",
      "A cohort with the same name already exists, please choose another name\n"
     ]
    },
    {
     "name": "stderr",
     "output_type": "stream",
     "text": [
      "\r",
      " 98%|█████████▊| 197/200 [11:38<00:10,  3.42s/it]"
     ]
    },
    {
     "name": "stdout",
     "output_type": "stream",
     "text": [
      "0\n",
      "Not enough patients for cohort Potassium Chloride_Esomeprazole\n",
      "Cohort was deleted with exit status 204 \n",
      "A cohort with the same name already exists, please choose another name\n"
     ]
    },
    {
     "name": "stderr",
     "output_type": "stream",
     "text": [
      "\r",
      " 99%|█████████▉| 198/200 [11:41<00:07,  3.50s/it]"
     ]
    },
    {
     "name": "stdout",
     "output_type": "stream",
     "text": [
      "0\n",
      "Not enough patients for cohort Calcium_atorvastatin\n",
      "Cohort was deleted with exit status 204 \n",
      "A cohort with the same name already exists, please choose another name\n"
     ]
    },
    {
     "name": "stderr",
     "output_type": "stream",
     "text": [
      "\r",
      "100%|█████████▉| 199/200 [11:45<00:03,  3.68s/it]"
     ]
    },
    {
     "name": "stdout",
     "output_type": "stream",
     "text": [
      "0\n",
      "Not enough patients for cohort Vitamin D_Vitamin A\n",
      "Cohort was deleted with exit status 204 \n",
      "A cohort with the same name already exists, please choose another name\n"
     ]
    },
    {
     "name": "stderr",
     "output_type": "stream",
     "text": [
      "\r",
      "100%|██████████| 200/200 [11:48<00:00,  3.41s/it]"
     ]
    },
    {
     "name": "stdout",
     "output_type": "stream",
     "text": [
      "38\n",
      "Enough patients for cohort Alendronate_irbesartan\n"
     ]
    },
    {
     "name": "stderr",
     "output_type": "stream",
     "text": [
      "\n"
     ]
    }
   ],
   "source": [
    "# Retrieve patient information for the top 50 ddi predictions\n",
    "qualifying_drugpairs = list()\n",
    "\n",
    "for drugpair in tqdm(top_ddi):\n",
    "    \n",
    "    # Creation of the first cohort with exposure to both drugs of the drugpair within 7 days\n",
    "    concept1 = ohdsi.get_concept_info(drugpair[0])\n",
    "    concept2 = ohdsi.get_concept_info(drugpair[1])\n",
    "    \n",
    "    data = ohdsi.cohort_definition_2D(concept1, concept2)\n",
    "    status = ohdsi.create_cohort(data)\n",
    "    \n",
    "    # Update the mapping dicionaries\n",
    "    cohorts = ohdsi.get_cohorts()\n",
    "    for cohort in cohorts:\n",
    "        if cohort['name'] == \"%s_%s\"%(concept1[\"CONCEPT_NAME\"],concept2[\"CONCEPT_NAME\"]):\n",
    "            map_id_name[cohort['id']] =  cohort['name']\n",
    "            map_name_id[cohort['name']] = cohort['id']\n",
    "    \n",
    "    cohort_id = map_name_id[\"%s_%s\"%(concept1[\"CONCEPT_NAME\"],concept2[\"CONCEPT_NAME\"])]\n",
    "    info = ohdsi.generate_cohort(cohort_id)\n",
    "    \n",
    "    patients = ohdsi.getAlldistinctPatients(cohort_id)\n",
    "    print len(patients)\n",
    "    \n",
    "    if(len(patients)<30):\n",
    "        print \"Not enough patients for cohort %s_%s\" %(concept1[\"CONCEPT_NAME\"],concept2[\"CONCEPT_NAME\"])\n",
    "        status_delete = ohdsi.delete_cohort(cohort_id)\n",
    "    else:\n",
    "        print \"Enough patients for cohort %s_%s\" %(concept1[\"CONCEPT_NAME\"],concept2[\"CONCEPT_NAME\"])\n",
    "        qualifying_drugpairs.append(drugpair)"
   ]
  },
  {
   "cell_type": "code",
   "execution_count": 70,
   "metadata": {},
   "outputs": [
    {
     "name": "stdout",
     "output_type": "stream",
     "text": [
      "54\n",
      "Calcium Carbonate Enalapril\n",
      "atorvastatin Alprazolam\n",
      "rosuvastatin Lisinopril\n"
     ]
    }
   ],
   "source": [
    "print len(qualifying_drugpairs)\n",
    "#print qualifying_drugpairs\n",
    "print concept2name[qualifying_drugpairs[0][0]], concept2name[qualifying_drugpairs[0][1]]\n",
    "print concept2name[qualifying_drugpairs[1][0]], concept2name[qualifying_drugpairs[1][1]]\n",
    "print concept2name[qualifying_drugpairs[2][0]], concept2name[qualifying_drugpairs[2][1]]"
   ]
  },
  {
   "cell_type": "markdown",
   "metadata": {},
   "source": [
    "## Corroborate drugpair predictions using clinical data"
   ]
  },
  {
   "cell_type": "code",
   "execution_count": null,
   "metadata": {
    "collapsed": true
   },
   "outputs": [],
   "source": [
    "#Get all patients exposed to one drug alone \n",
    "# + with blood pressure measurements within 30 days before and after the intake of drug\n"
   ]
  },
  {
   "cell_type": "code",
   "execution_count": 68,
   "metadata": {
    "collapsed": true
   },
   "outputs": [],
   "source": [
    "# Assess significance of the difference in values of BP for drugpair and control groups using Mann-Whitney U test\n",
    "from scipy.stats import mannwhitneyu"
   ]
  },
  {
   "cell_type": "code",
   "execution_count": 69,
   "metadata": {
    "collapsed": true
   },
   "outputs": [],
   "source": [
    "# Correct for multiple hypothesis testing using Bonferroni's method"
   ]
  },
  {
   "cell_type": "code",
   "execution_count": null,
   "metadata": {
    "collapsed": true
   },
   "outputs": [],
   "source": []
  }
 ],
 "metadata": {
  "kernelspec": {
   "display_name": "Python 2",
   "language": "python",
   "name": "python2"
  },
  "language_info": {
   "codemirror_mode": {
    "name": "ipython",
    "version": 2
   },
   "file_extension": ".py",
   "mimetype": "text/x-python",
   "name": "python",
   "nbconvert_exporter": "python",
   "pygments_lexer": "ipython2",
   "version": "2.7.12"
  }
 },
 "nbformat": 4,
 "nbformat_minor": 2
}
